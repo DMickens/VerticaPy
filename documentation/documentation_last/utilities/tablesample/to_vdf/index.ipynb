{
 "cells": [
  {
   "cell_type": "markdown",
   "metadata": {},
   "source": [
    "# tablesample.to_vdf"
   ]
  },
  {
   "cell_type": "code",
   "execution_count": null,
   "metadata": {},
   "outputs": [],
   "source": [
    "tablesample.to_vdf(cursor = None, \n",
    "                   dsn: str = \"\")"
   ]
  },
  {
   "cell_type": "markdown",
   "metadata": {},
   "source": [
    "Converts the tablesample to a vDataFrame.\n",
    "\n",
    "### Parameters\n",
    "\n",
    "<table id=\"parameters\">\n",
    "    <tr> <th>Name</th> <th>Type</th> <th>Optional</th> <th>Description</th> </tr>\n",
    "    <tr> <td><div class=\"param_name\">cursor</div></td> <td><div class=\"type\">DBcursor</div></td> <td><div class = \"yes\">&#10003;</div></td> <td>Vertica DB cursor.</td> </tr>\n",
    "    <tr> <td><div class=\"param_name\">dsn</div></td> <td><div class=\"type\">str</div></td> <td><div class = \"yes\">&#10003;</div></td> <td>Data Base DSN.</td> </tr>\n",
    "</table>"
   ]
  },
  {
   "cell_type": "markdown",
   "metadata": {},
   "source": [
    "### Returns\n",
    "\n",
    "<b>vDataFrame</b> : vDataFrame of the tablesample.\n",
    "\n",
    "### Example"
   ]
  },
  {
   "cell_type": "code",
   "execution_count": 26,
   "metadata": {
    "scrolled": false
   },
   "outputs": [
    {
     "data": {
      "text/html": [
       "<table style=\"border-collapse: collapse; border: 2px solid white\"><tr style=\"{border: 1px solid white;}\"><td style=\"border-bottom: 1px solid #DDD;font-size:1.02em;background-color:#263133;color:white\"><b></b></td><td style=\"font-size:1.02em;background-color:#263133;color:white\"><b>region</b></td><td style=\"font-size:1.02em;background-color:#263133;color:white\"><b>price</b></td><td style=\"font-size:1.02em;background-color:#263133;color:white\"><b>quality</b></td></tr><tr style=\"{border: 1px solid white;}\"><td style=\"border-bottom: 1px solid #DDD;font-size:1.02em;background-color:#263133;color:white\"><b>Banana</b></td><td style=\"border: 1px solid white;\">Brazil</td><td style=\"border: 1px solid white;\">2.3</td><td style=\"border: 1px solid white;\">2</td></tr><tr style=\"{border: 1px solid white;}\"><td style=\"border-bottom: 1px solid #DDD;font-size:1.02em;background-color:#263133;color:white\"><b>Manguo</b></td><td style=\"border: 1px solid white;\">Columbia</td><td style=\"border: 1px solid white;\">6.7</td><td style=\"border: 1px solid white;\">5</td></tr><tr style=\"{border: 1px solid white;}\"><td style=\"border-bottom: 1px solid #DDD;font-size:1.02em;background-color:#263133;color:white\"><b>Apple</b></td><td style=\"border: 1px solid white;\">France</td><td style=\"border: 1px solid white;\">1.5</td><td style=\"border: 1px solid white;\">2</td></tr></table>"
      ],
      "text/plain": [
       "<IPython.core.display.HTML object>"
      ]
     },
     "metadata": {},
     "output_type": "display_data"
    },
    {
     "name": "stdout",
     "output_type": "stream",
     "text": [
      "<object>  Name: Fruits, Number of rows: 3, Number of columns: 4\n"
     ]
    }
   ],
   "source": [
    "from verticapy.utilities import *\n",
    "dataset = tablesample(values = {\"index\": [\"region\", \"price\", \"quality\"],\n",
    "                                \"Banana\": [\"Brazil\", 2.3, 2],\n",
    "                                \"Manguo\": [\"Columbia\", 6.7, 5],\n",
    "                                \"Apple\": [\"France\", 1.5, 2]},\n",
    "                      name = \"Fruits\").transpose()\n",
    "print(dataset)"
   ]
  },
  {
   "cell_type": "code",
   "execution_count": 27,
   "metadata": {},
   "outputs": [
    {
     "data": {
      "text/html": [
       "<table style=\"border-collapse: collapse; border: 2px solid white\"><tr style=\"{border: 1px solid white;}\"><td style=\"border-bottom: 1px solid #DDD;font-size:1.02em;background-color:#263133;color:white\"><b></b></td><td style=\"font-size:1.02em;background-color:#263133;color:white\"><b>region</b></td><td style=\"font-size:1.02em;background-color:#263133;color:white\"><b>price</b></td><td style=\"font-size:1.02em;background-color:#263133;color:white\"><b>quality</b></td></tr><tr style=\"{border: 1px solid white;}\"><td style=\"border-bottom: 1px solid #DDD;font-size:1.02em;background-color:#263133;color:white\"><b>Banana</b></td><td style=\"border: 1px solid white;\">Brazil</td><td style=\"border: 1px solid white;\">2.3</td><td style=\"border: 1px solid white;\">2</td></tr><tr style=\"{border: 1px solid white;}\"><td style=\"border-bottom: 1px solid #DDD;font-size:1.02em;background-color:#263133;color:white\"><b>Manguo</b></td><td style=\"border: 1px solid white;\">Columbia</td><td style=\"border: 1px solid white;\">6.7</td><td style=\"border: 1px solid white;\">5</td></tr><tr style=\"{border: 1px solid white;}\"><td style=\"border-bottom: 1px solid #DDD;font-size:1.02em;background-color:#263133;color:white\"><b>Apple</b></td><td style=\"border: 1px solid white;\">France</td><td style=\"border: 1px solid white;\">1.5</td><td style=\"border: 1px solid white;\">2</td></tr></table>"
      ],
      "text/plain": [
       "<IPython.core.display.HTML object>"
      ]
     },
     "metadata": {},
     "output_type": "display_data"
    },
    {
     "name": "stdout",
     "output_type": "stream",
     "text": [
      "<object>  Name: vdf, Number of rows: 3, Number of columns: 4\n"
     ]
    }
   ],
   "source": [
    "print(dataset.to_vdf())"
   ]
  }
 ],
 "metadata": {
  "kernelspec": {
   "display_name": "Python 3",
   "language": "python",
   "name": "python3"
  },
  "language_info": {
   "codemirror_mode": {
    "name": "ipython",
    "version": 3
   },
   "file_extension": ".py",
   "mimetype": "text/x-python",
   "name": "python",
   "nbconvert_exporter": "python",
   "pygments_lexer": "ipython3",
   "version": "3.6.3"
  }
 },
 "nbformat": 4,
 "nbformat_minor": 2
}
