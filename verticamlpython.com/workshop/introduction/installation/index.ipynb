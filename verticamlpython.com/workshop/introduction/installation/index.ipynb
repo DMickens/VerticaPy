{
 "cells": [
  {
   "cell_type": "markdown",
   "metadata": {},
   "source": [
    "# Welcome"
   ]
  },
  {
   "cell_type": "markdown",
   "metadata": {},
   "source": [
    "<center>\n",
    "  <img src=\"../../../img/Badr.jpg\" width=\"30%\" style=\"min-width: 300px;\">\n",
    "</center>\n",
    "\n",
    "Welcome to the Vertica ML Python lessons web pages. My name is Badr Ouali and I will try to guide you through the Data Science life cycle. I will introduce you the different functionalities of the Vertica ML Python library. \n",
    "\n",
    "During the different lessons, we will also work on the different notions important to know to fulfill the Data Science journey. All the lessons will never take you more than 10 minutes (except the Vertica Installation and Configuration in case you do not have access to a Vertica cluster) so try to read all the content to not miss an important part.\n",
    "\n",
    "To enjoy these lessons, you must first set-up the environment."
   ]
  },
  {
   "cell_type": "markdown",
   "metadata": {},
   "source": [
    "# Setting Up the environment"
   ]
  },
  {
   "cell_type": "markdown",
   "metadata": {},
   "source": [
    "To start playing with the Vertica ML Python Module, you must:\n",
    " - Have access to a Machine where Vertica is installed\n",
    " - Install Python in your Machine\n",
    " - Install Vertica ML Python\n",
    "\n",
    "When everything is ready, you must connect to the Vertica DataBase. Different types of cursors are available:\n",
    " - Native (with vertica_python)\n",
    " - ODBC (with pyodbc)\n",
    " - JDBC (with jaydebeapi)\n",
    "\n",
    "All the steps are explained in the <a href=\"../../../installation.php\">Installation Page</a>.\n",
    "\n",
    "# First Steps\n",
    "\n",
    "Let's create for example a connection using vertica_python."
   ]
  },
  {
   "cell_type": "code",
   "execution_count": 6,
   "metadata": {},
   "outputs": [],
   "source": [
    "import vertica_python\n",
    "\n",
    "# Connection using all the DSN information\n",
    "conn_info = {'host': \"10.211.55.14\", \n",
    "             'port': 5433, \n",
    "             'user': \"dbadmin\", \n",
    "             'password': \"XxX\", \n",
    "             'database': \"testdb\"}\n",
    "cur = vertica_python.connect(** conn_info).cursor()"
   ]
  },
  {
   "cell_type": "markdown",
   "metadata": {},
   "source": [
    "Most of the functions will use a DB cursor to query the DataBase. That's why it is possible to save a connection in the Vertica ML Python folder."
   ]
  },
  {
   "cell_type": "code",
   "execution_count": 7,
   "metadata": {},
   "outputs": [],
   "source": [
    "from vertica_ml_python.connections.connect import *\n",
    "# Save a new connection\n",
    "new_auto_connection({\"host\": \"10.211.55.14\", \n",
    "                     \"port\": \"5433\", \n",
    "                     \"database\": \"testdb\", \n",
    "                     \"password\": \"XxX\", \n",
    "                     \"user\": \"dbadmin\"},\n",
    "                    method = \"jaydebeapi\", \n",
    "                    name = \"VerticaDSN\")\n",
    "# Set the main auto connection\n",
    "change_auto_connection(\"VerticaDSN\")"
   ]
  },
  {
   "cell_type": "markdown",
   "metadata": {},
   "source": [
    "When no cursor is defined, Vertica ML Python will automatically create a new one using the saved credentials. Be Careful when using auto-connection as some connections may not be closed which can lead to an increase of the number of user sesssions (high concurrency). It can be used when the Vertica Cluster do not have many users.\n",
    "\n",
    "As you noticed in the previous code, some parameters may have a specific format. The help module will summarize all the different parameters without going through the entire documentation."
   ]
  },
  {
   "cell_type": "code",
   "execution_count": 8,
   "metadata": {},
   "outputs": [
    {
     "name": "stdout",
     "output_type": "stream",
     "text": [
      "Help on function new_auto_connection in module vertica_ml_python.connections.connect:\n",
      "\n",
      "new_auto_connection(dsn:dict, method:str='auto', name:str='VML')\n",
      "    ---------------------------------------------------------------------------\n",
      "    Saves a connection to automatically create DB cursors. It will create a \n",
      "    file which will be used to automatically set up a connection when \n",
      "    it is needed. It helps you to avoid redundant cursors creation.\n",
      "    \n",
      "    Parameters\n",
      "    ----------\n",
      "    dsn: dict\n",
      "            Dictionnary containing the information to set up the connection.\n",
      "                    database : Database Name\n",
      "                    driver   : ODBC driver (only for pyodbc)\n",
      "                    host     : Server ID\n",
      "                    password : User Password\n",
      "                    port     : Database Port (optional, default: 5433)\n",
      "                    user     : User ID (optional, default: dbadmin)\n",
      "    method: str, optional\n",
      "            Method used to save the connection.\n",
      "            auto           : uses vertica_python if vertica_python installed, \n",
      "                    otherwise pyodbc, otherwise jaydebeapi.\n",
      "            pyodbc         : ODBC.\n",
      "            jaydebeapi     : JDBC.\n",
      "            vertica_python : Vertica Python Native Client (recommended).\n",
      "    name: str, optional\n",
      "            Name of the auto connection.\n",
      "    \n",
      "    See Also\n",
      "    --------\n",
      "    change_auto_connection : Changes the current auto creation.\n",
      "    read_auto_connect      : Automatically creates a connection.\n",
      "    vertica_cursor         : Creates a Vertica Database cursor using the input method.\n",
      "\n"
     ]
    }
   ],
   "source": [
    "help(new_auto_connection)"
   ]
  },
  {
   "cell_type": "markdown",
   "metadata": {},
   "source": [
    "You have also access to the vHelp function which can help you to find the answers to numerous questions."
   ]
  },
  {
   "cell_type": "code",
   "execution_count": 9,
   "metadata": {},
   "outputs": [
    {
     "data": {
      "text/markdown": [
       "<center><img src='https://raw.githubusercontent.com/vertica/Vertica-ML-Python/master/img/logo.png' width=\"180px\"></center>\n",
       "\n",
       "&#128226; Welcome to the <b>VERTICA ML PYTHON</b> help Module. You are about to use a new fantastic way to analyze your data !\n",
       "\n",
       "You can learn quickly how to set up a connection, how to create a Virtual DataFrame and much more.\n",
       "\n",
       "What do you want to know?\n",
       " - <b>[Enter  0]</b> Do you want to know why you should use this library ?\n",
       " - <b>[Enter  1]</b> Do you want to know how to connect to your Vertica Database using Python and to Create a Virtual DataFrame ?\n",
       " - <b>[Enter  2]</b> Do you want to know if your Vertica Version is compatible with the API ?\n",
       " - <b>[Enter  3]</b> You don't have data to play with and you want to load an available dataset ?\n",
       " - <b>[Enter  4]</b> Do you want to know other modules which can make your Data Science experience more complete ?\n",
       " - <b>[Enter  5]</b> Do you want to look at a quick example ?\n",
       " - <b>[Enter  6]</b> Do you want to look at the different functions available ?\n",
       " - <b>[Enter  7]</b> Do you want to get a link to the VERTICA ML PYTHON wiki ?\n",
       " - <b>[Enter  8]</b> Do you want to know how to display the Virtual DataFrame SQL code generation and the time elapsed to run the query ?\n",
       " - <b>[Enter  9]</b> Do you want to know how to load your own dataset inside Vertica ?\n",
       " - <b>[Enter 10]</b> Do you want to know how you writing direct SQL queries in Jupyter ?\n",
       " - <b>[Enter 11]</b> Do you want to know how you could read and write using specific schemas ?\n",
       " - <b>[Enter -1]</b> Exit"
      ],
      "text/plain": [
       "<IPython.core.display.Markdown object>"
      ]
     },
     "metadata": {},
     "output_type": "display_data"
    },
    {
     "name": "stdout",
     "output_type": "stream",
     "text": [
      "-1\n"
     ]
    },
    {
     "data": {
      "text/markdown": [
       "Thank you for using the VERTICA ML PYTHON help."
      ],
      "text/plain": [
       "<IPython.core.display.Markdown object>"
      ]
     },
     "metadata": {},
     "output_type": "display_data"
    }
   ],
   "source": [
    "from vertica_ml_python.utilities import vHelp\n",
    "vHelp()"
   ]
  },
  {
   "cell_type": "markdown",
   "metadata": {},
   "source": [
    "You can now start playing with the Library functionalities !"
   ]
  }
 ],
 "metadata": {
  "kernelspec": {
   "display_name": "Python 3",
   "language": "python",
   "name": "python3"
  },
  "language_info": {
   "codemirror_mode": {
    "name": "ipython",
    "version": 3
   },
   "file_extension": ".py",
   "mimetype": "text/x-python",
   "name": "python",
   "nbconvert_exporter": "python",
   "pygments_lexer": "ipython3",
   "version": "3.6.3"
  }
 },
 "nbformat": 4,
 "nbformat_minor": 2
}
