{
 "cells": [
  {
   "cell_type": "markdown",
   "metadata": {},
   "source": [
    "# Descriptive Statistics"
   ]
  },
  {
   "cell_type": "markdown",
   "metadata": {},
   "source": [
    "The easiest way to understand the data is to aggregate. \n",
    "An aggregation is a number or a category which summarizes the data. Vertica ML Python allows the computation of all the well known aggregation in one line.\n",
    "\n",
    "Using the 'agg' method is the best way to compute multiple aggregations on multiple columns at the same time."
   ]
  },
  {
   "cell_type": "code",
   "execution_count": 32,
   "metadata": {},
   "outputs": [
    {
     "name": "stdout",
     "output_type": "stream",
     "text": [
      "Help on function agg in module vertica_ml_python.vdataframe:\n",
      "\n",
      "agg(self, func:list, columns:list=[])\n",
      "    ---------------------------------------------------------------------------\n",
      "    Aggregates the vDataFrame using the input functions.\n",
      "    \n",
      "    Parameters\n",
      "    ----------\n",
      "    func: list\n",
      "            List of the different aggregation.\n",
      "                    approx_unique  : approximative cardinality\n",
      "                    count          : number of non-missing elements\n",
      "                    cvar           : conditional value at risk\n",
      "                    dtype          : virtual column type\n",
      "                    iqr            : interquartile range\n",
      "                    kurtosis       : kurtosis\n",
      "                    jb             : Jarque Bera index \n",
      "                    mad            : median absolute deviation\n",
      "                    mae            : mean absolute error (deviation)\n",
      "                    max            : maximum\n",
      "                    mean           : average\n",
      "                    median         : median\n",
      "                    min            : minimum\n",
      "                    mode           : most occurent element\n",
      "                    percent        : percent of non-missing elements\n",
      "                    q%             : q quantile (ex: 50% for the median)\n",
      "                    prod           : product\n",
      "                    range          : difference between the max and the min\n",
      "                    sem            : standard error of the mean\n",
      "                    skewness       : skewness\n",
      "                    sum            : sum\n",
      "                    std            : standard deviation\n",
      "                    topk           : kth most occurent element (ex: top1 for the mode)\n",
      "                    topk_percent   : kth most occurent element density\n",
      "                    unique         : cardinality (count distinct)\n",
      "                    var            : variance\n",
      "                            Other aggregations could work if it is part of \n",
      "                            the DB version you are using.\n",
      "    columns: list, optional\n",
      "            List of the vcolumns names. If empty, all the vcolumns \n",
      "            or only numerical vcolumns will be used depending on the\n",
      "            aggregations.\n",
      "    \n",
      "    Returns\n",
      "    -------\n",
      "    tablesample\n",
      "            An object containing the result. For more information, check out\n",
      "            utilities.tablesample.\n",
      "    \n",
      "    See Also\n",
      "    --------\n",
      "    vDataFrame.analytic : Adds a new vcolumn to the vDataFrame by using an advanced \n",
      "            analytical function on a specific vcolumn.\n",
      "\n"
     ]
    }
   ],
   "source": [
    "from vertica_ml_python import *\n",
    "help(vDataFrame.agg)"
   ]
  },
  {
   "cell_type": "markdown",
   "metadata": {},
   "source": [
    "This function will help you understanding your data."
   ]
  },
  {
   "cell_type": "code",
   "execution_count": 36,
   "metadata": {},
   "outputs": [
    {
     "data": {
      "text/html": [
       "<table style=\"border-collapse: collapse; border: 2px solid white\"><tr style=\"{border: 1px solid white;}\"><td style=\"border-bottom: 1px solid #DDD;font-size:1.02em;background-color:#214579;color:white\"><b></b></td><td style=\"font-size:1.02em;background-color:#214579;color:white\"><b>min</b></td><td style=\"font-size:1.02em;background-color:#214579;color:white\"><b>10%</b></td><td style=\"font-size:1.02em;background-color:#214579;color:white\"><b>median</b></td><td style=\"font-size:1.02em;background-color:#214579;color:white\"><b>90%</b></td><td style=\"font-size:1.02em;background-color:#214579;color:white\"><b>max</b></td><td style=\"font-size:1.02em;background-color:#214579;color:white\"><b>kurtosis</b></td><td style=\"font-size:1.02em;background-color:#214579;color:white\"><b>unique</b></td></tr><tr style=\"{border: 1px solid white;}\"><td style=\"border-bottom: 1px solid #DDD;font-size:1.02em;background-color:#214579;color:white\"><b>\"Churn\"</b></td><td style=\"border: 1px solid white;\">0</td><td style=\"border: 1px solid white;\">0.0</td><td style=\"border: 1px solid white;\">0.0</td><td style=\"border: 1px solid white;\">1.0</td><td style=\"border: 1px solid white;\">1</td><td style=\"border: 1px solid white;\">-0.870211342331981</td><td style=\"border: 1px solid white;\">2</td></tr><tr style=\"{border: 1px solid white;}\"><td style=\"border-bottom: 1px solid #DDD;font-size:1.02em;background-color:#214579;color:white\"><b>\"TotalCharges\"</b></td><td style=\"border: 1px solid white;\">18.8</td><td style=\"border: 1px solid white;\">84.445</td><td style=\"border: 1px solid white;\">1397.475</td><td style=\"border: 1px solid white;\">5985.4476923077</td><td style=\"border: 1px solid white;\">8684.8</td><td style=\"border: 1px solid white;\">-0.231798760869362</td><td style=\"border: 1px solid white;\">6530</td></tr><tr style=\"{border: 1px solid white;}\"><td style=\"border-bottom: 1px solid #DDD;font-size:1.02em;background-color:#214579;color:white\"><b>\"tenure\"</b></td><td style=\"border: 1px solid white;\">0</td><td style=\"border: 1px solid white;\">2.0</td><td style=\"border: 1px solid white;\">29.0</td><td style=\"border: 1px solid white;\">69.0</td><td style=\"border: 1px solid white;\">72</td><td style=\"border: 1px solid white;\">-1.38737163597169</td><td style=\"border: 1px solid white;\">73</td></tr><tr style=\"{border: 1px solid white;}\"><td style=\"border-bottom: 1px solid #DDD;font-size:1.02em;background-color:#214579;color:white\"><b>\"Dependents\"</b></td><td style=\"border: 1px solid white;\">0</td><td style=\"border: 1px solid white;\">0.0</td><td style=\"border: 1px solid white;\">0.0</td><td style=\"border: 1px solid white;\">1.0</td><td style=\"border: 1px solid white;\">1</td><td style=\"border: 1px solid white;\">-1.2343780571695</td><td style=\"border: 1px solid white;\">2</td></tr><tr style=\"{border: 1px solid white;}\"><td style=\"border-bottom: 1px solid #DDD;font-size:1.02em;background-color:#214579;color:white\"><b>\"MonthlyCharges\"</b></td><td style=\"border: 1px solid white;\">18.25</td><td style=\"border: 1px solid white;\">20.05</td><td style=\"border: 1px solid white;\">70.3214285714286</td><td style=\"border: 1px solid white;\">102.6</td><td style=\"border: 1px solid white;\">118.75</td><td style=\"border: 1px solid white;\">-1.25725969454951</td><td style=\"border: 1px solid white;\">1585</td></tr><tr style=\"{border: 1px solid white;}\"><td style=\"border-bottom: 1px solid #DDD;font-size:1.02em;background-color:#214579;color:white\"><b>\"PhoneService\"</b></td><td style=\"border: 1px solid white;\">0</td><td style=\"border: 1px solid white;\">1.0</td><td style=\"border: 1px solid white;\">1.0</td><td style=\"border: 1px solid white;\">1.0</td><td style=\"border: 1px solid white;\">1</td><td style=\"border: 1px solid white;\">5.43890755508706</td><td style=\"border: 1px solid white;\">2</td></tr><tr style=\"{border: 1px solid white;}\"><td style=\"border-bottom: 1px solid #DDD;font-size:1.02em;background-color:#214579;color:white\"><b>\"PaperlessBilling\"</b></td><td style=\"border: 1px solid white;\">0</td><td style=\"border: 1px solid white;\">0.0</td><td style=\"border: 1px solid white;\">1.0</td><td style=\"border: 1px solid white;\">1.0</td><td style=\"border: 1px solid white;\">1</td><td style=\"border: 1px solid white;\">-1.85960618560884</td><td style=\"border: 1px solid white;\">2</td></tr><tr style=\"{border: 1px solid white;}\"><td style=\"border-bottom: 1px solid #DDD;font-size:1.02em;background-color:#214579;color:white\"><b>\"SeniorCitizen\"</b></td><td style=\"border: 1px solid white;\">0</td><td style=\"border: 1px solid white;\">0.0</td><td style=\"border: 1px solid white;\">0.0</td><td style=\"border: 1px solid white;\">1.0</td><td style=\"border: 1px solid white;\">1</td><td style=\"border: 1px solid white;\">1.36259589579391</td><td style=\"border: 1px solid white;\">2</td></tr><tr style=\"{border: 1px solid white;}\"><td style=\"border-bottom: 1px solid #DDD;font-size:1.02em;background-color:#214579;color:white\"><b>\"Partner\"</b></td><td style=\"border: 1px solid white;\">0</td><td style=\"border: 1px solid white;\">0.0</td><td style=\"border: 1px solid white;\">0.0</td><td style=\"border: 1px solid white;\">1.0</td><td style=\"border: 1px solid white;\">1</td><td style=\"border: 1px solid white;\">-1.9959534211947</td><td style=\"border: 1px solid white;\">2</td></tr></table>"
      ],
      "text/plain": [
       "<IPython.core.display.HTML object>"
      ]
     },
     "metadata": {},
     "output_type": "display_data"
    },
    {
     "data": {
      "text/plain": [
       "<object>"
      ]
     },
     "execution_count": 36,
     "metadata": {},
     "output_type": "execute_result"
    }
   ],
   "source": [
    "vdf = vDataFrame(\"public.churn\")\n",
    "vdf.agg(func = [\"min\", \"10%\", \"median\", \"90%\", \"max\", \"kurtosis\", \"unique\"])"
   ]
  },
  {
   "cell_type": "markdown",
   "metadata": {},
   "source": [
    "Some other methods are abstractions of the 'agg' method. They will simplify the call to specific aggregations computations. You can use the 'statistics' method to get in one line the most useful quantiles and other important statistics."
   ]
  },
  {
   "cell_type": "code",
   "execution_count": 37,
   "metadata": {},
   "outputs": [
    {
     "data": {
      "text/html": [
       "<table style=\"border-collapse: collapse; border: 2px solid white\"><tr style=\"{border: 1px solid white;}\"><td style=\"border-bottom: 1px solid #DDD;font-size:1.02em;background-color:#214579;color:white\"><b></b></td><td style=\"font-size:1.02em;background-color:#214579;color:white\"><b>skewness</b></td><td style=\"font-size:1.02em;background-color:#214579;color:white\"><b>kurtosis</b></td><td style=\"font-size:1.02em;background-color:#214579;color:white\"><b>count</b></td><td style=\"font-size:1.02em;background-color:#214579;color:white\"><b>avg</b></td><td style=\"font-size:1.02em;background-color:#214579;color:white\"><b>stddev</b></td><td style=\"font-size:1.02em;background-color:#214579;color:white\"><b>min</b></td><td style=\"font-size:1.02em;background-color:#214579;color:white\"><b>10%</b></td><td style=\"font-size:1.02em;background-color:#214579;color:white\"><b>25%</b></td><td style=\"font-size:1.02em;background-color:#214579;color:white\"><b>median</b></td><td style=\"font-size:1.02em;background-color:#214579;color:white\"><b>75%</b></td><td style=\"font-size:1.02em;background-color:#214579;color:white\"><b>90%</b></td><td style=\"font-size:1.02em;background-color:#214579;color:white\"><b>max</b></td></tr><tr style=\"{border: 1px solid white;}\"><td style=\"border-bottom: 1px solid #DDD;font-size:1.02em;background-color:#214579;color:white\"><b>\"Churn\"</b></td><td style=\"border: 1px solid white;\">1.06303144457513</td><td style=\"border: 1px solid white;\">-0.870211342331981</td><td style=\"border: 1px solid white;\">7043.0</td><td style=\"border: 1px solid white;\">0.265369870793696</td><td style=\"border: 1px solid white;\">0.441561305121947</td><td style=\"border: 1px solid white;\">0.0</td><td style=\"border: 1px solid white;\">0.0</td><td style=\"border: 1px solid white;\">0.0</td><td style=\"border: 1px solid white;\">0.0</td><td style=\"border: 1px solid white;\">1.0</td><td style=\"border: 1px solid white;\">1.0</td><td style=\"border: 1px solid white;\">1.0</td></tr><tr style=\"{border: 1px solid white;}\"><td style=\"border-bottom: 1px solid #DDD;font-size:1.02em;background-color:#214579;color:white\"><b>\"TotalCharges\"</b></td><td style=\"border: 1px solid white;\">0.961642499724251</td><td style=\"border: 1px solid white;\">-0.231798760869362</td><td style=\"border: 1px solid white;\">7032.0</td><td style=\"border: 1px solid white;\">2283.30044084187</td><td style=\"border: 1px solid white;\">2266.77136188314</td><td style=\"border: 1px solid white;\">18.8</td><td style=\"border: 1px solid white;\">84.445</td><td style=\"border: 1px solid white;\">402.683333333333</td><td style=\"border: 1px solid white;\">1397.475</td><td style=\"border: 1px solid white;\">3798.2375</td><td style=\"border: 1px solid white;\">5985.4476923077</td><td style=\"border: 1px solid white;\">8684.8</td></tr><tr style=\"{border: 1px solid white;}\"><td style=\"border-bottom: 1px solid #DDD;font-size:1.02em;background-color:#214579;color:white\"><b>\"tenure\"</b></td><td style=\"border: 1px solid white;\">0.239539749561985</td><td style=\"border: 1px solid white;\">-1.38737163597169</td><td style=\"border: 1px solid white;\">7043.0</td><td style=\"border: 1px solid white;\">32.3711486582422</td><td style=\"border: 1px solid white;\">24.5594810230945</td><td style=\"border: 1px solid white;\">0.0</td><td style=\"border: 1px solid white;\">2.0</td><td style=\"border: 1px solid white;\">9.0</td><td style=\"border: 1px solid white;\">29.0</td><td style=\"border: 1px solid white;\">55.0</td><td style=\"border: 1px solid white;\">69.0</td><td style=\"border: 1px solid white;\">72.0</td></tr><tr style=\"{border: 1px solid white;}\"><td style=\"border-bottom: 1px solid #DDD;font-size:1.02em;background-color:#214579;color:white\"><b>\"Dependents\"</b></td><td style=\"border: 1px solid white;\">0.87519857729972</td><td style=\"border: 1px solid white;\">-1.2343780571695</td><td style=\"border: 1px solid white;\">7043.0</td><td style=\"border: 1px solid white;\">0.299588243646173</td><td style=\"border: 1px solid white;\">0.458110167510015</td><td style=\"border: 1px solid white;\">0.0</td><td style=\"border: 1px solid white;\">0.0</td><td style=\"border: 1px solid white;\">0.0</td><td style=\"border: 1px solid white;\">0.0</td><td style=\"border: 1px solid white;\">1.0</td><td style=\"border: 1px solid white;\">1.0</td><td style=\"border: 1px solid white;\">1.0</td></tr><tr style=\"{border: 1px solid white;}\"><td style=\"border-bottom: 1px solid #DDD;font-size:1.02em;background-color:#214579;color:white\"><b>\"MonthlyCharges\"</b></td><td style=\"border: 1px solid white;\">-0.220524433943982</td><td style=\"border: 1px solid white;\">-1.25725969454951</td><td style=\"border: 1px solid white;\">7043.0</td><td style=\"border: 1px solid white;\">64.7616924605992</td><td style=\"border: 1px solid white;\">30.0900470976785</td><td style=\"border: 1px solid white;\">18.25</td><td style=\"border: 1px solid white;\">20.05</td><td style=\"border: 1px solid white;\">35.5</td><td style=\"border: 1px solid white;\">70.3214285714286</td><td style=\"border: 1px solid white;\">89.85</td><td style=\"border: 1px solid white;\">102.6</td><td style=\"border: 1px solid white;\">118.75</td></tr><tr style=\"{border: 1px solid white;}\"><td style=\"border-bottom: 1px solid #DDD;font-size:1.02em;background-color:#214579;color:white\"><b>\"PhoneService\"</b></td><td style=\"border: 1px solid white;\">-2.72715293844056</td><td style=\"border: 1px solid white;\">5.43890755508706</td><td style=\"border: 1px solid white;\">7043.0</td><td style=\"border: 1px solid white;\">0.903166264375976</td><td style=\"border: 1px solid white;\">0.295752231783635</td><td style=\"border: 1px solid white;\">0.0</td><td style=\"border: 1px solid white;\">1.0</td><td style=\"border: 1px solid white;\">1.0</td><td style=\"border: 1px solid white;\">1.0</td><td style=\"border: 1px solid white;\">1.0</td><td style=\"border: 1px solid white;\">1.0</td><td style=\"border: 1px solid white;\">1.0</td></tr><tr style=\"{border: 1px solid white;}\"><td style=\"border-bottom: 1px solid #DDD;font-size:1.02em;background-color:#214579;color:white\"><b>\"PaperlessBilling\"</b></td><td style=\"border: 1px solid white;\">-0.375395747503722</td><td style=\"border: 1px solid white;\">-1.85960618560884</td><td style=\"border: 1px solid white;\">7043.0</td><td style=\"border: 1px solid white;\">0.592219224762175</td><td style=\"border: 1px solid white;\">0.491456924049407</td><td style=\"border: 1px solid white;\">0.0</td><td style=\"border: 1px solid white;\">0.0</td><td style=\"border: 1px solid white;\">0.0</td><td style=\"border: 1px solid white;\">1.0</td><td style=\"border: 1px solid white;\">1.0</td><td style=\"border: 1px solid white;\">1.0</td><td style=\"border: 1px solid white;\">1.0</td></tr><tr style=\"{border: 1px solid white;}\"><td style=\"border-bottom: 1px solid #DDD;font-size:1.02em;background-color:#214579;color:white\"><b>\"SeniorCitizen\"</b></td><td style=\"border: 1px solid white;\">1.83363274409285</td><td style=\"border: 1px solid white;\">1.36259589579391</td><td style=\"border: 1px solid white;\">7043.0</td><td style=\"border: 1px solid white;\">0.162146812437882</td><td style=\"border: 1px solid white;\">0.368611605610013</td><td style=\"border: 1px solid white;\">0.0</td><td style=\"border: 1px solid white;\">0.0</td><td style=\"border: 1px solid white;\">0.0</td><td style=\"border: 1px solid white;\">0.0</td><td style=\"border: 1px solid white;\">0.0</td><td style=\"border: 1px solid white;\">1.0</td><td style=\"border: 1px solid white;\">1.0</td></tr><tr style=\"{border: 1px solid white;}\"><td style=\"border-bottom: 1px solid #DDD;font-size:1.02em;background-color:#214579;color:white\"><b>\"Partner\"</b></td><td style=\"border: 1px solid white;\">0.0679223834263394</td><td style=\"border: 1px solid white;\">-1.9959534211947</td><td style=\"border: 1px solid white;\">7043.0</td><td style=\"border: 1px solid white;\">0.483032798523357</td><td style=\"border: 1px solid white;\">0.499747510719987</td><td style=\"border: 1px solid white;\">0.0</td><td style=\"border: 1px solid white;\">0.0</td><td style=\"border: 1px solid white;\">0.0</td><td style=\"border: 1px solid white;\">0.0</td><td style=\"border: 1px solid white;\">1.0</td><td style=\"border: 1px solid white;\">1.0</td><td style=\"border: 1px solid white;\">1.0</td></tr></table>"
      ],
      "text/plain": [
       "<IPython.core.display.HTML object>"
      ]
     },
     "metadata": {},
     "output_type": "display_data"
    },
    {
     "data": {
      "text/plain": [
       "<object>"
      ]
     },
     "execution_count": 37,
     "metadata": {},
     "output_type": "execute_result"
    }
   ],
   "source": [
    "vdf.statistics()"
   ]
  },
  {
   "cell_type": "markdown",
   "metadata": {},
   "source": [
    "You can use describe which will compute different information according to the input method."
   ]
  },
  {
   "cell_type": "code",
   "execution_count": 38,
   "metadata": {},
   "outputs": [
    {
     "data": {
      "text/html": [
       "<table style=\"border-collapse: collapse; border: 2px solid white\"><tr style=\"{border: 1px solid white;}\"><td style=\"border-bottom: 1px solid #DDD;font-size:1.02em;background-color:#214579;color:white\"><b></b></td><td style=\"font-size:1.02em;background-color:#214579;color:white\"><b>count</b></td><td style=\"font-size:1.02em;background-color:#214579;color:white\"><b>mean</b></td><td style=\"font-size:1.02em;background-color:#214579;color:white\"><b>std</b></td><td style=\"font-size:1.02em;background-color:#214579;color:white\"><b>min</b></td><td style=\"font-size:1.02em;background-color:#214579;color:white\"><b>25%</b></td><td style=\"font-size:1.02em;background-color:#214579;color:white\"><b>50%</b></td><td style=\"font-size:1.02em;background-color:#214579;color:white\"><b>75%</b></td><td style=\"font-size:1.02em;background-color:#214579;color:white\"><b>max</b></td><td style=\"font-size:1.02em;background-color:#214579;color:white\"><b>unique</b></td></tr><tr style=\"{border: 1px solid white;}\"><td style=\"border-bottom: 1px solid #DDD;font-size:1.02em;background-color:#214579;color:white\"><b>Churn</b></td><td style=\"border: 1px solid white;\">7043</td><td style=\"border: 1px solid white;\">0.265369870793696</td><td style=\"border: 1px solid white;\">0.441561305121947</td><td style=\"border: 1px solid white;\">0</td><td style=\"border: 1px solid white;\">0</td><td style=\"border: 1px solid white;\">0</td><td style=\"border: 1px solid white;\">1</td><td style=\"border: 1px solid white;\">1</td><td style=\"border: 1px solid white;\">2.0</td></tr><tr style=\"{border: 1px solid white;}\"><td style=\"border-bottom: 1px solid #DDD;font-size:1.02em;background-color:#214579;color:white\"><b>TotalCharges</b></td><td style=\"border: 1px solid white;\">7032</td><td style=\"border: 1px solid white;\">2283.30044084187</td><td style=\"border: 1px solid white;\">2266.77136188314</td><td style=\"border: 1px solid white;\">18.8</td><td style=\"border: 1px solid white;\">402.683333333333</td><td style=\"border: 1px solid white;\">1397.475</td><td style=\"border: 1px solid white;\">3798.2375</td><td style=\"border: 1px solid white;\">8684.8</td><td style=\"border: 1px solid white;\">6530.0</td></tr><tr style=\"{border: 1px solid white;}\"><td style=\"border-bottom: 1px solid #DDD;font-size:1.02em;background-color:#214579;color:white\"><b>tenure</b></td><td style=\"border: 1px solid white;\">7043</td><td style=\"border: 1px solid white;\">32.3711486582422</td><td style=\"border: 1px solid white;\">24.5594810230945</td><td style=\"border: 1px solid white;\">0</td><td style=\"border: 1px solid white;\">9</td><td style=\"border: 1px solid white;\">29</td><td style=\"border: 1px solid white;\">55</td><td style=\"border: 1px solid white;\">72</td><td style=\"border: 1px solid white;\">73.0</td></tr><tr style=\"{border: 1px solid white;}\"><td style=\"border-bottom: 1px solid #DDD;font-size:1.02em;background-color:#214579;color:white\"><b>Dependents</b></td><td style=\"border: 1px solid white;\">7043</td><td style=\"border: 1px solid white;\">0.299588243646173</td><td style=\"border: 1px solid white;\">0.458110167510015</td><td style=\"border: 1px solid white;\">0</td><td style=\"border: 1px solid white;\">0</td><td style=\"border: 1px solid white;\">0</td><td style=\"border: 1px solid white;\">1</td><td style=\"border: 1px solid white;\">1</td><td style=\"border: 1px solid white;\">2.0</td></tr><tr style=\"{border: 1px solid white;}\"><td style=\"border-bottom: 1px solid #DDD;font-size:1.02em;background-color:#214579;color:white\"><b>MonthlyCharges</b></td><td style=\"border: 1px solid white;\">7043</td><td style=\"border: 1px solid white;\">64.7616924605992</td><td style=\"border: 1px solid white;\">30.0900470976785</td><td style=\"border: 1px solid white;\">18.25</td><td style=\"border: 1px solid white;\">35.5</td><td style=\"border: 1px solid white;\">70.3214285714286</td><td style=\"border: 1px solid white;\">89.85</td><td style=\"border: 1px solid white;\">118.75</td><td style=\"border: 1px solid white;\">1585.0</td></tr><tr style=\"{border: 1px solid white;}\"><td style=\"border-bottom: 1px solid #DDD;font-size:1.02em;background-color:#214579;color:white\"><b>PhoneService</b></td><td style=\"border: 1px solid white;\">7043</td><td style=\"border: 1px solid white;\">0.903166264375976</td><td style=\"border: 1px solid white;\">0.295752231783635</td><td style=\"border: 1px solid white;\">0</td><td style=\"border: 1px solid white;\">1</td><td style=\"border: 1px solid white;\">1</td><td style=\"border: 1px solid white;\">1</td><td style=\"border: 1px solid white;\">1</td><td style=\"border: 1px solid white;\">2.0</td></tr><tr style=\"{border: 1px solid white;}\"><td style=\"border-bottom: 1px solid #DDD;font-size:1.02em;background-color:#214579;color:white\"><b>PaperlessBilling</b></td><td style=\"border: 1px solid white;\">7043</td><td style=\"border: 1px solid white;\">0.592219224762175</td><td style=\"border: 1px solid white;\">0.491456924049407</td><td style=\"border: 1px solid white;\">0</td><td style=\"border: 1px solid white;\">0</td><td style=\"border: 1px solid white;\">1</td><td style=\"border: 1px solid white;\">1</td><td style=\"border: 1px solid white;\">1</td><td style=\"border: 1px solid white;\">2.0</td></tr><tr style=\"{border: 1px solid white;}\"><td style=\"border-bottom: 1px solid #DDD;font-size:1.02em;background-color:#214579;color:white\"><b>SeniorCitizen</b></td><td style=\"border: 1px solid white;\">7043</td><td style=\"border: 1px solid white;\">0.162146812437882</td><td style=\"border: 1px solid white;\">0.368611605610013</td><td style=\"border: 1px solid white;\">0</td><td style=\"border: 1px solid white;\">0</td><td style=\"border: 1px solid white;\">0</td><td style=\"border: 1px solid white;\">0</td><td style=\"border: 1px solid white;\">1</td><td style=\"border: 1px solid white;\">2.0</td></tr><tr style=\"{border: 1px solid white;}\"><td style=\"border-bottom: 1px solid #DDD;font-size:1.02em;background-color:#214579;color:white\"><b>Partner</b></td><td style=\"border: 1px solid white;\">7043</td><td style=\"border: 1px solid white;\">0.483032798523357</td><td style=\"border: 1px solid white;\">0.499747510719987</td><td style=\"border: 1px solid white;\">0</td><td style=\"border: 1px solid white;\">0</td><td style=\"border: 1px solid white;\">0</td><td style=\"border: 1px solid white;\">1</td><td style=\"border: 1px solid white;\">1</td><td style=\"border: 1px solid white;\">2.0</td></tr></table>"
      ],
      "text/plain": [
       "<IPython.core.display.HTML object>"
      ]
     },
     "metadata": {},
     "output_type": "display_data"
    },
    {
     "data": {
      "text/plain": [
       "<object>"
      ]
     },
     "execution_count": 38,
     "metadata": {},
     "output_type": "execute_result"
    }
   ],
   "source": [
    "vdf.describe()"
   ]
  },
  {
   "cell_type": "code",
   "execution_count": 43,
   "metadata": {},
   "outputs": [
    {
     "data": {
      "text/html": [
       "<table style=\"border-collapse: collapse; border: 2px solid white\"><tr style=\"{border: 1px solid white;}\"><td style=\"border-bottom: 1px solid #DDD;font-size:1.02em;background-color:#214579;color:white\"><b></b></td><td style=\"font-size:1.02em;background-color:#214579;color:white\"><b>dtype</b></td><td style=\"font-size:1.02em;background-color:#214579;color:white\"><b>unique</b></td><td style=\"font-size:1.02em;background-color:#214579;color:white\"><b>count</b></td><td style=\"font-size:1.02em;background-color:#214579;color:white\"><b>top</b></td><td style=\"font-size:1.02em;background-color:#214579;color:white\"><b>top_percent</b></td></tr><tr style=\"{border: 1px solid white;}\"><td style=\"border-bottom: 1px solid #DDD;font-size:1.02em;background-color:#214579;color:white\"><b>\"PaymentMethod\"</b></td><td style=\"border: 1px solid white;\">varchar(50)</td><td style=\"border: 1px solid white;\">4</td><td style=\"border: 1px solid white;\">7043</td><td style=\"border: 1px solid white;\">Electronic check</td><td style=\"border: 1px solid white;\">33.579</td></tr><tr style=\"{border: 1px solid white;}\"><td style=\"border-bottom: 1px solid #DDD;font-size:1.02em;background-color:#214579;color:white\"><b>\"OnlineBackup\"</b></td><td style=\"border: 1px solid white;\">varchar(38)</td><td style=\"border: 1px solid white;\">3</td><td style=\"border: 1px solid white;\">7043</td><td style=\"border: 1px solid white;\">No</td><td style=\"border: 1px solid white;\">43.845</td></tr><tr style=\"{border: 1px solid white;}\"><td style=\"border-bottom: 1px solid #DDD;font-size:1.02em;background-color:#214579;color:white\"><b>\"gender\"</b></td><td style=\"border: 1px solid white;\">varchar(20)</td><td style=\"border: 1px solid white;\">2</td><td style=\"border: 1px solid white;\">7043</td><td style=\"border: 1px solid white;\">Male</td><td style=\"border: 1px solid white;\">50.476</td></tr><tr style=\"{border: 1px solid white;}\"><td style=\"border-bottom: 1px solid #DDD;font-size:1.02em;background-color:#214579;color:white\"><b>\"Churn\"</b></td><td style=\"border: 1px solid white;\">boolean</td><td style=\"border: 1px solid white;\">2</td><td style=\"border: 1px solid white;\">7043</td><td style=\"border: 1px solid white;\">False</td><td style=\"border: 1px solid white;\">73.463</td></tr><tr style=\"{border: 1px solid white;}\"><td style=\"border-bottom: 1px solid #DDD;font-size:1.02em;background-color:#214579;color:white\"><b>\"StreamingTV\"</b></td><td style=\"border: 1px solid white;\">varchar(38)</td><td style=\"border: 1px solid white;\">3</td><td style=\"border: 1px solid white;\">7043</td><td style=\"border: 1px solid white;\">No</td><td style=\"border: 1px solid white;\">39.898</td></tr><tr style=\"{border: 1px solid white;}\"><td style=\"border-bottom: 1px solid #DDD;font-size:1.02em;background-color:#214579;color:white\"><b>\"TotalCharges\"</b></td><td style=\"border: 1px solid white;\">numeric(9,3)</td><td style=\"border: 1px solid white;\">6530</td><td style=\"border: 1px solid white;\">7032</td><td style=\"border: 1px solid white;\">20.2</td><td style=\"border: 1px solid white;\">0.156</td></tr><tr style=\"{border: 1px solid white;}\"><td style=\"border-bottom: 1px solid #DDD;font-size:1.02em;background-color:#214579;color:white\"><b>\"Contract\"</b></td><td style=\"border: 1px solid white;\">varchar(28)</td><td style=\"border: 1px solid white;\">3</td><td style=\"border: 1px solid white;\">7043</td><td style=\"border: 1px solid white;\">Month-to-month</td><td style=\"border: 1px solid white;\">55.019</td></tr><tr style=\"{border: 1px solid white;}\"><td style=\"border-bottom: 1px solid #DDD;font-size:1.02em;background-color:#214579;color:white\"><b>\"tenure\"</b></td><td style=\"border: 1px solid white;\">int</td><td style=\"border: 1px solid white;\">73</td><td style=\"border: 1px solid white;\">7043</td><td style=\"border: 1px solid white;\">1</td><td style=\"border: 1px solid white;\">8.704</td></tr><tr style=\"{border: 1px solid white;}\"><td style=\"border-bottom: 1px solid #DDD;font-size:1.02em;background-color:#214579;color:white\"><b>\"DeviceProtection\"</b></td><td style=\"border: 1px solid white;\">varchar(38)</td><td style=\"border: 1px solid white;\">3</td><td style=\"border: 1px solid white;\">7043</td><td style=\"border: 1px solid white;\">No</td><td style=\"border: 1px solid white;\">43.944</td></tr><tr style=\"{border: 1px solid white;}\"><td style=\"border-bottom: 1px solid #DDD;font-size:1.02em;background-color:#214579;color:white\"><b>\"StreamingMovies\"</b></td><td style=\"border: 1px solid white;\">varchar(38)</td><td style=\"border: 1px solid white;\">3</td><td style=\"border: 1px solid white;\">7043</td><td style=\"border: 1px solid white;\">No</td><td style=\"border: 1px solid white;\">39.543</td></tr><tr style=\"{border: 1px solid white;}\"><td style=\"border-bottom: 1px solid #DDD;font-size:1.02em;background-color:#214579;color:white\"><b>\"InternetService\"</b></td><td style=\"border: 1px solid white;\">varchar(22)</td><td style=\"border: 1px solid white;\">3</td><td style=\"border: 1px solid white;\">7043</td><td style=\"border: 1px solid white;\">Fiber optic</td><td style=\"border: 1px solid white;\">43.959</td></tr><tr style=\"{border: 1px solid white;}\"><td style=\"border-bottom: 1px solid #DDD;font-size:1.02em;background-color:#214579;color:white\"><b>\"Dependents\"</b></td><td style=\"border: 1px solid white;\">boolean</td><td style=\"border: 1px solid white;\">2</td><td style=\"border: 1px solid white;\">7043</td><td style=\"border: 1px solid white;\">False</td><td style=\"border: 1px solid white;\">70.041</td></tr><tr style=\"{border: 1px solid white;}\"><td style=\"border-bottom: 1px solid #DDD;font-size:1.02em;background-color:#214579;color:white\"><b>\"MonthlyCharges\"</b></td><td style=\"border: 1px solid white;\">numeric(8,3)</td><td style=\"border: 1px solid white;\">1585</td><td style=\"border: 1px solid white;\">7043</td><td style=\"border: 1px solid white;\">20.05</td><td style=\"border: 1px solid white;\">0.866</td></tr><tr style=\"{border: 1px solid white;}\"><td style=\"border-bottom: 1px solid #DDD;font-size:1.02em;background-color:#214579;color:white\"><b>\"PhoneService\"</b></td><td style=\"border: 1px solid white;\">boolean</td><td style=\"border: 1px solid white;\">2</td><td style=\"border: 1px solid white;\">7043</td><td style=\"border: 1px solid white;\">True</td><td style=\"border: 1px solid white;\">90.317</td></tr><tr style=\"{border: 1px solid white;}\"><td style=\"border-bottom: 1px solid #DDD;font-size:1.02em;background-color:#214579;color:white\"><b>\"TechSupport\"</b></td><td style=\"border: 1px solid white;\">varchar(38)</td><td style=\"border: 1px solid white;\">3</td><td style=\"border: 1px solid white;\">7043</td><td style=\"border: 1px solid white;\">No</td><td style=\"border: 1px solid white;\">49.311</td></tr><tr style=\"{border: 1px solid white;}\"><td style=\"border-bottom: 1px solid #DDD;font-size:1.02em;background-color:#214579;color:white\"><b>\"PaperlessBilling\"</b></td><td style=\"border: 1px solid white;\">boolean</td><td style=\"border: 1px solid white;\">2</td><td style=\"border: 1px solid white;\">7043</td><td style=\"border: 1px solid white;\">True</td><td style=\"border: 1px solid white;\">59.222</td></tr><tr style=\"{border: 1px solid white;}\"><td style=\"border-bottom: 1px solid #DDD;font-size:1.02em;background-color:#214579;color:white\"><b>\"SeniorCitizen\"</b></td><td style=\"border: 1px solid white;\">int</td><td style=\"border: 1px solid white;\">2</td><td style=\"border: 1px solid white;\">7043</td><td style=\"border: 1px solid white;\">0</td><td style=\"border: 1px solid white;\">83.785</td></tr><tr style=\"{border: 1px solid white;}\"><td style=\"border-bottom: 1px solid #DDD;font-size:1.02em;background-color:#214579;color:white\"><b>\"Partner\"</b></td><td style=\"border: 1px solid white;\">boolean</td><td style=\"border: 1px solid white;\">2</td><td style=\"border: 1px solid white;\">7043</td><td style=\"border: 1px solid white;\">False</td><td style=\"border: 1px solid white;\">51.697</td></tr><tr style=\"{border: 1px solid white;}\"><td style=\"border-bottom: 1px solid #DDD;font-size:1.02em;background-color:#214579;color:white\"><b>\"MultipleLines\"</b></td><td style=\"border: 1px solid white;\">varchar(100)</td><td style=\"border: 1px solid white;\">3</td><td style=\"border: 1px solid white;\">7043</td><td style=\"border: 1px solid white;\">No</td><td style=\"border: 1px solid white;\">48.133</td></tr><tr style=\"{border: 1px solid white;}\"><td style=\"border-bottom: 1px solid #DDD;font-size:1.02em;background-color:#214579;color:white\"><b>\"OnlineSecurity\"</b></td><td style=\"border: 1px solid white;\">varchar(38)</td><td style=\"border: 1px solid white;\">3</td><td style=\"border: 1px solid white;\">7043</td><td style=\"border: 1px solid white;\">No</td><td style=\"border: 1px solid white;\">49.666</td></tr><tr style=\"{border: 1px solid white;}\"><td style=\"border-bottom: 1px solid #DDD;font-size:1.02em;background-color:#214579;color:white\"><b>\"customerID\"</b></td><td style=\"border: 1px solid white;\">varchar(20)</td><td style=\"border: 1px solid white;\">7043</td><td style=\"border: 1px solid white;\">7043</td><td style=\"border: 1px solid white;\">0002-ORFBO</td><td style=\"border: 1px solid white;\">0.014</td></tr></table>"
      ],
      "text/plain": [
       "<IPython.core.display.HTML object>"
      ]
     },
     "metadata": {},
     "output_type": "display_data"
    },
    {
     "data": {
      "text/plain": [
       "<object>"
      ]
     },
     "execution_count": 43,
     "metadata": {},
     "output_type": "execute_result"
    }
   ],
   "source": [
    "vdf.describe(method = \"categorical\")"
   ]
  },
  {
   "cell_type": "markdown",
   "metadata": {},
   "source": [
    "All the aggregations can also be called using many built-in methods. You can for example compute the 'avg' of all the numerical columns in one line."
   ]
  },
  {
   "cell_type": "code",
   "execution_count": 39,
   "metadata": {},
   "outputs": [
    {
     "data": {
      "text/html": [
       "<table style=\"border-collapse: collapse; border: 2px solid white\"><tr style=\"{border: 1px solid white;}\"><td style=\"border-bottom: 1px solid #DDD;font-size:1.02em;background-color:#214579;color:white\"><b></b></td><td style=\"font-size:1.02em;background-color:#214579;color:white\"><b>avg</b></td></tr><tr style=\"{border: 1px solid white;}\"><td style=\"border-bottom: 1px solid #DDD;font-size:1.02em;background-color:#214579;color:white\"><b>\"Churn\"</b></td><td style=\"border: 1px solid white;\">0.265369870793696</td></tr><tr style=\"{border: 1px solid white;}\"><td style=\"border-bottom: 1px solid #DDD;font-size:1.02em;background-color:#214579;color:white\"><b>\"TotalCharges\"</b></td><td style=\"border: 1px solid white;\">2283.30044084187</td></tr><tr style=\"{border: 1px solid white;}\"><td style=\"border-bottom: 1px solid #DDD;font-size:1.02em;background-color:#214579;color:white\"><b>\"tenure\"</b></td><td style=\"border: 1px solid white;\">32.3711486582422</td></tr><tr style=\"{border: 1px solid white;}\"><td style=\"border-bottom: 1px solid #DDD;font-size:1.02em;background-color:#214579;color:white\"><b>\"Dependents\"</b></td><td style=\"border: 1px solid white;\">0.299588243646173</td></tr><tr style=\"{border: 1px solid white;}\"><td style=\"border-bottom: 1px solid #DDD;font-size:1.02em;background-color:#214579;color:white\"><b>\"MonthlyCharges\"</b></td><td style=\"border: 1px solid white;\">64.7616924605992</td></tr><tr style=\"{border: 1px solid white;}\"><td style=\"border-bottom: 1px solid #DDD;font-size:1.02em;background-color:#214579;color:white\"><b>\"PhoneService\"</b></td><td style=\"border: 1px solid white;\">0.903166264375976</td></tr><tr style=\"{border: 1px solid white;}\"><td style=\"border-bottom: 1px solid #DDD;font-size:1.02em;background-color:#214579;color:white\"><b>\"PaperlessBilling\"</b></td><td style=\"border: 1px solid white;\">0.592219224762175</td></tr><tr style=\"{border: 1px solid white;}\"><td style=\"border-bottom: 1px solid #DDD;font-size:1.02em;background-color:#214579;color:white\"><b>\"SeniorCitizen\"</b></td><td style=\"border: 1px solid white;\">0.162146812437882</td></tr><tr style=\"{border: 1px solid white;}\"><td style=\"border-bottom: 1px solid #DDD;font-size:1.02em;background-color:#214579;color:white\"><b>\"Partner\"</b></td><td style=\"border: 1px solid white;\">0.483032798523357</td></tr></table>"
      ],
      "text/plain": [
       "<IPython.core.display.HTML object>"
      ]
     },
     "metadata": {},
     "output_type": "display_data"
    },
    {
     "data": {
      "text/plain": [
       "<object>"
      ]
     },
     "execution_count": 39,
     "metadata": {},
     "output_type": "execute_result"
    }
   ],
   "source": [
    "vdf.avg()"
   ]
  },
  {
   "cell_type": "markdown",
   "metadata": {},
   "source": [
    "Or just the 'median' of a specific column."
   ]
  },
  {
   "cell_type": "code",
   "execution_count": 42,
   "metadata": {},
   "outputs": [
    {
     "data": {
      "text/plain": [
       "29.0"
      ]
     },
     "execution_count": 42,
     "metadata": {},
     "output_type": "execute_result"
    }
   ],
   "source": [
    "vdf[\"tenure\"].median()"
   ]
  },
  {
   "cell_type": "markdown",
   "metadata": {},
   "source": [
    "It is also possible to use the 'groupby' method to compute customized aggregations."
   ]
  },
  {
   "cell_type": "code",
   "execution_count": 46,
   "metadata": {},
   "outputs": [
    {
     "data": {
      "text/html": [
       "<table style=\"border-collapse: collapse; border: 2px solid white\"><tr style=\"{border: 1px solid white;}\"><td style=\"border-bottom: 1px solid #DDD;font-size:1.02em;background-color:#214579;color:white\"><b></b></td><td style=\"font-size:1.02em;background-color:#214579;color:white\"><b>gender</b></td><td style=\"font-size:1.02em;background-color:#214579;color:white\"><b>Contract</b></td><td style=\"font-size:1.02em;background-color:#214579;color:white\"><b>churn</b></td></tr><tr style=\"{border: 1px solid white;}\"><td style=\"border-bottom: 1px solid #DDD;font-size:1.02em;background-color:#214579;color:white\"><b>0</b></td><td style=\"border: 1px solid white;\">Female</td><td style=\"border: 1px solid white;\">One year</td><td style=\"border: 1px solid white;\">0.104456824512535</td></tr><tr style=\"{border: 1px solid white;}\"><td style=\"border-bottom: 1px solid #DDD;font-size:1.02em;background-color:#214579;color:white\"><b>1</b></td><td style=\"border: 1px solid white;\">Male</td><td style=\"border: 1px solid white;\">Two year</td><td style=\"border: 1px solid white;\">0.0305882352941176</td></tr><tr style=\"{border: 1px solid white;}\"><td style=\"border-bottom: 1px solid #DDD;font-size:1.02em;background-color:#214579;color:white\"><b>2</b></td><td style=\"border: 1px solid white;\">Male</td><td style=\"border: 1px solid white;\">Month-to-month</td><td style=\"border: 1px solid white;\">0.416923076923077</td></tr><tr style=\"{border: 1px solid white;}\"><td style=\"border-bottom: 1px solid #DDD;font-size:1.02em;background-color:#214579;color:white\"><b>3</b></td><td style=\"border: 1px solid white;\">Male</td><td style=\"border: 1px solid white;\">One year</td><td style=\"border: 1px solid white;\">0.120529801324503</td></tr><tr style=\"{border: 1px solid white;}\"><td style=\"border-bottom: 1px solid #DDD;font-size:1.02em;background-color:#214579;color:white\"><b>4</b></td><td style=\"border: 1px solid white;\">Female</td><td style=\"border: 1px solid white;\">Two year</td><td style=\"border: 1px solid white;\">0.0260355029585799</td></tr><tr style=\"{border: 1px solid white;}\"><td style=\"border-bottom: 1px solid #DDD;font-size:1.02em;background-color:#214579;color:white\"><b>5</b></td><td style=\"border: 1px solid white;\">Female</td><td style=\"border: 1px solid white;\">Month-to-month</td><td style=\"border: 1px solid white;\">0.437402597402597</td></tr></table>"
      ],
      "text/plain": [
       "<IPython.core.display.HTML object>"
      ]
     },
     "metadata": {},
     "output_type": "display_data"
    },
    {
     "data": {
      "text/plain": [
       "<object>  Name: groupby, Number of rows: 6, Number of columns: 3"
      ]
     },
     "execution_count": 46,
     "metadata": {},
     "output_type": "execute_result"
    }
   ],
   "source": [
    "vdf.groupby([\"gender\",\n",
    "             \"Contract\"],\n",
    "            [\"AVG(Churn::int) AS churn\"]).head(6)"
   ]
  },
  {
   "cell_type": "markdown",
   "metadata": {},
   "source": [
    "Aggregations can be directly used to understand data. \n",
    "\n",
    "Another way of using the power of aggregations are graphics. Our next Chapter will show you how drawing graphics in Vertica ML Python."
   ]
  }
 ],
 "metadata": {
  "kernelspec": {
   "display_name": "Python 3",
   "language": "python",
   "name": "python3"
  },
  "language_info": {
   "codemirror_mode": {
    "name": "ipython",
    "version": 3
   },
   "file_extension": ".py",
   "mimetype": "text/x-python",
   "name": "python",
   "nbconvert_exporter": "python",
   "pygments_lexer": "ipython3",
   "version": "3.6.3"
  }
 },
 "nbformat": 4,
 "nbformat_minor": 2
}
