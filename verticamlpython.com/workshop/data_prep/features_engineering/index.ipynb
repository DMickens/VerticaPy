{
 "cells": [
  {
   "cell_type": "markdown",
   "metadata": {},
   "source": [
    "# Features Engineering"
   ]
  },
  {
   "cell_type": "markdown",
   "metadata": {},
   "source": [
    "In the entire Data Preparation cycle, we need to think about the most suitable features we can use to solve the Business Problem. Many techniques are possible. We will see the most popular ones."
   ]
  },
  {
   "cell_type": "markdown",
   "metadata": {},
   "source": [
    "# Customized Features Engineering"
   ]
  },
  {
   "cell_type": "markdown",
   "metadata": {},
   "source": [
    "To build a customized feature, you can use the 'eval' method of the vDataFrame. Let's look at an example using the well-known Titanic dataset."
   ]
  },
  {
   "cell_type": "code",
   "execution_count": 8,
   "metadata": {},
   "outputs": [
    {
     "data": {
      "text/html": [
       "<table style=\"border-collapse: collapse; border: 2px solid white\"><tr style=\"{border: 1px solid white;}\"><td style=\"border-bottom: 1px solid #DDD;font-size:1.02em;background-color:#263133;color:white\"><b></b></td><td style=\"font-size:1.02em;background-color:#263133;color:white\"><b>fare</b></td><td style=\"font-size:1.02em;background-color:#263133;color:white\"><b>sex</b></td><td style=\"font-size:1.02em;background-color:#263133;color:white\"><b>body</b></td><td style=\"font-size:1.02em;background-color:#263133;color:white\"><b>pclass</b></td><td style=\"font-size:1.02em;background-color:#263133;color:white\"><b>age</b></td><td style=\"font-size:1.02em;background-color:#263133;color:white\"><b>name</b></td><td style=\"font-size:1.02em;background-color:#263133;color:white\"><b>cabin</b></td><td style=\"font-size:1.02em;background-color:#263133;color:white\"><b>parch</b></td><td style=\"font-size:1.02em;background-color:#263133;color:white\"><b>survived</b></td><td style=\"font-size:1.02em;background-color:#263133;color:white\"><b>boat</b></td><td style=\"font-size:1.02em;background-color:#263133;color:white\"><b>ticket</b></td><td style=\"font-size:1.02em;background-color:#263133;color:white\"><b>embarked</b></td><td style=\"font-size:1.02em;background-color:#263133;color:white\"><b>home.dest</b></td><td style=\"font-size:1.02em;background-color:#263133;color:white\"><b>sibsp</b></td></tr><tr style=\"{border: 1px solid white;}\"><td style=\"border-bottom: 1px solid #DDD;font-size:1.02em;background-color:#263133;color:white\"><b>0</b></td><td style=\"border: 1px solid white;\">151.55</td><td style=\"border: 1px solid white;\">female</td><td style=\"border: 1px solid white;\">None</td><td style=\"border: 1px solid white;\">1</td><td style=\"border: 1px solid white;\">2.0</td><td style=\"border: 1px solid white;\">Allison, Miss. Helen Loraine</td><td style=\"border: 1px solid white;\">C22 C26</td><td style=\"border: 1px solid white;\">2</td><td style=\"border: 1px solid white;\">0</td><td style=\"border: 1px solid white;\">None</td><td style=\"border: 1px solid white;\">113781</td><td style=\"border: 1px solid white;\">S</td><td style=\"border: 1px solid white;\">Montreal, PQ / Chesterville, ON</td><td style=\"border: 1px solid white;\">1</td></tr><tr style=\"{border: 1px solid white;}\"><td style=\"border-bottom: 1px solid #DDD;font-size:1.02em;background-color:#263133;color:white\"><b>1</b></td><td style=\"border: 1px solid white;\">151.55</td><td style=\"border: 1px solid white;\">male</td><td style=\"border: 1px solid white;\">135</td><td style=\"border: 1px solid white;\">1</td><td style=\"border: 1px solid white;\">30.0</td><td style=\"border: 1px solid white;\">Allison, Mr. Hudson Joshua Creighton</td><td style=\"border: 1px solid white;\">C22 C26</td><td style=\"border: 1px solid white;\">2</td><td style=\"border: 1px solid white;\">0</td><td style=\"border: 1px solid white;\">None</td><td style=\"border: 1px solid white;\">113781</td><td style=\"border: 1px solid white;\">S</td><td style=\"border: 1px solid white;\">Montreal, PQ / Chesterville, ON</td><td style=\"border: 1px solid white;\">1</td></tr><tr style=\"{border: 1px solid white;}\"><td style=\"border-bottom: 1px solid #DDD;font-size:1.02em;background-color:#263133;color:white\"><b>2</b></td><td style=\"border: 1px solid white;\">151.55</td><td style=\"border: 1px solid white;\">female</td><td style=\"border: 1px solid white;\">None</td><td style=\"border: 1px solid white;\">1</td><td style=\"border: 1px solid white;\">25.0</td><td style=\"border: 1px solid white;\">Allison, Mrs. Hudson J C (Bessie Waldo Daniels)</td><td style=\"border: 1px solid white;\">C22 C26</td><td style=\"border: 1px solid white;\">2</td><td style=\"border: 1px solid white;\">0</td><td style=\"border: 1px solid white;\">None</td><td style=\"border: 1px solid white;\">113781</td><td style=\"border: 1px solid white;\">S</td><td style=\"border: 1px solid white;\">Montreal, PQ / Chesterville, ON</td><td style=\"border: 1px solid white;\">1</td></tr><tr style=\"{border: 1px solid white;}\"><td style=\"border-bottom: 1px solid #DDD;font-size:1.02em;background-color:#263133;color:white\"><b>3</b></td><td style=\"border: 1px solid white;\">0.0</td><td style=\"border: 1px solid white;\">male</td><td style=\"border: 1px solid white;\">None</td><td style=\"border: 1px solid white;\">1</td><td style=\"border: 1px solid white;\">39.0</td><td style=\"border: 1px solid white;\">Andrews, Mr. Thomas Jr</td><td style=\"border: 1px solid white;\">A36</td><td style=\"border: 1px solid white;\">0</td><td style=\"border: 1px solid white;\">0</td><td style=\"border: 1px solid white;\">None</td><td style=\"border: 1px solid white;\">112050</td><td style=\"border: 1px solid white;\">S</td><td style=\"border: 1px solid white;\">Belfast, NI</td><td style=\"border: 1px solid white;\">0</td></tr><tr style=\"{border: 1px solid white;}\"><td style=\"border-bottom: 1px solid #DDD;font-size:1.02em;background-color:#263133;color:white\"><b>4</b></td><td style=\"border: 1px solid white;\">49.5042</td><td style=\"border: 1px solid white;\">male</td><td style=\"border: 1px solid white;\">22</td><td style=\"border: 1px solid white;\">1</td><td style=\"border: 1px solid white;\">71.0</td><td style=\"border: 1px solid white;\">Artagaveytia, Mr. Ramon</td><td style=\"border: 1px solid white;\">None</td><td style=\"border: 1px solid white;\">0</td><td style=\"border: 1px solid white;\">0</td><td style=\"border: 1px solid white;\">None</td><td style=\"border: 1px solid white;\">PC 17609</td><td style=\"border: 1px solid white;\">C</td><td style=\"border: 1px solid white;\">Montevideo, Uruguay</td><td style=\"border: 1px solid white;\">0</td></tr><tr><td style=\"border-top: 1px solid white;background-color:#263133;color:white\"></td><td style=\"border: 1px solid white;\">...</td><td style=\"border: 1px solid white;\">...</td><td style=\"border: 1px solid white;\">...</td><td style=\"border: 1px solid white;\">...</td><td style=\"border: 1px solid white;\">...</td><td style=\"border: 1px solid white;\">...</td><td style=\"border: 1px solid white;\">...</td><td style=\"border: 1px solid white;\">...</td><td style=\"border: 1px solid white;\">...</td><td style=\"border: 1px solid white;\">...</td><td style=\"border: 1px solid white;\">...</td><td style=\"border: 1px solid white;\">...</td><td style=\"border: 1px solid white;\">...</td><td style=\"border: 1px solid white;\">...</td></tr></table>"
      ],
      "text/plain": [
       "<IPython.core.display.HTML object>"
      ]
     },
     "metadata": {},
     "output_type": "display_data"
    },
    {
     "name": "stdout",
     "output_type": "stream",
     "text": [
      "<object>  Name: titanic, Number of rows: 1234, Number of columns: 14\n"
     ]
    }
   ],
   "source": [
    "from vertica_ml_python import *\n",
    "vdf = vDataFrame(\"titanic\")\n",
    "print(vdf)"
   ]
  },
  {
   "cell_type": "markdown",
   "metadata": {},
   "source": [
    "The feature 'parch' corresponds the number of parents and children on-board. The feature 'sibsp' corresponds to the number of siblings and spouses on-board. We can create the feature 'family size' which is equal to parch + sibsp + 1."
   ]
  },
  {
   "cell_type": "code",
   "execution_count": 10,
   "metadata": {},
   "outputs": [
    {
     "data": {
      "text/html": [
       "<table style=\"border-collapse: collapse; border: 2px solid white\"><tr style=\"{border: 1px solid white;}\"><td style=\"border-bottom: 1px solid #DDD;font-size:1.02em;background-color:#263133;color:white\"><b></b></td><td style=\"font-size:1.02em;background-color:#263133;color:white\"><b>parch</b></td><td style=\"font-size:1.02em;background-color:#263133;color:white\"><b>sibsp</b></td><td style=\"font-size:1.02em;background-color:#263133;color:white\"><b>family_size</b></td></tr><tr style=\"{border: 1px solid white;}\"><td style=\"border-bottom: 1px solid #DDD;font-size:1.02em;background-color:#263133;color:white\"><b>0</b></td><td style=\"border: 1px solid white;\">2</td><td style=\"border: 1px solid white;\">1</td><td style=\"border: 1px solid white;\">4</td></tr><tr style=\"{border: 1px solid white;}\"><td style=\"border-bottom: 1px solid #DDD;font-size:1.02em;background-color:#263133;color:white\"><b>1</b></td><td style=\"border: 1px solid white;\">2</td><td style=\"border: 1px solid white;\">1</td><td style=\"border: 1px solid white;\">4</td></tr><tr style=\"{border: 1px solid white;}\"><td style=\"border-bottom: 1px solid #DDD;font-size:1.02em;background-color:#263133;color:white\"><b>2</b></td><td style=\"border: 1px solid white;\">2</td><td style=\"border: 1px solid white;\">1</td><td style=\"border: 1px solid white;\">4</td></tr><tr style=\"{border: 1px solid white;}\"><td style=\"border-bottom: 1px solid #DDD;font-size:1.02em;background-color:#263133;color:white\"><b>3</b></td><td style=\"border: 1px solid white;\">0</td><td style=\"border: 1px solid white;\">0</td><td style=\"border: 1px solid white;\">1</td></tr><tr style=\"{border: 1px solid white;}\"><td style=\"border-bottom: 1px solid #DDD;font-size:1.02em;background-color:#263133;color:white\"><b>4</b></td><td style=\"border: 1px solid white;\">0</td><td style=\"border: 1px solid white;\">0</td><td style=\"border: 1px solid white;\">1</td></tr><tr><td style=\"border-top: 1px solid white;background-color:#263133;color:white\"></td><td style=\"border: 1px solid white;\">...</td><td style=\"border: 1px solid white;\">...</td><td style=\"border: 1px solid white;\">...</td></tr></table>"
      ],
      "text/plain": [
       "<IPython.core.display.HTML object>"
      ]
     },
     "metadata": {},
     "output_type": "display_data"
    },
    {
     "data": {
      "text/plain": [
       "<object>  Name: titanic, Number of rows: 1234, Number of columns: 3"
      ]
     },
     "execution_count": 10,
     "metadata": {},
     "output_type": "execute_result"
    }
   ],
   "source": [
    "vdf.eval(name = \"family_size\",\n",
    "         expr = \"parch + sibsp + 1\")\n",
    "vdf.select([\"parch\", \"sibsp\", \"family_size\"])"
   ]
  },
  {
   "cell_type": "markdown",
   "metadata": {},
   "source": [
    "When using the 'eval' method you can enter any SQL expression and Vertica ML Python will evaluate it !\n",
    "\n",
    "# Regular Expressions"
   ]
  },
  {
   "cell_type": "markdown",
   "metadata": {},
   "source": [
    "To compute features using regular expressions, we will use the 'regexp' method."
   ]
  },
  {
   "cell_type": "code",
   "execution_count": 31,
   "metadata": {},
   "outputs": [
    {
     "name": "stdout",
     "output_type": "stream",
     "text": [
      "Help on function regexp in module vertica_ml_python.vdataframe:\n",
      "\n",
      "regexp(self, column:str, pattern:str, method:str='substr', position:int=1, occurrence:int=1, replacement:str='', return_position:int=0, name:str='')\n",
      "    ---------------------------------------------------------------------------\n",
      "    Computes a new vcolumn based on regular expressions. \n",
      "    \n",
      "    Parameters\n",
      "    ----------\n",
      "    column: str\n",
      "            Input vcolumn used to compute the regular expression.\n",
      "    pattern: str\n",
      "            The regular expression.\n",
      "    method: str, optional\n",
      "            Method used to compute the regular expressions.\n",
      "                    count     : Returns the number times a regular expression matches \n",
      "                            each element of the input vcolumn. \n",
      "                    ilike     : Returns True if the vcolumn element contains a match \n",
      "                            for the regular expression.\n",
      "                    instr     : Returns the starting or ending position in a vcolumn \n",
      "                            element where a regular expression matches. \n",
      "                    like      : Returns True if the vcolumn element matches the regular \n",
      "                            expression.\n",
      "                    not_ilike : Returns True if the vcolumn element does not match the \n",
      "                            case-insensitive regular expression.\n",
      "                    not_like  : Returns True if the vcolumn element does not contain a \n",
      "                            match for the regular expression.\n",
      "                    replace   : Replaces all occurrences of a substring that match a \n",
      "                            regular expression with another substring.\n",
      "                    substr    : Returns the substring that matches a regular expression \n",
      "                            within a vcolumn.\n",
      "    position: int, optional\n",
      "            The number of characters from the start of the string where the function \n",
      "            should start searching for matches.\n",
      "    occurrence: int, optional\n",
      "            Controls which occurrence of a pattern match in the string to return.\n",
      "    replacement: str, optional\n",
      "            The string to replace matched substrings.\n",
      "    return_position: int, optional\n",
      "            Sets the position within the string to return.\n",
      "    name: str, optional\n",
      "            New feature name. If empty, a name will be generated.\n",
      "    \n",
      "    Returns\n",
      "    -------\n",
      "    vDataFrame\n",
      "            self\n",
      "    \n",
      "    See Also\n",
      "    --------\n",
      "    vDataFrame.eval : Evaluates a customized expression.\n",
      "\n"
     ]
    }
   ],
   "source": [
    "help(vDataFrame.regexp)"
   ]
  },
  {
   "cell_type": "markdown",
   "metadata": {},
   "source": [
    "Let's consider the following example. We can notice that the passengers title is included on each passenger name."
   ]
  },
  {
   "cell_type": "code",
   "execution_count": 12,
   "metadata": {},
   "outputs": [
    {
     "data": {
      "text/html": [
       "<table style=\"border-collapse: collapse; border: 2px solid white\"><tr style=\"{border: 1px solid white;}\"><td style=\"border-bottom: 1px solid #DDD;font-size:1.02em;background-color:#263133;color:white\"><b></b></td><td style=\"font-size:1.02em;background-color:#263133;color:white\"><b>name</b></td></tr><tr style=\"{border: 1px solid white;}\"><td style=\"border-bottom: 1px solid #DDD;font-size:1.02em;background-color:#263133;color:white\"><b>0</b></td><td style=\"border: 1px solid white;\">Allison, Miss. Helen Loraine</td></tr><tr style=\"{border: 1px solid white;}\"><td style=\"border-bottom: 1px solid #DDD;font-size:1.02em;background-color:#263133;color:white\"><b>1</b></td><td style=\"border: 1px solid white;\">Allison, Mr. Hudson Joshua Creighton</td></tr><tr style=\"{border: 1px solid white;}\"><td style=\"border-bottom: 1px solid #DDD;font-size:1.02em;background-color:#263133;color:white\"><b>2</b></td><td style=\"border: 1px solid white;\">Allison, Mrs. Hudson J C (Bessie Waldo Daniels)</td></tr><tr style=\"{border: 1px solid white;}\"><td style=\"border-bottom: 1px solid #DDD;font-size:1.02em;background-color:#263133;color:white\"><b>3</b></td><td style=\"border: 1px solid white;\">Andrews, Mr. Thomas Jr</td></tr><tr style=\"{border: 1px solid white;}\"><td style=\"border-bottom: 1px solid #DDD;font-size:1.02em;background-color:#263133;color:white\"><b>4</b></td><td style=\"border: 1px solid white;\">Artagaveytia, Mr. Ramon</td></tr><tr><td style=\"border-top: 1px solid white;background-color:#263133;color:white\"></td><td style=\"border: 1px solid white;\">...</td></tr></table>"
      ],
      "text/plain": [
       "<IPython.core.display.HTML object>"
      ]
     },
     "metadata": {},
     "output_type": "display_data"
    },
    {
     "data": {
      "text/plain": [
       "<object>  Name: name, Number of rows: 1234, dtype: varchar(164)"
      ]
     },
     "execution_count": 12,
     "metadata": {},
     "output_type": "execute_result"
    }
   ],
   "source": [
    "vdf[\"name\"]"
   ]
  },
  {
   "cell_type": "markdown",
   "metadata": {},
   "source": [
    "Let's extract it using regular expressions."
   ]
  },
  {
   "cell_type": "code",
   "execution_count": 15,
   "metadata": {},
   "outputs": [
    {
     "data": {
      "text/html": [
       "<table style=\"border-collapse: collapse; border: 2px solid white\"><tr style=\"{border: 1px solid white;}\"><td style=\"border-bottom: 1px solid #DDD;font-size:1.02em;background-color:#263133;color:white\"><b></b></td><td style=\"font-size:1.02em;background-color:#263133;color:white\"><b>name</b></td><td style=\"font-size:1.02em;background-color:#263133;color:white\"><b>title</b></td></tr><tr style=\"{border: 1px solid white;}\"><td style=\"border-bottom: 1px solid #DDD;font-size:1.02em;background-color:#263133;color:white\"><b>0</b></td><td style=\"border: 1px solid white;\">Allison, Miss. Helen Loraine</td><td style=\"border: 1px solid white;\"> Miss.</td></tr><tr style=\"{border: 1px solid white;}\"><td style=\"border-bottom: 1px solid #DDD;font-size:1.02em;background-color:#263133;color:white\"><b>1</b></td><td style=\"border: 1px solid white;\">Allison, Mr. Hudson Joshua Creighton</td><td style=\"border: 1px solid white;\"> Mr.</td></tr><tr style=\"{border: 1px solid white;}\"><td style=\"border-bottom: 1px solid #DDD;font-size:1.02em;background-color:#263133;color:white\"><b>2</b></td><td style=\"border: 1px solid white;\">Allison, Mrs. Hudson J C (Bessie Waldo Daniels)</td><td style=\"border: 1px solid white;\"> Mrs.</td></tr><tr style=\"{border: 1px solid white;}\"><td style=\"border-bottom: 1px solid #DDD;font-size:1.02em;background-color:#263133;color:white\"><b>3</b></td><td style=\"border: 1px solid white;\">Andrews, Mr. Thomas Jr</td><td style=\"border: 1px solid white;\"> Mr.</td></tr><tr style=\"{border: 1px solid white;}\"><td style=\"border-bottom: 1px solid #DDD;font-size:1.02em;background-color:#263133;color:white\"><b>4</b></td><td style=\"border: 1px solid white;\">Artagaveytia, Mr. Ramon</td><td style=\"border: 1px solid white;\"> Mr.</td></tr><tr><td style=\"border-top: 1px solid white;background-color:#263133;color:white\"></td><td style=\"border: 1px solid white;\">...</td><td style=\"border: 1px solid white;\">...</td></tr></table>"
      ],
      "text/plain": [
       "<IPython.core.display.HTML object>"
      ]
     },
     "metadata": {},
     "output_type": "display_data"
    },
    {
     "data": {
      "text/plain": [
       "<object>  Name: titanic, Number of rows: 1234, Number of columns: 2"
      ]
     },
     "execution_count": 15,
     "metadata": {},
     "output_type": "execute_result"
    }
   ],
   "source": [
    "vdf.regexp(column = \"name\",\n",
    "           name = \"title\",\n",
    "           pattern = \" ([A-Za-z])+\\.\",\n",
    "           method = \"substr\")\n",
    "vdf.select([\"name\", \"title\"])"
   ]
  },
  {
   "cell_type": "markdown",
   "metadata": {},
   "source": [
    "# Advanced Analytical Functions"
   ]
  },
  {
   "cell_type": "markdown",
   "metadata": {},
   "source": [
    "Vertica ML Python advanced analytical functions are managed by the 'analytic' method. "
   ]
  },
  {
   "cell_type": "code",
   "execution_count": 17,
   "metadata": {},
   "outputs": [
    {
     "name": "stdout",
     "output_type": "stream",
     "text": [
      "Help on function analytic in module vertica_ml_python.vdataframe:\n",
      "\n",
      "analytic(self, func:str, column:str='', by:list=[], order_by=[], column2:str='', name:str='', offset:int=1, x_smoothing:float=0.5, add_count:bool=True)\n",
      "    ---------------------------------------------------------------------------\n",
      "    Adds a new vcolumn to the vDataFrame by using an advanced analytical function \n",
      "    on one or two specific vcolumns.\n",
      "    \n",
      "    Parameters\n",
      "    ----------\n",
      "    func: str\n",
      "            Function to apply.\n",
      "                    beta         : Beta Coefficient between 2 vcolumns\n",
      "                    count        : number of non-missing elements\n",
      "                    corr         : Pearson correlation between 2 vcolumns\n",
      "                    cov          : covariance between 2 vcolumns\n",
      "                    dense_rank   : dense rank\n",
      "                    ema          : exponential moving average\n",
      "                    first_value  : first non null lead\n",
      "                    iqr          : interquartile range\n",
      "                    kurtosis     : kurtosis\n",
      "                    jb           : Jarque Bera index \n",
      "                    lead         : next element\n",
      "                    lag          : previous element\n",
      "                    last_value   : first non null lag\n",
      "                    mad          : median absolute deviation\n",
      "                    mae          : mean absolute error (deviation)\n",
      "                    max          : maximum\n",
      "                    mean         : average\n",
      "                    median       : median\n",
      "                    min          : minimum\n",
      "                    mode         : most occurent element\n",
      "                    q%           : q quantile (ex: 50% for the median)\n",
      "                    pct_change   : ratio between the current value and the previous one\n",
      "                    percent_rank : percent rank\n",
      "                    prod         : product\n",
      "                    range        : difference between the max and the min\n",
      "                    rank         : rank\n",
      "                    row_number   : row number\n",
      "                    sem          : standard error of the mean\n",
      "                    skewness     : skewness\n",
      "                    sum          : sum\n",
      "                    std          : standard deviation\n",
      "                    unique       : cardinality (count distinct)\n",
      "                    var          : variance\n",
      "                            Other analytical functions could work if it is part of \n",
      "                            the DB version you are using.\n",
      "    column: str, optional\n",
      "            Input vcolumn.\n",
      "    by: list, optional\n",
      "            vcolumns used in the partition.\n",
      "    order_by: dict / list, optional\n",
      "            List of the vcolumns used to sort the data using asc order or\n",
      "            dictionary of all the sorting methods. For example, to sort by \"column1\"\n",
      "            ASC and \"column2\" DESC, write {\"column1\": \"asc\", \"column2\": \"desc\"}\n",
      "    column2: str, optional\n",
      "            Second input vcolumn in case of functions using 2 parameters.\n",
      "    name: str, optional\n",
      "            Name of the new vcolumn. If empty a default name based on the other\n",
      "            parameters will be generated.\n",
      "    offset: int, optional\n",
      "            Lead/Lag offset if parameter 'func' is the function 'lead'/'lag'.\n",
      "    x_smoothing: float, optional\n",
      "            The smoothing parameter of the 'ema' if the function is 'ema'. It must be in [0;1]\n",
      "    add_count: bool, optional\n",
      "            If the function is the 'mode' and this parameter is True then another column will \n",
      "            be added to the vDataFrame with the mode number of occurences.\n",
      "    \n",
      "    Returns\n",
      "    -------\n",
      "    vDataFrame\n",
      "            self\n",
      "    \n",
      "    See Also\n",
      "    --------\n",
      "    vDataFrame.eval    : Evaluates a customized expression.\n",
      "    vDataFrame.rolling : Computes a customized moving window.\n",
      "\n"
     ]
    }
   ],
   "source": [
    "help(vDataFrame.analytic)"
   ]
  },
  {
   "cell_type": "markdown",
   "metadata": {},
   "source": [
    "Many different techniques are available. Let's use the 'USA 2015 Flights' datasets to do some computations."
   ]
  },
  {
   "cell_type": "code",
   "execution_count": 25,
   "metadata": {},
   "outputs": [
    {
     "data": {
      "text/html": [
       "<table style=\"border-collapse: collapse; border: 2px solid white\"><tr style=\"{border: 1px solid white;}\"><td style=\"border-bottom: 1px solid #DDD;font-size:1.02em;background-color:#263133;color:white\"><b></b></td><td style=\"font-size:1.02em;background-color:#263133;color:white\"><b>departure_delay</b></td><td style=\"font-size:1.02em;background-color:#263133;color:white\"><b>origin_airport</b></td><td style=\"font-size:1.02em;background-color:#263133;color:white\"><b>scheduled_departure</b></td><td style=\"font-size:1.02em;background-color:#263133;color:white\"><b>airline</b></td><td style=\"font-size:1.02em;background-color:#263133;color:white\"><b>destination_airport</b></td><td style=\"font-size:1.02em;background-color:#263133;color:white\"><b>arrival_delay</b></td></tr><tr style=\"{border: 1px solid white;}\"><td style=\"border-bottom: 1px solid #DDD;font-size:1.02em;background-color:#263133;color:white\"><b>0</b></td><td style=\"border: 1px solid white;\">6</td><td style=\"border: 1px solid white;\">MDW</td><td style=\"border: 1px solid white;\">2015-05-06 21:30:00</td><td style=\"border: 1px solid white;\">WN</td><td style=\"border: 1px solid white;\">CMH</td><td style=\"border: 1px solid white;\">-8</td></tr><tr style=\"{border: 1px solid white;}\"><td style=\"border-bottom: 1px solid #DDD;font-size:1.02em;background-color:#263133;color:white\"><b>1</b></td><td style=\"border: 1px solid white;\">0</td><td style=\"border: 1px solid white;\">ORD</td><td style=\"border: 1px solid white;\">2015-05-06 21:40:00</td><td style=\"border: 1px solid white;\">MQ</td><td style=\"border: 1px solid white;\">CMH</td><td style=\"border: 1px solid white;\">-13</td></tr><tr style=\"{border: 1px solid white;}\"><td style=\"border-bottom: 1px solid #DDD;font-size:1.02em;background-color:#263133;color:white\"><b>2</b></td><td style=\"border: 1px solid white;\">23</td><td style=\"border: 1px solid white;\">BWI</td><td style=\"border: 1px solid white;\">2015-05-06 22:15:00</td><td style=\"border: 1px solid white;\">WN</td><td style=\"border: 1px solid white;\">CMH</td><td style=\"border: 1px solid white;\">28</td></tr><tr style=\"{border: 1px solid white;}\"><td style=\"border-bottom: 1px solid #DDD;font-size:1.02em;background-color:#263133;color:white\"><b>3</b></td><td style=\"border: 1px solid white;\">-1</td><td style=\"border: 1px solid white;\">ATL</td><td style=\"border: 1px solid white;\">2015-05-06 22:20:00</td><td style=\"border: 1px solid white;\">WN</td><td style=\"border: 1px solid white;\">CMH</td><td style=\"border: 1px solid white;\">0</td></tr><tr style=\"{border: 1px solid white;}\"><td style=\"border-bottom: 1px solid #DDD;font-size:1.02em;background-color:#263133;color:white\"><b>4</b></td><td style=\"border: 1px solid white;\">-7</td><td style=\"border: 1px solid white;\">ATL</td><td style=\"border: 1px solid white;\">2015-05-06 22:22:00</td><td style=\"border: 1px solid white;\">DL</td><td style=\"border: 1px solid white;\">CMH</td><td style=\"border: 1px solid white;\">-16</td></tr><tr><td style=\"border-top: 1px solid white;background-color:#263133;color:white\"></td><td style=\"border: 1px solid white;\">...</td><td style=\"border: 1px solid white;\">...</td><td style=\"border: 1px solid white;\">...</td><td style=\"border: 1px solid white;\">...</td><td style=\"border: 1px solid white;\">...</td><td style=\"border: 1px solid white;\">...</td></tr></table>"
      ],
      "text/plain": [
       "<IPython.core.display.HTML object>"
      ]
     },
     "metadata": {},
     "output_type": "display_data"
    },
    {
     "name": "stdout",
     "output_type": "stream",
     "text": [
      "<object>  Name: flights, Number of rows: 4068736, Number of columns: 6\n"
     ]
    }
   ],
   "source": [
    "from vertica_ml_python import *\n",
    "vdf = vDataFrame(\"flights\")\n",
    "print(vdf)"
   ]
  },
  {
   "cell_type": "markdown",
   "metadata": {},
   "source": [
    "For each flight, let's compute the previous departure delay for the same airline."
   ]
  },
  {
   "cell_type": "code",
   "execution_count": 26,
   "metadata": {},
   "outputs": [
    {
     "data": {
      "text/html": [
       "<table style=\"border-collapse: collapse; border: 2px solid white\"><tr style=\"{border: 1px solid white;}\"><td style=\"border-bottom: 1px solid #DDD;font-size:1.02em;background-color:#263133;color:white\"><b></b></td><td style=\"font-size:1.02em;background-color:#263133;color:white\"><b>departure_delay</b></td><td style=\"font-size:1.02em;background-color:#263133;color:white\"><b>origin_airport</b></td><td style=\"font-size:1.02em;background-color:#263133;color:white\"><b>scheduled_departure</b></td><td style=\"font-size:1.02em;background-color:#263133;color:white\"><b>airline</b></td><td style=\"font-size:1.02em;background-color:#263133;color:white\"><b>destination_airport</b></td><td style=\"font-size:1.02em;background-color:#263133;color:white\"><b>arrival_delay</b></td><td style=\"font-size:1.02em;background-color:#263133;color:white\"><b>previous_departure_delay</b></td></tr><tr style=\"{border: 1px solid white;}\"><td style=\"border-bottom: 1px solid #DDD;font-size:1.02em;background-color:#263133;color:white\"><b>0</b></td><td style=\"border: 1px solid white;\">-3</td><td style=\"border: 1px solid white;\">10397</td><td style=\"border: 1px solid white;\">2015-10-01 10:27:00</td><td style=\"border: 1px solid white;\">EV</td><td style=\"border: 1px solid white;\">10135</td><td style=\"border: 1px solid white;\">-14</td><td style=\"border: 1px solid white;\">None</td></tr><tr style=\"{border: 1px solid white;}\"><td style=\"border-bottom: 1px solid #DDD;font-size:1.02em;background-color:#263133;color:white\"><b>1</b></td><td style=\"border: 1px solid white;\">0</td><td style=\"border: 1px solid white;\">10397</td><td style=\"border: 1px solid white;\">2015-10-01 14:44:00</td><td style=\"border: 1px solid white;\">EV</td><td style=\"border: 1px solid white;\">10135</td><td style=\"border: 1px solid white;\">-1</td><td style=\"border: 1px solid white;\">-3</td></tr><tr style=\"{border: 1px solid white;}\"><td style=\"border-bottom: 1px solid #DDD;font-size:1.02em;background-color:#263133;color:white\"><b>2</b></td><td style=\"border: 1px solid white;\">12</td><td style=\"border: 1px solid white;\">10397</td><td style=\"border: 1px solid white;\">2015-10-02 10:27:00</td><td style=\"border: 1px solid white;\">EV</td><td style=\"border: 1px solid white;\">10135</td><td style=\"border: 1px solid white;\">4</td><td style=\"border: 1px solid white;\">0</td></tr><tr style=\"{border: 1px solid white;}\"><td style=\"border-bottom: 1px solid #DDD;font-size:1.02em;background-color:#263133;color:white\"><b>3</b></td><td style=\"border: 1px solid white;\">-4</td><td style=\"border: 1px solid white;\">10397</td><td style=\"border: 1px solid white;\">2015-10-02 14:44:00</td><td style=\"border: 1px solid white;\">EV</td><td style=\"border: 1px solid white;\">10135</td><td style=\"border: 1px solid white;\">-6</td><td style=\"border: 1px solid white;\">12</td></tr><tr style=\"{border: 1px solid white;}\"><td style=\"border-bottom: 1px solid #DDD;font-size:1.02em;background-color:#263133;color:white\"><b>4</b></td><td style=\"border: 1px solid white;\">-4</td><td style=\"border: 1px solid white;\">10397</td><td style=\"border: 1px solid white;\">2015-10-03 10:27:00</td><td style=\"border: 1px solid white;\">EV</td><td style=\"border: 1px solid white;\">10135</td><td style=\"border: 1px solid white;\">-2</td><td style=\"border: 1px solid white;\">-4</td></tr><tr><td style=\"border-top: 1px solid white;background-color:#263133;color:white\"></td><td style=\"border: 1px solid white;\">...</td><td style=\"border: 1px solid white;\">...</td><td style=\"border: 1px solid white;\">...</td><td style=\"border: 1px solid white;\">...</td><td style=\"border: 1px solid white;\">...</td><td style=\"border: 1px solid white;\">...</td><td style=\"border: 1px solid white;\">...</td></tr></table>"
      ],
      "text/plain": [
       "<IPython.core.display.HTML object>"
      ]
     },
     "metadata": {},
     "output_type": "display_data"
    },
    {
     "data": {
      "text/plain": [
       "<object>  Name: flights, Number of rows: 4068736, Number of columns: 7"
      ]
     },
     "execution_count": 26,
     "metadata": {},
     "output_type": "execute_result"
    }
   ],
   "source": [
    "vdf.analytic(name = \"previous_departure_delay\",\n",
    "             func = \"lag\",\n",
    "             column = \"departure_delay\",\n",
    "             by = [\"airline\", \"destination_airport\", \"origin_airport\"],\n",
    "             order_by = {\"scheduled_departure\": \"asc\"})"
   ]
  },
  {
   "cell_type": "markdown",
   "metadata": {},
   "source": [
    "# Moving Windows\n",
    "\n",
    "Moving windows are powerful features. They can bring a lot of information. Moving windows are managed by the 'rolling' method in Vertica ML Python."
   ]
  },
  {
   "cell_type": "code",
   "execution_count": 27,
   "metadata": {},
   "outputs": [
    {
     "name": "stdout",
     "output_type": "stream",
     "text": [
      "Help on function rolling in module vertica_ml_python.vdataframe:\n",
      "\n",
      "rolling(self, func:str, column:str, preceding, following, column2:str='', name:str='', by:list=[], order_by=[], method:str='rows', rule:str='auto')\n",
      "    ---------------------------------------------------------------------------\n",
      "    Adds a new vcolumn to the vDataFrame by using an advanced analytical window \n",
      "    function on one or two specific vcolumns.\n",
      "    \n",
      "    Parameters\n",
      "    ----------\n",
      "    func: str\n",
      "            Function to use.\n",
      "                    beta        : Beta Coefficient between 2 vcolumns\n",
      "                    count       : number of non-missing elements\n",
      "                    corr        : Pearson correlation between 2 vcolumns\n",
      "                    cov         : covariance between 2 vcolumns\n",
      "                    kurtosis    : kurtosis\n",
      "                    jb          : Jarque Bera index \n",
      "                    mae         : mean absolute error (deviation)\n",
      "                    max         : maximum\n",
      "                    mean        : average\n",
      "                    min         : minimum\n",
      "                    prod        : product\n",
      "                    range       : difference between the max and the min\n",
      "                    sem         : standard error of the mean\n",
      "                    skewness    : skewness\n",
      "                    sum         : sum\n",
      "                    std         : standard deviation\n",
      "                    var         : variance\n",
      "                            Other window functions could work if it is part of \n",
      "                            the DB version you are using.\n",
      "    column: str\n",
      "            Input vcolumn.\n",
      "    preceding: int/str\n",
      "            First part of the moving window. With which lag/lead the window \n",
      "            should begin. It can be an integer or an interval.\n",
      "    following: int/str\n",
      "            Second part of the moving window. With which lag/lead the window \n",
      "            should end. It can be an integer or an interval.\n",
      "    column2: str, optional\n",
      "            Second input vcolumn in case of functions using 2 parameters.\n",
      "    name: str, optional\n",
      "            Name of the new vcolumn. If empty a default name based on the other\n",
      "            parameters will be generated.\n",
      "    by: list, optional\n",
      "            vcolumns used in the partition.\n",
      "    order_by: dict / list, optional\n",
      "            List of the vcolumns used to sort the data using asc order or\n",
      "            dictionary of all the sorting methods. For example, to sort by \"column1\"\n",
      "            ASC and \"column2\" DESC, write {\"column1\": \"asc\", \"column2\": \"desc\"}\n",
      "    method: str, optional\n",
      "            Method used to compute the window.\n",
      "                    rows : Uses number of leads/lags instead of time intervals\n",
      "                    range: Uses time intervals instead of number of leads/lags\n",
      "    rule: str, optional\n",
      "            Rule used to compute the window.\n",
      "                    auto   : The 'preceding' parameter will correspond to a past event and \n",
      "                            the parameter 'following' to a future event.\n",
      "                    past   : Both parameters 'preceding' and following will consider\n",
      "                            past events.\n",
      "                    future : Both parameters 'preceding' and following will consider\n",
      "                            future events.\n",
      "    \n",
      "    Returns\n",
      "    -------\n",
      "    vDataFrame\n",
      "            self\n",
      "    \n",
      "    See Also\n",
      "    --------\n",
      "    vDataFrame.eval     : Evaluates a customized expression.\n",
      "    vDataFrame.analytic : Adds a new vcolumn to the vDataFrame by using an advanced \n",
      "            analytical function on a specific vcolumn.\n",
      "\n"
     ]
    }
   ],
   "source": [
    "help(vDataFrame.rolling)"
   ]
  },
  {
   "cell_type": "markdown",
   "metadata": {},
   "source": [
    "Let's for example compute the number of flights that the same airline has to manage two hours preceding the concerned flight and one hour following."
   ]
  },
  {
   "cell_type": "code",
   "execution_count": 30,
   "metadata": {},
   "outputs": [
    {
     "data": {
      "text/html": [
       "<table style=\"border-collapse: collapse; border: 2px solid white\"><tr style=\"{border: 1px solid white;}\"><td style=\"border-bottom: 1px solid #DDD;font-size:1.02em;background-color:#263133;color:white\"><b></b></td><td style=\"font-size:1.02em;background-color:#263133;color:white\"><b>departure_delay</b></td><td style=\"font-size:1.02em;background-color:#263133;color:white\"><b>origin_airport</b></td><td style=\"font-size:1.02em;background-color:#263133;color:white\"><b>scheduled_departure</b></td><td style=\"font-size:1.02em;background-color:#263133;color:white\"><b>airline</b></td><td style=\"font-size:1.02em;background-color:#263133;color:white\"><b>destination_airport</b></td><td style=\"font-size:1.02em;background-color:#263133;color:white\"><b>arrival_delay</b></td><td style=\"font-size:1.02em;background-color:#263133;color:white\"><b>previous_departure_delay</b></td><td style=\"font-size:1.02em;background-color:#263133;color:white\"><b>number_flights_to_manage_by_airline_2hp_1hf</b></td></tr><tr style=\"{border: 1px solid white;}\"><td style=\"border-bottom: 1px solid #DDD;font-size:1.02em;background-color:#263133;color:white\"><b>0</b></td><td style=\"border: 1px solid white;\">-11</td><td style=\"border: 1px solid white;\">10140</td><td style=\"border: 1px solid white;\">2015-10-01 10:55:00</td><td style=\"border: 1px solid white;\">AA</td><td style=\"border: 1px solid white;\">11298</td><td style=\"border: 1px solid white;\">-20</td><td style=\"border: 1px solid white;\">None</td><td style=\"border: 1px solid white;\">1</td></tr><tr style=\"{border: 1px solid white;}\"><td style=\"border-bottom: 1px solid #DDD;font-size:1.02em;background-color:#263133;color:white\"><b>1</b></td><td style=\"border: 1px solid white;\">-10</td><td style=\"border: 1px solid white;\">10140</td><td style=\"border: 1px solid white;\">2015-10-01 12:09:00</td><td style=\"border: 1px solid white;\">AA</td><td style=\"border: 1px solid white;\">11298</td><td style=\"border: 1px solid white;\">-18</td><td style=\"border: 1px solid white;\">-11</td><td style=\"border: 1px solid white;\">2</td></tr><tr style=\"{border: 1px solid white;}\"><td style=\"border-bottom: 1px solid #DDD;font-size:1.02em;background-color:#263133;color:white\"><b>2</b></td><td style=\"border: 1px solid white;\">-2</td><td style=\"border: 1px solid white;\">10140</td><td style=\"border: 1px solid white;\">2015-10-01 14:20:00</td><td style=\"border: 1px solid white;\">AA</td><td style=\"border: 1px solid white;\">11298</td><td style=\"border: 1px solid white;\">-11</td><td style=\"border: 1px solid white;\">-10</td><td style=\"border: 1px solid white;\">1</td></tr><tr style=\"{border: 1px solid white;}\"><td style=\"border-bottom: 1px solid #DDD;font-size:1.02em;background-color:#263133;color:white\"><b>3</b></td><td style=\"border: 1px solid white;\">-6</td><td style=\"border: 1px solid white;\">10140</td><td style=\"border: 1px solid white;\">2015-10-01 16:19:00</td><td style=\"border: 1px solid white;\">AA</td><td style=\"border: 1px solid white;\">11298</td><td style=\"border: 1px solid white;\">5</td><td style=\"border: 1px solid white;\">-2</td><td style=\"border: 1px solid white;\">2</td></tr><tr style=\"{border: 1px solid white;}\"><td style=\"border-bottom: 1px solid #DDD;font-size:1.02em;background-color:#263133;color:white\"><b>4</b></td><td style=\"border: 1px solid white;\">-9</td><td style=\"border: 1px solid white;\">10140</td><td style=\"border: 1px solid white;\">2015-10-02 10:55:00</td><td style=\"border: 1px solid white;\">AA</td><td style=\"border: 1px solid white;\">11298</td><td style=\"border: 1px solid white;\">-28</td><td style=\"border: 1px solid white;\">-6</td><td style=\"border: 1px solid white;\">1</td></tr><tr><td style=\"border-top: 1px solid white;background-color:#263133;color:white\"></td><td style=\"border: 1px solid white;\">...</td><td style=\"border: 1px solid white;\">...</td><td style=\"border: 1px solid white;\">...</td><td style=\"border: 1px solid white;\">...</td><td style=\"border: 1px solid white;\">...</td><td style=\"border: 1px solid white;\">...</td><td style=\"border: 1px solid white;\">...</td><td style=\"border: 1px solid white;\">...</td></tr></table>"
      ],
      "text/plain": [
       "<IPython.core.display.HTML object>"
      ]
     },
     "metadata": {},
     "output_type": "display_data"
    },
    {
     "data": {
      "text/plain": [
       "<object>  Name: flights, Number of rows: 4068736, Number of columns: 8"
      ]
     },
     "execution_count": 30,
     "metadata": {},
     "output_type": "execute_result"
    }
   ],
   "source": [
    "vdf.rolling(name = \"number_flights_to_manage_by_airline_2hp_1hf\",\n",
    "            func = \"count\",\n",
    "            column = \"airline\",\n",
    "            by = [\"airline\", \"origin_airport\"],\n",
    "            order_by = {\"scheduled_departure\": \"asc\"},\n",
    "            preceding = \"2 hours\",\n",
    "            following = \"1 hour\",\n",
    "            method = \"range\")"
   ]
  },
  {
   "cell_type": "markdown",
   "metadata": {},
   "source": [
    "Moving windows give us infinite number of possibilities to create new features. When the Data Preparation is finished, it is time to create a Machine Learning Model. Our next lesson will introduce the different types of ML algorithms !"
   ]
  }
 ],
 "metadata": {
  "kernelspec": {
   "display_name": "Python 3",
   "language": "python",
   "name": "python3"
  },
  "language_info": {
   "codemirror_mode": {
    "name": "ipython",
    "version": 3
   },
   "file_extension": ".py",
   "mimetype": "text/x-python",
   "name": "python",
   "nbconvert_exporter": "python",
   "pygments_lexer": "ipython3",
   "version": "3.6.3"
  }
 },
 "nbformat": 4,
 "nbformat_minor": 2
}
