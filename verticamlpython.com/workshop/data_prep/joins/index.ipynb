{
 "cells": [
  {
   "cell_type": "markdown",
   "metadata": {},
   "source": [
    "# Joins"
   ]
  },
  {
   "cell_type": "markdown",
   "metadata": {},
   "source": [
    "When we explored our different datasets. We need to merge the different data sources. To be able to do it we need keys to join the data. To understand how to join data in Vertica ML Python, let's look at an example. \n",
    "\n",
    "Let's use the US Flights 2015 datasets. 3 datasets are available.\n",
    "We have information on the different flights."
   ]
  },
  {
   "cell_type": "code",
   "execution_count": 120,
   "metadata": {},
   "outputs": [
    {
     "data": {
      "text/html": [
       "<table style=\"border-collapse: collapse; border: 2px solid white\"><tr style=\"{border: 1px solid white;}\"><td style=\"border-bottom: 1px solid #DDD;font-size:1.02em;background-color:#263133;color:white\"><b></b></td><td style=\"font-size:1.02em;background-color:#263133;color:white\"><b>departure_delay</b></td><td style=\"font-size:1.02em;background-color:#263133;color:white\"><b>origin_airport</b></td><td style=\"font-size:1.02em;background-color:#263133;color:white\"><b>scheduled_departure</b></td><td style=\"font-size:1.02em;background-color:#263133;color:white\"><b>airline</b></td><td style=\"font-size:1.02em;background-color:#263133;color:white\"><b>destination_airport</b></td><td style=\"font-size:1.02em;background-color:#263133;color:white\"><b>arrival_delay</b></td></tr><tr style=\"{border: 1px solid white;}\"><td style=\"border-bottom: 1px solid #DDD;font-size:1.02em;background-color:#263133;color:white\"><b>0</b></td><td style=\"border: 1px solid white;\">-9</td><td style=\"border: 1px solid white;\">11433</td><td style=\"border: 1px solid white;\">2015-10-01 10:09:00</td><td style=\"border: 1px solid white;\">EV</td><td style=\"border: 1px solid white;\">10135</td><td style=\"border: 1px solid white;\">-2</td></tr><tr style=\"{border: 1px solid white;}\"><td style=\"border-bottom: 1px solid #DDD;font-size:1.02em;background-color:#263133;color:white\"><b>1</b></td><td style=\"border: 1px solid white;\">-3</td><td style=\"border: 1px solid white;\">10397</td><td style=\"border: 1px solid white;\">2015-10-01 10:27:00</td><td style=\"border: 1px solid white;\">EV</td><td style=\"border: 1px solid white;\">10135</td><td style=\"border: 1px solid white;\">-14</td></tr><tr style=\"{border: 1px solid white;}\"><td style=\"border-bottom: 1px solid #DDD;font-size:1.02em;background-color:#263133;color:white\"><b>2</b></td><td style=\"border: 1px solid white;\">-4</td><td style=\"border: 1px solid white;\">13930</td><td style=\"border: 1px solid white;\">2015-10-01 13:57:00</td><td style=\"border: 1px solid white;\">EV</td><td style=\"border: 1px solid white;\">10135</td><td style=\"border: 1px solid white;\">6</td></tr><tr style=\"{border: 1px solid white;}\"><td style=\"border-bottom: 1px solid #DDD;font-size:1.02em;background-color:#263133;color:white\"><b>3</b></td><td style=\"border: 1px solid white;\">-3</td><td style=\"border: 1px solid white;\">11433</td><td style=\"border: 1px solid white;\">2015-10-01 14:02:00</td><td style=\"border: 1px solid white;\">EV</td><td style=\"border: 1px solid white;\">10135</td><td style=\"border: 1px solid white;\">-8</td></tr><tr style=\"{border: 1px solid white;}\"><td style=\"border-bottom: 1px solid #DDD;font-size:1.02em;background-color:#263133;color:white\"><b>4</b></td><td style=\"border: 1px solid white;\">0</td><td style=\"border: 1px solid white;\">10397</td><td style=\"border: 1px solid white;\">2015-10-01 14:44:00</td><td style=\"border: 1px solid white;\">EV</td><td style=\"border: 1px solid white;\">10135</td><td style=\"border: 1px solid white;\">-1</td></tr><tr><td style=\"border-top: 1px solid white;background-color:#263133;color:white\"></td><td style=\"border: 1px solid white;\">...</td><td style=\"border: 1px solid white;\">...</td><td style=\"border: 1px solid white;\">...</td><td style=\"border: 1px solid white;\">...</td><td style=\"border: 1px solid white;\">...</td><td style=\"border: 1px solid white;\">...</td></tr></table>"
      ],
      "text/plain": [
       "<IPython.core.display.HTML object>"
      ]
     },
     "metadata": {},
     "output_type": "display_data"
    },
    {
     "name": "stdout",
     "output_type": "stream",
     "text": [
      "<object>  Name: flights, Number of rows: 4068736, Number of columns: 6\n"
     ]
    }
   ],
   "source": [
    "from vertica_ml_python import *\n",
    "flights  = vDataFrame(\"flights\")\n",
    "print(flights)"
   ]
  },
  {
   "cell_type": "markdown",
   "metadata": {},
   "source": [
    "A dataset on the airports information is also available."
   ]
  },
  {
   "cell_type": "code",
   "execution_count": 106,
   "metadata": {},
   "outputs": [
    {
     "data": {
      "text/html": [
       "<table style=\"border-collapse: collapse; border: 2px solid white\"><tr style=\"{border: 1px solid white;}\"><td style=\"border-bottom: 1px solid #DDD;font-size:1.02em;background-color:#263133;color:white\"><b></b></td><td style=\"font-size:1.02em;background-color:#263133;color:white\"><b>AIRPORT</b></td><td style=\"font-size:1.02em;background-color:#263133;color:white\"><b>LATITUDE</b></td><td style=\"font-size:1.02em;background-color:#263133;color:white\"><b>CITY</b></td><td style=\"font-size:1.02em;background-color:#263133;color:white\"><b>STATE</b></td><td style=\"font-size:1.02em;background-color:#263133;color:white\"><b>LONGITUDE</b></td><td style=\"font-size:1.02em;background-color:#263133;color:white\"><b>COUNTRY</b></td><td style=\"font-size:1.02em;background-color:#263133;color:white\"><b>IATA_CODE</b></td></tr><tr style=\"{border: 1px solid white;}\"><td style=\"border-bottom: 1px solid #DDD;font-size:1.02em;background-color:#263133;color:white\"><b>0</b></td><td style=\"border: 1px solid white;\">Lehigh Valley International Airport</td><td style=\"border: 1px solid white;\">40.65236</td><td style=\"border: 1px solid white;\">Allentown</td><td style=\"border: 1px solid white;\">PA</td><td style=\"border: 1px solid white;\">-75.4404</td><td style=\"border: 1px solid white;\">USA</td><td style=\"border: 1px solid white;\">ABE</td></tr><tr style=\"{border: 1px solid white;}\"><td style=\"border-bottom: 1px solid #DDD;font-size:1.02em;background-color:#263133;color:white\"><b>1</b></td><td style=\"border: 1px solid white;\">Abilene Regional Airport</td><td style=\"border: 1px solid white;\">32.41132</td><td style=\"border: 1px solid white;\">Abilene</td><td style=\"border: 1px solid white;\">TX</td><td style=\"border: 1px solid white;\">-99.6819</td><td style=\"border: 1px solid white;\">USA</td><td style=\"border: 1px solid white;\">ABI</td></tr><tr style=\"{border: 1px solid white;}\"><td style=\"border-bottom: 1px solid #DDD;font-size:1.02em;background-color:#263133;color:white\"><b>2</b></td><td style=\"border: 1px solid white;\">Albuquerque International Sunport</td><td style=\"border: 1px solid white;\">35.04022</td><td style=\"border: 1px solid white;\">Albuquerque</td><td style=\"border: 1px solid white;\">NM</td><td style=\"border: 1px solid white;\">-106.60919</td><td style=\"border: 1px solid white;\">USA</td><td style=\"border: 1px solid white;\">ABQ</td></tr><tr style=\"{border: 1px solid white;}\"><td style=\"border-bottom: 1px solid #DDD;font-size:1.02em;background-color:#263133;color:white\"><b>3</b></td><td style=\"border: 1px solid white;\">Aberdeen Regional Airport</td><td style=\"border: 1px solid white;\">45.44906</td><td style=\"border: 1px solid white;\">Aberdeen</td><td style=\"border: 1px solid white;\">SD</td><td style=\"border: 1px solid white;\">-98.42183</td><td style=\"border: 1px solid white;\">USA</td><td style=\"border: 1px solid white;\">ABR</td></tr><tr style=\"{border: 1px solid white;}\"><td style=\"border-bottom: 1px solid #DDD;font-size:1.02em;background-color:#263133;color:white\"><b>4</b></td><td style=\"border: 1px solid white;\">Southwest Georgia Regional Airport</td><td style=\"border: 1px solid white;\">31.53552</td><td style=\"border: 1px solid white;\">Albany</td><td style=\"border: 1px solid white;\">GA</td><td style=\"border: 1px solid white;\">-84.19447</td><td style=\"border: 1px solid white;\">USA</td><td style=\"border: 1px solid white;\">ABY</td></tr><tr><td style=\"border-top: 1px solid white;background-color:#263133;color:white\"></td><td style=\"border: 1px solid white;\">...</td><td style=\"border: 1px solid white;\">...</td><td style=\"border: 1px solid white;\">...</td><td style=\"border: 1px solid white;\">...</td><td style=\"border: 1px solid white;\">...</td><td style=\"border: 1px solid white;\">...</td><td style=\"border: 1px solid white;\">...</td></tr></table>"
      ],
      "text/plain": [
       "<IPython.core.display.HTML object>"
      ]
     },
     "metadata": {},
     "output_type": "display_data"
    },
    {
     "name": "stdout",
     "output_type": "stream",
     "text": [
      "<object>  Name: airports, Number of rows: 322, Number of columns: 7\n"
     ]
    }
   ],
   "source": [
    "airports = vDataFrame(\"airports\")\n",
    "print(airports)"
   ]
  },
  {
   "cell_type": "markdown",
   "metadata": {},
   "source": [
    "And we also have access to the airlines names."
   ]
  },
  {
   "cell_type": "code",
   "execution_count": 107,
   "metadata": {},
   "outputs": [
    {
     "data": {
      "text/html": [
       "<table style=\"border-collapse: collapse; border: 2px solid white\"><tr style=\"{border: 1px solid white;}\"><td style=\"border-bottom: 1px solid #DDD;font-size:1.02em;background-color:#263133;color:white\"><b></b></td><td style=\"font-size:1.02em;background-color:#263133;color:white\"><b>AIRLINE</b></td><td style=\"font-size:1.02em;background-color:#263133;color:white\"><b>IATA_CODE</b></td></tr><tr style=\"{border: 1px solid white;}\"><td style=\"border-bottom: 1px solid #DDD;font-size:1.02em;background-color:#263133;color:white\"><b>0</b></td><td style=\"border: 1px solid white;\">American Airlines Inc.</td><td style=\"border: 1px solid white;\">AA</td></tr><tr style=\"{border: 1px solid white;}\"><td style=\"border-bottom: 1px solid #DDD;font-size:1.02em;background-color:#263133;color:white\"><b>1</b></td><td style=\"border: 1px solid white;\">Alaska Airlines Inc.</td><td style=\"border: 1px solid white;\">AS</td></tr><tr style=\"{border: 1px solid white;}\"><td style=\"border-bottom: 1px solid #DDD;font-size:1.02em;background-color:#263133;color:white\"><b>2</b></td><td style=\"border: 1px solid white;\">JetBlue Airways</td><td style=\"border: 1px solid white;\">B6</td></tr><tr style=\"{border: 1px solid white;}\"><td style=\"border-bottom: 1px solid #DDD;font-size:1.02em;background-color:#263133;color:white\"><b>3</b></td><td style=\"border: 1px solid white;\">Delta Air Lines Inc.</td><td style=\"border: 1px solid white;\">DL</td></tr><tr style=\"{border: 1px solid white;}\"><td style=\"border-bottom: 1px solid #DDD;font-size:1.02em;background-color:#263133;color:white\"><b>4</b></td><td style=\"border: 1px solid white;\">Atlantic Southeast Airlines</td><td style=\"border: 1px solid white;\">EV</td></tr><tr><td style=\"border-top: 1px solid white;background-color:#263133;color:white\"></td><td style=\"border: 1px solid white;\">...</td><td style=\"border: 1px solid white;\">...</td></tr></table>"
      ],
      "text/plain": [
       "<IPython.core.display.HTML object>"
      ]
     },
     "metadata": {},
     "output_type": "display_data"
    },
    {
     "name": "stdout",
     "output_type": "stream",
     "text": [
      "<object>  Name: airlines, Number of rows: 14, Number of columns: 2\n"
     ]
    }
   ],
   "source": [
    "airlines = vDataFrame(\"airlines\")\n",
    "print(airlines)"
   ]
  },
  {
   "cell_type": "markdown",
   "metadata": {},
   "source": [
    "We can notice that each dataset has a primary or secondary key to join the data. For example we can join the 'flights' dataset to the 'airlines' and 'airport' datasets using the corresponding IATA code. \n",
    "\n",
    "To join datasets in Vertica ML Python, use the 'join' method of the vDataFrame."
   ]
  },
  {
   "cell_type": "code",
   "execution_count": 108,
   "metadata": {},
   "outputs": [
    {
     "name": "stdout",
     "output_type": "stream",
     "text": [
      "Help on function join in module vertica_ml_python.vdataframe:\n",
      "\n",
      "join(self, input_relation, on:dict={}, how:str='natural', expr1:list=['*'], expr2:list=['*'])\n",
      "    ---------------------------------------------------------------------------\n",
      "    Joins the vDataFrame with another one or an input relation.\n",
      "    \n",
      "    Parameters\n",
      "    ----------\n",
      "    input_relation: str/vDataFrame\n",
      "            Relation used to do the merging.\n",
      "    on: dict, optional\n",
      "            Dictionary of all the different keys. The dict must be similar to the following:\n",
      "            {\"relationA_key1\": \"relationB_key1\" ..., \"relationA_keyk\": \"relationB_keyk\"}\n",
      "            where relationA is the current vDataFrame and relationB is the input relation\n",
      "            or the input vDataFrame.\n",
      "    how: str, optional\n",
      "            Join Type.\n",
      "                    left    : Left Join.\n",
      "                    right   : Right Join.\n",
      "                    cross   : Cross Join.\n",
      "                    full    : Full Outer Join.\n",
      "                    natural : Natural Join.\n",
      "                    inner   : Inner Join.\n",
      "    expr1: list, optional\n",
      "            List of the different columns to select from the current vDataFrame. \n",
      "            Pure SQL must be written. Aliases can also be given. 'column' or \n",
      "            'column AS my_new_alias' are correct. Aliases are recommended to keep \n",
      "            the track of the different features and not have ambiguous names. \n",
      "    expr2: list, optional\n",
      "            List of the different columns to select from the input relation. \n",
      "            Pure SQL must be written. Aliases can also be given. 'column' or \n",
      "            'column AS my_new_alias' are correct. Aliases are recommended to keep \n",
      "            the track of the different features and not have ambiguous names. \n",
      "    \n",
      "    Returns\n",
      "    -------\n",
      "    vDataFrame\n",
      "            object result of the join.\n",
      "    \n",
      "    See Also\n",
      "    --------\n",
      "    vDataFrame.append  : Merges the vDataFrame with another relation.\n",
      "    vDataFrame.groupby : Aggregates the vDataFrame.\n",
      "    vDataFrame.sort    : Sorts the vDataFrame.\n",
      "\n"
     ]
    }
   ],
   "source": [
    "help(vDataFrame.join)"
   ]
  },
  {
   "cell_type": "markdown",
   "metadata": {},
   "source": [
    "Let's use a left join to merge the 'airlines' dataset and the 'flights' dataset."
   ]
  },
  {
   "cell_type": "code",
   "execution_count": 121,
   "metadata": {},
   "outputs": [
    {
     "data": {
      "text/html": [
       "<table style=\"border-collapse: collapse; border: 2px solid white\"><tr style=\"{border: 1px solid white;}\"><td style=\"border-bottom: 1px solid #DDD;font-size:1.02em;background-color:#263133;color:white\"><b></b></td><td style=\"font-size:1.02em;background-color:#263133;color:white\"><b>destination_airport</b></td><td style=\"font-size:1.02em;background-color:#263133;color:white\"><b>scheduled_departure</b></td><td style=\"font-size:1.02em;background-color:#263133;color:white\"><b>departure_delay</b></td><td style=\"font-size:1.02em;background-color:#263133;color:white\"><b>arrival_delay</b></td><td style=\"font-size:1.02em;background-color:#263133;color:white\"><b>origin_airport</b></td><td style=\"font-size:1.02em;background-color:#263133;color:white\"><b>airline</b></td><td style=\"font-size:1.02em;background-color:#263133;color:white\"><b>airline_long</b></td></tr><tr style=\"{border: 1px solid white;}\"><td style=\"border-bottom: 1px solid #DDD;font-size:1.02em;background-color:#263133;color:white\"><b>0</b></td><td style=\"border: 1px solid white;\">10135</td><td style=\"border: 1px solid white;\">2015-10-01 10:09:00</td><td style=\"border: 1px solid white;\">-9</td><td style=\"border: 1px solid white;\">-2</td><td style=\"border: 1px solid white;\">11433</td><td style=\"border: 1px solid white;\">EV</td><td style=\"border: 1px solid white;\">Atlantic Southeast Airlines</td></tr><tr style=\"{border: 1px solid white;}\"><td style=\"border-bottom: 1px solid #DDD;font-size:1.02em;background-color:#263133;color:white\"><b>1</b></td><td style=\"border: 1px solid white;\">10135</td><td style=\"border: 1px solid white;\">2015-10-01 10:27:00</td><td style=\"border: 1px solid white;\">-3</td><td style=\"border: 1px solid white;\">-14</td><td style=\"border: 1px solid white;\">10397</td><td style=\"border: 1px solid white;\">EV</td><td style=\"border: 1px solid white;\">Atlantic Southeast Airlines</td></tr><tr style=\"{border: 1px solid white;}\"><td style=\"border-bottom: 1px solid #DDD;font-size:1.02em;background-color:#263133;color:white\"><b>2</b></td><td style=\"border: 1px solid white;\">10135</td><td style=\"border: 1px solid white;\">2015-10-01 13:57:00</td><td style=\"border: 1px solid white;\">-4</td><td style=\"border: 1px solid white;\">6</td><td style=\"border: 1px solid white;\">13930</td><td style=\"border: 1px solid white;\">EV</td><td style=\"border: 1px solid white;\">Atlantic Southeast Airlines</td></tr><tr style=\"{border: 1px solid white;}\"><td style=\"border-bottom: 1px solid #DDD;font-size:1.02em;background-color:#263133;color:white\"><b>3</b></td><td style=\"border: 1px solid white;\">10135</td><td style=\"border: 1px solid white;\">2015-10-01 14:02:00</td><td style=\"border: 1px solid white;\">-3</td><td style=\"border: 1px solid white;\">-8</td><td style=\"border: 1px solid white;\">11433</td><td style=\"border: 1px solid white;\">EV</td><td style=\"border: 1px solid white;\">Atlantic Southeast Airlines</td></tr><tr style=\"{border: 1px solid white;}\"><td style=\"border-bottom: 1px solid #DDD;font-size:1.02em;background-color:#263133;color:white\"><b>4</b></td><td style=\"border: 1px solid white;\">10135</td><td style=\"border: 1px solid white;\">2015-10-01 14:44:00</td><td style=\"border: 1px solid white;\">0</td><td style=\"border: 1px solid white;\">-1</td><td style=\"border: 1px solid white;\">10397</td><td style=\"border: 1px solid white;\">EV</td><td style=\"border: 1px solid white;\">Atlantic Southeast Airlines</td></tr><tr><td style=\"border-top: 1px solid white;background-color:#263133;color:white\"></td><td style=\"border: 1px solid white;\">...</td><td style=\"border: 1px solid white;\">...</td><td style=\"border: 1px solid white;\">...</td><td style=\"border: 1px solid white;\">...</td><td style=\"border: 1px solid white;\">...</td><td style=\"border: 1px solid white;\">...</td><td style=\"border: 1px solid white;\">...</td></tr></table>"
      ],
      "text/plain": [
       "<IPython.core.display.HTML object>"
      ]
     },
     "metadata": {},
     "output_type": "display_data"
    },
    {
     "name": "stdout",
     "output_type": "stream",
     "text": [
      "<object>  Name: join, Number of rows: 4068736, Number of columns: 7\n"
     ]
    }
   ],
   "source": [
    "flights = flights.join(airlines,\n",
    "                       how = \"left\",\n",
    "                       on = {\"airline\": \"IATA_CODE\"},\n",
    "                       expr2 = [\"AIRLINE AS airline_long\"])\n",
    "print(flights)"
   ]
  },
  {
   "cell_type": "markdown",
   "metadata": {},
   "source": [
    "Let's use two left joins to get the information on the origin and destination airports."
   ]
  },
  {
   "cell_type": "code",
   "execution_count": 126,
   "metadata": {},
   "outputs": [
    {
     "data": {
      "text/html": [
       "<table style=\"border-collapse: collapse; border: 2px solid white\"><tr style=\"{border: 1px solid white;}\"><td style=\"border-bottom: 1px solid #DDD;font-size:1.02em;background-color:#263133;color:white\"><b></b></td><td style=\"font-size:1.02em;background-color:#263133;color:white\"><b>destination_airport</b></td><td style=\"font-size:1.02em;background-color:#263133;color:white\"><b>scheduled_departure</b></td><td style=\"font-size:1.02em;background-color:#263133;color:white\"><b>departure_delay</b></td><td style=\"font-size:1.02em;background-color:#263133;color:white\"><b>arrival_delay</b></td><td style=\"font-size:1.02em;background-color:#263133;color:white\"><b>origin_airport</b></td><td style=\"font-size:1.02em;background-color:#263133;color:white\"><b>airline</b></td><td style=\"font-size:1.02em;background-color:#263133;color:white\"><b>airline_long</b></td><td style=\"font-size:1.02em;background-color:#263133;color:white\"><b>origin_lat</b></td><td style=\"font-size:1.02em;background-color:#263133;color:white\"><b>origin_lon</b></td><td style=\"font-size:1.02em;background-color:#263133;color:white\"><b>destination_lat</b></td><td style=\"font-size:1.02em;background-color:#263133;color:white\"><b>destination_lon</b></td></tr><tr style=\"{border: 1px solid white;}\"><td style=\"border-bottom: 1px solid #DDD;font-size:1.02em;background-color:#263133;color:white\"><b>0</b></td><td style=\"border: 1px solid white;\">BRW</td><td style=\"border: 1px solid white;\">2015-01-02 17:28:00</td><td style=\"border: 1px solid white;\">-6</td><td style=\"border: 1px solid white;\">-18</td><td style=\"border: 1px solid white;\">ANC</td><td style=\"border: 1px solid white;\">AS</td><td style=\"border: 1px solid white;\">Alaska Airlines Inc.</td><td style=\"border: 1px solid white;\">61.17432</td><td style=\"border: 1px solid white;\">-149.99619</td><td style=\"border: 1px solid white;\">71.28545</td><td style=\"border: 1px solid white;\">-156.766</td></tr><tr style=\"{border: 1px solid white;}\"><td style=\"border-bottom: 1px solid #DDD;font-size:1.02em;background-color:#263133;color:white\"><b>1</b></td><td style=\"border: 1px solid white;\">BRW</td><td style=\"border: 1px solid white;\">2015-01-03 17:21:00</td><td style=\"border: 1px solid white;\">-7</td><td style=\"border: 1px solid white;\">-11</td><td style=\"border: 1px solid white;\">SCC</td><td style=\"border: 1px solid white;\">AS</td><td style=\"border: 1px solid white;\">Alaska Airlines Inc.</td><td style=\"border: 1px solid white;\">70.19476</td><td style=\"border: 1px solid white;\">-148.46516</td><td style=\"border: 1px solid white;\">71.28545</td><td style=\"border: 1px solid white;\">-156.766</td></tr><tr style=\"{border: 1px solid white;}\"><td style=\"border-bottom: 1px solid #DDD;font-size:1.02em;background-color:#263133;color:white\"><b>2</b></td><td style=\"border: 1px solid white;\">BRW</td><td style=\"border: 1px solid white;\">2015-01-01 17:21:00</td><td style=\"border: 1px solid white;\">-7</td><td style=\"border: 1px solid white;\">-9</td><td style=\"border: 1px solid white;\">SCC</td><td style=\"border: 1px solid white;\">AS</td><td style=\"border: 1px solid white;\">Alaska Airlines Inc.</td><td style=\"border: 1px solid white;\">70.19476</td><td style=\"border: 1px solid white;\">-148.46516</td><td style=\"border: 1px solid white;\">71.28545</td><td style=\"border: 1px solid white;\">-156.766</td></tr><tr style=\"{border: 1px solid white;}\"><td style=\"border-bottom: 1px solid #DDD;font-size:1.02em;background-color:#263133;color:white\"><b>3</b></td><td style=\"border: 1px solid white;\">BRW</td><td style=\"border: 1px solid white;\">2015-01-02 17:21:00</td><td style=\"border: 1px solid white;\">-7</td><td style=\"border: 1px solid white;\">2</td><td style=\"border: 1px solid white;\">SCC</td><td style=\"border: 1px solid white;\">AS</td><td style=\"border: 1px solid white;\">Alaska Airlines Inc.</td><td style=\"border: 1px solid white;\">70.19476</td><td style=\"border: 1px solid white;\">-148.46516</td><td style=\"border: 1px solid white;\">71.28545</td><td style=\"border: 1px solid white;\">-156.766</td></tr><tr style=\"{border: 1px solid white;}\"><td style=\"border-bottom: 1px solid #DDD;font-size:1.02em;background-color:#263133;color:white\"><b>4</b></td><td style=\"border: 1px solid white;\">BRW</td><td style=\"border: 1px solid white;\">2015-01-03 17:28:00</td><td style=\"border: 1px solid white;\">-7</td><td style=\"border: 1px solid white;\">-20</td><td style=\"border: 1px solid white;\">ANC</td><td style=\"border: 1px solid white;\">AS</td><td style=\"border: 1px solid white;\">Alaska Airlines Inc.</td><td style=\"border: 1px solid white;\">61.17432</td><td style=\"border: 1px solid white;\">-149.99619</td><td style=\"border: 1px solid white;\">71.28545</td><td style=\"border: 1px solid white;\">-156.766</td></tr><tr><td style=\"border-top: 1px solid white;background-color:#263133;color:white\"></td><td style=\"border: 1px solid white;\">...</td><td style=\"border: 1px solid white;\">...</td><td style=\"border: 1px solid white;\">...</td><td style=\"border: 1px solid white;\">...</td><td style=\"border: 1px solid white;\">...</td><td style=\"border: 1px solid white;\">...</td><td style=\"border: 1px solid white;\">...</td><td style=\"border: 1px solid white;\">...</td><td style=\"border: 1px solid white;\">...</td><td style=\"border: 1px solid white;\">...</td><td style=\"border: 1px solid white;\">...</td></tr></table>"
      ],
      "text/plain": [
       "<IPython.core.display.HTML object>"
      ]
     },
     "metadata": {},
     "output_type": "display_data"
    },
    {
     "name": "stdout",
     "output_type": "stream",
     "text": [
      "<object>  Name: join, Number of rows: 4068736, Number of columns: 11\n"
     ]
    }
   ],
   "source": [
    "flights = flights.join(airports,\n",
    "                       how = \"left\",\n",
    "                       on = {\"origin_airport\": \"IATA_CODE\"},\n",
    "                       expr2 = [\"LATITUDE AS origin_lat\",\n",
    "                                \"LONGITUDE AS origin_lon\"])\n",
    "flights = flights.join(airports,\n",
    "                       how = \"left\",\n",
    "                       on = {\"destination_airport\": \"IATA_CODE\"},\n",
    "                       expr2 = [\"LATITUDE AS destination_lat\",\n",
    "                                \"LONGITUDE AS destination_lon\"])\n",
    "print(flights)"
   ]
  },
  {
   "cell_type": "markdown",
   "metadata": {},
   "source": [
    "Splitting the data into different tables is very important to avoid duplicated information and to save data storage. Just imagine writing the longitude and the latitude of the destination and origin airports for each flight. It will add too much duplicates and it can drastically increase the data volume."
   ]
  },
  {
   "cell_type": "markdown",
   "metadata": {},
   "source": [
    "Cross Joins are special. They don't need a key and they are used to do mathematical operations. Let's now use a cross join of the 'airports' dataset on itself to compute the distance between all the different airports."
   ]
  },
  {
   "cell_type": "code",
   "execution_count": 112,
   "metadata": {},
   "outputs": [
    {
     "name": "stdout",
     "output_type": "stream",
     "text": [
      "322 element(s) was/were filtered\n"
     ]
    },
    {
     "data": {
      "text/html": [
       "<table style=\"border-collapse: collapse; border: 2px solid white\"><tr style=\"{border: 1px solid white;}\"><td style=\"border-bottom: 1px solid #DDD;font-size:1.02em;background-color:#263133;color:white\"><b></b></td><td style=\"font-size:1.02em;background-color:#263133;color:white\"><b>airport1</b></td><td style=\"font-size:1.02em;background-color:#263133;color:white\"><b>airport1_latitude</b></td><td style=\"font-size:1.02em;background-color:#263133;color:white\"><b>airport1_longitude</b></td><td style=\"font-size:1.02em;background-color:#263133;color:white\"><b>airport2</b></td><td style=\"font-size:1.02em;background-color:#263133;color:white\"><b>airport2_latitude</b></td><td style=\"font-size:1.02em;background-color:#263133;color:white\"><b>airport2_longitude</b></td><td style=\"font-size:1.02em;background-color:#263133;color:white\"><b>distance</b></td></tr><tr style=\"{border: 1px solid white;}\"><td style=\"border-bottom: 1px solid #DDD;font-size:1.02em;background-color:#263133;color:white\"><b>0</b></td><td style=\"border: 1px solid white;\">ABE</td><td style=\"border: 1px solid white;\">40.65236</td><td style=\"border: 1px solid white;\">-75.4404</td><td style=\"border: 1px solid white;\">ABI</td><td style=\"border: 1px solid white;\">32.41132</td><td style=\"border: 1px solid white;\">-99.6819</td><td style=\"border: 1px solid white;\">2341.90022515853</td></tr><tr style=\"{border: 1px solid white;}\"><td style=\"border-bottom: 1px solid #DDD;font-size:1.02em;background-color:#263133;color:white\"><b>1</b></td><td style=\"border: 1px solid white;\">ABE</td><td style=\"border: 1px solid white;\">40.65236</td><td style=\"border: 1px solid white;\">-75.4404</td><td style=\"border: 1px solid white;\">ABQ</td><td style=\"border: 1px solid white;\">35.04022</td><td style=\"border: 1px solid white;\">-106.60919</td><td style=\"border: 1px solid white;\">2791.44167745523</td></tr><tr style=\"{border: 1px solid white;}\"><td style=\"border-bottom: 1px solid #DDD;font-size:1.02em;background-color:#263133;color:white\"><b>2</b></td><td style=\"border: 1px solid white;\">ABE</td><td style=\"border: 1px solid white;\">40.65236</td><td style=\"border: 1px solid white;\">-75.4404</td><td style=\"border: 1px solid white;\">ABR</td><td style=\"border: 1px solid white;\">45.44906</td><td style=\"border: 1px solid white;\">-98.42183</td><td style=\"border: 1px solid white;\">1934.49820074978</td></tr><tr style=\"{border: 1px solid white;}\"><td style=\"border-bottom: 1px solid #DDD;font-size:1.02em;background-color:#263133;color:white\"><b>3</b></td><td style=\"border: 1px solid white;\">ABE</td><td style=\"border: 1px solid white;\">40.65236</td><td style=\"border: 1px solid white;\">-75.4404</td><td style=\"border: 1px solid white;\">ABY</td><td style=\"border: 1px solid white;\">31.53552</td><td style=\"border: 1px solid white;\">-84.19447</td><td style=\"border: 1px solid white;\">1281.62374218022</td></tr><tr style=\"{border: 1px solid white;}\"><td style=\"border-bottom: 1px solid #DDD;font-size:1.02em;background-color:#263133;color:white\"><b>4</b></td><td style=\"border: 1px solid white;\">ABE</td><td style=\"border: 1px solid white;\">40.65236</td><td style=\"border: 1px solid white;\">-75.4404</td><td style=\"border: 1px solid white;\">ACK</td><td style=\"border: 1px solid white;\">41.25305</td><td style=\"border: 1px solid white;\">-70.06018</td><td style=\"border: 1px solid white;\">456.66493443057</td></tr><tr><td style=\"border-top: 1px solid white;background-color:#263133;color:white\"></td><td style=\"border: 1px solid white;\">...</td><td style=\"border: 1px solid white;\">...</td><td style=\"border: 1px solid white;\">...</td><td style=\"border: 1px solid white;\">...</td><td style=\"border: 1px solid white;\">...</td><td style=\"border: 1px solid white;\">...</td><td style=\"border: 1px solid white;\">...</td></tr></table>"
      ],
      "text/plain": [
       "<IPython.core.display.HTML object>"
      ]
     },
     "metadata": {},
     "output_type": "display_data"
    },
    {
     "data": {
      "text/plain": [
       "<object>  Name: join, Number of rows: 103362, Number of columns: 7"
      ]
     },
     "execution_count": 112,
     "metadata": {},
     "output_type": "execute_result"
    }
   ],
   "source": [
    "distances = airports.join(airports, \n",
    "                          how = \"cross\", \n",
    "                          expr1 = [\"IATA_CODE AS airport1\", \n",
    "                                   \"LATITUDE AS airport1_latitude\", \n",
    "                                   \"LONGITUDE AS airport1_longitude\"],\n",
    "                          expr2 = [\"IATA_CODE AS airport2\", \n",
    "                                   \"LATITUDE AS airport2_latitude\", \n",
    "                                   \"LONGITUDE AS airport2_longitude\"])\n",
    "distances.filter(\"airport1 != airport2\")\n",
    "distances.eval(\"distance\", \n",
    "    \"DISTANCE(airport1_latitude, airport1_longitude, airport2_latitude, airport2_longitude)\")"
   ]
  },
  {
   "cell_type": "markdown",
   "metadata": {},
   "source": [
    "We now know how to merge different datasets together. In the next lesson, we will look at other interesting concepts like handling duplicates."
   ]
  }
 ],
 "metadata": {
  "kernelspec": {
   "display_name": "Python 3",
   "language": "python",
   "name": "python3"
  },
  "language_info": {
   "codemirror_mode": {
    "name": "ipython",
    "version": 3
   },
   "file_extension": ".py",
   "mimetype": "text/x-python",
   "name": "python",
   "nbconvert_exporter": "python",
   "pygments_lexer": "ipython3",
   "version": "3.6.3"
  }
 },
 "nbformat": 4,
 "nbformat_minor": 2
}
