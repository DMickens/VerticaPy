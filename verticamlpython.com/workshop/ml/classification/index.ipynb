{
 "cells": [
  {
   "cell_type": "markdown",
   "metadata": {},
   "source": [
    "# Classification"
   ]
  },
  {
   "cell_type": "markdown",
   "metadata": {},
   "source": [
    "Classifications are specific ML algorithms which are used to predict categorical response columns. When the number of categories of the response column is greater than two, we use the term 'Multiclass Classification' to describe them. Examples of classification are predicting the flower species using specific characteristics or predicting telco customers churn.\n",
    "\n",
    "To understand how to create a classification model, let's predict the flower species using the Iris dataset. \n",
    "\n",
    "First, let's import the Random Forest Classifier."
   ]
  },
  {
   "cell_type": "code",
   "execution_count": 53,
   "metadata": {},
   "outputs": [],
   "source": [
    "from vertica_ml_python.learn.ensemble import RandomForestClassifier"
   ]
  },
  {
   "cell_type": "markdown",
   "metadata": {},
   "source": [
    "We can create a model object. As Vertica has its own model management system, we need to choose a model name with the other parameters."
   ]
  },
  {
   "cell_type": "code",
   "execution_count": 54,
   "metadata": {},
   "outputs": [],
   "source": [
    "model = RandomForestClassifier(\"RF_Iris\")"
   ]
  },
  {
   "cell_type": "markdown",
   "metadata": {},
   "source": [
    "We can fit the model using the corresponding data."
   ]
  },
  {
   "cell_type": "code",
   "execution_count": 55,
   "metadata": {},
   "outputs": [
    {
     "data": {
      "text/plain": [
       "\n",
       "\n",
       "===========\n",
       "call_string\n",
       "===========\n",
       "SELECT rf_classifier('public.RF_Iris', 'iris', '\"species\"', '\"PetalLengthCm\", \"SepalLengthCm\"' USING PARAMETERS exclude_columns='', ntree=10, mtry=1, sampling_size=0.632, max_depth=5, max_breadth=1000000000, min_leaf_size=1, min_info_gain=0, nbins=32);\n",
       "\n",
       "=======\n",
       "details\n",
       "=======\n",
       "  predictor  |      type      \n",
       "-------------+----------------\n",
       "petallengthcm|float or numeric\n",
       "sepallengthcm|float or numeric\n",
       "\n",
       "\n",
       "===============\n",
       "Additional Info\n",
       "===============\n",
       "       Name       |Value\n",
       "------------------+-----\n",
       "    tree_count    | 10  \n",
       "rejected_row_count|  0  \n",
       "accepted_row_count| 150 "
      ]
     },
     "execution_count": 55,
     "metadata": {},
     "output_type": "execute_result"
    }
   ],
   "source": [
    "model.fit(\"iris\", [\"PetalLengthCm\", \"SepalLengthCm\"], \"Species\")"
   ]
  },
  {
   "cell_type": "markdown",
   "metadata": {},
   "source": [
    "To evaluate the model, we can use different metrics."
   ]
  },
  {
   "cell_type": "code",
   "execution_count": 56,
   "metadata": {},
   "outputs": [
    {
     "data": {
      "text/html": [
       "<table style=\"border-collapse: collapse; border: 2px solid white\"><tr style=\"{border: 1px solid white;}\"><td style=\"border-bottom: 1px solid #DDD;font-size:1.02em;background-color:#214579;color:white\"><b></b></td><td style=\"font-size:1.02em;background-color:#214579;color:white\"><b>Iris-setosa</b></td><td style=\"font-size:1.02em;background-color:#214579;color:white\"><b>Iris-versicolor</b></td><td style=\"font-size:1.02em;background-color:#214579;color:white\"><b>Iris-virginica</b></td></tr><tr style=\"{border: 1px solid white;}\"><td style=\"border-bottom: 1px solid #DDD;font-size:1.02em;background-color:#214579;color:white\"><b>auc</b></td><td style=\"border: 1px solid white;\">1.0</td><td style=\"border: 1px solid white;\">0.9956000000000004</td><td style=\"border: 1px solid white;\">0.9968000000000006</td></tr><tr style=\"{border: 1px solid white;}\"><td style=\"border-bottom: 1px solid #DDD;font-size:1.02em;background-color:#214579;color:white\"><b>prc_auc</b></td><td style=\"border: 1px solid white;\">1.0</td><td style=\"border: 1px solid white;\">0.992143797360809</td><td style=\"border: 1px solid white;\">0.9936004843289119</td></tr><tr style=\"{border: 1px solid white;}\"><td style=\"border-bottom: 1px solid #DDD;font-size:1.02em;background-color:#214579;color:white\"><b>accuracy</b></td><td style=\"border: 1px solid white;\">1.0</td><td style=\"border: 1px solid white;\">0.9666666666666667</td><td style=\"border: 1px solid white;\">0.9733333333333334</td></tr><tr style=\"{border: 1px solid white;}\"><td style=\"border-bottom: 1px solid #DDD;font-size:1.02em;background-color:#214579;color:white\"><b>log_loss</b></td><td style=\"border: 1px solid white;\">0.0126536049390048</td><td style=\"border: 1px solid white;\">0.0404264391589519</td><td style=\"border: 1px solid white;\">0.0352071123419837</td></tr><tr style=\"{border: 1px solid white;}\"><td style=\"border-bottom: 1px solid #DDD;font-size:1.02em;background-color:#214579;color:white\"><b>precision</b></td><td style=\"border: 1px solid white;\">1.0</td><td style=\"border: 1px solid white;\">0.96</td><td style=\"border: 1px solid white;\">0.98</td></tr><tr style=\"{border: 1px solid white;}\"><td style=\"border-bottom: 1px solid #DDD;font-size:1.02em;background-color:#214579;color:white\"><b>recall</b></td><td style=\"border: 1px solid white;\">1.0</td><td style=\"border: 1px solid white;\">0.9411764705882353</td><td style=\"border: 1px solid white;\">0.9423076923076923</td></tr><tr style=\"{border: 1px solid white;}\"><td style=\"border-bottom: 1px solid #DDD;font-size:1.02em;background-color:#214579;color:white\"><b>f1_score</b></td><td style=\"border: 1px solid white;\">1.0</td><td style=\"border: 1px solid white;\">0.9600989792762139</td><td style=\"border: 1px solid white;\">0.9654682104407882</td></tr><tr style=\"{border: 1px solid white;}\"><td style=\"border-bottom: 1px solid #DDD;font-size:1.02em;background-color:#214579;color:white\"><b>mcc</b></td><td style=\"border: 1px solid white;\">1.0</td><td style=\"border: 1px solid white;\">0.9254762227411247</td><td style=\"border: 1px solid white;\">0.9410092614535137</td></tr><tr style=\"{border: 1px solid white;}\"><td style=\"border-bottom: 1px solid #DDD;font-size:1.02em;background-color:#214579;color:white\"><b>informedness</b></td><td style=\"border: 1px solid white;\">1.0</td><td style=\"border: 1px solid white;\">0.9209744503862152</td><td style=\"border: 1px solid white;\">0.9321036106750391</td></tr><tr style=\"{border: 1px solid white;}\"><td style=\"border-bottom: 1px solid #DDD;font-size:1.02em;background-color:#214579;color:white\"><b>markedness</b></td><td style=\"border: 1px solid white;\">1.0</td><td style=\"border: 1px solid white;\">0.9299999999999999</td><td style=\"border: 1px solid white;\">0.95</td></tr><tr style=\"{border: 1px solid white;}\"><td style=\"border-bottom: 1px solid #DDD;font-size:1.02em;background-color:#214579;color:white\"><b>csi</b></td><td style=\"border: 1px solid white;\">1.0</td><td style=\"border: 1px solid white;\">0.9056603773584906</td><td style=\"border: 1px solid white;\">0.9245283018867925</td></tr><tr style=\"{border: 1px solid white;}\"><td style=\"border-bottom: 1px solid #DDD;font-size:1.02em;background-color:#214579;color:white\"><b>cutoff</b></td><td style=\"border: 1px solid white;\">0.635</td><td style=\"border: 1px solid white;\">0.526</td><td style=\"border: 1px solid white;\">0.325</td></tr></table>"
      ],
      "text/plain": [
       "<IPython.core.display.HTML object>"
      ]
     },
     "metadata": {},
     "output_type": "display_data"
    },
    {
     "data": {
      "text/plain": [
       "<object>"
      ]
     },
     "execution_count": 56,
     "metadata": {},
     "output_type": "execute_result"
    }
   ],
   "source": [
    "model.classification_report()"
   ]
  },
  {
   "cell_type": "markdown",
   "metadata": {},
   "source": [
    "We did not split the data into train and test which will be more relevant. The purpose is to understand all the possible metrics to evaluate a Classification. The most famous one is the Accuracy for which the closer it is to 1, the better it is. However, wrong metrics can lead to wrong interpretations. \n",
    "\n",
    "Let's take the example where the purpose is to find Bank Frauds. As frauds are rare they can represent less than 1% of the data. Predicting that all the data do not correspond to Frauds will then lead to more than 99% of accuracy. That's why ROC AUC and PRC AUC are more robust metrics.\n",
    "\n",
    "Besides, a good model is a model which will solve the Business problem. Most of the time we consider that any model better than the random model is good.\n",
    "\n",
    "In the next lesson, you'll learn how to build unsupervised models."
   ]
  }
 ],
 "metadata": {
  "kernelspec": {
   "display_name": "Python 3",
   "language": "python",
   "name": "python3"
  },
  "language_info": {
   "codemirror_mode": {
    "name": "ipython",
    "version": 3
   },
   "file_extension": ".py",
   "mimetype": "text/x-python",
   "name": "python",
   "nbconvert_exporter": "python",
   "pygments_lexer": "ipython3",
   "version": "3.6.3"
  }
 },
 "nbformat": 4,
 "nbformat_minor": 2
}
