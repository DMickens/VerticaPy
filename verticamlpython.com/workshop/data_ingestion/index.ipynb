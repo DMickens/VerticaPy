{
 "cells": [
  {
   "cell_type": "markdown",
   "metadata": {},
   "source": [
    "# Data Ingestion"
   ]
  },
  {
   "cell_type": "markdown",
   "metadata": {},
   "source": [
    "The First Step of the Data Science Process (Excluding Business Understanding) is the Data Ingestion. To do Data Science, we need data and it is important to be able to ingest different types of formats. Vertica allows the ingestion of many data files thanks to different built-in parsers.\n",
    "\n",
    "Most of the time we know in advance the file types and we need to write the entire SQL query to ingest it. However, sometimes we don't know the columns names and types in advance. To solve this problem, Vertica allows the users to create Flex Tables. They are efficient ways to ingest any data file without knowing in advance its columns types or even its structure.\n",
    "\n",
    "Vertica ML Python is using Flex Tables to allow the auto-ingestion of JSON and CSV files. For the other files types, it is advise to use direct SQL queries to ingest them. Becareful when using the following functions as the data types detected may not be optimal and it is always preferable to write SQL queries using optimized types and segmentations. \n",
    "\n",
    "It is important to remember that Vertica ML Python is using Vertica SQL in back-end so by optimizing table structure you are increasing Vertica ML Python performance."
   ]
  },
  {
   "cell_type": "markdown",
   "metadata": {},
   "source": [
    "# Ingesting CSV"
   ]
  },
  {
   "cell_type": "markdown",
   "metadata": {},
   "source": [
    "CSV is the favourite data scientists format. It has an internal structure which makes it easy to ingest. To ingest a CSV file, we will use the 'read_csv' function."
   ]
  },
  {
   "cell_type": "code",
   "execution_count": 13,
   "metadata": {},
   "outputs": [
    {
     "name": "stdout",
     "output_type": "stream",
     "text": [
      "Help on function read_csv in module vertica_ml_python.utilities:\n",
      "\n",
      "read_csv(path:str, cursor=None, schema:str='public', table_name:str='', sep:str=',', header:bool=True, header_names:list=[], na_rep:str='', quotechar:str='\"', escape:str='\\\\', genSQL:bool=False, parse_n_lines:int=-1, insert:bool=False)\n",
      "    ---------------------------------------------------------------------------\n",
      "    Ingests a CSV file using flex tables.\n",
      "    \n",
      "    Parameters\n",
      "    ----------\n",
      "    path: str\n",
      "            Absolute path where the CSV file is located.\n",
      "    cursor: DBcursor, optional\n",
      "            Vertica DB cursor.\n",
      "    schema: str, optional\n",
      "            Schema where the CSV file will be ingested.\n",
      "    table_name: str, optional\n",
      "            Final relation name.\n",
      "    sep: str, optional\n",
      "            Column separator.\n",
      "    header: bool, optional\n",
      "            If set to False, the parameter 'header_names' will be used to name the \n",
      "            different columns.\n",
      "    header_names: list, optional\n",
      "            List of the columns names.\n",
      "    na_rep: str, optional\n",
      "            Missing values representation.\n",
      "    quotechar: str, optional\n",
      "            Char which is enclosing the str values.\n",
      "    escape: str, optional\n",
      "            Separator between each record.\n",
      "    genSQL: bool, optional\n",
      "            If set to True, the SQL code used to create the final table will be \n",
      "            generated but not executed. It is a good way to change the final\n",
      "            relation types or to customize the data ingestion.\n",
      "    parse_n_lines: int, optional\n",
      "            If this parameter is greater than 0. A new file of 'parse_n_lines' lines\n",
      "            will be created and ingested first to identify the data types. It will be\n",
      "            then dropped and the entire file will be ingested. The data types identification\n",
      "            will be less precise but this parameter can make the process faster if the\n",
      "            file is heavy.\n",
      "    insert: bool, optional\n",
      "            If set to True, the data will be ingested to the input relation. Be sure\n",
      "            that your file has a header corresponding to the name of the relation\n",
      "            columns otherwise the ingestion will not work.\n",
      "    \n",
      "    Returns\n",
      "    -------\n",
      "    vDataFrame\n",
      "            The vDataFrame of the relation.\n",
      "    \n",
      "    See Also\n",
      "    --------\n",
      "    read_json : Ingests a JSON file in the Vertica DB.\n",
      "\n"
     ]
    }
   ],
   "source": [
    "from vertica_ml_python import read_csv\n",
    "help(read_csv)"
   ]
  },
  {
   "cell_type": "markdown",
   "metadata": {},
   "source": [
    "You can easily ingest a CSV file by entering the correct parameters."
   ]
  },
  {
   "cell_type": "code",
   "execution_count": 16,
   "metadata": {},
   "outputs": [
    {
     "name": "stdout",
     "output_type": "stream",
     "text": [
      "The table \"public\".\"titanic\" has been successfully created.\n"
     ]
    },
    {
     "data": {
      "text/html": [
       "<table style=\"border-collapse: collapse; border: 2px solid white\"><tr style=\"{border: 1px solid white;}\"><td style=\"border-bottom: 1px solid #DDD;font-size:1.02em;background-color:#263133;color:white\"><b></b></td><td style=\"font-size:1.02em;background-color:#263133;color:white\"><b>survived</b></td><td style=\"font-size:1.02em;background-color:#263133;color:white\"><b>boat</b></td><td style=\"font-size:1.02em;background-color:#263133;color:white\"><b>ticket</b></td><td style=\"font-size:1.02em;background-color:#263133;color:white\"><b>embarked</b></td><td style=\"font-size:1.02em;background-color:#263133;color:white\"><b>home.dest</b></td><td style=\"font-size:1.02em;background-color:#263133;color:white\"><b>sibsp</b></td><td style=\"font-size:1.02em;background-color:#263133;color:white\"><b>fare</b></td><td style=\"font-size:1.02em;background-color:#263133;color:white\"><b>sex</b></td><td style=\"font-size:1.02em;background-color:#263133;color:white\"><b>body</b></td><td style=\"font-size:1.02em;background-color:#263133;color:white\"><b>pclass</b></td><td style=\"font-size:1.02em;background-color:#263133;color:white\"><b>age</b></td><td style=\"font-size:1.02em;background-color:#263133;color:white\"><b>name</b></td><td style=\"font-size:1.02em;background-color:#263133;color:white\"><b>cabin</b></td><td style=\"font-size:1.02em;background-color:#263133;color:white\"><b>parch</b></td></tr><tr style=\"{border: 1px solid white;}\"><td style=\"border-bottom: 1px solid #DDD;font-size:1.02em;background-color:#263133;color:white\"><b>0</b></td><td style=\"border: 1px solid white;\">1</td><td style=\"border: 1px solid white;\">2</td><td style=\"border: 1px solid white;\">24160</td><td style=\"border: 1px solid white;\">S</td><td style=\"border: 1px solid white;\">St Louis, MO</td><td style=\"border: 1px solid white;\">0</td><td style=\"border: 1px solid white;\">211.3375</td><td style=\"border: 1px solid white;\">female</td><td style=\"border: 1px solid white;\">None</td><td style=\"border: 1px solid white;\">1</td><td style=\"border: 1px solid white;\">29.0</td><td style=\"border: 1px solid white;\">Allen, Miss. Elisabeth Walton</td><td style=\"border: 1px solid white;\">B5</td><td style=\"border: 1px solid white;\">0</td></tr><tr style=\"{border: 1px solid white;}\"><td style=\"border-bottom: 1px solid #DDD;font-size:1.02em;background-color:#263133;color:white\"><b>1</b></td><td style=\"border: 1px solid white;\">1</td><td style=\"border: 1px solid white;\">11</td><td style=\"border: 1px solid white;\">113781</td><td style=\"border: 1px solid white;\">S</td><td style=\"border: 1px solid white;\">Montreal, PQ / Chesterville, ON</td><td style=\"border: 1px solid white;\">1</td><td style=\"border: 1px solid white;\">151.55</td><td style=\"border: 1px solid white;\">male</td><td style=\"border: 1px solid white;\">None</td><td style=\"border: 1px solid white;\">1</td><td style=\"border: 1px solid white;\">0.92</td><td style=\"border: 1px solid white;\">Allison, Master. Hudson Trevor</td><td style=\"border: 1px solid white;\">C22 C26</td><td style=\"border: 1px solid white;\">2</td></tr><tr style=\"{border: 1px solid white;}\"><td style=\"border-bottom: 1px solid #DDD;font-size:1.02em;background-color:#263133;color:white\"><b>2</b></td><td style=\"border: 1px solid white;\">0</td><td style=\"border: 1px solid white;\">None</td><td style=\"border: 1px solid white;\">113781</td><td style=\"border: 1px solid white;\">S</td><td style=\"border: 1px solid white;\">Montreal, PQ / Chesterville, ON</td><td style=\"border: 1px solid white;\">1</td><td style=\"border: 1px solid white;\">151.55</td><td style=\"border: 1px solid white;\">female</td><td style=\"border: 1px solid white;\">None</td><td style=\"border: 1px solid white;\">1</td><td style=\"border: 1px solid white;\">2.0</td><td style=\"border: 1px solid white;\">Allison, Miss. Helen Loraine</td><td style=\"border: 1px solid white;\">C22 C26</td><td style=\"border: 1px solid white;\">2</td></tr><tr style=\"{border: 1px solid white;}\"><td style=\"border-bottom: 1px solid #DDD;font-size:1.02em;background-color:#263133;color:white\"><b>3</b></td><td style=\"border: 1px solid white;\">0</td><td style=\"border: 1px solid white;\">None</td><td style=\"border: 1px solid white;\">113781</td><td style=\"border: 1px solid white;\">S</td><td style=\"border: 1px solid white;\">Montreal, PQ / Chesterville, ON</td><td style=\"border: 1px solid white;\">1</td><td style=\"border: 1px solid white;\">151.55</td><td style=\"border: 1px solid white;\">male</td><td style=\"border: 1px solid white;\">135</td><td style=\"border: 1px solid white;\">1</td><td style=\"border: 1px solid white;\">30.0</td><td style=\"border: 1px solid white;\">Allison, Mr. Hudson Joshua Creighton</td><td style=\"border: 1px solid white;\">C22 C26</td><td style=\"border: 1px solid white;\">2</td></tr><tr style=\"{border: 1px solid white;}\"><td style=\"border-bottom: 1px solid #DDD;font-size:1.02em;background-color:#263133;color:white\"><b>4</b></td><td style=\"border: 1px solid white;\">0</td><td style=\"border: 1px solid white;\">None</td><td style=\"border: 1px solid white;\">113781</td><td style=\"border: 1px solid white;\">S</td><td style=\"border: 1px solid white;\">Montreal, PQ / Chesterville, ON</td><td style=\"border: 1px solid white;\">1</td><td style=\"border: 1px solid white;\">151.55</td><td style=\"border: 1px solid white;\">female</td><td style=\"border: 1px solid white;\">None</td><td style=\"border: 1px solid white;\">1</td><td style=\"border: 1px solid white;\">25.0</td><td style=\"border: 1px solid white;\">Allison, Mrs. Hudson J C (Bessie Waldo Daniels)</td><td style=\"border: 1px solid white;\">C22 C26</td><td style=\"border: 1px solid white;\">2</td></tr><tr><td style=\"border-top: 1px solid white;background-color:#263133;color:white\"></td><td style=\"border: 1px solid white;\">...</td><td style=\"border: 1px solid white;\">...</td><td style=\"border: 1px solid white;\">...</td><td style=\"border: 1px solid white;\">...</td><td style=\"border: 1px solid white;\">...</td><td style=\"border: 1px solid white;\">...</td><td style=\"border: 1px solid white;\">...</td><td style=\"border: 1px solid white;\">...</td><td style=\"border: 1px solid white;\">...</td><td style=\"border: 1px solid white;\">...</td><td style=\"border: 1px solid white;\">...</td><td style=\"border: 1px solid white;\">...</td><td style=\"border: 1px solid white;\">...</td><td style=\"border: 1px solid white;\">...</td></tr></table>"
      ],
      "text/plain": [
       "<IPython.core.display.HTML object>"
      ]
     },
     "metadata": {},
     "output_type": "display_data"
    },
    {
     "data": {
      "text/plain": [
       "<object>  Name: titanic, Number of rows: 1234, Number of columns: 14"
      ]
     },
     "execution_count": 16,
     "metadata": {},
     "output_type": "execute_result"
    }
   ],
   "source": [
    "read_csv(\"titanic.csv\",\n",
    "         schema = \"public\",\n",
    "         table_name = \"titanic\",\n",
    "         sep = \",\")"
   ]
  },
  {
   "cell_type": "markdown",
   "metadata": {},
   "source": [
    "If no schema is indicated as parameter, the 'public' schema will be used. \n",
    "If 'table_name' is not defined, the name of the final relation will correspond to the name of the CSV file.\n",
    "\n",
    "It is also possible to not ingest the file and only to generate the SQL query which can be used to create the final relation."
   ]
  },
  {
   "cell_type": "code",
   "execution_count": 19,
   "metadata": {},
   "outputs": [
    {
     "name": "stdout",
     "output_type": "stream",
     "text": [
      "CREATE TABLE \"public\".\"titanic\"(\"pclass\" Integer, \"survived\" Integer, \"name\" Varchar(164), \"sex\" Varchar(20), \"age\" Numeric(6,3), \"sibsp\" Integer, \"parch\" Integer, \"ticket\" Varchar(36), \"fare\" Numeric(10,5), \"cabin\" Varchar(30), \"embarked\" Varchar(20), \"boat\" Varchar(100), \"body\" Integer, \"home.dest\" Varchar(100));\n",
      "COPY \"public\".\"titanic\"(\"pclass\", \"survived\", \"name\", \"sex\", \"age\", \"sibsp\", \"parch\", \"ticket\", \"fare\", \"cabin\", \"embarked\", \"boat\", \"body\", \"home.dest\") FROM {} DELIMITER ',' NULL '' ENCLOSED BY '\"' ESCAPE AS '\\' SKIP 1;\n"
     ]
    }
   ],
   "source": [
    "read_csv(\"titanic.csv\",\n",
    "         schema = \"public\",\n",
    "         table_name = \"titanic\",\n",
    "         sep = \",\",\n",
    "         genSQL = True)"
   ]
  },
  {
   "cell_type": "markdown",
   "metadata": {},
   "source": [
    "You can also use the parameter 'insert' to insert new data in the existing relation."
   ]
  },
  {
   "cell_type": "code",
   "execution_count": 22,
   "metadata": {},
   "outputs": [
    {
     "data": {
      "text/html": [
       "<table style=\"border-collapse: collapse; border: 2px solid white\"><tr style=\"{border: 1px solid white;}\"><td style=\"border-bottom: 1px solid #DDD;font-size:1.02em;background-color:#263133;color:white\"><b></b></td><td style=\"font-size:1.02em;background-color:#263133;color:white\"><b>survived</b></td><td style=\"font-size:1.02em;background-color:#263133;color:white\"><b>boat</b></td><td style=\"font-size:1.02em;background-color:#263133;color:white\"><b>ticket</b></td><td style=\"font-size:1.02em;background-color:#263133;color:white\"><b>embarked</b></td><td style=\"font-size:1.02em;background-color:#263133;color:white\"><b>home.dest</b></td><td style=\"font-size:1.02em;background-color:#263133;color:white\"><b>sibsp</b></td><td style=\"font-size:1.02em;background-color:#263133;color:white\"><b>fare</b></td><td style=\"font-size:1.02em;background-color:#263133;color:white\"><b>sex</b></td><td style=\"font-size:1.02em;background-color:#263133;color:white\"><b>body</b></td><td style=\"font-size:1.02em;background-color:#263133;color:white\"><b>pclass</b></td><td style=\"font-size:1.02em;background-color:#263133;color:white\"><b>age</b></td><td style=\"font-size:1.02em;background-color:#263133;color:white\"><b>name</b></td><td style=\"font-size:1.02em;background-color:#263133;color:white\"><b>cabin</b></td><td style=\"font-size:1.02em;background-color:#263133;color:white\"><b>parch</b></td></tr><tr style=\"{border: 1px solid white;}\"><td style=\"border-bottom: 1px solid #DDD;font-size:1.02em;background-color:#263133;color:white\"><b>0</b></td><td style=\"border: 1px solid white;\">1</td><td style=\"border: 1px solid white;\">2</td><td style=\"border: 1px solid white;\">24160</td><td style=\"border: 1px solid white;\">S</td><td style=\"border: 1px solid white;\">St Louis, MO</td><td style=\"border: 1px solid white;\">0</td><td style=\"border: 1px solid white;\">211.3375</td><td style=\"border: 1px solid white;\">female</td><td style=\"border: 1px solid white;\">None</td><td style=\"border: 1px solid white;\">1</td><td style=\"border: 1px solid white;\">29.0</td><td style=\"border: 1px solid white;\">Allen, Miss. Elisabeth Walton</td><td style=\"border: 1px solid white;\">B5</td><td style=\"border: 1px solid white;\">0</td></tr><tr style=\"{border: 1px solid white;}\"><td style=\"border-bottom: 1px solid #DDD;font-size:1.02em;background-color:#263133;color:white\"><b>1</b></td><td style=\"border: 1px solid white;\">1</td><td style=\"border: 1px solid white;\">11</td><td style=\"border: 1px solid white;\">113781</td><td style=\"border: 1px solid white;\">S</td><td style=\"border: 1px solid white;\">Montreal, PQ / Chesterville, ON</td><td style=\"border: 1px solid white;\">1</td><td style=\"border: 1px solid white;\">151.55</td><td style=\"border: 1px solid white;\">male</td><td style=\"border: 1px solid white;\">None</td><td style=\"border: 1px solid white;\">1</td><td style=\"border: 1px solid white;\">0.92</td><td style=\"border: 1px solid white;\">Allison, Master. Hudson Trevor</td><td style=\"border: 1px solid white;\">C22 C26</td><td style=\"border: 1px solid white;\">2</td></tr><tr style=\"{border: 1px solid white;}\"><td style=\"border-bottom: 1px solid #DDD;font-size:1.02em;background-color:#263133;color:white\"><b>2</b></td><td style=\"border: 1px solid white;\">0</td><td style=\"border: 1px solid white;\">None</td><td style=\"border: 1px solid white;\">113781</td><td style=\"border: 1px solid white;\">S</td><td style=\"border: 1px solid white;\">Montreal, PQ / Chesterville, ON</td><td style=\"border: 1px solid white;\">1</td><td style=\"border: 1px solid white;\">151.55</td><td style=\"border: 1px solid white;\">female</td><td style=\"border: 1px solid white;\">None</td><td style=\"border: 1px solid white;\">1</td><td style=\"border: 1px solid white;\">2.0</td><td style=\"border: 1px solid white;\">Allison, Miss. Helen Loraine</td><td style=\"border: 1px solid white;\">C22 C26</td><td style=\"border: 1px solid white;\">2</td></tr><tr style=\"{border: 1px solid white;}\"><td style=\"border-bottom: 1px solid #DDD;font-size:1.02em;background-color:#263133;color:white\"><b>3</b></td><td style=\"border: 1px solid white;\">0</td><td style=\"border: 1px solid white;\">None</td><td style=\"border: 1px solid white;\">113781</td><td style=\"border: 1px solid white;\">S</td><td style=\"border: 1px solid white;\">Montreal, PQ / Chesterville, ON</td><td style=\"border: 1px solid white;\">1</td><td style=\"border: 1px solid white;\">151.55</td><td style=\"border: 1px solid white;\">male</td><td style=\"border: 1px solid white;\">135</td><td style=\"border: 1px solid white;\">1</td><td style=\"border: 1px solid white;\">30.0</td><td style=\"border: 1px solid white;\">Allison, Mr. Hudson Joshua Creighton</td><td style=\"border: 1px solid white;\">C22 C26</td><td style=\"border: 1px solid white;\">2</td></tr><tr style=\"{border: 1px solid white;}\"><td style=\"border-bottom: 1px solid #DDD;font-size:1.02em;background-color:#263133;color:white\"><b>4</b></td><td style=\"border: 1px solid white;\">0</td><td style=\"border: 1px solid white;\">None</td><td style=\"border: 1px solid white;\">113781</td><td style=\"border: 1px solid white;\">S</td><td style=\"border: 1px solid white;\">Montreal, PQ / Chesterville, ON</td><td style=\"border: 1px solid white;\">1</td><td style=\"border: 1px solid white;\">151.55</td><td style=\"border: 1px solid white;\">female</td><td style=\"border: 1px solid white;\">None</td><td style=\"border: 1px solid white;\">1</td><td style=\"border: 1px solid white;\">25.0</td><td style=\"border: 1px solid white;\">Allison, Mrs. Hudson J C (Bessie Waldo Daniels)</td><td style=\"border: 1px solid white;\">C22 C26</td><td style=\"border: 1px solid white;\">2</td></tr><tr><td style=\"border-top: 1px solid white;background-color:#263133;color:white\"></td><td style=\"border: 1px solid white;\">...</td><td style=\"border: 1px solid white;\">...</td><td style=\"border: 1px solid white;\">...</td><td style=\"border: 1px solid white;\">...</td><td style=\"border: 1px solid white;\">...</td><td style=\"border: 1px solid white;\">...</td><td style=\"border: 1px solid white;\">...</td><td style=\"border: 1px solid white;\">...</td><td style=\"border: 1px solid white;\">...</td><td style=\"border: 1px solid white;\">...</td><td style=\"border: 1px solid white;\">...</td><td style=\"border: 1px solid white;\">...</td><td style=\"border: 1px solid white;\">...</td><td style=\"border: 1px solid white;\">...</td></tr></table>"
      ],
      "text/plain": [
       "<IPython.core.display.HTML object>"
      ]
     },
     "metadata": {},
     "output_type": "display_data"
    },
    {
     "data": {
      "text/plain": [
       "<object>  Name: titanic, Number of rows: 2468, Number of columns: 14"
      ]
     },
     "execution_count": 22,
     "metadata": {},
     "output_type": "execute_result"
    }
   ],
   "source": [
    "read_csv(\"titanic.csv\",\n",
    "         schema = \"public\",\n",
    "         table_name = \"titanic\",\n",
    "         sep = \",\",\n",
    "         insert = True)"
   ]
  },
  {
   "cell_type": "markdown",
   "metadata": {},
   "source": [
    "# Ingesting JSON"
   ]
  },
  {
   "cell_type": "markdown",
   "metadata": {},
   "source": [
    "JSON is also a popular format and you can ingest JSON files using the 'read_json' function."
   ]
  },
  {
   "cell_type": "code",
   "execution_count": 23,
   "metadata": {},
   "outputs": [
    {
     "name": "stdout",
     "output_type": "stream",
     "text": [
      "Help on function read_json in module vertica_ml_python.utilities:\n",
      "\n",
      "read_json(path:str, cursor=None, schema:str='public', table_name:str='', usecols:list=[], new_name:dict={}, insert:bool=False)\n",
      "    ---------------------------------------------------------------------------\n",
      "    Ingests a JSON file using flex tables.\n",
      "    \n",
      "    Parameters\n",
      "    ----------\n",
      "    path: str\n",
      "            Absolute path where the JSON file is located.\n",
      "    cursor: DBcursor, optional\n",
      "            Vertica DB cursor.\n",
      "    schema: str, optional\n",
      "            Schema where the JSON file will be ingested.\n",
      "    table_name: str, optional\n",
      "            Final relation name.\n",
      "    usecols: list, optional\n",
      "            List of the JSON parameters to ingest. The other ones will be ignored. If\n",
      "            empty all the JSON parameters will be ingested.\n",
      "    new_name: dict, optional\n",
      "            Dictionary of the new columns name. If the JSON file is nested, it is advised\n",
      "            to change the final names as special characters will be included.\n",
      "            For example, {\"param\": {\"age\": 3, \"name\": Badr}, \"date\": 1993-03-11} will \n",
      "            create 3 columns: \"param.age\", \"param.name\" and \"date\". You can rename these \n",
      "            columns using the 'new_name' parameter with the following dictionary:\n",
      "            {\"param.age\": \"age\", \"param.name\": \"name\"}\n",
      "    insert: bool, optional\n",
      "            If set to True, the data will be ingested to the input relation. The JSON\n",
      "            parameters must be the same than the input relation otherwise they will\n",
      "            not be ingested.\n",
      "    \n",
      "    Returns\n",
      "    -------\n",
      "    vDataFrame\n",
      "            The vDataFrame of the relation.\n",
      "    \n",
      "    See Also\n",
      "    --------\n",
      "    read_csv : Ingests a CSV file in the Vertica DB.\n",
      "\n"
     ]
    }
   ],
   "source": [
    "from vertica_ml_python import read_csv\n",
    "help(read_json)"
   ]
  },
  {
   "cell_type": "markdown",
   "metadata": {},
   "source": [
    "This function will work the same way as 'read_csv' but it has less parameter due to the standardization of the JSON format. "
   ]
  },
  {
   "cell_type": "code",
   "execution_count": 25,
   "metadata": {},
   "outputs": [
    {
     "name": "stdout",
     "output_type": "stream",
     "text": [
      "The table \"public\".\"titanic\" has been successfully created.\n"
     ]
    },
    {
     "data": {
      "text/html": [
       "<table style=\"border-collapse: collapse; border: 2px solid white\"><tr style=\"{border: 1px solid white;}\"><td style=\"border-bottom: 1px solid #DDD;font-size:1.02em;background-color:#263133;color:white\"><b></b></td><td style=\"font-size:1.02em;background-color:#263133;color:white\"><b>fields.parch</b></td><td style=\"font-size:1.02em;background-color:#263133;color:white\"><b>fields.name</b></td><td style=\"font-size:1.02em;background-color:#263133;color:white\"><b>fields.survived</b></td><td style=\"font-size:1.02em;background-color:#263133;color:white\"><b>fields.embarked</b></td><td style=\"font-size:1.02em;background-color:#263133;color:white\"><b>fields.sibsp</b></td><td style=\"font-size:1.02em;background-color:#263133;color:white\"><b>record_timestamp</b></td><td style=\"font-size:1.02em;background-color:#263133;color:white\"><b>fields.passengerid</b></td><td style=\"font-size:1.02em;background-color:#263133;color:white\"><b>fields.pclass</b></td><td style=\"font-size:1.02em;background-color:#263133;color:white\"><b>fields.fare</b></td><td style=\"font-size:1.02em;background-color:#263133;color:white\"><b>fields.sex</b></td><td style=\"font-size:1.02em;background-color:#263133;color:white\"><b>fields.ticket</b></td><td style=\"font-size:1.02em;background-color:#263133;color:white\"><b>recordid</b></td><td style=\"font-size:1.02em;background-color:#263133;color:white\"><b>fields.age</b></td><td style=\"font-size:1.02em;background-color:#263133;color:white\"><b>fields.cabin</b></td><td style=\"font-size:1.02em;background-color:#263133;color:white\"><b>datasetid</b></td></tr><tr style=\"{border: 1px solid white;}\"><td style=\"border-bottom: 1px solid #DDD;font-size:1.02em;background-color:#263133;color:white\"><b>0</b></td><td style=\"border: 1px solid white;\">0</td><td style=\"border: 1px solid white;\">Collander, Mr. Erik Gustaf</td><td style=\"border: 1px solid white;\">False</td><td style=\"border: 1px solid white;\">S</td><td style=\"border: 1px solid white;\">0</td><td style=\"border: 1px solid white;\">2016-09-20 15:34:51.313</td><td style=\"border: 1px solid white;\">343</td><td style=\"border: 1px solid white;\">2</td><td style=\"border: 1px solid white;\">13.0</td><td style=\"border: 1px solid white;\">male</td><td style=\"border: 1px solid white;\">248740</td><td style=\"border: 1px solid white;\">835634b93c8f759537a89daa01c3c3658e934617</td><td style=\"border: 1px solid white;\">28.0</td><td style=\"border: 1px solid white;\">None</td><td style=\"border: 1px solid white;\">titanic-passengers</td></tr><tr style=\"{border: 1px solid white;}\"><td style=\"border-bottom: 1px solid #DDD;font-size:1.02em;background-color:#263133;color:white\"><b>1</b></td><td style=\"border: 1px solid white;\">0</td><td style=\"border: 1px solid white;\">Moen, Mr. Sigurd Hansen</td><td style=\"border: 1px solid white;\">False</td><td style=\"border: 1px solid white;\">S</td><td style=\"border: 1px solid white;\">0</td><td style=\"border: 1px solid white;\">2016-09-20 15:34:51.313</td><td style=\"border: 1px solid white;\">76</td><td style=\"border: 1px solid white;\">3</td><td style=\"border: 1px solid white;\">7.65</td><td style=\"border: 1px solid white;\">male</td><td style=\"border: 1px solid white;\">348123</td><td style=\"border: 1px solid white;\">97941a419e5cf6a4bb65147a7a21d7025c8a6e1b</td><td style=\"border: 1px solid white;\">25.0</td><td style=\"border: 1px solid white;\">F G73</td><td style=\"border: 1px solid white;\">titanic-passengers</td></tr><tr style=\"{border: 1px solid white;}\"><td style=\"border-bottom: 1px solid #DDD;font-size:1.02em;background-color:#263133;color:white\"><b>2</b></td><td style=\"border: 1px solid white;\">0</td><td style=\"border: 1px solid white;\">Jensen, Mr. Hans Peder</td><td style=\"border: 1px solid white;\">False</td><td style=\"border: 1px solid white;\">S</td><td style=\"border: 1px solid white;\">0</td><td style=\"border: 1px solid white;\">2016-09-20 15:34:51.313</td><td style=\"border: 1px solid white;\">641</td><td style=\"border: 1px solid white;\">3</td><td style=\"border: 1px solid white;\">7.8542</td><td style=\"border: 1px solid white;\">male</td><td style=\"border: 1px solid white;\">350050</td><td style=\"border: 1px solid white;\">b762da1fa9f7f7765bc14006d9f5b8fc1d2d5177</td><td style=\"border: 1px solid white;\">20.0</td><td style=\"border: 1px solid white;\">None</td><td style=\"border: 1px solid white;\">titanic-passengers</td></tr><tr style=\"{border: 1px solid white;}\"><td style=\"border-bottom: 1px solid #DDD;font-size:1.02em;background-color:#263133;color:white\"><b>3</b></td><td style=\"border: 1px solid white;\">4</td><td style=\"border: 1px solid white;\">Palsson, Mrs. Nils (Alma Cornelia Berglund)</td><td style=\"border: 1px solid white;\">False</td><td style=\"border: 1px solid white;\">S</td><td style=\"border: 1px solid white;\">0</td><td style=\"border: 1px solid white;\">2016-09-20 15:34:51.313</td><td style=\"border: 1px solid white;\">568</td><td style=\"border: 1px solid white;\">3</td><td style=\"border: 1px solid white;\">21.075</td><td style=\"border: 1px solid white;\">female</td><td style=\"border: 1px solid white;\">349909</td><td style=\"border: 1px solid white;\">dc455b086d203605705820911c0aaa98467bcd41</td><td style=\"border: 1px solid white;\">29.0</td><td style=\"border: 1px solid white;\">None</td><td style=\"border: 1px solid white;\">titanic-passengers</td></tr><tr style=\"{border: 1px solid white;}\"><td style=\"border-bottom: 1px solid #DDD;font-size:1.02em;background-color:#263133;color:white\"><b>4</b></td><td style=\"border: 1px solid white;\">0</td><td style=\"border: 1px solid white;\">Davidson, Mr. Thornton</td><td style=\"border: 1px solid white;\">False</td><td style=\"border: 1px solid white;\">S</td><td style=\"border: 1px solid white;\">1</td><td style=\"border: 1px solid white;\">2016-09-20 15:34:51.313</td><td style=\"border: 1px solid white;\">672</td><td style=\"border: 1px solid white;\">1</td><td style=\"border: 1px solid white;\">52.0</td><td style=\"border: 1px solid white;\">male</td><td style=\"border: 1px solid white;\">F.C. 12750</td><td style=\"border: 1px solid white;\">5aa00b39a93376656528f1c7d929a297e31e1a20</td><td style=\"border: 1px solid white;\">31.0</td><td style=\"border: 1px solid white;\">B71</td><td style=\"border: 1px solid white;\">titanic-passengers</td></tr><tr><td style=\"border-top: 1px solid white;background-color:#263133;color:white\"></td><td style=\"border: 1px solid white;\">...</td><td style=\"border: 1px solid white;\">...</td><td style=\"border: 1px solid white;\">...</td><td style=\"border: 1px solid white;\">...</td><td style=\"border: 1px solid white;\">...</td><td style=\"border: 1px solid white;\">...</td><td style=\"border: 1px solid white;\">...</td><td style=\"border: 1px solid white;\">...</td><td style=\"border: 1px solid white;\">...</td><td style=\"border: 1px solid white;\">...</td><td style=\"border: 1px solid white;\">...</td><td style=\"border: 1px solid white;\">...</td><td style=\"border: 1px solid white;\">...</td><td style=\"border: 1px solid white;\">...</td><td style=\"border: 1px solid white;\">...</td></tr></table>"
      ],
      "text/plain": [
       "<IPython.core.display.HTML object>"
      ]
     },
     "metadata": {},
     "output_type": "display_data"
    },
    {
     "data": {
      "text/plain": [
       "<object>  Name: titanic, Number of rows: 891, Number of columns: 15"
      ]
     },
     "execution_count": 25,
     "metadata": {},
     "output_type": "execute_result"
    }
   ],
   "source": [
    "read_json(\"titanic.json\",\n",
    "          schema = \"public\",\n",
    "          table_name = \"titanic\")"
   ]
  },
  {
   "cell_type": "markdown",
   "metadata": {},
   "source": [
    "Our 'JSON' file was nested which leaded to the creation of columns names having a dot ('.') separator. You can use the parameters 'usecols' and 'new_name' to only select the needed columns and rename them before the ingestion."
   ]
  },
  {
   "cell_type": "code",
   "execution_count": 31,
   "metadata": {},
   "outputs": [
    {
     "name": "stdout",
     "output_type": "stream",
     "text": [
      "The table \"public\".\"titanic\" has been successfully created.\n"
     ]
    },
    {
     "data": {
      "text/html": [
       "<table style=\"border-collapse: collapse; border: 2px solid white\"><tr style=\"{border: 1px solid white;}\"><td style=\"border-bottom: 1px solid #DDD;font-size:1.02em;background-color:#263133;color:white\"><b></b></td><td style=\"font-size:1.02em;background-color:#263133;color:white\"><b>fare</b></td><td style=\"font-size:1.02em;background-color:#263133;color:white\"><b>pclass</b></td><td style=\"font-size:1.02em;background-color:#263133;color:white\"><b>survived</b></td></tr><tr style=\"{border: 1px solid white;}\"><td style=\"border-bottom: 1px solid #DDD;font-size:1.02em;background-color:#263133;color:white\"><b>0</b></td><td style=\"border: 1px solid white;\">13.0</td><td style=\"border: 1px solid white;\">2</td><td style=\"border: 1px solid white;\">False</td></tr><tr style=\"{border: 1px solid white;}\"><td style=\"border-bottom: 1px solid #DDD;font-size:1.02em;background-color:#263133;color:white\"><b>1</b></td><td style=\"border: 1px solid white;\">7.65</td><td style=\"border: 1px solid white;\">3</td><td style=\"border: 1px solid white;\">False</td></tr><tr style=\"{border: 1px solid white;}\"><td style=\"border-bottom: 1px solid #DDD;font-size:1.02em;background-color:#263133;color:white\"><b>2</b></td><td style=\"border: 1px solid white;\">7.8542</td><td style=\"border: 1px solid white;\">3</td><td style=\"border: 1px solid white;\">False</td></tr><tr style=\"{border: 1px solid white;}\"><td style=\"border-bottom: 1px solid #DDD;font-size:1.02em;background-color:#263133;color:white\"><b>3</b></td><td style=\"border: 1px solid white;\">21.075</td><td style=\"border: 1px solid white;\">3</td><td style=\"border: 1px solid white;\">False</td></tr><tr style=\"{border: 1px solid white;}\"><td style=\"border-bottom: 1px solid #DDD;font-size:1.02em;background-color:#263133;color:white\"><b>4</b></td><td style=\"border: 1px solid white;\">52.0</td><td style=\"border: 1px solid white;\">1</td><td style=\"border: 1px solid white;\">False</td></tr><tr><td style=\"border-top: 1px solid white;background-color:#263133;color:white\"></td><td style=\"border: 1px solid white;\">...</td><td style=\"border: 1px solid white;\">...</td><td style=\"border: 1px solid white;\">...</td></tr></table>"
      ],
      "text/plain": [
       "<IPython.core.display.HTML object>"
      ]
     },
     "metadata": {},
     "output_type": "display_data"
    },
    {
     "data": {
      "text/plain": [
       "<object>  Name: titanic, Number of rows: 891, Number of columns: 3"
      ]
     },
     "execution_count": 31,
     "metadata": {},
     "output_type": "execute_result"
    }
   ],
   "source": [
    "read_json(\"titanic.json\",\n",
    "          schema = \"public\",\n",
    "          table_name = \"titanic\",\n",
    "          usecols = [\"fields.survived\",\n",
    "                     \"fields.pclass\",\n",
    "                     \"fields.fare\"],\n",
    "          new_name = {\"fields.survived\": \"survived\",\n",
    "                      \"fields.pclass\": \"pclass\",\n",
    "                      \"fields.fare\": \"fare\"})"
   ]
  },
  {
   "cell_type": "markdown",
   "metadata": {},
   "source": [
    "You are now ready to understand the Vertica ML Python Data Exploration functionalities."
   ]
  }
 ],
 "metadata": {
  "kernelspec": {
   "display_name": "Python 3",
   "language": "python",
   "name": "python3"
  },
  "language_info": {
   "codemirror_mode": {
    "name": "ipython",
    "version": 3
   },
   "file_extension": ".py",
   "mimetype": "text/x-python",
   "name": "python",
   "nbconvert_exporter": "python",
   "pygments_lexer": "ipython3",
   "version": "3.6.3"
  }
 },
 "nbformat": 4,
 "nbformat_minor": 2
}
