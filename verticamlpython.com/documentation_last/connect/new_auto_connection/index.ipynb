{
 "cells": [
  {
   "cell_type": "markdown",
   "metadata": {},
   "source": [
    "# new_auto_connection"
   ]
  },
  {
   "cell_type": "code",
   "execution_count": null,
   "metadata": {},
   "outputs": [],
   "source": [
    "new_auto_connection(dsn: dict,\n",
    "                    method: str = \"auto\",\n",
    "                    name: str = \"VML\")"
   ]
  },
  {
   "cell_type": "markdown",
   "metadata": {},
   "source": [
    "Saves a connection to automatically create DB cursors. This will create a used-as-needed file to automatically set up a connection, avoiding redundant cursors.\n",
    "\n",
    "### Parameters\n",
    "\n",
    "<table id=\"parameters\">\n",
    "<tr> <td><div class=\"param_name\">dsn</div></td> <td><div class=\"type\">dict</div></td> <td><div class = \"no\">&#10060;</div></td> <td>Dictionnary containing the information to set up the connection.<br>\n",
    "                                                    <ul>\n",
    "                                                        <li><b>database :</b> Database Name</li>\n",
    "                                                        <li><b>driver :</b> ODBC driver (only for pyodbc)</li>\n",
    "                                                        <li><b>host :</b> Server ID</li>\n",
    "                                                        <li><b>password :</b> User Password</li>\n",
    "                                                        <li><b>port :</b> Database Port (optional, default: 5433)</li>\n",
    "                                                        <li><b>user :</b> User ID (optional, default: dbadmin)</li>\n",
    "                                                        </ul></td> </tr>\n",
    "<tr> <td><div class=\"param_name\">method</div></td> <td><div class=\"type\">str</div></td> <td><div class = \"yes\">&#10003;</div></td> <td>Method used to save the connection.<br>\n",
    "                                                    <ul>\n",
    "                                                        <li><b>auto :</b> uses vertica_python if vertica_python installed, otherwise pyodbc, otherwise jaydebeapi.</li>\n",
    "                                                        <li><b>pyodbc :</b> ODBC.</li>\n",
    "                                                        <li><b>jaydebeapi :</b> JDBC.</li>\n",
    "                                                        <li><b>vertica_python :</b> Vertica Python Native Client (recommended).</li>\n",
    "                                                        </ul></td> </tr>\n",
    "    <tr> <td><div class=\"param_name\">name</div></td> <td><div class=\"type\">str</div></td> <td><div class = \"yes\">&#10003;</div></td> <td>Name of the auto connection.</td> </tr>\n",
    "</table>"
   ]
  },
  {
   "cell_type": "markdown",
   "metadata": {},
   "source": [
    "### Example"
   ]
  },
  {
   "cell_type": "code",
   "execution_count": 5,
   "metadata": {},
   "outputs": [
    {
     "name": "stdout",
     "output_type": "stream",
     "text": [
      "The available connections are the following: my_auto_connection, VerticaDSN, VML, VML2\n"
     ]
    },
    {
     "data": {
      "text/plain": [
       "['my_auto_connection', 'VerticaDSN', 'VML', 'VML2']"
      ]
     },
     "execution_count": 5,
     "metadata": {},
     "output_type": "execute_result"
    }
   ],
   "source": [
    "from vertica_ml_python.connections.connect import *\n",
    "# JDBC Example\n",
    "new_auto_connection({\"host\": \"10.211.55.14\", \n",
    "                     \"port\": \"5433\", \n",
    "                     \"database\": \"testdb\", \n",
    "                     \"password\": \"XxX\", \n",
    "                     \"user\": \"dbadmin\"}, \n",
    "                     method = \"jaydebeapi\", \n",
    "                     name = \"my_auto_connection\")\n",
    "# ODBC Example\n",
    "new_auto_connection({\"host\": \"10.211.55.14\", \n",
    "                     \"port\": \"5433\", \n",
    "                     \"database\": \"testdb\", \n",
    "                     \"password\": \"XxX\", \n",
    "                     \"user\": \"dbadmin\",\n",
    "                     \"driver\": \"/Library/Vertica/ODBC/lib/libverticaodbc.dylib\"}, \n",
    "                     method = \"pyodbc\", \n",
    "                     name = \"my_auto_connection\")\n",
    "# Vertica Python Example\n",
    "new_auto_connection({\"host\": \"10.211.55.14\", \n",
    "                     \"port\": \"5433\", \n",
    "                     \"database\": \"testdb\", \n",
    "                     \"password\": \"XxX\", \n",
    "                     \"user\": \"dbadmin\"}, \n",
    "                     method = \"vertica_python\", \n",
    "                     name = \"my_auto_connection\")\n",
    "# Set the main auto connection\n",
    "change_auto_connection(\"my_auto_connection\")\n",
    "\n",
    "# Displays the available connections\n",
    "available_auto_connection()"
   ]
  },
  {
   "cell_type": "markdown",
   "metadata": {},
   "source": [
    "### See Also\n",
    "\n",
    "<table id=\"seealso\">\n",
    "    <tr><td><a href=\"../change_auto_connection\">change_auto_connection</a></td> <td> Changes the current auto creation.</td></tr>\n",
    "    <tr><td><a href=\"../read_auto_connect\">read_auto_connect</a></td> <td> Automatically creates a connection.</td></tr>\n",
    "    <tr><td><a href=\"../vertica_cursor\">vertica_cursor</a></td> <td> Creates a Vertica Database cursor using the input method.</td></tr>\n",
    "</table>"
   ]
  }
 ],
 "metadata": {
  "kernelspec": {
   "display_name": "Python 3",
   "language": "python",
   "name": "python3"
  },
  "language_info": {
   "codemirror_mode": {
    "name": "ipython",
    "version": 3
   },
   "file_extension": ".py",
   "mimetype": "text/x-python",
   "name": "python",
   "nbconvert_exporter": "python",
   "pygments_lexer": "ipython3",
   "version": "3.6.3"
  }
 },
 "nbformat": 4,
 "nbformat_minor": 2
}
