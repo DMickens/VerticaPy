{
 "cells": [
  {
   "cell_type": "markdown",
   "metadata": {},
   "source": [
    "# vertica_cursor"
   ]
  },
  {
   "cell_type": "code",
   "execution_count": null,
   "metadata": {},
   "outputs": [],
   "source": [
    "vertica_cursor(dsn: str,\n",
    "               method: str = \"auto\")"
   ]
  },
  {
   "cell_type": "markdown",
   "metadata": {},
   "source": [
    "Reads the input DSN from the ODBCINI environment and creates a Vertica Database cursor using the input method.\n",
    "\n",
    "### Parameters\n",
    "\n",
    "<table id=\"parameters\">\n",
    "    <tr> <th>Name</th> <th>Type</th> <th>Optional</th> <th>Description</th> </tr>\n",
    "    <tr> <td><div class=\"param_name\">dsn</div></td> <td><div class=\"type\">str</div></td> <td><div class = \"no\">&#10060;</div></td> <td>DSN name</td> </tr>\n",
    "    <tr> <td><div class=\"param_name\">method</div></td> <td><div class=\"type\">str</div></td> <td><div class = \"yes\">&#10003;</div></td> <td>Method used to create the connection.<br>\n",
    "                                                    <ul>\n",
    "                                                        <li><b>auto :</b> uses vertica_python if vertica_python installed, otherwise pyodbc, otherwise jaydebeapi.</li>\n",
    "                                                        <li><b>pyodbc :</b> ODBC.</li>\n",
    "                                                        <li><b>jaydebeapi :</b> JDBC.</li>\n",
    "                                                        <li><b>vertica_python :</b> Vertica Python Native Client (recommended).</li></ul></td> </tr>\n",
    "</table>\n",
    "\n",
    "### Returns\n",
    "\n",
    "<b>cursor</b> : Database cursor"
   ]
  },
  {
   "cell_type": "markdown",
   "metadata": {},
   "source": [
    "### Example"
   ]
  },
  {
   "cell_type": "code",
   "execution_count": 22,
   "metadata": {},
   "outputs": [
    {
     "data": {
      "text/plain": [
       "<vertica_python.vertica.cursor.Cursor at 0x11a82a8d0>"
      ]
     },
     "execution_count": 22,
     "metadata": {},
     "output_type": "execute_result"
    }
   ],
   "source": [
    "from vertica_ml_python.connections.connect import *\n",
    "# Creating a cursor\n",
    "cur = vertica_cursor(\"VerticaDSN\")\n",
    "# Querying\n",
    "cur.execute(\"SELECT version();\")"
   ]
  },
  {
   "cell_type": "code",
   "execution_count": 23,
   "metadata": {},
   "outputs": [
    {
     "data": {
      "text/plain": [
       "['Vertica Analytic Database v9.2.1-0']"
      ]
     },
     "execution_count": 23,
     "metadata": {},
     "output_type": "execute_result"
    }
   ],
   "source": [
    "cur.fetchone()"
   ]
  },
  {
   "cell_type": "markdown",
   "metadata": {},
   "source": [
    "### See Also\n",
    "\n",
    "<table id=\"seealso\">\n",
    "    <tr><td><a href=\"../new_auto_connection\">new_auto_connection</a></td> <td>Saves a connection to automatically create DB cursors.</td></tr>\n",
    "    <tr><td><a href=\"../read_auto_connect\">read_auto_connect</a></td> <td>Automatically creates a connection.</td></tr>\n",
    "</table>"
   ]
  }
 ],
 "metadata": {
  "kernelspec": {
   "display_name": "Python 3",
   "language": "python",
   "name": "python3"
  },
  "language_info": {
   "codemirror_mode": {
    "name": "ipython",
    "version": 3
   },
   "file_extension": ".py",
   "mimetype": "text/x-python",
   "name": "python",
   "nbconvert_exporter": "python",
   "pygments_lexer": "ipython3",
   "version": "3.6.3"
  }
 },
 "nbformat": 4,
 "nbformat_minor": 2
}
