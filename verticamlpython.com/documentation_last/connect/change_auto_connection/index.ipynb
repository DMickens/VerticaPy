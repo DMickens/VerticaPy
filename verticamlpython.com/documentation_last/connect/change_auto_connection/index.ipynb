{
 "cells": [
  {
   "cell_type": "markdown",
   "metadata": {},
   "source": [
    "# change_auto_connection"
   ]
  },
  {
   "cell_type": "code",
   "execution_count": null,
   "metadata": {},
   "outputs": [],
   "source": [
    "change_auto_connection(name: str = \"VML\")"
   ]
  },
  {
   "cell_type": "markdown",
   "metadata": {},
   "source": [
    "Changes the current auto connection.\n",
    "\n",
    "### Parameters\n",
    "\n",
    "<table id=\"parameters\">\n",
    "<tr> <th>Name</th> <th>Type</th> <th>Optional</th> <th>Description</th> </tr>\n",
    "    <tr> <td><div class=\"param_name\">name</div></td> <td><div class=\"type\">str</div></td> <td><div class = \"yes\">&#10003;</div></td> <td>Name of the new auto connection.</td> </tr>\n",
    "</table>"
   ]
  },
  {
   "cell_type": "markdown",
   "metadata": {},
   "source": [
    "### Example"
   ]
  },
  {
   "cell_type": "code",
   "execution_count": 7,
   "metadata": {},
   "outputs": [],
   "source": [
    "from vertica_ml_python.connections.connect import *\n",
    "# JDBC Example\n",
    "new_auto_connection({\"host\": \"10.211.55.14\", \n",
    "                     \"port\": \"5433\", \n",
    "                     \"database\": \"testdb\", \n",
    "                     \"password\": \"XxX\", \n",
    "                     \"user\": \"dbadmin\"}, \n",
    "                     method = \"jaydebeapi\", \n",
    "                     name = \"my_auto_connection\")\n",
    "# ODBC Example\n",
    "new_auto_connection({\"host\": \"10.211.55.14\", \n",
    "                     \"port\": \"5433\", \n",
    "                     \"database\": \"testdb\", \n",
    "                     \"password\": \"XxX\", \n",
    "                     \"user\": \"dbadmin\",\n",
    "                     \"driver\": \"/Library/Vertica/ODBC/lib/libverticaodbc.dylib\"}, \n",
    "                     method = \"pyodbc\", \n",
    "                     name = \"my_auto_connection\")\n",
    "# Vertica Python Example\n",
    "new_auto_connection({\"host\": \"10.211.55.14\", \n",
    "                     \"port\": \"5433\", \n",
    "                     \"database\": \"testdb\", \n",
    "                     \"password\": \"XxX\", \n",
    "                     \"user\": \"dbadmin\"}, \n",
    "                     method = \"vertica_python\", \n",
    "                     name = \"my_auto_connection\")\n",
    "# Set the main auto connection\n",
    "change_auto_connection(\"my_auto_connection\")"
   ]
  },
  {
   "cell_type": "markdown",
   "metadata": {},
   "source": [
    "### See Also\n",
    "\n",
    "<table id=\"seealso\">\n",
    "    <tr><td><a href=\"../new_auto_connection\">new_auto_connection</a></td> <td> Saves a connection to automatically create DB cursors.</td></tr>\n",
    "    <tr><td><a href=\"../read_auto_connect\">read_auto_connect</a></td> <td> Automatically creates a connection.</td></tr>\n",
    "    <tr><td><a href=\"../vertica_cursor\">vertica_cursor</a></td> <td> Creates a Vertica Database cursor using the input method.</td></tr>\n",
    "</table>"
   ]
  }
 ],
 "metadata": {
  "kernelspec": {
   "display_name": "Python 3",
   "language": "python",
   "name": "python3"
  },
  "language_info": {
   "codemirror_mode": {
    "name": "ipython",
    "version": 3
   },
   "file_extension": ".py",
   "mimetype": "text/x-python",
   "name": "python",
   "nbconvert_exporter": "python",
   "pygments_lexer": "ipython3",
   "version": "3.6.3"
  }
 },
 "nbformat": 4,
 "nbformat_minor": 2
}
