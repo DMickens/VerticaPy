{
 "cells": [
  {
   "cell_type": "markdown",
   "metadata": {},
   "source": [
    "# vDataFrame[].slice"
   ]
  },
  {
   "cell_type": "code",
   "execution_count": null,
   "metadata": {},
   "outputs": [],
   "source": [
    "vDataFrame[].slice(length: int, \n",
    "                   unit: str = \"second\", \n",
    "                   start: bool = True)"
   ]
  },
  {
   "cell_type": "markdown",
   "metadata": {},
   "source": [
    "Slices the vcolumn using a TS rule. The vcolumn will be transformed."
   ]
  },
  {
   "cell_type": "markdown",
   "metadata": {},
   "source": [
    "### Parameters\n",
    "\n",
    "<table id=\"parameters\">\n",
    "    <tr> <th>Name</th> <th>Type</th> <th>Optional</th> <th>Description</th> </tr>\n",
    "    <tr> <td><div class=\"param_name\">length</div></td> <td><div class=\"type\">int</div></td> <td><div class = \"no\">&#10060;</div></td> <td>Slice size.</td> </tr>\n",
    "    <tr> <td><div class=\"param_name\">unit</div></td> <td><div class=\"type\">str</div></td> <td><div class = \"yes\">&#10003;</div></td> <td>Slice size unit. For example, it can be 'minute' 'hour'...</td> </tr>\n",
    "    <tr> <td><div class=\"param_name\">start</div></td> <td><div class=\"type\">bool</div></td> <td><div class = \"yes\">&#10003;</div></td> <td>If set to True, the record will be sliced using the floor of the slicing instead of the ceiling.</td> </tr>\n",
    "</table>\n",
    "\n",
    "### Returns\n",
    "\n",
    "<b>vDataFrame</b> : self.parent\n",
    "\n",
    "### Example"
   ]
  },
  {
   "cell_type": "code",
   "execution_count": 51,
   "metadata": {},
   "outputs": [
    {
     "data": {
      "text/html": [
       "<table style=\"border-collapse: collapse; border: 2px solid white\"><tr style=\"{border: 1px solid white;}\"><td style=\"border-bottom: 1px solid #DDD;font-size:1.02em;background-color:#214579;color:white\"><b></b></td><td style=\"font-size:1.02em;background-color:#214579;color:white\"><b>val</b></td><td style=\"font-size:1.02em;background-color:#214579;color:white\"><b>time</b></td><td style=\"font-size:1.02em;background-color:#214579;color:white\"><b>id</b></td></tr><tr style=\"{border: 1px solid white;}\"><td style=\"border-bottom: 1px solid #DDD;font-size:1.02em;background-color:#214579;color:white\"><b>0</b></td><td style=\"border: 1px solid white;\">0.0370000</td><td style=\"border: 1px solid white;\">2014-01-01 01:15:00</td><td style=\"border: 1px solid white;\">2</td></tr><tr style=\"{border: 1px solid white;}\"><td style=\"border-bottom: 1px solid #DDD;font-size:1.02em;background-color:#214579;color:white\"><b>1</b></td><td style=\"border: 1px solid white;\">0.0800000</td><td style=\"border: 1px solid white;\">2014-01-01 02:30:00</td><td style=\"border: 1px solid white;\">5</td></tr><tr style=\"{border: 1px solid white;}\"><td style=\"border-bottom: 1px solid #DDD;font-size:1.02em;background-color:#214579;color:white\"><b>2</b></td><td style=\"border: 1px solid white;\">0.0810000</td><td style=\"border: 1px solid white;\">2014-01-01 03:00:00</td><td style=\"border: 1px solid white;\">1</td></tr><tr style=\"{border: 1px solid white;}\"><td style=\"border-bottom: 1px solid #DDD;font-size:1.02em;background-color:#214579;color:white\"><b>3</b></td><td style=\"border: 1px solid white;\">1.4890000</td><td style=\"border: 1px solid white;\">2014-01-01 05:00:00</td><td style=\"border: 1px solid white;\">3</td></tr><tr style=\"{border: 1px solid white;}\"><td style=\"border-bottom: 1px solid #DDD;font-size:1.02em;background-color:#214579;color:white\"><b>4</b></td><td style=\"border: 1px solid white;\">0.0720000</td><td style=\"border: 1px solid white;\">2014-01-01 06:00:00</td><td style=\"border: 1px solid white;\">5</td></tr><tr><td style=\"border-top: 1px solid white;background-color:#214579;color:white\"></td><td style=\"border: 1px solid white;\">...</td><td style=\"border: 1px solid white;\">...</td><td style=\"border: 1px solid white;\">...</td></tr></table>"
      ],
      "text/plain": [
       "<IPython.core.display.HTML object>"
      ]
     },
     "metadata": {},
     "output_type": "display_data"
    },
    {
     "name": "stdout",
     "output_type": "stream",
     "text": [
      "<object>  Name: smart_meters, Number of rows: 11844, Number of columns: 3\n"
     ]
    }
   ],
   "source": [
    "from vertica_ml_python.learn.datasets import load_smart_meters\n",
    "sm = load_smart_meters()\n",
    "print(sm)"
   ]
  },
  {
   "cell_type": "code",
   "execution_count": 50,
   "metadata": {},
   "outputs": [
    {
     "data": {
      "text/html": [
       "<table style=\"border-collapse: collapse; border: 2px solid white\"><tr style=\"{border: 1px solid white;}\"><td style=\"border-bottom: 1px solid #DDD;font-size:1.02em;background-color:#214579;color:white\"><b></b></td><td style=\"font-size:1.02em;background-color:#214579;color:white\"><b>id</b></td><td style=\"font-size:1.02em;background-color:#214579;color:white\"><b>val</b></td><td style=\"font-size:1.02em;background-color:#214579;color:white\"><b>time</b></td></tr><tr style=\"{border: 1px solid white;}\"><td style=\"border-bottom: 1px solid #DDD;font-size:1.02em;background-color:#214579;color:white\"><b>0</b></td><td style=\"border: 1px solid white;\">2</td><td style=\"border: 1px solid white;\">0.0370000</td><td style=\"border: 1px solid white;\">2014-01-01 01:00:00</td></tr><tr style=\"{border: 1px solid white;}\"><td style=\"border-bottom: 1px solid #DDD;font-size:1.02em;background-color:#214579;color:white\"><b>1</b></td><td style=\"border: 1px solid white;\">5</td><td style=\"border: 1px solid white;\">0.0800000</td><td style=\"border: 1px solid white;\">2014-01-01 02:30:00</td></tr><tr style=\"{border: 1px solid white;}\"><td style=\"border-bottom: 1px solid #DDD;font-size:1.02em;background-color:#214579;color:white\"><b>2</b></td><td style=\"border: 1px solid white;\">1</td><td style=\"border: 1px solid white;\">0.0810000</td><td style=\"border: 1px solid white;\">2014-01-01 03:00:00</td></tr><tr style=\"{border: 1px solid white;}\"><td style=\"border-bottom: 1px solid #DDD;font-size:1.02em;background-color:#214579;color:white\"><b>3</b></td><td style=\"border: 1px solid white;\">3</td><td style=\"border: 1px solid white;\">1.4890000</td><td style=\"border: 1px solid white;\">2014-01-01 05:00:00</td></tr><tr style=\"{border: 1px solid white;}\"><td style=\"border-bottom: 1px solid #DDD;font-size:1.02em;background-color:#214579;color:white\"><b>4</b></td><td style=\"border: 1px solid white;\">5</td><td style=\"border: 1px solid white;\">0.0720000</td><td style=\"border: 1px solid white;\">2014-01-01 06:00:00</td></tr><tr style=\"{border: 1px solid white;}\"><td style=\"border-bottom: 1px solid #DDD;font-size:1.02em;background-color:#214579;color:white\"><b>5</b></td><td style=\"border: 1px solid white;\">9</td><td style=\"border: 1px solid white;\">2.3060000</td><td style=\"border: 1px solid white;\">2014-01-01 07:00:00</td></tr><tr style=\"{border: 1px solid white;}\"><td style=\"border-bottom: 1px solid #DDD;font-size:1.02em;background-color:#214579;color:white\"><b>6</b></td><td style=\"border: 1px solid white;\">4</td><td style=\"border: 1px solid white;\">0.1020000</td><td style=\"border: 1px solid white;\">2014-01-01 07:30:00</td></tr><tr style=\"{border: 1px solid white;}\"><td style=\"border-bottom: 1px solid #DDD;font-size:1.02em;background-color:#214579;color:white\"><b>7</b></td><td style=\"border: 1px solid white;\">8</td><td style=\"border: 1px solid white;\">0.0970000</td><td style=\"border: 1px solid white;\">2014-01-01 10:30:00</td></tr><tr style=\"{border: 1px solid white;}\"><td style=\"border-bottom: 1px solid #DDD;font-size:1.02em;background-color:#214579;color:white\"><b>8</b></td><td style=\"border: 1px solid white;\">0</td><td style=\"border: 1px solid white;\">0.0290000</td><td style=\"border: 1px solid white;\">2014-01-01 11:00:00</td></tr><tr style=\"{border: 1px solid white;}\"><td style=\"border-bottom: 1px solid #DDD;font-size:1.02em;background-color:#214579;color:white\"><b>9</b></td><td style=\"border: 1px solid white;\">6</td><td style=\"border: 1px solid white;\">0.5060000</td><td style=\"border: 1px solid white;\">2014-01-01 11:00:00</td></tr><tr><td style=\"border-top: 1px solid white;background-color:#214579;color:white\"></td><td style=\"border: 1px solid white;\">...</td><td style=\"border: 1px solid white;\">...</td><td style=\"border: 1px solid white;\">...</td></tr></table>"
      ],
      "text/plain": [
       "<IPython.core.display.HTML object>"
      ]
     },
     "metadata": {},
     "output_type": "display_data"
    },
    {
     "data": {
      "text/plain": [
       "<object>  Name: smart_meters, Number of rows: 11844, Number of columns: 3"
      ]
     },
     "execution_count": 50,
     "metadata": {},
     "output_type": "execute_result"
    }
   ],
   "source": [
    "sm[\"time\"].slice(length = 30,\n",
    "                 unit = \"minute\")"
   ]
  },
  {
   "cell_type": "code",
   "execution_count": 52,
   "metadata": {},
   "outputs": [
    {
     "data": {
      "text/html": [
       "<table style=\"border-collapse: collapse; border: 2px solid white\"><tr style=\"{border: 1px solid white;}\"><td style=\"border-bottom: 1px solid #DDD;font-size:1.02em;background-color:#214579;color:white\"><b></b></td><td style=\"font-size:1.02em;background-color:#214579;color:white\"><b>val</b></td><td style=\"font-size:1.02em;background-color:#214579;color:white\"><b>time</b></td><td style=\"font-size:1.02em;background-color:#214579;color:white\"><b>id</b></td></tr><tr style=\"{border: 1px solid white;}\"><td style=\"border-bottom: 1px solid #DDD;font-size:1.02em;background-color:#214579;color:white\"><b>0</b></td><td style=\"border: 1px solid white;\">0.0370000</td><td style=\"border: 1px solid white;\">2014-01-01 01:30:00</td><td style=\"border: 1px solid white;\">2</td></tr><tr style=\"{border: 1px solid white;}\"><td style=\"border-bottom: 1px solid #DDD;font-size:1.02em;background-color:#214579;color:white\"><b>1</b></td><td style=\"border: 1px solid white;\">0.0800000</td><td style=\"border: 1px solid white;\">2014-01-01 03:00:00</td><td style=\"border: 1px solid white;\">5</td></tr><tr style=\"{border: 1px solid white;}\"><td style=\"border-bottom: 1px solid #DDD;font-size:1.02em;background-color:#214579;color:white\"><b>2</b></td><td style=\"border: 1px solid white;\">0.0810000</td><td style=\"border: 1px solid white;\">2014-01-01 03:30:00</td><td style=\"border: 1px solid white;\">1</td></tr><tr style=\"{border: 1px solid white;}\"><td style=\"border-bottom: 1px solid #DDD;font-size:1.02em;background-color:#214579;color:white\"><b>3</b></td><td style=\"border: 1px solid white;\">1.4890000</td><td style=\"border: 1px solid white;\">2014-01-01 05:30:00</td><td style=\"border: 1px solid white;\">3</td></tr><tr style=\"{border: 1px solid white;}\"><td style=\"border-bottom: 1px solid #DDD;font-size:1.02em;background-color:#214579;color:white\"><b>4</b></td><td style=\"border: 1px solid white;\">0.0720000</td><td style=\"border: 1px solid white;\">2014-01-01 06:30:00</td><td style=\"border: 1px solid white;\">5</td></tr><tr style=\"{border: 1px solid white;}\"><td style=\"border-bottom: 1px solid #DDD;font-size:1.02em;background-color:#214579;color:white\"><b>5</b></td><td style=\"border: 1px solid white;\">2.3060000</td><td style=\"border: 1px solid white;\">2014-01-01 07:30:00</td><td style=\"border: 1px solid white;\">9</td></tr><tr style=\"{border: 1px solid white;}\"><td style=\"border-bottom: 1px solid #DDD;font-size:1.02em;background-color:#214579;color:white\"><b>6</b></td><td style=\"border: 1px solid white;\">0.1020000</td><td style=\"border: 1px solid white;\">2014-01-01 08:00:00</td><td style=\"border: 1px solid white;\">4</td></tr><tr style=\"{border: 1px solid white;}\"><td style=\"border-bottom: 1px solid #DDD;font-size:1.02em;background-color:#214579;color:white\"><b>7</b></td><td style=\"border: 1px solid white;\">0.0970000</td><td style=\"border: 1px solid white;\">2014-01-01 11:00:00</td><td style=\"border: 1px solid white;\">8</td></tr><tr style=\"{border: 1px solid white;}\"><td style=\"border-bottom: 1px solid #DDD;font-size:1.02em;background-color:#214579;color:white\"><b>8</b></td><td style=\"border: 1px solid white;\">0.0290000</td><td style=\"border: 1px solid white;\">2014-01-01 11:30:00</td><td style=\"border: 1px solid white;\">0</td></tr><tr style=\"{border: 1px solid white;}\"><td style=\"border-bottom: 1px solid #DDD;font-size:1.02em;background-color:#214579;color:white\"><b>9</b></td><td style=\"border: 1px solid white;\">0.5060000</td><td style=\"border: 1px solid white;\">2014-01-01 11:30:00</td><td style=\"border: 1px solid white;\">6</td></tr><tr><td style=\"border-top: 1px solid white;background-color:#214579;color:white\"></td><td style=\"border: 1px solid white;\">...</td><td style=\"border: 1px solid white;\">...</td><td style=\"border: 1px solid white;\">...</td></tr></table>"
      ],
      "text/plain": [
       "<IPython.core.display.HTML object>"
      ]
     },
     "metadata": {},
     "output_type": "display_data"
    },
    {
     "data": {
      "text/plain": [
       "<object>  Name: smart_meters, Number of rows: 11844, Number of columns: 3"
      ]
     },
     "execution_count": 52,
     "metadata": {},
     "output_type": "execute_result"
    }
   ],
   "source": [
    "sm[\"time\"].slice(length = 30,\n",
    "                 unit = \"minute\",\n",
    "                 start = False)"
   ]
  },
  {
   "cell_type": "markdown",
   "metadata": {},
   "source": [
    "### See Also\n",
    "\n",
    "<table id=\"seealso\">\n",
    "    <tr><td><a href=\"../date_part\">vDataFrame[].date_part</a></td> <td> Extracts a specific TS field from the vcolumn.</td></tr>\n",
    "</table>"
   ]
  }
 ],
 "metadata": {
  "kernelspec": {
   "display_name": "Python 3",
   "language": "python",
   "name": "python3"
  },
  "language_info": {
   "codemirror_mode": {
    "name": "ipython",
    "version": 3
   },
   "file_extension": ".py",
   "mimetype": "text/x-python",
   "name": "python",
   "nbconvert_exporter": "python",
   "pygments_lexer": "ipython3",
   "version": "3.6.3"
  }
 },
 "nbformat": 4,
 "nbformat_minor": 2
}
