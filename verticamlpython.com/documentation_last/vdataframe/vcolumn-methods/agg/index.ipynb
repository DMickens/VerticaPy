{
 "cells": [
  {
   "cell_type": "markdown",
   "metadata": {},
   "source": [
    "# vDataFrame[].agg / aggregate"
   ]
  },
  {
   "cell_type": "code",
   "execution_count": null,
   "metadata": {},
   "outputs": [],
   "source": [
    "vDataFrame[].aggregate(func: list)"
   ]
  },
  {
   "cell_type": "markdown",
   "metadata": {},
   "source": [
    "Aggregates the vcolumn using the input functions.\n",
    "\n",
    "### Parameters"
   ]
  },
  {
   "cell_type": "markdown",
   "metadata": {},
   "source": [
    "<table id=\"parameters\">\n",
    "    <tr> <th>Name</th> <th>Type</th> <th>Optional</th> <th>Description</th> </tr>\n",
    "    <tr> <td><div class=\"param_name\">func</div></td> <td><div class=\"type\">list</div></td> <td><div class = \"no\">&#10060;</div></td> <td>List of the different aggregation.<br>\n",
    "                                                    <ul>\n",
    "                                                        <li><b>approx_unique :</b> approximative cardinality</li>\n",
    "                                                        <li><b>count :</b> number of non-missing elements</li>\n",
    "                                                        <li><b>cvar :</b> conditional value at risk</li>\n",
    "                                                        <li><b>dtype :</b> virtual column type</li>\n",
    "                                                        <li><b>iqr :</b> interquartile range</li>\n",
    "                                                        <li><b>kurtosis :</b> kurtosis</li>\n",
    "                                                        <li><b>jb :</b> Jarque Bera index </li>\n",
    "                                                        <li><b>mad :</b> median absolute deviation</li>\n",
    "                                                        <li><b>mae :</b> mean absolute error (deviation)</li>\n",
    "                                                        <li><b>max :</b> maximum</li>\n",
    "                                                        <li><b>mean :</b> average</li>\n",
    "                                                        <li><b>median :</b> median</li>\n",
    "                                                        <li><b>min :</b> min</li>\n",
    "                                                        <li><b>mode :</b> most occurent element</li>\n",
    "                                                        <li><b>percent :</b> percent of non-missing elements</li>\n",
    "                                                        <li><b>q% :</b> q quantile (ex: 50% for the median)</li>\n",
    "                                                        <li><b>prod :</b> product</li>\n",
    "                                                        <li><b>range :</b> difference between the max and the min</li>\n",
    "                                                        <li><b>sem :</b> standard error of the mean</li>\n",
    "                                                        <li><b>skewness :</b> skewness</li>\n",
    "                                                        <li><b>sum :</b> sum</li>\n",
    "                                                        <li><b>std :</b> standard deviation</li>\n",
    "                                                        <li><b>topk :</b> kth most occurent element (ex: top1 for the mode)</li>\n",
    "                                                        <li><b>topk_percent :</b> kth most occurent element density</li>\n",
    "                                                        <li><b>std :</b> standard deviation</li>\n",
    "                                                        <li><b>unique :</b> cardinality (count distinct)</li>\n",
    "                                                        <li><b>var :</b> variance</li>\n",
    "                                                        <li>Other aggregations could work if it is part of the DB version you are using.</li></ul></td> </tr>\n",
    "</table>"
   ]
  },
  {
   "cell_type": "markdown",
   "metadata": {},
   "source": [
    "### Returns\n",
    "\n",
    "<a href=\"../../../utilities/tablesample\">tablesample</a> : An object containing the result. For more information, check out <a href=\"../../../utilities/tablesample\">utilities.tablesample</a>.\n",
    "\n",
    "### Example"
   ]
  },
  {
   "cell_type": "code",
   "execution_count": 13,
   "metadata": {},
   "outputs": [
    {
     "data": {
      "text/html": [
       "<table style=\"border-collapse: collapse; border: 2px solid white\"><tr style=\"{border: 1px solid white;}\"><td style=\"border-bottom: 1px solid #DDD;font-size:1.02em;background-color:#263133;color:white\"><b></b></td><td style=\"font-size:1.02em;background-color:#263133;color:white\"><b>embarked</b></td></tr><tr style=\"{border: 1px solid white;}\"><td style=\"border-bottom: 1px solid #DDD;font-size:1.02em;background-color:#263133;color:white\"><b>0</b></td><td style=\"border: 1px solid white;\">S</td></tr><tr style=\"{border: 1px solid white;}\"><td style=\"border-bottom: 1px solid #DDD;font-size:1.02em;background-color:#263133;color:white\"><b>1</b></td><td style=\"border: 1px solid white;\">S</td></tr><tr style=\"{border: 1px solid white;}\"><td style=\"border-bottom: 1px solid #DDD;font-size:1.02em;background-color:#263133;color:white\"><b>2</b></td><td style=\"border: 1px solid white;\">S</td></tr><tr style=\"{border: 1px solid white;}\"><td style=\"border-bottom: 1px solid #DDD;font-size:1.02em;background-color:#263133;color:white\"><b>3</b></td><td style=\"border: 1px solid white;\">S</td></tr><tr style=\"{border: 1px solid white;}\"><td style=\"border-bottom: 1px solid #DDD;font-size:1.02em;background-color:#263133;color:white\"><b>4</b></td><td style=\"border: 1px solid white;\">C</td></tr><tr><td style=\"border-top: 1px solid white;background-color:#263133;color:white\"></td><td style=\"border: 1px solid white;\">...</td></tr></table>"
      ],
      "text/plain": [
       "<IPython.core.display.HTML object>"
      ]
     },
     "metadata": {},
     "output_type": "display_data"
    },
    {
     "name": "stdout",
     "output_type": "stream",
     "text": [
      "<object>  Name: embarked, Number of rows: 1234, dtype: varchar(20)\n"
     ]
    }
   ],
   "source": [
    "from vertica_ml_python.learn.datasets import load_titanic\n",
    "titanic = load_titanic()\n",
    "print(titanic[\"embarked\"])"
   ]
  },
  {
   "cell_type": "code",
   "execution_count": 14,
   "metadata": {},
   "outputs": [
    {
     "data": {
      "text/html": [
       "<table style=\"border-collapse: collapse; border: 2px solid white\"><tr style=\"{border: 1px solid white;}\"><td style=\"border-bottom: 1px solid #DDD;font-size:1.02em;background-color:#263133;color:white\"><b></b></td><td style=\"font-size:1.02em;background-color:#263133;color:white\"><b>\"embarked\"</b></td></tr><tr style=\"{border: 1px solid white;}\"><td style=\"border-bottom: 1px solid #DDD;font-size:1.02em;background-color:#263133;color:white\"><b>unique</b></td><td style=\"border: 1px solid white;\">3</td></tr><tr style=\"{border: 1px solid white;}\"><td style=\"border-bottom: 1px solid #DDD;font-size:1.02em;background-color:#263133;color:white\"><b>top1</b></td><td style=\"border: 1px solid white;\">S</td></tr><tr style=\"{border: 1px solid white;}\"><td style=\"border-bottom: 1px solid #DDD;font-size:1.02em;background-color:#263133;color:white\"><b>top2</b></td><td style=\"border: 1px solid white;\">C</td></tr></table>"
      ],
      "text/plain": [
       "<IPython.core.display.HTML object>"
      ]
     },
     "metadata": {},
     "output_type": "display_data"
    },
    {
     "data": {
      "text/plain": [
       "<object>"
      ]
     },
     "execution_count": 14,
     "metadata": {},
     "output_type": "execute_result"
    }
   ],
   "source": [
    "titanic[\"embarked\"].aggregate(func = [\"unique\", \"top1\", \"top2\"])"
   ]
  },
  {
   "cell_type": "markdown",
   "metadata": {},
   "source": [
    "### See Also\n",
    "\n",
    "<table id=\"seealso\">\n",
    "    <tr><td><a href=\"../analytic\">vDataFrame.analytic</a></td> <td>Adds a new vcolumn to the vDataFrame by using an advanced analytical function on a specific vcolumn.</td></tr>\n",
    "</table>"
   ]
  }
 ],
 "metadata": {
  "kernelspec": {
   "display_name": "Python 3",
   "language": "python",
   "name": "python3"
  },
  "language_info": {
   "codemirror_mode": {
    "name": "ipython",
    "version": 3
   },
   "file_extension": ".py",
   "mimetype": "text/x-python",
   "name": "python",
   "nbconvert_exporter": "python",
   "pygments_lexer": "ipython3",
   "version": "3.6.3"
  }
 },
 "nbformat": 4,
 "nbformat_minor": 2
}
