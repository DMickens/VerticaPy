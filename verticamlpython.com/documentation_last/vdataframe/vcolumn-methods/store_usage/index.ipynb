{
 "cells": [
  {
   "cell_type": "markdown",
   "metadata": {},
   "source": [
    "# vDataFrame[].store_usage"
   ]
  },
  {
   "cell_type": "code",
   "execution_count": null,
   "metadata": {},
   "outputs": [],
   "source": [
    "vDataFrame[].store_usage()"
   ]
  },
  {
   "cell_type": "markdown",
   "metadata": {},
   "source": [
    "Returns the vcolumn expected store usage (unit: b)."
   ]
  },
  {
   "cell_type": "markdown",
   "metadata": {},
   "source": [
    "### Returns\n",
    "\n",
    "<b>int</b> : vcolumn expected store usage.\n",
    "\n",
    "### Example"
   ]
  },
  {
   "cell_type": "code",
   "execution_count": 5,
   "metadata": {},
   "outputs": [
    {
     "data": {
      "text/html": [
       "<table style=\"border-collapse: collapse; border: 2px solid white\"><tr style=\"{border: 1px solid white;}\"><td style=\"border-bottom: 1px solid #DDD;font-size:1.02em;background-color:#214579;color:white\"><b></b></td><td style=\"font-size:1.02em;background-color:#214579;color:white\"><b>Price</b></td><td style=\"font-size:1.02em;background-color:#214579;color:white\"><b>Name</b></td><td style=\"font-size:1.02em;background-color:#214579;color:white\"><b>Form</b></td></tr><tr style=\"{border: 1px solid white;}\"><td style=\"border-bottom: 1px solid #DDD;font-size:1.02em;background-color:#214579;color:white\"><b>0</b></td><td style=\"border: 1px solid white;\">1.1193087167</td><td style=\"border: 1px solid white;\">Acorn squash</td><td style=\"border: 1px solid white;\">Fresh</td></tr><tr style=\"{border: 1px solid white;}\"><td style=\"border-bottom: 1px solid #DDD;font-size:1.02em;background-color:#214579;color:white\"><b>1</b></td><td style=\"border: 1px solid white;\">1.1722478842</td><td style=\"border: 1px solid white;\">Acorn squash</td><td style=\"border: 1px solid white;\">Fresh</td></tr><tr style=\"{border: 1px solid white;}\"><td style=\"border-bottom: 1px solid #DDD;font-size:1.02em;background-color:#214579;color:white\"><b>2</b></td><td style=\"border: 1px solid white;\">1.56751539145</td><td style=\"border: 1px solid white;\">Apples</td><td style=\"border: 1px solid white;\">Fresh</td></tr><tr style=\"{border: 1px solid white;}\"><td style=\"border-bottom: 1px solid #DDD;font-size:1.02em;background-color:#214579;color:white\"><b>3</b></td><td style=\"border: 1px solid white;\">1.6155336441</td><td style=\"border: 1px solid white;\">Apples</td><td style=\"border: 1px solid white;\">Fresh</td></tr><tr style=\"{border: 1px solid white;}\"><td style=\"border-bottom: 1px solid #DDD;font-size:1.02em;background-color:#214579;color:white\"><b>4</b></td><td style=\"border: 1px solid white;\">0.5104657455</td><td style=\"border: 1px solid white;\">Apples</td><td style=\"border: 1px solid white;\">Frozen</td></tr><tr><td style=\"border-top: 1px solid white;background-color:#214579;color:white\"></td><td style=\"border: 1px solid white;\">...</td><td style=\"border: 1px solid white;\">...</td><td style=\"border: 1px solid white;\">...</td></tr></table>"
      ],
      "text/plain": [
       "<IPython.core.display.HTML object>"
      ]
     },
     "metadata": {},
     "output_type": "display_data"
    },
    {
     "name": "stdout",
     "output_type": "stream",
     "text": [
      "<object>  Name: market, Number of rows: 314, Number of columns: 3\n"
     ]
    }
   ],
   "source": [
    "from vertica_ml_python.learn.datasets import load_market\n",
    "market = load_market()\n",
    "print(market)"
   ]
  },
  {
   "cell_type": "code",
   "execution_count": 6,
   "metadata": {},
   "outputs": [
    {
     "data": {
      "text/plain": [
       "3913"
      ]
     },
     "execution_count": 6,
     "metadata": {},
     "output_type": "execute_result"
    }
   ],
   "source": [
    "market[\"Price\"].store_usage()"
   ]
  },
  {
   "cell_type": "markdown",
   "metadata": {},
   "source": [
    "### See Also\n",
    "\n",
    "<table id=\"seealso\">\n",
    "    <tr><td><a href=\"../../main-methods/expected_store_usage\">vDataFrame.expected_store_usage</a></td> <td>Returns the vDataFrame expected store usage.</td></tr>\n",
    "</table>"
   ]
  }
 ],
 "metadata": {
  "kernelspec": {
   "display_name": "Python 3",
   "language": "python",
   "name": "python3"
  },
  "language_info": {
   "codemirror_mode": {
    "name": "ipython",
    "version": 3
   },
   "file_extension": ".py",
   "mimetype": "text/x-python",
   "name": "python",
   "nbconvert_exporter": "python",
   "pygments_lexer": "ipython3",
   "version": "3.6.3"
  }
 },
 "nbformat": 4,
 "nbformat_minor": 2
}
