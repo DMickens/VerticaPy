{
 "cells": [
  {
   "cell_type": "markdown",
   "metadata": {},
   "source": [
    "# vDataFrame[].label_encode"
   ]
  },
  {
   "cell_type": "code",
   "execution_count": null,
   "metadata": {},
   "outputs": [],
   "source": [
    "vDataFrame[].label_encode()"
   ]
  },
  {
   "cell_type": "markdown",
   "metadata": {},
   "source": [
    "Encodes the vcolumn using a bijection from the different categories to [0, n - 1] (n being the vcolumn cardinality)."
   ]
  },
  {
   "cell_type": "markdown",
   "metadata": {},
   "source": [
    "### Returns\n",
    "\n",
    "<b>vDataFrame</b> : self.parent\n",
    "\n",
    "### Example"
   ]
  },
  {
   "cell_type": "code",
   "execution_count": 23,
   "metadata": {},
   "outputs": [
    {
     "data": {
      "text/html": [
       "<table style=\"border-collapse: collapse; border: 2px solid white\"><tr style=\"{border: 1px solid white;}\"><td style=\"border-bottom: 1px solid #DDD;font-size:1.02em;background-color:#263133;color:white\"><b></b></td><td style=\"font-size:1.02em;background-color:#263133;color:white\"><b>embarked</b></td></tr><tr style=\"{border: 1px solid white;}\"><td style=\"border-bottom: 1px solid #DDD;font-size:1.02em;background-color:#263133;color:white\"><b>0</b></td><td style=\"border: 1px solid white;\">S</td></tr><tr style=\"{border: 1px solid white;}\"><td style=\"border-bottom: 1px solid #DDD;font-size:1.02em;background-color:#263133;color:white\"><b>1</b></td><td style=\"border: 1px solid white;\">S</td></tr><tr style=\"{border: 1px solid white;}\"><td style=\"border-bottom: 1px solid #DDD;font-size:1.02em;background-color:#263133;color:white\"><b>2</b></td><td style=\"border: 1px solid white;\">S</td></tr><tr style=\"{border: 1px solid white;}\"><td style=\"border-bottom: 1px solid #DDD;font-size:1.02em;background-color:#263133;color:white\"><b>3</b></td><td style=\"border: 1px solid white;\">S</td></tr><tr style=\"{border: 1px solid white;}\"><td style=\"border-bottom: 1px solid #DDD;font-size:1.02em;background-color:#263133;color:white\"><b>4</b></td><td style=\"border: 1px solid white;\">C</td></tr><tr><td style=\"border-top: 1px solid white;background-color:#263133;color:white\"></td><td style=\"border: 1px solid white;\">...</td></tr></table>"
      ],
      "text/plain": [
       "<IPython.core.display.HTML object>"
      ]
     },
     "metadata": {},
     "output_type": "display_data"
    },
    {
     "name": "stdout",
     "output_type": "stream",
     "text": [
      "<object>  Name: embarked, Number of rows: 1234, dtype: varchar(20)\n"
     ]
    }
   ],
   "source": [
    "from vertica_ml_python.learn.datasets import load_titanic\n",
    "titanic = load_titanic()\n",
    "print(titanic[\"embarked\"])"
   ]
  },
  {
   "cell_type": "code",
   "execution_count": 24,
   "metadata": {},
   "outputs": [
    {
     "data": {
      "text/html": [
       "<table style=\"border-collapse: collapse; border: 2px solid white\"><tr style=\"{border: 1px solid white;}\"><td style=\"border-bottom: 1px solid #DDD;font-size:1.02em;background-color:#263133;color:white\"><b></b></td><td style=\"font-size:1.02em;background-color:#263133;color:white\"><b>embarked</b></td></tr><tr style=\"{border: 1px solid white;}\"><td style=\"border-bottom: 1px solid #DDD;font-size:1.02em;background-color:#263133;color:white\"><b>0</b></td><td style=\"border: 1px solid white;\">2</td></tr><tr style=\"{border: 1px solid white;}\"><td style=\"border-bottom: 1px solid #DDD;font-size:1.02em;background-color:#263133;color:white\"><b>1</b></td><td style=\"border: 1px solid white;\">2</td></tr><tr style=\"{border: 1px solid white;}\"><td style=\"border-bottom: 1px solid #DDD;font-size:1.02em;background-color:#263133;color:white\"><b>2</b></td><td style=\"border: 1px solid white;\">2</td></tr><tr style=\"{border: 1px solid white;}\"><td style=\"border-bottom: 1px solid #DDD;font-size:1.02em;background-color:#263133;color:white\"><b>3</b></td><td style=\"border: 1px solid white;\">2</td></tr><tr style=\"{border: 1px solid white;}\"><td style=\"border-bottom: 1px solid #DDD;font-size:1.02em;background-color:#263133;color:white\"><b>4</b></td><td style=\"border: 1px solid white;\">0</td></tr><tr><td style=\"border-top: 1px solid white;background-color:#263133;color:white\"></td><td style=\"border: 1px solid white;\">...</td></tr></table>"
      ],
      "text/plain": [
       "<IPython.core.display.HTML object>"
      ]
     },
     "metadata": {},
     "output_type": "display_data"
    },
    {
     "data": {
      "text/plain": [
       "<object>  Name: embarked, Number of rows: 1234, dtype: int"
      ]
     },
     "execution_count": 24,
     "metadata": {},
     "output_type": "execute_result"
    }
   ],
   "source": [
    "titanic[\"embarked\"].label_encode()"
   ]
  },
  {
   "cell_type": "markdown",
   "metadata": {},
   "source": [
    "### See Also\n",
    "\n",
    "<table id=\"seealso\">\n",
    "    <tr><td><a href=\"../decode\">vDataFrame[].decode</a></td> <td>Encodes the vcolumn using a User Defined Encoding.</td></tr>\n",
    "    <tr><td><a href=\"../discretize\">vDataFrame[].discretize</a></td> <td>Discretizes the vcolumn.</td></tr>\n",
    "    <tr><td><a href=\"../get_dummies\">vDataFrame[].get_dummies</a></td> <td>Encodes the vcolumn using the One Hot Encoding.</td></tr>\n",
    "    <tr><td><a href=\"../mean_encode\">vDataFrame[].mean_encode</a></td> <td>Encodes the vcolumn using the Mean Encoding of a response.</td></tr>\n",
    "</table>"
   ]
  }
 ],
 "metadata": {
  "kernelspec": {
   "display_name": "Python 3",
   "language": "python",
   "name": "python3"
  },
  "language_info": {
   "codemirror_mode": {
    "name": "ipython",
    "version": 3
   },
   "file_extension": ".py",
   "mimetype": "text/x-python",
   "name": "python",
   "nbconvert_exporter": "python",
   "pygments_lexer": "ipython3",
   "version": "3.6.3"
  }
 },
 "nbformat": 4,
 "nbformat_minor": 2
}
