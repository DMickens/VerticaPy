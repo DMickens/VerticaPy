{
 "cells": [
  {
   "cell_type": "markdown",
   "metadata": {},
   "source": [
    "# vDataFrame[].fill_outliers"
   ]
  },
  {
   "cell_type": "code",
   "execution_count": null,
   "metadata": {},
   "outputs": [],
   "source": [
    "vDataFrame[].fill_outliers(method: str = \"winsorize\",\n",
    "                           threshold: float = 4.0, \n",
    "                           use_threshold: bool = True,\n",
    "                           alpha: float = 0.05)"
   ]
  },
  {
   "cell_type": "markdown",
   "metadata": {},
   "source": [
    "Fills the vcolumns outliers using the input method.\n",
    "\n",
    "### Parameters\n",
    "\n",
    "<table id=\"parameters\">\n",
    "    <tr> <th>Name</th> <th>Type</th> <th>Optional</th> <th>Description</th> </tr>\n",
    "    <tr> <td><div class=\"param_name\">method</div></td> <td><div class=\"type\">str</div></td> <td><div class = \"yes\">&#10003;</div></td> <td>Method used to fill the vcolumn outliers.<br>\n",
    "                                                    <ul>\n",
    "                                                        <li><b>mean :</b> Replaces the upper and lower outliers by their respective average. </li>\n",
    "                                                        <li><b>null :</b> Replaces the outliers by the NULL value.</li>\n",
    "                                                        <li><b>winsorize :</b> Clips the vcolumn using as lower bound quantile(alpha) and as upper bound quantile(1-alpha) if 'use_threshold' is set to False else the lower and upper ZScores.</li>\n",
    "                                                        </ul></td> </tr>\n",
    "    <tr> <td><div class=\"param_name\">threshold</div></td> <td><div class=\"type\">float</div></td> <td><div class = \"yes\">&#10003;</div></td> <td>Uses the Gaussian distribution to define the outliers. After normalizing the data (Z-Score), if the absolute value of the record is greater than the threshold it will be considered as an outlier.</td> </tr>\n",
    "    <tr> <td><div class=\"param_name\">use_threshold</div></td> <td><div class=\"type\">bool</div></td> <td><div class = \"yes\">&#10003;</div></td> <td>Uses the threshold instead of the 'alpha' parameter.</td> </tr>\n",
    "    <tr> <td><div class=\"param_name\">alpha</div></td> <td><div class=\"type\">float</div></td> <td><div class = \"yes\">&#10003;</div></td> <td>Number representing the outliers threshold. Values lesser than quantile(alpha) or greater than quantile(1-alpha) will be filled.</td> </tr>\n",
    "</table>"
   ]
  },
  {
   "cell_type": "markdown",
   "metadata": {},
   "source": [
    "### Returns\n",
    "\n",
    "<b>vDataFrame</b> : self.parent\n",
    "\n",
    "### Example"
   ]
  },
  {
   "cell_type": "code",
   "execution_count": 99,
   "metadata": {},
   "outputs": [
    {
     "name": "stdout",
     "output_type": "stream",
     "text": [
      "294 element(s) was/were filtered\n"
     ]
    },
    {
     "data": {
      "text/html": [
       "<table style=\"border-collapse: collapse; border: 2px solid white\"><tr style=\"{border: 1px solid white;}\"><td style=\"border-bottom: 1px solid #DDD;font-size:1.02em;background-color:#214579;color:white\"><b></b></td><td style=\"font-size:1.02em;background-color:#214579;color:white\"><b>Form</b></td><td style=\"font-size:1.02em;background-color:#214579;color:white\"><b>Price</b></td><td style=\"font-size:1.02em;background-color:#214579;color:white\"><b>Name</b></td></tr><tr style=\"{border: 1px solid white;}\"><td style=\"border-bottom: 1px solid #DDD;font-size:1.02em;background-color:#214579;color:white\"><b>0</b></td><td style=\"border: 1px solid white;\">Frozen</td><td style=\"border: 1px solid white;\">0.5104657455</td><td style=\"border: 1px solid white;\">Apples</td></tr><tr style=\"{border: 1px solid white;}\"><td style=\"border-bottom: 1px solid #DDD;font-size:1.02em;background-color:#214579;color:white\"><b>1</b></td><td style=\"border: 1px solid white;\">Frozen</td><td style=\"border: 1px solid white;\">0.537867915537</td><td style=\"border: 1px solid white;\">Apples</td></tr><tr style=\"{border: 1px solid white;}\"><td style=\"border-bottom: 1px solid #DDD;font-size:1.02em;background-color:#214579;color:white\"><b>2</b></td><td style=\"border: 1px solid white;\">Ready to drink</td><td style=\"border: 1px solid white;\">0.6311325278</td><td style=\"border: 1px solid white;\">Apples</td></tr><tr style=\"{border: 1px solid white;}\"><td style=\"border-bottom: 1px solid #DDD;font-size:1.02em;background-color:#214579;color:white\"><b>3</b></td><td style=\"border: 1px solid white;\">Fresh</td><td style=\"border: 1px solid white;\">0.5494172928</td><td style=\"border: 1px solid white;\">Bananas</td></tr><tr style=\"{border: 1px solid white;}\"><td style=\"border-bottom: 1px solid #DDD;font-size:1.02em;background-color:#214579;color:white\"><b>4</b></td><td style=\"border: 1px solid white;\">Fresh</td><td style=\"border: 1px solid white;\">0.566983414531</td><td style=\"border: 1px solid white;\">Bananas</td></tr><tr style=\"{border: 1px solid white;}\"><td style=\"border-bottom: 1px solid #DDD;font-size:1.02em;background-color:#214579;color:white\"><b>5</b></td><td style=\"border: 1px solid white;\">Fresh green cabbage</td><td style=\"border: 1px solid white;\">0.579208394258</td><td style=\"border: 1px solid white;\">Cabbage</td></tr><tr style=\"{border: 1px solid white;}\"><td style=\"border-bottom: 1px solid #DDD;font-size:1.02em;background-color:#214579;color:white\"><b>6</b></td><td style=\"border: 1px solid white;\">Fresh green cabbage</td><td style=\"border: 1px solid white;\">0.6238712291</td><td style=\"border: 1px solid white;\">Cabbage</td></tr><tr style=\"{border: 1px solid white;}\"><td style=\"border-bottom: 1px solid #DDD;font-size:1.02em;background-color:#214579;color:white\"><b>7</b></td><td style=\"border: 1px solid white;\">Fresh</td><td style=\"border: 1px solid white;\">0.520793672</td><td style=\"border: 1px solid white;\">Cantaloupe</td></tr><tr style=\"{border: 1px solid white;}\"><td style=\"border-bottom: 1px solid #DDD;font-size:1.02em;background-color:#214579;color:white\"><b>8</b></td><td style=\"border: 1px solid white;\">Fresh</td><td style=\"border: 1px solid white;\">0.535873776106</td><td style=\"border: 1px solid white;\">Cantaloupe</td></tr><tr style=\"{border: 1px solid white;}\"><td style=\"border-bottom: 1px solid #DDD;font-size:1.02em;background-color:#214579;color:white\"><b>9</b></td><td style=\"border: 1px solid white;\">Frozen</td><td style=\"border: 1px solid white;\">0.674839678618</td><td style=\"border: 1px solid white;\">Grapefruit</td></tr><tr style=\"{border: 1px solid white;}\"><td style=\"border-bottom: 1px solid #DDD;font-size:1.02em;background-color:#214579;color:white\"><b>10</b></td><td style=\"border: 1px solid white;\">Frozen</td><td style=\"border: 1px solid white;\">0.658986796</td><td style=\"border: 1px solid white;\">Oranges</td></tr><tr style=\"{border: 1px solid white;}\"><td style=\"border-bottom: 1px solid #DDD;font-size:1.02em;background-color:#214579;color:white\"><b>11</b></td><td style=\"border: 1px solid white;\">Frozen</td><td style=\"border: 1px solid white;\">0.689934119435</td><td style=\"border: 1px solid white;\">Oranges</td></tr><tr style=\"{border: 1px solid white;}\"><td style=\"border-bottom: 1px solid #DDD;font-size:1.02em;background-color:#214579;color:white\"><b>12</b></td><td style=\"border: 1px solid white;\">Fresh</td><td style=\"border: 1px solid white;\">0.627661945936</td><td style=\"border: 1px solid white;\">Pineapple</td></tr><tr style=\"{border: 1px solid white;}\"><td style=\"border-bottom: 1px solid #DDD;font-size:1.02em;background-color:#214579;color:white\"><b>13</b></td><td style=\"border: 1px solid white;\">Fresh</td><td style=\"border: 1px solid white;\">0.6527945474</td><td style=\"border: 1px solid white;\">Pineapple</td></tr><tr style=\"{border: 1px solid white;}\"><td style=\"border-bottom: 1px solid #DDD;font-size:1.02em;background-color:#214579;color:white\"><b>14</b></td><td style=\"border: 1px solid white;\">Frozen</td><td style=\"border: 1px solid white;\">0.590752357725</td><td style=\"border: 1px solid white;\">Pineapple</td></tr><tr style=\"{border: 1px solid white;}\"><td style=\"border-bottom: 1px solid #DDD;font-size:1.02em;background-color:#214579;color:white\"><b>15</b></td><td style=\"border: 1px solid white;\">Frozen</td><td style=\"border: 1px solid white;\">0.6203795725</td><td style=\"border: 1px solid white;\">Pineapple</td></tr><tr style=\"{border: 1px solid white;}\"><td style=\"border-bottom: 1px solid #DDD;font-size:1.02em;background-color:#214579;color:white\"><b>16</b></td><td style=\"border: 1px solid white;\">Fresh</td><td style=\"border: 1px solid white;\">0.564319813929</td><td style=\"border: 1px solid white;\">Potatoes</td></tr><tr style=\"{border: 1px solid white;}\"><td style=\"border-bottom: 1px solid #DDD;font-size:1.02em;background-color:#214579;color:white\"><b>17</b></td><td style=\"border: 1px solid white;\">Fresh</td><td style=\"border: 1px solid white;\">0.6037360906</td><td style=\"border: 1px solid white;\">Potatoes</td></tr><tr style=\"{border: 1px solid white;}\"><td style=\"border-bottom: 1px solid #DDD;font-size:1.02em;background-color:#214579;color:white\"><b>18</b></td><td style=\"border: 1px solid white;\">Fresh</td><td style=\"border: 1px solid white;\">0.3166387792</td><td style=\"border: 1px solid white;\">Watermelon</td></tr><tr style=\"{border: 1px solid white;}\"><td style=\"border-bottom: 1px solid #DDD;font-size:1.02em;background-color:#214579;color:white\"><b>19</b></td><td style=\"border: 1px solid white;\">Fresh</td><td style=\"border: 1px solid white;\">0.333412035323</td><td style=\"border: 1px solid white;\">Watermelon</td></tr></table>"
      ],
      "text/plain": [
       "<IPython.core.display.HTML object>"
      ]
     },
     "metadata": {},
     "output_type": "display_data"
    },
    {
     "name": "stdout",
     "output_type": "stream",
     "text": [
      "<object>  Name: market, Number of rows: 20, Number of columns: 3\n"
     ]
    }
   ],
   "source": [
    "from vertica_ml_python.learn.datasets import load_market\n",
    "market = load_market().filter(\"Price < 0.7\")\n",
    "print(market.head(20))"
   ]
  },
  {
   "cell_type": "code",
   "execution_count": 94,
   "metadata": {},
   "outputs": [
    {
     "data": {
      "text/html": [
       "<table style=\"border-collapse: collapse; border: 2px solid white\"><tr style=\"{border: 1px solid white;}\"><td style=\"border-bottom: 1px solid #DDD;font-size:1.02em;background-color:#214579;color:white\"><b></b></td><td style=\"font-size:1.02em;background-color:#214579;color:white\"><b>Form</b></td><td style=\"font-size:1.02em;background-color:#214579;color:white\"><b>Price</b></td><td style=\"font-size:1.02em;background-color:#214579;color:white\"><b>Name</b></td></tr><tr style=\"{border: 1px solid white;}\"><td style=\"border-bottom: 1px solid #DDD;font-size:1.02em;background-color:#214579;color:white\"><b>0</b></td><td style=\"border: 1px solid white;\">Frozen</td><td style=\"border: 1px solid white;\">None</td><td style=\"border: 1px solid white;\">Apples</td></tr><tr style=\"{border: 1px solid white;}\"><td style=\"border-bottom: 1px solid #DDD;font-size:1.02em;background-color:#214579;color:white\"><b>1</b></td><td style=\"border: 1px solid white;\">Frozen</td><td style=\"border: 1px solid white;\">0.537867915537</td><td style=\"border: 1px solid white;\">Apples</td></tr><tr style=\"{border: 1px solid white;}\"><td style=\"border-bottom: 1px solid #DDD;font-size:1.02em;background-color:#214579;color:white\"><b>2</b></td><td style=\"border: 1px solid white;\">Ready to drink</td><td style=\"border: 1px solid white;\">0.6311325278</td><td style=\"border: 1px solid white;\">Apples</td></tr><tr style=\"{border: 1px solid white;}\"><td style=\"border-bottom: 1px solid #DDD;font-size:1.02em;background-color:#214579;color:white\"><b>3</b></td><td style=\"border: 1px solid white;\">Fresh</td><td style=\"border: 1px solid white;\">0.5494172928</td><td style=\"border: 1px solid white;\">Bananas</td></tr><tr style=\"{border: 1px solid white;}\"><td style=\"border-bottom: 1px solid #DDD;font-size:1.02em;background-color:#214579;color:white\"><b>4</b></td><td style=\"border: 1px solid white;\">Fresh</td><td style=\"border: 1px solid white;\">0.566983414531</td><td style=\"border: 1px solid white;\">Bananas</td></tr><tr style=\"{border: 1px solid white;}\"><td style=\"border-bottom: 1px solid #DDD;font-size:1.02em;background-color:#214579;color:white\"><b>5</b></td><td style=\"border: 1px solid white;\">Fresh green cabbage</td><td style=\"border: 1px solid white;\">0.579208394258</td><td style=\"border: 1px solid white;\">Cabbage</td></tr><tr style=\"{border: 1px solid white;}\"><td style=\"border-bottom: 1px solid #DDD;font-size:1.02em;background-color:#214579;color:white\"><b>6</b></td><td style=\"border: 1px solid white;\">Fresh green cabbage</td><td style=\"border: 1px solid white;\">0.6238712291</td><td style=\"border: 1px solid white;\">Cabbage</td></tr><tr style=\"{border: 1px solid white;}\"><td style=\"border-bottom: 1px solid #DDD;font-size:1.02em;background-color:#214579;color:white\"><b>7</b></td><td style=\"border: 1px solid white;\">Fresh</td><td style=\"border: 1px solid white;\">0.520793672</td><td style=\"border: 1px solid white;\">Cantaloupe</td></tr><tr style=\"{border: 1px solid white;}\"><td style=\"border-bottom: 1px solid #DDD;font-size:1.02em;background-color:#214579;color:white\"><b>8</b></td><td style=\"border: 1px solid white;\">Fresh</td><td style=\"border: 1px solid white;\">0.535873776106</td><td style=\"border: 1px solid white;\">Cantaloupe</td></tr><tr style=\"{border: 1px solid white;}\"><td style=\"border-bottom: 1px solid #DDD;font-size:1.02em;background-color:#214579;color:white\"><b>9</b></td><td style=\"border: 1px solid white;\">Frozen</td><td style=\"border: 1px solid white;\">0.674839678618</td><td style=\"border: 1px solid white;\">Grapefruit</td></tr><tr style=\"{border: 1px solid white;}\"><td style=\"border-bottom: 1px solid #DDD;font-size:1.02em;background-color:#214579;color:white\"><b>10</b></td><td style=\"border: 1px solid white;\">Frozen</td><td style=\"border: 1px solid white;\">0.658986796</td><td style=\"border: 1px solid white;\">Oranges</td></tr><tr style=\"{border: 1px solid white;}\"><td style=\"border-bottom: 1px solid #DDD;font-size:1.02em;background-color:#214579;color:white\"><b>11</b></td><td style=\"border: 1px solid white;\">Frozen</td><td style=\"border: 1px solid white;\">None</td><td style=\"border: 1px solid white;\">Oranges</td></tr><tr style=\"{border: 1px solid white;}\"><td style=\"border-bottom: 1px solid #DDD;font-size:1.02em;background-color:#214579;color:white\"><b>12</b></td><td style=\"border: 1px solid white;\">Fresh</td><td style=\"border: 1px solid white;\">0.627661945936</td><td style=\"border: 1px solid white;\">Pineapple</td></tr><tr style=\"{border: 1px solid white;}\"><td style=\"border-bottom: 1px solid #DDD;font-size:1.02em;background-color:#214579;color:white\"><b>13</b></td><td style=\"border: 1px solid white;\">Fresh</td><td style=\"border: 1px solid white;\">0.6527945474</td><td style=\"border: 1px solid white;\">Pineapple</td></tr><tr style=\"{border: 1px solid white;}\"><td style=\"border-bottom: 1px solid #DDD;font-size:1.02em;background-color:#214579;color:white\"><b>14</b></td><td style=\"border: 1px solid white;\">Frozen</td><td style=\"border: 1px solid white;\">0.590752357725</td><td style=\"border: 1px solid white;\">Pineapple</td></tr><tr style=\"{border: 1px solid white;}\"><td style=\"border-bottom: 1px solid #DDD;font-size:1.02em;background-color:#214579;color:white\"><b>15</b></td><td style=\"border: 1px solid white;\">Frozen</td><td style=\"border: 1px solid white;\">0.6203795725</td><td style=\"border: 1px solid white;\">Pineapple</td></tr><tr style=\"{border: 1px solid white;}\"><td style=\"border-bottom: 1px solid #DDD;font-size:1.02em;background-color:#214579;color:white\"><b>16</b></td><td style=\"border: 1px solid white;\">Fresh</td><td style=\"border: 1px solid white;\">0.564319813929</td><td style=\"border: 1px solid white;\">Potatoes</td></tr><tr style=\"{border: 1px solid white;}\"><td style=\"border-bottom: 1px solid #DDD;font-size:1.02em;background-color:#214579;color:white\"><b>17</b></td><td style=\"border: 1px solid white;\">Fresh</td><td style=\"border: 1px solid white;\">0.6037360906</td><td style=\"border: 1px solid white;\">Potatoes</td></tr><tr style=\"{border: 1px solid white;}\"><td style=\"border-bottom: 1px solid #DDD;font-size:1.02em;background-color:#214579;color:white\"><b>18</b></td><td style=\"border: 1px solid white;\">Fresh</td><td style=\"border: 1px solid white;\">None</td><td style=\"border: 1px solid white;\">Watermelon</td></tr><tr style=\"{border: 1px solid white;}\"><td style=\"border-bottom: 1px solid #DDD;font-size:1.02em;background-color:#214579;color:white\"><b>19</b></td><td style=\"border: 1px solid white;\">Fresh</td><td style=\"border: 1px solid white;\">None</td><td style=\"border: 1px solid white;\">Watermelon</td></tr></table>"
      ],
      "text/plain": [
       "<IPython.core.display.HTML object>"
      ]
     },
     "metadata": {},
     "output_type": "display_data"
    },
    {
     "data": {
      "text/plain": [
       "<object>  Name: market, Number of rows: 20, Number of columns: 3"
      ]
     },
     "execution_count": 94,
     "metadata": {},
     "output_type": "execute_result"
    }
   ],
   "source": [
    "# All the outliers (abs(ZSCORE) > 1.5) will be replaced by the NULL values\n",
    "market[\"Price\"].fill_outliers(method = \"null\",\n",
    "                              threshold = 1.5,\n",
    "                              use_threshold = True)"
   ]
  },
  {
   "cell_type": "code",
   "execution_count": 96,
   "metadata": {},
   "outputs": [
    {
     "data": {
      "text/html": [
       "<table style=\"border-collapse: collapse; border: 2px solid white\"><tr style=\"{border: 1px solid white;}\"><td style=\"border-bottom: 1px solid #DDD;font-size:1.02em;background-color:#214579;color:white\"><b></b></td><td style=\"font-size:1.02em;background-color:#214579;color:white\"><b>Price</b></td><td style=\"font-size:1.02em;background-color:#214579;color:white\"><b>Name</b></td><td style=\"font-size:1.02em;background-color:#214579;color:white\"><b>Form</b></td></tr><tr style=\"{border: 1px solid white;}\"><td style=\"border-bottom: 1px solid #DDD;font-size:1.02em;background-color:#214579;color:white\"><b>0</b></td><td style=\"border: 1px solid white;\">0.5104657455</td><td style=\"border: 1px solid white;\">Apples</td><td style=\"border: 1px solid white;\">Frozen</td></tr><tr style=\"{border: 1px solid white;}\"><td style=\"border-bottom: 1px solid #DDD;font-size:1.02em;background-color:#214579;color:white\"><b>1</b></td><td style=\"border: 1px solid white;\">0.537867915537</td><td style=\"border: 1px solid white;\">Apples</td><td style=\"border: 1px solid white;\">Frozen</td></tr><tr style=\"{border: 1px solid white;}\"><td style=\"border-bottom: 1px solid #DDD;font-size:1.02em;background-color:#214579;color:white\"><b>2</b></td><td style=\"border: 1px solid white;\">0.6311325278</td><td style=\"border: 1px solid white;\">Apples</td><td style=\"border: 1px solid white;\">Ready to drink</td></tr><tr style=\"{border: 1px solid white;}\"><td style=\"border-bottom: 1px solid #DDD;font-size:1.02em;background-color:#214579;color:white\"><b>3</b></td><td style=\"border: 1px solid white;\">0.5494172928</td><td style=\"border: 1px solid white;\">Bananas</td><td style=\"border: 1px solid white;\">Fresh</td></tr><tr style=\"{border: 1px solid white;}\"><td style=\"border-bottom: 1px solid #DDD;font-size:1.02em;background-color:#214579;color:white\"><b>4</b></td><td style=\"border: 1px solid white;\">0.566983414531</td><td style=\"border: 1px solid white;\">Bananas</td><td style=\"border: 1px solid white;\">Fresh</td></tr><tr style=\"{border: 1px solid white;}\"><td style=\"border-bottom: 1px solid #DDD;font-size:1.02em;background-color:#214579;color:white\"><b>5</b></td><td style=\"border: 1px solid white;\">0.579208394258</td><td style=\"border: 1px solid white;\">Cabbage</td><td style=\"border: 1px solid white;\">Fresh green cabbage</td></tr><tr style=\"{border: 1px solid white;}\"><td style=\"border-bottom: 1px solid #DDD;font-size:1.02em;background-color:#214579;color:white\"><b>6</b></td><td style=\"border: 1px solid white;\">0.6238712291</td><td style=\"border: 1px solid white;\">Cabbage</td><td style=\"border: 1px solid white;\">Fresh green cabbage</td></tr><tr style=\"{border: 1px solid white;}\"><td style=\"border-bottom: 1px solid #DDD;font-size:1.02em;background-color:#214579;color:white\"><b>7</b></td><td style=\"border: 1px solid white;\">0.520793672</td><td style=\"border: 1px solid white;\">Cantaloupe</td><td style=\"border: 1px solid white;\">Fresh</td></tr><tr style=\"{border: 1px solid white;}\"><td style=\"border-bottom: 1px solid #DDD;font-size:1.02em;background-color:#214579;color:white\"><b>8</b></td><td style=\"border: 1px solid white;\">0.535873776106</td><td style=\"border: 1px solid white;\">Cantaloupe</td><td style=\"border: 1px solid white;\">Fresh</td></tr><tr style=\"{border: 1px solid white;}\"><td style=\"border-bottom: 1px solid #DDD;font-size:1.02em;background-color:#214579;color:white\"><b>9</b></td><td style=\"border: 1px solid white;\">0.674839678618</td><td style=\"border: 1px solid white;\">Grapefruit</td><td style=\"border: 1px solid white;\">Frozen</td></tr><tr style=\"{border: 1px solid white;}\"><td style=\"border-bottom: 1px solid #DDD;font-size:1.02em;background-color:#214579;color:white\"><b>10</b></td><td style=\"border: 1px solid white;\">0.658986796</td><td style=\"border: 1px solid white;\">Oranges</td><td style=\"border: 1px solid white;\">Frozen</td></tr><tr style=\"{border: 1px solid white;}\"><td style=\"border-bottom: 1px solid #DDD;font-size:1.02em;background-color:#214579;color:white\"><b>11</b></td><td style=\"border: 1px solid white;\">0.689934119435</td><td style=\"border: 1px solid white;\">Oranges</td><td style=\"border: 1px solid white;\">Frozen</td></tr><tr style=\"{border: 1px solid white;}\"><td style=\"border-bottom: 1px solid #DDD;font-size:1.02em;background-color:#214579;color:white\"><b>12</b></td><td style=\"border: 1px solid white;\">0.627661945936</td><td style=\"border: 1px solid white;\">Pineapple</td><td style=\"border: 1px solid white;\">Fresh</td></tr><tr style=\"{border: 1px solid white;}\"><td style=\"border-bottom: 1px solid #DDD;font-size:1.02em;background-color:#214579;color:white\"><b>13</b></td><td style=\"border: 1px solid white;\">0.6527945474</td><td style=\"border: 1px solid white;\">Pineapple</td><td style=\"border: 1px solid white;\">Fresh</td></tr><tr style=\"{border: 1px solid white;}\"><td style=\"border-bottom: 1px solid #DDD;font-size:1.02em;background-color:#214579;color:white\"><b>14</b></td><td style=\"border: 1px solid white;\">0.590752357725</td><td style=\"border: 1px solid white;\">Pineapple</td><td style=\"border: 1px solid white;\">Frozen</td></tr><tr style=\"{border: 1px solid white;}\"><td style=\"border-bottom: 1px solid #DDD;font-size:1.02em;background-color:#214579;color:white\"><b>15</b></td><td style=\"border: 1px solid white;\">0.6203795725</td><td style=\"border: 1px solid white;\">Pineapple</td><td style=\"border: 1px solid white;\">Frozen</td></tr><tr style=\"{border: 1px solid white;}\"><td style=\"border-bottom: 1px solid #DDD;font-size:1.02em;background-color:#214579;color:white\"><b>16</b></td><td style=\"border: 1px solid white;\">0.564319813929</td><td style=\"border: 1px solid white;\">Potatoes</td><td style=\"border: 1px solid white;\">Fresh</td></tr><tr style=\"{border: 1px solid white;}\"><td style=\"border-bottom: 1px solid #DDD;font-size:1.02em;background-color:#214579;color:white\"><b>17</b></td><td style=\"border: 1px solid white;\">0.6037360906</td><td style=\"border: 1px solid white;\">Potatoes</td><td style=\"border: 1px solid white;\">Fresh</td></tr><tr style=\"{border: 1px solid white;}\"><td style=\"border-bottom: 1px solid #DDD;font-size:1.02em;background-color:#214579;color:white\"><b>18</b></td><td style=\"border: 1px solid white;\">0.422205378756987</td><td style=\"border: 1px solid white;\">Watermelon</td><td style=\"border: 1px solid white;\">Fresh</td></tr><tr style=\"{border: 1px solid white;}\"><td style=\"border-bottom: 1px solid #DDD;font-size:1.02em;background-color:#214579;color:white\"><b>19</b></td><td style=\"border: 1px solid white;\">0.422205378756987</td><td style=\"border: 1px solid white;\">Watermelon</td><td style=\"border: 1px solid white;\">Fresh</td></tr></table>"
      ],
      "text/plain": [
       "<IPython.core.display.HTML object>"
      ]
     },
     "metadata": {},
     "output_type": "display_data"
    },
    {
     "data": {
      "text/plain": [
       "<object>  Name: market, Number of rows: 20, Number of columns: 3"
      ]
     },
     "execution_count": 96,
     "metadata": {},
     "output_type": "execute_result"
    }
   ],
   "source": [
    "# All the outliers (abs(ZSCORE) > 1.5) will be replaced by the lower and \n",
    "# upper bound having a ZSCORE = 1.5 and -1.5\n",
    "market[\"Price\"].fill_outliers(method = \"winsorize\",\n",
    "                              threshold = 1.5,\n",
    "                              use_threshold = True)"
   ]
  },
  {
   "cell_type": "code",
   "execution_count": 100,
   "metadata": {},
   "outputs": [
    {
     "data": {
      "text/html": [
       "<table style=\"border-collapse: collapse; border: 2px solid white\"><tr style=\"{border: 1px solid white;}\"><td style=\"border-bottom: 1px solid #DDD;font-size:1.02em;background-color:#214579;color:white\"><b></b></td><td style=\"font-size:1.02em;background-color:#214579;color:white\"><b>Form</b></td><td style=\"font-size:1.02em;background-color:#214579;color:white\"><b>Price</b></td><td style=\"font-size:1.02em;background-color:#214579;color:white\"><b>Name</b></td></tr><tr style=\"{border: 1px solid white;}\"><td style=\"border-bottom: 1px solid #DDD;font-size:1.02em;background-color:#214579;color:white\"><b>0</b></td><td style=\"border: 1px solid white;\">Frozen</td><td style=\"border: 1px solid white;\">0.5328577552848</td><td style=\"border: 1px solid white;\">Apples</td></tr><tr style=\"{border: 1px solid white;}\"><td style=\"border-bottom: 1px solid #DDD;font-size:1.02em;background-color:#214579;color:white\"><b>1</b></td><td style=\"border: 1px solid white;\">Frozen</td><td style=\"border: 1px solid white;\">0.537867915537</td><td style=\"border: 1px solid white;\">Apples</td></tr><tr style=\"{border: 1px solid white;}\"><td style=\"border-bottom: 1px solid #DDD;font-size:1.02em;background-color:#214579;color:white\"><b>2</b></td><td style=\"border: 1px solid white;\">Ready to drink</td><td style=\"border: 1px solid white;\">0.6311325278</td><td style=\"border: 1px solid white;\">Apples</td></tr><tr style=\"{border: 1px solid white;}\"><td style=\"border-bottom: 1px solid #DDD;font-size:1.02em;background-color:#214579;color:white\"><b>3</b></td><td style=\"border: 1px solid white;\">Fresh</td><td style=\"border: 1px solid white;\">0.5494172928</td><td style=\"border: 1px solid white;\">Bananas</td></tr><tr style=\"{border: 1px solid white;}\"><td style=\"border-bottom: 1px solid #DDD;font-size:1.02em;background-color:#214579;color:white\"><b>4</b></td><td style=\"border: 1px solid white;\">Fresh</td><td style=\"border: 1px solid white;\">0.566983414531</td><td style=\"border: 1px solid white;\">Bananas</td></tr><tr style=\"{border: 1px solid white;}\"><td style=\"border-bottom: 1px solid #DDD;font-size:1.02em;background-color:#214579;color:white\"><b>5</b></td><td style=\"border: 1px solid white;\">Fresh green cabbage</td><td style=\"border: 1px solid white;\">0.579208394258</td><td style=\"border: 1px solid white;\">Cabbage</td></tr><tr style=\"{border: 1px solid white;}\"><td style=\"border-bottom: 1px solid #DDD;font-size:1.02em;background-color:#214579;color:white\"><b>6</b></td><td style=\"border: 1px solid white;\">Fresh green cabbage</td><td style=\"border: 1px solid white;\">0.6238712291</td><td style=\"border: 1px solid white;\">Cabbage</td></tr><tr style=\"{border: 1px solid white;}\"><td style=\"border-bottom: 1px solid #DDD;font-size:1.02em;background-color:#214579;color:white\"><b>7</b></td><td style=\"border: 1px solid white;\">Fresh</td><td style=\"border: 1px solid white;\">0.5328577552848</td><td style=\"border: 1px solid white;\">Cantaloupe</td></tr><tr style=\"{border: 1px solid white;}\"><td style=\"border-bottom: 1px solid #DDD;font-size:1.02em;background-color:#214579;color:white\"><b>8</b></td><td style=\"border: 1px solid white;\">Fresh</td><td style=\"border: 1px solid white;\">0.535873776106</td><td style=\"border: 1px solid white;\">Cantaloupe</td></tr><tr style=\"{border: 1px solid white;}\"><td style=\"border-bottom: 1px solid #DDD;font-size:1.02em;background-color:#214579;color:white\"><b>9</b></td><td style=\"border: 1px solid white;\">Frozen</td><td style=\"border: 1px solid white;\">0.63546493172</td><td style=\"border: 1px solid white;\">Grapefruit</td></tr><tr style=\"{border: 1px solid white;}\"><td style=\"border-bottom: 1px solid #DDD;font-size:1.02em;background-color:#214579;color:white\"><b>10</b></td><td style=\"border: 1px solid white;\">Frozen</td><td style=\"border: 1px solid white;\">0.63546493172</td><td style=\"border: 1px solid white;\">Oranges</td></tr><tr style=\"{border: 1px solid white;}\"><td style=\"border-bottom: 1px solid #DDD;font-size:1.02em;background-color:#214579;color:white\"><b>11</b></td><td style=\"border: 1px solid white;\">Frozen</td><td style=\"border: 1px solid white;\">0.63546493172</td><td style=\"border: 1px solid white;\">Oranges</td></tr><tr style=\"{border: 1px solid white;}\"><td style=\"border-bottom: 1px solid #DDD;font-size:1.02em;background-color:#214579;color:white\"><b>12</b></td><td style=\"border: 1px solid white;\">Fresh</td><td style=\"border: 1px solid white;\">0.627661945936</td><td style=\"border: 1px solid white;\">Pineapple</td></tr><tr style=\"{border: 1px solid white;}\"><td style=\"border-bottom: 1px solid #DDD;font-size:1.02em;background-color:#214579;color:white\"><b>13</b></td><td style=\"border: 1px solid white;\">Fresh</td><td style=\"border: 1px solid white;\">0.63546493172</td><td style=\"border: 1px solid white;\">Pineapple</td></tr><tr style=\"{border: 1px solid white;}\"><td style=\"border-bottom: 1px solid #DDD;font-size:1.02em;background-color:#214579;color:white\"><b>14</b></td><td style=\"border: 1px solid white;\">Frozen</td><td style=\"border: 1px solid white;\">0.590752357725</td><td style=\"border: 1px solid white;\">Pineapple</td></tr><tr style=\"{border: 1px solid white;}\"><td style=\"border-bottom: 1px solid #DDD;font-size:1.02em;background-color:#214579;color:white\"><b>15</b></td><td style=\"border: 1px solid white;\">Frozen</td><td style=\"border: 1px solid white;\">0.6203795725</td><td style=\"border: 1px solid white;\">Pineapple</td></tr><tr style=\"{border: 1px solid white;}\"><td style=\"border-bottom: 1px solid #DDD;font-size:1.02em;background-color:#214579;color:white\"><b>16</b></td><td style=\"border: 1px solid white;\">Fresh</td><td style=\"border: 1px solid white;\">0.564319813929</td><td style=\"border: 1px solid white;\">Potatoes</td></tr><tr style=\"{border: 1px solid white;}\"><td style=\"border-bottom: 1px solid #DDD;font-size:1.02em;background-color:#214579;color:white\"><b>17</b></td><td style=\"border: 1px solid white;\">Fresh</td><td style=\"border: 1px solid white;\">0.6037360906</td><td style=\"border: 1px solid white;\">Potatoes</td></tr><tr style=\"{border: 1px solid white;}\"><td style=\"border-bottom: 1px solid #DDD;font-size:1.02em;background-color:#214579;color:white\"><b>18</b></td><td style=\"border: 1px solid white;\">Fresh</td><td style=\"border: 1px solid white;\">0.5328577552848</td><td style=\"border: 1px solid white;\">Watermelon</td></tr><tr style=\"{border: 1px solid white;}\"><td style=\"border-bottom: 1px solid #DDD;font-size:1.02em;background-color:#214579;color:white\"><b>19</b></td><td style=\"border: 1px solid white;\">Fresh</td><td style=\"border: 1px solid white;\">0.5328577552848</td><td style=\"border: 1px solid white;\">Watermelon</td></tr></table>"
      ],
      "text/plain": [
       "<IPython.core.display.HTML object>"
      ]
     },
     "metadata": {},
     "output_type": "display_data"
    },
    {
     "data": {
      "text/plain": [
       "<object>  Name: market, Number of rows: 20, Number of columns: 3"
      ]
     },
     "execution_count": 100,
     "metadata": {},
     "output_type": "execute_result"
    }
   ],
   "source": [
    "# All the outliers (values > quantile(0.8) or < quantile(0.8)) will be \n",
    "# replaced by the nearest of the two quantiles\n",
    "market[\"Price\"].fill_outliers(method = \"winsorize\",\n",
    "                              alpha = 0.2,\n",
    "                              use_threshold = False)"
   ]
  },
  {
   "cell_type": "markdown",
   "metadata": {},
   "source": [
    "### See Also\n",
    "\n",
    "<table id=\"seealso\">\n",
    "    <tr><td><a href=\"../drop_outliers\">vDataFrame[].drop_outliers</a></td> <td>Drops the vcolumn outliers.</td></tr>\n",
    "    <tr><td><a href=\"../../main-methods/outliers\">vDataFrame.outliers</a></td> <td>Computes the vDataFrame Global Outliers.</td></tr>\n",
    "</table>"
   ]
  }
 ],
 "metadata": {
  "kernelspec": {
   "display_name": "Python 3",
   "language": "python",
   "name": "python3"
  },
  "language_info": {
   "codemirror_mode": {
    "name": "ipython",
    "version": 3
   },
   "file_extension": ".py",
   "mimetype": "text/x-python",
   "name": "python",
   "nbconvert_exporter": "python",
   "pygments_lexer": "ipython3",
   "version": "3.6.3"
  }
 },
 "nbformat": 4,
 "nbformat_minor": 2
}
