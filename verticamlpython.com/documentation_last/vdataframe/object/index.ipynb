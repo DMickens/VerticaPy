{
 "cells": [
  {
   "cell_type": "markdown",
   "metadata": {},
   "source": [
    "# vDataFrame"
   ]
  },
  {
   "cell_type": "code",
   "execution_count": null,
   "metadata": {},
   "outputs": [],
   "source": [
    "vDataFrame(input_relation: str,\n",
    "           cursor = None,\n",
    "           dsn: str = \"\",\n",
    "           usecols: list = [],\n",
    "           schema: str = \"\",\n",
    "           empty: bool = False)"
   ]
  },
  {
   "cell_type": "markdown",
   "metadata": {},
   "source": [
    "Python object which will keep in mind all the user modifications in order to use the correct SQL code generation. It will send SQL queries to the Vertica DB which will aggregate and return the final result. vDataFrame will create for each column of the relation a Virtual Column (vcolumn) which will store the column alias and all the user transformations. Thus, vDataFrame allows to do easy data preparation and exploration without modifying the data.\n",
    "<br><br>\n",
    "<center><img src='../../img/vertica-ml-python.png' width=\"80%\"></center>\n",
    "\n",
    "### Parameters\n",
    "\n",
    "<table id=\"parameters\">\n",
    "    <tr> <th>Name</th> <th>Type</th> <th>Optional</th> <th>Description</th> </tr>\n",
    "    <tr> <td><div class=\"param_name\">input_relation</div></td> <td><div class=\"type\">str</div></td> <td><div class = \"no\">&#10060;</div></td> <td>Relation (View, Table or Temporary Table) used to create the object. To get a specific schema relation, your string must include both relation and schema: 'schema.relation' or '\"schema\".\"relation\"'. You can also use the 'schema' parameter to be less ambiguous. In this case input_relation must only be the relation name (it must not include a schema).</td> </tr>\n",
    "    <tr> <td><div class=\"param_name\">cursor</div></td> <td><div class=\"type\">DBcursor</div></td> <td><div class = \"yes\">&#10003;</div></td> <td>Vertica DB cursor. <br>For a cursor designed by Vertica, search for vertica_python. <br>For ODBC, search for pyodbc.<br>For JDBC, search for jaydebeapi.<br>Check out utilities.vHelp function, it may help you.</td> </tr>\n",
    "    <tr> <td><div class=\"param_name\">dsn</div></td> <td><div class=\"type\">str</div></td> <td><div class = \"yes\">&#10003;</div></td> <td>Data Base DSN. OS File including the DB credentials. Vertica ML Python will try to create a vertica_python cursor first. If it didn't find the library, it will try to create a pyodbc cursor. Check out utilities.vHelp function, it may help you.</td> </tr>\n",
    "    <tr> <td><div class=\"param_name\">usecols</div></td> <td><div class=\"type\">list</div></td> <td><div class = \"yes\">&#10003;</div></td> <td>List of columns used to create the object. As Vertica is a columnar DB including less columns is easy and makes the process faster. Do not hesitate to not include useless columns.</td> </tr>\n",
    "    <tr> <td><div class=\"param_name\">schema</div></td> <td><div class=\"type\">str</div></td> <td><div class = \"yes\">&#10003;</div></td> <td>Relation schema. It can be used to be less ambiguous and allow to create schema and relation name with dots '.' inside.</td> </tr>\n",
    "    <tr> <td><div class=\"param_name\">empty</div></td> <td><div class=\"type\">bool</div></td> <td><div class = \"yes\">&#10003;</div></td> <td>If set to True, the created object will be empty. It can be used to create customized vDataFrame without going through the initialization check.</td> </tr>\n",
    "</table>\n",
    "\n",
    "### Attributes\n",
    "\n",
    "<table id=\"parameters\">\n",
    "    <tr> <th>Name</th> <th>Type</th> <th>Description</th> </tr>\n",
    "    <tr> <td><div class=\"param_name\">_VERTICA_ML_PYTHON_VARIABLES_</div></td> <td><div class=\"type\">dict</div></td> <td>Dictionary containing all the vDataFrame attributes.<br>\n",
    "                                                    <ul>\n",
    "                                                        <li><b>allcols_ind, int :</b> Int used to optimize the SQL code generation.</li>\n",
    "                                                        <li><b>columns, list :</b> List of the vcolumns names.</li>\n",
    "                                                        <li><b>count, int :</b> Number of elements of the vDataFrame (catalog).</li>\n",
    "                                                        <li><b>cursor, DBcursor :</b> Vertica Database cursor.</li>\n",
    "                                                        <li><b>dsn, str :</b> Vertica Database DSN.</li>\n",
    "                                                        <li><b>exclude_columns, list :</b> columns to exclude from the final relation.</li>\n",
    "                                                        <li><b>history, list :</b> vDataFrame history (user modifications).</li>\n",
    "                                                        <li><b>input_relation, str :</b> Name of the vDataFrame.</li>\n",
    "                                                        <li><b>main_relation, str :</b> Relation used to build the vDataFrame (first floor).</li>\n",
    "                                                        <li><b>order_by, dict :</b> Dictionary of all the rules to sort the vDataFrame.</li>\n",
    "                                                        <li><b>query_on, bool :</b> If set to True, all the query will be printed.</li>\n",
    "                                                        <li><b>saving, list :</b> List used to reconstruct the vDataFrame.</li>\n",
    "                                                        <li><b>schema, str :</b> Schema of the input relation.</li>\n",
    "                                                        <li><b>schema_writing, str :</b> Schema used to create temporary tables when needed.</li>\n",
    "                                                        <li><b>time_on, bool :</b> If set to True, all the query elapsed time will be printed.</li>\n",
    "                                                        <li><b>where, list :</b> List of all the rules to filter the vDataFrame.</li></ul></td> </tr>\n",
    "    <tr> <td><div class=\"param_name\">vcolumns</div></td> <td><div class=\"type\">vcolumn</div></td> <td>Each vcolumn of the vDataFrame is accessible by entering its name between brackets. For example to access to \"myVC\", you can write vDataFrame[\"myVC\"].</td> </tr>\n",
    "</table>"
   ]
  },
  {
   "cell_type": "markdown",
   "metadata": {},
   "source": [
    "### Example"
   ]
  },
  {
   "cell_type": "code",
   "execution_count": 2,
   "metadata": {},
   "outputs": [
    {
     "data": {
      "text/html": [
       "<table style=\"border-collapse: collapse; border: 2px solid white\"><tr style=\"{border: 1px solid white;}\"><td style=\"border-bottom: 1px solid #DDD;font-size:1.02em;background-color:#214579;color:white\"><b></b></td><td style=\"font-size:1.02em;background-color:#214579;color:white\"><b>fare</b></td><td style=\"font-size:1.02em;background-color:#214579;color:white\"><b>sex</b></td><td style=\"font-size:1.02em;background-color:#214579;color:white\"><b>body</b></td><td style=\"font-size:1.02em;background-color:#214579;color:white\"><b>pclass</b></td><td style=\"font-size:1.02em;background-color:#214579;color:white\"><b>age</b></td><td style=\"font-size:1.02em;background-color:#214579;color:white\"><b>name</b></td><td style=\"font-size:1.02em;background-color:#214579;color:white\"><b>cabin</b></td><td style=\"font-size:1.02em;background-color:#214579;color:white\"><b>parch</b></td><td style=\"font-size:1.02em;background-color:#214579;color:white\"><b>survived</b></td><td style=\"font-size:1.02em;background-color:#214579;color:white\"><b>boat</b></td><td style=\"font-size:1.02em;background-color:#214579;color:white\"><b>ticket</b></td><td style=\"font-size:1.02em;background-color:#214579;color:white\"><b>embarked</b></td><td style=\"font-size:1.02em;background-color:#214579;color:white\"><b>home.dest</b></td><td style=\"font-size:1.02em;background-color:#214579;color:white\"><b>sibsp</b></td></tr><tr style=\"{border: 1px solid white;}\"><td style=\"border-bottom: 1px solid #DDD;font-size:1.02em;background-color:#214579;color:white\"><b>0</b></td><td style=\"border: 1px solid white;\">151.55000</td><td style=\"border: 1px solid white;\">female</td><td style=\"border: 1px solid white;\">None</td><td style=\"border: 1px solid white;\">1</td><td style=\"border: 1px solid white;\">2.000</td><td style=\"border: 1px solid white;\">Allison, Miss. Helen Loraine</td><td style=\"border: 1px solid white;\">C22 C26</td><td style=\"border: 1px solid white;\">2</td><td style=\"border: 1px solid white;\">0</td><td style=\"border: 1px solid white;\">None</td><td style=\"border: 1px solid white;\">113781</td><td style=\"border: 1px solid white;\">S</td><td style=\"border: 1px solid white;\">Montreal, PQ / Chesterville, ON</td><td style=\"border: 1px solid white;\">1</td></tr><tr style=\"{border: 1px solid white;}\"><td style=\"border-bottom: 1px solid #DDD;font-size:1.02em;background-color:#214579;color:white\"><b>1</b></td><td style=\"border: 1px solid white;\">151.55000</td><td style=\"border: 1px solid white;\">male</td><td style=\"border: 1px solid white;\">135</td><td style=\"border: 1px solid white;\">1</td><td style=\"border: 1px solid white;\">30.000</td><td style=\"border: 1px solid white;\">Allison, Mr. Hudson Joshua Creighton</td><td style=\"border: 1px solid white;\">C22 C26</td><td style=\"border: 1px solid white;\">2</td><td style=\"border: 1px solid white;\">0</td><td style=\"border: 1px solid white;\">None</td><td style=\"border: 1px solid white;\">113781</td><td style=\"border: 1px solid white;\">S</td><td style=\"border: 1px solid white;\">Montreal, PQ / Chesterville, ON</td><td style=\"border: 1px solid white;\">1</td></tr><tr style=\"{border: 1px solid white;}\"><td style=\"border-bottom: 1px solid #DDD;font-size:1.02em;background-color:#214579;color:white\"><b>2</b></td><td style=\"border: 1px solid white;\">151.55000</td><td style=\"border: 1px solid white;\">female</td><td style=\"border: 1px solid white;\">None</td><td style=\"border: 1px solid white;\">1</td><td style=\"border: 1px solid white;\">25.000</td><td style=\"border: 1px solid white;\">Allison, Mrs. Hudson J C (Bessie Waldo Daniels)</td><td style=\"border: 1px solid white;\">C22 C26</td><td style=\"border: 1px solid white;\">2</td><td style=\"border: 1px solid white;\">0</td><td style=\"border: 1px solid white;\">None</td><td style=\"border: 1px solid white;\">113781</td><td style=\"border: 1px solid white;\">S</td><td style=\"border: 1px solid white;\">Montreal, PQ / Chesterville, ON</td><td style=\"border: 1px solid white;\">1</td></tr><tr style=\"{border: 1px solid white;}\"><td style=\"border-bottom: 1px solid #DDD;font-size:1.02em;background-color:#214579;color:white\"><b>3</b></td><td style=\"border: 1px solid white;\">0.00000</td><td style=\"border: 1px solid white;\">male</td><td style=\"border: 1px solid white;\">None</td><td style=\"border: 1px solid white;\">1</td><td style=\"border: 1px solid white;\">39.000</td><td style=\"border: 1px solid white;\">Andrews, Mr. Thomas Jr</td><td style=\"border: 1px solid white;\">A36</td><td style=\"border: 1px solid white;\">0</td><td style=\"border: 1px solid white;\">0</td><td style=\"border: 1px solid white;\">None</td><td style=\"border: 1px solid white;\">112050</td><td style=\"border: 1px solid white;\">S</td><td style=\"border: 1px solid white;\">Belfast, NI</td><td style=\"border: 1px solid white;\">0</td></tr><tr style=\"{border: 1px solid white;}\"><td style=\"border-bottom: 1px solid #DDD;font-size:1.02em;background-color:#214579;color:white\"><b>4</b></td><td style=\"border: 1px solid white;\">49.50420</td><td style=\"border: 1px solid white;\">male</td><td style=\"border: 1px solid white;\">22</td><td style=\"border: 1px solid white;\">1</td><td style=\"border: 1px solid white;\">71.000</td><td style=\"border: 1px solid white;\">Artagaveytia, Mr. Ramon</td><td style=\"border: 1px solid white;\">None</td><td style=\"border: 1px solid white;\">0</td><td style=\"border: 1px solid white;\">0</td><td style=\"border: 1px solid white;\">None</td><td style=\"border: 1px solid white;\">PC 17609</td><td style=\"border: 1px solid white;\">C</td><td style=\"border: 1px solid white;\">Montevideo, Uruguay</td><td style=\"border: 1px solid white;\">0</td></tr><tr><td style=\"border-top: 1px solid white;background-color:#214579;color:white\"></td><td style=\"border: 1px solid white;\">...</td><td style=\"border: 1px solid white;\">...</td><td style=\"border: 1px solid white;\">...</td><td style=\"border: 1px solid white;\">...</td><td style=\"border: 1px solid white;\">...</td><td style=\"border: 1px solid white;\">...</td><td style=\"border: 1px solid white;\">...</td><td style=\"border: 1px solid white;\">...</td><td style=\"border: 1px solid white;\">...</td><td style=\"border: 1px solid white;\">...</td><td style=\"border: 1px solid white;\">...</td><td style=\"border: 1px solid white;\">...</td><td style=\"border: 1px solid white;\">...</td><td style=\"border: 1px solid white;\">...</td></tr></table>"
      ],
      "text/plain": [
       "<IPython.core.display.HTML object>"
      ]
     },
     "metadata": {},
     "output_type": "display_data"
    },
    {
     "data": {
      "text/plain": [
       "<object>  Name: titanic, Number of rows: 1234, Number of columns: 14"
      ]
     },
     "execution_count": 2,
     "metadata": {},
     "output_type": "execute_result"
    }
   ],
   "source": [
    "from vertica_ml_python import vDataFrame\n",
    "# Creating vDataFrame using the schema and the relation name\n",
    "# in the 'input_relation' parameter\n",
    "vDataFrame(input_relation = '\"public\".\"titanic\"')"
   ]
  },
  {
   "cell_type": "code",
   "execution_count": 3,
   "metadata": {},
   "outputs": [
    {
     "data": {
      "text/html": [
       "<table style=\"border-collapse: collapse; border: 2px solid white\"><tr style=\"{border: 1px solid white;}\"><td style=\"border-bottom: 1px solid #DDD;font-size:1.02em;background-color:#214579;color:white\"><b></b></td><td style=\"font-size:1.02em;background-color:#214579;color:white\"><b>survived</b></td><td style=\"font-size:1.02em;background-color:#214579;color:white\"><b>boat</b></td><td style=\"font-size:1.02em;background-color:#214579;color:white\"><b>ticket</b></td><td style=\"font-size:1.02em;background-color:#214579;color:white\"><b>embarked</b></td><td style=\"font-size:1.02em;background-color:#214579;color:white\"><b>home.dest</b></td><td style=\"font-size:1.02em;background-color:#214579;color:white\"><b>sibsp</b></td><td style=\"font-size:1.02em;background-color:#214579;color:white\"><b>fare</b></td><td style=\"font-size:1.02em;background-color:#214579;color:white\"><b>sex</b></td><td style=\"font-size:1.02em;background-color:#214579;color:white\"><b>body</b></td><td style=\"font-size:1.02em;background-color:#214579;color:white\"><b>pclass</b></td><td style=\"font-size:1.02em;background-color:#214579;color:white\"><b>age</b></td><td style=\"font-size:1.02em;background-color:#214579;color:white\"><b>name</b></td><td style=\"font-size:1.02em;background-color:#214579;color:white\"><b>cabin</b></td><td style=\"font-size:1.02em;background-color:#214579;color:white\"><b>parch</b></td></tr><tr style=\"{border: 1px solid white;}\"><td style=\"border-bottom: 1px solid #DDD;font-size:1.02em;background-color:#214579;color:white\"><b>0</b></td><td style=\"border: 1px solid white;\">0</td><td style=\"border: 1px solid white;\">None</td><td style=\"border: 1px solid white;\">113781</td><td style=\"border: 1px solid white;\">S</td><td style=\"border: 1px solid white;\">Montreal, PQ / Chesterville, ON</td><td style=\"border: 1px solid white;\">1</td><td style=\"border: 1px solid white;\">151.55000</td><td style=\"border: 1px solid white;\">female</td><td style=\"border: 1px solid white;\">None</td><td style=\"border: 1px solid white;\">1</td><td style=\"border: 1px solid white;\">2.000</td><td style=\"border: 1px solid white;\">Allison, Miss. Helen Loraine</td><td style=\"border: 1px solid white;\">C22 C26</td><td style=\"border: 1px solid white;\">2</td></tr><tr style=\"{border: 1px solid white;}\"><td style=\"border-bottom: 1px solid #DDD;font-size:1.02em;background-color:#214579;color:white\"><b>1</b></td><td style=\"border: 1px solid white;\">0</td><td style=\"border: 1px solid white;\">None</td><td style=\"border: 1px solid white;\">113781</td><td style=\"border: 1px solid white;\">S</td><td style=\"border: 1px solid white;\">Montreal, PQ / Chesterville, ON</td><td style=\"border: 1px solid white;\">1</td><td style=\"border: 1px solid white;\">151.55000</td><td style=\"border: 1px solid white;\">male</td><td style=\"border: 1px solid white;\">135</td><td style=\"border: 1px solid white;\">1</td><td style=\"border: 1px solid white;\">30.000</td><td style=\"border: 1px solid white;\">Allison, Mr. Hudson Joshua Creighton</td><td style=\"border: 1px solid white;\">C22 C26</td><td style=\"border: 1px solid white;\">2</td></tr><tr style=\"{border: 1px solid white;}\"><td style=\"border-bottom: 1px solid #DDD;font-size:1.02em;background-color:#214579;color:white\"><b>2</b></td><td style=\"border: 1px solid white;\">0</td><td style=\"border: 1px solid white;\">None</td><td style=\"border: 1px solid white;\">113781</td><td style=\"border: 1px solid white;\">S</td><td style=\"border: 1px solid white;\">Montreal, PQ / Chesterville, ON</td><td style=\"border: 1px solid white;\">1</td><td style=\"border: 1px solid white;\">151.55000</td><td style=\"border: 1px solid white;\">female</td><td style=\"border: 1px solid white;\">None</td><td style=\"border: 1px solid white;\">1</td><td style=\"border: 1px solid white;\">25.000</td><td style=\"border: 1px solid white;\">Allison, Mrs. Hudson J C (Bessie Waldo Daniels)</td><td style=\"border: 1px solid white;\">C22 C26</td><td style=\"border: 1px solid white;\">2</td></tr><tr style=\"{border: 1px solid white;}\"><td style=\"border-bottom: 1px solid #DDD;font-size:1.02em;background-color:#214579;color:white\"><b>3</b></td><td style=\"border: 1px solid white;\">0</td><td style=\"border: 1px solid white;\">None</td><td style=\"border: 1px solid white;\">112050</td><td style=\"border: 1px solid white;\">S</td><td style=\"border: 1px solid white;\">Belfast, NI</td><td style=\"border: 1px solid white;\">0</td><td style=\"border: 1px solid white;\">0.00000</td><td style=\"border: 1px solid white;\">male</td><td style=\"border: 1px solid white;\">None</td><td style=\"border: 1px solid white;\">1</td><td style=\"border: 1px solid white;\">39.000</td><td style=\"border: 1px solid white;\">Andrews, Mr. Thomas Jr</td><td style=\"border: 1px solid white;\">A36</td><td style=\"border: 1px solid white;\">0</td></tr><tr style=\"{border: 1px solid white;}\"><td style=\"border-bottom: 1px solid #DDD;font-size:1.02em;background-color:#214579;color:white\"><b>4</b></td><td style=\"border: 1px solid white;\">0</td><td style=\"border: 1px solid white;\">None</td><td style=\"border: 1px solid white;\">PC 17609</td><td style=\"border: 1px solid white;\">C</td><td style=\"border: 1px solid white;\">Montevideo, Uruguay</td><td style=\"border: 1px solid white;\">0</td><td style=\"border: 1px solid white;\">49.50420</td><td style=\"border: 1px solid white;\">male</td><td style=\"border: 1px solid white;\">22</td><td style=\"border: 1px solid white;\">1</td><td style=\"border: 1px solid white;\">71.000</td><td style=\"border: 1px solid white;\">Artagaveytia, Mr. Ramon</td><td style=\"border: 1px solid white;\">None</td><td style=\"border: 1px solid white;\">0</td></tr><tr><td style=\"border-top: 1px solid white;background-color:#214579;color:white\"></td><td style=\"border: 1px solid white;\">...</td><td style=\"border: 1px solid white;\">...</td><td style=\"border: 1px solid white;\">...</td><td style=\"border: 1px solid white;\">...</td><td style=\"border: 1px solid white;\">...</td><td style=\"border: 1px solid white;\">...</td><td style=\"border: 1px solid white;\">...</td><td style=\"border: 1px solid white;\">...</td><td style=\"border: 1px solid white;\">...</td><td style=\"border: 1px solid white;\">...</td><td style=\"border: 1px solid white;\">...</td><td style=\"border: 1px solid white;\">...</td><td style=\"border: 1px solid white;\">...</td><td style=\"border: 1px solid white;\">...</td></tr></table>"
      ],
      "text/plain": [
       "<IPython.core.display.HTML object>"
      ]
     },
     "metadata": {},
     "output_type": "display_data"
    },
    {
     "data": {
      "text/plain": [
       "<object>  Name: titanic, Number of rows: 1234, Number of columns: 14"
      ]
     },
     "execution_count": 3,
     "metadata": {},
     "output_type": "execute_result"
    }
   ],
   "source": [
    "# Creating vDataFrame using the schema and the relation name\n",
    "vDataFrame(input_relation = 'titanic', schema = 'public')"
   ]
  },
  {
   "cell_type": "code",
   "execution_count": 4,
   "metadata": {},
   "outputs": [
    {
     "data": {
      "text/html": [
       "<table style=\"border-collapse: collapse; border: 2px solid white\"><tr style=\"{border: 1px solid white;}\"><td style=\"border-bottom: 1px solid #DDD;font-size:1.02em;background-color:#214579;color:white\"><b></b></td><td style=\"font-size:1.02em;background-color:#214579;color:white\"><b>age</b></td><td style=\"font-size:1.02em;background-color:#214579;color:white\"><b>survived</b></td></tr><tr style=\"{border: 1px solid white;}\"><td style=\"border-bottom: 1px solid #DDD;font-size:1.02em;background-color:#214579;color:white\"><b>0</b></td><td style=\"border: 1px solid white;\">2.000</td><td style=\"border: 1px solid white;\">0</td></tr><tr style=\"{border: 1px solid white;}\"><td style=\"border-bottom: 1px solid #DDD;font-size:1.02em;background-color:#214579;color:white\"><b>1</b></td><td style=\"border: 1px solid white;\">30.000</td><td style=\"border: 1px solid white;\">0</td></tr><tr style=\"{border: 1px solid white;}\"><td style=\"border-bottom: 1px solid #DDD;font-size:1.02em;background-color:#214579;color:white\"><b>2</b></td><td style=\"border: 1px solid white;\">25.000</td><td style=\"border: 1px solid white;\">0</td></tr><tr style=\"{border: 1px solid white;}\"><td style=\"border-bottom: 1px solid #DDD;font-size:1.02em;background-color:#214579;color:white\"><b>3</b></td><td style=\"border: 1px solid white;\">39.000</td><td style=\"border: 1px solid white;\">0</td></tr><tr style=\"{border: 1px solid white;}\"><td style=\"border-bottom: 1px solid #DDD;font-size:1.02em;background-color:#214579;color:white\"><b>4</b></td><td style=\"border: 1px solid white;\">71.000</td><td style=\"border: 1px solid white;\">0</td></tr><tr><td style=\"border-top: 1px solid white;background-color:#214579;color:white\"></td><td style=\"border: 1px solid white;\">...</td><td style=\"border: 1px solid white;\">...</td></tr></table>"
      ],
      "text/plain": [
       "<IPython.core.display.HTML object>"
      ]
     },
     "metadata": {},
     "output_type": "display_data"
    },
    {
     "data": {
      "text/plain": [
       "<object>  Name: titanic, Number of rows: 1234, Number of columns: 2"
      ]
     },
     "execution_count": 4,
     "metadata": {},
     "output_type": "execute_result"
    }
   ],
   "source": [
    "# Creating vDataFrame using only the input vcolumns\n",
    "vDataFrame(input_relation = 'titanic', schema = 'public', usecols = [\"age\", \"survived\"])"
   ]
  },
  {
   "cell_type": "code",
   "execution_count": 6,
   "metadata": {},
   "outputs": [
    {
     "data": {
      "text/html": [
       "<table style=\"border-collapse: collapse; border: 2px solid white\"><tr style=\"{border: 1px solid white;}\"><td style=\"border-bottom: 1px solid #DDD;font-size:1.02em;background-color:#214579;color:white\"><b></b></td><td style=\"font-size:1.02em;background-color:#214579;color:white\"><b>fare</b></td><td style=\"font-size:1.02em;background-color:#214579;color:white\"><b>sex</b></td><td style=\"font-size:1.02em;background-color:#214579;color:white\"><b>body</b></td><td style=\"font-size:1.02em;background-color:#214579;color:white\"><b>pclass</b></td><td style=\"font-size:1.02em;background-color:#214579;color:white\"><b>age</b></td><td style=\"font-size:1.02em;background-color:#214579;color:white\"><b>name</b></td><td style=\"font-size:1.02em;background-color:#214579;color:white\"><b>cabin</b></td><td style=\"font-size:1.02em;background-color:#214579;color:white\"><b>parch</b></td><td style=\"font-size:1.02em;background-color:#214579;color:white\"><b>survived</b></td><td style=\"font-size:1.02em;background-color:#214579;color:white\"><b>boat</b></td><td style=\"font-size:1.02em;background-color:#214579;color:white\"><b>ticket</b></td><td style=\"font-size:1.02em;background-color:#214579;color:white\"><b>embarked</b></td><td style=\"font-size:1.02em;background-color:#214579;color:white\"><b>home.dest</b></td><td style=\"font-size:1.02em;background-color:#214579;color:white\"><b>sibsp</b></td></tr><tr style=\"{border: 1px solid white;}\"><td style=\"border-bottom: 1px solid #DDD;font-size:1.02em;background-color:#214579;color:white\"><b>0</b></td><td style=\"border: 1px solid white;\">151.55000</td><td style=\"border: 1px solid white;\">female</td><td style=\"border: 1px solid white;\">None</td><td style=\"border: 1px solid white;\">1</td><td style=\"border: 1px solid white;\">2.000</td><td style=\"border: 1px solid white;\">Allison, Miss. Helen Loraine</td><td style=\"border: 1px solid white;\">C22 C26</td><td style=\"border: 1px solid white;\">2</td><td style=\"border: 1px solid white;\">0</td><td style=\"border: 1px solid white;\">None</td><td style=\"border: 1px solid white;\">113781</td><td style=\"border: 1px solid white;\">S</td><td style=\"border: 1px solid white;\">Montreal, PQ / Chesterville, ON</td><td style=\"border: 1px solid white;\">1</td></tr><tr style=\"{border: 1px solid white;}\"><td style=\"border-bottom: 1px solid #DDD;font-size:1.02em;background-color:#214579;color:white\"><b>1</b></td><td style=\"border: 1px solid white;\">151.55000</td><td style=\"border: 1px solid white;\">male</td><td style=\"border: 1px solid white;\">135</td><td style=\"border: 1px solid white;\">1</td><td style=\"border: 1px solid white;\">30.000</td><td style=\"border: 1px solid white;\">Allison, Mr. Hudson Joshua Creighton</td><td style=\"border: 1px solid white;\">C22 C26</td><td style=\"border: 1px solid white;\">2</td><td style=\"border: 1px solid white;\">0</td><td style=\"border: 1px solid white;\">None</td><td style=\"border: 1px solid white;\">113781</td><td style=\"border: 1px solid white;\">S</td><td style=\"border: 1px solid white;\">Montreal, PQ / Chesterville, ON</td><td style=\"border: 1px solid white;\">1</td></tr><tr style=\"{border: 1px solid white;}\"><td style=\"border-bottom: 1px solid #DDD;font-size:1.02em;background-color:#214579;color:white\"><b>2</b></td><td style=\"border: 1px solid white;\">151.55000</td><td style=\"border: 1px solid white;\">female</td><td style=\"border: 1px solid white;\">None</td><td style=\"border: 1px solid white;\">1</td><td style=\"border: 1px solid white;\">25.000</td><td style=\"border: 1px solid white;\">Allison, Mrs. Hudson J C (Bessie Waldo Daniels)</td><td style=\"border: 1px solid white;\">C22 C26</td><td style=\"border: 1px solid white;\">2</td><td style=\"border: 1px solid white;\">0</td><td style=\"border: 1px solid white;\">None</td><td style=\"border: 1px solid white;\">113781</td><td style=\"border: 1px solid white;\">S</td><td style=\"border: 1px solid white;\">Montreal, PQ / Chesterville, ON</td><td style=\"border: 1px solid white;\">1</td></tr><tr style=\"{border: 1px solid white;}\"><td style=\"border-bottom: 1px solid #DDD;font-size:1.02em;background-color:#214579;color:white\"><b>3</b></td><td style=\"border: 1px solid white;\">0.00000</td><td style=\"border: 1px solid white;\">male</td><td style=\"border: 1px solid white;\">None</td><td style=\"border: 1px solid white;\">1</td><td style=\"border: 1px solid white;\">39.000</td><td style=\"border: 1px solid white;\">Andrews, Mr. Thomas Jr</td><td style=\"border: 1px solid white;\">A36</td><td style=\"border: 1px solid white;\">0</td><td style=\"border: 1px solid white;\">0</td><td style=\"border: 1px solid white;\">None</td><td style=\"border: 1px solid white;\">112050</td><td style=\"border: 1px solid white;\">S</td><td style=\"border: 1px solid white;\">Belfast, NI</td><td style=\"border: 1px solid white;\">0</td></tr><tr style=\"{border: 1px solid white;}\"><td style=\"border-bottom: 1px solid #DDD;font-size:1.02em;background-color:#214579;color:white\"><b>4</b></td><td style=\"border: 1px solid white;\">49.50420</td><td style=\"border: 1px solid white;\">male</td><td style=\"border: 1px solid white;\">22</td><td style=\"border: 1px solid white;\">1</td><td style=\"border: 1px solid white;\">71.000</td><td style=\"border: 1px solid white;\">Artagaveytia, Mr. Ramon</td><td style=\"border: 1px solid white;\">None</td><td style=\"border: 1px solid white;\">0</td><td style=\"border: 1px solid white;\">0</td><td style=\"border: 1px solid white;\">None</td><td style=\"border: 1px solid white;\">PC 17609</td><td style=\"border: 1px solid white;\">C</td><td style=\"border: 1px solid white;\">Montevideo, Uruguay</td><td style=\"border: 1px solid white;\">0</td></tr><tr><td style=\"border-top: 1px solid white;background-color:#214579;color:white\"></td><td style=\"border: 1px solid white;\">...</td><td style=\"border: 1px solid white;\">...</td><td style=\"border: 1px solid white;\">...</td><td style=\"border: 1px solid white;\">...</td><td style=\"border: 1px solid white;\">...</td><td style=\"border: 1px solid white;\">...</td><td style=\"border: 1px solid white;\">...</td><td style=\"border: 1px solid white;\">...</td><td style=\"border: 1px solid white;\">...</td><td style=\"border: 1px solid white;\">...</td><td style=\"border: 1px solid white;\">...</td><td style=\"border: 1px solid white;\">...</td><td style=\"border: 1px solid white;\">...</td><td style=\"border: 1px solid white;\">...</td></tr></table>"
      ],
      "text/plain": [
       "<IPython.core.display.HTML object>"
      ]
     },
     "metadata": {},
     "output_type": "display_data"
    },
    {
     "data": {
      "text/plain": [
       "<object>  Name: titanic, Number of rows: 1234, Number of columns: 14"
      ]
     },
     "execution_count": 6,
     "metadata": {},
     "output_type": "execute_result"
    }
   ],
   "source": [
    "# Creating a vDataFrame using a DSN\n",
    "vDataFrame(input_relation = '\"public\".\"titanic\"', dsn = \"VerticaDSN\")"
   ]
  },
  {
   "cell_type": "code",
   "execution_count": 7,
   "metadata": {},
   "outputs": [
    {
     "data": {
      "text/html": [
       "<table style=\"border-collapse: collapse; border: 2px solid white\"><tr style=\"{border: 1px solid white;}\"><td style=\"border-bottom: 1px solid #DDD;font-size:1.02em;background-color:#214579;color:white\"><b></b></td><td style=\"font-size:1.02em;background-color:#214579;color:white\"><b>survived</b></td><td style=\"font-size:1.02em;background-color:#214579;color:white\"><b>boat</b></td><td style=\"font-size:1.02em;background-color:#214579;color:white\"><b>ticket</b></td><td style=\"font-size:1.02em;background-color:#214579;color:white\"><b>embarked</b></td><td style=\"font-size:1.02em;background-color:#214579;color:white\"><b>home.dest</b></td><td style=\"font-size:1.02em;background-color:#214579;color:white\"><b>sibsp</b></td><td style=\"font-size:1.02em;background-color:#214579;color:white\"><b>fare</b></td><td style=\"font-size:1.02em;background-color:#214579;color:white\"><b>sex</b></td><td style=\"font-size:1.02em;background-color:#214579;color:white\"><b>body</b></td><td style=\"font-size:1.02em;background-color:#214579;color:white\"><b>pclass</b></td><td style=\"font-size:1.02em;background-color:#214579;color:white\"><b>age</b></td><td style=\"font-size:1.02em;background-color:#214579;color:white\"><b>name</b></td><td style=\"font-size:1.02em;background-color:#214579;color:white\"><b>cabin</b></td><td style=\"font-size:1.02em;background-color:#214579;color:white\"><b>parch</b></td></tr><tr style=\"{border: 1px solid white;}\"><td style=\"border-bottom: 1px solid #DDD;font-size:1.02em;background-color:#214579;color:white\"><b>0</b></td><td style=\"border: 1px solid white;\">0</td><td style=\"border: 1px solid white;\">None</td><td style=\"border: 1px solid white;\">113781</td><td style=\"border: 1px solid white;\">S</td><td style=\"border: 1px solid white;\">Montreal, PQ / Chesterville, ON</td><td style=\"border: 1px solid white;\">1</td><td style=\"border: 1px solid white;\">151.55000</td><td style=\"border: 1px solid white;\">female</td><td style=\"border: 1px solid white;\">None</td><td style=\"border: 1px solid white;\">1</td><td style=\"border: 1px solid white;\">2.000</td><td style=\"border: 1px solid white;\">Allison, Miss. Helen Loraine</td><td style=\"border: 1px solid white;\">C22 C26</td><td style=\"border: 1px solid white;\">2</td></tr><tr style=\"{border: 1px solid white;}\"><td style=\"border-bottom: 1px solid #DDD;font-size:1.02em;background-color:#214579;color:white\"><b>1</b></td><td style=\"border: 1px solid white;\">0</td><td style=\"border: 1px solid white;\">None</td><td style=\"border: 1px solid white;\">113781</td><td style=\"border: 1px solid white;\">S</td><td style=\"border: 1px solid white;\">Montreal, PQ / Chesterville, ON</td><td style=\"border: 1px solid white;\">1</td><td style=\"border: 1px solid white;\">151.55000</td><td style=\"border: 1px solid white;\">male</td><td style=\"border: 1px solid white;\">135</td><td style=\"border: 1px solid white;\">1</td><td style=\"border: 1px solid white;\">30.000</td><td style=\"border: 1px solid white;\">Allison, Mr. Hudson Joshua Creighton</td><td style=\"border: 1px solid white;\">C22 C26</td><td style=\"border: 1px solid white;\">2</td></tr><tr style=\"{border: 1px solid white;}\"><td style=\"border-bottom: 1px solid #DDD;font-size:1.02em;background-color:#214579;color:white\"><b>2</b></td><td style=\"border: 1px solid white;\">0</td><td style=\"border: 1px solid white;\">None</td><td style=\"border: 1px solid white;\">113781</td><td style=\"border: 1px solid white;\">S</td><td style=\"border: 1px solid white;\">Montreal, PQ / Chesterville, ON</td><td style=\"border: 1px solid white;\">1</td><td style=\"border: 1px solid white;\">151.55000</td><td style=\"border: 1px solid white;\">female</td><td style=\"border: 1px solid white;\">None</td><td style=\"border: 1px solid white;\">1</td><td style=\"border: 1px solid white;\">25.000</td><td style=\"border: 1px solid white;\">Allison, Mrs. Hudson J C (Bessie Waldo Daniels)</td><td style=\"border: 1px solid white;\">C22 C26</td><td style=\"border: 1px solid white;\">2</td></tr><tr style=\"{border: 1px solid white;}\"><td style=\"border-bottom: 1px solid #DDD;font-size:1.02em;background-color:#214579;color:white\"><b>3</b></td><td style=\"border: 1px solid white;\">0</td><td style=\"border: 1px solid white;\">None</td><td style=\"border: 1px solid white;\">112050</td><td style=\"border: 1px solid white;\">S</td><td style=\"border: 1px solid white;\">Belfast, NI</td><td style=\"border: 1px solid white;\">0</td><td style=\"border: 1px solid white;\">0.00000</td><td style=\"border: 1px solid white;\">male</td><td style=\"border: 1px solid white;\">None</td><td style=\"border: 1px solid white;\">1</td><td style=\"border: 1px solid white;\">39.000</td><td style=\"border: 1px solid white;\">Andrews, Mr. Thomas Jr</td><td style=\"border: 1px solid white;\">A36</td><td style=\"border: 1px solid white;\">0</td></tr><tr style=\"{border: 1px solid white;}\"><td style=\"border-bottom: 1px solid #DDD;font-size:1.02em;background-color:#214579;color:white\"><b>4</b></td><td style=\"border: 1px solid white;\">0</td><td style=\"border: 1px solid white;\">None</td><td style=\"border: 1px solid white;\">PC 17609</td><td style=\"border: 1px solid white;\">C</td><td style=\"border: 1px solid white;\">Montevideo, Uruguay</td><td style=\"border: 1px solid white;\">0</td><td style=\"border: 1px solid white;\">49.50420</td><td style=\"border: 1px solid white;\">male</td><td style=\"border: 1px solid white;\">22</td><td style=\"border: 1px solid white;\">1</td><td style=\"border: 1px solid white;\">71.000</td><td style=\"border: 1px solid white;\">Artagaveytia, Mr. Ramon</td><td style=\"border: 1px solid white;\">None</td><td style=\"border: 1px solid white;\">0</td></tr><tr><td style=\"border-top: 1px solid white;background-color:#214579;color:white\"></td><td style=\"border: 1px solid white;\">...</td><td style=\"border: 1px solid white;\">...</td><td style=\"border: 1px solid white;\">...</td><td style=\"border: 1px solid white;\">...</td><td style=\"border: 1px solid white;\">...</td><td style=\"border: 1px solid white;\">...</td><td style=\"border: 1px solid white;\">...</td><td style=\"border: 1px solid white;\">...</td><td style=\"border: 1px solid white;\">...</td><td style=\"border: 1px solid white;\">...</td><td style=\"border: 1px solid white;\">...</td><td style=\"border: 1px solid white;\">...</td><td style=\"border: 1px solid white;\">...</td><td style=\"border: 1px solid white;\">...</td></tr></table>"
      ],
      "text/plain": [
       "<IPython.core.display.HTML object>"
      ]
     },
     "metadata": {},
     "output_type": "display_data"
    },
    {
     "data": {
      "text/plain": [
       "<object>  Name: titanic, Number of rows: 1234, Number of columns: 14"
      ]
     },
     "execution_count": 7,
     "metadata": {},
     "output_type": "execute_result"
    }
   ],
   "source": [
    "# Creating a vDataFrame using a cursor\n",
    "from vertica_ml_python.connections.connect import vertica_cursor\n",
    "cursor = vertica_cursor(\"VerticaDSN\")\n",
    "vDataFrame(input_relation = '\"public\".\"titanic\"', cursor = cursor)"
   ]
  }
 ],
 "metadata": {
  "kernelspec": {
   "display_name": "Python 3",
   "language": "python",
   "name": "python3"
  },
  "language_info": {
   "codemirror_mode": {
    "name": "ipython",
    "version": 3
   },
   "file_extension": ".py",
   "mimetype": "text/x-python",
   "name": "python",
   "nbconvert_exporter": "python",
   "pygments_lexer": "ipython3",
   "version": "3.6.3"
  }
 },
 "nbformat": 4,
 "nbformat_minor": 2
}
