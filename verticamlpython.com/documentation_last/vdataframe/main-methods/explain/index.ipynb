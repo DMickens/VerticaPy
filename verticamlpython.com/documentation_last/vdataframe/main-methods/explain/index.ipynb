{
 "cells": [
  {
   "cell_type": "markdown",
   "metadata": {},
   "source": [
    "# vDataFrame.explain"
   ]
  },
  {
   "cell_type": "code",
   "execution_count": null,
   "metadata": {},
   "outputs": [],
   "source": [
    "vDataFrame.explain(digraph: bool = False)"
   ]
  },
  {
   "cell_type": "markdown",
   "metadata": {},
   "source": [
    "Provides information on how Vertica is computing the current vDataFrame relation.\n",
    "\n",
    "### Parameters\n",
    "\n",
    "<table id=\"parameters\">\n",
    "    <tr> <th>Name</th> <th>Type</th> <th>Optional</th> <th>Description</th> </tr>\n",
    "    <tr> <td><div class=\"param_name\">digraph</div></td> <td><div class=\"type\">bool</div></td> <td><div class = \"yes\">&#10003;</div></td> <td>If set to True, returns only the digraph of the explain plan.</td> </tr>\n",
    "</table>"
   ]
  },
  {
   "cell_type": "markdown",
   "metadata": {},
   "source": [
    "### Returns\n",
    "\n",
    "<b>str</b> : Explain Plan. \n",
    "\n",
    "### Example"
   ]
  },
  {
   "cell_type": "code",
   "execution_count": 90,
   "metadata": {},
   "outputs": [
    {
     "data": {
      "text/html": [
       "<table style=\"border-collapse: collapse; border: 2px solid white\"><tr style=\"{border: 1px solid white;}\"><td style=\"border-bottom: 1px solid #DDD;font-size:1.02em;background-color:#263133;color:white\"><b></b></td><td style=\"font-size:1.02em;background-color:#263133;color:white\"><b>survived</b></td><td style=\"font-size:1.02em;background-color:#263133;color:white\"><b>boat</b></td><td style=\"font-size:1.02em;background-color:#263133;color:white\"><b>ticket</b></td><td style=\"font-size:1.02em;background-color:#263133;color:white\"><b>embarked</b></td><td style=\"font-size:1.02em;background-color:#263133;color:white\"><b>home.dest</b></td><td style=\"font-size:1.02em;background-color:#263133;color:white\"><b>sibsp</b></td><td style=\"font-size:1.02em;background-color:#263133;color:white\"><b>fare</b></td><td style=\"font-size:1.02em;background-color:#263133;color:white\"><b>sex</b></td><td style=\"font-size:1.02em;background-color:#263133;color:white\"><b>body</b></td><td style=\"font-size:1.02em;background-color:#263133;color:white\"><b>pclass</b></td><td style=\"font-size:1.02em;background-color:#263133;color:white\"><b>age</b></td><td style=\"font-size:1.02em;background-color:#263133;color:white\"><b>name</b></td><td style=\"font-size:1.02em;background-color:#263133;color:white\"><b>cabin</b></td><td style=\"font-size:1.02em;background-color:#263133;color:white\"><b>parch</b></td></tr><tr style=\"{border: 1px solid white;}\"><td style=\"border-bottom: 1px solid #DDD;font-size:1.02em;background-color:#263133;color:white\"><b>0</b></td><td style=\"border: 1px solid white;\">0</td><td style=\"border: 1px solid white;\">None</td><td style=\"border: 1px solid white;\">113781</td><td style=\"border: 1px solid white;\">S</td><td style=\"border: 1px solid white;\">Montreal, PQ / Chesterville, ON</td><td style=\"border: 1px solid white;\">1</td><td style=\"border: 1px solid white;\">151.55</td><td style=\"border: 1px solid white;\">female</td><td style=\"border: 1px solid white;\">None</td><td style=\"border: 1px solid white;\">1</td><td style=\"border: 1px solid white;\">2.0</td><td style=\"border: 1px solid white;\">Allison, Miss. Helen Loraine</td><td style=\"border: 1px solid white;\">C22 C26</td><td style=\"border: 1px solid white;\">2</td></tr><tr style=\"{border: 1px solid white;}\"><td style=\"border-bottom: 1px solid #DDD;font-size:1.02em;background-color:#263133;color:white\"><b>1</b></td><td style=\"border: 1px solid white;\">0</td><td style=\"border: 1px solid white;\">None</td><td style=\"border: 1px solid white;\">113781</td><td style=\"border: 1px solid white;\">S</td><td style=\"border: 1px solid white;\">Montreal, PQ / Chesterville, ON</td><td style=\"border: 1px solid white;\">1</td><td style=\"border: 1px solid white;\">151.55</td><td style=\"border: 1px solid white;\">male</td><td style=\"border: 1px solid white;\">135</td><td style=\"border: 1px solid white;\">1</td><td style=\"border: 1px solid white;\">30.0</td><td style=\"border: 1px solid white;\">Allison, Mr. Hudson Joshua Creighton</td><td style=\"border: 1px solid white;\">C22 C26</td><td style=\"border: 1px solid white;\">2</td></tr><tr style=\"{border: 1px solid white;}\"><td style=\"border-bottom: 1px solid #DDD;font-size:1.02em;background-color:#263133;color:white\"><b>2</b></td><td style=\"border: 1px solid white;\">0</td><td style=\"border: 1px solid white;\">None</td><td style=\"border: 1px solid white;\">113781</td><td style=\"border: 1px solid white;\">S</td><td style=\"border: 1px solid white;\">Montreal, PQ / Chesterville, ON</td><td style=\"border: 1px solid white;\">1</td><td style=\"border: 1px solid white;\">151.55</td><td style=\"border: 1px solid white;\">female</td><td style=\"border: 1px solid white;\">None</td><td style=\"border: 1px solid white;\">1</td><td style=\"border: 1px solid white;\">25.0</td><td style=\"border: 1px solid white;\">Allison, Mrs. Hudson J C (Bessie Waldo Daniels)</td><td style=\"border: 1px solid white;\">C22 C26</td><td style=\"border: 1px solid white;\">2</td></tr><tr style=\"{border: 1px solid white;}\"><td style=\"border-bottom: 1px solid #DDD;font-size:1.02em;background-color:#263133;color:white\"><b>3</b></td><td style=\"border: 1px solid white;\">0</td><td style=\"border: 1px solid white;\">None</td><td style=\"border: 1px solid white;\">112050</td><td style=\"border: 1px solid white;\">S</td><td style=\"border: 1px solid white;\">Belfast, NI</td><td style=\"border: 1px solid white;\">0</td><td style=\"border: 1px solid white;\">0.0</td><td style=\"border: 1px solid white;\">male</td><td style=\"border: 1px solid white;\">None</td><td style=\"border: 1px solid white;\">1</td><td style=\"border: 1px solid white;\">39.0</td><td style=\"border: 1px solid white;\">Andrews, Mr. Thomas Jr</td><td style=\"border: 1px solid white;\">A36</td><td style=\"border: 1px solid white;\">0</td></tr><tr style=\"{border: 1px solid white;}\"><td style=\"border-bottom: 1px solid #DDD;font-size:1.02em;background-color:#263133;color:white\"><b>4</b></td><td style=\"border: 1px solid white;\">0</td><td style=\"border: 1px solid white;\">None</td><td style=\"border: 1px solid white;\">PC 17609</td><td style=\"border: 1px solid white;\">C</td><td style=\"border: 1px solid white;\">Montevideo, Uruguay</td><td style=\"border: 1px solid white;\">0</td><td style=\"border: 1px solid white;\">49.5042</td><td style=\"border: 1px solid white;\">male</td><td style=\"border: 1px solid white;\">22</td><td style=\"border: 1px solid white;\">1</td><td style=\"border: 1px solid white;\">71.0</td><td style=\"border: 1px solid white;\">Artagaveytia, Mr. Ramon</td><td style=\"border: 1px solid white;\">None</td><td style=\"border: 1px solid white;\">0</td></tr><tr><td style=\"border-top: 1px solid white;background-color:#263133;color:white\"></td><td style=\"border: 1px solid white;\">...</td><td style=\"border: 1px solid white;\">...</td><td style=\"border: 1px solid white;\">...</td><td style=\"border: 1px solid white;\">...</td><td style=\"border: 1px solid white;\">...</td><td style=\"border: 1px solid white;\">...</td><td style=\"border: 1px solid white;\">...</td><td style=\"border: 1px solid white;\">...</td><td style=\"border: 1px solid white;\">...</td><td style=\"border: 1px solid white;\">...</td><td style=\"border: 1px solid white;\">...</td><td style=\"border: 1px solid white;\">...</td><td style=\"border: 1px solid white;\">...</td><td style=\"border: 1px solid white;\">...</td></tr></table>"
      ],
      "text/plain": [
       "<IPython.core.display.HTML object>"
      ]
     },
     "metadata": {},
     "output_type": "display_data"
    },
    {
     "name": "stdout",
     "output_type": "stream",
     "text": [
      "<object>  Name: titanic, Number of rows: 1234, Number of columns: 14\n"
     ]
    }
   ],
   "source": [
    "from vertica_ml_python.learn.datasets import load_titanic\n",
    "titanic = load_titanic()\n",
    "print(titanic)"
   ]
  },
  {
   "cell_type": "code",
   "execution_count": 91,
   "metadata": {
    "scrolled": false
   },
   "outputs": [
    {
     "name": "stdout",
     "output_type": "stream",
     "text": [
      "------------------------------ \n",
      "QUERY PLAN DESCRIPTION: \n",
      "\n",
      "EXPLAIN SELECT * FROM (SELECT \"survived\", COALESCE(\"boat\", '13') AS \"boat\", \"ticket\", COALESCE(\"embarked\", 'S') AS \"embarked\", COALESCE(\"home.dest\", 'New York, NY') AS \"home.dest\", \"sibsp\", COALESCE(\"fare\", 33.9637936739659) AS \"fare\", DECODE(\"sex\", 'female', 0, 'male', 1, 2) AS \"sex\", COALESCE(\"body\", 164.14406779661) AS \"body\", \"pclass\", COALESCE(\"age\", 30.1524573721163) AS \"age\", \"name\", COALESCE(\"cabin\", 'C23 C25 C27') AS \"cabin\", \"parch\", DECODE(\"embarked_C\", 'C', 1, 0) AS \"embarked_C\", DECODE(\"embarked_Q\", 'Q', 1, 0) AS \"embarked_Q\" FROM (SELECT \"survived\", \"boat\", \"ticket\", \"embarked\", \"home.dest\", \"sibsp\", \"fare\", \"sex\", \"body\", \"pclass\", \"age\", \"name\", \"cabin\", \"parch\", \"embarked\" AS \"embarked_C\", \"embarked\" AS \"embarked_Q\" FROM \"public\".\"titanic\") VERTICA_ML_PYTHON_SUBTABLE) VERTICA_ML_PYTHON_SUBTABLE\n",
      "\n",
      "Access Path:\n",
      "+-STORAGE ACCESS for titanic [Cost: 96, Rows: 1K (NO STATISTICS)] (PATH ID: 1)\n",
      "|  Projection: public.titanic_super\n",
      "|  Materialize: titanic.pclass, titanic.survived, titanic.name, titanic.sex, titanic.age, titanic.sibsp, titanic.parch, titanic.ticket, titanic.fare, titanic.cabin, titanic.embarked, titanic.boat, titanic.body, titanic.\"home.dest\"\n",
      "\n",
      "\n",
      "----------------------------------------------- \n",
      "PLAN: BASE QUERY PLAN (GraphViz Format)\n",
      "----------------------------------------------- \n",
      "digraph G {\n",
      "graph [rankdir=BT, label = \"BASE QUERY PLAN\n",
      "\tQuery: EXPLAIN SELECT * FROM (SELECT \\\"survived\\\", COALESCE(\\\"boat\\\", \\'13\\') AS \\\"boat\\\", \\\"ticket\\\", COALESCE(\\\"embarked\\\", \\'S\\') AS \\\"embarked\\\", COALESCE(\\\"home.dest\\\", \\'New York, NY\\') AS \\\"home.dest\\\", \\\"sibsp\\\", COALESCE(\\\"fare\\\", 33.9637936739659) AS \\\"fare\\\", DECODE(\\\"sex\\\", \\'female\\', 0, \\'male\\', 1, 2) AS \\\"sex\\\", COALESCE(\\\"body\\\", 164.14406779661) AS \\\"body\\\", \\\"pclass\\\", COALESCE(\\\"age\\\", 30.1524573721163) AS \\\"age\\\", \\\"name\\\", COALESCE(\\\"cabin\\\", \\'C23 C25 C27\\') AS \\\"cabin\\\", \\\"parch\\\", DECODE(\\\"embarked_C\\\", \\'C\\', 1, 0) AS \\\"embarked_C\\\", DECODE(\\\"embarked_Q\\\", \\'Q\\', 1, 0) AS \\\"embarked_Q\\\" FROM (SELECT \\\"survived\\\", \\\"boat\\\", \\\"ticket\\\", \\\"embarked\\\", \\\"home.dest\\\", \\\"sibsp\\\", \\\"fare\\\", \\\"sex\\\", \\\"body\\\", \\\"pclass\\\", \\\"age\\\", \\\"name\\\", \\\"cabin\\\", \\\"parch\\\", \\\"embarked\\\" AS \\\"embarked_C\\\", \\\"embarked\\\" AS \\\"embarked_Q\\\" FROM \\\"public\\\".\\\"titanic\\\") VERTICA_ML_PYTHON_SUBTABLE) VERTICA_ML_PYTHON_SUBTABLE\n",
      "\t\n",
      "\tAll Nodes Vector: \n",
      "\t\n",
      "\t  node[0]=v_testdb_node0001 (initiator) Up\n",
      "\t\", labelloc=t, labeljust=l ordering=out]\n",
      "0[label = \"Root \n",
      "\tOutBlk=[UncTuple(16)]\", color = \"green\", shape = \"house\"];\n",
      "1[label = \"NewEENode \n",
      "\tOutBlk=[UncTuple(16)]\", color = \"green\", shape = \"box\"];\n",
      "2[label = \"StorageUnionStep: titanic_super\n",
      "\tUnc: Integer(8)\n",
      "\tUnc: Varchar(100)\n",
      "\tUnc: Varchar(36)\n",
      "\tUnc: Varchar(20)\n",
      "\tUnc: Varchar(100)\n",
      "\tUnc: Integer(8)\n",
      "\tUnc: Numeric(18, 13)\n",
      "\tUnc: Integer(8)\n",
      "\tUnc: Numeric(29, 11)\n",
      "\tUnc: Integer(8)\n",
      "\tUnc: Numeric(16, 13)\n",
      "\tUnc: Varchar(164)\n",
      "\tUnc: Varchar(30)\n",
      "\tUnc: Integer(8)\n",
      "\tUnc: Integer(8)\n",
      "\tUnc: Integer(8)\", color = \"purple\", shape = \"box\"];\n",
      "3[label = \"ExprEval: \n",
      "\t  titanic.survived\n",
      "\t  coalesce(titanic.boat, \\'13\\')\n",
      "\t  titanic.ticket\n",
      "\t  coalesce(titanic.embarked, \\'S\\')\n",
      "\t  coalesce(titanic.\\\"home.dest\\\", \\'New York, NY\\')\n",
      "\t  titanic.sibsp\n",
      "\t  coalesce(titanic.fare, 33.9637936739659)\n",
      "\t  CASE titanic.sex WHEN NULLSEQUAL \\'female\\' THEN 0 WHEN NULLSEQUAL \\'male\\' THEN 1 ELSE 2 END\n",
      "\t  coalesce(titanic.body, 164.14406779661)\n",
      "\t  titanic.pclass\n",
      "\t  coalesce(titanic.age, 30.1524573721163)\n",
      "\t  titanic.name\n",
      "\t  coalesce(titanic.cabin, \\'C23 C25 C27\\')\n",
      "\t  titanic.parch\n",
      "\t  CASE titanic.embarked WHEN NULLSEQUAL \\'C\\' THEN 1 ELSE 0 END\n",
      "\t  CASE titanic.embarked WHEN NULLSEQUAL \\'Q\\' THEN 1 ELSE 0 END\n",
      "\tUnc: Integer(8)\n",
      "\tUnc: Varchar(100)\n",
      "\tUnc: Varchar(36)\n",
      "\tUnc: Varchar(20)\n",
      "\tUnc: Varchar(100)\n",
      "\tUnc: Integer(8)\n",
      "\tUnc: Numeric(18, 13)\n",
      "\tUnc: Integer(8)\n",
      "\tUnc: Numeric(29, 11)\n",
      "\tUnc: Integer(8)\n",
      "\tUnc: Numeric(16, 13)\n",
      "\tUnc: Varchar(164)\n",
      "\tUnc: Varchar(30)\n",
      "\tUnc: Integer(8)\n",
      "\tUnc: Integer(8)\n",
      "\tUnc: Integer(8)\", color = \"brown\", shape = \"box\"];\n",
      "4[label = \"ScanStep: titanic_super\n",
      "\tpclass\n",
      "\tsurvived\n",
      "\tname\n",
      "\tsex\n",
      "\tage\n",
      "\tsibsp\n",
      "\tparch\n",
      "\tticket\n",
      "\tfare\n",
      "\tcabin\n",
      "\tembarked\n",
      "\tboat\n",
      "\tbody\n",
      "\thome.dest\n",
      "\tUnc: Integer(8)\n",
      "\tUnc: Integer(8)\n",
      "\tUnc: Varchar(164)\n",
      "\tUnc: Varchar(20)\n",
      "\tUnc: Numeric(6, 3)\n",
      "\tUnc: Integer(8)\n",
      "\tUnc: Integer(8)\n",
      "\tUnc: Varchar(36)\n",
      "\tUnc: Numeric(10, 5)\n",
      "\tUnc: Varchar(30)\n",
      "\tUnc: Varchar(20)\n",
      "\tUnc: Varchar(100)\n",
      "\tUnc: Integer(8)\n",
      "\tUnc: Varchar(100)\", color = \"brown\", shape = \"box\"];\n",
      "1->0 [label = \"V[0] C=16\", color = \"black\", style=\"bold\", arrowtail=\"inv\"];\n",
      "2->1 [label = \"0\", color = \"blue\"];\n",
      "3->2 [label = \"0\", color = \"blue\"];\n",
      "4->3 [label = \"0\", color = \"blue\"];}\n"
     ]
    }
   ],
   "source": [
    "# Doing some operations\n",
    "titanic[\"sex\"].label_encode()\n",
    "titanic[\"embarked\"].get_dummies()\n",
    "titanic.fillna()\n",
    "# Explaining the vDataFrame current relation\n",
    "print(titanic.explain())"
   ]
  }
 ],
 "metadata": {
  "kernelspec": {
   "display_name": "Python 3",
   "language": "python",
   "name": "python3"
  },
  "language_info": {
   "codemirror_mode": {
    "name": "ipython",
    "version": 3
   },
   "file_extension": ".py",
   "mimetype": "text/x-python",
   "name": "python",
   "nbconvert_exporter": "python",
   "pygments_lexer": "ipython3",
   "version": "3.6.3"
  }
 },
 "nbformat": 4,
 "nbformat_minor": 2
}
