{
 "cells": [
  {
   "cell_type": "markdown",
   "metadata": {},
   "source": [
    "# vDataFrame.asfreq"
   ]
  },
  {
   "cell_type": "code",
   "execution_count": null,
   "metadata": {},
   "outputs": [],
   "source": [
    "vDataFrame.asfreq(ts: str,\n",
    "                  rule: str,\n",
    "                  method: dict,\n",
    "                  by: list = [])"
   ]
  },
  {
   "cell_type": "markdown",
   "metadata": {},
   "source": [
    "Computes a regular time interval vDataFrame by interpolating the missing values using different techniques."
   ]
  },
  {
   "cell_type": "markdown",
   "metadata": {},
   "source": [
    "### Parameters\n",
    "\n",
    "<table id=\"parameters\">\n",
    "    <tr> <th>Name</th> <th>Type</th> <th>Optional</th> <th>Description</th> </tr>\n",
    "    <tr> <td><div class=\"param_name\">ts</div></td> <td><div class=\"type\">str</div></td> <td><div class = \"no\">&#10060;</div></td> <td>TS (Time Series) vcolumn used to order the data. The vcolumn type must be date like (date, datetime, timestamp...)</td> </tr>\n",
    "    <tr> <td><div class=\"param_name\">rule</div></td> <td><div class=\"type\">str</div></td> <td><div class = \"no\">&#10060;</div></td> <td>Interval used to slice the time. For example, '5 minutes' will create records separated by '5 minutes' time interval.</td> </tr>\n",
    "    <tr> <td><div class=\"param_name\">method</div></td> <td><div class=\"type\">dict</div></td> <td><div class = \"no\">&#10060;</div></td> <td>Dictionary of all the different methods of interpolation. The dict must be similar to the following: {\"column1\": \"interpolation1\" ..., \"columnk\": \"interpolationk\"}. 3 types of interpolations are possible:<br>\n",
    "                                                    <ul>\n",
    "                                                        <li><b>bfill :</b> Constant propagation of the next value (Back Propagation).</li>\n",
    "                                                        <li><b>ffill :</b> Constant propagation of the first value (First Propagation).</li>\n",
    "                                                        <li><b>linear :</b> Linear Interpolation.</li></ul></td> </tr>\n",
    "    <tr> <td><div class=\"param_name\">by</div></td> <td><div class=\"type\">list</div></td> <td><div class = \"yes\">&#10003;</div></td> <td>vcolumns used in the partition.</td> </tr>\n",
    "</table>\n",
    "\n",
    "### Returns\n",
    "\n",
    "<b>vDataFrame</b> : object result of the interpolation.\n",
    "\n",
    "### Example"
   ]
  },
  {
   "cell_type": "code",
   "execution_count": 16,
   "metadata": {},
   "outputs": [
    {
     "data": {
      "text/html": [
       "<table style=\"border-collapse: collapse; border: 2px solid white\"><tr style=\"{border: 1px solid white;}\"><td style=\"border-bottom: 1px solid #DDD;font-size:1.02em;background-color:#263133;color:white\"><b></b></td><td style=\"font-size:1.02em;background-color:#263133;color:white\"><b>id</b></td><td style=\"font-size:1.02em;background-color:#263133;color:white\"><b>val</b></td><td style=\"font-size:1.02em;background-color:#263133;color:white\"><b>time</b></td></tr><tr style=\"{border: 1px solid white;}\"><td style=\"border-bottom: 1px solid #DDD;font-size:1.02em;background-color:#263133;color:white\"><b>0</b></td><td style=\"border: 1px solid white;\">2</td><td style=\"border: 1px solid white;\">0.0370000</td><td style=\"border: 1px solid white;\">2014-01-01 01:15:00</td></tr><tr style=\"{border: 1px solid white;}\"><td style=\"border-bottom: 1px solid #DDD;font-size:1.02em;background-color:#263133;color:white\"><b>1</b></td><td style=\"border: 1px solid white;\">5</td><td style=\"border: 1px solid white;\">0.0800000</td><td style=\"border: 1px solid white;\">2014-01-01 02:30:00</td></tr><tr style=\"{border: 1px solid white;}\"><td style=\"border-bottom: 1px solid #DDD;font-size:1.02em;background-color:#263133;color:white\"><b>2</b></td><td style=\"border: 1px solid white;\">1</td><td style=\"border: 1px solid white;\">0.0810000</td><td style=\"border: 1px solid white;\">2014-01-01 03:00:00</td></tr><tr style=\"{border: 1px solid white;}\"><td style=\"border-bottom: 1px solid #DDD;font-size:1.02em;background-color:#263133;color:white\"><b>3</b></td><td style=\"border: 1px solid white;\">3</td><td style=\"border: 1px solid white;\">1.4890000</td><td style=\"border: 1px solid white;\">2014-01-01 05:00:00</td></tr><tr style=\"{border: 1px solid white;}\"><td style=\"border-bottom: 1px solid #DDD;font-size:1.02em;background-color:#263133;color:white\"><b>4</b></td><td style=\"border: 1px solid white;\">5</td><td style=\"border: 1px solid white;\">0.0720000</td><td style=\"border: 1px solid white;\">2014-01-01 06:00:00</td></tr><tr><td style=\"border-top: 1px solid white;background-color:#263133;color:white\"></td><td style=\"border: 1px solid white;\">...</td><td style=\"border: 1px solid white;\">...</td><td style=\"border: 1px solid white;\">...</td></tr></table>"
      ],
      "text/plain": [
       "<IPython.core.display.HTML object>"
      ]
     },
     "metadata": {},
     "output_type": "display_data"
    },
    {
     "name": "stdout",
     "output_type": "stream",
     "text": [
      "<object>  Name: smart_meters, Number of rows: 11844, Number of columns: 3\n"
     ]
    }
   ],
   "source": [
    "from vertica_ml_python.learn.datasets import load_smart_meters\n",
    "sm = load_smart_meters()\n",
    "print(sm)"
   ]
  },
  {
   "cell_type": "code",
   "execution_count": 19,
   "metadata": {},
   "outputs": [
    {
     "data": {
      "text/html": [
       "<table style=\"border-collapse: collapse; border: 2px solid white\"><tr style=\"{border: 1px solid white;}\"><td style=\"border-bottom: 1px solid #DDD;font-size:1.02em;background-color:#263133;color:white\"><b></b></td><td style=\"font-size:1.02em;background-color:#263133;color:white\"><b>time</b></td><td style=\"font-size:1.02em;background-color:#263133;color:white\"><b>id</b></td><td style=\"font-size:1.02em;background-color:#263133;color:white\"><b>val</b></td></tr><tr style=\"{border: 1px solid white;}\"><td style=\"border-bottom: 1px solid #DDD;font-size:1.02em;background-color:#263133;color:white\"><b>0</b></td><td style=\"border: 1px solid white;\">2014-01-01 11:00:00</td><td style=\"border: 1px solid white;\">0</td><td style=\"border: 1px solid white;\">0.029</td></tr><tr style=\"{border: 1px solid white;}\"><td style=\"border-bottom: 1px solid #DDD;font-size:1.02em;background-color:#263133;color:white\"><b>1</b></td><td style=\"border: 1px solid white;\">2014-01-01 12:00:00</td><td style=\"border: 1px solid white;\">0</td><td style=\"border: 1px solid white;\">0.119181818181818</td></tr><tr style=\"{border: 1px solid white;}\"><td style=\"border-bottom: 1px solid #DDD;font-size:1.02em;background-color:#263133;color:white\"><b>2</b></td><td style=\"border: 1px solid white;\">2014-01-01 13:00:00</td><td style=\"border: 1px solid white;\">0</td><td style=\"border: 1px solid white;\">0.209363636363636</td></tr><tr style=\"{border: 1px solid white;}\"><td style=\"border-bottom: 1px solid #DDD;font-size:1.02em;background-color:#263133;color:white\"><b>3</b></td><td style=\"border: 1px solid white;\">2014-01-01 14:00:00</td><td style=\"border: 1px solid white;\">0</td><td style=\"border: 1px solid white;\">0.27752380952381</td></tr><tr style=\"{border: 1px solid white;}\"><td style=\"border-bottom: 1px solid #DDD;font-size:1.02em;background-color:#263133;color:white\"><b>4</b></td><td style=\"border: 1px solid white;\">2014-01-01 15:00:00</td><td style=\"border: 1px solid white;\">0</td><td style=\"border: 1px solid white;\">0.279619047619048</td></tr><tr style=\"{border: 1px solid white;}\"><td style=\"border-bottom: 1px solid #DDD;font-size:1.02em;background-color:#263133;color:white\"><b>5</b></td><td style=\"border: 1px solid white;\">2014-01-01 16:00:00</td><td style=\"border: 1px solid white;\">0</td><td style=\"border: 1px solid white;\">0.281714285714286</td></tr><tr style=\"{border: 1px solid white;}\"><td style=\"border-bottom: 1px solid #DDD;font-size:1.02em;background-color:#263133;color:white\"><b>6</b></td><td style=\"border: 1px solid white;\">2014-01-01 17:00:00</td><td style=\"border: 1px solid white;\">0</td><td style=\"border: 1px solid white;\">0.283809523809524</td></tr><tr style=\"{border: 1px solid white;}\"><td style=\"border-bottom: 1px solid #DDD;font-size:1.02em;background-color:#263133;color:white\"><b>7</b></td><td style=\"border: 1px solid white;\">2014-01-01 18:00:00</td><td style=\"border: 1px solid white;\">0</td><td style=\"border: 1px solid white;\">0.285904761904762</td></tr><tr style=\"{border: 1px solid white;}\"><td style=\"border-bottom: 1px solid #DDD;font-size:1.02em;background-color:#263133;color:white\"><b>8</b></td><td style=\"border: 1px solid white;\">2014-01-01 19:00:00</td><td style=\"border: 1px solid white;\">0</td><td style=\"border: 1px solid white;\">0.288</td></tr><tr style=\"{border: 1px solid white;}\"><td style=\"border-bottom: 1px solid #DDD;font-size:1.02em;background-color:#263133;color:white\"><b>9</b></td><td style=\"border: 1px solid white;\">2014-01-01 20:00:00</td><td style=\"border: 1px solid white;\">0</td><td style=\"border: 1px solid white;\">0.290095238095238</td></tr><tr style=\"{border: 1px solid white;}\"><td style=\"border-bottom: 1px solid #DDD;font-size:1.02em;background-color:#263133;color:white\"><b>10</b></td><td style=\"border: 1px solid white;\">2014-01-01 21:00:00</td><td style=\"border: 1px solid white;\">0</td><td style=\"border: 1px solid white;\">0.292190476190476</td></tr><tr style=\"{border: 1px solid white;}\"><td style=\"border-bottom: 1px solid #DDD;font-size:1.02em;background-color:#263133;color:white\"><b>11</b></td><td style=\"border: 1px solid white;\">2014-01-01 22:00:00</td><td style=\"border: 1px solid white;\">0</td><td style=\"border: 1px solid white;\">0.294285714285714</td></tr><tr style=\"{border: 1px solid white;}\"><td style=\"border-bottom: 1px solid #DDD;font-size:1.02em;background-color:#263133;color:white\"><b>12</b></td><td style=\"border: 1px solid white;\">2014-01-01 23:00:00</td><td style=\"border: 1px solid white;\">0</td><td style=\"border: 1px solid white;\">0.296380952380952</td></tr><tr style=\"{border: 1px solid white;}\"><td style=\"border-bottom: 1px solid #DDD;font-size:1.02em;background-color:#263133;color:white\"><b>13</b></td><td style=\"border: 1px solid white;\">2014-01-02 00:00:00</td><td style=\"border: 1px solid white;\">0</td><td style=\"border: 1px solid white;\">0.298476190476191</td></tr><tr style=\"{border: 1px solid white;}\"><td style=\"border-bottom: 1px solid #DDD;font-size:1.02em;background-color:#263133;color:white\"><b>14</b></td><td style=\"border: 1px solid white;\">2014-01-02 01:00:00</td><td style=\"border: 1px solid white;\">0</td><td style=\"border: 1px solid white;\">0.300571428571429</td></tr><tr style=\"{border: 1px solid white;}\"><td style=\"border-bottom: 1px solid #DDD;font-size:1.02em;background-color:#263133;color:white\"><b>15</b></td><td style=\"border: 1px solid white;\">2014-01-02 02:00:00</td><td style=\"border: 1px solid white;\">0</td><td style=\"border: 1px solid white;\">0.302666666666667</td></tr><tr style=\"{border: 1px solid white;}\"><td style=\"border-bottom: 1px solid #DDD;font-size:1.02em;background-color:#263133;color:white\"><b>16</b></td><td style=\"border: 1px solid white;\">2014-01-02 03:00:00</td><td style=\"border: 1px solid white;\">0</td><td style=\"border: 1px solid white;\">0.304761904761905</td></tr><tr style=\"{border: 1px solid white;}\"><td style=\"border-bottom: 1px solid #DDD;font-size:1.02em;background-color:#263133;color:white\"><b>17</b></td><td style=\"border: 1px solid white;\">2014-01-02 04:00:00</td><td style=\"border: 1px solid white;\">0</td><td style=\"border: 1px solid white;\">0.306857142857143</td></tr><tr style=\"{border: 1px solid white;}\"><td style=\"border-bottom: 1px solid #DDD;font-size:1.02em;background-color:#263133;color:white\"><b>18</b></td><td style=\"border: 1px solid white;\">2014-01-02 05:00:00</td><td style=\"border: 1px solid white;\">0</td><td style=\"border: 1px solid white;\">0.308952380952381</td></tr><tr style=\"{border: 1px solid white;}\"><td style=\"border-bottom: 1px solid #DDD;font-size:1.02em;background-color:#263133;color:white\"><b>19</b></td><td style=\"border: 1px solid white;\">2014-01-02 06:00:00</td><td style=\"border: 1px solid white;\">0</td><td style=\"border: 1px solid white;\">0.311047619047619</td></tr><tr><td style=\"border-top: 1px solid white;background-color:#263133;color:white\"></td><td style=\"border: 1px solid white;\">...</td><td style=\"border: 1px solid white;\">...</td><td style=\"border: 1px solid white;\">...</td></tr></table>"
      ],
      "text/plain": [
       "<IPython.core.display.HTML object>"
      ]
     },
     "metadata": {},
     "output_type": "display_data"
    },
    {
     "data": {
      "text/plain": [
       "<object>  Name: asfreq, Number of rows: 148189, Number of columns: 3"
      ]
     },
     "execution_count": 19,
     "metadata": {},
     "output_type": "execute_result"
    }
   ],
   "source": [
    "# Linear interpolation by hour of each smart meter value\n",
    "sm.asfreq(ts = \"time\",\n",
    "          rule = \"1 hour\",\n",
    "          method = {\"val\": \"linear\"},\n",
    "          by = [\"id\"]).head(20)"
   ]
  },
  {
   "cell_type": "markdown",
   "metadata": {},
   "source": [
    "### See Also\n",
    "\n",
    "<table id=\"seealso\">\n",
    "    <tr><td><a href=\"../../vcolumn-methods/fillna\">vDataFrame[].fillna</a></td> <td> Fills the vcolumn missing values.</td></tr>\n",
    "    <tr><td><a href=\"../../vcolumn-methods/slice\">vDataFrame[].slice</a></td> <td> Slices the vcolumn.</td></tr>\n",
    "</table>"
   ]
  }
 ],
 "metadata": {
  "kernelspec": {
   "display_name": "Python 3",
   "language": "python",
   "name": "python3"
  },
  "language_info": {
   "codemirror_mode": {
    "name": "ipython",
    "version": 3
   },
   "file_extension": ".py",
   "mimetype": "text/x-python",
   "name": "python",
   "nbconvert_exporter": "python",
   "pygments_lexer": "ipython3",
   "version": "3.6.3"
  }
 },
 "nbformat": 4,
 "nbformat_minor": 2
}
