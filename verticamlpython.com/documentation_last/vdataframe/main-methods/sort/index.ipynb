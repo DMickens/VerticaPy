{
 "cells": [
  {
   "cell_type": "markdown",
   "metadata": {},
   "source": [
    "# vDataFrame.sort"
   ]
  },
  {
   "cell_type": "code",
   "execution_count": null,
   "metadata": {},
   "outputs": [],
   "source": [
    "vDataFrame.sort(columns)"
   ]
  },
  {
   "cell_type": "markdown",
   "metadata": {},
   "source": [
    "Sorts the vDataFrame using the input vcolumns.\n",
    "\n",
    "### Parameters\n",
    "\n",
    "<table id=\"parameters\">\n",
    "    <tr> <th>Name</th> <th>Type</th> <th>Optional</th> <th>Description</th> </tr>\n",
    "    <tr> <td><div class=\"param_name\">columns</div></td> <td><div class=\"type\">list / dict</div></td> <td><div class = \"no\">&#10060;</div></td> <td>List of the vcolumns used to sort the data using asc order or dictionary of all the sorting methods. For example, to sort by \"column1\" ASC and column 2 DESC, write {\"column1\": \"asc\", \"column2\": \"desc\"}</td> </tr>\n",
    "</table>"
   ]
  },
  {
   "cell_type": "markdown",
   "metadata": {},
   "source": [
    "### Returns\n",
    "\n",
    "<b>vDataFrame</b> : self\n",
    "\n",
    "### Example"
   ]
  },
  {
   "cell_type": "code",
   "execution_count": 7,
   "metadata": {},
   "outputs": [
    {
     "data": {
      "text/html": [
       "<table style=\"border-collapse: collapse; border: 2px solid white\"><tr style=\"{border: 1px solid white;}\"><td style=\"border-bottom: 1px solid #DDD;font-size:1.02em;background-color:#214579;color:white\"><b></b></td><td style=\"font-size:1.02em;background-color:#214579;color:white\"><b>SepalLengthCm</b></td><td style=\"font-size:1.02em;background-color:#214579;color:white\"><b>Species</b></td><td style=\"font-size:1.02em;background-color:#214579;color:white\"><b>PetalWidthCm</b></td><td style=\"font-size:1.02em;background-color:#214579;color:white\"><b>PetalLengthCm</b></td><td style=\"font-size:1.02em;background-color:#214579;color:white\"><b>SepalWidthCm</b></td></tr><tr style=\"{border: 1px solid white;}\"><td style=\"border-bottom: 1px solid #DDD;font-size:1.02em;background-color:#214579;color:white\"><b>0</b></td><td style=\"border: 1px solid white;\">4.30</td><td style=\"border: 1px solid white;\">Iris-setosa</td><td style=\"border: 1px solid white;\">0.10</td><td style=\"border: 1px solid white;\">1.10</td><td style=\"border: 1px solid white;\">3.00</td></tr><tr style=\"{border: 1px solid white;}\"><td style=\"border-bottom: 1px solid #DDD;font-size:1.02em;background-color:#214579;color:white\"><b>1</b></td><td style=\"border: 1px solid white;\">4.40</td><td style=\"border: 1px solid white;\">Iris-setosa</td><td style=\"border: 1px solid white;\">0.20</td><td style=\"border: 1px solid white;\">1.40</td><td style=\"border: 1px solid white;\">2.90</td></tr><tr style=\"{border: 1px solid white;}\"><td style=\"border-bottom: 1px solid #DDD;font-size:1.02em;background-color:#214579;color:white\"><b>2</b></td><td style=\"border: 1px solid white;\">4.40</td><td style=\"border: 1px solid white;\">Iris-setosa</td><td style=\"border: 1px solid white;\">0.20</td><td style=\"border: 1px solid white;\">1.30</td><td style=\"border: 1px solid white;\">3.00</td></tr><tr style=\"{border: 1px solid white;}\"><td style=\"border-bottom: 1px solid #DDD;font-size:1.02em;background-color:#214579;color:white\"><b>3</b></td><td style=\"border: 1px solid white;\">4.40</td><td style=\"border: 1px solid white;\">Iris-setosa</td><td style=\"border: 1px solid white;\">0.20</td><td style=\"border: 1px solid white;\">1.30</td><td style=\"border: 1px solid white;\">3.20</td></tr><tr style=\"{border: 1px solid white;}\"><td style=\"border-bottom: 1px solid #DDD;font-size:1.02em;background-color:#214579;color:white\"><b>4</b></td><td style=\"border: 1px solid white;\">4.50</td><td style=\"border: 1px solid white;\">Iris-setosa</td><td style=\"border: 1px solid white;\">0.30</td><td style=\"border: 1px solid white;\">1.30</td><td style=\"border: 1px solid white;\">2.30</td></tr><tr><td style=\"border-top: 1px solid white;background-color:#214579;color:white\"></td><td style=\"border: 1px solid white;\">...</td><td style=\"border: 1px solid white;\">...</td><td style=\"border: 1px solid white;\">...</td><td style=\"border: 1px solid white;\">...</td><td style=\"border: 1px solid white;\">...</td></tr></table>"
      ],
      "text/plain": [
       "<IPython.core.display.HTML object>"
      ]
     },
     "metadata": {},
     "output_type": "display_data"
    },
    {
     "name": "stdout",
     "output_type": "stream",
     "text": [
      "<object>  Name: iris, Number of rows: 150, Number of columns: 5\n"
     ]
    }
   ],
   "source": [
    "from vertica_ml_python.learn.datasets import load_iris\n",
    "iris = load_iris()\n",
    "print(iris)"
   ]
  },
  {
   "cell_type": "code",
   "execution_count": 8,
   "metadata": {},
   "outputs": [
    {
     "data": {
      "text/html": [
       "<table style=\"border-collapse: collapse; border: 2px solid white\"><tr style=\"{border: 1px solid white;}\"><td style=\"border-bottom: 1px solid #DDD;font-size:1.02em;background-color:#214579;color:white\"><b></b></td><td style=\"font-size:1.02em;background-color:#214579;color:white\"><b>SepalLengthCm</b></td><td style=\"font-size:1.02em;background-color:#214579;color:white\"><b>Species</b></td><td style=\"font-size:1.02em;background-color:#214579;color:white\"><b>PetalWidthCm</b></td><td style=\"font-size:1.02em;background-color:#214579;color:white\"><b>PetalLengthCm</b></td><td style=\"font-size:1.02em;background-color:#214579;color:white\"><b>SepalWidthCm</b></td></tr><tr style=\"{border: 1px solid white;}\"><td style=\"border-bottom: 1px solid #DDD;font-size:1.02em;background-color:#214579;color:white\"><b>0</b></td><td style=\"border: 1px solid white;\">4.60</td><td style=\"border: 1px solid white;\">Iris-setosa</td><td style=\"border: 1px solid white;\">0.20</td><td style=\"border: 1px solid white;\">1.00</td><td style=\"border: 1px solid white;\">3.60</td></tr><tr style=\"{border: 1px solid white;}\"><td style=\"border-bottom: 1px solid #DDD;font-size:1.02em;background-color:#214579;color:white\"><b>1</b></td><td style=\"border: 1px solid white;\">4.30</td><td style=\"border: 1px solid white;\">Iris-setosa</td><td style=\"border: 1px solid white;\">0.10</td><td style=\"border: 1px solid white;\">1.10</td><td style=\"border: 1px solid white;\">3.00</td></tr><tr style=\"{border: 1px solid white;}\"><td style=\"border-bottom: 1px solid #DDD;font-size:1.02em;background-color:#214579;color:white\"><b>2</b></td><td style=\"border: 1px solid white;\">5.80</td><td style=\"border: 1px solid white;\">Iris-setosa</td><td style=\"border: 1px solid white;\">0.20</td><td style=\"border: 1px solid white;\">1.20</td><td style=\"border: 1px solid white;\">4.00</td></tr><tr style=\"{border: 1px solid white;}\"><td style=\"border-bottom: 1px solid #DDD;font-size:1.02em;background-color:#214579;color:white\"><b>3</b></td><td style=\"border: 1px solid white;\">5.00</td><td style=\"border: 1px solid white;\">Iris-setosa</td><td style=\"border: 1px solid white;\">0.20</td><td style=\"border: 1px solid white;\">1.20</td><td style=\"border: 1px solid white;\">3.20</td></tr><tr style=\"{border: 1px solid white;}\"><td style=\"border-bottom: 1px solid #DDD;font-size:1.02em;background-color:#214579;color:white\"><b>4</b></td><td style=\"border: 1px solid white;\">4.40</td><td style=\"border: 1px solid white;\">Iris-setosa</td><td style=\"border: 1px solid white;\">0.20</td><td style=\"border: 1px solid white;\">1.30</td><td style=\"border: 1px solid white;\">3.00</td></tr><tr><td style=\"border-top: 1px solid white;background-color:#214579;color:white\"></td><td style=\"border: 1px solid white;\">...</td><td style=\"border: 1px solid white;\">...</td><td style=\"border: 1px solid white;\">...</td><td style=\"border: 1px solid white;\">...</td><td style=\"border: 1px solid white;\">...</td></tr></table>"
      ],
      "text/plain": [
       "<IPython.core.display.HTML object>"
      ]
     },
     "metadata": {},
     "output_type": "display_data"
    },
    {
     "data": {
      "text/plain": [
       "<object>  Name: iris, Number of rows: 150, Number of columns: 5"
      ]
     },
     "execution_count": 8,
     "metadata": {},
     "output_type": "execute_result"
    }
   ],
   "source": [
    "# asc\n",
    "iris.sort({\"PetalLengthCm\": \"asc\"})"
   ]
  },
  {
   "cell_type": "code",
   "execution_count": 9,
   "metadata": {},
   "outputs": [
    {
     "data": {
      "text/html": [
       "<table style=\"border-collapse: collapse; border: 2px solid white\"><tr style=\"{border: 1px solid white;}\"><td style=\"border-bottom: 1px solid #DDD;font-size:1.02em;background-color:#214579;color:white\"><b></b></td><td style=\"font-size:1.02em;background-color:#214579;color:white\"><b>SepalLengthCm</b></td><td style=\"font-size:1.02em;background-color:#214579;color:white\"><b>Species</b></td><td style=\"font-size:1.02em;background-color:#214579;color:white\"><b>PetalWidthCm</b></td><td style=\"font-size:1.02em;background-color:#214579;color:white\"><b>PetalLengthCm</b></td><td style=\"font-size:1.02em;background-color:#214579;color:white\"><b>SepalWidthCm</b></td></tr><tr style=\"{border: 1px solid white;}\"><td style=\"border-bottom: 1px solid #DDD;font-size:1.02em;background-color:#214579;color:white\"><b>0</b></td><td style=\"border: 1px solid white;\">4.60</td><td style=\"border: 1px solid white;\">Iris-setosa</td><td style=\"border: 1px solid white;\">0.20</td><td style=\"border: 1px solid white;\">1.00</td><td style=\"border: 1px solid white;\">3.60</td></tr><tr style=\"{border: 1px solid white;}\"><td style=\"border-bottom: 1px solid #DDD;font-size:1.02em;background-color:#214579;color:white\"><b>1</b></td><td style=\"border: 1px solid white;\">4.30</td><td style=\"border: 1px solid white;\">Iris-setosa</td><td style=\"border: 1px solid white;\">0.10</td><td style=\"border: 1px solid white;\">1.10</td><td style=\"border: 1px solid white;\">3.00</td></tr><tr style=\"{border: 1px solid white;}\"><td style=\"border-bottom: 1px solid #DDD;font-size:1.02em;background-color:#214579;color:white\"><b>2</b></td><td style=\"border: 1px solid white;\">5.80</td><td style=\"border: 1px solid white;\">Iris-setosa</td><td style=\"border: 1px solid white;\">0.20</td><td style=\"border: 1px solid white;\">1.20</td><td style=\"border: 1px solid white;\">4.00</td></tr><tr style=\"{border: 1px solid white;}\"><td style=\"border-bottom: 1px solid #DDD;font-size:1.02em;background-color:#214579;color:white\"><b>3</b></td><td style=\"border: 1px solid white;\">5.00</td><td style=\"border: 1px solid white;\">Iris-setosa</td><td style=\"border: 1px solid white;\">0.20</td><td style=\"border: 1px solid white;\">1.20</td><td style=\"border: 1px solid white;\">3.20</td></tr><tr style=\"{border: 1px solid white;}\"><td style=\"border-bottom: 1px solid #DDD;font-size:1.02em;background-color:#214579;color:white\"><b>4</b></td><td style=\"border: 1px solid white;\">4.40</td><td style=\"border: 1px solid white;\">Iris-setosa</td><td style=\"border: 1px solid white;\">0.20</td><td style=\"border: 1px solid white;\">1.30</td><td style=\"border: 1px solid white;\">3.00</td></tr><tr><td style=\"border-top: 1px solid white;background-color:#214579;color:white\"></td><td style=\"border: 1px solid white;\">...</td><td style=\"border: 1px solid white;\">...</td><td style=\"border: 1px solid white;\">...</td><td style=\"border: 1px solid white;\">...</td><td style=\"border: 1px solid white;\">...</td></tr></table>"
      ],
      "text/plain": [
       "<IPython.core.display.HTML object>"
      ]
     },
     "metadata": {},
     "output_type": "display_data"
    },
    {
     "data": {
      "text/plain": [
       "<object>  Name: iris, Number of rows: 150, Number of columns: 5"
      ]
     },
     "execution_count": 9,
     "metadata": {},
     "output_type": "execute_result"
    }
   ],
   "source": [
    "# asc\n",
    "iris.sort([\"PetalLengthCm\", \"PetalLengthCm\"])"
   ]
  },
  {
   "cell_type": "code",
   "execution_count": 4,
   "metadata": {},
   "outputs": [
    {
     "data": {
      "text/html": [
       "<table style=\"border-collapse: collapse; border: 2px solid white\"><tr style=\"{border: 1px solid white;}\"><td style=\"border-bottom: 1px solid #DDD;font-size:1.02em;background-color:#214579;color:white\"><b></b></td><td style=\"font-size:1.02em;background-color:#214579;color:white\"><b>SepalLengthCm</b></td><td style=\"font-size:1.02em;background-color:#214579;color:white\"><b>Species</b></td><td style=\"font-size:1.02em;background-color:#214579;color:white\"><b>PetalWidthCm</b></td><td style=\"font-size:1.02em;background-color:#214579;color:white\"><b>PetalLengthCm</b></td><td style=\"font-size:1.02em;background-color:#214579;color:white\"><b>SepalWidthCm</b></td></tr><tr style=\"{border: 1px solid white;}\"><td style=\"border-bottom: 1px solid #DDD;font-size:1.02em;background-color:#214579;color:white\"><b>0</b></td><td style=\"border: 1px solid white;\">7.70</td><td style=\"border: 1px solid white;\">Iris-virginica</td><td style=\"border: 1px solid white;\">2.30</td><td style=\"border: 1px solid white;\">6.90</td><td style=\"border: 1px solid white;\">2.60</td></tr><tr style=\"{border: 1px solid white;}\"><td style=\"border-bottom: 1px solid #DDD;font-size:1.02em;background-color:#214579;color:white\"><b>1</b></td><td style=\"border: 1px solid white;\">7.70</td><td style=\"border: 1px solid white;\">Iris-virginica</td><td style=\"border: 1px solid white;\">2.20</td><td style=\"border: 1px solid white;\">6.70</td><td style=\"border: 1px solid white;\">3.80</td></tr><tr style=\"{border: 1px solid white;}\"><td style=\"border-bottom: 1px solid #DDD;font-size:1.02em;background-color:#214579;color:white\"><b>2</b></td><td style=\"border: 1px solid white;\">7.70</td><td style=\"border: 1px solid white;\">Iris-virginica</td><td style=\"border: 1px solid white;\">2.00</td><td style=\"border: 1px solid white;\">6.70</td><td style=\"border: 1px solid white;\">2.80</td></tr><tr style=\"{border: 1px solid white;}\"><td style=\"border-bottom: 1px solid #DDD;font-size:1.02em;background-color:#214579;color:white\"><b>3</b></td><td style=\"border: 1px solid white;\">7.60</td><td style=\"border: 1px solid white;\">Iris-virginica</td><td style=\"border: 1px solid white;\">2.10</td><td style=\"border: 1px solid white;\">6.60</td><td style=\"border: 1px solid white;\">3.00</td></tr><tr style=\"{border: 1px solid white;}\"><td style=\"border-bottom: 1px solid #DDD;font-size:1.02em;background-color:#214579;color:white\"><b>4</b></td><td style=\"border: 1px solid white;\">7.90</td><td style=\"border: 1px solid white;\">Iris-virginica</td><td style=\"border: 1px solid white;\">2.00</td><td style=\"border: 1px solid white;\">6.40</td><td style=\"border: 1px solid white;\">3.80</td></tr><tr><td style=\"border-top: 1px solid white;background-color:#214579;color:white\"></td><td style=\"border: 1px solid white;\">...</td><td style=\"border: 1px solid white;\">...</td><td style=\"border: 1px solid white;\">...</td><td style=\"border: 1px solid white;\">...</td><td style=\"border: 1px solid white;\">...</td></tr></table>"
      ],
      "text/plain": [
       "<IPython.core.display.HTML object>"
      ]
     },
     "metadata": {},
     "output_type": "display_data"
    },
    {
     "data": {
      "text/plain": [
       "<object>  Name: iris, Number of rows: 150, Number of columns: 5"
      ]
     },
     "execution_count": 4,
     "metadata": {},
     "output_type": "execute_result"
    }
   ],
   "source": [
    "# desc\n",
    "iris.sort(columns = {\"PetalLengthCm\": \"desc\"})"
   ]
  },
  {
   "cell_type": "code",
   "execution_count": 5,
   "metadata": {},
   "outputs": [
    {
     "data": {
      "text/html": [
       "<table style=\"border-collapse: collapse; border: 2px solid white\"><tr style=\"{border: 1px solid white;}\"><td style=\"border-bottom: 1px solid #DDD;font-size:1.02em;background-color:#214579;color:white\"><b></b></td><td style=\"font-size:1.02em;background-color:#214579;color:white\"><b>SepalLengthCm</b></td><td style=\"font-size:1.02em;background-color:#214579;color:white\"><b>Species</b></td><td style=\"font-size:1.02em;background-color:#214579;color:white\"><b>PetalWidthCm</b></td><td style=\"font-size:1.02em;background-color:#214579;color:white\"><b>PetalLengthCm</b></td><td style=\"font-size:1.02em;background-color:#214579;color:white\"><b>SepalWidthCm</b></td></tr><tr style=\"{border: 1px solid white;}\"><td style=\"border-bottom: 1px solid #DDD;font-size:1.02em;background-color:#214579;color:white\"><b>0</b></td><td style=\"border: 1px solid white;\">7.70</td><td style=\"border: 1px solid white;\">Iris-virginica</td><td style=\"border: 1px solid white;\">2.30</td><td style=\"border: 1px solid white;\">6.90</td><td style=\"border: 1px solid white;\">2.60</td></tr><tr style=\"{border: 1px solid white;}\"><td style=\"border-bottom: 1px solid #DDD;font-size:1.02em;background-color:#214579;color:white\"><b>1</b></td><td style=\"border: 1px solid white;\">7.70</td><td style=\"border: 1px solid white;\">Iris-virginica</td><td style=\"border: 1px solid white;\">2.00</td><td style=\"border: 1px solid white;\">6.70</td><td style=\"border: 1px solid white;\">2.80</td></tr><tr style=\"{border: 1px solid white;}\"><td style=\"border-bottom: 1px solid #DDD;font-size:1.02em;background-color:#214579;color:white\"><b>2</b></td><td style=\"border: 1px solid white;\">7.70</td><td style=\"border: 1px solid white;\">Iris-virginica</td><td style=\"border: 1px solid white;\">2.20</td><td style=\"border: 1px solid white;\">6.70</td><td style=\"border: 1px solid white;\">3.80</td></tr><tr style=\"{border: 1px solid white;}\"><td style=\"border-bottom: 1px solid #DDD;font-size:1.02em;background-color:#214579;color:white\"><b>3</b></td><td style=\"border: 1px solid white;\">7.60</td><td style=\"border: 1px solid white;\">Iris-virginica</td><td style=\"border: 1px solid white;\">2.10</td><td style=\"border: 1px solid white;\">6.60</td><td style=\"border: 1px solid white;\">3.00</td></tr><tr style=\"{border: 1px solid white;}\"><td style=\"border-bottom: 1px solid #DDD;font-size:1.02em;background-color:#214579;color:white\"><b>4</b></td><td style=\"border: 1px solid white;\">7.90</td><td style=\"border: 1px solid white;\">Iris-virginica</td><td style=\"border: 1px solid white;\">2.00</td><td style=\"border: 1px solid white;\">6.40</td><td style=\"border: 1px solid white;\">3.80</td></tr><tr><td style=\"border-top: 1px solid white;background-color:#214579;color:white\"></td><td style=\"border: 1px solid white;\">...</td><td style=\"border: 1px solid white;\">...</td><td style=\"border: 1px solid white;\">...</td><td style=\"border: 1px solid white;\">...</td><td style=\"border: 1px solid white;\">...</td></tr></table>"
      ],
      "text/plain": [
       "<IPython.core.display.HTML object>"
      ]
     },
     "metadata": {},
     "output_type": "display_data"
    },
    {
     "data": {
      "text/plain": [
       "<object>  Name: iris, Number of rows: 150, Number of columns: 5"
      ]
     },
     "execution_count": 5,
     "metadata": {},
     "output_type": "execute_result"
    }
   ],
   "source": [
    "# combination\n",
    "iris.sort(columns = {\"PetalLengthCm\": \"desc\", \n",
    "                     \"SepalWidthCm\": \"asc\"})"
   ]
  },
  {
   "cell_type": "markdown",
   "metadata": {},
   "source": [
    "### See Also\n",
    "\n",
    "<table id=\"seealso\">\n",
    "    <tr><td><a href=\"../append\">vDataFrame.append</a></td> <td>Merges the vDataFrame with another relation.</td></tr>\n",
    "    <tr><td><a href=\"../groupby\">vDataFrame.groupby</a></td> <td>Aggregates the vDataFrame.</td></tr>\n",
    "    <tr><td><a href=\"../join\">vDataFrame.join</a></td> <td>Joins the vDataFrame with another relation.</td></tr>\n",
    "</table>"
   ]
  }
 ],
 "metadata": {
  "kernelspec": {
   "display_name": "Python 3",
   "language": "python",
   "name": "python3"
  },
  "language_info": {
   "codemirror_mode": {
    "name": "ipython",
    "version": 3
   },
   "file_extension": ".py",
   "mimetype": "text/x-python",
   "name": "python",
   "nbconvert_exporter": "python",
   "pygments_lexer": "ipython3",
   "version": "3.6.3"
  }
 },
 "nbformat": 4,
 "nbformat_minor": 2
}
