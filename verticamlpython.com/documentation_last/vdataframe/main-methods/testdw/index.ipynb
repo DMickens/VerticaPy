{
 "cells": [
  {
   "cell_type": "markdown",
   "metadata": {},
   "source": [
    "# vDataFrame.testdw"
   ]
  },
  {
   "cell_type": "code",
   "execution_count": null,
   "metadata": {},
   "outputs": [],
   "source": [
    "vDataFrame.testdw(ts: str,\n",
    "                  response: str, \n",
    "                  predictors: list, \n",
    "                  by: list = [],\n",
    "                  print_info: bool = True)"
   ]
  },
  {
   "cell_type": "markdown",
   "metadata": {},
   "source": [
    "Durbin-Watson test (residuals autocorrelation)."
   ]
  },
  {
   "cell_type": "markdown",
   "metadata": {},
   "source": [
    "<table id=\"parameters\">\n",
    "    <tr> <th>Name</th> <th>Type</th> <th>Optional</th> <th>Description</th> </tr>\n",
    "    <tr> <td><div class=\"param_name\">ts</div></td> <td><div class=\"type\">str</div></td> <td><div class = \"no\">&#10060;</div></td> <td>vcolumn used as timeline. It will be used to order the data. It can be a numerical or type date like (date, datetime, timestamp...) vcolumn.</td> </tr>\n",
    "    <tr> <td><div class=\"param_name\">response</div></td> <td><div class=\"type\">str</div></td> <td><div class = \"no\">&#10060;</div></td> <td>Input vcolumn used as response.</td> </tr>\n",
    "    <tr> <td><div class=\"param_name\">predictors</div></td> <td><div class=\"type\">list</div></td> <td><div class = \"no\">&#10060;</div></td> <td>Input vcolumns used as predictors.</td> </tr>\n",
    "    <tr> <td><div class=\"param_name\">by</div></td> <td><div class=\"type\">list</div></td> <td><div class = \"yes\">&#10003;</div></td> <td>vcolumns used in the partition.</td> </tr>\n",
    "    <tr> <td><div class=\"param_name\">print_info</div></td> <td><div class=\"type\">bool</div></td> <td><div class = \"yes\">&#10003;</div></td> <td>If set to True, displays all the test information.</td> </tr>\n",
    "</table>"
   ]
  },
  {
   "cell_type": "markdown",
   "metadata": {},
   "source": [
    "### Returns\n",
    "\n",
    "<b>tuple</b> : <br> [0] result of the test : True if H0 was rejected, <br>\n",
    "               [1] d : Durbin Watson index (a float between 0 and 4)\n",
    "\n",
    "### Example"
   ]
  },
  {
   "cell_type": "code",
   "execution_count": 66,
   "metadata": {},
   "outputs": [
    {
     "data": {
      "text/html": [
       "<table style=\"border-collapse: collapse; border: 2px solid white\"><tr style=\"{border: 1px solid white;}\"><td style=\"border-bottom: 1px solid #DDD;font-size:1.02em;background-color:#214579;color:white\"><b></b></td><td style=\"font-size:1.02em;background-color:#214579;color:white\"><b>date</b></td><td style=\"font-size:1.02em;background-color:#214579;color:white\"><b>number</b></td><td style=\"font-size:1.02em;background-color:#214579;color:white\"><b>state</b></td><td style=\"font-size:1.02em;background-color:#214579;color:white\"><b>lag_number</b></td></tr><tr style=\"{border: 1px solid white;}\"><td style=\"border-bottom: 1px solid #DDD;font-size:1.02em;background-color:#214579;color:white\"><b>0</b></td><td style=\"border: 1px solid white;\">1998-01-01</td><td style=\"border: 1px solid white;\">0</td><td style=\"border: 1px solid white;\">Acre</td><td style=\"border: 1px solid white;\">None</td></tr><tr style=\"{border: 1px solid white;}\"><td style=\"border-bottom: 1px solid #DDD;font-size:1.02em;background-color:#214579;color:white\"><b>1</b></td><td style=\"border: 1px solid white;\">1998-02-01</td><td style=\"border: 1px solid white;\">0</td><td style=\"border: 1px solid white;\">Acre</td><td style=\"border: 1px solid white;\">0</td></tr><tr style=\"{border: 1px solid white;}\"><td style=\"border-bottom: 1px solid #DDD;font-size:1.02em;background-color:#214579;color:white\"><b>2</b></td><td style=\"border: 1px solid white;\">1998-03-01</td><td style=\"border: 1px solid white;\">0</td><td style=\"border: 1px solid white;\">Acre</td><td style=\"border: 1px solid white;\">0</td></tr><tr style=\"{border: 1px solid white;}\"><td style=\"border-bottom: 1px solid #DDD;font-size:1.02em;background-color:#214579;color:white\"><b>3</b></td><td style=\"border: 1px solid white;\">1998-04-01</td><td style=\"border: 1px solid white;\">0</td><td style=\"border: 1px solid white;\">Acre</td><td style=\"border: 1px solid white;\">0</td></tr><tr style=\"{border: 1px solid white;}\"><td style=\"border-bottom: 1px solid #DDD;font-size:1.02em;background-color:#214579;color:white\"><b>4</b></td><td style=\"border: 1px solid white;\">1998-05-01</td><td style=\"border: 1px solid white;\">0</td><td style=\"border: 1px solid white;\">Acre</td><td style=\"border: 1px solid white;\">0</td></tr><tr><td style=\"border-top: 1px solid white;background-color:#214579;color:white\"></td><td style=\"border: 1px solid white;\">...</td><td style=\"border: 1px solid white;\">...</td><td style=\"border: 1px solid white;\">...</td><td style=\"border: 1px solid white;\">...</td></tr></table>"
      ],
      "text/plain": [
       "<IPython.core.display.HTML object>"
      ]
     },
     "metadata": {},
     "output_type": "display_data"
    },
    {
     "data": {
      "text/plain": [
       "<object>  Name: amazon, Number of rows: 6454, Number of columns: 4"
      ]
     },
     "execution_count": 66,
     "metadata": {},
     "output_type": "execute_result"
    }
   ],
   "source": [
    "# Let's look at the trend of the end of 2000 for the number of forest fires in Brazil\n",
    "from vertica_ml_python.learn.datasets import load_amazon\n",
    "amazon = load_amazon()\n",
    "amazon.analytic(func = \"lag\",\n",
    "                column = \"number\",\n",
    "                by = [\"state\"],\n",
    "                order_by = [\"date\"],\n",
    "                offset = 1,\n",
    "                name = \"lag_number\")"
   ]
  },
  {
   "cell_type": "code",
   "execution_count": 67,
   "metadata": {},
   "outputs": [
    {
     "name": "stdout",
     "output_type": "stream",
     "text": [
      "We test the following hypothesis:\n",
      "(H0) The residuals from regression \"number\" = LinearRegression(\"lag_number\") are stationary\n",
      "(H1) There is a First Order Auto Correlation in residuals from regression \"number\" = LinearRegression(\"lag_number\")\n",
      "👍 - The residuals might be stationary\n",
      "d = 2.13353126698345\n"
     ]
    },
    {
     "data": {
      "text/plain": [
       "(True, 2.13353126698345)"
      ]
     },
     "execution_count": 67,
     "metadata": {},
     "output_type": "execute_result"
    }
   ],
   "source": [
    "amazon.testdw(ts = \"date\",\n",
    "              response = \"number\", \n",
    "              predictors = [\"lag_number\"], \n",
    "              by = [\"state\"])"
   ]
  },
  {
   "cell_type": "markdown",
   "metadata": {},
   "source": [
    "### See Also\n",
    "\n",
    "<table id=\"seealso\">\n",
    "    <tr><td><a href=\"../testdf\">vDataFrame.testdf</a></td> <td>Dickey Fuller test.</td></tr>\n",
    "    <tr><td><a href=\"../testjb\">vDataFrame.testjb</a></td> <td>Jarque Bera test.</td></tr>\n",
    "    <tr><td><a href=\"../testmk\">vDataFrame.testmk</a></td> <td>Mann Kendall test.</td></tr>\n",
    "</table>"
   ]
  }
 ],
 "metadata": {
  "kernelspec": {
   "display_name": "Python 3",
   "language": "python",
   "name": "python3"
  },
  "language_info": {
   "codemirror_mode": {
    "name": "ipython",
    "version": 3
   },
   "file_extension": ".py",
   "mimetype": "text/x-python",
   "name": "python",
   "nbconvert_exporter": "python",
   "pygments_lexer": "ipython3",
   "version": "3.6.3"
  }
 },
 "nbformat": 4,
 "nbformat_minor": 2
}
