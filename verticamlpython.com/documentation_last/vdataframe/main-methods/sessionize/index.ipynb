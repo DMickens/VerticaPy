{
 "cells": [
  {
   "cell_type": "markdown",
   "metadata": {},
   "source": [
    "# vDataFrame.sessionize"
   ]
  },
  {
   "cell_type": "code",
   "execution_count": null,
   "metadata": {},
   "outputs": [],
   "source": [
    "vDataFrame.sessionize(ts: str,\n",
    "                      by: list = [],\n",
    "                      session_threshold: str = \"30 minutes\",\n",
    "                      name: str = \"session_id\")"
   ]
  },
  {
   "cell_type": "markdown",
   "metadata": {},
   "source": [
    "Adds a new vcolumn to the vDataFrame which will correspond to sessions (user activity during a specific time). A session ends when ts - lag(ts) is greater than a specific threshold."
   ]
  },
  {
   "cell_type": "markdown",
   "metadata": {},
   "source": [
    "### Parameters\n",
    "\n",
    "<table id=\"parameters\">\n",
    "    <tr> <th>Name</th> <th>Type</th> <th>Optional</th> <th>Description</th> </tr>\n",
    "    <tr> <td><div class=\"param_name\">ts</div></td> <td><div class=\"type\">str</div></td> <td><div class = \"no\">&#10060;</div></td> <td>vcolumn used as timeline. It will be used to order the data. It can be a numerical or type date like (date, datetime, timestamp...) vcolumn.</td> </tr>\n",
    "     <tr> <td><div class=\"param_name\">by</div></td> <td><div class=\"type\">list</div></td> <td><div class = \"yes\">&#10003;</div></td> <td>vcolumns used in the partition.</td> </tr>\n",
    "    <tr> <td><div class=\"param_name\">session_threshold</div></td> <td><div class=\"type\">str</div></td> <td><div class = \"yes\">&#10003;</div></td> <td>This parameter is the threshold which will determine the end of the session. For example, if it is set to '10 minutes' the session ends after 10 minutes of inactivity.</td> </tr>\n",
    "    <tr> <td><div class=\"param_name\">name</div></td> <td><div class=\"type\">str</div></td> <td><div class = \"yes\">&#10003;</div></td> <td>The session name.</td> </tr>\n",
    "</table>\n",
    "\n",
    "### Returns\n",
    "\n",
    "<b>vDataFrame</b> : self\n",
    "\n",
    "### Example"
   ]
  },
  {
   "cell_type": "code",
   "execution_count": 14,
   "metadata": {},
   "outputs": [
    {
     "data": {
      "text/html": [
       "<table style=\"border-collapse: collapse; border: 2px solid white\"><tr style=\"{border: 1px solid white;}\"><td style=\"border-bottom: 1px solid #DDD;font-size:1.02em;background-color:#214579;color:white\"><b></b></td><td style=\"font-size:1.02em;background-color:#214579;color:white\"><b>date_time</b></td><td style=\"font-size:1.02em;background-color:#214579;color:white\"><b>user_id</b></td></tr><tr style=\"{border: 1px solid white;}\"><td style=\"border-bottom: 1px solid #DDD;font-size:1.02em;background-color:#214579;color:white\"><b>0</b></td><td style=\"border: 1px solid white;\">2013-01-07 00:00:02</td><td style=\"border: 1px solid white;\">461899</td></tr><tr style=\"{border: 1px solid white;}\"><td style=\"border-bottom: 1px solid #DDD;font-size:1.02em;background-color:#214579;color:white\"><b>1</b></td><td style=\"border: 1px solid white;\">2013-01-07 00:00:06</td><td style=\"border: 1px solid white;\">13796</td></tr><tr style=\"{border: 1px solid white;}\"><td style=\"border-bottom: 1px solid #DDD;font-size:1.02em;background-color:#214579;color:white\"><b>2</b></td><td style=\"border: 1px solid white;\">2013-01-07 00:00:06</td><td style=\"border: 1px solid white;\">1128575</td></tr><tr style=\"{border: 1px solid white;}\"><td style=\"border-bottom: 1px solid #DDD;font-size:1.02em;background-color:#214579;color:white\"><b>3</b></td><td style=\"border: 1px solid white;\">2013-01-07 00:00:17</td><td style=\"border: 1px solid white;\">1018895</td></tr><tr style=\"{border: 1px solid white;}\"><td style=\"border-bottom: 1px solid #DDD;font-size:1.02em;background-color:#214579;color:white\"><b>4</b></td><td style=\"border: 1px solid white;\">2013-01-07 00:00:18</td><td style=\"border: 1px solid white;\">783725</td></tr><tr><td style=\"border-top: 1px solid white;background-color:#214579;color:white\"></td><td style=\"border: 1px solid white;\">...</td><td style=\"border: 1px solid white;\">...</td></tr></table>"
      ],
      "text/plain": [
       "<IPython.core.display.HTML object>"
      ]
     },
     "metadata": {},
     "output_type": "display_data"
    },
    {
     "name": "stdout",
     "output_type": "stream",
     "text": [
      "<object>  Name: expedia, Number of rows: 37670293, Number of columns: 2\n"
     ]
    }
   ],
   "source": [
    "from vertica_ml_python import vDataFrame\n",
    "expedia = vDataFrame(\"public.expedia\").select([\"date_time\", \"user_id\"])\n",
    "print(expedia)"
   ]
  },
  {
   "cell_type": "code",
   "execution_count": 15,
   "metadata": {},
   "outputs": [
    {
     "data": {
      "text/html": [
       "<table style=\"border-collapse: collapse; border: 2px solid white\"><tr style=\"{border: 1px solid white;}\"><td style=\"border-bottom: 1px solid #DDD;font-size:1.02em;background-color:#214579;color:white\"><b></b></td><td style=\"font-size:1.02em;background-color:#214579;color:white\"><b>date_time</b></td><td style=\"font-size:1.02em;background-color:#214579;color:white\"><b>user_id</b></td><td style=\"font-size:1.02em;background-color:#214579;color:white\"><b>session_id</b></td></tr><tr style=\"{border: 1px solid white;}\"><td style=\"border-bottom: 1px solid #DDD;font-size:1.02em;background-color:#214579;color:white\"><b>0</b></td><td style=\"border: 1px solid white;\">2014-04-25 16:14:28</td><td style=\"border: 1px solid white;\">1</td><td style=\"border: 1px solid white;\">0</td></tr><tr style=\"{border: 1px solid white;}\"><td style=\"border-bottom: 1px solid #DDD;font-size:1.02em;background-color:#214579;color:white\"><b>1</b></td><td style=\"border: 1px solid white;\">2014-04-25 16:14:46</td><td style=\"border: 1px solid white;\">1</td><td style=\"border: 1px solid white;\">0</td></tr><tr style=\"{border: 1px solid white;}\"><td style=\"border-bottom: 1px solid #DDD;font-size:1.02em;background-color:#214579;color:white\"><b>2</b></td><td style=\"border: 1px solid white;\">2014-04-25 16:15:11</td><td style=\"border: 1px solid white;\">1</td><td style=\"border: 1px solid white;\">0</td></tr><tr style=\"{border: 1px solid white;}\"><td style=\"border-bottom: 1px solid #DDD;font-size:1.02em;background-color:#214579;color:white\"><b>3</b></td><td style=\"border: 1px solid white;\">2014-04-25 16:15:50</td><td style=\"border: 1px solid white;\">1</td><td style=\"border: 1px solid white;\">0</td></tr><tr style=\"{border: 1px solid white;}\"><td style=\"border-bottom: 1px solid #DDD;font-size:1.02em;background-color:#214579;color:white\"><b>4</b></td><td style=\"border: 1px solid white;\">2014-07-31 07:10:39</td><td style=\"border: 1px solid white;\">3</td><td style=\"border: 1px solid white;\">0</td></tr><tr style=\"{border: 1px solid white;}\"><td style=\"border-bottom: 1px solid #DDD;font-size:1.02em;background-color:#214579;color:white\"><b>5</b></td><td style=\"border: 1px solid white;\">2014-09-08 09:56:21</td><td style=\"border: 1px solid white;\">3</td><td style=\"border: 1px solid white;\">1</td></tr><tr style=\"{border: 1px solid white;}\"><td style=\"border-bottom: 1px solid #DDD;font-size:1.02em;background-color:#214579;color:white\"><b>6</b></td><td style=\"border: 1px solid white;\">2014-09-08 09:58:50</td><td style=\"border: 1px solid white;\">3</td><td style=\"border: 1px solid white;\">1</td></tr><tr style=\"{border: 1px solid white;}\"><td style=\"border-bottom: 1px solid #DDD;font-size:1.02em;background-color:#214579;color:white\"><b>7</b></td><td style=\"border: 1px solid white;\">2014-09-09 10:49:48</td><td style=\"border: 1px solid white;\">3</td><td style=\"border: 1px solid white;\">2</td></tr><tr style=\"{border: 1px solid white;}\"><td style=\"border-bottom: 1px solid #DDD;font-size:1.02em;background-color:#214579;color:white\"><b>8</b></td><td style=\"border: 1px solid white;\">2014-09-22 13:19:02</td><td style=\"border: 1px solid white;\">3</td><td style=\"border: 1px solid white;\">3</td></tr><tr style=\"{border: 1px solid white;}\"><td style=\"border-bottom: 1px solid #DDD;font-size:1.02em;background-color:#214579;color:white\"><b>9</b></td><td style=\"border: 1px solid white;\">2014-09-22 13:22:25</td><td style=\"border: 1px solid white;\">3</td><td style=\"border: 1px solid white;\">3</td></tr><tr style=\"{border: 1px solid white;}\"><td style=\"border-bottom: 1px solid #DDD;font-size:1.02em;background-color:#214579;color:white\"><b>10</b></td><td style=\"border: 1px solid white;\">2014-09-30 12:56:51</td><td style=\"border: 1px solid white;\">3</td><td style=\"border: 1px solid white;\">4</td></tr><tr style=\"{border: 1px solid white;}\"><td style=\"border-bottom: 1px solid #DDD;font-size:1.02em;background-color:#214579;color:white\"><b>11</b></td><td style=\"border: 1px solid white;\">2014-10-20 11:19:21</td><td style=\"border: 1px solid white;\">3</td><td style=\"border: 1px solid white;\">5</td></tr><tr style=\"{border: 1px solid white;}\"><td style=\"border-bottom: 1px solid #DDD;font-size:1.02em;background-color:#214579;color:white\"><b>12</b></td><td style=\"border: 1px solid white;\">2014-01-26 23:56:46</td><td style=\"border: 1px solid white;\">5</td><td style=\"border: 1px solid white;\">0</td></tr><tr style=\"{border: 1px solid white;}\"><td style=\"border-bottom: 1px solid #DDD;font-size:1.02em;background-color:#214579;color:white\"><b>13</b></td><td style=\"border: 1px solid white;\">2014-01-27 00:00:31</td><td style=\"border: 1px solid white;\">5</td><td style=\"border: 1px solid white;\">0</td></tr><tr style=\"{border: 1px solid white;}\"><td style=\"border-bottom: 1px solid #DDD;font-size:1.02em;background-color:#214579;color:white\"><b>14</b></td><td style=\"border: 1px solid white;\">2014-01-27 00:03:44</td><td style=\"border: 1px solid white;\">5</td><td style=\"border: 1px solid white;\">0</td></tr><tr style=\"{border: 1px solid white;}\"><td style=\"border-bottom: 1px solid #DDD;font-size:1.02em;background-color:#214579;color:white\"><b>15</b></td><td style=\"border: 1px solid white;\">2014-01-27 00:05:12</td><td style=\"border: 1px solid white;\">5</td><td style=\"border: 1px solid white;\">0</td></tr><tr style=\"{border: 1px solid white;}\"><td style=\"border-bottom: 1px solid #DDD;font-size:1.02em;background-color:#214579;color:white\"><b>16</b></td><td style=\"border: 1px solid white;\">2014-01-27 00:06:18</td><td style=\"border: 1px solid white;\">5</td><td style=\"border: 1px solid white;\">0</td></tr><tr style=\"{border: 1px solid white;}\"><td style=\"border-bottom: 1px solid #DDD;font-size:1.02em;background-color:#214579;color:white\"><b>17</b></td><td style=\"border: 1px solid white;\">2014-01-27 00:08:48</td><td style=\"border: 1px solid white;\">5</td><td style=\"border: 1px solid white;\">0</td></tr><tr style=\"{border: 1px solid white;}\"><td style=\"border-bottom: 1px solid #DDD;font-size:1.02em;background-color:#214579;color:white\"><b>18</b></td><td style=\"border: 1px solid white;\">2014-01-27 00:10:17</td><td style=\"border: 1px solid white;\">5</td><td style=\"border: 1px solid white;\">0</td></tr><tr style=\"{border: 1px solid white;}\"><td style=\"border-bottom: 1px solid #DDD;font-size:1.02em;background-color:#214579;color:white\"><b>19</b></td><td style=\"border: 1px solid white;\">2014-01-27 00:36:54</td><td style=\"border: 1px solid white;\">5</td><td style=\"border: 1px solid white;\">0</td></tr><tr><td style=\"border-top: 1px solid white;background-color:#214579;color:white\"></td><td style=\"border: 1px solid white;\">...</td><td style=\"border: 1px solid white;\">...</td><td style=\"border: 1px solid white;\">...</td></tr></table>"
      ],
      "text/plain": [
       "<IPython.core.display.HTML object>"
      ]
     },
     "metadata": {},
     "output_type": "display_data"
    },
    {
     "data": {
      "text/plain": [
       "<object>  Name: expedia, Number of rows: 37670293, Number of columns: 3"
      ]
     },
     "execution_count": 15,
     "metadata": {},
     "output_type": "execute_result"
    }
   ],
   "source": [
    "# Creating use session: incremental label. It increments when the user\n",
    "# did not click for more than 30 minutes.\n",
    "expedia.sessionize(ts = \"date_time\",\n",
    "                   by = [\"user_id\"],\n",
    "                   session_threshold = \"30 minutes\")"
   ]
  },
  {
   "cell_type": "markdown",
   "metadata": {},
   "source": [
    "### See Also\n",
    "\n",
    "<table id=\"seealso\">\n",
    "    <tr><td><a href=\"../analytic\">vDataFrame.analytic</a></td> <td> Adds a new vcolumn to the vDataFrame by using an advanced analytical function on a specific vcolumn.</td></tr>\n",
    "</table>"
   ]
  }
 ],
 "metadata": {
  "kernelspec": {
   "display_name": "Python 3",
   "language": "python",
   "name": "python3"
  },
  "language_info": {
   "codemirror_mode": {
    "name": "ipython",
    "version": 3
   },
   "file_extension": ".py",
   "mimetype": "text/x-python",
   "name": "python",
   "nbconvert_exporter": "python",
   "pygments_lexer": "ipython3",
   "version": "3.6.3"
  }
 },
 "nbformat": 4,
 "nbformat_minor": 2
}
