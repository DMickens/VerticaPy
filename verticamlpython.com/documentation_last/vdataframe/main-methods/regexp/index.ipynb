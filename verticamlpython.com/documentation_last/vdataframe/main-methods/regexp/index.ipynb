{
 "cells": [
  {
   "cell_type": "markdown",
   "metadata": {},
   "source": [
    "# vDataFrame.regexp"
   ]
  },
  {
   "cell_type": "code",
   "execution_count": null,
   "metadata": {},
   "outputs": [],
   "source": [
    "vDataFrame.regexp(column: str,\n",
    "                  pattern: str,\n",
    "                  method: str = \"substr\", \n",
    "                  position: int = 1,\n",
    "                  occurrence: int = 1,\n",
    "                  replacement: str = '',\n",
    "                  return_position : int = 0,\n",
    "                  name: str = \"\")"
   ]
  },
  {
   "cell_type": "markdown",
   "metadata": {},
   "source": [
    "Computes a new vcolumn based on regular expressions.\n",
    "\n",
    "### Parameters"
   ]
  },
  {
   "cell_type": "markdown",
   "metadata": {},
   "source": [
    "<table id=\"parameters\">\n",
    "    <tr> <th>Name</th> <th>Type</th> <th>Optional</th> <th>Description</th> </tr>\n",
    "    <tr> <td><div class=\"param_name\">column</div></td> <td><div class=\"type\">str</div></td> <td><div class = \"no\">&#10060;</div></td> <td>Input vcolumn used to compute the regular expression.</td> </tr>\n",
    "    <tr> <td><div class=\"param_name\">pattern</div></td> <td><div class=\"type\">str</div></td> <td><div class = \"no\">&#10060;</div></td> <td>The regular expression.</td> </tr>\n",
    "    <tr> <td><div class=\"param_name\">method</div></td> <td><div class=\"type\">str</div></td> <td><div class = \"yes\">&#10003;</div></td> <td>Method used to compute the regular expressions.<br>\n",
    "                                                    <ul>\n",
    "                                                        <li><b>count :</b> Returns the number times a regular expression matches each element of the input vcolumn. </li>\n",
    "                                                        <li><b>ilike :</b> Returns True if the vcolumn element contains a match for the regular expression.</li>\n",
    "                                                        <li><b>instr :</b> Returns the starting or ending position in a vcolumn element where a regular expression matches.</li>\n",
    "                                                        <li><b>like :</b> Returns True if the vcolumn element matches the regular expression.</li>\n",
    "                                                        <li><b>not_ilike :</b> Returns True if the vcolumn element does not match the case-insensitive regular expression.</li>\n",
    "                                                        <li><b>not_like :</b> Returns True if the vcolumn element does not contain a match for the regular expression.</li>\n",
    "                                                        <li><b>replace :</b> Replaces all occurrences of a substring that match a regular expression with another substring.</li>\n",
    "                                                        <li><b>substr :</b> Returns the substring that matches a regular expression within a vcolumn.</li></ul></td> </tr>\n",
    "    <tr> <td><div class=\"param_name\">position</div></td> <td><div class=\"type\">int</div></td> <td><div class = \"yes\">&#10003;</div></td> <td>The number of characters from the start of the string where the function should start searching for matches.</td> </tr>\n",
    "    <tr> <td><div class=\"param_name\">occurrence</div></td> <td><div class=\"type\">int</div></td> <td><div class = \"yes\">&#10003;</div></td> <td>Controls which occurrence of a pattern match in the string to return.</td> </tr>\n",
    "    <tr> <td><div class=\"param_name\">replacement</div></td> <td><div class=\"type\">str</div></td> <td><div class = \"yes\">&#10003;</div></td> <td>The string to replace matched substrings.</td> </tr>\n",
    "    <tr> <td><div class=\"param_name\">return_position</div></td> <td><div class=\"type\">int</div></td> <td><div class = \"yes\">&#10003;</div></td> <td>Sets the position within the string to return.</td> </tr>\n",
    "    <tr> <td><div class=\"param_name\">name</div></td> <td><div class=\"type\">str</div></td> <td><div class = \"yes\">&#10003;</div></td> <td>New feature name. If empty, a name will be generated.</td> </tr>\n",
    "</table>"
   ]
  },
  {
   "cell_type": "markdown",
   "metadata": {},
   "source": [
    "### Returns\n",
    "\n",
    "<b>vDataFrame</b> : self\n",
    "\n",
    "### Example"
   ]
  },
  {
   "cell_type": "code",
   "execution_count": 8,
   "metadata": {
    "scrolled": false
   },
   "outputs": [
    {
     "data": {
      "text/html": [
       "<table style=\"border-collapse: collapse; border: 2px solid white\"><tr style=\"{border: 1px solid white;}\"><td style=\"border-bottom: 1px solid #DDD;font-size:1.02em;background-color:#214579;color:white\"><b></b></td><td style=\"font-size:1.02em;background-color:#214579;color:white\"><b>actors</b></td><td style=\"font-size:1.02em;background-color:#214579;color:white\"><b>avg_vote</b></td><td style=\"font-size:1.02em;background-color:#214579;color:white\"><b>description</b></td><td style=\"font-size:1.02em;background-color:#214579;color:white\"><b>genre</b></td><td style=\"font-size:1.02em;background-color:#214579;color:white\"><b>director</b></td><td style=\"font-size:1.02em;background-color:#214579;color:white\"><b>votes</b></td><td style=\"font-size:1.02em;background-color:#214579;color:white\"><b>year</b></td><td style=\"font-size:1.02em;background-color:#214579;color:white\"><b>notes</b></td><td style=\"font-size:1.02em;background-color:#214579;color:white\"><b>title</b></td><td style=\"font-size:1.02em;background-color:#214579;color:white\"><b>filmtv_id</b></td><td style=\"font-size:1.02em;background-color:#214579;color:white\"><b>duration</b></td><td style=\"font-size:1.02em;background-color:#214579;color:white\"><b>country</b></td></tr><tr style=\"{border: 1px solid white;}\"><td style=\"border-bottom: 1px solid #DDD;font-size:1.02em;background-color:#214579;color:white\"><b>0</b></td><td style=\"border: 1px solid white;\">Mickey Rourke, Steve Guttenberg, Ellen Barkin, Daniel Stern, Kevin Bacon, Timothy Daly, Paul Reiser, Kelle Kipp, Colette Blonigan</td><td style=\"border: 1px solid white;\">7.20</td><td style=\"border: 1px solid white;\">Five boys from Baltimore are in the habit of meeting periodically for dinner and playing tricks together. One of them, Boogie, is in trouble because of his passion for betting: he owes a gangster two thousand dollars and to find them he keeps betting and losing. The others have marital or sex-related problems, and everyone has a few jokes.</td><td style=\"border: 1px solid white;\">Comedy</td><td style=\"border: 1px solid white;\">Barry Levinson</td><td style=\"border: 1px solid white;\">15</td><td style=\"border: 1px solid white;\">1982.00</td><td style=\"border: 1px solid white;\">A cast of will be famous for Levinson's directorial debut. Very bitter and very well written: jokes are seen as a manifestation of immaturity rather than carefree; Rourke enhances his charge of beautiful darkness. Guttenberg is the good guy in the group.</td><td style=\"border: 1px solid white;\">Diner</td><td style=\"border: 1px solid white;\">18</td><td style=\"border: 1px solid white;\">95</td><td style=\"border: 1px solid white;\">United States</td></tr><tr><td style=\"border-top: 1px solid white;background-color:#214579;color:white\"></td><td style=\"border: 1px solid white;\">...</td><td style=\"border: 1px solid white;\">...</td><td style=\"border: 1px solid white;\">...</td><td style=\"border: 1px solid white;\">...</td><td style=\"border: 1px solid white;\">...</td><td style=\"border: 1px solid white;\">...</td><td style=\"border: 1px solid white;\">...</td><td style=\"border: 1px solid white;\">...</td><td style=\"border: 1px solid white;\">...</td><td style=\"border: 1px solid white;\">...</td><td style=\"border: 1px solid white;\">...</td><td style=\"border: 1px solid white;\">...</td></tr></table>"
      ],
      "text/plain": [
       "<IPython.core.display.HTML object>"
      ]
     },
     "metadata": {},
     "output_type": "display_data"
    },
    {
     "name": "stdout",
     "output_type": "stream",
     "text": [
      "<object>  Name: filmtv_movies, Number of rows: 53397, Number of columns: 12\n"
     ]
    }
   ],
   "source": [
    "from vertica_ml_python import *\n",
    "filmtv_movies = vDataFrame(\"filmtv_movies\")\n",
    "print(filmtv_movies.head(1))"
   ]
  },
  {
   "cell_type": "code",
   "execution_count": 9,
   "metadata": {},
   "outputs": [
    {
     "data": {
      "text/html": [
       "<table style=\"border-collapse: collapse; border: 2px solid white\"><tr style=\"{border: 1px solid white;}\"><td style=\"border-bottom: 1px solid #DDD;font-size:1.02em;background-color:#214579;color:white\"><b></b></td><td style=\"font-size:1.02em;background-color:#214579;color:white\"><b>actors</b></td><td style=\"font-size:1.02em;background-color:#214579;color:white\"><b>actor2</b></td></tr><tr style=\"{border: 1px solid white;}\"><td style=\"border-bottom: 1px solid #DDD;font-size:1.02em;background-color:#214579;color:white\"><b>0</b></td><td style=\"border: 1px solid white;\">Mickey Rourke, Steve Guttenberg, Ellen Barkin, Daniel Stern, Kevin Bacon, Timothy Daly, Paul Reiser, Kelle Kipp, Colette Blonigan</td><td style=\"border: 1px solid white;\"> Steve Guttenberg</td></tr><tr style=\"{border: 1px solid white;}\"><td style=\"border-bottom: 1px solid #DDD;font-size:1.02em;background-color:#214579;color:white\"><b>1</b></td><td style=\"border: 1px solid white;\">Gian Maria Volonté, Irene Papas, Gabriele Ferzetti, Salvo Randone, Laura Nucci, Mario Scaccia, Luigi Pistilli, Leopoldo Trieste</td><td style=\"border: 1px solid white;\"> Irene Papas</td></tr><tr style=\"{border: 1px solid white;}\"><td style=\"border-bottom: 1px solid #DDD;font-size:1.02em;background-color:#214579;color:white\"><b>2</b></td><td style=\"border: 1px solid white;\">Alan Steel, Mary Arden, Sergio Ciani, Ivano Davoli, Giovanna Galletti, Aïché Nana, Charlie Charun, Gilberto Mazzi</td><td style=\"border: 1px solid white;\"> Mary Arden</td></tr><tr style=\"{border: 1px solid white;}\"><td style=\"border-bottom: 1px solid #DDD;font-size:1.02em;background-color:#214579;color:white\"><b>3</b></td><td style=\"border: 1px solid white;\">George Hilton, Ennio Girolami, Marta Padovan, Alfonso De La Vega, Venancio Muro, Alfonso Rojas, Luis Marin</td><td style=\"border: 1px solid white;\"> Ennio Girolami</td></tr><tr style=\"{border: 1px solid white;}\"><td style=\"border-bottom: 1px solid #DDD;font-size:1.02em;background-color:#214579;color:white\"><b>4</b></td><td style=\"border: 1px solid white;\">Patsy Kensit, Stéphane Freiss, Mouss Diouf, Anne-Marie Pisani, Joseph Momo, Jean-Marc Truong, An Luu</td><td style=\"border: 1px solid white;\"> Stéphane Freiss</td></tr><tr><td style=\"border-top: 1px solid white;background-color:#214579;color:white\"></td><td style=\"border: 1px solid white;\">...</td><td style=\"border: 1px solid white;\">...</td></tr></table>"
      ],
      "text/plain": [
       "<IPython.core.display.HTML object>"
      ]
     },
     "metadata": {},
     "output_type": "display_data"
    },
    {
     "data": {
      "text/plain": [
       "<object>  Name: filmtv_movies, Number of rows: 53397, Number of columns: 2"
      ]
     },
     "execution_count": 9,
     "metadata": {},
     "output_type": "execute_result"
    }
   ],
   "source": [
    "# Retrieving the second actor\n",
    "filmtv_movies.regexp(column = \"actors\", \n",
    "                     pattern = \"[^,]+\", \n",
    "                     method = \"substr\",\n",
    "                     occurrence = 2,\n",
    "                     name = \"actor2\").select([\"actors\", \n",
    "                                              \"actor2\"])"
   ]
  },
  {
   "cell_type": "code",
   "execution_count": 11,
   "metadata": {},
   "outputs": [
    {
     "data": {
      "text/html": [
       "<table style=\"border-collapse: collapse; border: 2px solid white\"><tr style=\"{border: 1px solid white;}\"><td style=\"border-bottom: 1px solid #DDD;font-size:1.02em;background-color:#214579;color:white\"><b></b></td><td style=\"font-size:1.02em;background-color:#214579;color:white\"><b>actors</b></td><td style=\"font-size:1.02em;background-color:#214579;color:white\"><b>nb_actors</b></td></tr><tr style=\"{border: 1px solid white;}\"><td style=\"border-bottom: 1px solid #DDD;font-size:1.02em;background-color:#214579;color:white\"><b>0</b></td><td style=\"border: 1px solid white;\">Mickey Rourke, Steve Guttenberg, Ellen Barkin, Daniel Stern, Kevin Bacon, Timothy Daly, Paul Reiser, Kelle Kipp, Colette Blonigan</td><td style=\"border: 1px solid white;\">9</td></tr><tr style=\"{border: 1px solid white;}\"><td style=\"border-bottom: 1px solid #DDD;font-size:1.02em;background-color:#214579;color:white\"><b>1</b></td><td style=\"border: 1px solid white;\">Gian Maria Volonté, Irene Papas, Gabriele Ferzetti, Salvo Randone, Laura Nucci, Mario Scaccia, Luigi Pistilli, Leopoldo Trieste</td><td style=\"border: 1px solid white;\">8</td></tr><tr style=\"{border: 1px solid white;}\"><td style=\"border-bottom: 1px solid #DDD;font-size:1.02em;background-color:#214579;color:white\"><b>2</b></td><td style=\"border: 1px solid white;\">Alan Steel, Mary Arden, Sergio Ciani, Ivano Davoli, Giovanna Galletti, Aïché Nana, Charlie Charun, Gilberto Mazzi</td><td style=\"border: 1px solid white;\">8</td></tr><tr style=\"{border: 1px solid white;}\"><td style=\"border-bottom: 1px solid #DDD;font-size:1.02em;background-color:#214579;color:white\"><b>3</b></td><td style=\"border: 1px solid white;\">George Hilton, Ennio Girolami, Marta Padovan, Alfonso De La Vega, Venancio Muro, Alfonso Rojas, Luis Marin</td><td style=\"border: 1px solid white;\">7</td></tr><tr style=\"{border: 1px solid white;}\"><td style=\"border-bottom: 1px solid #DDD;font-size:1.02em;background-color:#214579;color:white\"><b>4</b></td><td style=\"border: 1px solid white;\">Patsy Kensit, Stéphane Freiss, Mouss Diouf, Anne-Marie Pisani, Joseph Momo, Jean-Marc Truong, An Luu</td><td style=\"border: 1px solid white;\">7</td></tr><tr><td style=\"border-top: 1px solid white;background-color:#214579;color:white\"></td><td style=\"border: 1px solid white;\">...</td><td style=\"border: 1px solid white;\">...</td></tr></table>"
      ],
      "text/plain": [
       "<IPython.core.display.HTML object>"
      ]
     },
     "metadata": {},
     "output_type": "display_data"
    },
    {
     "data": {
      "text/plain": [
       "<object>  Name: filmtv_movies, Number of rows: 53397, Number of columns: 2"
      ]
     },
     "execution_count": 11,
     "metadata": {},
     "output_type": "execute_result"
    }
   ],
   "source": [
    "# Computing the Number of actors\n",
    "filmtv_movies.regexp(column = \"actors\", \n",
    "                     pattern = \",\", \n",
    "                     method = \"count\",\n",
    "                     name = \"nb_actors\")\n",
    "filmtv_movies[\"nb_actors\"].add(1)\n",
    "filmtv_movies.select([\"actors\", \"nb_actors\"])"
   ]
  },
  {
   "cell_type": "markdown",
   "metadata": {},
   "source": [
    "### See Also\n",
    "\n",
    "<table id=\"seealso\">\n",
    "    <tr><td><a href=\"../eval\">vDataFrame.eval</a></td> <td>Evaluates a customized expression.</td></tr>\n",
    "</table>"
   ]
  }
 ],
 "metadata": {
  "kernelspec": {
   "display_name": "Python 3",
   "language": "python",
   "name": "python3"
  },
  "language_info": {
   "codemirror_mode": {
    "name": "ipython",
    "version": 3
   },
   "file_extension": ".py",
   "mimetype": "text/x-python",
   "name": "python",
   "nbconvert_exporter": "python",
   "pygments_lexer": "ipython3",
   "version": "3.6.3"
  }
 },
 "nbformat": 4,
 "nbformat_minor": 2
}
