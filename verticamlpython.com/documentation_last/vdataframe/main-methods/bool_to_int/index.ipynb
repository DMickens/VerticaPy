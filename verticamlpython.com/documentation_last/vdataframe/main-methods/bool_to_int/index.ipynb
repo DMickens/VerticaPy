{
 "cells": [
  {
   "cell_type": "markdown",
   "metadata": {},
   "source": [
    "# vDataFrame.bool_to_int"
   ]
  },
  {
   "cell_type": "code",
   "execution_count": null,
   "metadata": {},
   "outputs": [],
   "source": [
    "vDataFrame.bool_to_int()"
   ]
  },
  {
   "cell_type": "markdown",
   "metadata": {},
   "source": [
    "Converts all the booleans vcolumns to integers."
   ]
  },
  {
   "cell_type": "markdown",
   "metadata": {},
   "source": [
    "### Returns\n",
    "\n",
    "<b>vDataFrame</b> : self\n",
    "\n",
    "### Example"
   ]
  },
  {
   "cell_type": "code",
   "execution_count": 107,
   "metadata": {},
   "outputs": [
    {
     "data": {
      "text/html": [
       "<table style=\"border-collapse: collapse; border: 2px solid white\"><tr style=\"{border: 1px solid white;}\"><td style=\"border-bottom: 1px solid #DDD;font-size:1.02em;background-color:#214579;color:white\"><b></b></td><td style=\"font-size:1.02em;background-color:#214579;color:white\"><b>PaymentMethod</b></td><td style=\"font-size:1.02em;background-color:#214579;color:white\"><b>OnlineBackup</b></td><td style=\"font-size:1.02em;background-color:#214579;color:white\"><b>gender</b></td><td style=\"font-size:1.02em;background-color:#214579;color:white\"><b>Churn</b></td><td style=\"font-size:1.02em;background-color:#214579;color:white\"><b>StreamingTV</b></td><td style=\"font-size:1.02em;background-color:#214579;color:white\"><b>TotalCharges</b></td><td style=\"font-size:1.02em;background-color:#214579;color:white\"><b>Contract</b></td><td style=\"font-size:1.02em;background-color:#214579;color:white\"><b>tenure</b></td><td style=\"font-size:1.02em;background-color:#214579;color:white\"><b>DeviceProtection</b></td><td style=\"font-size:1.02em;background-color:#214579;color:white\"><b>StreamingMovies</b></td><td style=\"font-size:1.02em;background-color:#214579;color:white\"><b>InternetService</b></td><td style=\"font-size:1.02em;background-color:#214579;color:white\"><b>Dependents</b></td><td style=\"font-size:1.02em;background-color:#214579;color:white\"><b>MonthlyCharges</b></td><td style=\"font-size:1.02em;background-color:#214579;color:white\"><b>PhoneService</b></td><td style=\"font-size:1.02em;background-color:#214579;color:white\"><b>TechSupport</b></td><td style=\"font-size:1.02em;background-color:#214579;color:white\"><b>PaperlessBilling</b></td><td style=\"font-size:1.02em;background-color:#214579;color:white\"><b>SeniorCitizen</b></td><td style=\"font-size:1.02em;background-color:#214579;color:white\"><b>Partner</b></td><td style=\"font-size:1.02em;background-color:#214579;color:white\"><b>MultipleLines</b></td><td style=\"font-size:1.02em;background-color:#214579;color:white\"><b>OnlineSecurity</b></td><td style=\"font-size:1.02em;background-color:#214579;color:white\"><b>customerID</b></td></tr><tr style=\"{border: 1px solid white;}\"><td style=\"border-bottom: 1px solid #DDD;font-size:1.02em;background-color:#214579;color:white\"><b>0</b></td><td style=\"border: 1px solid white;\">Mailed check</td><td style=\"border: 1px solid white;\">Yes</td><td style=\"border: 1px solid white;\">Female</td><td style=\"border: 1px solid white;\">False</td><td style=\"border: 1px solid white;\">Yes</td><td style=\"border: 1px solid white;\">593.300</td><td style=\"border: 1px solid white;\">One year</td><td style=\"border: 1px solid white;\">9</td><td style=\"border: 1px solid white;\">No</td><td style=\"border: 1px solid white;\">No</td><td style=\"border: 1px solid white;\">DSL</td><td style=\"border: 1px solid white;\">True</td><td style=\"border: 1px solid white;\">65.600</td><td style=\"border: 1px solid white;\">True</td><td style=\"border: 1px solid white;\">Yes</td><td style=\"border: 1px solid white;\">True</td><td style=\"border: 1px solid white;\">0</td><td style=\"border: 1px solid white;\">True</td><td style=\"border: 1px solid white;\">No</td><td style=\"border: 1px solid white;\">No</td><td style=\"border: 1px solid white;\">0002-ORFBO</td></tr><tr style=\"{border: 1px solid white;}\"><td style=\"border-bottom: 1px solid #DDD;font-size:1.02em;background-color:#214579;color:white\"><b>1</b></td><td style=\"border: 1px solid white;\">Mailed check</td><td style=\"border: 1px solid white;\">No</td><td style=\"border: 1px solid white;\">Male</td><td style=\"border: 1px solid white;\">False</td><td style=\"border: 1px solid white;\">No</td><td style=\"border: 1px solid white;\">542.400</td><td style=\"border: 1px solid white;\">Month-to-month</td><td style=\"border: 1px solid white;\">9</td><td style=\"border: 1px solid white;\">No</td><td style=\"border: 1px solid white;\">Yes</td><td style=\"border: 1px solid white;\">DSL</td><td style=\"border: 1px solid white;\">False</td><td style=\"border: 1px solid white;\">59.900</td><td style=\"border: 1px solid white;\">True</td><td style=\"border: 1px solid white;\">No</td><td style=\"border: 1px solid white;\">False</td><td style=\"border: 1px solid white;\">0</td><td style=\"border: 1px solid white;\">False</td><td style=\"border: 1px solid white;\">Yes</td><td style=\"border: 1px solid white;\">No</td><td style=\"border: 1px solid white;\">0003-MKNFE</td></tr><tr style=\"{border: 1px solid white;}\"><td style=\"border-bottom: 1px solid #DDD;font-size:1.02em;background-color:#214579;color:white\"><b>2</b></td><td style=\"border: 1px solid white;\">Electronic check</td><td style=\"border: 1px solid white;\">No</td><td style=\"border: 1px solid white;\">Male</td><td style=\"border: 1px solid white;\">True</td><td style=\"border: 1px solid white;\">No</td><td style=\"border: 1px solid white;\">280.850</td><td style=\"border: 1px solid white;\">Month-to-month</td><td style=\"border: 1px solid white;\">4</td><td style=\"border: 1px solid white;\">Yes</td><td style=\"border: 1px solid white;\">No</td><td style=\"border: 1px solid white;\">Fiber optic</td><td style=\"border: 1px solid white;\">False</td><td style=\"border: 1px solid white;\">73.900</td><td style=\"border: 1px solid white;\">True</td><td style=\"border: 1px solid white;\">No</td><td style=\"border: 1px solid white;\">True</td><td style=\"border: 1px solid white;\">0</td><td style=\"border: 1px solid white;\">False</td><td style=\"border: 1px solid white;\">No</td><td style=\"border: 1px solid white;\">No</td><td style=\"border: 1px solid white;\">0004-TLHLJ</td></tr><tr style=\"{border: 1px solid white;}\"><td style=\"border-bottom: 1px solid #DDD;font-size:1.02em;background-color:#214579;color:white\"><b>3</b></td><td style=\"border: 1px solid white;\">Electronic check</td><td style=\"border: 1px solid white;\">Yes</td><td style=\"border: 1px solid white;\">Male</td><td style=\"border: 1px solid white;\">True</td><td style=\"border: 1px solid white;\">Yes</td><td style=\"border: 1px solid white;\">1237.850</td><td style=\"border: 1px solid white;\">Month-to-month</td><td style=\"border: 1px solid white;\">13</td><td style=\"border: 1px solid white;\">Yes</td><td style=\"border: 1px solid white;\">Yes</td><td style=\"border: 1px solid white;\">Fiber optic</td><td style=\"border: 1px solid white;\">False</td><td style=\"border: 1px solid white;\">98.000</td><td style=\"border: 1px solid white;\">True</td><td style=\"border: 1px solid white;\">No</td><td style=\"border: 1px solid white;\">True</td><td style=\"border: 1px solid white;\">1</td><td style=\"border: 1px solid white;\">True</td><td style=\"border: 1px solid white;\">No</td><td style=\"border: 1px solid white;\">No</td><td style=\"border: 1px solid white;\">0011-IGKFF</td></tr><tr style=\"{border: 1px solid white;}\"><td style=\"border-bottom: 1px solid #DDD;font-size:1.02em;background-color:#214579;color:white\"><b>4</b></td><td style=\"border: 1px solid white;\">Mailed check</td><td style=\"border: 1px solid white;\">No</td><td style=\"border: 1px solid white;\">Female</td><td style=\"border: 1px solid white;\">True</td><td style=\"border: 1px solid white;\">Yes</td><td style=\"border: 1px solid white;\">267.400</td><td style=\"border: 1px solid white;\">Month-to-month</td><td style=\"border: 1px solid white;\">3</td><td style=\"border: 1px solid white;\">No</td><td style=\"border: 1px solid white;\">No</td><td style=\"border: 1px solid white;\">Fiber optic</td><td style=\"border: 1px solid white;\">False</td><td style=\"border: 1px solid white;\">83.900</td><td style=\"border: 1px solid white;\">True</td><td style=\"border: 1px solid white;\">Yes</td><td style=\"border: 1px solid white;\">True</td><td style=\"border: 1px solid white;\">1</td><td style=\"border: 1px solid white;\">True</td><td style=\"border: 1px solid white;\">No</td><td style=\"border: 1px solid white;\">No</td><td style=\"border: 1px solid white;\">0013-EXCHZ</td></tr><tr><td style=\"border-top: 1px solid white;background-color:#214579;color:white\"></td><td style=\"border: 1px solid white;\">...</td><td style=\"border: 1px solid white;\">...</td><td style=\"border: 1px solid white;\">...</td><td style=\"border: 1px solid white;\">...</td><td style=\"border: 1px solid white;\">...</td><td style=\"border: 1px solid white;\">...</td><td style=\"border: 1px solid white;\">...</td><td style=\"border: 1px solid white;\">...</td><td style=\"border: 1px solid white;\">...</td><td style=\"border: 1px solid white;\">...</td><td style=\"border: 1px solid white;\">...</td><td style=\"border: 1px solid white;\">...</td><td style=\"border: 1px solid white;\">...</td><td style=\"border: 1px solid white;\">...</td><td style=\"border: 1px solid white;\">...</td><td style=\"border: 1px solid white;\">...</td><td style=\"border: 1px solid white;\">...</td><td style=\"border: 1px solid white;\">...</td><td style=\"border: 1px solid white;\">...</td><td style=\"border: 1px solid white;\">...</td><td style=\"border: 1px solid white;\">...</td></tr></table>"
      ],
      "text/plain": [
       "<IPython.core.display.HTML object>"
      ]
     },
     "metadata": {},
     "output_type": "display_data"
    },
    {
     "name": "stdout",
     "output_type": "stream",
     "text": [
      "<object>  Name: churn, Number of rows: 7043, Number of columns: 21\n"
     ]
    }
   ],
   "source": [
    "from vertica_ml_python import vDataFrame\n",
    "churn = vDataFrame(\"public.churn\")\n",
    "print(churn)"
   ]
  },
  {
   "cell_type": "code",
   "execution_count": 108,
   "metadata": {},
   "outputs": [
    {
     "data": {
      "text/html": [
       "<table style=\"border-collapse: collapse; border: 2px solid white\"><tr style=\"{border: 1px solid white;}\"><td style=\"border-bottom: 1px solid #DDD;font-size:1.02em;background-color:#214579;color:white\"><b></b></td><td style=\"font-size:1.02em;background-color:#214579;color:white\"><b>PaymentMethod</b></td><td style=\"font-size:1.02em;background-color:#214579;color:white\"><b>OnlineBackup</b></td><td style=\"font-size:1.02em;background-color:#214579;color:white\"><b>gender</b></td><td style=\"font-size:1.02em;background-color:#214579;color:white\"><b>Churn</b></td><td style=\"font-size:1.02em;background-color:#214579;color:white\"><b>StreamingTV</b></td><td style=\"font-size:1.02em;background-color:#214579;color:white\"><b>TotalCharges</b></td><td style=\"font-size:1.02em;background-color:#214579;color:white\"><b>Contract</b></td><td style=\"font-size:1.02em;background-color:#214579;color:white\"><b>tenure</b></td><td style=\"font-size:1.02em;background-color:#214579;color:white\"><b>DeviceProtection</b></td><td style=\"font-size:1.02em;background-color:#214579;color:white\"><b>StreamingMovies</b></td><td style=\"font-size:1.02em;background-color:#214579;color:white\"><b>InternetService</b></td><td style=\"font-size:1.02em;background-color:#214579;color:white\"><b>Dependents</b></td><td style=\"font-size:1.02em;background-color:#214579;color:white\"><b>MonthlyCharges</b></td><td style=\"font-size:1.02em;background-color:#214579;color:white\"><b>PhoneService</b></td><td style=\"font-size:1.02em;background-color:#214579;color:white\"><b>TechSupport</b></td><td style=\"font-size:1.02em;background-color:#214579;color:white\"><b>PaperlessBilling</b></td><td style=\"font-size:1.02em;background-color:#214579;color:white\"><b>SeniorCitizen</b></td><td style=\"font-size:1.02em;background-color:#214579;color:white\"><b>Partner</b></td><td style=\"font-size:1.02em;background-color:#214579;color:white\"><b>MultipleLines</b></td><td style=\"font-size:1.02em;background-color:#214579;color:white\"><b>OnlineSecurity</b></td><td style=\"font-size:1.02em;background-color:#214579;color:white\"><b>customerID</b></td></tr><tr style=\"{border: 1px solid white;}\"><td style=\"border-bottom: 1px solid #DDD;font-size:1.02em;background-color:#214579;color:white\"><b>0</b></td><td style=\"border: 1px solid white;\">Mailed check</td><td style=\"border: 1px solid white;\">Yes</td><td style=\"border: 1px solid white;\">Female</td><td style=\"border: 1px solid white;\">0</td><td style=\"border: 1px solid white;\">Yes</td><td style=\"border: 1px solid white;\">593.300</td><td style=\"border: 1px solid white;\">One year</td><td style=\"border: 1px solid white;\">9</td><td style=\"border: 1px solid white;\">No</td><td style=\"border: 1px solid white;\">No</td><td style=\"border: 1px solid white;\">DSL</td><td style=\"border: 1px solid white;\">1</td><td style=\"border: 1px solid white;\">65.600</td><td style=\"border: 1px solid white;\">1</td><td style=\"border: 1px solid white;\">Yes</td><td style=\"border: 1px solid white;\">1</td><td style=\"border: 1px solid white;\">0</td><td style=\"border: 1px solid white;\">1</td><td style=\"border: 1px solid white;\">No</td><td style=\"border: 1px solid white;\">No</td><td style=\"border: 1px solid white;\">0002-ORFBO</td></tr><tr style=\"{border: 1px solid white;}\"><td style=\"border-bottom: 1px solid #DDD;font-size:1.02em;background-color:#214579;color:white\"><b>1</b></td><td style=\"border: 1px solid white;\">Mailed check</td><td style=\"border: 1px solid white;\">No</td><td style=\"border: 1px solid white;\">Male</td><td style=\"border: 1px solid white;\">0</td><td style=\"border: 1px solid white;\">No</td><td style=\"border: 1px solid white;\">542.400</td><td style=\"border: 1px solid white;\">Month-to-month</td><td style=\"border: 1px solid white;\">9</td><td style=\"border: 1px solid white;\">No</td><td style=\"border: 1px solid white;\">Yes</td><td style=\"border: 1px solid white;\">DSL</td><td style=\"border: 1px solid white;\">0</td><td style=\"border: 1px solid white;\">59.900</td><td style=\"border: 1px solid white;\">1</td><td style=\"border: 1px solid white;\">No</td><td style=\"border: 1px solid white;\">0</td><td style=\"border: 1px solid white;\">0</td><td style=\"border: 1px solid white;\">0</td><td style=\"border: 1px solid white;\">Yes</td><td style=\"border: 1px solid white;\">No</td><td style=\"border: 1px solid white;\">0003-MKNFE</td></tr><tr style=\"{border: 1px solid white;}\"><td style=\"border-bottom: 1px solid #DDD;font-size:1.02em;background-color:#214579;color:white\"><b>2</b></td><td style=\"border: 1px solid white;\">Electronic check</td><td style=\"border: 1px solid white;\">No</td><td style=\"border: 1px solid white;\">Male</td><td style=\"border: 1px solid white;\">1</td><td style=\"border: 1px solid white;\">No</td><td style=\"border: 1px solid white;\">280.850</td><td style=\"border: 1px solid white;\">Month-to-month</td><td style=\"border: 1px solid white;\">4</td><td style=\"border: 1px solid white;\">Yes</td><td style=\"border: 1px solid white;\">No</td><td style=\"border: 1px solid white;\">Fiber optic</td><td style=\"border: 1px solid white;\">0</td><td style=\"border: 1px solid white;\">73.900</td><td style=\"border: 1px solid white;\">1</td><td style=\"border: 1px solid white;\">No</td><td style=\"border: 1px solid white;\">1</td><td style=\"border: 1px solid white;\">0</td><td style=\"border: 1px solid white;\">0</td><td style=\"border: 1px solid white;\">No</td><td style=\"border: 1px solid white;\">No</td><td style=\"border: 1px solid white;\">0004-TLHLJ</td></tr><tr style=\"{border: 1px solid white;}\"><td style=\"border-bottom: 1px solid #DDD;font-size:1.02em;background-color:#214579;color:white\"><b>3</b></td><td style=\"border: 1px solid white;\">Electronic check</td><td style=\"border: 1px solid white;\">Yes</td><td style=\"border: 1px solid white;\">Male</td><td style=\"border: 1px solid white;\">1</td><td style=\"border: 1px solid white;\">Yes</td><td style=\"border: 1px solid white;\">1237.850</td><td style=\"border: 1px solid white;\">Month-to-month</td><td style=\"border: 1px solid white;\">13</td><td style=\"border: 1px solid white;\">Yes</td><td style=\"border: 1px solid white;\">Yes</td><td style=\"border: 1px solid white;\">Fiber optic</td><td style=\"border: 1px solid white;\">0</td><td style=\"border: 1px solid white;\">98.000</td><td style=\"border: 1px solid white;\">1</td><td style=\"border: 1px solid white;\">No</td><td style=\"border: 1px solid white;\">1</td><td style=\"border: 1px solid white;\">1</td><td style=\"border: 1px solid white;\">1</td><td style=\"border: 1px solid white;\">No</td><td style=\"border: 1px solid white;\">No</td><td style=\"border: 1px solid white;\">0011-IGKFF</td></tr><tr style=\"{border: 1px solid white;}\"><td style=\"border-bottom: 1px solid #DDD;font-size:1.02em;background-color:#214579;color:white\"><b>4</b></td><td style=\"border: 1px solid white;\">Mailed check</td><td style=\"border: 1px solid white;\">No</td><td style=\"border: 1px solid white;\">Female</td><td style=\"border: 1px solid white;\">1</td><td style=\"border: 1px solid white;\">Yes</td><td style=\"border: 1px solid white;\">267.400</td><td style=\"border: 1px solid white;\">Month-to-month</td><td style=\"border: 1px solid white;\">3</td><td style=\"border: 1px solid white;\">No</td><td style=\"border: 1px solid white;\">No</td><td style=\"border: 1px solid white;\">Fiber optic</td><td style=\"border: 1px solid white;\">0</td><td style=\"border: 1px solid white;\">83.900</td><td style=\"border: 1px solid white;\">1</td><td style=\"border: 1px solid white;\">Yes</td><td style=\"border: 1px solid white;\">1</td><td style=\"border: 1px solid white;\">1</td><td style=\"border: 1px solid white;\">1</td><td style=\"border: 1px solid white;\">No</td><td style=\"border: 1px solid white;\">No</td><td style=\"border: 1px solid white;\">0013-EXCHZ</td></tr><tr><td style=\"border-top: 1px solid white;background-color:#214579;color:white\"></td><td style=\"border: 1px solid white;\">...</td><td style=\"border: 1px solid white;\">...</td><td style=\"border: 1px solid white;\">...</td><td style=\"border: 1px solid white;\">...</td><td style=\"border: 1px solid white;\">...</td><td style=\"border: 1px solid white;\">...</td><td style=\"border: 1px solid white;\">...</td><td style=\"border: 1px solid white;\">...</td><td style=\"border: 1px solid white;\">...</td><td style=\"border: 1px solid white;\">...</td><td style=\"border: 1px solid white;\">...</td><td style=\"border: 1px solid white;\">...</td><td style=\"border: 1px solid white;\">...</td><td style=\"border: 1px solid white;\">...</td><td style=\"border: 1px solid white;\">...</td><td style=\"border: 1px solid white;\">...</td><td style=\"border: 1px solid white;\">...</td><td style=\"border: 1px solid white;\">...</td><td style=\"border: 1px solid white;\">...</td><td style=\"border: 1px solid white;\">...</td><td style=\"border: 1px solid white;\">...</td></tr></table>"
      ],
      "text/plain": [
       "<IPython.core.display.HTML object>"
      ]
     },
     "metadata": {},
     "output_type": "display_data"
    },
    {
     "data": {
      "text/plain": [
       "<object>  Name: churn, Number of rows: 7043, Number of columns: 21"
      ]
     },
     "execution_count": 108,
     "metadata": {},
     "output_type": "execute_result"
    }
   ],
   "source": [
    "churn.bool_to_int()"
   ]
  },
  {
   "cell_type": "markdown",
   "metadata": {},
   "source": [
    "### See Also\n",
    "\n",
    "<table id=\"seealso\">\n",
    "    <tr><td><a href=\"../astype\">vDataFrame.astype</a></td> <td>Converts the vcolumns to the input types.</td></tr>\n",
    "</table>"
   ]
  }
 ],
 "metadata": {
  "kernelspec": {
   "display_name": "Python 3",
   "language": "python",
   "name": "python3"
  },
  "language_info": {
   "codemirror_mode": {
    "name": "ipython",
    "version": 3
   },
   "file_extension": ".py",
   "mimetype": "text/x-python",
   "name": "python",
   "nbconvert_exporter": "python",
   "pygments_lexer": "ipython3",
   "version": "3.6.3"
  }
 },
 "nbformat": 4,
 "nbformat_minor": 2
}
