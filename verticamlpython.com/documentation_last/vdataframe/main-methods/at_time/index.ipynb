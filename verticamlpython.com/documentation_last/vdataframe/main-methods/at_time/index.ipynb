{
 "cells": [
  {
   "cell_type": "markdown",
   "metadata": {},
   "source": [
    "# vDataFrame.at_time"
   ]
  },
  {
   "cell_type": "code",
   "execution_count": null,
   "metadata": {},
   "outputs": [],
   "source": [
    "vDataFrame.at_time(ts: str,\n",
    "                   time: str)"
   ]
  },
  {
   "cell_type": "markdown",
   "metadata": {},
   "source": [
    "Filters the vDataFrame by only keeping the records at the input time.\n",
    "\n",
    "### Parameters\n",
    "\n",
    "<table id=\"parameters\">\n",
    "    <tr> <th>Name</th> <th>Type</th> <th>Optional</th> <th>Description</th> </tr>\n",
    "    <tr> <td><div class=\"param_name\">ts</div></td> <td><div class=\"type\">str</div></td> <td><div class = \"no\">&#10060;</div></td> <td>TS (Time Series) vcolumn used to filter the data. The vcolumn type must be date like (date, datetime, timestamp...)</td> </tr>\n",
    "    <tr> <td><div class=\"param_name\">time</div></td> <td><div class=\"type\">str</div></td> <td><div class = \"no\">&#10060;</div></td> <td>Input Time. For example, time = '12:00' will filter the data when time('ts') is equal to 12:00.</td> </tr>\n",
    "</table>"
   ]
  },
  {
   "cell_type": "markdown",
   "metadata": {},
   "source": [
    "### Returns\n",
    "\n",
    "<b>vDataFrame</b> : self\n",
    "\n",
    "### Example"
   ]
  },
  {
   "cell_type": "code",
   "execution_count": 17,
   "metadata": {},
   "outputs": [
    {
     "data": {
      "text/html": [
       "<table style=\"border-collapse: collapse; border: 2px solid white\"><tr style=\"{border: 1px solid white;}\"><td style=\"border-bottom: 1px solid #DDD;font-size:1.02em;background-color:#214579;color:white\"><b></b></td><td style=\"font-size:1.02em;background-color:#214579;color:white\"><b>id</b></td><td style=\"font-size:1.02em;background-color:#214579;color:white\"><b>val</b></td><td style=\"font-size:1.02em;background-color:#214579;color:white\"><b>time</b></td></tr><tr style=\"{border: 1px solid white;}\"><td style=\"border-bottom: 1px solid #DDD;font-size:1.02em;background-color:#214579;color:white\"><b>0</b></td><td style=\"border: 1px solid white;\">2</td><td style=\"border: 1px solid white;\">0.0370000</td><td style=\"border: 1px solid white;\">2014-01-01 01:15:00</td></tr><tr style=\"{border: 1px solid white;}\"><td style=\"border-bottom: 1px solid #DDD;font-size:1.02em;background-color:#214579;color:white\"><b>1</b></td><td style=\"border: 1px solid white;\">5</td><td style=\"border: 1px solid white;\">0.0800000</td><td style=\"border: 1px solid white;\">2014-01-01 02:30:00</td></tr><tr style=\"{border: 1px solid white;}\"><td style=\"border-bottom: 1px solid #DDD;font-size:1.02em;background-color:#214579;color:white\"><b>2</b></td><td style=\"border: 1px solid white;\">1</td><td style=\"border: 1px solid white;\">0.0810000</td><td style=\"border: 1px solid white;\">2014-01-01 03:00:00</td></tr><tr style=\"{border: 1px solid white;}\"><td style=\"border-bottom: 1px solid #DDD;font-size:1.02em;background-color:#214579;color:white\"><b>3</b></td><td style=\"border: 1px solid white;\">3</td><td style=\"border: 1px solid white;\">1.4890000</td><td style=\"border: 1px solid white;\">2014-01-01 05:00:00</td></tr><tr style=\"{border: 1px solid white;}\"><td style=\"border-bottom: 1px solid #DDD;font-size:1.02em;background-color:#214579;color:white\"><b>4</b></td><td style=\"border: 1px solid white;\">5</td><td style=\"border: 1px solid white;\">0.0720000</td><td style=\"border: 1px solid white;\">2014-01-01 06:00:00</td></tr><tr><td style=\"border-top: 1px solid white;background-color:#214579;color:white\"></td><td style=\"border: 1px solid white;\">...</td><td style=\"border: 1px solid white;\">...</td><td style=\"border: 1px solid white;\">...</td></tr></table>"
      ],
      "text/plain": [
       "<IPython.core.display.HTML object>"
      ]
     },
     "metadata": {},
     "output_type": "display_data"
    },
    {
     "name": "stdout",
     "output_type": "stream",
     "text": [
      "<object>  Name: smart_meters, Number of rows: 11844, Number of columns: 3\n"
     ]
    }
   ],
   "source": [
    "from vertica_ml_python.learn.datasets import load_smart_meters\n",
    "sm = load_smart_meters()\n",
    "print(sm)"
   ]
  },
  {
   "cell_type": "code",
   "execution_count": 18,
   "metadata": {},
   "outputs": [
    {
     "name": "stdout",
     "output_type": "stream",
     "text": [
      "11704 element(s) was/were filtered\n"
     ]
    },
    {
     "data": {
      "text/html": [
       "<table style=\"border-collapse: collapse; border: 2px solid white\"><tr style=\"{border: 1px solid white;}\"><td style=\"border-bottom: 1px solid #DDD;font-size:1.02em;background-color:#214579;color:white\"><b></b></td><td style=\"font-size:1.02em;background-color:#214579;color:white\"><b>id</b></td><td style=\"font-size:1.02em;background-color:#214579;color:white\"><b>val</b></td><td style=\"font-size:1.02em;background-color:#214579;color:white\"><b>time</b></td></tr><tr style=\"{border: 1px solid white;}\"><td style=\"border-bottom: 1px solid #DDD;font-size:1.02em;background-color:#214579;color:white\"><b>0</b></td><td style=\"border: 1px solid white;\">2</td><td style=\"border: 1px solid white;\">0.0760000</td><td style=\"border: 1px solid white;\">2014-01-04 12:00:00</td></tr><tr style=\"{border: 1px solid white;}\"><td style=\"border-bottom: 1px solid #DDD;font-size:1.02em;background-color:#214579;color:white\"><b>1</b></td><td style=\"border: 1px solid white;\">6</td><td style=\"border: 1px solid white;\">0.1610000</td><td style=\"border: 1px solid white;\">2014-01-09 12:00:00</td></tr><tr style=\"{border: 1px solid white;}\"><td style=\"border-bottom: 1px solid #DDD;font-size:1.02em;background-color:#214579;color:white\"><b>2</b></td><td style=\"border: 1px solid white;\">9</td><td style=\"border: 1px solid white;\">0.0490000</td><td style=\"border: 1px solid white;\">2014-01-15 12:00:00</td></tr><tr style=\"{border: 1px solid white;}\"><td style=\"border-bottom: 1px solid #DDD;font-size:1.02em;background-color:#214579;color:white\"><b>3</b></td><td style=\"border: 1px solid white;\">4</td><td style=\"border: 1px solid white;\">0.0200000</td><td style=\"border: 1px solid white;\">2014-01-19 12:00:00</td></tr><tr style=\"{border: 1px solid white;}\"><td style=\"border-bottom: 1px solid #DDD;font-size:1.02em;background-color:#214579;color:white\"><b>4</b></td><td style=\"border: 1px solid white;\">7</td><td style=\"border: 1px solid white;\">0.1440000</td><td style=\"border: 1px solid white;\">2014-01-21 12:00:00</td></tr><tr><td style=\"border-top: 1px solid white;background-color:#214579;color:white\"></td><td style=\"border: 1px solid white;\">...</td><td style=\"border: 1px solid white;\">...</td><td style=\"border: 1px solid white;\">...</td></tr></table>"
      ],
      "text/plain": [
       "<IPython.core.display.HTML object>"
      ]
     },
     "metadata": {},
     "output_type": "display_data"
    },
    {
     "data": {
      "text/plain": [
       "<object>  Name: smart_meters, Number of rows: 140, Number of columns: 3"
      ]
     },
     "execution_count": 18,
     "metadata": {},
     "output_type": "execute_result"
    }
   ],
   "source": [
    "sm.at_time(ts = \"time\", time = \"12:00\")"
   ]
  },
  {
   "cell_type": "markdown",
   "metadata": {},
   "source": [
    "### See Also\n",
    "\n",
    "<table id=\"seealso\">\n",
    "    <tr><td><a href=\"../between_time\">vDataFrame.between_time</a></td> <td>Filters the data between two time ranges.</td></tr>\n",
    "    <tr><td><a href=\"../first\">vDataFrame.first</a></td> <td>Filters the data by only keeping the first records.</td></tr>\n",
    "    <tr><td><a href=\"../filter\">vDataFrame.filter</a></td> <td>Filters the data using the input expression.</td></tr>\n",
    "    <tr><td><a href=\"../last\">vDataFrame.last</a></td> <td>Filters the data by only keeping the last records.</td></tr>\n",
    "</table>"
   ]
  }
 ],
 "metadata": {
  "kernelspec": {
   "display_name": "Python 3",
   "language": "python",
   "name": "python3"
  },
  "language_info": {
   "codemirror_mode": {
    "name": "ipython",
    "version": 3
   },
   "file_extension": ".py",
   "mimetype": "text/x-python",
   "name": "python",
   "nbconvert_exporter": "python",
   "pygments_lexer": "ipython3",
   "version": "3.6.3"
  }
 },
 "nbformat": 4,
 "nbformat_minor": 2
}
