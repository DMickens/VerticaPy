{
 "cells": [
  {
   "cell_type": "markdown",
   "metadata": {},
   "source": [
    "# vDataFrame.cumprod"
   ]
  },
  {
   "cell_type": "code",
   "execution_count": null,
   "metadata": {},
   "outputs": [],
   "source": [
    "vDataFrame.cumprod(column: str, \n",
    "                   by: list = [], \n",
    "                   order_by = [],\n",
    "                   name: str = \"\")"
   ]
  },
  {
   "cell_type": "markdown",
   "metadata": {},
   "source": [
    "Adds a new vcolumn to the vDataFrame by computing the cumulative product of the input vcolumn."
   ]
  },
  {
   "cell_type": "markdown",
   "metadata": {},
   "source": [
    "### Parameters\n",
    "\n",
    "<table id=\"parameters\">\n",
    "    <tr> <th>Name</th> <th>Type</th> <th>Optional</th> <th>Description</th> </tr>\n",
    "    <tr> <td><div class=\"param_name\">column</div></td> <td><div class=\"type\">str</div></td> <td><div class = \"no\">&#10060;</div></td> <td>Input vcolumn.</td> </tr>\n",
    "    <tr> <td><div class=\"param_name\">by</div></td> <td><div class=\"type\">list</div></td> <td><div class = \"yes\">&#10003;</div></td> <td>vcolumns used in the partition.</td> </tr>\n",
    "    <tr> <td><div class=\"param_name\">order_by</div></td> <td><div class=\"type\">dict / list</div></td> <td><div class = \"yes\">&#10003;</div></td> <td>List of the vcolumns used to sort the data using asc order or dictionary of all the sorting methods. For example, to sort by \"column1\" ASC and \"column2\" DESC, write {\"column1\": \"asc\", \"column2\": \"desc\"}</td> </tr>\n",
    "    <tr> <td><div class=\"param_name\">name</div></td> <td><div class=\"type\">str</div></td> <td><div class = \"yes\">&#10003;</div></td> <td>Name of the new vcolumn. If empty, a default name will be generated.</td> </tr>\n",
    "</table>\n",
    "\n",
    "### Returns\n",
    "\n",
    "<b>vDataFrame</b> : self\n",
    "\n",
    "### Example"
   ]
  },
  {
   "cell_type": "code",
   "execution_count": 53,
   "metadata": {},
   "outputs": [
    {
     "name": "stdout",
     "output_type": "stream",
     "text": [
      "6292 element(s) was/were filtered\n"
     ]
    },
    {
     "data": {
      "text/html": [
       "<table style=\"border-collapse: collapse; border: 2px solid white\"><tr style=\"{border: 1px solid white;}\"><td style=\"border-bottom: 1px solid #DDD;font-size:1.02em;background-color:#214579;color:white\"><b></b></td><td style=\"font-size:1.02em;background-color:#214579;color:white\"><b>date</b></td><td style=\"font-size:1.02em;background-color:#214579;color:white\"><b>number</b></td><td style=\"font-size:1.02em;background-color:#214579;color:white\"><b>state</b></td></tr><tr style=\"{border: 1px solid white;}\"><td style=\"border-bottom: 1px solid #DDD;font-size:1.02em;background-color:#214579;color:white\"><b>0</b></td><td style=\"border: 1px solid white;\">2017-06-01</td><td style=\"border: 1px solid white;\">0</td><td style=\"border: 1px solid white;\">Paraiba</td></tr><tr style=\"{border: 1px solid white;}\"><td style=\"border-bottom: 1px solid #DDD;font-size:1.02em;background-color:#214579;color:white\"><b>1</b></td><td style=\"border: 1px solid white;\">2017-06-01</td><td style=\"border: 1px solid white;\">0</td><td style=\"border: 1px solid white;\">Sergipe</td></tr><tr style=\"{border: 1px solid white;}\"><td style=\"border-bottom: 1px solid #DDD;font-size:1.02em;background-color:#214579;color:white\"><b>2</b></td><td style=\"border: 1px solid white;\">2017-07-01</td><td style=\"border: 1px solid white;\">0</td><td style=\"border: 1px solid white;\">Alagoas</td></tr><tr style=\"{border: 1px solid white;}\"><td style=\"border-bottom: 1px solid #DDD;font-size:1.02em;background-color:#214579;color:white\"><b>3</b></td><td style=\"border: 1px solid white;\">2017-07-01</td><td style=\"border: 1px solid white;\">0</td><td style=\"border: 1px solid white;\">Sergipe</td></tr><tr style=\"{border: 1px solid white;}\"><td style=\"border-bottom: 1px solid #DDD;font-size:1.02em;background-color:#214579;color:white\"><b>4</b></td><td style=\"border: 1px solid white;\">2017-08-01</td><td style=\"border: 1px solid white;\">0</td><td style=\"border: 1px solid white;\">Sergipe</td></tr><tr><td style=\"border-top: 1px solid white;background-color:#214579;color:white\"></td><td style=\"border: 1px solid white;\">...</td><td style=\"border: 1px solid white;\">...</td><td style=\"border: 1px solid white;\">...</td></tr></table>"
      ],
      "text/plain": [
       "<IPython.core.display.HTML object>"
      ]
     },
     "metadata": {},
     "output_type": "display_data"
    },
    {
     "name": "stdout",
     "output_type": "stream",
     "text": [
      "<object>  Name: amazon, Number of rows: 162, Number of columns: 3\n"
     ]
    }
   ],
   "source": [
    "from vertica_ml_python.learn.datasets import load_amazon\n",
    "amazon = load_amazon().last(ts = \"date\", offset = \"6 months\")\n",
    "print(amazon)"
   ]
  },
  {
   "cell_type": "code",
   "execution_count": 54,
   "metadata": {},
   "outputs": [
    {
     "data": {
      "text/html": [
       "<table style=\"border-collapse: collapse; border: 2px solid white\"><tr style=\"{border: 1px solid white;}\"><td style=\"border-bottom: 1px solid #DDD;font-size:1.02em;background-color:#214579;color:white\"><b></b></td><td style=\"font-size:1.02em;background-color:#214579;color:white\"><b>date</b></td><td style=\"font-size:1.02em;background-color:#214579;color:white\"><b>number</b></td><td style=\"font-size:1.02em;background-color:#214579;color:white\"><b>state</b></td><td style=\"font-size:1.02em;background-color:#214579;color:white\"><b>cumprod_number</b></td></tr><tr style=\"{border: 1px solid white;}\"><td style=\"border-bottom: 1px solid #DDD;font-size:1.02em;background-color:#214579;color:white\"><b>0</b></td><td style=\"border: 1px solid white;\">2017-06-01</td><td style=\"border: 1px solid white;\">45</td><td style=\"border: 1px solid white;\">Acre</td><td style=\"border: 1px solid white;\">45.0</td></tr><tr style=\"{border: 1px solid white;}\"><td style=\"border-bottom: 1px solid #DDD;font-size:1.02em;background-color:#214579;color:white\"><b>1</b></td><td style=\"border: 1px solid white;\">2017-07-01</td><td style=\"border: 1px solid white;\">457</td><td style=\"border: 1px solid white;\">Acre</td><td style=\"border: 1px solid white;\">20565.0</td></tr><tr style=\"{border: 1px solid white;}\"><td style=\"border-bottom: 1px solid #DDD;font-size:1.02em;background-color:#214579;color:white\"><b>2</b></td><td style=\"border: 1px solid white;\">2017-08-01</td><td style=\"border: 1px solid white;\">1493</td><td style=\"border: 1px solid white;\">Acre</td><td style=\"border: 1px solid white;\">30703545.0</td></tr><tr style=\"{border: 1px solid white;}\"><td style=\"border-bottom: 1px solid #DDD;font-size:1.02em;background-color:#214579;color:white\"><b>3</b></td><td style=\"border: 1px solid white;\">2017-09-01</td><td style=\"border: 1px solid white;\">3429</td><td style=\"border: 1px solid white;\">Acre</td><td style=\"border: 1px solid white;\">105282455805.0</td></tr><tr style=\"{border: 1px solid white;}\"><td style=\"border-bottom: 1px solid #DDD;font-size:1.02em;background-color:#214579;color:white\"><b>4</b></td><td style=\"border: 1px solid white;\">2017-10-01</td><td style=\"border: 1px solid white;\">1508</td><td style=\"border: 1px solid white;\">Acre</td><td style=\"border: 1px solid white;\">158765943353940.0</td></tr><tr><td style=\"border-top: 1px solid white;background-color:#214579;color:white\"></td><td style=\"border: 1px solid white;\">...</td><td style=\"border: 1px solid white;\">...</td><td style=\"border: 1px solid white;\">...</td><td style=\"border: 1px solid white;\">...</td></tr></table>"
      ],
      "text/plain": [
       "<IPython.core.display.HTML object>"
      ]
     },
     "metadata": {},
     "output_type": "display_data"
    },
    {
     "data": {
      "text/plain": [
       "<object>  Name: amazon, Number of rows: 162, Number of columns: 4"
      ]
     },
     "execution_count": 54,
     "metadata": {},
     "output_type": "execute_result"
    }
   ],
   "source": [
    "amazon.cumprod(column = \"number\",\n",
    "               by = [\"state\"],\n",
    "               order_by = [\"date\"],\n",
    "               name = \"cumprod_number\")"
   ]
  },
  {
   "cell_type": "markdown",
   "metadata": {},
   "source": [
    "### See Also\n",
    "\n",
    "<table id=\"seealso\">\n",
    "    <tr><td><a href=\"../rolling\">vDataFrame.rolling</a></td> <td> Computes a customized moving window.</td></tr>\n",
    "</table>"
   ]
  }
 ],
 "metadata": {
  "kernelspec": {
   "display_name": "Python 3",
   "language": "python",
   "name": "python3"
  },
  "language_info": {
   "codemirror_mode": {
    "name": "ipython",
    "version": 3
   },
   "file_extension": ".py",
   "mimetype": "text/x-python",
   "name": "python",
   "nbconvert_exporter": "python",
   "pygments_lexer": "ipython3",
   "version": "3.6.3"
  }
 },
 "nbformat": 4,
 "nbformat_minor": 2
}
