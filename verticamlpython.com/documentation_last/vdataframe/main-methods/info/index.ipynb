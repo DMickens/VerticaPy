{
 "cells": [
  {
   "cell_type": "markdown",
   "metadata": {},
   "source": [
    "# vDataFrame.info"
   ]
  },
  {
   "cell_type": "code",
   "execution_count": null,
   "metadata": {},
   "outputs": [],
   "source": [
    "vDataFrame.info()"
   ]
  },
  {
   "cell_type": "markdown",
   "metadata": {},
   "source": [
    "Displays information about the different vDataFrame transformations."
   ]
  },
  {
   "cell_type": "markdown",
   "metadata": {},
   "source": [
    "### Returns\n",
    "\n",
    "<b>vDataFrame</b> : self\n",
    "\n",
    "### Example"
   ]
  },
  {
   "cell_type": "code",
   "execution_count": 1,
   "metadata": {},
   "outputs": [
    {
     "data": {
      "text/html": [
       "<table style=\"border-collapse: collapse; border: 2px solid white\"><tr style=\"{border: 1px solid white;}\"><td style=\"border-bottom: 1px solid #DDD;font-size:1.02em;background-color:#214579;color:white\"><b></b></td><td style=\"font-size:1.02em;background-color:#214579;color:white\"><b>fare</b></td><td style=\"font-size:1.02em;background-color:#214579;color:white\"><b>sex</b></td><td style=\"font-size:1.02em;background-color:#214579;color:white\"><b>body</b></td><td style=\"font-size:1.02em;background-color:#214579;color:white\"><b>pclass</b></td><td style=\"font-size:1.02em;background-color:#214579;color:white\"><b>age</b></td><td style=\"font-size:1.02em;background-color:#214579;color:white\"><b>name</b></td><td style=\"font-size:1.02em;background-color:#214579;color:white\"><b>cabin</b></td><td style=\"font-size:1.02em;background-color:#214579;color:white\"><b>parch</b></td><td style=\"font-size:1.02em;background-color:#214579;color:white\"><b>survived</b></td><td style=\"font-size:1.02em;background-color:#214579;color:white\"><b>boat</b></td><td style=\"font-size:1.02em;background-color:#214579;color:white\"><b>ticket</b></td><td style=\"font-size:1.02em;background-color:#214579;color:white\"><b>embarked</b></td><td style=\"font-size:1.02em;background-color:#214579;color:white\"><b>home.dest</b></td><td style=\"font-size:1.02em;background-color:#214579;color:white\"><b>sibsp</b></td></tr><tr style=\"{border: 1px solid white;}\"><td style=\"border-bottom: 1px solid #DDD;font-size:1.02em;background-color:#214579;color:white\"><b>0</b></td><td style=\"border: 1px solid white;\">151.55000</td><td style=\"border: 1px solid white;\">female</td><td style=\"border: 1px solid white;\">None</td><td style=\"border: 1px solid white;\">1</td><td style=\"border: 1px solid white;\">2.000</td><td style=\"border: 1px solid white;\">Allison, Miss. Helen Loraine</td><td style=\"border: 1px solid white;\">C22 C26</td><td style=\"border: 1px solid white;\">2</td><td style=\"border: 1px solid white;\">0</td><td style=\"border: 1px solid white;\">None</td><td style=\"border: 1px solid white;\">113781</td><td style=\"border: 1px solid white;\">S</td><td style=\"border: 1px solid white;\">Montreal, PQ / Chesterville, ON</td><td style=\"border: 1px solid white;\">1</td></tr><tr style=\"{border: 1px solid white;}\"><td style=\"border-bottom: 1px solid #DDD;font-size:1.02em;background-color:#214579;color:white\"><b>1</b></td><td style=\"border: 1px solid white;\">151.55000</td><td style=\"border: 1px solid white;\">male</td><td style=\"border: 1px solid white;\">135</td><td style=\"border: 1px solid white;\">1</td><td style=\"border: 1px solid white;\">30.000</td><td style=\"border: 1px solid white;\">Allison, Mr. Hudson Joshua Creighton</td><td style=\"border: 1px solid white;\">C22 C26</td><td style=\"border: 1px solid white;\">2</td><td style=\"border: 1px solid white;\">0</td><td style=\"border: 1px solid white;\">None</td><td style=\"border: 1px solid white;\">113781</td><td style=\"border: 1px solid white;\">S</td><td style=\"border: 1px solid white;\">Montreal, PQ / Chesterville, ON</td><td style=\"border: 1px solid white;\">1</td></tr><tr style=\"{border: 1px solid white;}\"><td style=\"border-bottom: 1px solid #DDD;font-size:1.02em;background-color:#214579;color:white\"><b>2</b></td><td style=\"border: 1px solid white;\">151.55000</td><td style=\"border: 1px solid white;\">female</td><td style=\"border: 1px solid white;\">None</td><td style=\"border: 1px solid white;\">1</td><td style=\"border: 1px solid white;\">25.000</td><td style=\"border: 1px solid white;\">Allison, Mrs. Hudson J C (Bessie Waldo Daniels)</td><td style=\"border: 1px solid white;\">C22 C26</td><td style=\"border: 1px solid white;\">2</td><td style=\"border: 1px solid white;\">0</td><td style=\"border: 1px solid white;\">None</td><td style=\"border: 1px solid white;\">113781</td><td style=\"border: 1px solid white;\">S</td><td style=\"border: 1px solid white;\">Montreal, PQ / Chesterville, ON</td><td style=\"border: 1px solid white;\">1</td></tr><tr style=\"{border: 1px solid white;}\"><td style=\"border-bottom: 1px solid #DDD;font-size:1.02em;background-color:#214579;color:white\"><b>3</b></td><td style=\"border: 1px solid white;\">0.00000</td><td style=\"border: 1px solid white;\">male</td><td style=\"border: 1px solid white;\">None</td><td style=\"border: 1px solid white;\">1</td><td style=\"border: 1px solid white;\">39.000</td><td style=\"border: 1px solid white;\">Andrews, Mr. Thomas Jr</td><td style=\"border: 1px solid white;\">A36</td><td style=\"border: 1px solid white;\">0</td><td style=\"border: 1px solid white;\">0</td><td style=\"border: 1px solid white;\">None</td><td style=\"border: 1px solid white;\">112050</td><td style=\"border: 1px solid white;\">S</td><td style=\"border: 1px solid white;\">Belfast, NI</td><td style=\"border: 1px solid white;\">0</td></tr><tr style=\"{border: 1px solid white;}\"><td style=\"border-bottom: 1px solid #DDD;font-size:1.02em;background-color:#214579;color:white\"><b>4</b></td><td style=\"border: 1px solid white;\">49.50420</td><td style=\"border: 1px solid white;\">male</td><td style=\"border: 1px solid white;\">22</td><td style=\"border: 1px solid white;\">1</td><td style=\"border: 1px solid white;\">71.000</td><td style=\"border: 1px solid white;\">Artagaveytia, Mr. Ramon</td><td style=\"border: 1px solid white;\">None</td><td style=\"border: 1px solid white;\">0</td><td style=\"border: 1px solid white;\">0</td><td style=\"border: 1px solid white;\">None</td><td style=\"border: 1px solid white;\">PC 17609</td><td style=\"border: 1px solid white;\">C</td><td style=\"border: 1px solid white;\">Montevideo, Uruguay</td><td style=\"border: 1px solid white;\">0</td></tr><tr><td style=\"border-top: 1px solid white;background-color:#214579;color:white\"></td><td style=\"border: 1px solid white;\">...</td><td style=\"border: 1px solid white;\">...</td><td style=\"border: 1px solid white;\">...</td><td style=\"border: 1px solid white;\">...</td><td style=\"border: 1px solid white;\">...</td><td style=\"border: 1px solid white;\">...</td><td style=\"border: 1px solid white;\">...</td><td style=\"border: 1px solid white;\">...</td><td style=\"border: 1px solid white;\">...</td><td style=\"border: 1px solid white;\">...</td><td style=\"border: 1px solid white;\">...</td><td style=\"border: 1px solid white;\">...</td><td style=\"border: 1px solid white;\">...</td><td style=\"border: 1px solid white;\">...</td></tr></table>"
      ],
      "text/plain": [
       "<IPython.core.display.HTML object>"
      ]
     },
     "metadata": {},
     "output_type": "display_data"
    },
    {
     "name": "stdout",
     "output_type": "stream",
     "text": [
      "<object>  Name: titanic, Number of rows: 1234, Number of columns: 14\n"
     ]
    }
   ],
   "source": [
    "from vertica_ml_python.learn.datasets import load_titanic\n",
    "titanic = load_titanic()\n",
    "print(titanic)"
   ]
  },
  {
   "cell_type": "code",
   "execution_count": 2,
   "metadata": {},
   "outputs": [
    {
     "name": "stdout",
     "output_type": "stream",
     "text": [
      "The vDataFrame was modified many times: \n",
      " * {Mon Apr 27 17:53:48 2020} [Get Dummies]: One hot encoder was applied to the vcolumn \"sex\"\n",
      "1 feature(s) was/were created: \"sex_female\".\n",
      " * {Mon Apr 27 17:53:48 2020} [Get Dummies]: One hot encoder was applied to the vcolumn \"pclass\"\n",
      "2 feature(s) was/were created: \"pclass_1\", \"pclass_2\".\n",
      " * {Mon Apr 27 17:53:48 2020} [Get Dummies]: One hot encoder was applied to the vcolumn \"parch\"\n",
      "7 feature(s) was/were created: \"parch_0\", \"parch_1\", \"parch_2\", \"parch_3\", \"parch_4\", \"parch_5\", \"parch_6\".\n",
      " * {Mon Apr 27 17:53:48 2020} [Get Dummies]: One hot encoder was applied to the vcolumn \"embarked\"\n",
      "2 feature(s) was/were created: \"embarked_C\", \"embarked_Q\".\n",
      " * {Mon Apr 27 17:53:48 2020} [Get Dummies]: One hot encoder was applied to the vcolumn \"sibsp\"\n",
      "6 feature(s) was/were created: \"sibsp_0\", \"sibsp_1\", \"sibsp_2\", \"sibsp_3\", \"sibsp_4\", \"sibsp_5\".\n",
      " * {Mon Apr 27 17:53:48 2020} [Normalize]: The vcolumn '\"fare\"' was normalized with the method 'minmax'.\n",
      " * {Mon Apr 27 17:53:48 2020} [Normalize]: The vcolumn '\"body\"' was normalized with the method 'minmax'.\n",
      " * {Mon Apr 27 17:53:48 2020} [Normalize]: The vcolumn '\"pclass\"' was normalized with the method 'minmax'.\n",
      " * {Mon Apr 27 17:53:48 2020} [Normalize]: The vcolumn '\"age\"' was normalized with the method 'minmax'.\n",
      " * {Mon Apr 27 17:53:48 2020} [Normalize]: The vcolumn '\"parch\"' was normalized with the method 'minmax'.\n",
      " * {Mon Apr 27 17:53:48 2020} [Normalize]: The vcolumn '\"survived\"' was normalized with the method 'minmax'.\n",
      " * {Mon Apr 27 17:53:48 2020} [Normalize]: The vcolumn '\"sibsp\"' was normalized with the method 'minmax'.\n",
      " * {Mon Apr 27 17:53:48 2020} [Normalize]: The vcolumn '\"sex_female\"' was normalized with the method 'minmax'.\n",
      " * {Mon Apr 27 17:53:48 2020} [Normalize]: The vcolumn '\"pclass_1\"' was normalized with the method 'minmax'.\n",
      " * {Mon Apr 27 17:53:48 2020} [Normalize]: The vcolumn '\"pclass_2\"' was normalized with the method 'minmax'.\n",
      " * {Mon Apr 27 17:53:48 2020} [Normalize]: The vcolumn '\"parch_0\"' was normalized with the method 'minmax'.\n",
      " * {Mon Apr 27 17:53:48 2020} [Normalize]: The vcolumn '\"parch_1\"' was normalized with the method 'minmax'.\n",
      " * {Mon Apr 27 17:53:48 2020} [Normalize]: The vcolumn '\"parch_2\"' was normalized with the method 'minmax'.\n",
      " * {Mon Apr 27 17:53:48 2020} [Normalize]: The vcolumn '\"parch_3\"' was normalized with the method 'minmax'.\n",
      " * {Mon Apr 27 17:53:48 2020} [Normalize]: The vcolumn '\"parch_4\"' was normalized with the method 'minmax'.\n",
      " * {Mon Apr 27 17:53:48 2020} [Normalize]: The vcolumn '\"parch_5\"' was normalized with the method 'minmax'.\n",
      " * {Mon Apr 27 17:53:48 2020} [Normalize]: The vcolumn '\"parch_6\"' was normalized with the method 'minmax'.\n",
      " * {Mon Apr 27 17:53:48 2020} [Normalize]: The vcolumn '\"embarked_C\"' was normalized with the method 'minmax'.\n",
      " * {Mon Apr 27 17:53:48 2020} [Normalize]: The vcolumn '\"embarked_Q\"' was normalized with the method 'minmax'.\n",
      " * {Mon Apr 27 17:53:48 2020} [Normalize]: The vcolumn '\"sibsp_0\"' was normalized with the method 'minmax'.\n",
      " * {Mon Apr 27 17:53:48 2020} [Normalize]: The vcolumn '\"sibsp_1\"' was normalized with the method 'minmax'.\n",
      " * {Mon Apr 27 17:53:48 2020} [Normalize]: The vcolumn '\"sibsp_2\"' was normalized with the method 'minmax'.\n",
      " * {Mon Apr 27 17:53:48 2020} [Normalize]: The vcolumn '\"sibsp_3\"' was normalized with the method 'minmax'.\n",
      " * {Mon Apr 27 17:53:48 2020} [Normalize]: The vcolumn '\"sibsp_4\"' was normalized with the method 'minmax'.\n",
      " * {Mon Apr 27 17:53:48 2020} [Normalize]: The vcolumn '\"sibsp_5\"' was normalized with the method 'minmax'.\n"
     ]
    },
    {
     "data": {
      "text/html": [
       "<table style=\"border-collapse: collapse; border: 2px solid white\"><tr style=\"{border: 1px solid white;}\"><td style=\"border-bottom: 1px solid #DDD;font-size:1.02em;background-color:#214579;color:white\"><b></b></td><td style=\"font-size:1.02em;background-color:#214579;color:white\"><b>fare</b></td><td style=\"font-size:1.02em;background-color:#214579;color:white\"><b>sex</b></td><td style=\"font-size:1.02em;background-color:#214579;color:white\"><b>body</b></td><td style=\"font-size:1.02em;background-color:#214579;color:white\"><b>pclass</b></td><td style=\"font-size:1.02em;background-color:#214579;color:white\"><b>age</b></td><td style=\"font-size:1.02em;background-color:#214579;color:white\"><b>name</b></td><td style=\"font-size:1.02em;background-color:#214579;color:white\"><b>cabin</b></td><td style=\"font-size:1.02em;background-color:#214579;color:white\"><b>parch</b></td><td style=\"font-size:1.02em;background-color:#214579;color:white\"><b>survived</b></td><td style=\"font-size:1.02em;background-color:#214579;color:white\"><b>boat</b></td><td style=\"font-size:1.02em;background-color:#214579;color:white\"><b>ticket</b></td><td style=\"font-size:1.02em;background-color:#214579;color:white\"><b>embarked</b></td><td style=\"font-size:1.02em;background-color:#214579;color:white\"><b>home.dest</b></td><td style=\"font-size:1.02em;background-color:#214579;color:white\"><b>sibsp</b></td><td style=\"font-size:1.02em;background-color:#214579;color:white\"><b>sex_female</b></td><td style=\"font-size:1.02em;background-color:#214579;color:white\"><b>pclass_1</b></td><td style=\"font-size:1.02em;background-color:#214579;color:white\"><b>pclass_2</b></td><td style=\"font-size:1.02em;background-color:#214579;color:white\"><b>parch_0</b></td><td style=\"font-size:1.02em;background-color:#214579;color:white\"><b>parch_1</b></td><td style=\"font-size:1.02em;background-color:#214579;color:white\"><b>parch_2</b></td><td style=\"font-size:1.02em;background-color:#214579;color:white\"><b>parch_3</b></td><td style=\"font-size:1.02em;background-color:#214579;color:white\"><b>parch_4</b></td><td style=\"font-size:1.02em;background-color:#214579;color:white\"><b>parch_5</b></td><td style=\"font-size:1.02em;background-color:#214579;color:white\"><b>parch_6</b></td><td style=\"font-size:1.02em;background-color:#214579;color:white\"><b>embarked_C</b></td><td style=\"font-size:1.02em;background-color:#214579;color:white\"><b>embarked_Q</b></td><td style=\"font-size:1.02em;background-color:#214579;color:white\"><b>sibsp_0</b></td><td style=\"font-size:1.02em;background-color:#214579;color:white\"><b>sibsp_1</b></td><td style=\"font-size:1.02em;background-color:#214579;color:white\"><b>sibsp_2</b></td><td style=\"font-size:1.02em;background-color:#214579;color:white\"><b>sibsp_3</b></td><td style=\"font-size:1.02em;background-color:#214579;color:white\"><b>sibsp_4</b></td><td style=\"font-size:1.02em;background-color:#214579;color:white\"><b>sibsp_5</b></td></tr><tr style=\"{border: 1px solid white;}\"><td style=\"border-bottom: 1px solid #DDD;font-size:1.02em;background-color:#214579;color:white\"><b>0</b></td><td style=\"border: 1px solid white;\">0.295805899800363</td><td style=\"border: 1px solid white;\">female</td><td style=\"border: 1px solid white;\">None</td><td style=\"border: 1px solid white;\">0E-15</td><td style=\"border: 1px solid white;\">0.020961466047446</td><td style=\"border: 1px solid white;\">Allison, Miss. Helen Loraine</td><td style=\"border: 1px solid white;\">C22 C26</td><td style=\"border: 1px solid white;\">0.222222222222222</td><td style=\"border: 1px solid white;\">0E-15</td><td style=\"border: 1px solid white;\">None</td><td style=\"border: 1px solid white;\">113781</td><td style=\"border: 1px solid white;\">S</td><td style=\"border: 1px solid white;\">Montreal, PQ / Chesterville, ON</td><td style=\"border: 1px solid white;\">0.125000000000000</td><td style=\"border: 1px solid white;\">1.000000000000000</td><td style=\"border: 1px solid white;\">1.000000000000000</td><td style=\"border: 1px solid white;\">0E-15</td><td style=\"border: 1px solid white;\">0E-15</td><td style=\"border: 1px solid white;\">0E-15</td><td style=\"border: 1px solid white;\">1.000000000000000</td><td style=\"border: 1px solid white;\">0E-15</td><td style=\"border: 1px solid white;\">0E-15</td><td style=\"border: 1px solid white;\">0E-15</td><td style=\"border: 1px solid white;\">0E-15</td><td style=\"border: 1px solid white;\">0E-15</td><td style=\"border: 1px solid white;\">0E-15</td><td style=\"border: 1px solid white;\">0E-15</td><td style=\"border: 1px solid white;\">1.000000000000000</td><td style=\"border: 1px solid white;\">0E-15</td><td style=\"border: 1px solid white;\">0E-15</td><td style=\"border: 1px solid white;\">0E-15</td><td style=\"border: 1px solid white;\">0E-15</td></tr><tr style=\"{border: 1px solid white;}\"><td style=\"border-bottom: 1px solid #DDD;font-size:1.02em;background-color:#214579;color:white\"><b>1</b></td><td style=\"border: 1px solid white;\">0.295805899800363</td><td style=\"border: 1px solid white;\">male</td><td style=\"border: 1px solid white;\">0.409785932721713</td><td style=\"border: 1px solid white;\">0E-15</td><td style=\"border: 1px solid white;\">0.372411196184260</td><td style=\"border: 1px solid white;\">Allison, Mr. Hudson Joshua Creighton</td><td style=\"border: 1px solid white;\">C22 C26</td><td style=\"border: 1px solid white;\">0.222222222222222</td><td style=\"border: 1px solid white;\">0E-15</td><td style=\"border: 1px solid white;\">None</td><td style=\"border: 1px solid white;\">113781</td><td style=\"border: 1px solid white;\">S</td><td style=\"border: 1px solid white;\">Montreal, PQ / Chesterville, ON</td><td style=\"border: 1px solid white;\">0.125000000000000</td><td style=\"border: 1px solid white;\">0E-15</td><td style=\"border: 1px solid white;\">1.000000000000000</td><td style=\"border: 1px solid white;\">0E-15</td><td style=\"border: 1px solid white;\">0E-15</td><td style=\"border: 1px solid white;\">0E-15</td><td style=\"border: 1px solid white;\">1.000000000000000</td><td style=\"border: 1px solid white;\">0E-15</td><td style=\"border: 1px solid white;\">0E-15</td><td style=\"border: 1px solid white;\">0E-15</td><td style=\"border: 1px solid white;\">0E-15</td><td style=\"border: 1px solid white;\">0E-15</td><td style=\"border: 1px solid white;\">0E-15</td><td style=\"border: 1px solid white;\">0E-15</td><td style=\"border: 1px solid white;\">1.000000000000000</td><td style=\"border: 1px solid white;\">0E-15</td><td style=\"border: 1px solid white;\">0E-15</td><td style=\"border: 1px solid white;\">0E-15</td><td style=\"border: 1px solid white;\">0E-15</td></tr><tr style=\"{border: 1px solid white;}\"><td style=\"border-bottom: 1px solid #DDD;font-size:1.02em;background-color:#214579;color:white\"><b>2</b></td><td style=\"border: 1px solid white;\">0.295805899800363</td><td style=\"border: 1px solid white;\">female</td><td style=\"border: 1px solid white;\">None</td><td style=\"border: 1px solid white;\">0E-15</td><td style=\"border: 1px solid white;\">0.309652315802686</td><td style=\"border: 1px solid white;\">Allison, Mrs. Hudson J C (Bessie Waldo Daniels)</td><td style=\"border: 1px solid white;\">C22 C26</td><td style=\"border: 1px solid white;\">0.222222222222222</td><td style=\"border: 1px solid white;\">0E-15</td><td style=\"border: 1px solid white;\">None</td><td style=\"border: 1px solid white;\">113781</td><td style=\"border: 1px solid white;\">S</td><td style=\"border: 1px solid white;\">Montreal, PQ / Chesterville, ON</td><td style=\"border: 1px solid white;\">0.125000000000000</td><td style=\"border: 1px solid white;\">1.000000000000000</td><td style=\"border: 1px solid white;\">1.000000000000000</td><td style=\"border: 1px solid white;\">0E-15</td><td style=\"border: 1px solid white;\">0E-15</td><td style=\"border: 1px solid white;\">0E-15</td><td style=\"border: 1px solid white;\">1.000000000000000</td><td style=\"border: 1px solid white;\">0E-15</td><td style=\"border: 1px solid white;\">0E-15</td><td style=\"border: 1px solid white;\">0E-15</td><td style=\"border: 1px solid white;\">0E-15</td><td style=\"border: 1px solid white;\">0E-15</td><td style=\"border: 1px solid white;\">0E-15</td><td style=\"border: 1px solid white;\">0E-15</td><td style=\"border: 1px solid white;\">1.000000000000000</td><td style=\"border: 1px solid white;\">0E-15</td><td style=\"border: 1px solid white;\">0E-15</td><td style=\"border: 1px solid white;\">0E-15</td><td style=\"border: 1px solid white;\">0E-15</td></tr><tr style=\"{border: 1px solid white;}\"><td style=\"border-bottom: 1px solid #DDD;font-size:1.02em;background-color:#214579;color:white\"><b>3</b></td><td style=\"border: 1px solid white;\">0E-15</td><td style=\"border: 1px solid white;\">male</td><td style=\"border: 1px solid white;\">None</td><td style=\"border: 1px solid white;\">0E-15</td><td style=\"border: 1px solid white;\">0.485377180871093</td><td style=\"border: 1px solid white;\">Andrews, Mr. Thomas Jr</td><td style=\"border: 1px solid white;\">A36</td><td style=\"border: 1px solid white;\">0E-15</td><td style=\"border: 1px solid white;\">0E-15</td><td style=\"border: 1px solid white;\">None</td><td style=\"border: 1px solid white;\">112050</td><td style=\"border: 1px solid white;\">S</td><td style=\"border: 1px solid white;\">Belfast, NI</td><td style=\"border: 1px solid white;\">0E-15</td><td style=\"border: 1px solid white;\">0E-15</td><td style=\"border: 1px solid white;\">1.000000000000000</td><td style=\"border: 1px solid white;\">0E-15</td><td style=\"border: 1px solid white;\">1.000000000000000</td><td style=\"border: 1px solid white;\">0E-15</td><td style=\"border: 1px solid white;\">0E-15</td><td style=\"border: 1px solid white;\">0E-15</td><td style=\"border: 1px solid white;\">0E-15</td><td style=\"border: 1px solid white;\">0E-15</td><td style=\"border: 1px solid white;\">0E-15</td><td style=\"border: 1px solid white;\">0E-15</td><td style=\"border: 1px solid white;\">0E-15</td><td style=\"border: 1px solid white;\">1.000000000000000</td><td style=\"border: 1px solid white;\">0E-15</td><td style=\"border: 1px solid white;\">0E-15</td><td style=\"border: 1px solid white;\">0E-15</td><td style=\"border: 1px solid white;\">0E-15</td><td style=\"border: 1px solid white;\">0E-15</td></tr><tr style=\"{border: 1px solid white;}\"><td style=\"border-bottom: 1px solid #DDD;font-size:1.02em;background-color:#214579;color:white\"><b>4</b></td><td style=\"border: 1px solid white;\">0.096625763278767</td><td style=\"border: 1px solid white;\">male</td><td style=\"border: 1px solid white;\">0.064220183486239</td><td style=\"border: 1px solid white;\">0E-15</td><td style=\"border: 1px solid white;\">0.887034015313167</td><td style=\"border: 1px solid white;\">Artagaveytia, Mr. Ramon</td><td style=\"border: 1px solid white;\">None</td><td style=\"border: 1px solid white;\">0E-15</td><td style=\"border: 1px solid white;\">0E-15</td><td style=\"border: 1px solid white;\">None</td><td style=\"border: 1px solid white;\">PC 17609</td><td style=\"border: 1px solid white;\">C</td><td style=\"border: 1px solid white;\">Montevideo, Uruguay</td><td style=\"border: 1px solid white;\">0E-15</td><td style=\"border: 1px solid white;\">0E-15</td><td style=\"border: 1px solid white;\">1.000000000000000</td><td style=\"border: 1px solid white;\">0E-15</td><td style=\"border: 1px solid white;\">1.000000000000000</td><td style=\"border: 1px solid white;\">0E-15</td><td style=\"border: 1px solid white;\">0E-15</td><td style=\"border: 1px solid white;\">0E-15</td><td style=\"border: 1px solid white;\">0E-15</td><td style=\"border: 1px solid white;\">0E-15</td><td style=\"border: 1px solid white;\">0E-15</td><td style=\"border: 1px solid white;\">1.000000000000000</td><td style=\"border: 1px solid white;\">0E-15</td><td style=\"border: 1px solid white;\">1.000000000000000</td><td style=\"border: 1px solid white;\">0E-15</td><td style=\"border: 1px solid white;\">0E-15</td><td style=\"border: 1px solid white;\">0E-15</td><td style=\"border: 1px solid white;\">0E-15</td><td style=\"border: 1px solid white;\">0E-15</td></tr><tr><td style=\"border-top: 1px solid white;background-color:#214579;color:white\"></td><td style=\"border: 1px solid white;\">...</td><td style=\"border: 1px solid white;\">...</td><td style=\"border: 1px solid white;\">...</td><td style=\"border: 1px solid white;\">...</td><td style=\"border: 1px solid white;\">...</td><td style=\"border: 1px solid white;\">...</td><td style=\"border: 1px solid white;\">...</td><td style=\"border: 1px solid white;\">...</td><td style=\"border: 1px solid white;\">...</td><td style=\"border: 1px solid white;\">...</td><td style=\"border: 1px solid white;\">...</td><td style=\"border: 1px solid white;\">...</td><td style=\"border: 1px solid white;\">...</td><td style=\"border: 1px solid white;\">...</td><td style=\"border: 1px solid white;\">...</td><td style=\"border: 1px solid white;\">...</td><td style=\"border: 1px solid white;\">...</td><td style=\"border: 1px solid white;\">...</td><td style=\"border: 1px solid white;\">...</td><td style=\"border: 1px solid white;\">...</td><td style=\"border: 1px solid white;\">...</td><td style=\"border: 1px solid white;\">...</td><td style=\"border: 1px solid white;\">...</td><td style=\"border: 1px solid white;\">...</td><td style=\"border: 1px solid white;\">...</td><td style=\"border: 1px solid white;\">...</td><td style=\"border: 1px solid white;\">...</td><td style=\"border: 1px solid white;\">...</td><td style=\"border: 1px solid white;\">...</td><td style=\"border: 1px solid white;\">...</td><td style=\"border: 1px solid white;\">...</td><td style=\"border: 1px solid white;\">...</td></tr></table>"
      ],
      "text/plain": [
       "<IPython.core.display.HTML object>"
      ]
     },
     "metadata": {},
     "output_type": "display_data"
    },
    {
     "data": {
      "text/plain": [
       "<object>  Name: titanic, Number of rows: 1234, Number of columns: 32"
      ]
     },
     "execution_count": 2,
     "metadata": {},
     "output_type": "execute_result"
    }
   ],
   "source": [
    "# Doing some transformations\n",
    "titanic.get_dummies()\n",
    "titanic.normalize(method = \"minmax\")\n",
    "# Printing all the transformations\n",
    "titanic.info()"
   ]
  }
 ],
 "metadata": {
  "kernelspec": {
   "display_name": "Python 3",
   "language": "python",
   "name": "python3"
  },
  "language_info": {
   "codemirror_mode": {
    "name": "ipython",
    "version": 3
   },
   "file_extension": ".py",
   "mimetype": "text/x-python",
   "name": "python",
   "nbconvert_exporter": "python",
   "pygments_lexer": "ipython3",
   "version": "3.6.3"
  }
 },
 "nbformat": 4,
 "nbformat_minor": 2
}
