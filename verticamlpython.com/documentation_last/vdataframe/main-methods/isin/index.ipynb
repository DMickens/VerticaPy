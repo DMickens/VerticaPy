{
 "cells": [
  {
   "cell_type": "markdown",
   "metadata": {},
   "source": [
    "# vDataFrame.isin"
   ]
  },
  {
   "cell_type": "code",
   "execution_count": null,
   "metadata": {},
   "outputs": [],
   "source": [
    "vDataFrame.isin(val: dict)"
   ]
  },
  {
   "cell_type": "markdown",
   "metadata": {},
   "source": [
    "Looks if some specific records are in the vDataFrame.\n",
    "\n",
    "### Parameters\n",
    "\n",
    "<table id=\"parameters\">\n",
    "    <tr> <th>Name</th> <th>Type</th> <th>Optional</th> <th>Description</th> </tr>\n",
    "    <tr> <td><div class=\"param_name\">val</div></td> <td><div class=\"type\">dict</div></td> <td><div class = \"no\">&#10060;</div></td> <td>Dictionary of the different records. Each key of the dictionary must represent a vcolumn. For example, to check if Badr Ouali and Fouad Teban are in the vDataFrame. You can write the following dict: {\"name\": [\"Teban\", \"Ouali\"], \"surname\": [\"Fouad\", \"Badr\"]}</td> </tr>\n",
    "</table>"
   ]
  },
  {
   "cell_type": "markdown",
   "metadata": {},
   "source": [
    "### Returns\n",
    "\n",
    "<b>list</b> : List containing the bools of the different searches.\n",
    "\n",
    "### Example"
   ]
  },
  {
   "cell_type": "code",
   "execution_count": 11,
   "metadata": {},
   "outputs": [
    {
     "data": {
      "text/html": [
       "<table style=\"border-collapse: collapse; border: 2px solid white\"><tr style=\"{border: 1px solid white;}\"><td style=\"border-bottom: 1px solid #DDD;font-size:1.02em;background-color:#263133;color:white\"><b></b></td><td style=\"font-size:1.02em;background-color:#263133;color:white\"><b>date</b></td><td style=\"font-size:1.02em;background-color:#263133;color:white\"><b>number</b></td><td style=\"font-size:1.02em;background-color:#263133;color:white\"><b>state</b></td></tr><tr style=\"{border: 1px solid white;}\"><td style=\"border-bottom: 1px solid #DDD;font-size:1.02em;background-color:#263133;color:white\"><b>0</b></td><td style=\"border: 1px solid white;\">1998-01-01</td><td style=\"border: 1px solid white;\">0</td><td style=\"border: 1px solid white;\">Acre</td></tr><tr style=\"{border: 1px solid white;}\"><td style=\"border-bottom: 1px solid #DDD;font-size:1.02em;background-color:#263133;color:white\"><b>1</b></td><td style=\"border: 1px solid white;\">1998-01-01</td><td style=\"border: 1px solid white;\">0</td><td style=\"border: 1px solid white;\">Alagoas</td></tr><tr style=\"{border: 1px solid white;}\"><td style=\"border-bottom: 1px solid #DDD;font-size:1.02em;background-color:#263133;color:white\"><b>2</b></td><td style=\"border: 1px solid white;\">1998-01-01</td><td style=\"border: 1px solid white;\">0</td><td style=\"border: 1px solid white;\">Amapa</td></tr><tr style=\"{border: 1px solid white;}\"><td style=\"border-bottom: 1px solid #DDD;font-size:1.02em;background-color:#263133;color:white\"><b>3</b></td><td style=\"border: 1px solid white;\">1998-01-01</td><td style=\"border: 1px solid white;\">0</td><td style=\"border: 1px solid white;\">Amazonas</td></tr><tr style=\"{border: 1px solid white;}\"><td style=\"border-bottom: 1px solid #DDD;font-size:1.02em;background-color:#263133;color:white\"><b>4</b></td><td style=\"border: 1px solid white;\">1998-01-01</td><td style=\"border: 1px solid white;\">0</td><td style=\"border: 1px solid white;\">Bahia</td></tr><tr><td style=\"border-top: 1px solid white;background-color:#263133;color:white\"></td><td style=\"border: 1px solid white;\">...</td><td style=\"border: 1px solid white;\">...</td><td style=\"border: 1px solid white;\">...</td></tr></table>"
      ],
      "text/plain": [
       "<IPython.core.display.HTML object>"
      ]
     },
     "metadata": {},
     "output_type": "display_data"
    },
    {
     "name": "stdout",
     "output_type": "stream",
     "text": [
      "<object>  Name: amazon, Number of rows: 6454, Number of columns: 3\n"
     ]
    }
   ],
   "source": [
    "from vertica_ml_python.learn.datasets import load_amazon\n",
    "amazon = load_amazon()\n",
    "print(amazon)"
   ]
  },
  {
   "cell_type": "code",
   "execution_count": 12,
   "metadata": {},
   "outputs": [
    {
     "data": {
      "text/plain": [
       "[True, True]"
      ]
     },
     "execution_count": 12,
     "metadata": {},
     "output_type": "execute_result"
    }
   ],
   "source": [
    "# Looking if Rio and Acre had at least one month without forest fires\n",
    "amazon.isin({\"state\": [\"Rio\", \"Acre\"], \"number\": [0, 0]})"
   ]
  }
 ],
 "metadata": {
  "kernelspec": {
   "display_name": "Python 3",
   "language": "python",
   "name": "python3"
  },
  "language_info": {
   "codemirror_mode": {
    "name": "ipython",
    "version": 3
   },
   "file_extension": ".py",
   "mimetype": "text/x-python",
   "name": "python",
   "nbconvert_exporter": "python",
   "pygments_lexer": "ipython3",
   "version": "3.6.3"
  }
 },
 "nbformat": 4,
 "nbformat_minor": 2
}
