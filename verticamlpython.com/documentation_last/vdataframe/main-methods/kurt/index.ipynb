{
 "cells": [
  {
   "cell_type": "markdown",
   "metadata": {},
   "source": [
    "# vDataFrame.kurt / kurtosis"
   ]
  },
  {
   "cell_type": "code",
   "execution_count": null,
   "metadata": {},
   "outputs": [],
   "source": [
    "vDataFrame.kurt(columns: list = [])"
   ]
  },
  {
   "cell_type": "markdown",
   "metadata": {},
   "source": [
    "Aggregates the vDataFrame using 'kurtosis'.\n",
    "\n",
    "### Parameters\n",
    "\n",
    "<table id=\"parameters\">\n",
    "    <tr> <th>Name</th> <th>Type</th> <th>Optional</th> <th>Description</th> </tr>\n",
    "    <tr> <td><div class=\"param_name\">columns</div></td> <td><div class=\"type\">list</div></td> <td><div class = \"yes\">&#10003;</div></td> <td>List of the vcolumns names. If empty, all the numerical vcolumns will be used.</td> </tr>\n",
    "</table>"
   ]
  },
  {
   "cell_type": "markdown",
   "metadata": {},
   "source": [
    "### Returns\n",
    "\n",
    "<a href=\"../../../utilities/tablesample\">tablesample</a> : An object containing the result. For more information, see <a href=\"../../../utilities/tablesample\">utilities.tablesample</a>.\n",
    "\n",
    "### Example"
   ]
  },
  {
   "cell_type": "code",
   "execution_count": 2,
   "metadata": {},
   "outputs": [
    {
     "data": {
      "text/html": [
       "<table style=\"border-collapse: collapse; border: 2px solid white\"><tr style=\"{border: 1px solid white;}\"><td style=\"border-bottom: 1px solid #DDD;font-size:1.02em;background-color:#214579;color:white\"><b></b></td><td style=\"font-size:1.02em;background-color:#214579;color:white\"><b>fare</b></td><td style=\"font-size:1.02em;background-color:#214579;color:white\"><b>sex</b></td><td style=\"font-size:1.02em;background-color:#214579;color:white\"><b>body</b></td><td style=\"font-size:1.02em;background-color:#214579;color:white\"><b>pclass</b></td><td style=\"font-size:1.02em;background-color:#214579;color:white\"><b>age</b></td><td style=\"font-size:1.02em;background-color:#214579;color:white\"><b>name</b></td><td style=\"font-size:1.02em;background-color:#214579;color:white\"><b>cabin</b></td><td style=\"font-size:1.02em;background-color:#214579;color:white\"><b>parch</b></td><td style=\"font-size:1.02em;background-color:#214579;color:white\"><b>survived</b></td><td style=\"font-size:1.02em;background-color:#214579;color:white\"><b>boat</b></td><td style=\"font-size:1.02em;background-color:#214579;color:white\"><b>ticket</b></td><td style=\"font-size:1.02em;background-color:#214579;color:white\"><b>embarked</b></td><td style=\"font-size:1.02em;background-color:#214579;color:white\"><b>home.dest</b></td><td style=\"font-size:1.02em;background-color:#214579;color:white\"><b>sibsp</b></td></tr><tr style=\"{border: 1px solid white;}\"><td style=\"border-bottom: 1px solid #DDD;font-size:1.02em;background-color:#214579;color:white\"><b>0</b></td><td style=\"border: 1px solid white;\">151.55000</td><td style=\"border: 1px solid white;\">female</td><td style=\"border: 1px solid white;\">None</td><td style=\"border: 1px solid white;\">1</td><td style=\"border: 1px solid white;\">2.000</td><td style=\"border: 1px solid white;\">Allison, Miss. Helen Loraine</td><td style=\"border: 1px solid white;\">C22 C26</td><td style=\"border: 1px solid white;\">2</td><td style=\"border: 1px solid white;\">0</td><td style=\"border: 1px solid white;\">None</td><td style=\"border: 1px solid white;\">113781</td><td style=\"border: 1px solid white;\">S</td><td style=\"border: 1px solid white;\">Montreal, PQ / Chesterville, ON</td><td style=\"border: 1px solid white;\">1</td></tr><tr style=\"{border: 1px solid white;}\"><td style=\"border-bottom: 1px solid #DDD;font-size:1.02em;background-color:#214579;color:white\"><b>1</b></td><td style=\"border: 1px solid white;\">151.55000</td><td style=\"border: 1px solid white;\">male</td><td style=\"border: 1px solid white;\">135</td><td style=\"border: 1px solid white;\">1</td><td style=\"border: 1px solid white;\">30.000</td><td style=\"border: 1px solid white;\">Allison, Mr. Hudson Joshua Creighton</td><td style=\"border: 1px solid white;\">C22 C26</td><td style=\"border: 1px solid white;\">2</td><td style=\"border: 1px solid white;\">0</td><td style=\"border: 1px solid white;\">None</td><td style=\"border: 1px solid white;\">113781</td><td style=\"border: 1px solid white;\">S</td><td style=\"border: 1px solid white;\">Montreal, PQ / Chesterville, ON</td><td style=\"border: 1px solid white;\">1</td></tr><tr style=\"{border: 1px solid white;}\"><td style=\"border-bottom: 1px solid #DDD;font-size:1.02em;background-color:#214579;color:white\"><b>2</b></td><td style=\"border: 1px solid white;\">151.55000</td><td style=\"border: 1px solid white;\">female</td><td style=\"border: 1px solid white;\">None</td><td style=\"border: 1px solid white;\">1</td><td style=\"border: 1px solid white;\">25.000</td><td style=\"border: 1px solid white;\">Allison, Mrs. Hudson J C (Bessie Waldo Daniels)</td><td style=\"border: 1px solid white;\">C22 C26</td><td style=\"border: 1px solid white;\">2</td><td style=\"border: 1px solid white;\">0</td><td style=\"border: 1px solid white;\">None</td><td style=\"border: 1px solid white;\">113781</td><td style=\"border: 1px solid white;\">S</td><td style=\"border: 1px solid white;\">Montreal, PQ / Chesterville, ON</td><td style=\"border: 1px solid white;\">1</td></tr><tr style=\"{border: 1px solid white;}\"><td style=\"border-bottom: 1px solid #DDD;font-size:1.02em;background-color:#214579;color:white\"><b>3</b></td><td style=\"border: 1px solid white;\">0.00000</td><td style=\"border: 1px solid white;\">male</td><td style=\"border: 1px solid white;\">None</td><td style=\"border: 1px solid white;\">1</td><td style=\"border: 1px solid white;\">39.000</td><td style=\"border: 1px solid white;\">Andrews, Mr. Thomas Jr</td><td style=\"border: 1px solid white;\">A36</td><td style=\"border: 1px solid white;\">0</td><td style=\"border: 1px solid white;\">0</td><td style=\"border: 1px solid white;\">None</td><td style=\"border: 1px solid white;\">112050</td><td style=\"border: 1px solid white;\">S</td><td style=\"border: 1px solid white;\">Belfast, NI</td><td style=\"border: 1px solid white;\">0</td></tr><tr style=\"{border: 1px solid white;}\"><td style=\"border-bottom: 1px solid #DDD;font-size:1.02em;background-color:#214579;color:white\"><b>4</b></td><td style=\"border: 1px solid white;\">49.50420</td><td style=\"border: 1px solid white;\">male</td><td style=\"border: 1px solid white;\">22</td><td style=\"border: 1px solid white;\">1</td><td style=\"border: 1px solid white;\">71.000</td><td style=\"border: 1px solid white;\">Artagaveytia, Mr. Ramon</td><td style=\"border: 1px solid white;\">None</td><td style=\"border: 1px solid white;\">0</td><td style=\"border: 1px solid white;\">0</td><td style=\"border: 1px solid white;\">None</td><td style=\"border: 1px solid white;\">PC 17609</td><td style=\"border: 1px solid white;\">C</td><td style=\"border: 1px solid white;\">Montevideo, Uruguay</td><td style=\"border: 1px solid white;\">0</td></tr><tr><td style=\"border-top: 1px solid white;background-color:#214579;color:white\"></td><td style=\"border: 1px solid white;\">...</td><td style=\"border: 1px solid white;\">...</td><td style=\"border: 1px solid white;\">...</td><td style=\"border: 1px solid white;\">...</td><td style=\"border: 1px solid white;\">...</td><td style=\"border: 1px solid white;\">...</td><td style=\"border: 1px solid white;\">...</td><td style=\"border: 1px solid white;\">...</td><td style=\"border: 1px solid white;\">...</td><td style=\"border: 1px solid white;\">...</td><td style=\"border: 1px solid white;\">...</td><td style=\"border: 1px solid white;\">...</td><td style=\"border: 1px solid white;\">...</td><td style=\"border: 1px solid white;\">...</td></tr></table>"
      ],
      "text/plain": [
       "<IPython.core.display.HTML object>"
      ]
     },
     "metadata": {},
     "output_type": "display_data"
    },
    {
     "name": "stdout",
     "output_type": "stream",
     "text": [
      "<object>  Name: titanic, Number of rows: 1234, Number of columns: 14\n"
     ]
    }
   ],
   "source": [
    "from vertica_ml_python.learn.datasets import load_titanic\n",
    "titanic = load_titanic()\n",
    "print(titanic)"
   ]
  },
  {
   "cell_type": "code",
   "execution_count": 3,
   "metadata": {},
   "outputs": [
    {
     "data": {
      "text/html": [
       "<table style=\"border-collapse: collapse; border: 2px solid white\"><tr style=\"{border: 1px solid white;}\"><td style=\"border-bottom: 1px solid #DDD;font-size:1.02em;background-color:#214579;color:white\"><b></b></td><td style=\"font-size:1.02em;background-color:#214579;color:white\"><b>kurtosis</b></td></tr><tr style=\"{border: 1px solid white;}\"><td style=\"border-bottom: 1px solid #DDD;font-size:1.02em;background-color:#214579;color:white\"><b>\"age\"</b></td><td style=\"border: 1px solid white;\">0.15689691331997</td></tr><tr style=\"{border: 1px solid white;}\"><td style=\"border-bottom: 1px solid #DDD;font-size:1.02em;background-color:#214579;color:white\"><b>\"fare\"</b></td><td style=\"border: 1px solid white;\">26.2543152552867</td></tr><tr style=\"{border: 1px solid white;}\"><td style=\"border-bottom: 1px solid #DDD;font-size:1.02em;background-color:#214579;color:white\"><b>\"parch\"</b></td><td style=\"border: 1px solid white;\">22.6438022640172</td></tr></table>"
      ],
      "text/plain": [
       "<IPython.core.display.HTML object>"
      ]
     },
     "metadata": {},
     "output_type": "display_data"
    },
    {
     "data": {
      "text/plain": [
       "<object>"
      ]
     },
     "execution_count": 3,
     "metadata": {},
     "output_type": "execute_result"
    }
   ],
   "source": [
    "titanic.kurt(columns = [\"age\", \"fare\", \"parch\"])"
   ]
  },
  {
   "cell_type": "markdown",
   "metadata": {},
   "source": [
    "### See Also\n",
    "\n",
    "<table id=\"seealso\">\n",
    "    <tr><td><a href=\"../agg\">vDataFrame.aggregate</a></td> <td>Computes the vDataFrame input aggregations.</td></tr>\n",
    "</table>"
   ]
  }
 ],
 "metadata": {
  "kernelspec": {
   "display_name": "Python 3",
   "language": "python",
   "name": "python3"
  },
  "language_info": {
   "codemirror_mode": {
    "name": "ipython",
    "version": 3
   },
   "file_extension": ".py",
   "mimetype": "text/x-python",
   "name": "python",
   "nbconvert_exporter": "python",
   "pygments_lexer": "ipython3",
   "version": "3.6.3"
  }
 },
 "nbformat": 4,
 "nbformat_minor": 2
}
