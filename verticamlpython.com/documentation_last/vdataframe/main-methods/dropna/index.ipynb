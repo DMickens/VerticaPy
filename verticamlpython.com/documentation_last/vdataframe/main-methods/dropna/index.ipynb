{
 "cells": [
  {
   "cell_type": "markdown",
   "metadata": {},
   "source": [
    "# vDataFrame.dropna"
   ]
  },
  {
   "cell_type": "code",
   "execution_count": null,
   "metadata": {},
   "outputs": [],
   "source": [
    "vDataFrame.dropna(columns: list = [], \n",
    "                  print_info: bool = True)"
   ]
  },
  {
   "cell_type": "markdown",
   "metadata": {},
   "source": [
    "Filters the vDataFrame where the input vcolumns are missing.\n",
    "\n",
    "### Parameters\n",
    "\n",
    "<table id=\"parameters\">\n",
    "    <tr> <th>Name</th> <th>Type</th> <th>Optional</th> <th>Description</th> </tr>\n",
    "    <tr> <td><div class=\"param_name\">columns</div></td> <td><div class=\"type\">list</div></td> <td><div class = \"yes\">&#10003;</div></td> <td>List of the vcolumns names. If empty, all the vcolumns will be selected.</td> </tr>\n",
    "    <tr> <td><div class=\"param_name\">print_info</div></td> <td><div class=\"type\">bool</div></td> <td><div class = \"yes\">&#10003;</div></td> <td>If set to True, it will display the result.</td> </tr>\n",
    "</table>"
   ]
  },
  {
   "cell_type": "markdown",
   "metadata": {},
   "source": [
    "### Returns\n",
    "\n",
    "<b>vDataFrame</b> : self\n",
    "\n",
    "### Example"
   ]
  },
  {
   "cell_type": "code",
   "execution_count": 40,
   "metadata": {},
   "outputs": [
    {
     "data": {
      "text/html": [
       "<table style=\"border-collapse: collapse; border: 2px solid white\"><tr style=\"{border: 1px solid white;}\"><td style=\"border-bottom: 1px solid #DDD;font-size:1.02em;background-color:#263133;color:white\"><b></b></td><td style=\"font-size:1.02em;background-color:#263133;color:white\"><b>count</b></td><td style=\"font-size:1.02em;background-color:#263133;color:white\"><b>percent</b></td></tr><tr style=\"{border: 1px solid white;}\"><td style=\"border-bottom: 1px solid #DDD;font-size:1.02em;background-color:#263133;color:white\"><b>\"survived\"</b></td><td style=\"border: 1px solid white;\">1234.0</td><td style=\"border: 1px solid white;\">100.0</td></tr><tr style=\"{border: 1px solid white;}\"><td style=\"border-bottom: 1px solid #DDD;font-size:1.02em;background-color:#263133;color:white\"><b>\"ticket\"</b></td><td style=\"border: 1px solid white;\">1234.0</td><td style=\"border: 1px solid white;\">100.0</td></tr><tr style=\"{border: 1px solid white;}\"><td style=\"border-bottom: 1px solid #DDD;font-size:1.02em;background-color:#263133;color:white\"><b>\"sibsp\"</b></td><td style=\"border: 1px solid white;\">1234.0</td><td style=\"border: 1px solid white;\">100.0</td></tr><tr style=\"{border: 1px solid white;}\"><td style=\"border-bottom: 1px solid #DDD;font-size:1.02em;background-color:#263133;color:white\"><b>\"sex\"</b></td><td style=\"border: 1px solid white;\">1234.0</td><td style=\"border: 1px solid white;\">100.0</td></tr><tr style=\"{border: 1px solid white;}\"><td style=\"border-bottom: 1px solid #DDD;font-size:1.02em;background-color:#263133;color:white\"><b>\"pclass\"</b></td><td style=\"border: 1px solid white;\">1234.0</td><td style=\"border: 1px solid white;\">100.0</td></tr><tr style=\"{border: 1px solid white;}\"><td style=\"border-bottom: 1px solid #DDD;font-size:1.02em;background-color:#263133;color:white\"><b>\"name\"</b></td><td style=\"border: 1px solid white;\">1234.0</td><td style=\"border: 1px solid white;\">100.0</td></tr><tr style=\"{border: 1px solid white;}\"><td style=\"border-bottom: 1px solid #DDD;font-size:1.02em;background-color:#263133;color:white\"><b>\"parch\"</b></td><td style=\"border: 1px solid white;\">1234.0</td><td style=\"border: 1px solid white;\">100.0</td></tr><tr style=\"{border: 1px solid white;}\"><td style=\"border-bottom: 1px solid #DDD;font-size:1.02em;background-color:#263133;color:white\"><b>\"fare\"</b></td><td style=\"border: 1px solid white;\">1233.0</td><td style=\"border: 1px solid white;\">99.919</td></tr><tr style=\"{border: 1px solid white;}\"><td style=\"border-bottom: 1px solid #DDD;font-size:1.02em;background-color:#263133;color:white\"><b>\"embarked\"</b></td><td style=\"border: 1px solid white;\">1232.0</td><td style=\"border: 1px solid white;\">99.838</td></tr><tr style=\"{border: 1px solid white;}\"><td style=\"border-bottom: 1px solid #DDD;font-size:1.02em;background-color:#263133;color:white\"><b>\"age\"</b></td><td style=\"border: 1px solid white;\">997.0</td><td style=\"border: 1px solid white;\">80.794</td></tr><tr style=\"{border: 1px solid white;}\"><td style=\"border-bottom: 1px solid #DDD;font-size:1.02em;background-color:#263133;color:white\"><b>\"home.dest\"</b></td><td style=\"border: 1px solid white;\">706.0</td><td style=\"border: 1px solid white;\">57.212</td></tr><tr style=\"{border: 1px solid white;}\"><td style=\"border-bottom: 1px solid #DDD;font-size:1.02em;background-color:#263133;color:white\"><b>\"boat\"</b></td><td style=\"border: 1px solid white;\">439.0</td><td style=\"border: 1px solid white;\">35.575</td></tr><tr style=\"{border: 1px solid white;}\"><td style=\"border-bottom: 1px solid #DDD;font-size:1.02em;background-color:#263133;color:white\"><b>\"cabin\"</b></td><td style=\"border: 1px solid white;\">286.0</td><td style=\"border: 1px solid white;\">23.177</td></tr><tr style=\"{border: 1px solid white;}\"><td style=\"border-bottom: 1px solid #DDD;font-size:1.02em;background-color:#263133;color:white\"><b>\"body\"</b></td><td style=\"border: 1px solid white;\">118.0</td><td style=\"border: 1px solid white;\">9.562</td></tr></table>"
      ],
      "text/plain": [
       "<IPython.core.display.HTML object>"
      ]
     },
     "metadata": {},
     "output_type": "display_data"
    },
    {
     "data": {
      "text/plain": [
       "<object>"
      ]
     },
     "execution_count": 40,
     "metadata": {},
     "output_type": "execute_result"
    }
   ],
   "source": [
    "from vertica_ml_python.learn.datasets import load_titanic\n",
    "titanic = load_titanic()\n",
    "titanic.count()"
   ]
  },
  {
   "cell_type": "code",
   "execution_count": 41,
   "metadata": {},
   "outputs": [
    {
     "name": "stdout",
     "output_type": "stream",
     "text": [
      "240 element(s) was/were dropped\n"
     ]
    },
    {
     "data": {
      "text/html": [
       "<table style=\"border-collapse: collapse; border: 2px solid white\"><tr style=\"{border: 1px solid white;}\"><td style=\"border-bottom: 1px solid #DDD;font-size:1.02em;background-color:#263133;color:white\"><b></b></td><td style=\"font-size:1.02em;background-color:#263133;color:white\"><b>count</b></td><td style=\"font-size:1.02em;background-color:#263133;color:white\"><b>percent</b></td></tr><tr style=\"{border: 1px solid white;}\"><td style=\"border-bottom: 1px solid #DDD;font-size:1.02em;background-color:#263133;color:white\"><b>\"survived\"</b></td><td style=\"border: 1px solid white;\">994.0</td><td style=\"border: 1px solid white;\">100.0</td></tr><tr style=\"{border: 1px solid white;}\"><td style=\"border-bottom: 1px solid #DDD;font-size:1.02em;background-color:#263133;color:white\"><b>\"ticket\"</b></td><td style=\"border: 1px solid white;\">994.0</td><td style=\"border: 1px solid white;\">100.0</td></tr><tr style=\"{border: 1px solid white;}\"><td style=\"border-bottom: 1px solid #DDD;font-size:1.02em;background-color:#263133;color:white\"><b>\"embarked\"</b></td><td style=\"border: 1px solid white;\">994.0</td><td style=\"border: 1px solid white;\">100.0</td></tr><tr style=\"{border: 1px solid white;}\"><td style=\"border-bottom: 1px solid #DDD;font-size:1.02em;background-color:#263133;color:white\"><b>\"sibsp\"</b></td><td style=\"border: 1px solid white;\">994.0</td><td style=\"border: 1px solid white;\">100.0</td></tr><tr style=\"{border: 1px solid white;}\"><td style=\"border-bottom: 1px solid #DDD;font-size:1.02em;background-color:#263133;color:white\"><b>\"fare\"</b></td><td style=\"border: 1px solid white;\">994.0</td><td style=\"border: 1px solid white;\">100.0</td></tr><tr style=\"{border: 1px solid white;}\"><td style=\"border-bottom: 1px solid #DDD;font-size:1.02em;background-color:#263133;color:white\"><b>\"sex\"</b></td><td style=\"border: 1px solid white;\">994.0</td><td style=\"border: 1px solid white;\">100.0</td></tr><tr style=\"{border: 1px solid white;}\"><td style=\"border-bottom: 1px solid #DDD;font-size:1.02em;background-color:#263133;color:white\"><b>\"pclass\"</b></td><td style=\"border: 1px solid white;\">994.0</td><td style=\"border: 1px solid white;\">100.0</td></tr><tr style=\"{border: 1px solid white;}\"><td style=\"border-bottom: 1px solid #DDD;font-size:1.02em;background-color:#263133;color:white\"><b>\"age\"</b></td><td style=\"border: 1px solid white;\">994.0</td><td style=\"border: 1px solid white;\">100.0</td></tr><tr style=\"{border: 1px solid white;}\"><td style=\"border-bottom: 1px solid #DDD;font-size:1.02em;background-color:#263133;color:white\"><b>\"name\"</b></td><td style=\"border: 1px solid white;\">994.0</td><td style=\"border: 1px solid white;\">100.0</td></tr><tr style=\"{border: 1px solid white;}\"><td style=\"border-bottom: 1px solid #DDD;font-size:1.02em;background-color:#263133;color:white\"><b>\"parch\"</b></td><td style=\"border: 1px solid white;\">994.0</td><td style=\"border: 1px solid white;\">100.0</td></tr><tr style=\"{border: 1px solid white;}\"><td style=\"border-bottom: 1px solid #DDD;font-size:1.02em;background-color:#263133;color:white\"><b>\"home.dest\"</b></td><td style=\"border: 1px solid white;\">648.0</td><td style=\"border: 1px solid white;\">65.191</td></tr><tr style=\"{border: 1px solid white;}\"><td style=\"border-bottom: 1px solid #DDD;font-size:1.02em;background-color:#263133;color:white\"><b>\"boat\"</b></td><td style=\"border: 1px solid white;\">380.0</td><td style=\"border: 1px solid white;\">38.229</td></tr><tr style=\"{border: 1px solid white;}\"><td style=\"border-bottom: 1px solid #DDD;font-size:1.02em;background-color:#263133;color:white\"><b>\"cabin\"</b></td><td style=\"border: 1px solid white;\">261.0</td><td style=\"border: 1px solid white;\">26.258</td></tr><tr style=\"{border: 1px solid white;}\"><td style=\"border-bottom: 1px solid #DDD;font-size:1.02em;background-color:#263133;color:white\"><b>\"body\"</b></td><td style=\"border: 1px solid white;\">116.0</td><td style=\"border: 1px solid white;\">11.67</td></tr></table>"
      ],
      "text/plain": [
       "<IPython.core.display.HTML object>"
      ]
     },
     "metadata": {},
     "output_type": "display_data"
    },
    {
     "data": {
      "text/plain": [
       "<object>"
      ]
     },
     "execution_count": 41,
     "metadata": {},
     "output_type": "execute_result"
    }
   ],
   "source": [
    "titanic.dropna(columns = [\"fare\", \"embarked\", \"age\"])\n",
    "titanic.count()"
   ]
  },
  {
   "cell_type": "markdown",
   "metadata": {},
   "source": [
    "### See Also\n",
    "\n",
    "<table id=\"seealso\">\n",
    "    <tr><td><a href=\"../filter\">vDataFrame.filter</a></td> <td>Filters the data using the input expression.</td></tr>\n",
    "</table>"
   ]
  }
 ],
 "metadata": {
  "kernelspec": {
   "display_name": "Python 3",
   "language": "python",
   "name": "python3"
  },
  "language_info": {
   "codemirror_mode": {
    "name": "ipython",
    "version": 3
   },
   "file_extension": ".py",
   "mimetype": "text/x-python",
   "name": "python",
   "nbconvert_exporter": "python",
   "pygments_lexer": "ipython3",
   "version": "3.6.3"
  }
 },
 "nbformat": 4,
 "nbformat_minor": 2
}
