{
 "cells": [
  {
   "cell_type": "markdown",
   "metadata": {},
   "source": [
    "# vDataFrame.analytic"
   ]
  },
  {
   "cell_type": "code",
   "execution_count": null,
   "metadata": {},
   "outputs": [],
   "source": [
    "vDataFrame.analytic(func: str, \n",
    "                    column: str = \"\",\n",
    "                    by: list = [], \n",
    "                    order_by = [], \n",
    "                    column2: str = \"\", \n",
    "                    name: str = \"\",\n",
    "                    offset: int = 1,\n",
    "                    x_smoothing: float = 0.5,\n",
    "                    add_count: bool = True)"
   ]
  },
  {
   "cell_type": "markdown",
   "metadata": {},
   "source": [
    "Adds a new vcolumn to the vDataFrame by using an advanced analytical function on one or two specific vcolumns."
   ]
  },
  {
   "cell_type": "markdown",
   "metadata": {},
   "source": [
    "### Parameters\n",
    "\n",
    "<table id=\"parameters\">\n",
    "    <tr> <th>Name</th> <th>Type</th> <th>Optional</th> <th>Description</th> </tr>\n",
    "    <tr> <td><div class=\"param_name\">func</div></td> <td><div class=\"type\">str</div></td> <td><div class = \"no\">&#10060;</div></td> <td>Function to use.<br>\n",
    "                                                    <ul>\n",
    "                                                        <li><b>beta :</b> Beta Coefficient between 2 vcolumns</li>\n",
    "                                                        <li><b>count :</b> number of non-missing elements</li>\n",
    "                                                        <li><b>corr :</b> Pearson correlation between 2 vcolumns</li>\n",
    "                                                        <li><b>cov :</b> covariance between 2 vcolumns</li>\n",
    "                                                        <li><b>ema :</b> exponential moving average</li>\n",
    "                                                        <li><b>first_value :</b> first non null lead</li>\n",
    "                                                        <li><b>iqr :</b> interquartile range</li>\n",
    "                                                        <li><b>dense_rank :</b> dense rank</li>\n",
    "                                                        <li><b>kurtosis :</b> kurtosis</li>\n",
    "                                                        <li><b>jb :</b> Jarque Bera index </li>\n",
    "                                                        <li><b>lead :</b> next element</li>\n",
    "                                                        <li><b>lag :</b> previous element</li>\n",
    "                                                        <li><b>last_value :</b> first non null lag</li>\n",
    "                                                        <li><b>mad :</b> median absolute deviation</li>\n",
    "                                                        <li><b>mae :</b> mean absolute error (deviation)</li>\n",
    "                                                        <li><b>max :</b> maximum</li>\n",
    "                                                        <li><b>mean :</b> average</li>\n",
    "                                                        <li><b>median :</b> median</li>\n",
    "                                                        <li><b>min :</b> min</li>\n",
    "                                                        <li><b>mode :</b> most occurent element</li>\n",
    "                                                        <li><b>q% :</b> q quantile (ex: 50% for the median)</li>\n",
    "                                                        <li><b>pct_change :</b> ratio between the current value and the previous one</li>\n",
    "                                                        <li><b>percent_rank :</b> percent rank</li>\n",
    "                                                        <li><b>prod :</b> product</li>\n",
    "                                                        <li><b>range :</b> difference between the max and the min</li>\n",
    "                                                        <li><b>rank :</b> rank</li>\n",
    "                                                        <li><b>row_number :</b> row number</li>\n",
    "                                                        <li><b>sem :</b> standard error of the mean</li>\n",
    "                                                        <li><b>skewness :</b> skewness</li>\n",
    "                                                        <li><b>sum :</b> sum</li>\n",
    "                                                        <li><b>std :</b> standard deviation</li>\n",
    "                                                        <li><b>unique :</b> cardinality (count distinct)</li>\n",
    "                                                        <li><b>var :</b> variance</li></ul>\n",
    "                                                        Other analytical functions could work if it is part of the DB version you are using.</td> </tr>\n",
    "    <tr> <td><div class=\"param_name\">column</div></td> <td><div class=\"type\">str</div></td> <td><div class = \"yes\">&#10003;</div></td> <td>Input vcolumn.</td> </tr>\n",
    "     <tr> <td><div class=\"param_name\">by</div></td> <td><div class=\"type\">list</div></td> <td><div class = \"yes\">&#10003;</div></td> <td>vcolumns used in the partition.</td> </tr>\n",
    "    <tr> <td><div class=\"param_name\">order_by</div></td> <td><div class=\"type\">dict / list</div></td> <td><div class = \"yes\">&#10003;</div></td> <td>List of the vcolumns used to sort the data using asc order or dictionary of all the sorting methods. For example, to sort by \"column1\" ASC and \"column2\" DESC, write {\"column1\": \"asc\", \"column2\": \"desc\"}</td> </tr>\n",
    "    <tr> <td><div class=\"param_name\">column2</div></td> <td><div class=\"type\">str</div></td> <td><div class = \"yes\">&#10003;</div></td> <td>Second input vcolumn in case of functions using 2 parameters.</td> </tr>\n",
    "    <tr> <td><div class=\"param_name\">name</div></td> <td><div class=\"type\">str</div></td> <td><div class = \"yes\">&#10003;</div></td> <td>Name of the new vcolumn. If empty a default name based on the other parameters will be generated.</td> </tr>\n",
    "    <tr> <td><div class=\"param_name\">offset</div></td> <td><div class=\"type\">int</div></td> <td><div class = \"yes\">&#10003;</div></td> <td>Lead/Lag offset if parameter 'func' is the function 'lead'/'lag'.</td> </tr>\n",
    "    <tr> <td><div class=\"param_name\">x_smoothing</div></td> <td><div class=\"type\">float</div></td> <td><div class = \"yes\">&#10003;</div></td> <td>The smoothing parameter of the 'ema' if the function is 'ema'. It must be in [0;1]</td> </tr>\n",
    "    <tr> <td><div class=\"param_name\">add_count</div></td> <td><div class=\"type\">bool</div></td> <td><div class = \"yes\">&#10003;</div></td> <td>If the function is the 'mode' and this parameter is True then another column will be added to the vDataFrame with the mode number of occurences.</td> </tr>\n",
    "    \n",
    "</table>\n",
    "\n",
    "### Returns\n",
    "\n",
    "<b>vDataFrame</b> : self\n",
    "\n",
    "### Example"
   ]
  },
  {
   "cell_type": "code",
   "execution_count": 8,
   "metadata": {},
   "outputs": [
    {
     "data": {
      "text/html": [
       "<table style=\"border-collapse: collapse; border: 2px solid white\"><tr style=\"{border: 1px solid white;}\"><td style=\"border-bottom: 1px solid #DDD;font-size:1.02em;background-color:#214579;color:white\"><b></b></td><td style=\"font-size:1.02em;background-color:#214579;color:white\"><b>departure_delay</b></td><td style=\"font-size:1.02em;background-color:#214579;color:white\"><b>origin_airport</b></td><td style=\"font-size:1.02em;background-color:#214579;color:white\"><b>scheduled_departure</b></td><td style=\"font-size:1.02em;background-color:#214579;color:white\"><b>airline</b></td><td style=\"font-size:1.02em;background-color:#214579;color:white\"><b>destination_airport</b></td><td style=\"font-size:1.02em;background-color:#214579;color:white\"><b>arrival_delay</b></td><td style=\"font-size:1.02em;background-color:#214579;color:white\"><b>week</b></td></tr><tr style=\"{border: 1px solid white;}\"><td style=\"border-bottom: 1px solid #DDD;font-size:1.02em;background-color:#214579;color:white\"><b>0</b></td><td style=\"border: 1px solid white;\">14</td><td style=\"border: 1px solid white;\">DTW</td><td style=\"border: 1px solid white;\">2015-08-16 20:12:00</td><td style=\"border: 1px solid white;\">EV</td><td style=\"border: 1px solid white;\">ABE</td><td style=\"border: 1px solid white;\">5</td><td style=\"border: 1px solid white;\">34</td></tr><tr style=\"{border: 1px solid white;}\"><td style=\"border-bottom: 1px solid #DDD;font-size:1.02em;background-color:#214579;color:white\"><b>1</b></td><td style=\"border: 1px solid white;\">29</td><td style=\"border: 1px solid white;\">DTW</td><td style=\"border: 1px solid white;\">2015-08-17 10:07:00</td><td style=\"border: 1px solid white;\">EV</td><td style=\"border: 1px solid white;\">ABE</td><td style=\"border: 1px solid white;\">27</td><td style=\"border: 1px solid white;\">34</td></tr><tr style=\"{border: 1px solid white;}\"><td style=\"border-bottom: 1px solid #DDD;font-size:1.02em;background-color:#214579;color:white\"><b>2</b></td><td style=\"border: 1px solid white;\">19</td><td style=\"border: 1px solid white;\">ATL</td><td style=\"border: 1px solid white;\">2015-08-17 10:25:00</td><td style=\"border: 1px solid white;\">EV</td><td style=\"border: 1px solid white;\">ABE</td><td style=\"border: 1px solid white;\">10</td><td style=\"border: 1px solid white;\">34</td></tr><tr style=\"{border: 1px solid white;}\"><td style=\"border-bottom: 1px solid #DDD;font-size:1.02em;background-color:#214579;color:white\"><b>3</b></td><td style=\"border: 1px solid white;\">4</td><td style=\"border: 1px solid white;\">ORD</td><td style=\"border: 1px solid white;\">2015-08-17 14:00:00</td><td style=\"border: 1px solid white;\">EV</td><td style=\"border: 1px solid white;\">ABE</td><td style=\"border: 1px solid white;\">61</td><td style=\"border: 1px solid white;\">34</td></tr><tr style=\"{border: 1px solid white;}\"><td style=\"border-bottom: 1px solid #DDD;font-size:1.02em;background-color:#214579;color:white\"><b>4</b></td><td style=\"border: 1px solid white;\">-5</td><td style=\"border: 1px solid white;\">DTW</td><td style=\"border: 1px solid white;\">2015-08-17 14:12:00</td><td style=\"border: 1px solid white;\">EV</td><td style=\"border: 1px solid white;\">ABE</td><td style=\"border: 1px solid white;\">-17</td><td style=\"border: 1px solid white;\">34</td></tr><tr><td style=\"border-top: 1px solid white;background-color:#214579;color:white\"></td><td style=\"border: 1px solid white;\">...</td><td style=\"border: 1px solid white;\">...</td><td style=\"border: 1px solid white;\">...</td><td style=\"border: 1px solid white;\">...</td><td style=\"border: 1px solid white;\">...</td><td style=\"border: 1px solid white;\">...</td><td style=\"border: 1px solid white;\">...</td></tr></table>"
      ],
      "text/plain": [
       "<IPython.core.display.HTML object>"
      ]
     },
     "metadata": {},
     "output_type": "display_data"
    },
    {
     "name": "stdout",
     "output_type": "stream",
     "text": [
      "<object>  Name: flights, Number of rows: 4068736, Number of columns: 7\n"
     ]
    }
   ],
   "source": [
    "from vertica_ml_python import vDataFrame\n",
    "flights = vDataFrame(\"public.flights\")\n",
    "flights.eval(name = \"week\", expr = \"WEEK(scheduled_departure)\")\n",
    "print(flights)"
   ]
  },
  {
   "cell_type": "code",
   "execution_count": 5,
   "metadata": {},
   "outputs": [
    {
     "data": {
      "text/html": [
       "<table style=\"border-collapse: collapse; border: 2px solid white\"><tr style=\"{border: 1px solid white;}\"><td style=\"border-bottom: 1px solid #DDD;font-size:1.02em;background-color:#214579;color:white\"><b></b></td><td style=\"font-size:1.02em;background-color:#214579;color:white\"><b>departure_delay</b></td><td style=\"font-size:1.02em;background-color:#214579;color:white\"><b>origin_airport</b></td><td style=\"font-size:1.02em;background-color:#214579;color:white\"><b>scheduled_departure</b></td><td style=\"font-size:1.02em;background-color:#214579;color:white\"><b>airline</b></td><td style=\"font-size:1.02em;background-color:#214579;color:white\"><b>destination_airport</b></td><td style=\"font-size:1.02em;background-color:#214579;color:white\"><b>arrival_delay</b></td><td style=\"font-size:1.02em;background-color:#214579;color:white\"><b>week</b></td><td style=\"font-size:1.02em;background-color:#214579;color:white\"><b>lag_departure_delay__by_origin_airport_destination_airport_airline_order_by_scheduled_departure</b></td></tr><tr style=\"{border: 1px solid white;}\"><td style=\"border-bottom: 1px solid #DDD;font-size:1.02em;background-color:#214579;color:white\"><b>0</b></td><td style=\"border: 1px solid white;\">-3</td><td style=\"border: 1px solid white;\">10397</td><td style=\"border: 1px solid white;\">2015-10-01 21:06:00</td><td style=\"border: 1px solid white;\">DL</td><td style=\"border: 1px solid white;\">10135</td><td style=\"border: 1px solid white;\">-14</td><td style=\"border: 1px solid white;\">40</td><td style=\"border: 1px solid white;\">None</td></tr><tr style=\"{border: 1px solid white;}\"><td style=\"border-bottom: 1px solid #DDD;font-size:1.02em;background-color:#214579;color:white\"><b>1</b></td><td style=\"border: 1px solid white;\">-2</td><td style=\"border: 1px solid white;\">10397</td><td style=\"border: 1px solid white;\">2015-10-02 21:06:00</td><td style=\"border: 1px solid white;\">DL</td><td style=\"border: 1px solid white;\">10135</td><td style=\"border: 1px solid white;\">-14</td><td style=\"border: 1px solid white;\">40</td><td style=\"border: 1px solid white;\">-3</td></tr><tr style=\"{border: 1px solid white;}\"><td style=\"border-bottom: 1px solid #DDD;font-size:1.02em;background-color:#214579;color:white\"><b>2</b></td><td style=\"border: 1px solid white;\">-2</td><td style=\"border: 1px solid white;\">10397</td><td style=\"border: 1px solid white;\">2015-10-03 21:06:00</td><td style=\"border: 1px solid white;\">DL</td><td style=\"border: 1px solid white;\">10135</td><td style=\"border: 1px solid white;\">-16</td><td style=\"border: 1px solid white;\">40</td><td style=\"border: 1px solid white;\">-2</td></tr><tr style=\"{border: 1px solid white;}\"><td style=\"border-bottom: 1px solid #DDD;font-size:1.02em;background-color:#214579;color:white\"><b>3</b></td><td style=\"border: 1px solid white;\">-7</td><td style=\"border: 1px solid white;\">10397</td><td style=\"border: 1px solid white;\">2015-10-04 21:06:00</td><td style=\"border: 1px solid white;\">DL</td><td style=\"border: 1px solid white;\">10135</td><td style=\"border: 1px solid white;\">-13</td><td style=\"border: 1px solid white;\">41</td><td style=\"border: 1px solid white;\">-2</td></tr><tr style=\"{border: 1px solid white;}\"><td style=\"border-bottom: 1px solid #DDD;font-size:1.02em;background-color:#214579;color:white\"><b>4</b></td><td style=\"border: 1px solid white;\">1</td><td style=\"border: 1px solid white;\">10397</td><td style=\"border: 1px solid white;\">2015-10-05 21:06:00</td><td style=\"border: 1px solid white;\">DL</td><td style=\"border: 1px solid white;\">10135</td><td style=\"border: 1px solid white;\">1</td><td style=\"border: 1px solid white;\">41</td><td style=\"border: 1px solid white;\">-7</td></tr><tr><td style=\"border-top: 1px solid white;background-color:#214579;color:white\"></td><td style=\"border: 1px solid white;\">...</td><td style=\"border: 1px solid white;\">...</td><td style=\"border: 1px solid white;\">...</td><td style=\"border: 1px solid white;\">...</td><td style=\"border: 1px solid white;\">...</td><td style=\"border: 1px solid white;\">...</td><td style=\"border: 1px solid white;\">...</td><td style=\"border: 1px solid white;\">...</td></tr></table>"
      ],
      "text/plain": [
       "<IPython.core.display.HTML object>"
      ]
     },
     "metadata": {},
     "output_type": "display_data"
    },
    {
     "data": {
      "text/plain": [
       "<object>  Name: flights, Number of rows: 4068736, Number of columns: 8"
      ]
     },
     "execution_count": 5,
     "metadata": {},
     "output_type": "execute_result"
    }
   ],
   "source": [
    "# LAG of departure_delay for the same flight (same airline and same \n",
    "# origin/destination airports)\n",
    "flights.analytic(func = \"lag\",\n",
    "                 column = \"departure_delay\",\n",
    "                 by = [\"origin_airport\", \"destination_airport\", \"airline\"],\n",
    "                 order_by = {\"scheduled_departure\": \"asc\"})"
   ]
  },
  {
   "cell_type": "code",
   "execution_count": 7,
   "metadata": {},
   "outputs": [
    {
     "data": {
      "text/html": [
       "<table style=\"border-collapse: collapse; border: 2px solid white\"><tr style=\"{border: 1px solid white;}\"><td style=\"border-bottom: 1px solid #DDD;font-size:1.02em;background-color:#214579;color:white\"><b></b></td><td style=\"font-size:1.02em;background-color:#214579;color:white\"><b>departure_delay</b></td><td style=\"font-size:1.02em;background-color:#214579;color:white\"><b>origin_airport</b></td><td style=\"font-size:1.02em;background-color:#214579;color:white\"><b>scheduled_departure</b></td><td style=\"font-size:1.02em;background-color:#214579;color:white\"><b>airline</b></td><td style=\"font-size:1.02em;background-color:#214579;color:white\"><b>destination_airport</b></td><td style=\"font-size:1.02em;background-color:#214579;color:white\"><b>arrival_delay</b></td><td style=\"font-size:1.02em;background-color:#214579;color:white\"><b>week</b></td><td style=\"font-size:1.02em;background-color:#214579;color:white\"><b>mode_airline__by_origin_airport_week</b></td><td style=\"font-size:1.02em;background-color:#214579;color:white\"><b>mode_airline__by_origin_airport_week_count</b></td></tr><tr style=\"{border: 1px solid white;}\"><td style=\"border-bottom: 1px solid #DDD;font-size:1.02em;background-color:#214579;color:white\"><b>0</b></td><td style=\"border: 1px solid white;\">-6</td><td style=\"border: 1px solid white;\">10135</td><td style=\"border: 1px solid white;\">2015-10-01 12:00:00</td><td style=\"border: 1px solid white;\">EV</td><td style=\"border: 1px solid white;\">10397</td><td style=\"border: 1px solid white;\">10</td><td style=\"border: 1px solid white;\">40</td><td style=\"border: 1px solid white;\">EV</td><td style=\"border: 1px solid white;\">13</td></tr><tr style=\"{border: 1px solid white;}\"><td style=\"border-bottom: 1px solid #DDD;font-size:1.02em;background-color:#214579;color:white\"><b>1</b></td><td style=\"border: 1px solid white;\">-5</td><td style=\"border: 1px solid white;\">10135</td><td style=\"border: 1px solid white;\">2015-10-01 16:00:00</td><td style=\"border: 1px solid white;\">EV</td><td style=\"border: 1px solid white;\">10397</td><td style=\"border: 1px solid white;\">-1</td><td style=\"border: 1px solid white;\">40</td><td style=\"border: 1px solid white;\">EV</td><td style=\"border: 1px solid white;\">13</td></tr><tr style=\"{border: 1px solid white;}\"><td style=\"border-bottom: 1px solid #DDD;font-size:1.02em;background-color:#214579;color:white\"><b>2</b></td><td style=\"border: 1px solid white;\">-3</td><td style=\"border: 1px solid white;\">10135</td><td style=\"border: 1px solid white;\">2015-10-02 12:00:00</td><td style=\"border: 1px solid white;\">EV</td><td style=\"border: 1px solid white;\">10397</td><td style=\"border: 1px solid white;\">-3</td><td style=\"border: 1px solid white;\">40</td><td style=\"border: 1px solid white;\">EV</td><td style=\"border: 1px solid white;\">13</td></tr><tr style=\"{border: 1px solid white;}\"><td style=\"border-bottom: 1px solid #DDD;font-size:1.02em;background-color:#214579;color:white\"><b>3</b></td><td style=\"border: 1px solid white;\">-5</td><td style=\"border: 1px solid white;\">10135</td><td style=\"border: 1px solid white;\">2015-10-02 16:00:00</td><td style=\"border: 1px solid white;\">EV</td><td style=\"border: 1px solid white;\">10397</td><td style=\"border: 1px solid white;\">-5</td><td style=\"border: 1px solid white;\">40</td><td style=\"border: 1px solid white;\">EV</td><td style=\"border: 1px solid white;\">13</td></tr><tr style=\"{border: 1px solid white;}\"><td style=\"border-bottom: 1px solid #DDD;font-size:1.02em;background-color:#214579;color:white\"><b>4</b></td><td style=\"border: 1px solid white;\">-9</td><td style=\"border: 1px solid white;\">10135</td><td style=\"border: 1px solid white;\">2015-10-03 14:00:00</td><td style=\"border: 1px solid white;\">EV</td><td style=\"border: 1px solid white;\">10397</td><td style=\"border: 1px solid white;\">-14</td><td style=\"border: 1px solid white;\">40</td><td style=\"border: 1px solid white;\">EV</td><td style=\"border: 1px solid white;\">13</td></tr><tr><td style=\"border-top: 1px solid white;background-color:#214579;color:white\"></td><td style=\"border: 1px solid white;\">...</td><td style=\"border: 1px solid white;\">...</td><td style=\"border: 1px solid white;\">...</td><td style=\"border: 1px solid white;\">...</td><td style=\"border: 1px solid white;\">...</td><td style=\"border: 1px solid white;\">...</td><td style=\"border: 1px solid white;\">...</td><td style=\"border: 1px solid white;\">...</td><td style=\"border: 1px solid white;\">...</td></tr></table>"
      ],
      "text/plain": [
       "<IPython.core.display.HTML object>"
      ]
     },
     "metadata": {},
     "output_type": "display_data"
    },
    {
     "data": {
      "text/plain": [
       "<object>  Name: flights, Number of rows: 4068736, Number of columns: 9"
      ]
     },
     "execution_count": 7,
     "metadata": {},
     "output_type": "execute_result"
    }
   ],
   "source": [
    "# Airline having the biggest number of flights to manage in the week\n",
    "flights.analytic(func = \"mode\",\n",
    "                 column = \"airline\",\n",
    "                 by = [\"origin_airport\", \"week\"],\n",
    "                 add_count = True)"
   ]
  },
  {
   "cell_type": "code",
   "execution_count": 9,
   "metadata": {},
   "outputs": [
    {
     "data": {
      "text/html": [
       "<table style=\"border-collapse: collapse; border: 2px solid white\"><tr style=\"{border: 1px solid white;}\"><td style=\"border-bottom: 1px solid #DDD;font-size:1.02em;background-color:#214579;color:white\"><b></b></td><td style=\"font-size:1.02em;background-color:#214579;color:white\"><b>departure_delay</b></td><td style=\"font-size:1.02em;background-color:#214579;color:white\"><b>origin_airport</b></td><td style=\"font-size:1.02em;background-color:#214579;color:white\"><b>scheduled_departure</b></td><td style=\"font-size:1.02em;background-color:#214579;color:white\"><b>airline</b></td><td style=\"font-size:1.02em;background-color:#214579;color:white\"><b>destination_airport</b></td><td style=\"font-size:1.02em;background-color:#214579;color:white\"><b>arrival_delay</b></td><td style=\"font-size:1.02em;background-color:#214579;color:white\"><b>week</b></td><td style=\"font-size:1.02em;background-color:#214579;color:white\"><b>departure_delay_meanby_origin_airport_destination_airport</b></td><td style=\"font-size:1.02em;background-color:#214579;color:white\"><b>arrival_delay_meanby_origin_airport_destination_airport</b></td><td style=\"font-size:1.02em;background-color:#214579;color:white\"><b>corr_departure_delay_arrival_delay_by_origin_airport_destination_airport</b></td></tr><tr style=\"{border: 1px solid white;}\"><td style=\"border-bottom: 1px solid #DDD;font-size:1.02em;background-color:#214579;color:white\"><b>0</b></td><td style=\"border: 1px solid white;\">-3</td><td style=\"border: 1px solid white;\">10397</td><td style=\"border: 1px solid white;\">2015-10-31 21:06:00</td><td style=\"border: 1px solid white;\">DL</td><td style=\"border: 1px solid white;\">10135</td><td style=\"border: 1px solid white;\">-28</td><td style=\"border: 1px solid white;\">44</td><td style=\"border: 1px solid white;\">5.54651162790698</td><td style=\"border: 1px solid white;\">5.54651162790698</td><td style=\"border: 1px solid white;\">0.933563722644589</td></tr><tr style=\"{border: 1px solid white;}\"><td style=\"border-bottom: 1px solid #DDD;font-size:1.02em;background-color:#214579;color:white\"><b>1</b></td><td style=\"border: 1px solid white;\">-4</td><td style=\"border: 1px solid white;\">10397</td><td style=\"border: 1px solid white;\">2015-10-31 10:27:00</td><td style=\"border: 1px solid white;\">EV</td><td style=\"border: 1px solid white;\">10135</td><td style=\"border: 1px solid white;\">-13</td><td style=\"border: 1px solid white;\">44</td><td style=\"border: 1px solid white;\">5.54651162790698</td><td style=\"border: 1px solid white;\">5.54651162790698</td><td style=\"border: 1px solid white;\">0.933563722644589</td></tr><tr style=\"{border: 1px solid white;}\"><td style=\"border-bottom: 1px solid #DDD;font-size:1.02em;background-color:#214579;color:white\"><b>2</b></td><td style=\"border: 1px solid white;\">-4</td><td style=\"border: 1px solid white;\">10397</td><td style=\"border: 1px solid white;\">2015-10-30 21:06:00</td><td style=\"border: 1px solid white;\">DL</td><td style=\"border: 1px solid white;\">10135</td><td style=\"border: 1px solid white;\">-14</td><td style=\"border: 1px solid white;\">44</td><td style=\"border: 1px solid white;\">5.54651162790698</td><td style=\"border: 1px solid white;\">5.54651162790698</td><td style=\"border: 1px solid white;\">0.933563722644589</td></tr><tr style=\"{border: 1px solid white;}\"><td style=\"border-bottom: 1px solid #DDD;font-size:1.02em;background-color:#214579;color:white\"><b>3</b></td><td style=\"border: 1px solid white;\">-3</td><td style=\"border: 1px solid white;\">10397</td><td style=\"border: 1px solid white;\">2015-10-30 14:44:00</td><td style=\"border: 1px solid white;\">EV</td><td style=\"border: 1px solid white;\">10135</td><td style=\"border: 1px solid white;\">-6</td><td style=\"border: 1px solid white;\">44</td><td style=\"border: 1px solid white;\">5.54651162790698</td><td style=\"border: 1px solid white;\">5.54651162790698</td><td style=\"border: 1px solid white;\">0.933563722644589</td></tr><tr style=\"{border: 1px solid white;}\"><td style=\"border-bottom: 1px solid #DDD;font-size:1.02em;background-color:#214579;color:white\"><b>4</b></td><td style=\"border: 1px solid white;\">29</td><td style=\"border: 1px solid white;\">10397</td><td style=\"border: 1px solid white;\">2015-10-30 10:27:00</td><td style=\"border: 1px solid white;\">EV</td><td style=\"border: 1px solid white;\">10135</td><td style=\"border: 1px solid white;\">24</td><td style=\"border: 1px solid white;\">44</td><td style=\"border: 1px solid white;\">5.54651162790698</td><td style=\"border: 1px solid white;\">5.54651162790698</td><td style=\"border: 1px solid white;\">0.933563722644589</td></tr><tr><td style=\"border-top: 1px solid white;background-color:#214579;color:white\"></td><td style=\"border: 1px solid white;\">...</td><td style=\"border: 1px solid white;\">...</td><td style=\"border: 1px solid white;\">...</td><td style=\"border: 1px solid white;\">...</td><td style=\"border: 1px solid white;\">...</td><td style=\"border: 1px solid white;\">...</td><td style=\"border: 1px solid white;\">...</td><td style=\"border: 1px solid white;\">...</td><td style=\"border: 1px solid white;\">...</td><td style=\"border: 1px solid white;\">...</td></tr></table>"
      ],
      "text/plain": [
       "<IPython.core.display.HTML object>"
      ]
     },
     "metadata": {},
     "output_type": "display_data"
    },
    {
     "data": {
      "text/plain": [
       "<object>  Name: flights, Number of rows: 4068736, Number of columns: 10"
      ]
     },
     "execution_count": 9,
     "metadata": {},
     "output_type": "execute_result"
    }
   ],
   "source": [
    "# Correlation between the arrival delay and departure delay for the \n",
    "# same origin and destination airports\n",
    "flights.analytic(func = \"corr\",\n",
    "                 column = \"departure_delay\",\n",
    "                 column2 = \"arrival_delay\",\n",
    "                 by = [\"origin_airport\", \"destination_airport\"])"
   ]
  },
  {
   "cell_type": "markdown",
   "metadata": {},
   "source": [
    "### See Also\n",
    "\n",
    "<table id=\"seealso\">\n",
    "    <tr><td><a href=\"../eval\">vDataFrame.eval</a></td> <td> Evaluates a customized expression.</td></tr>\n",
    "    <tr><td><a href=\"../rolling\">vDataFrame.rolling</a></td> <td> Computes a customized moving window.</td></tr>\n",
    "</table>"
   ]
  }
 ],
 "metadata": {
  "kernelspec": {
   "display_name": "Python 3",
   "language": "python",
   "name": "python3"
  },
  "language_info": {
   "codemirror_mode": {
    "name": "ipython",
    "version": 3
   },
   "file_extension": ".py",
   "mimetype": "text/x-python",
   "name": "python",
   "nbconvert_exporter": "python",
   "pygments_lexer": "ipython3",
   "version": "3.6.3"
  }
 },
 "nbformat": 4,
 "nbformat_minor": 2
}
