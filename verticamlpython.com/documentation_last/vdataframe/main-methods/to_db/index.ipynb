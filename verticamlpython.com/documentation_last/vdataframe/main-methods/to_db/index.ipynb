{
 "cells": [
  {
   "cell_type": "markdown",
   "metadata": {},
   "source": [
    "# vDataFrame.to_db"
   ]
  },
  {
   "cell_type": "code",
   "execution_count": null,
   "metadata": {},
   "outputs": [],
   "source": [
    "vDataFrame.to_db(name: str,\n",
    "                 usecols: list = [],\n",
    "                 relation_type: str = \"view\",\n",
    "                 inplace: bool = False,\n",
    "                 db_filter = \"\",\n",
    "                 nb_split: int = 0)"
   ]
  },
  {
   "cell_type": "markdown",
   "metadata": {},
   "source": [
    "Saves the vDataFrame current relation to the Vertica Database.\n",
    "\n",
    "### Parameters\n",
    "\n",
    "<table id=\"parameters\">\n",
    "    <tr> <th>Name</th> <th>Type</th> <th>Optional</th> <th>Description</th> </tr>\n",
    "    <tr> <td><div class=\"param_name\">name</div></td> <td><div class=\"type\">str</div></td> <td><div class = \"no\">&#10060;</div></td> <td>Name of the relation. To save the relation in a specific schema you can write '\"my_schema\".\"my_relation\"'. Use double quotes '\"' to avoid errors due to special characters.</td> </tr>\n",
    "    <tr> <td><div class=\"param_name\">usecols</div></td> <td><div class=\"type\">list</div></td> <td><div class = \"yes\">&#10003;</div></td> <td>vcolumns to select from the final vDataFrame relation. If empty, all the columns will be selected.</td> </tr>\n",
    "    <tr> <td><div class=\"param_name\">relation_type</div></td> <td><div class=\"type\">str</div></td> <td><div class = \"yes\">&#10003;</div></td> <td>Type of the relation.<br>\n",
    "                                                    <ul>\n",
    "                                                        <li><b>view :</b> View</li>\n",
    "                                                        <li><b>table :</b> Table</li>\n",
    "                                                        <li><b>temporary :</b> Temporary Table</li>\n",
    "        </ul></td> </tr>\n",
    "    <tr> <td><div class=\"param_name\">inplace</div></td> <td><div class=\"type\">bool</div></td> <td><div class = \"yes\">&#10003;</div></td> <td>If set to True, the vDataFrame will be replaced using the new relation.</td> </tr>\n",
    "    <tr> <td><div class=\"param_name\">db_filter</div></td> <td><div class=\"type\">str / list</div></td> <td><div class = \"yes\">&#10003;</div></td> <td>Filter used before creating the relation in the DB. It can be a list of conditions or an expression. This parameter is very useful to create train and test sets on TS.</td> </tr>\n",
    "    <tr> <td><div class=\"param_name\">nb_split</div></td> <td><div class=\"type\">int</div></td> <td><div class = \"yes\">&#10003;</div></td> <td>If this parameter is greater than 0, it will add to the final relation a new column '_vertica_ml\\_python\\_split_' which will contain values in [0;nb_split - 1] where each category will represent approximately 1 / nb_split of the entire distribution. </td> </tr>\n",
    "</table>"
   ]
  },
  {
   "cell_type": "markdown",
   "metadata": {},
   "source": [
    "### Returns\n",
    "\n",
    "<b>vDataFrame</b> : self\n",
    "\n",
    "### Example"
   ]
  },
  {
   "cell_type": "code",
   "execution_count": 11,
   "metadata": {},
   "outputs": [
    {
     "data": {
      "text/html": [
       "<table style=\"border-collapse: collapse; border: 2px solid white\"><tr style=\"{border: 1px solid white;}\"><td style=\"border-bottom: 1px solid #DDD;font-size:1.02em;background-color:#263133;color:white\"><b></b></td><td style=\"font-size:1.02em;background-color:#263133;color:white\"><b>fare</b></td><td style=\"font-size:1.02em;background-color:#263133;color:white\"><b>sex</b></td><td style=\"font-size:1.02em;background-color:#263133;color:white\"><b>body</b></td><td style=\"font-size:1.02em;background-color:#263133;color:white\"><b>pclass</b></td><td style=\"font-size:1.02em;background-color:#263133;color:white\"><b>age</b></td><td style=\"font-size:1.02em;background-color:#263133;color:white\"><b>name</b></td><td style=\"font-size:1.02em;background-color:#263133;color:white\"><b>cabin</b></td><td style=\"font-size:1.02em;background-color:#263133;color:white\"><b>parch</b></td><td style=\"font-size:1.02em;background-color:#263133;color:white\"><b>survived</b></td><td style=\"font-size:1.02em;background-color:#263133;color:white\"><b>boat</b></td><td style=\"font-size:1.02em;background-color:#263133;color:white\"><b>ticket</b></td><td style=\"font-size:1.02em;background-color:#263133;color:white\"><b>embarked</b></td><td style=\"font-size:1.02em;background-color:#263133;color:white\"><b>home.dest</b></td><td style=\"font-size:1.02em;background-color:#263133;color:white\"><b>sibsp</b></td><td style=\"font-size:1.02em;background-color:#263133;color:white\"><b>sex_female</b></td><td style=\"font-size:1.02em;background-color:#263133;color:white\"><b>pclass_1</b></td><td style=\"font-size:1.02em;background-color:#263133;color:white\"><b>pclass_2</b></td><td style=\"font-size:1.02em;background-color:#263133;color:white\"><b>parch_0</b></td><td style=\"font-size:1.02em;background-color:#263133;color:white\"><b>parch_1</b></td><td style=\"font-size:1.02em;background-color:#263133;color:white\"><b>parch_2</b></td><td style=\"font-size:1.02em;background-color:#263133;color:white\"><b>parch_3</b></td><td style=\"font-size:1.02em;background-color:#263133;color:white\"><b>parch_4</b></td><td style=\"font-size:1.02em;background-color:#263133;color:white\"><b>parch_5</b></td><td style=\"font-size:1.02em;background-color:#263133;color:white\"><b>parch_6</b></td><td style=\"font-size:1.02em;background-color:#263133;color:white\"><b>embarked_C</b></td><td style=\"font-size:1.02em;background-color:#263133;color:white\"><b>embarked_Q</b></td><td style=\"font-size:1.02em;background-color:#263133;color:white\"><b>sibsp_0</b></td><td style=\"font-size:1.02em;background-color:#263133;color:white\"><b>sibsp_1</b></td><td style=\"font-size:1.02em;background-color:#263133;color:white\"><b>sibsp_2</b></td><td style=\"font-size:1.02em;background-color:#263133;color:white\"><b>sibsp_3</b></td><td style=\"font-size:1.02em;background-color:#263133;color:white\"><b>sibsp_4</b></td><td style=\"font-size:1.02em;background-color:#263133;color:white\"><b>sibsp_5</b></td></tr><tr style=\"{border: 1px solid white;}\"><td style=\"border-bottom: 1px solid #DDD;font-size:1.02em;background-color:#263133;color:white\"><b>0</b></td><td style=\"border: 1px solid white;\">2.2335228377568673306163744003</td><td style=\"border: 1px solid white;\">female</td><td style=\"border: 1px solid white;\">None</td><td style=\"border: 1px solid white;\">-1.52458485653939825566284767748</td><td style=\"border: 1px solid white;\">-1.9502503129565278908367342155</td><td style=\"border: 1px solid white;\">Allison, Miss. Helen Loraine</td><td style=\"border: 1px solid white;\">C22 C26</td><td style=\"border: 1px solid white;\">1.866851401077760435621662793693</td><td style=\"border: 1px solid white;\">-0.757307371153963162979989569746</td><td style=\"border: 1px solid white;\">None</td><td style=\"border: 1px solid white;\">113781</td><td style=\"border: 1px solid white;\">S</td><td style=\"border: 1px solid white;\">Montreal, PQ / Chesterville, ON</td><td style=\"border: 1px solid white;\">0.476361452530317344428951316723</td><td style=\"border: 1px solid white;\">1.391590693589806938988264634593</td><td style=\"border: 1px solid white;\">1.718351957456489070218766430323</td><td style=\"border: 1px solid white;\">-0.515194873214845095325784951282</td><td style=\"border: 1px solid white;\">-1.82404116243169099688897026934</td><td style=\"border: 1px solid white;\">-0.389962660998658638813196185979</td><td style=\"border: 1px solid white;\">3.4032988446260016658518137173233</td><td style=\"border: 1px solid white;\">-0.080746501890544571964712271643787</td><td style=\"border: 1px solid white;\">-0.069871553648533438650839486531736</td><td style=\"border: 1px solid white;\">-0.069871553648533438650839486531736</td><td style=\"border: 1px solid white;\">-0.040274819467791498027366578185165</td><td style=\"border: 1px solid white;\">-0.507632846372679881779074245706</td><td style=\"border: 1px solid white;\">-0.30642369222116871970059157132</td><td style=\"border: 1px solid white;\">-1.448723687429805724921492057367</td><td style=\"border: 1px solid white;\">1.74835105897043756352888762989</td><td style=\"border: 1px solid white;\">-0.1781763946794669298088450104197</td><td style=\"border: 1px solid white;\">-0.1283008734279738857812014957876</td><td style=\"border: 1px solid white;\">-0.1346740711671781651944719413214</td><td style=\"border: 1px solid white;\">-0.069871553648533438650839486531736</td></tr><tr style=\"{border: 1px solid white;}\"><td style=\"border-bottom: 1px solid #DDD;font-size:1.02em;background-color:#263133;color:white\"><b>1</b></td><td style=\"border: 1px solid white;\">2.2335228377568673306163744003</td><td style=\"border: 1px solid white;\">male</td><td style=\"border: 1px solid white;\">-0.30177333429701812091999864</td><td style=\"border: 1px solid white;\">-1.52458485653939825566284767748</td><td style=\"border: 1px solid white;\">-0.0105614239550127329564098413</td><td style=\"border: 1px solid white;\">Allison, Mr. Hudson Joshua Creighton</td><td style=\"border: 1px solid white;\">C22 C26</td><td style=\"border: 1px solid white;\">1.866851401077760435621662793693</td><td style=\"border: 1px solid white;\">-0.757307371153963162979989569746</td><td style=\"border: 1px solid white;\">None</td><td style=\"border: 1px solid white;\">113781</td><td style=\"border: 1px solid white;\">S</td><td style=\"border: 1px solid white;\">Montreal, PQ / Chesterville, ON</td><td style=\"border: 1px solid white;\">0.476361452530317344428951316723</td><td style=\"border: 1px solid white;\">-0.718019768191301048660149415335</td><td style=\"border: 1px solid white;\">1.718351957456489070218766430323</td><td style=\"border: 1px solid white;\">-0.515194873214845095325784951282</td><td style=\"border: 1px solid white;\">-1.82404116243169099688897026934</td><td style=\"border: 1px solid white;\">-0.389962660998658638813196185979</td><td style=\"border: 1px solid white;\">3.4032988446260016658518137173233</td><td style=\"border: 1px solid white;\">-0.080746501890544571964712271643787</td><td style=\"border: 1px solid white;\">-0.069871553648533438650839486531736</td><td style=\"border: 1px solid white;\">-0.069871553648533438650839486531736</td><td style=\"border: 1px solid white;\">-0.040274819467791498027366578185165</td><td style=\"border: 1px solid white;\">-0.507632846372679881779074245706</td><td style=\"border: 1px solid white;\">-0.30642369222116871970059157132</td><td style=\"border: 1px solid white;\">-1.448723687429805724921492057367</td><td style=\"border: 1px solid white;\">1.74835105897043756352888762989</td><td style=\"border: 1px solid white;\">-0.1781763946794669298088450104197</td><td style=\"border: 1px solid white;\">-0.1283008734279738857812014957876</td><td style=\"border: 1px solid white;\">-0.1346740711671781651944719413214</td><td style=\"border: 1px solid white;\">-0.069871553648533438650839486531736</td></tr><tr style=\"{border: 1px solid white;}\"><td style=\"border-bottom: 1px solid #DDD;font-size:1.02em;background-color:#263133;color:white\"><b>2</b></td><td style=\"border: 1px solid white;\">2.2335228377568673306163744003</td><td style=\"border: 1px solid white;\">female</td><td style=\"border: 1px solid white;\">None</td><td style=\"border: 1px solid white;\">-1.52458485653939825566284767748</td><td style=\"border: 1px solid white;\">-0.3569344398481404397207534796</td><td style=\"border: 1px solid white;\">Allison, Mrs. Hudson J C (Bessie Waldo Daniels)</td><td style=\"border: 1px solid white;\">C22 C26</td><td style=\"border: 1px solid white;\">1.866851401077760435621662793693</td><td style=\"border: 1px solid white;\">-0.757307371153963162979989569746</td><td style=\"border: 1px solid white;\">None</td><td style=\"border: 1px solid white;\">113781</td><td style=\"border: 1px solid white;\">S</td><td style=\"border: 1px solid white;\">Montreal, PQ / Chesterville, ON</td><td style=\"border: 1px solid white;\">0.476361452530317344428951316723</td><td style=\"border: 1px solid white;\">1.391590693589806938988264634593</td><td style=\"border: 1px solid white;\">1.718351957456489070218766430323</td><td style=\"border: 1px solid white;\">-0.515194873214845095325784951282</td><td style=\"border: 1px solid white;\">-1.82404116243169099688897026934</td><td style=\"border: 1px solid white;\">-0.389962660998658638813196185979</td><td style=\"border: 1px solid white;\">3.4032988446260016658518137173233</td><td style=\"border: 1px solid white;\">-0.080746501890544571964712271643787</td><td style=\"border: 1px solid white;\">-0.069871553648533438650839486531736</td><td style=\"border: 1px solid white;\">-0.069871553648533438650839486531736</td><td style=\"border: 1px solid white;\">-0.040274819467791498027366578185165</td><td style=\"border: 1px solid white;\">-0.507632846372679881779074245706</td><td style=\"border: 1px solid white;\">-0.30642369222116871970059157132</td><td style=\"border: 1px solid white;\">-1.448723687429805724921492057367</td><td style=\"border: 1px solid white;\">1.74835105897043756352888762989</td><td style=\"border: 1px solid white;\">-0.1781763946794669298088450104197</td><td style=\"border: 1px solid white;\">-0.1283008734279738857812014957876</td><td style=\"border: 1px solid white;\">-0.1346740711671781651944719413214</td><td style=\"border: 1px solid white;\">-0.069871553648533438650839486531736</td></tr><tr style=\"{border: 1px solid white;}\"><td style=\"border-bottom: 1px solid #DDD;font-size:1.02em;background-color:#263133;color:white\"><b>3</b></td><td style=\"border: 1px solid white;\">-0.6451344183800711827483251581</td><td style=\"border: 1px solid white;\">male</td><td style=\"border: 1px solid white;\">None</td><td style=\"border: 1px solid white;\">-1.52458485653939825566284767748</td><td style=\"border: 1px solid white;\">0.6129100046526171392194087075</td><td style=\"border: 1px solid white;\">Andrews, Mr. Thomas Jr</td><td style=\"border: 1px solid white;\">A36</td><td style=\"border: 1px solid white;\">-0.435691956173569945178825405433</td><td style=\"border: 1px solid white;\">-0.757307371153963162979989569746</td><td style=\"border: 1px solid white;\">None</td><td style=\"border: 1px solid white;\">112050</td><td style=\"border: 1px solid white;\">S</td><td style=\"border: 1px solid white;\">Belfast, NI</td><td style=\"border: 1px solid white;\">-0.484145136395191051224867122640</td><td style=\"border: 1px solid white;\">-0.718019768191301048660149415335</td><td style=\"border: 1px solid white;\">1.718351957456489070218766430323</td><td style=\"border: 1px solid white;\">-0.515194873214845095325784951282</td><td style=\"border: 1px solid white;\">0.54778896869655520601485651247</td><td style=\"border: 1px solid white;\">-0.389962660998658638813196185979</td><td style=\"border: 1px solid white;\">-0.2935944425821727290366499712179</td><td style=\"border: 1px solid white;\">-0.080746501890544571964712271643787</td><td style=\"border: 1px solid white;\">-0.069871553648533438650839486531736</td><td style=\"border: 1px solid white;\">-0.069871553648533438650839486531736</td><td style=\"border: 1px solid white;\">-0.040274819467791498027366578185165</td><td style=\"border: 1px solid white;\">-0.507632846372679881779074245706</td><td style=\"border: 1px solid white;\">-0.30642369222116871970059157132</td><td style=\"border: 1px solid white;\">0.689703382293138372371557977476</td><td style=\"border: 1px solid white;\">-0.57150400207205686533461107422</td><td style=\"border: 1px solid white;\">-0.1781763946794669298088450104197</td><td style=\"border: 1px solid white;\">-0.1283008734279738857812014957876</td><td style=\"border: 1px solid white;\">-0.1346740711671781651944719413214</td><td style=\"border: 1px solid white;\">-0.069871553648533438650839486531736</td></tr><tr style=\"{border: 1px solid white;}\"><td style=\"border-bottom: 1px solid #DDD;font-size:1.02em;background-color:#263133;color:white\"><b>4</b></td><td style=\"border: 1px solid white;\">0.2951864297839290254556257484</td><td style=\"border: 1px solid white;\">male</td><td style=\"border: 1px solid white;\">-1.47183603843091257442431516</td><td style=\"border: 1px solid white;\">-1.52458485653939825566284767748</td><td style=\"border: 1px solid white;\">2.8296973063686344625112079923</td><td style=\"border: 1px solid white;\">Artagaveytia, Mr. Ramon</td><td style=\"border: 1px solid white;\">None</td><td style=\"border: 1px solid white;\">-0.435691956173569945178825405433</td><td style=\"border: 1px solid white;\">-0.757307371153963162979989569746</td><td style=\"border: 1px solid white;\">None</td><td style=\"border: 1px solid white;\">PC 17609</td><td style=\"border: 1px solid white;\">C</td><td style=\"border: 1px solid white;\">Montevideo, Uruguay</td><td style=\"border: 1px solid white;\">-0.484145136395191051224867122640</td><td style=\"border: 1px solid white;\">-0.718019768191301048660149415335</td><td style=\"border: 1px solid white;\">1.718351957456489070218766430323</td><td style=\"border: 1px solid white;\">-0.515194873214845095325784951282</td><td style=\"border: 1px solid white;\">0.54778896869655520601485651247</td><td style=\"border: 1px solid white;\">-0.389962660998658638813196185979</td><td style=\"border: 1px solid white;\">-0.2935944425821727290366499712179</td><td style=\"border: 1px solid white;\">-0.080746501890544571964712271643787</td><td style=\"border: 1px solid white;\">-0.069871553648533438650839486531736</td><td style=\"border: 1px solid white;\">-0.069871553648533438650839486531736</td><td style=\"border: 1px solid white;\">-0.040274819467791498027366578185165</td><td style=\"border: 1px solid white;\">1.968331313405532477147732836418</td><td style=\"border: 1px solid white;\">-0.30642369222116871970059157132</td><td style=\"border: 1px solid white;\">0.689703382293138372371557977476</td><td style=\"border: 1px solid white;\">-0.57150400207205686533461107422</td><td style=\"border: 1px solid white;\">-0.1781763946794669298088450104197</td><td style=\"border: 1px solid white;\">-0.1283008734279738857812014957876</td><td style=\"border: 1px solid white;\">-0.1346740711671781651944719413214</td><td style=\"border: 1px solid white;\">-0.069871553648533438650839486531736</td></tr><tr><td style=\"border-top: 1px solid white;background-color:#263133;color:white\"></td><td style=\"border: 1px solid white;\">...</td><td style=\"border: 1px solid white;\">...</td><td style=\"border: 1px solid white;\">...</td><td style=\"border: 1px solid white;\">...</td><td style=\"border: 1px solid white;\">...</td><td style=\"border: 1px solid white;\">...</td><td style=\"border: 1px solid white;\">...</td><td style=\"border: 1px solid white;\">...</td><td style=\"border: 1px solid white;\">...</td><td style=\"border: 1px solid white;\">...</td><td style=\"border: 1px solid white;\">...</td><td style=\"border: 1px solid white;\">...</td><td style=\"border: 1px solid white;\">...</td><td style=\"border: 1px solid white;\">...</td><td style=\"border: 1px solid white;\">...</td><td style=\"border: 1px solid white;\">...</td><td style=\"border: 1px solid white;\">...</td><td style=\"border: 1px solid white;\">...</td><td style=\"border: 1px solid white;\">...</td><td style=\"border: 1px solid white;\">...</td><td style=\"border: 1px solid white;\">...</td><td style=\"border: 1px solid white;\">...</td><td style=\"border: 1px solid white;\">...</td><td style=\"border: 1px solid white;\">...</td><td style=\"border: 1px solid white;\">...</td><td style=\"border: 1px solid white;\">...</td><td style=\"border: 1px solid white;\">...</td><td style=\"border: 1px solid white;\">...</td><td style=\"border: 1px solid white;\">...</td><td style=\"border: 1px solid white;\">...</td><td style=\"border: 1px solid white;\">...</td><td style=\"border: 1px solid white;\">...</td></tr></table>"
      ],
      "text/plain": [
       "<IPython.core.display.HTML object>"
      ]
     },
     "metadata": {},
     "output_type": "display_data"
    },
    {
     "data": {
      "text/plain": [
       "<object>  Name: titanic, Number of rows: 1234, Number of columns: 32"
      ]
     },
     "execution_count": 11,
     "metadata": {},
     "output_type": "execute_result"
    }
   ],
   "source": [
    "from vertica_ml_python.learn.datasets import load_titanic\n",
    "titanic = load_titanic()\n",
    "# Doing some transformations\n",
    "titanic.get_dummies()\n",
    "titanic.normalize()"
   ]
  },
  {
   "cell_type": "code",
   "execution_count": 7,
   "metadata": {},
   "outputs": [
    {
     "data": {
      "text/html": [
       "<table style=\"border-collapse: collapse; border: 2px solid white\"><tr style=\"{border: 1px solid white;}\"><td style=\"border-bottom: 1px solid #DDD;font-size:1.02em;background-color:#263133;color:white\"><b></b></td><td style=\"font-size:1.02em;background-color:#263133;color:white\"><b>survived</b></td><td style=\"font-size:1.02em;background-color:#263133;color:white\"><b>fare</b></td><td style=\"font-size:1.02em;background-color:#263133;color:white\"><b>sex</b></td></tr><tr style=\"{border: 1px solid white;}\"><td style=\"border-bottom: 1px solid #DDD;font-size:1.02em;background-color:#263133;color:white\"><b>0</b></td><td style=\"border: 1px solid white;\">-0.757307371153963162979989569746</td><td style=\"border: 1px solid white;\">2.2335228377568673306163744003</td><td style=\"border: 1px solid white;\">female</td></tr><tr style=\"{border: 1px solid white;}\"><td style=\"border-bottom: 1px solid #DDD;font-size:1.02em;background-color:#263133;color:white\"><b>1</b></td><td style=\"border: 1px solid white;\">-0.757307371153963162979989569746</td><td style=\"border: 1px solid white;\">2.2335228377568673306163744003</td><td style=\"border: 1px solid white;\">male</td></tr><tr style=\"{border: 1px solid white;}\"><td style=\"border-bottom: 1px solid #DDD;font-size:1.02em;background-color:#263133;color:white\"><b>2</b></td><td style=\"border: 1px solid white;\">-0.757307371153963162979989569746</td><td style=\"border: 1px solid white;\">2.2335228377568673306163744003</td><td style=\"border: 1px solid white;\">female</td></tr><tr style=\"{border: 1px solid white;}\"><td style=\"border-bottom: 1px solid #DDD;font-size:1.02em;background-color:#263133;color:white\"><b>3</b></td><td style=\"border: 1px solid white;\">-0.757307371153963162979989569746</td><td style=\"border: 1px solid white;\">-0.6451344183800711827483251581</td><td style=\"border: 1px solid white;\">male</td></tr><tr style=\"{border: 1px solid white;}\"><td style=\"border-bottom: 1px solid #DDD;font-size:1.02em;background-color:#263133;color:white\"><b>4</b></td><td style=\"border: 1px solid white;\">-0.757307371153963162979989569746</td><td style=\"border: 1px solid white;\">0.2951864297839290254556257484</td><td style=\"border: 1px solid white;\">male</td></tr><tr><td style=\"border-top: 1px solid white;background-color:#263133;color:white\"></td><td style=\"border: 1px solid white;\">...</td><td style=\"border: 1px solid white;\">...</td><td style=\"border: 1px solid white;\">...</td></tr></table>"
      ],
      "text/plain": [
       "<IPython.core.display.HTML object>"
      ]
     },
     "metadata": {},
     "output_type": "display_data"
    },
    {
     "data": {
      "text/plain": [
       "<object>  Name: titanic_normalized, Number of rows: 1234, Number of columns: 3"
      ]
     },
     "execution_count": 7,
     "metadata": {},
     "output_type": "execute_result"
    }
   ],
   "source": [
    "# Saving the result in the Database\n",
    "titanic.to_db(name = '\"public\".\"titanic_normalized\"',\n",
    "              usecols = [\"fare\", \"sex\", \"survived\"],\n",
    "              relation_type = \"table\")\n",
    "vDataFrame('\"public\".\"titanic_normalized\"')"
   ]
  },
  {
   "cell_type": "code",
   "execution_count": 8,
   "metadata": {},
   "outputs": [
    {
     "data": {
      "text/html": [
       "<table style=\"border-collapse: collapse; border: 2px solid white\"><tr style=\"{border: 1px solid white;}\"><td style=\"border-bottom: 1px solid #DDD;font-size:1.02em;background-color:#263133;color:white\"><b></b></td><td style=\"font-size:1.02em;background-color:#263133;color:white\"><b>survived</b></td><td style=\"font-size:1.02em;background-color:#263133;color:white\"><b>fare</b></td><td style=\"font-size:1.02em;background-color:#263133;color:white\"><b>sex</b></td><td style=\"font-size:1.02em;background-color:#263133;color:white\"><b>_vertica_ml_python_split_</b></td></tr><tr style=\"{border: 1px solid white;}\"><td style=\"border-bottom: 1px solid #DDD;font-size:1.02em;background-color:#263133;color:white\"><b>0</b></td><td style=\"border: 1px solid white;\">-0.757307371153963162979989569746</td><td style=\"border: 1px solid white;\">2.2335228377568673306163744003</td><td style=\"border: 1px solid white;\">female</td><td style=\"border: 1px solid white;\">0</td></tr><tr style=\"{border: 1px solid white;}\"><td style=\"border-bottom: 1px solid #DDD;font-size:1.02em;background-color:#263133;color:white\"><b>1</b></td><td style=\"border: 1px solid white;\">-0.757307371153963162979989569746</td><td style=\"border: 1px solid white;\">2.2335228377568673306163744003</td><td style=\"border: 1px solid white;\">male</td><td style=\"border: 1px solid white;\">2</td></tr><tr style=\"{border: 1px solid white;}\"><td style=\"border-bottom: 1px solid #DDD;font-size:1.02em;background-color:#263133;color:white\"><b>2</b></td><td style=\"border: 1px solid white;\">-0.757307371153963162979989569746</td><td style=\"border: 1px solid white;\">2.2335228377568673306163744003</td><td style=\"border: 1px solid white;\">female</td><td style=\"border: 1px solid white;\">2</td></tr><tr style=\"{border: 1px solid white;}\"><td style=\"border-bottom: 1px solid #DDD;font-size:1.02em;background-color:#263133;color:white\"><b>3</b></td><td style=\"border: 1px solid white;\">-0.757307371153963162979989569746</td><td style=\"border: 1px solid white;\">-0.6451344183800711827483251581</td><td style=\"border: 1px solid white;\">male</td><td style=\"border: 1px solid white;\">1</td></tr><tr style=\"{border: 1px solid white;}\"><td style=\"border-bottom: 1px solid #DDD;font-size:1.02em;background-color:#263133;color:white\"><b>4</b></td><td style=\"border: 1px solid white;\">-0.757307371153963162979989569746</td><td style=\"border: 1px solid white;\">0.2951864297839290254556257484</td><td style=\"border: 1px solid white;\">male</td><td style=\"border: 1px solid white;\">2</td></tr><tr><td style=\"border-top: 1px solid white;background-color:#263133;color:white\"></td><td style=\"border: 1px solid white;\">...</td><td style=\"border: 1px solid white;\">...</td><td style=\"border: 1px solid white;\">...</td><td style=\"border: 1px solid white;\">...</td></tr></table>"
      ],
      "text/plain": [
       "<IPython.core.display.HTML object>"
      ]
     },
     "metadata": {},
     "output_type": "display_data"
    },
    {
     "data": {
      "text/plain": [
       "<object>  Name: titanic_normalized, Number of rows: 1234, Number of columns: 4"
      ]
     },
     "execution_count": 8,
     "metadata": {},
     "output_type": "execute_result"
    }
   ],
   "source": [
    "# Adding a split column in the final relation\n",
    "titanic.to_db(name = '\"public\".\"titanic_normalized\"',\n",
    "              usecols = [\"fare\", \"sex\", \"survived\"],\n",
    "              relation_type = \"table\",\n",
    "              nb_split = 3)\n",
    "vDataFrame('\"public\".\"titanic_normalized\"')"
   ]
  },
  {
   "cell_type": "code",
   "execution_count": 9,
   "metadata": {},
   "outputs": [
    {
     "data": {
      "text/html": [
       "<table style=\"border-collapse: collapse; border: 2px solid white\"><tr style=\"{border: 1px solid white;}\"><td style=\"border-bottom: 1px solid #DDD;font-size:1.02em;background-color:#263133;color:white\"><b></b></td><td style=\"font-size:1.02em;background-color:#263133;color:white\"><b>survived</b></td><td style=\"font-size:1.02em;background-color:#263133;color:white\"><b>fare</b></td><td style=\"font-size:1.02em;background-color:#263133;color:white\"><b>sex</b></td></tr><tr style=\"{border: 1px solid white;}\"><td style=\"border-bottom: 1px solid #DDD;font-size:1.02em;background-color:#263133;color:white\"><b>0</b></td><td style=\"border: 1px solid white;\">-0.757307371153963162979989569746</td><td style=\"border: 1px solid white;\">2.2335228377568673306163744003</td><td style=\"border: 1px solid white;\">female</td></tr><tr style=\"{border: 1px solid white;}\"><td style=\"border-bottom: 1px solid #DDD;font-size:1.02em;background-color:#263133;color:white\"><b>1</b></td><td style=\"border: 1px solid white;\">-0.757307371153963162979989569746</td><td style=\"border: 1px solid white;\">2.2335228377568673306163744003</td><td style=\"border: 1px solid white;\">female</td></tr><tr style=\"{border: 1px solid white;}\"><td style=\"border-bottom: 1px solid #DDD;font-size:1.02em;background-color:#263133;color:white\"><b>2</b></td><td style=\"border: 1px solid white;\">-0.757307371153963162979989569746</td><td style=\"border: 1px solid white;\">-0.0433953293097095690724228800</td><td style=\"border: 1px solid white;\">female</td></tr><tr style=\"{border: 1px solid white;}\"><td style=\"border-bottom: 1px solid #DDD;font-size:1.02em;background-color:#263133;color:white\"><b>3</b></td><td style=\"border: 1px solid white;\">-0.757307371153963162979989569746</td><td style=\"border: 1px solid white;\">-0.0997471107797290708051781039</td><td style=\"border: 1px solid white;\">female</td></tr><tr style=\"{border: 1px solid white;}\"><td style=\"border-bottom: 1px solid #DDD;font-size:1.02em;background-color:#263133;color:white\"><b>4</b></td><td style=\"border: 1px solid white;\">-0.757307371153963162979989569746</td><td style=\"border: 1px solid white;\">3.5675102753859816971145080739</td><td style=\"border: 1px solid white;\">female</td></tr><tr><td style=\"border-top: 1px solid white;background-color:#263133;color:white\"></td><td style=\"border: 1px solid white;\">...</td><td style=\"border: 1px solid white;\">...</td><td style=\"border: 1px solid white;\">...</td></tr></table>"
      ],
      "text/plain": [
       "<IPython.core.display.HTML object>"
      ]
     },
     "metadata": {},
     "output_type": "display_data"
    },
    {
     "data": {
      "text/plain": [
       "<object>  Name: titanic_normalized, Number of rows: 420, Number of columns: 3"
      ]
     },
     "execution_count": 9,
     "metadata": {},
     "output_type": "execute_result"
    }
   ],
   "source": [
    "# Using conditions to filter data\n",
    "titanic.to_db(name = '\"public\".\"titanic_normalized\"',\n",
    "              usecols = [\"fare\", \"sex\", \"survived\"],\n",
    "              relation_type = \"table\",\n",
    "              db_filter = \"sex = 'female'\")\n",
    "vDataFrame('\"public\".\"titanic_normalized\"')"
   ]
  },
  {
   "cell_type": "code",
   "execution_count": 10,
   "metadata": {},
   "outputs": [
    {
     "data": {
      "text/html": [
       "<table style=\"border-collapse: collapse; border: 2px solid white\"><tr style=\"{border: 1px solid white;}\"><td style=\"border-bottom: 1px solid #DDD;font-size:1.02em;background-color:#263133;color:white\"><b></b></td><td style=\"font-size:1.02em;background-color:#263133;color:white\"><b>fare</b></td><td style=\"font-size:1.02em;background-color:#263133;color:white\"><b>sex</b></td><td style=\"font-size:1.02em;background-color:#263133;color:white\"><b>survived</b></td></tr><tr style=\"{border: 1px solid white;}\"><td style=\"border-bottom: 1px solid #DDD;font-size:1.02em;background-color:#263133;color:white\"><b>0</b></td><td style=\"border: 1px solid white;\">2.2335228377568673306163744003</td><td style=\"border: 1px solid white;\">female</td><td style=\"border: 1px solid white;\">-0.757307371153963162979989569746</td></tr><tr style=\"{border: 1px solid white;}\"><td style=\"border-bottom: 1px solid #DDD;font-size:1.02em;background-color:#263133;color:white\"><b>1</b></td><td style=\"border: 1px solid white;\">2.2335228377568673306163744003</td><td style=\"border: 1px solid white;\">female</td><td style=\"border: 1px solid white;\">-0.757307371153963162979989569746</td></tr><tr style=\"{border: 1px solid white;}\"><td style=\"border-bottom: 1px solid #DDD;font-size:1.02em;background-color:#263133;color:white\"><b>2</b></td><td style=\"border: 1px solid white;\">-0.0433953293097095690724228800</td><td style=\"border: 1px solid white;\">female</td><td style=\"border: 1px solid white;\">-0.757307371153963162979989569746</td></tr><tr style=\"{border: 1px solid white;}\"><td style=\"border-bottom: 1px solid #DDD;font-size:1.02em;background-color:#263133;color:white\"><b>3</b></td><td style=\"border: 1px solid white;\">-0.0997471107797290708051781039</td><td style=\"border: 1px solid white;\">female</td><td style=\"border: 1px solid white;\">-0.757307371153963162979989569746</td></tr><tr style=\"{border: 1px solid white;}\"><td style=\"border-bottom: 1px solid #DDD;font-size:1.02em;background-color:#263133;color:white\"><b>4</b></td><td style=\"border: 1px solid white;\">0.8356654890504817285445765745</td><td style=\"border: 1px solid white;\">female</td><td style=\"border: 1px solid white;\">1.319397731077128640349332551522</td></tr><tr><td style=\"border-top: 1px solid white;background-color:#263133;color:white\"></td><td style=\"border: 1px solid white;\">...</td><td style=\"border: 1px solid white;\">...</td><td style=\"border: 1px solid white;\">...</td></tr></table>"
      ],
      "text/plain": [
       "<IPython.core.display.HTML object>"
      ]
     },
     "metadata": {},
     "output_type": "display_data"
    },
    {
     "data": {
      "text/plain": [
       "<object>  Name: titanic_normalized, Number of rows: 397, Number of columns: 3"
      ]
     },
     "execution_count": 10,
     "metadata": {},
     "output_type": "execute_result"
    }
   ],
   "source": [
    "# Using multiple conditions to filter data\n",
    "titanic.to_db(name = '\"public\".\"titanic_normalized\"',\n",
    "              usecols = [\"fare\", \"sex\", \"survived\"],\n",
    "              relation_type = \"table\",\n",
    "              db_filter = [\"sex = 'female'\", \"fare < 3\"])\n",
    "vDataFrame('\"public\".\"titanic_normalized\"')"
   ]
  },
  {
   "cell_type": "markdown",
   "metadata": {},
   "source": [
    "### See Also\n",
    "\n",
    "<table id=\"seealso\">\n",
    "    <tr><td><a href=\"../to_csv\">vDataFrame.to_csv</a></td> <td>Creates a csv file of the current vDataFrame relation.</td></tr>\n",
    "</table>"
   ]
  }
 ],
 "metadata": {
  "kernelspec": {
   "display_name": "Python 3",
   "language": "python",
   "name": "python3"
  },
  "language_info": {
   "codemirror_mode": {
    "name": "ipython",
    "version": 3
   },
   "file_extension": ".py",
   "mimetype": "text/x-python",
   "name": "python",
   "nbconvert_exporter": "python",
   "pygments_lexer": "ipython3",
   "version": "3.6.3"
  }
 },
 "nbformat": 4,
 "nbformat_minor": 2
}
