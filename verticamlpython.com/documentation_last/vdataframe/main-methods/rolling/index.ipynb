{
 "cells": [
  {
   "cell_type": "markdown",
   "metadata": {},
   "source": [
    "# vDataFrame.rolling"
   ]
  },
  {
   "cell_type": "code",
   "execution_count": null,
   "metadata": {},
   "outputs": [],
   "source": [
    "vDataFrame.rolling(func: str, \n",
    "                   column: str, \n",
    "                   preceding, \n",
    "                   following, \n",
    "                   column2: str = \"\",\n",
    "                   name: str = \"\",\n",
    "                   by: list = [], \n",
    "                   order_by = [],\n",
    "                   method: str = \"rows\",\n",
    "                   rule: str = \"auto\")"
   ]
  },
  {
   "cell_type": "markdown",
   "metadata": {},
   "source": [
    "Adds a new vcolumn to the vDataFrame by using an advanced analytical window function on one or two specific vcolumns."
   ]
  },
  {
   "cell_type": "markdown",
   "metadata": {},
   "source": [
    "### Parameters\n",
    "\n",
    "<table id=\"parameters\">\n",
    "    <tr> <th>Name</th> <th>Type</th> <th>Optional</th> <th>Description</th> </tr>\n",
    "    <tr> <td><div class=\"param_name\">func</div></td> <td><div class=\"type\">str</div></td> <td><div class = \"no\">&#10060;</div></td> <td>Function to use.<br>\n",
    "                                                    <ul>\n",
    "                                                        <li><b>beta :</b> Beta Coefficient between 2 vcolumns</li>\n",
    "                                                        <li><b>count :</b> number of non-missing elements</li>\n",
    "                                                        <li><b>corr :</b> Pearson correlation between 2 vcolumns</li>\n",
    "                                                        <li><b>cov :</b> covariance between 2 vcolumns</li>\n",
    "                                                        <li><b>kurtosis :</b> kurtosis</li>\n",
    "                                                        <li><b>jb :</b> Jarque Bera index </li>\n",
    "                                                        <li><b>mae :</b> mean absolute error (deviation)</li>\n",
    "                                                        <li><b>max :</b> maximum</li>\n",
    "                                                        <li><b>mean :</b> average</li>\n",
    "                                                        <li><b>min :</b> min</li>\n",
    "                                                        <li><b>prod :</b> product</li>\n",
    "                                                        <li><b>range :</b> difference between the max and the min</li>\n",
    "                                                        <li><b>sem :</b> standard error of the mean</li>\n",
    "                                                        <li><b>skewness :</b> skewness</li>\n",
    "                                                        <li><b>sum :</b> sum</li>\n",
    "                                                        <li><b>std :</b> standard deviation</li>\n",
    "                                                        <li><b>var :</b> variance</li>\n",
    "                                                        <li>Other aggregations could work if it is part of the DB version you are using.</li></ul></td> </tr>\n",
    "    <tr> <td><div class=\"param_name\">column</div></td> <td><div class=\"type\">str</div></td> <td><div class = \"no\">&#10060;</div></td> <td>Input vcolumn.</td> </tr>\n",
    "    <tr> <td><div class=\"param_name\">preceding</div></td> <td><div class=\"type\">int / str</div></td> <td><div class = \"no\">&#10060;</div></td> <td>First part of the moving window. With which lag/lead the window should begin. It can be an integer or an interval.</td> </tr>\n",
    "    <tr> <td><div class=\"param_name\">following</div></td> <td><div class=\"type\">int / str</div></td> <td><div class = \"no\">&#10060;</div></td> <td>Second part of the moving window. With which lag/lead the window should end. It can be an integer or an interval.</td> </tr>\n",
    "    <tr> <td><div class=\"param_name\">column2</div></td> <td><div class=\"type\">str</div></td> <td><div class = \"yes\">&#10003;</div></td> <td>Second input vcolumn in case of functions using 2 parameters.</td> </tr>\n",
    "    <tr> <td><div class=\"param_name\">name</div></td> <td><div class=\"type\">str</div></td> <td><div class = \"yes\">&#10003;</div></td> <td>Name of the new vcolumn. If empty a default name based on the other parameters will be generated.</td> </tr>\n",
    "    <tr> <td><div class=\"param_name\">by</div></td> <td><div class=\"type\">list</div></td> <td><div class = \"yes\">&#10003;</div></td> <td>vcolumns used in the partition.</td> </tr>\n",
    "    <tr> <td><div class=\"param_name\">order_by</div></td> <td><div class=\"type\">dict / list</div></td> <td><div class = \"yes\">&#10003;</div></td> <td>List of the vcolumns used to sort the data using asc order or dictionary of all the sorting methods. For example, to sort by \"column1\" ASC and \"column2\" DESC, write {\"column1\": \"asc\", \"column2\": \"desc\"}</td> </tr>\n",
    "    <tr> <td><div class=\"param_name\">method</div></td> <td><div class=\"type\">str</div></td> <td><div class = \"yes\">&#10003;</div></td> <td>Method used to compute the window.<br>\n",
    "                                                    <ul>\n",
    "                                                        <li><b>rows :</b> Uses number of leads/lags instead of time intervals</li>\n",
    "                                                        <li><b>range :</b> Uses time intervals instead of number of leads/lags</li></ul></td> </tr>\n",
    "    <tr> <td><div class=\"param_name\">rule</div></td> <td><div class=\"type\">str</div></td> <td><div class = \"yes\">&#10003;</div></td> <td>Rule used to compute the window.<br>\n",
    "                                                    <ul>\n",
    "                                                        <li><b>auto :</b> The 'preceding' parameter will correspond to a past event and the parameter 'following' to a future event.</li>\n",
    "                                                        <li><b>past :</b> Both parameters 'preceding' and following will consider past events.</li>\n",
    "        <li><b>future :</b> Both parameters 'preceding' and following will consider future events.</li></ul></td> </tr>\n",
    "</table>\n",
    "\n",
    "### Returns\n",
    "\n",
    "<b>vDataFrame</b> : self\n",
    "\n",
    "### Example"
   ]
  },
  {
   "cell_type": "code",
   "execution_count": 77,
   "metadata": {},
   "outputs": [
    {
     "data": {
      "text/html": [
       "<table style=\"border-collapse: collapse; border: 2px solid white\"><tr style=\"{border: 1px solid white;}\"><td style=\"border-bottom: 1px solid #DDD;font-size:1.02em;background-color:#214579;color:white\"><b></b></td><td style=\"font-size:1.02em;background-color:#214579;color:white\"><b>scheduled_departure</b></td><td style=\"font-size:1.02em;background-color:#214579;color:white\"><b>airline</b></td><td style=\"font-size:1.02em;background-color:#214579;color:white\"><b>destination_airport</b></td><td style=\"font-size:1.02em;background-color:#214579;color:white\"><b>arrival_delay</b></td><td style=\"font-size:1.02em;background-color:#214579;color:white\"><b>departure_delay</b></td><td style=\"font-size:1.02em;background-color:#214579;color:white\"><b>origin_airport</b></td></tr><tr style=\"{border: 1px solid white;}\"><td style=\"border-bottom: 1px solid #DDD;font-size:1.02em;background-color:#214579;color:white\"><b>0</b></td><td style=\"border: 1px solid white;\">2015-10-01 10:09:00</td><td style=\"border: 1px solid white;\">EV</td><td style=\"border: 1px solid white;\">10135</td><td style=\"border: 1px solid white;\">-2</td><td style=\"border: 1px solid white;\">-9</td><td style=\"border: 1px solid white;\">11433</td></tr><tr style=\"{border: 1px solid white;}\"><td style=\"border-bottom: 1px solid #DDD;font-size:1.02em;background-color:#214579;color:white\"><b>1</b></td><td style=\"border: 1px solid white;\">2015-10-01 10:27:00</td><td style=\"border: 1px solid white;\">EV</td><td style=\"border: 1px solid white;\">10135</td><td style=\"border: 1px solid white;\">-14</td><td style=\"border: 1px solid white;\">-3</td><td style=\"border: 1px solid white;\">10397</td></tr><tr style=\"{border: 1px solid white;}\"><td style=\"border-bottom: 1px solid #DDD;font-size:1.02em;background-color:#214579;color:white\"><b>2</b></td><td style=\"border: 1px solid white;\">2015-10-01 13:57:00</td><td style=\"border: 1px solid white;\">EV</td><td style=\"border: 1px solid white;\">10135</td><td style=\"border: 1px solid white;\">6</td><td style=\"border: 1px solid white;\">-4</td><td style=\"border: 1px solid white;\">13930</td></tr><tr style=\"{border: 1px solid white;}\"><td style=\"border-bottom: 1px solid #DDD;font-size:1.02em;background-color:#214579;color:white\"><b>3</b></td><td style=\"border: 1px solid white;\">2015-10-01 14:02:00</td><td style=\"border: 1px solid white;\">EV</td><td style=\"border: 1px solid white;\">10135</td><td style=\"border: 1px solid white;\">-8</td><td style=\"border: 1px solid white;\">-3</td><td style=\"border: 1px solid white;\">11433</td></tr><tr style=\"{border: 1px solid white;}\"><td style=\"border-bottom: 1px solid #DDD;font-size:1.02em;background-color:#214579;color:white\"><b>4</b></td><td style=\"border: 1px solid white;\">2015-10-01 14:44:00</td><td style=\"border: 1px solid white;\">EV</td><td style=\"border: 1px solid white;\">10135</td><td style=\"border: 1px solid white;\">-1</td><td style=\"border: 1px solid white;\">0</td><td style=\"border: 1px solid white;\">10397</td></tr><tr><td style=\"border-top: 1px solid white;background-color:#214579;color:white\"></td><td style=\"border: 1px solid white;\">...</td><td style=\"border: 1px solid white;\">...</td><td style=\"border: 1px solid white;\">...</td><td style=\"border: 1px solid white;\">...</td><td style=\"border: 1px solid white;\">...</td><td style=\"border: 1px solid white;\">...</td></tr></table>"
      ],
      "text/plain": [
       "<IPython.core.display.HTML object>"
      ]
     },
     "metadata": {},
     "output_type": "display_data"
    },
    {
     "name": "stdout",
     "output_type": "stream",
     "text": [
      "<object>  Name: flights, Number of rows: 4068736, Number of columns: 6\n"
     ]
    }
   ],
   "source": [
    "from vertica_ml_python import vDataFrame\n",
    "flights = vDataFrame(\"public.flights\")\n",
    "print(flights)"
   ]
  },
  {
   "cell_type": "code",
   "execution_count": 73,
   "metadata": {},
   "outputs": [
    {
     "data": {
      "text/html": [
       "<table style=\"border-collapse: collapse; border: 2px solid white\"><tr style=\"{border: 1px solid white;}\"><td style=\"border-bottom: 1px solid #DDD;font-size:1.02em;background-color:#214579;color:white\"><b></b></td><td style=\"font-size:1.02em;background-color:#214579;color:white\"><b>departure_delay</b></td><td style=\"font-size:1.02em;background-color:#214579;color:white\"><b>origin_airport</b></td><td style=\"font-size:1.02em;background-color:#214579;color:white\"><b>scheduled_departure</b></td><td style=\"font-size:1.02em;background-color:#214579;color:white\"><b>airline</b></td><td style=\"font-size:1.02em;background-color:#214579;color:white\"><b>destination_airport</b></td><td style=\"font-size:1.02em;background-color:#214579;color:white\"><b>arrival_delay</b></td><td style=\"font-size:1.02em;background-color:#214579;color:white\"><b>moving_avg_departure_delay__10_1_past</b></td></tr><tr style=\"{border: 1px solid white;}\"><td style=\"border-bottom: 1px solid #DDD;font-size:1.02em;background-color:#214579;color:white\"><b>0</b></td><td style=\"border: 1px solid white;\">-3</td><td style=\"border: 1px solid white;\">10397</td><td style=\"border: 1px solid white;\">2015-10-01 21:06:00</td><td style=\"border: 1px solid white;\">DL</td><td style=\"border: 1px solid white;\">10135</td><td style=\"border: 1px solid white;\">-14</td><td style=\"border: 1px solid white;\">None</td></tr><tr style=\"{border: 1px solid white;}\"><td style=\"border-bottom: 1px solid #DDD;font-size:1.02em;background-color:#214579;color:white\"><b>1</b></td><td style=\"border: 1px solid white;\">-2</td><td style=\"border: 1px solid white;\">10397</td><td style=\"border: 1px solid white;\">2015-10-02 21:06:00</td><td style=\"border: 1px solid white;\">DL</td><td style=\"border: 1px solid white;\">10135</td><td style=\"border: 1px solid white;\">-14</td><td style=\"border: 1px solid white;\">-3.0</td></tr><tr style=\"{border: 1px solid white;}\"><td style=\"border-bottom: 1px solid #DDD;font-size:1.02em;background-color:#214579;color:white\"><b>2</b></td><td style=\"border: 1px solid white;\">-2</td><td style=\"border: 1px solid white;\">10397</td><td style=\"border: 1px solid white;\">2015-10-03 21:06:00</td><td style=\"border: 1px solid white;\">DL</td><td style=\"border: 1px solid white;\">10135</td><td style=\"border: 1px solid white;\">-16</td><td style=\"border: 1px solid white;\">-2.5</td></tr><tr style=\"{border: 1px solid white;}\"><td style=\"border-bottom: 1px solid #DDD;font-size:1.02em;background-color:#214579;color:white\"><b>3</b></td><td style=\"border: 1px solid white;\">-7</td><td style=\"border: 1px solid white;\">10397</td><td style=\"border: 1px solid white;\">2015-10-04 21:06:00</td><td style=\"border: 1px solid white;\">DL</td><td style=\"border: 1px solid white;\">10135</td><td style=\"border: 1px solid white;\">-13</td><td style=\"border: 1px solid white;\">-2.33333333333333</td></tr><tr style=\"{border: 1px solid white;}\"><td style=\"border-bottom: 1px solid #DDD;font-size:1.02em;background-color:#214579;color:white\"><b>4</b></td><td style=\"border: 1px solid white;\">1</td><td style=\"border: 1px solid white;\">10397</td><td style=\"border: 1px solid white;\">2015-10-05 21:06:00</td><td style=\"border: 1px solid white;\">DL</td><td style=\"border: 1px solid white;\">10135</td><td style=\"border: 1px solid white;\">1</td><td style=\"border: 1px solid white;\">-3.5</td></tr><tr><td style=\"border-top: 1px solid white;background-color:#214579;color:white\"></td><td style=\"border: 1px solid white;\">...</td><td style=\"border: 1px solid white;\">...</td><td style=\"border: 1px solid white;\">...</td><td style=\"border: 1px solid white;\">...</td><td style=\"border: 1px solid white;\">...</td><td style=\"border: 1px solid white;\">...</td><td style=\"border: 1px solid white;\">...</td></tr></table>"
      ],
      "text/plain": [
       "<IPython.core.display.HTML object>"
      ]
     },
     "metadata": {},
     "output_type": "display_data"
    },
    {
     "data": {
      "text/plain": [
       "<object>  Name: flights, Number of rows: 4068736, Number of columns: 7"
      ]
     },
     "execution_count": 73,
     "metadata": {},
     "output_type": "execute_result"
    }
   ],
   "source": [
    "# AVG delay using the 10 previous similar flights for the same airline\n",
    "# method 'past' is used to change the 'following' to 'preceding'\n",
    "flights.rolling(func = \"avg\",\n",
    "                column = \"departure_delay\",\n",
    "                preceding = 10,\n",
    "                following = 1,\n",
    "                by = [\"origin_airport\", \"destination_airport\", \"airline\"],\n",
    "                order_by = {\"scheduled_departure\": \"asc\"},\n",
    "                method = \"rows\",\n",
    "                rule = \"past\")"
   ]
  },
  {
   "cell_type": "code",
   "execution_count": 76,
   "metadata": {},
   "outputs": [
    {
     "data": {
      "text/html": [
       "<table style=\"border-collapse: collapse; border: 2px solid white\"><tr style=\"{border: 1px solid white;}\"><td style=\"border-bottom: 1px solid #DDD;font-size:1.02em;background-color:#214579;color:white\"><b></b></td><td style=\"font-size:1.02em;background-color:#214579;color:white\"><b>departure_delay</b></td><td style=\"font-size:1.02em;background-color:#214579;color:white\"><b>origin_airport</b></td><td style=\"font-size:1.02em;background-color:#214579;color:white\"><b>scheduled_departure</b></td><td style=\"font-size:1.02em;background-color:#214579;color:white\"><b>airline</b></td><td style=\"font-size:1.02em;background-color:#214579;color:white\"><b>destination_airport</b></td><td style=\"font-size:1.02em;background-color:#214579;color:white\"><b>arrival_delay</b></td><td style=\"font-size:1.02em;background-color:#214579;color:white\"><b>departure_delay_mean_moving_corr_departure_delay_arrival_delay_100_10_auto</b></td><td style=\"font-size:1.02em;background-color:#214579;color:white\"><b>arrival_delay_mean_moving_corr_departure_delay_arrival_delay_100_10_auto</b></td><td style=\"font-size:1.02em;background-color:#214579;color:white\"><b>moving_corr_departure_delay_arrival_delay_100_10_auto</b></td></tr><tr style=\"{border: 1px solid white;}\"><td style=\"border-bottom: 1px solid #DDD;font-size:1.02em;background-color:#214579;color:white\"><b>0</b></td><td style=\"border: 1px solid white;\">-6</td><td style=\"border: 1px solid white;\">10135</td><td style=\"border: 1px solid white;\">2015-10-01 12:00:00</td><td style=\"border: 1px solid white;\">EV</td><td style=\"border: 1px solid white;\">10397</td><td style=\"border: 1px solid white;\">10</td><td style=\"border: 1px solid white;\">-2.54545454545455</td><td style=\"border: 1px solid white;\">-0.727272727272727</td><td style=\"border: 1px solid white;\">0.665496986330034</td></tr><tr style=\"{border: 1px solid white;}\"><td style=\"border-bottom: 1px solid #DDD;font-size:1.02em;background-color:#214579;color:white\"><b>1</b></td><td style=\"border: 1px solid white;\">-8</td><td style=\"border: 1px solid white;\">10135</td><td style=\"border: 1px solid white;\">2015-10-01 12:05:00</td><td style=\"border: 1px solid white;\">EV</td><td style=\"border: 1px solid white;\">13930</td><td style=\"border: 1px solid white;\">-3</td><td style=\"border: 1px solid white;\">-2.25</td><td style=\"border: 1px solid white;\">-1.0</td><td style=\"border: 1px solid white;\">1.08144135243024</td></tr><tr style=\"{border: 1px solid white;}\"><td style=\"border-bottom: 1px solid #DDD;font-size:1.02em;background-color:#214579;color:white\"><b>2</b></td><td style=\"border: 1px solid white;\">-7</td><td style=\"border: 1px solid white;\">10135</td><td style=\"border: 1px solid white;\">2015-10-01 12:55:00</td><td style=\"border: 1px solid white;\">EV</td><td style=\"border: 1px solid white;\">11433</td><td style=\"border: 1px solid white;\">-10</td><td style=\"border: 1px solid white;\">-2.76923076923077</td><td style=\"border: 1px solid white;\">-2.0</td><td style=\"border: 1px solid white;\">2.032741145048</td></tr><tr style=\"{border: 1px solid white;}\"><td style=\"border-bottom: 1px solid #DDD;font-size:1.02em;background-color:#214579;color:white\"><b>3</b></td><td style=\"border: 1px solid white;\">-5</td><td style=\"border: 1px solid white;\">10135</td><td style=\"border: 1px solid white;\">2015-10-01 16:00:00</td><td style=\"border: 1px solid white;\">EV</td><td style=\"border: 1px solid white;\">10397</td><td style=\"border: 1px solid white;\">-1</td><td style=\"border: 1px solid white;\">-1.07142857142857</td><td style=\"border: 1px solid white;\">-0.642857142857143</td><td style=\"border: 1px solid white;\">1.03197084212886</td></tr><tr style=\"{border: 1px solid white;}\"><td style=\"border-bottom: 1px solid #DDD;font-size:1.02em;background-color:#214579;color:white\"><b>4</b></td><td style=\"border: 1px solid white;\">0</td><td style=\"border: 1px solid white;\">10135</td><td style=\"border: 1px solid white;\">2015-10-01 17:11:00</td><td style=\"border: 1px solid white;\">EV</td><td style=\"border: 1px solid white;\">11433</td><td style=\"border: 1px solid white;\">1</td><td style=\"border: 1px solid white;\">0.333333333333333</td><td style=\"border: 1px solid white;\">0.0666666666666667</td><td style=\"border: 1px solid white;\">0.801369105671833</td></tr><tr><td style=\"border-top: 1px solid white;background-color:#214579;color:white\"></td><td style=\"border: 1px solid white;\">...</td><td style=\"border: 1px solid white;\">...</td><td style=\"border: 1px solid white;\">...</td><td style=\"border: 1px solid white;\">...</td><td style=\"border: 1px solid white;\">...</td><td style=\"border: 1px solid white;\">...</td><td style=\"border: 1px solid white;\">...</td><td style=\"border: 1px solid white;\">...</td><td style=\"border: 1px solid white;\">...</td></tr></table>"
      ],
      "text/plain": [
       "<IPython.core.display.HTML object>"
      ]
     },
     "metadata": {},
     "output_type": "display_data"
    },
    {
     "data": {
      "text/plain": [
       "<object>  Name: flights, Number of rows: 4068736, Number of columns: 9"
      ]
     },
     "execution_count": 76,
     "metadata": {},
     "output_type": "execute_result"
    }
   ],
   "source": [
    "# Corr between arrival_delay and departure_delay using the 100 previous flights\n",
    "# and the 10 following flights at the same airport\n",
    "flights.rolling(func = \"corr\",\n",
    "                column = \"departure_delay\",\n",
    "                column2 = \"arrival_delay\",\n",
    "                preceding = 100,\n",
    "                following = 10,\n",
    "                by = [\"origin_airport\"],\n",
    "                order_by = {\"scheduled_departure\": \"asc\"},\n",
    "                method = \"rows\",\n",
    "                rule = \"auto\")"
   ]
  },
  {
   "cell_type": "code",
   "execution_count": 78,
   "metadata": {},
   "outputs": [
    {
     "data": {
      "text/html": [
       "<table style=\"border-collapse: collapse; border: 2px solid white\"><tr style=\"{border: 1px solid white;}\"><td style=\"border-bottom: 1px solid #DDD;font-size:1.02em;background-color:#214579;color:white\"><b></b></td><td style=\"font-size:1.02em;background-color:#214579;color:white\"><b>scheduled_departure</b></td><td style=\"font-size:1.02em;background-color:#214579;color:white\"><b>airline</b></td><td style=\"font-size:1.02em;background-color:#214579;color:white\"><b>destination_airport</b></td><td style=\"font-size:1.02em;background-color:#214579;color:white\"><b>arrival_delay</b></td><td style=\"font-size:1.02em;background-color:#214579;color:white\"><b>departure_delay</b></td><td style=\"font-size:1.02em;background-color:#214579;color:white\"><b>origin_airport</b></td><td style=\"font-size:1.02em;background-color:#214579;color:white\"><b>moving_count_scheduled_departure__2hours_1hour_auto</b></td></tr><tr style=\"{border: 1px solid white;}\"><td style=\"border-bottom: 1px solid #DDD;font-size:1.02em;background-color:#214579;color:white\"><b>0</b></td><td style=\"border: 1px solid white;\">2015-10-01 10:55:00</td><td style=\"border: 1px solid white;\">AA</td><td style=\"border: 1px solid white;\">11298</td><td style=\"border: 1px solid white;\">-20</td><td style=\"border: 1px solid white;\">-11</td><td style=\"border: 1px solid white;\">10140</td><td style=\"border: 1px solid white;\">1</td></tr><tr style=\"{border: 1px solid white;}\"><td style=\"border-bottom: 1px solid #DDD;font-size:1.02em;background-color:#214579;color:white\"><b>1</b></td><td style=\"border: 1px solid white;\">2015-10-01 12:09:00</td><td style=\"border: 1px solid white;\">AA</td><td style=\"border: 1px solid white;\">11298</td><td style=\"border: 1px solid white;\">-18</td><td style=\"border: 1px solid white;\">-10</td><td style=\"border: 1px solid white;\">10140</td><td style=\"border: 1px solid white;\">2</td></tr><tr style=\"{border: 1px solid white;}\"><td style=\"border-bottom: 1px solid #DDD;font-size:1.02em;background-color:#214579;color:white\"><b>2</b></td><td style=\"border: 1px solid white;\">2015-10-01 14:20:00</td><td style=\"border: 1px solid white;\">AA</td><td style=\"border: 1px solid white;\">11298</td><td style=\"border: 1px solid white;\">-11</td><td style=\"border: 1px solid white;\">-2</td><td style=\"border: 1px solid white;\">10140</td><td style=\"border: 1px solid white;\">1</td></tr><tr style=\"{border: 1px solid white;}\"><td style=\"border-bottom: 1px solid #DDD;font-size:1.02em;background-color:#214579;color:white\"><b>3</b></td><td style=\"border: 1px solid white;\">2015-10-01 16:19:00</td><td style=\"border: 1px solid white;\">AA</td><td style=\"border: 1px solid white;\">11298</td><td style=\"border: 1px solid white;\">5</td><td style=\"border: 1px solid white;\">-6</td><td style=\"border: 1px solid white;\">10140</td><td style=\"border: 1px solid white;\">2</td></tr><tr style=\"{border: 1px solid white;}\"><td style=\"border-bottom: 1px solid #DDD;font-size:1.02em;background-color:#214579;color:white\"><b>4</b></td><td style=\"border: 1px solid white;\">2015-10-02 10:55:00</td><td style=\"border: 1px solid white;\">AA</td><td style=\"border: 1px solid white;\">11298</td><td style=\"border: 1px solid white;\">-28</td><td style=\"border: 1px solid white;\">-9</td><td style=\"border: 1px solid white;\">10140</td><td style=\"border: 1px solid white;\">1</td></tr><tr><td style=\"border-top: 1px solid white;background-color:#214579;color:white\"></td><td style=\"border: 1px solid white;\">...</td><td style=\"border: 1px solid white;\">...</td><td style=\"border: 1px solid white;\">...</td><td style=\"border: 1px solid white;\">...</td><td style=\"border: 1px solid white;\">...</td><td style=\"border: 1px solid white;\">...</td><td style=\"border: 1px solid white;\">...</td></tr></table>"
      ],
      "text/plain": [
       "<IPython.core.display.HTML object>"
      ]
     },
     "metadata": {},
     "output_type": "display_data"
    },
    {
     "data": {
      "text/plain": [
       "<object>  Name: flights, Number of rows: 4068736, Number of columns: 7"
      ]
     },
     "execution_count": 78,
     "metadata": {},
     "output_type": "execute_result"
    }
   ],
   "source": [
    "# Number of flights the airline has to manage 2 hours preceding \n",
    "# the flight and 1 hour following\n",
    "flights.rolling(func = \"count\",\n",
    "                column = \"scheduled_departure\",\n",
    "                preceding = '2 hours',\n",
    "                following = '1 hour',\n",
    "                by = [\"origin_airport\", \"airline\"],\n",
    "                order_by = {\"scheduled_departure\": \"asc\"},\n",
    "                method = \"range\",\n",
    "                rule = \"auto\")"
   ]
  },
  {
   "cell_type": "markdown",
   "metadata": {},
   "source": [
    "### See Also\n",
    "\n",
    "<table id=\"seealso\">\n",
    "    <tr><td><a href=\"../analytic\">vDataFrame.analytic</a></td> <td> Adds a new vcolumn to the vDataFrame by using an advanced analytical function on a specific vcolumn.</td></tr>\n",
    "    <tr><td><a href=\"../eval\">vDataFrame.eval</a></td> <td> Evaluates a customized expression.</td></tr>\n",
    "</table>"
   ]
  }
 ],
 "metadata": {
  "kernelspec": {
   "display_name": "Python 3",
   "language": "python",
   "name": "python3"
  },
  "language_info": {
   "codemirror_mode": {
    "name": "ipython",
    "version": 3
   },
   "file_extension": ".py",
   "mimetype": "text/x-python",
   "name": "python",
   "nbconvert_exporter": "python",
   "pygments_lexer": "ipython3",
   "version": "3.6.3"
  }
 },
 "nbformat": 4,
 "nbformat_minor": 2
}
