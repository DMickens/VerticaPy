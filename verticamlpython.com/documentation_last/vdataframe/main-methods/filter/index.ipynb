{
 "cells": [
  {
   "cell_type": "markdown",
   "metadata": {},
   "source": [
    "# vDataFrame.filter"
   ]
  },
  {
   "cell_type": "code",
   "execution_count": null,
   "metadata": {},
   "outputs": [],
   "source": [
    "vDataFrame.filter(expr: str = \"\", \n",
    "                  conditions: list = [],\n",
    "                  print_info: bool = True)"
   ]
  },
  {
   "cell_type": "markdown",
   "metadata": {},
   "source": [
    "Filters the vDataFrame using the input expressions.\n",
    "\n",
    "### Parameters\n",
    "\n",
    "<table id=\"parameters\">\n",
    "    <tr> <th>Name</th> <th>Type</th> <th>Optional</th> <th>Description</th> </tr>\n",
    "    <tr> <td><div class=\"param_name\">expr</div></td> <td><div class=\"type\">str</div></td> <td><div class = \"yes\">&#10003;</div></td> <td>Customized SQL expression used to filter the data. For example to keep only the records where the vcolumn 'column' is greater than 5 you can write 'column > 5' or '\"column\" > 5'. Try to always keep the double quotes if possible, it will make the parsing easier. </td> </tr>\n",
    "    <tr> <td><div class=\"param_name\">conditions</div></td> <td><div class=\"type\">list</div></td> <td><div class = \"yes\">&#10003;</div></td> <td>List of expressions. For example to keep only the records where the vcolumn 'column' is greater than 5 and lesser than 10 you can write ['\"column\" > 5', '\"column\" < 10'].</td> </tr>\n",
    "        <tr> <td><div class=\"param_name\">print_info</div></td> <td><div class=\"type\">bool</div></td> <td><div class = \"yes\">&#10003;</div></td> <td>If set to True, the result of the filtering will be displayed.</td> </tr>\n",
    "</table>"
   ]
  },
  {
   "cell_type": "markdown",
   "metadata": {},
   "source": [
    "### Returns\n",
    "\n",
    "<b>vDataFrame</b> : self\n",
    "\n",
    "### Example"
   ]
  },
  {
   "cell_type": "code",
   "execution_count": 8,
   "metadata": {},
   "outputs": [
    {
     "data": {
      "text/html": [
       "<table style=\"border-collapse: collapse; border: 2px solid white\"><tr style=\"{border: 1px solid white;}\"><td style=\"border-bottom: 1px solid #DDD;font-size:1.02em;background-color:#263133;color:white\"><b></b></td><td style=\"font-size:1.02em;background-color:#263133;color:white\"><b>survived</b></td><td style=\"font-size:1.02em;background-color:#263133;color:white\"><b>boat</b></td><td style=\"font-size:1.02em;background-color:#263133;color:white\"><b>ticket</b></td><td style=\"font-size:1.02em;background-color:#263133;color:white\"><b>embarked</b></td><td style=\"font-size:1.02em;background-color:#263133;color:white\"><b>home.dest</b></td><td style=\"font-size:1.02em;background-color:#263133;color:white\"><b>sibsp</b></td><td style=\"font-size:1.02em;background-color:#263133;color:white\"><b>fare</b></td><td style=\"font-size:1.02em;background-color:#263133;color:white\"><b>sex</b></td><td style=\"font-size:1.02em;background-color:#263133;color:white\"><b>body</b></td><td style=\"font-size:1.02em;background-color:#263133;color:white\"><b>pclass</b></td><td style=\"font-size:1.02em;background-color:#263133;color:white\"><b>age</b></td><td style=\"font-size:1.02em;background-color:#263133;color:white\"><b>name</b></td><td style=\"font-size:1.02em;background-color:#263133;color:white\"><b>cabin</b></td><td style=\"font-size:1.02em;background-color:#263133;color:white\"><b>parch</b></td></tr><tr style=\"{border: 1px solid white;}\"><td style=\"border-bottom: 1px solid #DDD;font-size:1.02em;background-color:#263133;color:white\"><b>0</b></td><td style=\"border: 1px solid white;\">0</td><td style=\"border: 1px solid white;\">None</td><td style=\"border: 1px solid white;\">113781</td><td style=\"border: 1px solid white;\">S</td><td style=\"border: 1px solid white;\">Montreal, PQ / Chesterville, ON</td><td style=\"border: 1px solid white;\">1</td><td style=\"border: 1px solid white;\">151.55000</td><td style=\"border: 1px solid white;\">female</td><td style=\"border: 1px solid white;\">None</td><td style=\"border: 1px solid white;\">1</td><td style=\"border: 1px solid white;\">2.000</td><td style=\"border: 1px solid white;\">Allison, Miss. Helen Loraine</td><td style=\"border: 1px solid white;\">C22 C26</td><td style=\"border: 1px solid white;\">2</td></tr><tr style=\"{border: 1px solid white;}\"><td style=\"border-bottom: 1px solid #DDD;font-size:1.02em;background-color:#263133;color:white\"><b>1</b></td><td style=\"border: 1px solid white;\">0</td><td style=\"border: 1px solid white;\">None</td><td style=\"border: 1px solid white;\">113781</td><td style=\"border: 1px solid white;\">S</td><td style=\"border: 1px solid white;\">Montreal, PQ / Chesterville, ON</td><td style=\"border: 1px solid white;\">1</td><td style=\"border: 1px solid white;\">151.55000</td><td style=\"border: 1px solid white;\">male</td><td style=\"border: 1px solid white;\">135</td><td style=\"border: 1px solid white;\">1</td><td style=\"border: 1px solid white;\">30.000</td><td style=\"border: 1px solid white;\">Allison, Mr. Hudson Joshua Creighton</td><td style=\"border: 1px solid white;\">C22 C26</td><td style=\"border: 1px solid white;\">2</td></tr><tr style=\"{border: 1px solid white;}\"><td style=\"border-bottom: 1px solid #DDD;font-size:1.02em;background-color:#263133;color:white\"><b>2</b></td><td style=\"border: 1px solid white;\">0</td><td style=\"border: 1px solid white;\">None</td><td style=\"border: 1px solid white;\">113781</td><td style=\"border: 1px solid white;\">S</td><td style=\"border: 1px solid white;\">Montreal, PQ / Chesterville, ON</td><td style=\"border: 1px solid white;\">1</td><td style=\"border: 1px solid white;\">151.55000</td><td style=\"border: 1px solid white;\">female</td><td style=\"border: 1px solid white;\">None</td><td style=\"border: 1px solid white;\">1</td><td style=\"border: 1px solid white;\">25.000</td><td style=\"border: 1px solid white;\">Allison, Mrs. Hudson J C (Bessie Waldo Daniels)</td><td style=\"border: 1px solid white;\">C22 C26</td><td style=\"border: 1px solid white;\">2</td></tr><tr style=\"{border: 1px solid white;}\"><td style=\"border-bottom: 1px solid #DDD;font-size:1.02em;background-color:#263133;color:white\"><b>3</b></td><td style=\"border: 1px solid white;\">0</td><td style=\"border: 1px solid white;\">None</td><td style=\"border: 1px solid white;\">112050</td><td style=\"border: 1px solid white;\">S</td><td style=\"border: 1px solid white;\">Belfast, NI</td><td style=\"border: 1px solid white;\">0</td><td style=\"border: 1px solid white;\">0.00000</td><td style=\"border: 1px solid white;\">male</td><td style=\"border: 1px solid white;\">None</td><td style=\"border: 1px solid white;\">1</td><td style=\"border: 1px solid white;\">39.000</td><td style=\"border: 1px solid white;\">Andrews, Mr. Thomas Jr</td><td style=\"border: 1px solid white;\">A36</td><td style=\"border: 1px solid white;\">0</td></tr><tr style=\"{border: 1px solid white;}\"><td style=\"border-bottom: 1px solid #DDD;font-size:1.02em;background-color:#263133;color:white\"><b>4</b></td><td style=\"border: 1px solid white;\">0</td><td style=\"border: 1px solid white;\">None</td><td style=\"border: 1px solid white;\">PC 17609</td><td style=\"border: 1px solid white;\">C</td><td style=\"border: 1px solid white;\">Montevideo, Uruguay</td><td style=\"border: 1px solid white;\">0</td><td style=\"border: 1px solid white;\">49.50420</td><td style=\"border: 1px solid white;\">male</td><td style=\"border: 1px solid white;\">22</td><td style=\"border: 1px solid white;\">1</td><td style=\"border: 1px solid white;\">71.000</td><td style=\"border: 1px solid white;\">Artagaveytia, Mr. Ramon</td><td style=\"border: 1px solid white;\">None</td><td style=\"border: 1px solid white;\">0</td></tr><tr><td style=\"border-top: 1px solid white;background-color:#263133;color:white\"></td><td style=\"border: 1px solid white;\">...</td><td style=\"border: 1px solid white;\">...</td><td style=\"border: 1px solid white;\">...</td><td style=\"border: 1px solid white;\">...</td><td style=\"border: 1px solid white;\">...</td><td style=\"border: 1px solid white;\">...</td><td style=\"border: 1px solid white;\">...</td><td style=\"border: 1px solid white;\">...</td><td style=\"border: 1px solid white;\">...</td><td style=\"border: 1px solid white;\">...</td><td style=\"border: 1px solid white;\">...</td><td style=\"border: 1px solid white;\">...</td><td style=\"border: 1px solid white;\">...</td><td style=\"border: 1px solid white;\">...</td></tr></table>"
      ],
      "text/plain": [
       "<IPython.core.display.HTML object>"
      ]
     },
     "metadata": {},
     "output_type": "display_data"
    },
    {
     "name": "stdout",
     "output_type": "stream",
     "text": [
      "<object>  Name: titanic, Number of rows: 1234, Number of columns: 14\n"
     ]
    }
   ],
   "source": [
    "from vertica_ml_python.learn.datasets import load_titanic\n",
    "titanic = load_titanic()\n",
    "print(titanic)"
   ]
  },
  {
   "cell_type": "code",
   "execution_count": 9,
   "metadata": {},
   "outputs": [
    {
     "name": "stdout",
     "output_type": "stream",
     "text": [
      "1094 element(s) was/were filtered\n"
     ]
    },
    {
     "data": {
      "text/html": [
       "<table style=\"border-collapse: collapse; border: 2px solid white\"><tr style=\"{border: 1px solid white;}\"><td style=\"border-bottom: 1px solid #DDD;font-size:1.02em;background-color:#263133;color:white\"><b></b></td><td style=\"font-size:1.02em;background-color:#263133;color:white\"><b>survived</b></td><td style=\"font-size:1.02em;background-color:#263133;color:white\"><b>boat</b></td><td style=\"font-size:1.02em;background-color:#263133;color:white\"><b>ticket</b></td><td style=\"font-size:1.02em;background-color:#263133;color:white\"><b>embarked</b></td><td style=\"font-size:1.02em;background-color:#263133;color:white\"><b>home.dest</b></td><td style=\"font-size:1.02em;background-color:#263133;color:white\"><b>sibsp</b></td><td style=\"font-size:1.02em;background-color:#263133;color:white\"><b>fare</b></td><td style=\"font-size:1.02em;background-color:#263133;color:white\"><b>sex</b></td><td style=\"font-size:1.02em;background-color:#263133;color:white\"><b>body</b></td><td style=\"font-size:1.02em;background-color:#263133;color:white\"><b>pclass</b></td><td style=\"font-size:1.02em;background-color:#263133;color:white\"><b>age</b></td><td style=\"font-size:1.02em;background-color:#263133;color:white\"><b>name</b></td><td style=\"font-size:1.02em;background-color:#263133;color:white\"><b>cabin</b></td><td style=\"font-size:1.02em;background-color:#263133;color:white\"><b>parch</b></td></tr><tr style=\"{border: 1px solid white;}\"><td style=\"border-bottom: 1px solid #DDD;font-size:1.02em;background-color:#263133;color:white\"><b>0</b></td><td style=\"border: 1px solid white;\">0</td><td style=\"border: 1px solid white;\">None</td><td style=\"border: 1px solid white;\">113781</td><td style=\"border: 1px solid white;\">S</td><td style=\"border: 1px solid white;\">Montreal, PQ / Chesterville, ON</td><td style=\"border: 1px solid white;\">1</td><td style=\"border: 1px solid white;\">151.55000</td><td style=\"border: 1px solid white;\">female</td><td style=\"border: 1px solid white;\">None</td><td style=\"border: 1px solid white;\">1</td><td style=\"border: 1px solid white;\">2.000</td><td style=\"border: 1px solid white;\">Allison, Miss. Helen Loraine</td><td style=\"border: 1px solid white;\">C22 C26</td><td style=\"border: 1px solid white;\">2</td></tr><tr style=\"{border: 1px solid white;}\"><td style=\"border-bottom: 1px solid #DDD;font-size:1.02em;background-color:#263133;color:white\"><b>1</b></td><td style=\"border: 1px solid white;\">0</td><td style=\"border: 1px solid white;\">None</td><td style=\"border: 1px solid white;\">113781</td><td style=\"border: 1px solid white;\">S</td><td style=\"border: 1px solid white;\">Montreal, PQ / Chesterville, ON</td><td style=\"border: 1px solid white;\">1</td><td style=\"border: 1px solid white;\">151.55000</td><td style=\"border: 1px solid white;\">female</td><td style=\"border: 1px solid white;\">None</td><td style=\"border: 1px solid white;\">1</td><td style=\"border: 1px solid white;\">25.000</td><td style=\"border: 1px solid white;\">Allison, Mrs. Hudson J C (Bessie Waldo Daniels)</td><td style=\"border: 1px solid white;\">C22 C26</td><td style=\"border: 1px solid white;\">2</td></tr><tr style=\"{border: 1px solid white;}\"><td style=\"border-bottom: 1px solid #DDD;font-size:1.02em;background-color:#263133;color:white\"><b>2</b></td><td style=\"border: 1px solid white;\">0</td><td style=\"border: 1px solid white;\">None</td><td style=\"border: 1px solid white;\">PC 17531</td><td style=\"border: 1px solid white;\">C</td><td style=\"border: 1px solid white;\">New York, NY</td><td style=\"border: 1px solid white;\">0</td><td style=\"border: 1px solid white;\">31.67920</td><td style=\"border: 1px solid white;\">female</td><td style=\"border: 1px solid white;\">None</td><td style=\"border: 1px solid white;\">1</td><td style=\"border: 1px solid white;\">36.000</td><td style=\"border: 1px solid white;\">Evans, Miss. Edith Corse</td><td style=\"border: 1px solid white;\">A29</td><td style=\"border: 1px solid white;\">0</td></tr><tr style=\"{border: 1px solid white;}\"><td style=\"border-bottom: 1px solid #DDD;font-size:1.02em;background-color:#263133;color:white\"><b>3</b></td><td style=\"border: 1px solid white;\">0</td><td style=\"border: 1px solid white;\">None</td><td style=\"border: 1px solid white;\">PC 17595</td><td style=\"border: 1px solid white;\">C</td><td style=\"border: 1px solid white;\">Paris, France New York, NY</td><td style=\"border: 1px solid white;\">0</td><td style=\"border: 1px solid white;\">28.71250</td><td style=\"border: 1px solid white;\">female</td><td style=\"border: 1px solid white;\">None</td><td style=\"border: 1px solid white;\">1</td><td style=\"border: 1px solid white;\">50.000</td><td style=\"border: 1px solid white;\">Isham, Miss. Ann Elizabeth</td><td style=\"border: 1px solid white;\">C49</td><td style=\"border: 1px solid white;\">0</td></tr><tr style=\"{border: 1px solid white;}\"><td style=\"border-bottom: 1px solid #DDD;font-size:1.02em;background-color:#263133;color:white\"><b>4</b></td><td style=\"border: 1px solid white;\">0</td><td style=\"border: 1px solid white;\">None</td><td style=\"border: 1px solid white;\">PC 17483</td><td style=\"border: 1px solid white;\">S</td><td style=\"border: 1px solid white;\">New York, NY</td><td style=\"border: 1px solid white;\">1</td><td style=\"border: 1px solid white;\">221.77920</td><td style=\"border: 1px solid white;\">female</td><td style=\"border: 1px solid white;\">None</td><td style=\"border: 1px solid white;\">1</td><td style=\"border: 1px solid white;\">63.000</td><td style=\"border: 1px solid white;\">Straus, Mrs. Isidor (Rosalie Ida Blun)</td><td style=\"border: 1px solid white;\">C55 C57</td><td style=\"border: 1px solid white;\">0</td></tr><tr><td style=\"border-top: 1px solid white;background-color:#263133;color:white\"></td><td style=\"border: 1px solid white;\">...</td><td style=\"border: 1px solid white;\">...</td><td style=\"border: 1px solid white;\">...</td><td style=\"border: 1px solid white;\">...</td><td style=\"border: 1px solid white;\">...</td><td style=\"border: 1px solid white;\">...</td><td style=\"border: 1px solid white;\">...</td><td style=\"border: 1px solid white;\">...</td><td style=\"border: 1px solid white;\">...</td><td style=\"border: 1px solid white;\">...</td><td style=\"border: 1px solid white;\">...</td><td style=\"border: 1px solid white;\">...</td><td style=\"border: 1px solid white;\">...</td><td style=\"border: 1px solid white;\">...</td></tr></table>"
      ],
      "text/plain": [
       "<IPython.core.display.HTML object>"
      ]
     },
     "metadata": {},
     "output_type": "display_data"
    },
    {
     "data": {
      "text/plain": [
       "<object>  Name: titanic, Number of rows: 140, Number of columns: 14"
      ]
     },
     "execution_count": 9,
     "metadata": {},
     "output_type": "execute_result"
    }
   ],
   "source": [
    "# filtering using an expression\n",
    "titanic.filter(expr = \"sex = 'female' AND pclass = 1\")"
   ]
  },
  {
   "cell_type": "code",
   "execution_count": 10,
   "metadata": {},
   "outputs": [
    {
     "name": "stdout",
     "output_type": "stream",
     "text": [
      "137 element(s) was/were filtered\n"
     ]
    },
    {
     "data": {
      "text/html": [
       "<table style=\"border-collapse: collapse; border: 2px solid white\"><tr style=\"{border: 1px solid white;}\"><td style=\"border-bottom: 1px solid #DDD;font-size:1.02em;background-color:#263133;color:white\"><b></b></td><td style=\"font-size:1.02em;background-color:#263133;color:white\"><b>survived</b></td><td style=\"font-size:1.02em;background-color:#263133;color:white\"><b>boat</b></td><td style=\"font-size:1.02em;background-color:#263133;color:white\"><b>ticket</b></td><td style=\"font-size:1.02em;background-color:#263133;color:white\"><b>embarked</b></td><td style=\"font-size:1.02em;background-color:#263133;color:white\"><b>home.dest</b></td><td style=\"font-size:1.02em;background-color:#263133;color:white\"><b>sibsp</b></td><td style=\"font-size:1.02em;background-color:#263133;color:white\"><b>fare</b></td><td style=\"font-size:1.02em;background-color:#263133;color:white\"><b>sex</b></td><td style=\"font-size:1.02em;background-color:#263133;color:white\"><b>body</b></td><td style=\"font-size:1.02em;background-color:#263133;color:white\"><b>pclass</b></td><td style=\"font-size:1.02em;background-color:#263133;color:white\"><b>age</b></td><td style=\"font-size:1.02em;background-color:#263133;color:white\"><b>name</b></td><td style=\"font-size:1.02em;background-color:#263133;color:white\"><b>cabin</b></td><td style=\"font-size:1.02em;background-color:#263133;color:white\"><b>parch</b></td></tr><tr style=\"{border: 1px solid white;}\"><td style=\"border-bottom: 1px solid #DDD;font-size:1.02em;background-color:#263133;color:white\"><b>0</b></td><td style=\"border: 1px solid white;\">0</td><td style=\"border: 1px solid white;\">None</td><td style=\"border: 1px solid white;\">113781</td><td style=\"border: 1px solid white;\">S</td><td style=\"border: 1px solid white;\">Montreal, PQ / Chesterville, ON</td><td style=\"border: 1px solid white;\">1</td><td style=\"border: 1px solid white;\">151.55000</td><td style=\"border: 1px solid white;\">female</td><td style=\"border: 1px solid white;\">None</td><td style=\"border: 1px solid white;\">1</td><td style=\"border: 1px solid white;\">2.000</td><td style=\"border: 1px solid white;\">Allison, Miss. Helen Loraine</td><td style=\"border: 1px solid white;\">C22 C26</td><td style=\"border: 1px solid white;\">2</td></tr><tr style=\"{border: 1px solid white;}\"><td style=\"border-bottom: 1px solid #DDD;font-size:1.02em;background-color:#263133;color:white\"><b>1</b></td><td style=\"border: 1px solid white;\">0</td><td style=\"border: 1px solid white;\">None</td><td style=\"border: 1px solid white;\">113781</td><td style=\"border: 1px solid white;\">S</td><td style=\"border: 1px solid white;\">Montreal, PQ / Chesterville, ON</td><td style=\"border: 1px solid white;\">1</td><td style=\"border: 1px solid white;\">151.55000</td><td style=\"border: 1px solid white;\">female</td><td style=\"border: 1px solid white;\">None</td><td style=\"border: 1px solid white;\">1</td><td style=\"border: 1px solid white;\">25.000</td><td style=\"border: 1px solid white;\">Allison, Mrs. Hudson J C (Bessie Waldo Daniels)</td><td style=\"border: 1px solid white;\">C22 C26</td><td style=\"border: 1px solid white;\">2</td></tr><tr style=\"{border: 1px solid white;}\"><td style=\"border-bottom: 1px solid #DDD;font-size:1.02em;background-color:#263133;color:white\"><b>2</b></td><td style=\"border: 1px solid white;\">0</td><td style=\"border: 1px solid white;\">None</td><td style=\"border: 1px solid white;\">PC 17483</td><td style=\"border: 1px solid white;\">S</td><td style=\"border: 1px solid white;\">New York, NY</td><td style=\"border: 1px solid white;\">1</td><td style=\"border: 1px solid white;\">221.77920</td><td style=\"border: 1px solid white;\">female</td><td style=\"border: 1px solid white;\">None</td><td style=\"border: 1px solid white;\">1</td><td style=\"border: 1px solid white;\">63.000</td><td style=\"border: 1px solid white;\">Straus, Mrs. Isidor (Rosalie Ida Blun)</td><td style=\"border: 1px solid white;\">C55 C57</td><td style=\"border: 1px solid white;\">0</td></tr></table>"
      ],
      "text/plain": [
       "<IPython.core.display.HTML object>"
      ]
     },
     "metadata": {},
     "output_type": "display_data"
    },
    {
     "data": {
      "text/plain": [
       "<object>  Name: titanic, Number of rows: 3, Number of columns: 14"
      ]
     },
     "execution_count": 10,
     "metadata": {},
     "output_type": "execute_result"
    }
   ],
   "source": [
    "# filtering using multiple conditions\n",
    "titanic.filter(conditions = [\"fare > 50\", \"survived = 0\"])"
   ]
  },
  {
   "cell_type": "markdown",
   "metadata": {},
   "source": [
    "### See Also\n",
    "\n",
    "<table id=\"seealso\">\n",
    "    <tr><td><a href=\"../search\">vDataFrame.search</a></td> <td>Searches the elements which matches with the input conditions.</td></tr>\n",
    "    <tr><td><a href=\"../at_time\">vDataFrame.at_time</a></td> <td>Filters the data at the input time.</td></tr>\n",
    "    <tr><td><a href=\"../between_time\">vDataFrame.between_time</a></td> <td>Filters the data between two time ranges.</td></tr>\n",
    "    <tr><td><a href=\"../first\">vDataFrame.first</a></td> <td>Filters the data by only keeping the first records.</td></tr>\n",
    "    <tr><td><a href=\"../last\">vDataFrame.last</a></td> <td>Filters the data by only keeping the last records.</td></tr>\n",
    "</table>"
   ]
  }
 ],
 "metadata": {
  "kernelspec": {
   "display_name": "Python 3",
   "language": "python",
   "name": "python3"
  },
  "language_info": {
   "codemirror_mode": {
    "name": "ipython",
    "version": 3
   },
   "file_extension": ".py",
   "mimetype": "text/x-python",
   "name": "python",
   "nbconvert_exporter": "python",
   "pygments_lexer": "ipython3",
   "version": "3.6.3"
  }
 },
 "nbformat": 4,
 "nbformat_minor": 2
}
