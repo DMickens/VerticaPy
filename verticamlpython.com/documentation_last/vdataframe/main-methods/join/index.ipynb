{
 "cells": [
  {
   "cell_type": "markdown",
   "metadata": {},
   "source": [
    "# vDataFrame.join"
   ]
  },
  {
   "cell_type": "code",
   "execution_count": null,
   "metadata": {},
   "outputs": [],
   "source": [
    "vDataFrame.join(input_relation, \n",
    "                on: dict = {},\n",
    "                how: str = 'natural',\n",
    "                expr1: list = ['*'],\n",
    "                expr2: list = ['*'])"
   ]
  },
  {
   "cell_type": "markdown",
   "metadata": {},
   "source": [
    "Joins the vDataFrame with another one or an input relation.\n",
    "\n",
    "### Parameters\n",
    "\n",
    "<table id=\"parameters\">\n",
    "    <tr> <th>Name</th> <th>Type</th> <th>Optional</th> <th>Description</th> </tr>\n",
    "    <tr> <td><div class=\"param_name\">input_relation</div></td> <td><div class=\"type\">str / vDataFrame</div></td> <td><div class = \"no\">&#10060;</div></td> <td>Relation used to do the merging.</td> </tr>\n",
    "    <tr> <td><div class=\"param_name\">on</div></td> <td><div class=\"type\">dict</div></td> <td><div class = \"yes\">&#10003;</div></td> <td>Dictionary of all the different keys. The dict must be similar to the following: {\"relationA_key1\": \"relationB_key1\" ..., \"relationA_keyk\": \"relationB_keyk\"} where relationA is the current vDataFrame and relationB is the input relation or the input vDataFrame.</td> </tr>\n",
    "    <tr> <td><div class=\"param_name\">how</div></td> <td><div class=\"type\">str</div></td> <td><div class = \"yes\">&#10003;</div></td> <td>Join Type.<br>\n",
    "                                                    <ul>\n",
    "                                                        <li><b>left :</b> Left Join.</li>\n",
    "                                                        <li><b>right :</b> Right Join.</li>\n",
    "                                                        <li><b>cross :</b> Cross Join.</li>\n",
    "                                                        <li><b>full :</b> Full Outer Join.</li>\n",
    "                                                        <li><b>natural :</b> Natural Join.</li>\n",
    "                                                        <li><b>inner :</b> Inner Join. </li>\n",
    "                                                        </ul></td> </tr>\n",
    "    <tr> <td><div class=\"param_name\">expr1</div></td> <td><div class=\"type\">list</div></td> <td><div class = \"yes\">&#10003;</div></td> <td>List of the different columns to select from the current vDataFrame. Pure SQL must be written. Aliases can also be given. 'column' or 'column AS my_new_alias' are correct. Aliases are recommended to keep the track of the different features and not have ambiguous names. </td> </tr>\n",
    "    <tr> <td><div class=\"param_name\">expr2</div></td> <td><div class=\"type\">list</div></td> <td><div class = \"yes\">&#10003;</div></td> <td>List of the different columns to select from the current vDataFrame. Pure SQL must be written. Aliases can also be given. 'column' or 'column AS my_new_alias' are correct. Aliases are recommended to keep the track of the different features and not have ambiguous names. </td> </tr>\n",
    "</table>"
   ]
  },
  {
   "cell_type": "markdown",
   "metadata": {},
   "source": [
    "### Returns\n",
    "\n",
    "<b>vDataFrame</b> : object result of the join.\n",
    "\n",
    "### Example"
   ]
  },
  {
   "cell_type": "code",
   "execution_count": 13,
   "metadata": {},
   "outputs": [
    {
     "data": {
      "text/html": [
       "<table style=\"border-collapse: collapse; border: 2px solid white\"><tr style=\"{border: 1px solid white;}\"><td style=\"border-bottom: 1px solid #DDD;font-size:1.02em;background-color:#214579;color:white\"><b></b></td><td style=\"font-size:1.02em;background-color:#214579;color:white\"><b>departure_delay</b></td><td style=\"font-size:1.02em;background-color:#214579;color:white\"><b>origin_airport</b></td><td style=\"font-size:1.02em;background-color:#214579;color:white\"><b>scheduled_departure</b></td><td style=\"font-size:1.02em;background-color:#214579;color:white\"><b>airline</b></td><td style=\"font-size:1.02em;background-color:#214579;color:white\"><b>destination_airport</b></td><td style=\"font-size:1.02em;background-color:#214579;color:white\"><b>arrival_delay</b></td></tr><tr style=\"{border: 1px solid white;}\"><td style=\"border-bottom: 1px solid #DDD;font-size:1.02em;background-color:#214579;color:white\"><b>0</b></td><td style=\"border: 1px solid white;\">-9</td><td style=\"border: 1px solid white;\">11433</td><td style=\"border: 1px solid white;\">2015-10-01 10:09:00</td><td style=\"border: 1px solid white;\">EV</td><td style=\"border: 1px solid white;\">10135</td><td style=\"border: 1px solid white;\">-2</td></tr><tr style=\"{border: 1px solid white;}\"><td style=\"border-bottom: 1px solid #DDD;font-size:1.02em;background-color:#214579;color:white\"><b>1</b></td><td style=\"border: 1px solid white;\">-3</td><td style=\"border: 1px solid white;\">10397</td><td style=\"border: 1px solid white;\">2015-10-01 10:27:00</td><td style=\"border: 1px solid white;\">EV</td><td style=\"border: 1px solid white;\">10135</td><td style=\"border: 1px solid white;\">-14</td></tr><tr style=\"{border: 1px solid white;}\"><td style=\"border-bottom: 1px solid #DDD;font-size:1.02em;background-color:#214579;color:white\"><b>2</b></td><td style=\"border: 1px solid white;\">-4</td><td style=\"border: 1px solid white;\">13930</td><td style=\"border: 1px solid white;\">2015-10-01 13:57:00</td><td style=\"border: 1px solid white;\">EV</td><td style=\"border: 1px solid white;\">10135</td><td style=\"border: 1px solid white;\">6</td></tr><tr style=\"{border: 1px solid white;}\"><td style=\"border-bottom: 1px solid #DDD;font-size:1.02em;background-color:#214579;color:white\"><b>3</b></td><td style=\"border: 1px solid white;\">-3</td><td style=\"border: 1px solid white;\">11433</td><td style=\"border: 1px solid white;\">2015-10-01 14:02:00</td><td style=\"border: 1px solid white;\">EV</td><td style=\"border: 1px solid white;\">10135</td><td style=\"border: 1px solid white;\">-8</td></tr><tr style=\"{border: 1px solid white;}\"><td style=\"border-bottom: 1px solid #DDD;font-size:1.02em;background-color:#214579;color:white\"><b>4</b></td><td style=\"border: 1px solid white;\">0</td><td style=\"border: 1px solid white;\">10397</td><td style=\"border: 1px solid white;\">2015-10-01 14:44:00</td><td style=\"border: 1px solid white;\">EV</td><td style=\"border: 1px solid white;\">10135</td><td style=\"border: 1px solid white;\">-1</td></tr><tr><td style=\"border-top: 1px solid white;background-color:#214579;color:white\"></td><td style=\"border: 1px solid white;\">...</td><td style=\"border: 1px solid white;\">...</td><td style=\"border: 1px solid white;\">...</td><td style=\"border: 1px solid white;\">...</td><td style=\"border: 1px solid white;\">...</td><td style=\"border: 1px solid white;\">...</td></tr></table>"
      ],
      "text/plain": [
       "<IPython.core.display.HTML object>"
      ]
     },
     "metadata": {},
     "output_type": "display_data"
    },
    {
     "name": "stdout",
     "output_type": "stream",
     "text": [
      "<object>  Name: flights, Number of rows: 4068736, Number of columns: 6\n"
     ]
    },
    {
     "data": {
      "text/html": [
       "<table style=\"border-collapse: collapse; border: 2px solid white\"><tr style=\"{border: 1px solid white;}\"><td style=\"border-bottom: 1px solid #DDD;font-size:1.02em;background-color:#214579;color:white\"><b></b></td><td style=\"font-size:1.02em;background-color:#214579;color:white\"><b>COUNTRY</b></td><td style=\"font-size:1.02em;background-color:#214579;color:white\"><b>IATA_CODE</b></td><td style=\"font-size:1.02em;background-color:#214579;color:white\"><b>AIRPORT</b></td><td style=\"font-size:1.02em;background-color:#214579;color:white\"><b>LATITUDE</b></td><td style=\"font-size:1.02em;background-color:#214579;color:white\"><b>CITY</b></td><td style=\"font-size:1.02em;background-color:#214579;color:white\"><b>STATE</b></td><td style=\"font-size:1.02em;background-color:#214579;color:white\"><b>LONGITUDE</b></td></tr><tr style=\"{border: 1px solid white;}\"><td style=\"border-bottom: 1px solid #DDD;font-size:1.02em;background-color:#214579;color:white\"><b>0</b></td><td style=\"border: 1px solid white;\">USA</td><td style=\"border: 1px solid white;\">ABE</td><td style=\"border: 1px solid white;\">Lehigh Valley International Airport</td><td style=\"border: 1px solid white;\">40.652360</td><td style=\"border: 1px solid white;\">Allentown</td><td style=\"border: 1px solid white;\">PA</td><td style=\"border: 1px solid white;\">-75.440400</td></tr><tr style=\"{border: 1px solid white;}\"><td style=\"border-bottom: 1px solid #DDD;font-size:1.02em;background-color:#214579;color:white\"><b>1</b></td><td style=\"border: 1px solid white;\">USA</td><td style=\"border: 1px solid white;\">ABI</td><td style=\"border: 1px solid white;\">Abilene Regional Airport</td><td style=\"border: 1px solid white;\">32.411320</td><td style=\"border: 1px solid white;\">Abilene</td><td style=\"border: 1px solid white;\">TX</td><td style=\"border: 1px solid white;\">-99.681900</td></tr><tr style=\"{border: 1px solid white;}\"><td style=\"border-bottom: 1px solid #DDD;font-size:1.02em;background-color:#214579;color:white\"><b>2</b></td><td style=\"border: 1px solid white;\">USA</td><td style=\"border: 1px solid white;\">ABQ</td><td style=\"border: 1px solid white;\">Albuquerque International Sunport</td><td style=\"border: 1px solid white;\">35.040220</td><td style=\"border: 1px solid white;\">Albuquerque</td><td style=\"border: 1px solid white;\">NM</td><td style=\"border: 1px solid white;\">-106.609190</td></tr><tr style=\"{border: 1px solid white;}\"><td style=\"border-bottom: 1px solid #DDD;font-size:1.02em;background-color:#214579;color:white\"><b>3</b></td><td style=\"border: 1px solid white;\">USA</td><td style=\"border: 1px solid white;\">ABR</td><td style=\"border: 1px solid white;\">Aberdeen Regional Airport</td><td style=\"border: 1px solid white;\">45.449060</td><td style=\"border: 1px solid white;\">Aberdeen</td><td style=\"border: 1px solid white;\">SD</td><td style=\"border: 1px solid white;\">-98.421830</td></tr><tr style=\"{border: 1px solid white;}\"><td style=\"border-bottom: 1px solid #DDD;font-size:1.02em;background-color:#214579;color:white\"><b>4</b></td><td style=\"border: 1px solid white;\">USA</td><td style=\"border: 1px solid white;\">ABY</td><td style=\"border: 1px solid white;\">Southwest Georgia Regional Airport</td><td style=\"border: 1px solid white;\">31.535520</td><td style=\"border: 1px solid white;\">Albany</td><td style=\"border: 1px solid white;\">GA</td><td style=\"border: 1px solid white;\">-84.194470</td></tr><tr><td style=\"border-top: 1px solid white;background-color:#214579;color:white\"></td><td style=\"border: 1px solid white;\">...</td><td style=\"border: 1px solid white;\">...</td><td style=\"border: 1px solid white;\">...</td><td style=\"border: 1px solid white;\">...</td><td style=\"border: 1px solid white;\">...</td><td style=\"border: 1px solid white;\">...</td><td style=\"border: 1px solid white;\">...</td></tr></table>"
      ],
      "text/plain": [
       "<IPython.core.display.HTML object>"
      ]
     },
     "metadata": {},
     "output_type": "display_data"
    },
    {
     "name": "stdout",
     "output_type": "stream",
     "text": [
      "<object>  Name: airports, Number of rows: 322, Number of columns: 7\n"
     ]
    },
    {
     "data": {
      "text/html": [
       "<table style=\"border-collapse: collapse; border: 2px solid white\"><tr style=\"{border: 1px solid white;}\"><td style=\"border-bottom: 1px solid #DDD;font-size:1.02em;background-color:#214579;color:white\"><b></b></td><td style=\"font-size:1.02em;background-color:#214579;color:white\"><b>AIRLINE</b></td><td style=\"font-size:1.02em;background-color:#214579;color:white\"><b>IATA_CODE</b></td></tr><tr style=\"{border: 1px solid white;}\"><td style=\"border-bottom: 1px solid #DDD;font-size:1.02em;background-color:#214579;color:white\"><b>0</b></td><td style=\"border: 1px solid white;\">American Airlines Inc.</td><td style=\"border: 1px solid white;\">AA</td></tr><tr style=\"{border: 1px solid white;}\"><td style=\"border-bottom: 1px solid #DDD;font-size:1.02em;background-color:#214579;color:white\"><b>1</b></td><td style=\"border: 1px solid white;\">Alaska Airlines Inc.</td><td style=\"border: 1px solid white;\">AS</td></tr><tr style=\"{border: 1px solid white;}\"><td style=\"border-bottom: 1px solid #DDD;font-size:1.02em;background-color:#214579;color:white\"><b>2</b></td><td style=\"border: 1px solid white;\">JetBlue Airways</td><td style=\"border: 1px solid white;\">B6</td></tr><tr style=\"{border: 1px solid white;}\"><td style=\"border-bottom: 1px solid #DDD;font-size:1.02em;background-color:#214579;color:white\"><b>3</b></td><td style=\"border: 1px solid white;\">Delta Air Lines Inc.</td><td style=\"border: 1px solid white;\">DL</td></tr><tr style=\"{border: 1px solid white;}\"><td style=\"border-bottom: 1px solid #DDD;font-size:1.02em;background-color:#214579;color:white\"><b>4</b></td><td style=\"border: 1px solid white;\">Atlantic Southeast Airlines</td><td style=\"border: 1px solid white;\">EV</td></tr><tr><td style=\"border-top: 1px solid white;background-color:#214579;color:white\"></td><td style=\"border: 1px solid white;\">...</td><td style=\"border: 1px solid white;\">...</td></tr></table>"
      ],
      "text/plain": [
       "<IPython.core.display.HTML object>"
      ]
     },
     "metadata": {},
     "output_type": "display_data"
    },
    {
     "name": "stdout",
     "output_type": "stream",
     "text": [
      "<object>  Name: airlines, Number of rows: 14, Number of columns: 2\n"
     ]
    }
   ],
   "source": [
    "from vertica_ml_python import *\n",
    "flights = vDataFrame(\"public.flights\")\n",
    "airports = vDataFrame(\"public.airports\")\n",
    "airlines = vDataFrame(\"public.airlines\")\n",
    "print(flights)\n",
    "print(airports)\n",
    "print(airlines)"
   ]
  },
  {
   "cell_type": "code",
   "execution_count": 14,
   "metadata": {},
   "outputs": [
    {
     "data": {
      "text/html": [
       "<table style=\"border-collapse: collapse; border: 2px solid white\"><tr style=\"{border: 1px solid white;}\"><td style=\"border-bottom: 1px solid #DDD;font-size:1.02em;background-color:#214579;color:white\"><b></b></td><td style=\"font-size:1.02em;background-color:#214579;color:white\"><b>airport1</b></td><td style=\"font-size:1.02em;background-color:#214579;color:white\"><b>airport1_latitude</b></td><td style=\"font-size:1.02em;background-color:#214579;color:white\"><b>airport1_longitude</b></td><td style=\"font-size:1.02em;background-color:#214579;color:white\"><b>airport2</b></td><td style=\"font-size:1.02em;background-color:#214579;color:white\"><b>airport2_latitude</b></td><td style=\"font-size:1.02em;background-color:#214579;color:white\"><b>airport2_longitude</b></td></tr><tr style=\"{border: 1px solid white;}\"><td style=\"border-bottom: 1px solid #DDD;font-size:1.02em;background-color:#214579;color:white\"><b>0</b></td><td style=\"border: 1px solid white;\">ABE</td><td style=\"border: 1px solid white;\">40.652360</td><td style=\"border: 1px solid white;\">-75.440400</td><td style=\"border: 1px solid white;\">ABE</td><td style=\"border: 1px solid white;\">40.652360</td><td style=\"border: 1px solid white;\">-75.440400</td></tr><tr style=\"{border: 1px solid white;}\"><td style=\"border-bottom: 1px solid #DDD;font-size:1.02em;background-color:#214579;color:white\"><b>1</b></td><td style=\"border: 1px solid white;\">ABE</td><td style=\"border: 1px solid white;\">40.652360</td><td style=\"border: 1px solid white;\">-75.440400</td><td style=\"border: 1px solid white;\">ABI</td><td style=\"border: 1px solid white;\">32.411320</td><td style=\"border: 1px solid white;\">-99.681900</td></tr><tr style=\"{border: 1px solid white;}\"><td style=\"border-bottom: 1px solid #DDD;font-size:1.02em;background-color:#214579;color:white\"><b>2</b></td><td style=\"border: 1px solid white;\">ABE</td><td style=\"border: 1px solid white;\">40.652360</td><td style=\"border: 1px solid white;\">-75.440400</td><td style=\"border: 1px solid white;\">ABQ</td><td style=\"border: 1px solid white;\">35.040220</td><td style=\"border: 1px solid white;\">-106.609190</td></tr><tr style=\"{border: 1px solid white;}\"><td style=\"border-bottom: 1px solid #DDD;font-size:1.02em;background-color:#214579;color:white\"><b>3</b></td><td style=\"border: 1px solid white;\">ABE</td><td style=\"border: 1px solid white;\">40.652360</td><td style=\"border: 1px solid white;\">-75.440400</td><td style=\"border: 1px solid white;\">ABR</td><td style=\"border: 1px solid white;\">45.449060</td><td style=\"border: 1px solid white;\">-98.421830</td></tr><tr style=\"{border: 1px solid white;}\"><td style=\"border-bottom: 1px solid #DDD;font-size:1.02em;background-color:#214579;color:white\"><b>4</b></td><td style=\"border: 1px solid white;\">ABE</td><td style=\"border: 1px solid white;\">40.652360</td><td style=\"border: 1px solid white;\">-75.440400</td><td style=\"border: 1px solid white;\">ABY</td><td style=\"border: 1px solid white;\">31.535520</td><td style=\"border: 1px solid white;\">-84.194470</td></tr><tr><td style=\"border-top: 1px solid white;background-color:#214579;color:white\"></td><td style=\"border: 1px solid white;\">...</td><td style=\"border: 1px solid white;\">...</td><td style=\"border: 1px solid white;\">...</td><td style=\"border: 1px solid white;\">...</td><td style=\"border: 1px solid white;\">...</td><td style=\"border: 1px solid white;\">...</td></tr></table>"
      ],
      "text/plain": [
       "<IPython.core.display.HTML object>"
      ]
     },
     "metadata": {},
     "output_type": "display_data"
    },
    {
     "data": {
      "text/plain": [
       "<object>  Name: join, Number of rows: 103684, Number of columns: 6"
      ]
     },
     "execution_count": 14,
     "metadata": {},
     "output_type": "execute_result"
    }
   ],
   "source": [
    "# Cross Join\n",
    "airports.join(airports, \n",
    "              how = \"cross\", \n",
    "              expr1 = [\"IATA_CODE AS airport1\", \n",
    "                       \"LATITUDE AS airport1_latitude\", \n",
    "                       \"LONGITUDE AS airport1_longitude\"],\n",
    "              expr2 = [\"IATA_CODE AS airport2\", \n",
    "                       \"LATITUDE AS airport2_latitude\", \n",
    "                       \"LONGITUDE AS airport2_longitude\"])"
   ]
  },
  {
   "cell_type": "code",
   "execution_count": 16,
   "metadata": {},
   "outputs": [
    {
     "data": {
      "text/html": [
       "<table style=\"border-collapse: collapse; border: 2px solid white\"><tr style=\"{border: 1px solid white;}\"><td style=\"border-bottom: 1px solid #DDD;font-size:1.02em;background-color:#214579;color:white\"><b></b></td><td style=\"font-size:1.02em;background-color:#214579;color:white\"><b>destination_airport</b></td><td style=\"font-size:1.02em;background-color:#214579;color:white\"><b>scheduled_departure</b></td><td style=\"font-size:1.02em;background-color:#214579;color:white\"><b>departure_delay</b></td><td style=\"font-size:1.02em;background-color:#214579;color:white\"><b>arrival_delay</b></td><td style=\"font-size:1.02em;background-color:#214579;color:white\"><b>origin_airport</b></td><td style=\"font-size:1.02em;background-color:#214579;color:white\"><b>airline</b></td><td style=\"font-size:1.02em;background-color:#214579;color:white\"><b>airline_long</b></td></tr><tr style=\"{border: 1px solid white;}\"><td style=\"border-bottom: 1px solid #DDD;font-size:1.02em;background-color:#214579;color:white\"><b>0</b></td><td style=\"border: 1px solid white;\">ABE</td><td style=\"border: 1px solid white;\">2015-08-16 20:12:00</td><td style=\"border: 1px solid white;\">14</td><td style=\"border: 1px solid white;\">5</td><td style=\"border: 1px solid white;\">DTW</td><td style=\"border: 1px solid white;\">EV</td><td style=\"border: 1px solid white;\">Atlantic Southeast Airlines</td></tr><tr style=\"{border: 1px solid white;}\"><td style=\"border-bottom: 1px solid #DDD;font-size:1.02em;background-color:#214579;color:white\"><b>1</b></td><td style=\"border: 1px solid white;\">ABE</td><td style=\"border: 1px solid white;\">2015-08-17 10:07:00</td><td style=\"border: 1px solid white;\">29</td><td style=\"border: 1px solid white;\">27</td><td style=\"border: 1px solid white;\">DTW</td><td style=\"border: 1px solid white;\">EV</td><td style=\"border: 1px solid white;\">Atlantic Southeast Airlines</td></tr><tr style=\"{border: 1px solid white;}\"><td style=\"border-bottom: 1px solid #DDD;font-size:1.02em;background-color:#214579;color:white\"><b>2</b></td><td style=\"border: 1px solid white;\">ABE</td><td style=\"border: 1px solid white;\">2015-08-17 10:25:00</td><td style=\"border: 1px solid white;\">19</td><td style=\"border: 1px solid white;\">10</td><td style=\"border: 1px solid white;\">ATL</td><td style=\"border: 1px solid white;\">EV</td><td style=\"border: 1px solid white;\">Atlantic Southeast Airlines</td></tr><tr style=\"{border: 1px solid white;}\"><td style=\"border-bottom: 1px solid #DDD;font-size:1.02em;background-color:#214579;color:white\"><b>3</b></td><td style=\"border: 1px solid white;\">ABE</td><td style=\"border: 1px solid white;\">2015-08-17 14:00:00</td><td style=\"border: 1px solid white;\">4</td><td style=\"border: 1px solid white;\">61</td><td style=\"border: 1px solid white;\">ORD</td><td style=\"border: 1px solid white;\">EV</td><td style=\"border: 1px solid white;\">Atlantic Southeast Airlines</td></tr><tr style=\"{border: 1px solid white;}\"><td style=\"border-bottom: 1px solid #DDD;font-size:1.02em;background-color:#214579;color:white\"><b>4</b></td><td style=\"border: 1px solid white;\">ABE</td><td style=\"border: 1px solid white;\">2015-08-17 14:12:00</td><td style=\"border: 1px solid white;\">-5</td><td style=\"border: 1px solid white;\">-17</td><td style=\"border: 1px solid white;\">DTW</td><td style=\"border: 1px solid white;\">EV</td><td style=\"border: 1px solid white;\">Atlantic Southeast Airlines</td></tr><tr><td style=\"border-top: 1px solid white;background-color:#214579;color:white\"></td><td style=\"border: 1px solid white;\">...</td><td style=\"border: 1px solid white;\">...</td><td style=\"border: 1px solid white;\">...</td><td style=\"border: 1px solid white;\">...</td><td style=\"border: 1px solid white;\">...</td><td style=\"border: 1px solid white;\">...</td><td style=\"border: 1px solid white;\">...</td></tr></table>"
      ],
      "text/plain": [
       "<IPython.core.display.HTML object>"
      ]
     },
     "metadata": {},
     "output_type": "display_data"
    },
    {
     "data": {
      "text/plain": [
       "<object>  Name: join, Number of rows: 4068736, Number of columns: 7"
      ]
     },
     "execution_count": 16,
     "metadata": {},
     "output_type": "execute_result"
    }
   ],
   "source": [
    "# Left Join\n",
    "flights.join(airlines,\n",
    "             how = \"left\",\n",
    "             on = {\"airline\": \"IATA_CODE\"},\n",
    "             expr1 = [\"*\"],\n",
    "             expr2 = [\"AIRLINE AS airline_long\"])"
   ]
  },
  {
   "cell_type": "markdown",
   "metadata": {},
   "source": [
    "### See Also\n",
    "\n",
    "<table id=\"seealso\">\n",
    "    <tr><td><a href=\"../append\">vDataFrame.append</a></td> <td>Merges the vDataFrame with another relation.</td></tr>\n",
    "    <tr><td><a href=\"../groupby\">vDataFrame.groupby</a></td> <td>Aggregates the vDataFrame.</td></tr>\n",
    "    <tr><td><a href=\"../sort\">vDataFrame.sort</a></td> <td>Sorts the vDataFrame.</td></tr>\n",
    "</table>"
   ]
  }
 ],
 "metadata": {
  "kernelspec": {
   "display_name": "Python 3",
   "language": "python",
   "name": "python3"
  },
  "language_info": {
   "codemirror_mode": {
    "name": "ipython",
    "version": 3
   },
   "file_extension": ".py",
   "mimetype": "text/x-python",
   "name": "python",
   "nbconvert_exporter": "python",
   "pygments_lexer": "ipython3",
   "version": "3.6.3"
  }
 },
 "nbformat": 4,
 "nbformat_minor": 2
}
