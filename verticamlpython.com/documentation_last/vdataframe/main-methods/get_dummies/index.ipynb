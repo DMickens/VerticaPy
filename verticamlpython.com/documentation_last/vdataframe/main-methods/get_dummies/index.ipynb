{
 "cells": [
  {
   "cell_type": "markdown",
   "metadata": {},
   "source": [
    "# vDataFrame.get_dummies"
   ]
  },
  {
   "cell_type": "code",
   "execution_count": null,
   "metadata": {},
   "outputs": [],
   "source": [
    "vDataFrame.get_dummies(columns: list = [],\n",
    "                       max_cardinality: int = 12, \n",
    "                       prefix_sep: str = \"_\", \n",
    "                       drop_first: bool = True, \n",
    "                       use_numbers_as_suffix: bool = False)"
   ]
  },
  {
   "cell_type": "markdown",
   "metadata": {},
   "source": [
    "Encodes the vcolumns using the One-Hot Encoding algorithm.\n",
    "\n",
    "### Parameters\n",
    "\n",
    "<table id=\"parameters\">\n",
    "    <tr> <th>Name</th> <th>Type</th> <th>Optional</th> <th>Description</th> </tr>\n",
    "    <tr> <td><div class=\"param_name\">columns</div></td> <td><div class=\"type\">list</div></td> <td><div class = \"yes\">&#10003;</div></td> <td>List of the vcolumns used to train the One Hot Encoding model. If empty, only the vcolumns having a cardinality lesser than 'max_cardinality' will be used.</td> </tr>\n",
    "    <tr> <td><div class=\"param_name\">max_cardinality</div></td> <td><div class=\"type\">int</div></td> <td><div class = \"yes\">&#10003;</div></td> <td>Cardinality threshold used to determine if the vcolumn will be taken into account during the encoding. This parameter is used only if the parameter 'columns' is empty.</td> </tr>\n",
    "    <tr> <td><div class=\"param_name\">prefix_sep</div></td> <td><div class=\"type\">str</div></td> <td><div class = \"yes\">&#10003;</div></td> <td>Prefix delimitor of the dummies.</td> </tr>\n",
    "    <tr> <td><div class=\"param_name\">drop_first</div></td> <td><div class=\"type\">bool</div></td> <td><div class = \"yes\">&#10003;</div></td> <td>Drops the first dummy to avoid the creation of correlated features.</td> </tr>\n",
    "    <tr> <td><div class=\"param_name\">use_numbers_as_suffix</div></td> <td><div class=\"type\">bool</div></td> <td><div class = \"yes\">&#10003;</div></td> <td>Uses numbers as suffix instead of the vcolumns categories.</td> </tr>\n",
    "</table>"
   ]
  },
  {
   "cell_type": "markdown",
   "metadata": {},
   "source": [
    "### Returns\n",
    "\n",
    "<b>vDataFrame</b> : self\n",
    "\n",
    "### Example"
   ]
  },
  {
   "cell_type": "code",
   "execution_count": 34,
   "metadata": {},
   "outputs": [
    {
     "data": {
      "text/html": [
       "<table style=\"border-collapse: collapse; border: 2px solid white\"><tr style=\"{border: 1px solid white;}\"><td style=\"border-bottom: 1px solid #DDD;font-size:1.02em;background-color:#214579;color:white\"><b></b></td><td style=\"font-size:1.02em;background-color:#214579;color:white\"><b>InternetService</b></td><td style=\"font-size:1.02em;background-color:#214579;color:white\"><b>PaymentMethod</b></td><td style=\"font-size:1.02em;background-color:#214579;color:white\"><b>gender</b></td><td style=\"font-size:1.02em;background-color:#214579;color:white\"><b>Contract</b></td><td style=\"font-size:1.02em;background-color:#214579;color:white\"><b>Churn</b></td></tr><tr style=\"{border: 1px solid white;}\"><td style=\"border-bottom: 1px solid #DDD;font-size:1.02em;background-color:#214579;color:white\"><b>0</b></td><td style=\"border: 1px solid white;\">DSL</td><td style=\"border: 1px solid white;\">Mailed check</td><td style=\"border: 1px solid white;\">Female</td><td style=\"border: 1px solid white;\">One year</td><td style=\"border: 1px solid white;\">False</td></tr><tr style=\"{border: 1px solid white;}\"><td style=\"border-bottom: 1px solid #DDD;font-size:1.02em;background-color:#214579;color:white\"><b>1</b></td><td style=\"border: 1px solid white;\">DSL</td><td style=\"border: 1px solid white;\">Mailed check</td><td style=\"border: 1px solid white;\">Male</td><td style=\"border: 1px solid white;\">Month-to-month</td><td style=\"border: 1px solid white;\">False</td></tr><tr style=\"{border: 1px solid white;}\"><td style=\"border-bottom: 1px solid #DDD;font-size:1.02em;background-color:#214579;color:white\"><b>2</b></td><td style=\"border: 1px solid white;\">Fiber optic</td><td style=\"border: 1px solid white;\">Electronic check</td><td style=\"border: 1px solid white;\">Male</td><td style=\"border: 1px solid white;\">Month-to-month</td><td style=\"border: 1px solid white;\">True</td></tr><tr style=\"{border: 1px solid white;}\"><td style=\"border-bottom: 1px solid #DDD;font-size:1.02em;background-color:#214579;color:white\"><b>3</b></td><td style=\"border: 1px solid white;\">Fiber optic</td><td style=\"border: 1px solid white;\">Electronic check</td><td style=\"border: 1px solid white;\">Male</td><td style=\"border: 1px solid white;\">Month-to-month</td><td style=\"border: 1px solid white;\">True</td></tr><tr style=\"{border: 1px solid white;}\"><td style=\"border-bottom: 1px solid #DDD;font-size:1.02em;background-color:#214579;color:white\"><b>4</b></td><td style=\"border: 1px solid white;\">Fiber optic</td><td style=\"border: 1px solid white;\">Mailed check</td><td style=\"border: 1px solid white;\">Female</td><td style=\"border: 1px solid white;\">Month-to-month</td><td style=\"border: 1px solid white;\">True</td></tr><tr><td style=\"border-top: 1px solid white;background-color:#214579;color:white\"></td><td style=\"border: 1px solid white;\">...</td><td style=\"border: 1px solid white;\">...</td><td style=\"border: 1px solid white;\">...</td><td style=\"border: 1px solid white;\">...</td><td style=\"border: 1px solid white;\">...</td></tr></table>"
      ],
      "text/plain": [
       "<IPython.core.display.HTML object>"
      ]
     },
     "metadata": {},
     "output_type": "display_data"
    },
    {
     "name": "stdout",
     "output_type": "stream",
     "text": [
      "<object>  Name: churn, Number of rows: 7043, Number of columns: 5\n"
     ]
    }
   ],
   "source": [
    "from vertica_ml_python import vDataFrame\n",
    "churn = vDataFrame(\"public.churn\")\n",
    "churn = churn.select([\"InternetService\", \"PaymentMethod\", \"gender\", \"Contract\", \"churn\"])\n",
    "print(churn)"
   ]
  },
  {
   "cell_type": "code",
   "execution_count": 33,
   "metadata": {},
   "outputs": [
    {
     "data": {
      "text/html": [
       "<table style=\"border-collapse: collapse; border: 2px solid white\"><tr style=\"{border: 1px solid white;}\"><td style=\"border-bottom: 1px solid #DDD;font-size:1.02em;background-color:#214579;color:white\"><b></b></td><td style=\"font-size:1.02em;background-color:#214579;color:white\"><b>InternetService</b></td><td style=\"font-size:1.02em;background-color:#214579;color:white\"><b>PaymentMethod</b></td><td style=\"font-size:1.02em;background-color:#214579;color:white\"><b>gender</b></td><td style=\"font-size:1.02em;background-color:#214579;color:white\"><b>Contract</b></td><td style=\"font-size:1.02em;background-color:#214579;color:white\"><b>Churn</b></td><td style=\"font-size:1.02em;background-color:#214579;color:white\"><b>InternetService_DSL</b></td><td style=\"font-size:1.02em;background-color:#214579;color:white\"><b>InternetService_Fiber optic</b></td><td style=\"font-size:1.02em;background-color:#214579;color:white\"><b>PaymentMethod_Bank transfer (automatic)</b></td><td style=\"font-size:1.02em;background-color:#214579;color:white\"><b>PaymentMethod_Credit card (automatic)</b></td><td style=\"font-size:1.02em;background-color:#214579;color:white\"><b>PaymentMethod_Electronic check</b></td><td style=\"font-size:1.02em;background-color:#214579;color:white\"><b>gender_Female</b></td><td style=\"font-size:1.02em;background-color:#214579;color:white\"><b>Contract_Month-to-month</b></td><td style=\"font-size:1.02em;background-color:#214579;color:white\"><b>Contract_One year</b></td><td style=\"font-size:1.02em;background-color:#214579;color:white\"><b>Churn_False</b></td></tr><tr style=\"{border: 1px solid white;}\"><td style=\"border-bottom: 1px solid #DDD;font-size:1.02em;background-color:#214579;color:white\"><b>0</b></td><td style=\"border: 1px solid white;\">DSL</td><td style=\"border: 1px solid white;\">Mailed check</td><td style=\"border: 1px solid white;\">Female</td><td style=\"border: 1px solid white;\">One year</td><td style=\"border: 1px solid white;\">False</td><td style=\"border: 1px solid white;\">1</td><td style=\"border: 1px solid white;\">0</td><td style=\"border: 1px solid white;\">0</td><td style=\"border: 1px solid white;\">0</td><td style=\"border: 1px solid white;\">0</td><td style=\"border: 1px solid white;\">1</td><td style=\"border: 1px solid white;\">0</td><td style=\"border: 1px solid white;\">1</td><td style=\"border: 1px solid white;\">1</td></tr><tr style=\"{border: 1px solid white;}\"><td style=\"border-bottom: 1px solid #DDD;font-size:1.02em;background-color:#214579;color:white\"><b>1</b></td><td style=\"border: 1px solid white;\">DSL</td><td style=\"border: 1px solid white;\">Mailed check</td><td style=\"border: 1px solid white;\">Male</td><td style=\"border: 1px solid white;\">Month-to-month</td><td style=\"border: 1px solid white;\">False</td><td style=\"border: 1px solid white;\">1</td><td style=\"border: 1px solid white;\">0</td><td style=\"border: 1px solid white;\">0</td><td style=\"border: 1px solid white;\">0</td><td style=\"border: 1px solid white;\">0</td><td style=\"border: 1px solid white;\">0</td><td style=\"border: 1px solid white;\">1</td><td style=\"border: 1px solid white;\">0</td><td style=\"border: 1px solid white;\">1</td></tr><tr style=\"{border: 1px solid white;}\"><td style=\"border-bottom: 1px solid #DDD;font-size:1.02em;background-color:#214579;color:white\"><b>2</b></td><td style=\"border: 1px solid white;\">Fiber optic</td><td style=\"border: 1px solid white;\">Electronic check</td><td style=\"border: 1px solid white;\">Male</td><td style=\"border: 1px solid white;\">Month-to-month</td><td style=\"border: 1px solid white;\">True</td><td style=\"border: 1px solid white;\">0</td><td style=\"border: 1px solid white;\">1</td><td style=\"border: 1px solid white;\">0</td><td style=\"border: 1px solid white;\">0</td><td style=\"border: 1px solid white;\">1</td><td style=\"border: 1px solid white;\">0</td><td style=\"border: 1px solid white;\">1</td><td style=\"border: 1px solid white;\">0</td><td style=\"border: 1px solid white;\">0</td></tr><tr style=\"{border: 1px solid white;}\"><td style=\"border-bottom: 1px solid #DDD;font-size:1.02em;background-color:#214579;color:white\"><b>3</b></td><td style=\"border: 1px solid white;\">Fiber optic</td><td style=\"border: 1px solid white;\">Electronic check</td><td style=\"border: 1px solid white;\">Male</td><td style=\"border: 1px solid white;\">Month-to-month</td><td style=\"border: 1px solid white;\">True</td><td style=\"border: 1px solid white;\">0</td><td style=\"border: 1px solid white;\">1</td><td style=\"border: 1px solid white;\">0</td><td style=\"border: 1px solid white;\">0</td><td style=\"border: 1px solid white;\">1</td><td style=\"border: 1px solid white;\">0</td><td style=\"border: 1px solid white;\">1</td><td style=\"border: 1px solid white;\">0</td><td style=\"border: 1px solid white;\">0</td></tr><tr style=\"{border: 1px solid white;}\"><td style=\"border-bottom: 1px solid #DDD;font-size:1.02em;background-color:#214579;color:white\"><b>4</b></td><td style=\"border: 1px solid white;\">Fiber optic</td><td style=\"border: 1px solid white;\">Mailed check</td><td style=\"border: 1px solid white;\">Female</td><td style=\"border: 1px solid white;\">Month-to-month</td><td style=\"border: 1px solid white;\">True</td><td style=\"border: 1px solid white;\">0</td><td style=\"border: 1px solid white;\">1</td><td style=\"border: 1px solid white;\">0</td><td style=\"border: 1px solid white;\">0</td><td style=\"border: 1px solid white;\">0</td><td style=\"border: 1px solid white;\">1</td><td style=\"border: 1px solid white;\">1</td><td style=\"border: 1px solid white;\">0</td><td style=\"border: 1px solid white;\">0</td></tr><tr><td style=\"border-top: 1px solid white;background-color:#214579;color:white\"></td><td style=\"border: 1px solid white;\">...</td><td style=\"border: 1px solid white;\">...</td><td style=\"border: 1px solid white;\">...</td><td style=\"border: 1px solid white;\">...</td><td style=\"border: 1px solid white;\">...</td><td style=\"border: 1px solid white;\">...</td><td style=\"border: 1px solid white;\">...</td><td style=\"border: 1px solid white;\">...</td><td style=\"border: 1px solid white;\">...</td><td style=\"border: 1px solid white;\">...</td><td style=\"border: 1px solid white;\">...</td><td style=\"border: 1px solid white;\">...</td><td style=\"border: 1px solid white;\">...</td><td style=\"border: 1px solid white;\">...</td></tr></table>"
      ],
      "text/plain": [
       "<IPython.core.display.HTML object>"
      ]
     },
     "metadata": {},
     "output_type": "display_data"
    },
    {
     "data": {
      "text/plain": [
       "<object>  Name: churn, Number of rows: 7043, Number of columns: 14"
      ]
     },
     "execution_count": 33,
     "metadata": {},
     "output_type": "execute_result"
    }
   ],
   "source": [
    "churn.get_dummies()"
   ]
  },
  {
   "cell_type": "code",
   "execution_count": 35,
   "metadata": {},
   "outputs": [
    {
     "data": {
      "text/html": [
       "<table style=\"border-collapse: collapse; border: 2px solid white\"><tr style=\"{border: 1px solid white;}\"><td style=\"border-bottom: 1px solid #DDD;font-size:1.02em;background-color:#214579;color:white\"><b></b></td><td style=\"font-size:1.02em;background-color:#214579;color:white\"><b>InternetService</b></td><td style=\"font-size:1.02em;background-color:#214579;color:white\"><b>PaymentMethod</b></td><td style=\"font-size:1.02em;background-color:#214579;color:white\"><b>gender</b></td><td style=\"font-size:1.02em;background-color:#214579;color:white\"><b>Contract</b></td><td style=\"font-size:1.02em;background-color:#214579;color:white\"><b>Churn</b></td><td style=\"font-size:1.02em;background-color:#214579;color:white\"><b>InternetService_0</b></td><td style=\"font-size:1.02em;background-color:#214579;color:white\"><b>InternetService_1</b></td><td style=\"font-size:1.02em;background-color:#214579;color:white\"><b>PaymentMethod_0</b></td><td style=\"font-size:1.02em;background-color:#214579;color:white\"><b>PaymentMethod_1</b></td><td style=\"font-size:1.02em;background-color:#214579;color:white\"><b>PaymentMethod_2</b></td><td style=\"font-size:1.02em;background-color:#214579;color:white\"><b>gender_0</b></td><td style=\"font-size:1.02em;background-color:#214579;color:white\"><b>Contract_0</b></td><td style=\"font-size:1.02em;background-color:#214579;color:white\"><b>Contract_1</b></td><td style=\"font-size:1.02em;background-color:#214579;color:white\"><b>Churn_0</b></td></tr><tr style=\"{border: 1px solid white;}\"><td style=\"border-bottom: 1px solid #DDD;font-size:1.02em;background-color:#214579;color:white\"><b>0</b></td><td style=\"border: 1px solid white;\">DSL</td><td style=\"border: 1px solid white;\">Mailed check</td><td style=\"border: 1px solid white;\">Female</td><td style=\"border: 1px solid white;\">One year</td><td style=\"border: 1px solid white;\">False</td><td style=\"border: 1px solid white;\">1</td><td style=\"border: 1px solid white;\">0</td><td style=\"border: 1px solid white;\">0</td><td style=\"border: 1px solid white;\">0</td><td style=\"border: 1px solid white;\">0</td><td style=\"border: 1px solid white;\">1</td><td style=\"border: 1px solid white;\">0</td><td style=\"border: 1px solid white;\">1</td><td style=\"border: 1px solid white;\">1</td></tr><tr style=\"{border: 1px solid white;}\"><td style=\"border-bottom: 1px solid #DDD;font-size:1.02em;background-color:#214579;color:white\"><b>1</b></td><td style=\"border: 1px solid white;\">DSL</td><td style=\"border: 1px solid white;\">Mailed check</td><td style=\"border: 1px solid white;\">Male</td><td style=\"border: 1px solid white;\">Month-to-month</td><td style=\"border: 1px solid white;\">False</td><td style=\"border: 1px solid white;\">1</td><td style=\"border: 1px solid white;\">0</td><td style=\"border: 1px solid white;\">0</td><td style=\"border: 1px solid white;\">0</td><td style=\"border: 1px solid white;\">0</td><td style=\"border: 1px solid white;\">0</td><td style=\"border: 1px solid white;\">1</td><td style=\"border: 1px solid white;\">0</td><td style=\"border: 1px solid white;\">1</td></tr><tr style=\"{border: 1px solid white;}\"><td style=\"border-bottom: 1px solid #DDD;font-size:1.02em;background-color:#214579;color:white\"><b>2</b></td><td style=\"border: 1px solid white;\">Fiber optic</td><td style=\"border: 1px solid white;\">Electronic check</td><td style=\"border: 1px solid white;\">Male</td><td style=\"border: 1px solid white;\">Month-to-month</td><td style=\"border: 1px solid white;\">True</td><td style=\"border: 1px solid white;\">0</td><td style=\"border: 1px solid white;\">1</td><td style=\"border: 1px solid white;\">0</td><td style=\"border: 1px solid white;\">0</td><td style=\"border: 1px solid white;\">1</td><td style=\"border: 1px solid white;\">0</td><td style=\"border: 1px solid white;\">1</td><td style=\"border: 1px solid white;\">0</td><td style=\"border: 1px solid white;\">0</td></tr><tr style=\"{border: 1px solid white;}\"><td style=\"border-bottom: 1px solid #DDD;font-size:1.02em;background-color:#214579;color:white\"><b>3</b></td><td style=\"border: 1px solid white;\">Fiber optic</td><td style=\"border: 1px solid white;\">Electronic check</td><td style=\"border: 1px solid white;\">Male</td><td style=\"border: 1px solid white;\">Month-to-month</td><td style=\"border: 1px solid white;\">True</td><td style=\"border: 1px solid white;\">0</td><td style=\"border: 1px solid white;\">1</td><td style=\"border: 1px solid white;\">0</td><td style=\"border: 1px solid white;\">0</td><td style=\"border: 1px solid white;\">1</td><td style=\"border: 1px solid white;\">0</td><td style=\"border: 1px solid white;\">1</td><td style=\"border: 1px solid white;\">0</td><td style=\"border: 1px solid white;\">0</td></tr><tr style=\"{border: 1px solid white;}\"><td style=\"border-bottom: 1px solid #DDD;font-size:1.02em;background-color:#214579;color:white\"><b>4</b></td><td style=\"border: 1px solid white;\">Fiber optic</td><td style=\"border: 1px solid white;\">Mailed check</td><td style=\"border: 1px solid white;\">Female</td><td style=\"border: 1px solid white;\">Month-to-month</td><td style=\"border: 1px solid white;\">True</td><td style=\"border: 1px solid white;\">0</td><td style=\"border: 1px solid white;\">1</td><td style=\"border: 1px solid white;\">0</td><td style=\"border: 1px solid white;\">0</td><td style=\"border: 1px solid white;\">0</td><td style=\"border: 1px solid white;\">1</td><td style=\"border: 1px solid white;\">1</td><td style=\"border: 1px solid white;\">0</td><td style=\"border: 1px solid white;\">0</td></tr><tr><td style=\"border-top: 1px solid white;background-color:#214579;color:white\"></td><td style=\"border: 1px solid white;\">...</td><td style=\"border: 1px solid white;\">...</td><td style=\"border: 1px solid white;\">...</td><td style=\"border: 1px solid white;\">...</td><td style=\"border: 1px solid white;\">...</td><td style=\"border: 1px solid white;\">...</td><td style=\"border: 1px solid white;\">...</td><td style=\"border: 1px solid white;\">...</td><td style=\"border: 1px solid white;\">...</td><td style=\"border: 1px solid white;\">...</td><td style=\"border: 1px solid white;\">...</td><td style=\"border: 1px solid white;\">...</td><td style=\"border: 1px solid white;\">...</td><td style=\"border: 1px solid white;\">...</td></tr></table>"
      ],
      "text/plain": [
       "<IPython.core.display.HTML object>"
      ]
     },
     "metadata": {},
     "output_type": "display_data"
    },
    {
     "data": {
      "text/plain": [
       "<object>  Name: churn, Number of rows: 7043, Number of columns: 14"
      ]
     },
     "execution_count": 35,
     "metadata": {},
     "output_type": "execute_result"
    }
   ],
   "source": [
    "# Number as suffix\n",
    "churn.get_dummies(use_numbers_as_suffix = True)"
   ]
  },
  {
   "cell_type": "markdown",
   "metadata": {},
   "source": [
    "### See Also\n",
    "\n",
    "<table id=\"seealso\">\n",
    "    <tr><td><a href=\"../../vcolumn-methods/decode\">vDataFrame[].decode</a></td> <td>Encodes the vcolumn using a user defined Encoding.</td></tr>\n",
    "    <tr><td><a href=\"../../vcolumn-methods/discretize\">vDataFrame[].discretize</a></td> <td>Discretizes the vcolumn.</td></tr>\n",
    "    <tr><td><a href=\"../../vcolumn-methods/get_dummies\">vDataFrame[].get_dummies</a></td> <td>Computes the vcolumns result of One Hot Encoding.</td></tr>\n",
    "    <tr><td><a href=\"../../vcolumn-methods/label_encode\">vDataFrame[].label_encode</a></td> <td>Encodes the vcolumn using the Label Encoding.</td></tr>\n",
    "    <tr><td><a href=\"../../vcolumn-methods/mean_encode\">vDataFrame[].mean_encode</a></td> <td>Encodes the vcolumn using the Mean Encoding of a response.</td></tr>\n",
    "</table>"
   ]
  }
 ],
 "metadata": {
  "kernelspec": {
   "display_name": "Python 3",
   "language": "python",
   "name": "python3"
  },
  "language_info": {
   "codemirror_mode": {
    "name": "ipython",
    "version": 3
   },
   "file_extension": ".py",
   "mimetype": "text/x-python",
   "name": "python",
   "nbconvert_exporter": "python",
   "pygments_lexer": "ipython3",
   "version": "3.6.3"
  }
 },
 "nbformat": 4,
 "nbformat_minor": 2
}
