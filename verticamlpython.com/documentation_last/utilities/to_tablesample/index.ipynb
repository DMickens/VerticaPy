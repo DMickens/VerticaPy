{
 "cells": [
  {
   "cell_type": "markdown",
   "metadata": {},
   "source": [
    "# to_tablesample"
   ]
  },
  {
   "cell_type": "code",
   "execution_count": null,
   "metadata": {},
   "outputs": [],
   "source": [
    "to_tablesample(query: str,\n",
    "               cursor = None,\n",
    "               name: str = \"Sample\",\n",
    "               query_on: bool = False,\n",
    "               time_on: bool = False,\n",
    "               title: str = \"\")"
   ]
  },
  {
   "cell_type": "markdown",
   "metadata": {},
   "source": [
    "Returns the Result of a SQL query as a tablesample object.\n",
    "\n",
    "### Parameters\n",
    "\n",
    "<table id=\"parameters\">\n",
    "    <tr> <th>Name</th> <th>Type</th> <th>Optional</th> <th>Description</th> </tr>\n",
    "    <tr> <td><div class=\"param_name\">query</div></td> <td><div class=\"type\">str</div></td> <td><div class = \"no\">&#10060;</div></td> <td>SQL Query.</td> </tr>\n",
    "    <tr> <td><div class=\"param_name\">cursor</div></td> <td><div class=\"type\">DBcursor</div></td> <td><div class = \"yes\">&#10003;</div></td> <td>Vertica DB cursor.</td> </tr>\n",
    "    <tr> <td><div class=\"param_name\">name</div></td> <td><div class=\"type\">str</div></td> <td><div class = \"yes\">&#10003;</div></td> <td>Name of the object. It is used only for rendering purposes.</td> </tr>\n",
    "    <tr> <td><div class=\"param_name\">query_on</div></td> <td><div class=\"type\">bool</div></td> <td><div class = \"yes\">&#10003;</div></td> <td>If set to True, display the query.</td> </tr>\n",
    "    <tr> <td><div class=\"param_name\">time_on</div></td> <td><div class=\"type\">bool</div></td> <td><div class = \"yes\">&#10003;</div></td> <td>If set to True, displays the query elapsed time.</td> </tr>\n",
    "    <tr> <td><div class=\"param_name\">title</div></td> <td><div class=\"type\">str</div></td> <td><div class = \"yes\">&#10003;</div></td> <td>Query title when the query is displayed.</td> </tr>\n",
    "</table>\n",
    "\n",
    "### Returns\n",
    "\n",
    "<a href=\"../tablesample\">tablesample</a> : An object containing the result. For more information, check out <a href=\"../tablesample\">utilities.tablesample</a>."
   ]
  },
  {
   "cell_type": "markdown",
   "metadata": {},
   "source": [
    "### Example"
   ]
  },
  {
   "cell_type": "code",
   "execution_count": 1,
   "metadata": {},
   "outputs": [
    {
     "data": {
      "text/html": [
       "<table style=\"border-collapse: collapse; border: 2px solid white\"><tr style=\"{border: 1px solid white;}\"><td style=\"border-bottom: 1px solid #DDD;font-size:1.02em;background-color:#214579;color:white\"><b></b></td><td style=\"font-size:1.02em;background-color:#214579;color:white\"><b>pclass</b></td><td style=\"font-size:1.02em;background-color:#214579;color:white\"><b>survived</b></td><td style=\"font-size:1.02em;background-color:#214579;color:white\"><b>name</b></td><td style=\"font-size:1.02em;background-color:#214579;color:white\"><b>sex</b></td><td style=\"font-size:1.02em;background-color:#214579;color:white\"><b>age</b></td><td style=\"font-size:1.02em;background-color:#214579;color:white\"><b>sibsp</b></td><td style=\"font-size:1.02em;background-color:#214579;color:white\"><b>parch</b></td><td style=\"font-size:1.02em;background-color:#214579;color:white\"><b>ticket</b></td><td style=\"font-size:1.02em;background-color:#214579;color:white\"><b>fare</b></td><td style=\"font-size:1.02em;background-color:#214579;color:white\"><b>cabin</b></td><td style=\"font-size:1.02em;background-color:#214579;color:white\"><b>embarked</b></td><td style=\"font-size:1.02em;background-color:#214579;color:white\"><b>boat</b></td><td style=\"font-size:1.02em;background-color:#214579;color:white\"><b>body</b></td><td style=\"font-size:1.02em;background-color:#214579;color:white\"><b>home.dest</b></td></tr><tr style=\"{border: 1px solid white;}\"><td style=\"border-bottom: 1px solid #DDD;font-size:1.02em;background-color:#214579;color:white\"><b>0</b></td><td style=\"border: 1px solid white;\">1</td><td style=\"border: 1px solid white;\">0</td><td style=\"border: 1px solid white;\">Allison, Miss. Helen Loraine</td><td style=\"border: 1px solid white;\">female</td><td style=\"border: 1px solid white;\">2.000</td><td style=\"border: 1px solid white;\">1</td><td style=\"border: 1px solid white;\">2</td><td style=\"border: 1px solid white;\">113781</td><td style=\"border: 1px solid white;\">151.55000</td><td style=\"border: 1px solid white;\">C22 C26</td><td style=\"border: 1px solid white;\">S</td><td style=\"border: 1px solid white;\">None</td><td style=\"border: 1px solid white;\">None</td><td style=\"border: 1px solid white;\">Montreal, PQ / Chesterville, ON</td></tr><tr style=\"{border: 1px solid white;}\"><td style=\"border-bottom: 1px solid #DDD;font-size:1.02em;background-color:#214579;color:white\"><b>1</b></td><td style=\"border: 1px solid white;\">1</td><td style=\"border: 1px solid white;\">0</td><td style=\"border: 1px solid white;\">Allison, Mr. Hudson Joshua Creighton</td><td style=\"border: 1px solid white;\">male</td><td style=\"border: 1px solid white;\">30.000</td><td style=\"border: 1px solid white;\">1</td><td style=\"border: 1px solid white;\">2</td><td style=\"border: 1px solid white;\">113781</td><td style=\"border: 1px solid white;\">151.55000</td><td style=\"border: 1px solid white;\">C22 C26</td><td style=\"border: 1px solid white;\">S</td><td style=\"border: 1px solid white;\">None</td><td style=\"border: 1px solid white;\">135</td><td style=\"border: 1px solid white;\">Montreal, PQ / Chesterville, ON</td></tr><tr style=\"{border: 1px solid white;}\"><td style=\"border-bottom: 1px solid #DDD;font-size:1.02em;background-color:#214579;color:white\"><b>2</b></td><td style=\"border: 1px solid white;\">1</td><td style=\"border: 1px solid white;\">0</td><td style=\"border: 1px solid white;\">Allison, Mrs. Hudson J C (Bessie Waldo Daniels)</td><td style=\"border: 1px solid white;\">female</td><td style=\"border: 1px solid white;\">25.000</td><td style=\"border: 1px solid white;\">1</td><td style=\"border: 1px solid white;\">2</td><td style=\"border: 1px solid white;\">113781</td><td style=\"border: 1px solid white;\">151.55000</td><td style=\"border: 1px solid white;\">C22 C26</td><td style=\"border: 1px solid white;\">S</td><td style=\"border: 1px solid white;\">None</td><td style=\"border: 1px solid white;\">None</td><td style=\"border: 1px solid white;\">Montreal, PQ / Chesterville, ON</td></tr><tr style=\"{border: 1px solid white;}\"><td style=\"border-bottom: 1px solid #DDD;font-size:1.02em;background-color:#214579;color:white\"><b>3</b></td><td style=\"border: 1px solid white;\">1</td><td style=\"border: 1px solid white;\">0</td><td style=\"border: 1px solid white;\">Andrews, Mr. Thomas Jr</td><td style=\"border: 1px solid white;\">male</td><td style=\"border: 1px solid white;\">39.000</td><td style=\"border: 1px solid white;\">0</td><td style=\"border: 1px solid white;\">0</td><td style=\"border: 1px solid white;\">112050</td><td style=\"border: 1px solid white;\">0.00000</td><td style=\"border: 1px solid white;\">A36</td><td style=\"border: 1px solid white;\">S</td><td style=\"border: 1px solid white;\">None</td><td style=\"border: 1px solid white;\">None</td><td style=\"border: 1px solid white;\">Belfast, NI</td></tr><tr style=\"{border: 1px solid white;}\"><td style=\"border-bottom: 1px solid #DDD;font-size:1.02em;background-color:#214579;color:white\"><b>4</b></td><td style=\"border: 1px solid white;\">1</td><td style=\"border: 1px solid white;\">0</td><td style=\"border: 1px solid white;\">Artagaveytia, Mr. Ramon</td><td style=\"border: 1px solid white;\">male</td><td style=\"border: 1px solid white;\">71.000</td><td style=\"border: 1px solid white;\">0</td><td style=\"border: 1px solid white;\">0</td><td style=\"border: 1px solid white;\">PC 17609</td><td style=\"border: 1px solid white;\">49.50420</td><td style=\"border: 1px solid white;\">None</td><td style=\"border: 1px solid white;\">C</td><td style=\"border: 1px solid white;\">None</td><td style=\"border: 1px solid white;\">22</td><td style=\"border: 1px solid white;\">Montevideo, Uruguay</td></tr></table>"
      ],
      "text/plain": [
       "<IPython.core.display.HTML object>"
      ]
     },
     "metadata": {},
     "output_type": "display_data"
    },
    {
     "data": {
      "text/plain": [
       "<object>  Name: Sample, Number of rows: 5, Number of columns: 14"
      ]
     },
     "execution_count": 1,
     "metadata": {},
     "output_type": "execute_result"
    }
   ],
   "source": [
    "from vertica_ml_python.utilities import *\n",
    "to_tablesample(\"SELECT * FROM public.titanic LIMIT 5\")"
   ]
  },
  {
   "cell_type": "markdown",
   "metadata": {},
   "source": [
    "### See Also\n",
    "\n",
    "<table id=\"seealso\">\n",
    "    <tr><td><a href=\"../tablesample\">tablesample</a></td> <td>Object in memory created for rendering purposes.</td></tr>\n",
    "</table>"
   ]
  }
 ],
 "metadata": {
  "kernelspec": {
   "display_name": "Python 3",
   "language": "python",
   "name": "python3"
  },
  "language_info": {
   "codemirror_mode": {
    "name": "ipython",
    "version": 3
   },
   "file_extension": ".py",
   "mimetype": "text/x-python",
   "name": "python",
   "nbconvert_exporter": "python",
   "pygments_lexer": "ipython3",
   "version": "3.6.3"
  }
 },
 "nbformat": 4,
 "nbformat_minor": 2
}
