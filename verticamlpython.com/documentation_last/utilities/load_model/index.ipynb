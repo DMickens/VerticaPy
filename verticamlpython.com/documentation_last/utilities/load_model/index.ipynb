{
 "cells": [
  {
   "cell_type": "markdown",
   "metadata": {},
   "source": [
    "# load_model"
   ]
  },
  {
   "cell_type": "code",
   "execution_count": null,
   "metadata": {},
   "outputs": [],
   "source": [
    "load_model(name: str, \n",
    "           cursor = None, \n",
    "           test_relation: str = \"\")"
   ]
  },
  {
   "cell_type": "markdown",
   "metadata": {},
   "source": [
    "Loads a Vertica model and returns the associated object.\n",
    "\n",
    "### Parameters\n",
    "\n",
    "<table id=\"parameters\">\n",
    "    <tr> <th>Name</th> <th>Type</th> <th>Optional</th> <th>Description</th> </tr>\n",
    "    <tr> <td><div class=\"param_name\">name</div></td> <td><div class=\"type\">str</div></td> <td><div class = \"no\">&#10060;</div></td> <td>Model Name.</td> </tr>\n",
    "    <tr> <td><div class=\"param_name\">cursor</div></td> <td><div class=\"type\">DBcursor</div></td> <td><div class = \"yes\">&#10003;</div></td> <td>Vertica DB cursor.</td> </tr>\n",
    "    <tr> <td><div class=\"param_name\">test_relation</div></td> <td><div class=\"type\">str</div></td> <td><div class = \"yes\">&#10003;</div></td> <td>Relation used to do the testing. All the methods will use this relation for the scoring. If empty, the training relation will be used as testing.</td> </tr>\n",
    "</table>\n",
    "\n",
    "### Returns\n",
    "\n",
    "<b>model</b> : The model."
   ]
  },
  {
   "cell_type": "markdown",
   "metadata": {},
   "source": [
    "### Example"
   ]
  },
  {
   "cell_type": "code",
   "execution_count": 2,
   "metadata": {},
   "outputs": [
    {
     "data": {
      "text/plain": [
       "\n",
       "\n",
       "=======\n",
       "details\n",
       "=======\n",
       " predictor |coefficient|std_err |z_value |p_value \n",
       "-----------+-----------+--------+--------+--------\n",
       " Intercept |  0.27678  | 0.43558| 0.63541| 0.52516\n",
       "    age    | -0.01807  | 0.00626|-2.88476| 0.00392\n",
       "family_size| -0.02921  | 0.05317|-0.54926| 0.58283\n",
       "   fare    |  0.01571  | 0.00329| 4.77443| 0.00000\n",
       "  pclass   | -0.05925  | 0.12269|-0.48292| 0.62915\n",
       "    sex    | -0.10181  | 0.16029|-0.63519| 0.52530\n",
       "\n",
       "\n",
       "==============\n",
       "regularization\n",
       "==============\n",
       "type| lambda \n",
       "----+--------\n",
       " l2 | 1.00000\n",
       "\n",
       "\n",
       "===========\n",
       "call_string\n",
       "===========\n",
       "logistic_reg('public.logit_titanic', '\"public\".VERTICA_ML_PYTHON_SPLIT_titanicclean_67_TRAIN', '\"survived\"', '\"age\", \"family_size\", \"fare\", \"pclass\", \"sex\"'\n",
       "USING PARAMETERS optimizer='cgd', epsilon=0.0001, max_iterations=100, regularization='l2', lambda=1, alpha=0)\n",
       "\n",
       "===============\n",
       "Additional Info\n",
       "===============\n",
       "       Name       |Value\n",
       "------------------+-----\n",
       " iteration_count  |  4  \n",
       "rejected_row_count|  0  \n",
       "accepted_row_count| 840 "
      ]
     },
     "execution_count": 2,
     "metadata": {},
     "output_type": "execute_result"
    }
   ],
   "source": [
    "from vertica_ml_python.utilities import *\n",
    "model = load_model(\"logit_titanic\")\n",
    "model"
   ]
  }
 ],
 "metadata": {
  "kernelspec": {
   "display_name": "Python 3",
   "language": "python",
   "name": "python3"
  },
  "language_info": {
   "codemirror_mode": {
    "name": "ipython",
    "version": 3
   },
   "file_extension": ".py",
   "mimetype": "text/x-python",
   "name": "python",
   "nbconvert_exporter": "python",
   "pygments_lexer": "ipython3",
   "version": "3.6.3"
  }
 },
 "nbformat": 4,
 "nbformat_minor": 2
}
