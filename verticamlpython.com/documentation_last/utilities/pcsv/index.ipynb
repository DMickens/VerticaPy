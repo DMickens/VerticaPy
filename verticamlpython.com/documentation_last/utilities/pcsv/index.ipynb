{
 "cells": [
  {
   "cell_type": "markdown",
   "metadata": {},
   "source": [
    "# pcsv"
   ]
  },
  {
   "cell_type": "code",
   "execution_count": null,
   "metadata": {},
   "outputs": [],
   "source": [
    "pcsv(path: str, \n",
    "     cursor = None,\n",
    "     sep: str = ',',\n",
    "     header: bool = True,\n",
    "     header_names: list = [],\n",
    "     na_rep: str = '', \n",
    "     quotechar: str = '\"',\n",
    "     escape: str = '\\\\')"
   ]
  },
  {
   "cell_type": "markdown",
   "metadata": {},
   "source": [
    "Parses a CSV file using flex tables. It will identify the columns and their respective types.\n",
    "\n",
    "### Parameters\n",
    "\n",
    "<table id=\"parameters\">\n",
    "    <tr> <th>Name</th> <th>Type</th> <th>Optional</th> <th>Description</th> </tr>\n",
    "    <tr> <td><div class=\"param_name\">path</div></td> <td><div class=\"type\">str</div></td> <td><div class = \"no\">&#10060;</div></td> <td>Absolute path where the CSV file is located.</td> </tr>\n",
    "    <tr> <td><div class=\"param_name\">cursor</div></td> <td><div class=\"type\">DBcursor</div></td> <td><div class = \"yes\">&#10003;</div></td> <td>Vertica DB cursor.</td> </tr>\n",
    "    <tr> <td><div class=\"param_name\">sep</div></td> <td><div class=\"type\">str</div></td> <td><div class = \"yes\">&#10003;</div></td> <td>Column separator.</td> </tr>\n",
    "    <tr> <td><div class=\"param_name\">header</div></td> <td><div class=\"type\">bool</div></td> <td><div class = \"yes\">&#10003;</div></td> <td>If set to False, the parameter 'header_names' will be used to name the different columns.</td> </tr>\n",
    "    <tr> <td><div class=\"param_name\">header_names</div></td> <td><div class=\"type\">list</div></td> <td><div class = \"yes\">&#10003;</div></td> <td>List of the columns names.</td> </tr>\n",
    "    <tr> <td><div class=\"param_name\">na_rep</div></td> <td><div class=\"type\">str</div></td> <td><div class = \"yes\">&#10003;</div></td> <td>Missing values representation.</td> </tr>\n",
    "    <tr> <td><div class=\"param_name\">quotechar</div></td> <td><div class=\"type\">str</div></td> <td><div class = \"yes\">&#10003;</div></td> <td>Char which is enclosing the str values.</td> </tr>\n",
    "    <tr> <td><div class=\"param_name\">escape</div></td> <td><div class=\"type\">str</div></td> <td><div class = \"yes\">&#10003;</div></td> <td>Separator between each record.</td> </tr>\n",
    "</table>\n",
    "\n",
    "### Returns\n",
    "\n",
    "<b>dict</b> : dictionary containing for each column its type."
   ]
  },
  {
   "cell_type": "markdown",
   "metadata": {},
   "source": [
    "### Example"
   ]
  },
  {
   "cell_type": "code",
   "execution_count": 32,
   "metadata": {},
   "outputs": [
    {
     "data": {
      "text/plain": [
       "{'age': 'Numeric(6,3)',\n",
       " 'boat': 'Varchar(100)',\n",
       " 'body': 'Integer',\n",
       " 'cabin': 'Varchar(30)',\n",
       " 'embarked': 'Varchar(20)',\n",
       " 'fare': 'Numeric(10,5)',\n",
       " 'home.dest': 'Varchar(100)',\n",
       " 'name': 'Varchar(164)',\n",
       " 'parch': 'Integer',\n",
       " 'pclass': 'Integer',\n",
       " 'sex': 'Varchar(20)',\n",
       " 'sibsp': 'Integer',\n",
       " 'survived': 'Integer',\n",
       " 'ticket': 'Varchar(36)'}"
      ]
     },
     "execution_count": 32,
     "metadata": {},
     "output_type": "execute_result"
    }
   ],
   "source": [
    "from vertica_ml_python.utilities import *\n",
    "# Parses the CSV file \n",
    "pcsv(\"titanic.csv\", \n",
    "     sep = \",\",\n",
    "     na_rep = \"\")"
   ]
  },
  {
   "cell_type": "code",
   "execution_count": 35,
   "metadata": {},
   "outputs": [
    {
     "data": {
      "text/plain": [
       "{'new_name1': 'Integer',\n",
       " 'new_name2': 'Integer',\n",
       " 'ucol10': 'Varchar(20)',\n",
       " 'ucol11': 'Varchar(100)',\n",
       " 'ucol12': 'Integer',\n",
       " 'ucol13': 'Varchar(100)',\n",
       " 'ucol2': 'Varchar(164)',\n",
       " 'ucol3': 'Varchar(20)',\n",
       " 'ucol4': 'Numeric(6,3)',\n",
       " 'ucol5': 'Integer',\n",
       " 'ucol6': 'Integer',\n",
       " 'ucol7': 'Varchar(36)',\n",
       " 'ucol8': 'Numeric(10,5)',\n",
       " 'ucol9': 'Varchar(30)'}"
      ]
     },
     "execution_count": 35,
     "metadata": {},
     "output_type": "execute_result"
    }
   ],
   "source": [
    "# You can also rename the columns or name them if it has \n",
    "# no header by using the parameter 'header_names'\n",
    "pcsv(\"titanic.csv\", \n",
    "     sep = \",\",\n",
    "     na_rep = \"\",\n",
    "     header = True,\n",
    "     header_names = [\"new_name1\", \"new_name2\"])"
   ]
  },
  {
   "cell_type": "markdown",
   "metadata": {},
   "source": [
    "### See Also\n",
    "\n",
    "<table id=\"seealso\">\n",
    "    <tr><td><a href=\"../read_csv\">read_csv</a></td> <td>Ingests a CSV file in the Vertica DB.</td></tr>\n",
    "    <tr><td><a href=\"../read_json\">read_json</a></td> <td>Ingests a JSON file in the Vertica DB.</td></tr>\n",
    "</table>"
   ]
  }
 ],
 "metadata": {
  "kernelspec": {
   "display_name": "Python 3",
   "language": "python",
   "name": "python3"
  },
  "language_info": {
   "codemirror_mode": {
    "name": "ipython",
    "version": 3
   },
   "file_extension": ".py",
   "mimetype": "text/x-python",
   "name": "python",
   "nbconvert_exporter": "python",
   "pygments_lexer": "ipython3",
   "version": "3.6.3"
  }
 },
 "nbformat": 4,
 "nbformat_minor": 2
}
