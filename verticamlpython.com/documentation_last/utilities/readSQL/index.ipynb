{
 "cells": [
  {
   "cell_type": "markdown",
   "metadata": {},
   "source": [
    "# readSQL"
   ]
  },
  {
   "cell_type": "code",
   "execution_count": null,
   "metadata": {},
   "outputs": [],
   "source": [
    "readSQL(query: str,\n",
    "        cursor = None,\n",
    "        dsn: str = \"\",\n",
    "        time_on: bool = False,\n",
    "        limit: int = 10)"
   ]
  },
  {
   "cell_type": "markdown",
   "metadata": {},
   "source": [
    "Returns the Result of a SQL query as a tablesample object.\n",
    "\n",
    "### Parameters\n",
    "\n",
    "<table id=\"parameters\">\n",
    "    <tr> <th>Name</th> <th>Type</th> <th>Optional</th> <th>Description</th> </tr>\n",
    "    <tr> <td><div class=\"param_name\">query</div></td> <td><div class=\"type\">str</div></td> <td><div class = \"no\">&#10060;</div></td> <td>SQL Query.</td> </tr>\n",
    "    <tr> <td><div class=\"param_name\">cursor</div></td> <td><div class=\"type\">DBcursor</div></td> <td><div class = \"yes\">&#10003;</div></td> <td>Vertica DB cursor.</td> </tr>\n",
    "    <tr> <td><div class=\"param_name\">dsn</div></td> <td><div class=\"type\">str</div></td> <td><div class = \"yes\">&#10003;</div></td> <td>Vertica DB DSN.</td> </tr>\n",
    "    <tr> <td><div class=\"param_name\">time_on</div></td> <td><div class=\"type\">bool</div></td> <td><div class = \"yes\">&#10003;</div></td> <td>If set to True, displays the query elapsed time.</td> </tr>\n",
    "    <tr> <td><div class=\"param_name\">limit</div></td> <td><div class=\"type\">int</div></td> <td><div class = \"yes\">&#10003;</div></td> <td>Number maximum of elements to display.</td> </tr>\n",
    "</table>\n",
    "\n",
    "### Returns\n",
    "\n",
    "<a href=\"../tablesample\">tablesample</a> : An object containing the result. For more information, check out <a href=\"../tablesample\">utilities.tablesample</a>."
   ]
  },
  {
   "cell_type": "markdown",
   "metadata": {},
   "source": [
    "### Example"
   ]
  },
  {
   "cell_type": "code",
   "execution_count": 3,
   "metadata": {},
   "outputs": [
    {
     "data": {
      "text/html": [
       "<table style=\"border-collapse: collapse; border: 2px solid white\"><tr style=\"{border: 1px solid white;}\"><td style=\"border-bottom: 1px solid #DDD;font-size:1.02em;background-color:#263133;color:white\"><b></b></td><td style=\"font-size:1.02em;background-color:#263133;color:white\"><b>pclass</b></td><td style=\"font-size:1.02em;background-color:#263133;color:white\"><b>survived</b></td><td style=\"font-size:1.02em;background-color:#263133;color:white\"><b>name</b></td><td style=\"font-size:1.02em;background-color:#263133;color:white\"><b>sex</b></td><td style=\"font-size:1.02em;background-color:#263133;color:white\"><b>age</b></td><td style=\"font-size:1.02em;background-color:#263133;color:white\"><b>sibsp</b></td><td style=\"font-size:1.02em;background-color:#263133;color:white\"><b>parch</b></td><td style=\"font-size:1.02em;background-color:#263133;color:white\"><b>ticket</b></td><td style=\"font-size:1.02em;background-color:#263133;color:white\"><b>fare</b></td><td style=\"font-size:1.02em;background-color:#263133;color:white\"><b>cabin</b></td><td style=\"font-size:1.02em;background-color:#263133;color:white\"><b>embarked</b></td><td style=\"font-size:1.02em;background-color:#263133;color:white\"><b>boat</b></td><td style=\"font-size:1.02em;background-color:#263133;color:white\"><b>body</b></td><td style=\"font-size:1.02em;background-color:#263133;color:white\"><b>home.dest</b></td></tr><tr style=\"{border: 1px solid white;}\"><td style=\"border-bottom: 1px solid #DDD;font-size:1.02em;background-color:#263133;color:white\"><b>0</b></td><td style=\"border: 1px solid white;\">1</td><td style=\"border: 1px solid white;\">0</td><td style=\"border: 1px solid white;\">Allison, Miss. Helen Loraine</td><td style=\"border: 1px solid white;\">female</td><td style=\"border: 1px solid white;\">2.000</td><td style=\"border: 1px solid white;\">1</td><td style=\"border: 1px solid white;\">2</td><td style=\"border: 1px solid white;\">113781</td><td style=\"border: 1px solid white;\">151.55000</td><td style=\"border: 1px solid white;\">C22 C26</td><td style=\"border: 1px solid white;\">S</td><td style=\"border: 1px solid white;\">None</td><td style=\"border: 1px solid white;\">None</td><td style=\"border: 1px solid white;\">Montreal, PQ / Chesterville, ON</td></tr><tr style=\"{border: 1px solid white;}\"><td style=\"border-bottom: 1px solid #DDD;font-size:1.02em;background-color:#263133;color:white\"><b>1</b></td><td style=\"border: 1px solid white;\">1</td><td style=\"border: 1px solid white;\">0</td><td style=\"border: 1px solid white;\">Allison, Mr. Hudson Joshua Creighton</td><td style=\"border: 1px solid white;\">male</td><td style=\"border: 1px solid white;\">30.000</td><td style=\"border: 1px solid white;\">1</td><td style=\"border: 1px solid white;\">2</td><td style=\"border: 1px solid white;\">113781</td><td style=\"border: 1px solid white;\">151.55000</td><td style=\"border: 1px solid white;\">C22 C26</td><td style=\"border: 1px solid white;\">S</td><td style=\"border: 1px solid white;\">None</td><td style=\"border: 1px solid white;\">135</td><td style=\"border: 1px solid white;\">Montreal, PQ / Chesterville, ON</td></tr><tr style=\"{border: 1px solid white;}\"><td style=\"border-bottom: 1px solid #DDD;font-size:1.02em;background-color:#263133;color:white\"><b>2</b></td><td style=\"border: 1px solid white;\">1</td><td style=\"border: 1px solid white;\">0</td><td style=\"border: 1px solid white;\">Allison, Mrs. Hudson J C (Bessie Waldo Daniels)</td><td style=\"border: 1px solid white;\">female</td><td style=\"border: 1px solid white;\">25.000</td><td style=\"border: 1px solid white;\">1</td><td style=\"border: 1px solid white;\">2</td><td style=\"border: 1px solid white;\">113781</td><td style=\"border: 1px solid white;\">151.55000</td><td style=\"border: 1px solid white;\">C22 C26</td><td style=\"border: 1px solid white;\">S</td><td style=\"border: 1px solid white;\">None</td><td style=\"border: 1px solid white;\">None</td><td style=\"border: 1px solid white;\">Montreal, PQ / Chesterville, ON</td></tr><tr style=\"{border: 1px solid white;}\"><td style=\"border-bottom: 1px solid #DDD;font-size:1.02em;background-color:#263133;color:white\"><b>3</b></td><td style=\"border: 1px solid white;\">1</td><td style=\"border: 1px solid white;\">0</td><td style=\"border: 1px solid white;\">Andrews, Mr. Thomas Jr</td><td style=\"border: 1px solid white;\">male</td><td style=\"border: 1px solid white;\">39.000</td><td style=\"border: 1px solid white;\">0</td><td style=\"border: 1px solid white;\">0</td><td style=\"border: 1px solid white;\">112050</td><td style=\"border: 1px solid white;\">0.00000</td><td style=\"border: 1px solid white;\">A36</td><td style=\"border: 1px solid white;\">S</td><td style=\"border: 1px solid white;\">None</td><td style=\"border: 1px solid white;\">None</td><td style=\"border: 1px solid white;\">Belfast, NI</td></tr><tr style=\"{border: 1px solid white;}\"><td style=\"border-bottom: 1px solid #DDD;font-size:1.02em;background-color:#263133;color:white\"><b>4</b></td><td style=\"border: 1px solid white;\">1</td><td style=\"border: 1px solid white;\">0</td><td style=\"border: 1px solid white;\">Artagaveytia, Mr. Ramon</td><td style=\"border: 1px solid white;\">male</td><td style=\"border: 1px solid white;\">71.000</td><td style=\"border: 1px solid white;\">0</td><td style=\"border: 1px solid white;\">0</td><td style=\"border: 1px solid white;\">PC 17609</td><td style=\"border: 1px solid white;\">49.50420</td><td style=\"border: 1px solid white;\">None</td><td style=\"border: 1px solid white;\">C</td><td style=\"border: 1px solid white;\">None</td><td style=\"border: 1px solid white;\">22</td><td style=\"border: 1px solid white;\">Montevideo, Uruguay</td></tr><tr style=\"{border: 1px solid white;}\"><td style=\"border-bottom: 1px solid #DDD;font-size:1.02em;background-color:#263133;color:white\"><b>5</b></td><td style=\"border: 1px solid white;\">1</td><td style=\"border: 1px solid white;\">0</td><td style=\"border: 1px solid white;\">Astor, Col. John Jacob</td><td style=\"border: 1px solid white;\">male</td><td style=\"border: 1px solid white;\">47.000</td><td style=\"border: 1px solid white;\">1</td><td style=\"border: 1px solid white;\">0</td><td style=\"border: 1px solid white;\">PC 17757</td><td style=\"border: 1px solid white;\">227.52500</td><td style=\"border: 1px solid white;\">C62 C64</td><td style=\"border: 1px solid white;\">C</td><td style=\"border: 1px solid white;\">None</td><td style=\"border: 1px solid white;\">124</td><td style=\"border: 1px solid white;\">New York, NY</td></tr><tr style=\"{border: 1px solid white;}\"><td style=\"border-bottom: 1px solid #DDD;font-size:1.02em;background-color:#263133;color:white\"><b>6</b></td><td style=\"border: 1px solid white;\">1</td><td style=\"border: 1px solid white;\">0</td><td style=\"border: 1px solid white;\">Baumann, Mr. John D</td><td style=\"border: 1px solid white;\">male</td><td style=\"border: 1px solid white;\">None</td><td style=\"border: 1px solid white;\">0</td><td style=\"border: 1px solid white;\">0</td><td style=\"border: 1px solid white;\">PC 17318</td><td style=\"border: 1px solid white;\">25.92500</td><td style=\"border: 1px solid white;\">None</td><td style=\"border: 1px solid white;\">S</td><td style=\"border: 1px solid white;\">None</td><td style=\"border: 1px solid white;\">None</td><td style=\"border: 1px solid white;\">New York, NY</td></tr><tr style=\"{border: 1px solid white;}\"><td style=\"border-bottom: 1px solid #DDD;font-size:1.02em;background-color:#263133;color:white\"><b>7</b></td><td style=\"border: 1px solid white;\">1</td><td style=\"border: 1px solid white;\">0</td><td style=\"border: 1px solid white;\">Baxter, Mr. Quigg Edmond</td><td style=\"border: 1px solid white;\">male</td><td style=\"border: 1px solid white;\">24.000</td><td style=\"border: 1px solid white;\">0</td><td style=\"border: 1px solid white;\">1</td><td style=\"border: 1px solid white;\">PC 17558</td><td style=\"border: 1px solid white;\">247.52080</td><td style=\"border: 1px solid white;\">B58 B60</td><td style=\"border: 1px solid white;\">C</td><td style=\"border: 1px solid white;\">None</td><td style=\"border: 1px solid white;\">None</td><td style=\"border: 1px solid white;\">Montreal, PQ</td></tr><tr style=\"{border: 1px solid white;}\"><td style=\"border-bottom: 1px solid #DDD;font-size:1.02em;background-color:#263133;color:white\"><b>8</b></td><td style=\"border: 1px solid white;\">1</td><td style=\"border: 1px solid white;\">0</td><td style=\"border: 1px solid white;\">Beattie, Mr. Thomson</td><td style=\"border: 1px solid white;\">male</td><td style=\"border: 1px solid white;\">36.000</td><td style=\"border: 1px solid white;\">0</td><td style=\"border: 1px solid white;\">0</td><td style=\"border: 1px solid white;\">13050</td><td style=\"border: 1px solid white;\">75.24170</td><td style=\"border: 1px solid white;\">C6</td><td style=\"border: 1px solid white;\">C</td><td style=\"border: 1px solid white;\">A</td><td style=\"border: 1px solid white;\">None</td><td style=\"border: 1px solid white;\">Winnipeg, MN</td></tr><tr style=\"{border: 1px solid white;}\"><td style=\"border-bottom: 1px solid #DDD;font-size:1.02em;background-color:#263133;color:white\"><b>9</b></td><td style=\"border: 1px solid white;\">1</td><td style=\"border: 1px solid white;\">0</td><td style=\"border: 1px solid white;\">Birnbaum, Mr. Jakob</td><td style=\"border: 1px solid white;\">male</td><td style=\"border: 1px solid white;\">25.000</td><td style=\"border: 1px solid white;\">0</td><td style=\"border: 1px solid white;\">0</td><td style=\"border: 1px solid white;\">13905</td><td style=\"border: 1px solid white;\">26.00000</td><td style=\"border: 1px solid white;\">None</td><td style=\"border: 1px solid white;\">C</td><td style=\"border: 1px solid white;\">None</td><td style=\"border: 1px solid white;\">148</td><td style=\"border: 1px solid white;\">San Francisco, CA</td></tr><tr><td style=\"border-top: 1px solid white;background-color:#263133;color:white\"></td><td style=\"border: 1px solid white;\">...</td><td style=\"border: 1px solid white;\">...</td><td style=\"border: 1px solid white;\">...</td><td style=\"border: 1px solid white;\">...</td><td style=\"border: 1px solid white;\">...</td><td style=\"border: 1px solid white;\">...</td><td style=\"border: 1px solid white;\">...</td><td style=\"border: 1px solid white;\">...</td><td style=\"border: 1px solid white;\">...</td><td style=\"border: 1px solid white;\">...</td><td style=\"border: 1px solid white;\">...</td><td style=\"border: 1px solid white;\">...</td><td style=\"border: 1px solid white;\">...</td><td style=\"border: 1px solid white;\">...</td></tr></table>"
      ],
      "text/plain": [
       "<IPython.core.display.HTML object>"
      ]
     },
     "metadata": {},
     "output_type": "display_data"
    },
    {
     "data": {
      "text/plain": [
       "<object>  Name: readSQL, Number of rows: 1234, Number of columns: 14"
      ]
     },
     "execution_count": 3,
     "metadata": {},
     "output_type": "execute_result"
    }
   ],
   "source": [
    "from vertica_ml_python.utilities import *\n",
    "readSQL(\"SELECT * FROM public.titanic\")"
   ]
  },
  {
   "cell_type": "code",
   "execution_count": 4,
   "metadata": {},
   "outputs": [
    {
     "data": {
      "text/html": [
       "<div><b>Elapsed Time : </b> 0.015063047409057617</div>"
      ],
      "text/plain": [
       "<IPython.core.display.HTML object>"
      ]
     },
     "metadata": {},
     "output_type": "display_data"
    },
    {
     "data": {
      "text/html": [
       "<div style = 'border : 1px dashed black; width : 100%'></div>"
      ],
      "text/plain": [
       "<IPython.core.display.HTML object>"
      ]
     },
     "metadata": {},
     "output_type": "display_data"
    },
    {
     "data": {
      "text/html": [
       "<table style=\"border-collapse: collapse; border: 2px solid white\"><tr style=\"{border: 1px solid white;}\"><td style=\"border-bottom: 1px solid #DDD;font-size:1.02em;background-color:#263133;color:white\"><b></b></td><td style=\"font-size:1.02em;background-color:#263133;color:white\"><b>pclass</b></td><td style=\"font-size:1.02em;background-color:#263133;color:white\"><b>AVG</b></td></tr><tr style=\"{border: 1px solid white;}\"><td style=\"border-bottom: 1px solid #DDD;font-size:1.02em;background-color:#263133;color:white\"><b>0</b></td><td style=\"border: 1px solid white;\">1</td><td style=\"border: 1px solid white;\">0.612179487179487</td></tr><tr style=\"{border: 1px solid white;}\"><td style=\"border-bottom: 1px solid #DDD;font-size:1.02em;background-color:#263133;color:white\"><b>1</b></td><td style=\"border: 1px solid white;\">2</td><td style=\"border: 1px solid white;\">0.416988416988417</td></tr><tr style=\"{border: 1px solid white;}\"><td style=\"border-bottom: 1px solid #DDD;font-size:1.02em;background-color:#263133;color:white\"><b>2</b></td><td style=\"border: 1px solid white;\">3</td><td style=\"border: 1px solid white;\">0.227752639517345</td></tr></table>"
      ],
      "text/plain": [
       "<IPython.core.display.HTML object>"
      ]
     },
     "metadata": {},
     "output_type": "display_data"
    },
    {
     "data": {
      "text/plain": [
       "<object>  Name: readSQL, Number of rows: 3, Number of columns: 2"
      ]
     },
     "execution_count": 4,
     "metadata": {},
     "output_type": "execute_result"
    }
   ],
   "source": [
    "# Time ON\n",
    "readSQL(\"SELECT pclass, AVG(survived) FROM public.titanic GROUP BY 1\", time_on = True)"
   ]
  },
  {
   "cell_type": "code",
   "execution_count": 6,
   "metadata": {},
   "outputs": [
    {
     "data": {
      "text/html": [
       "<table style=\"border-collapse: collapse; border: 2px solid white\"><tr style=\"{border: 1px solid white;}\"><td style=\"border-bottom: 1px solid #DDD;font-size:1.02em;background-color:#263133;color:white\"><b></b></td><td style=\"font-size:1.02em;background-color:#263133;color:white\"><b>pclass</b></td><td style=\"font-size:1.02em;background-color:#263133;color:white\"><b>survived</b></td><td style=\"font-size:1.02em;background-color:#263133;color:white\"><b>name</b></td><td style=\"font-size:1.02em;background-color:#263133;color:white\"><b>sex</b></td><td style=\"font-size:1.02em;background-color:#263133;color:white\"><b>age</b></td><td style=\"font-size:1.02em;background-color:#263133;color:white\"><b>sibsp</b></td><td style=\"font-size:1.02em;background-color:#263133;color:white\"><b>parch</b></td><td style=\"font-size:1.02em;background-color:#263133;color:white\"><b>ticket</b></td><td style=\"font-size:1.02em;background-color:#263133;color:white\"><b>fare</b></td><td style=\"font-size:1.02em;background-color:#263133;color:white\"><b>cabin</b></td><td style=\"font-size:1.02em;background-color:#263133;color:white\"><b>embarked</b></td><td style=\"font-size:1.02em;background-color:#263133;color:white\"><b>boat</b></td><td style=\"font-size:1.02em;background-color:#263133;color:white\"><b>body</b></td><td style=\"font-size:1.02em;background-color:#263133;color:white\"><b>home.dest</b></td></tr><tr style=\"{border: 1px solid white;}\"><td style=\"border-bottom: 1px solid #DDD;font-size:1.02em;background-color:#263133;color:white\"><b>0</b></td><td style=\"border: 1px solid white;\">1</td><td style=\"border: 1px solid white;\">0</td><td style=\"border: 1px solid white;\">Allison, Miss. Helen Loraine</td><td style=\"border: 1px solid white;\">female</td><td style=\"border: 1px solid white;\">2.000</td><td style=\"border: 1px solid white;\">1</td><td style=\"border: 1px solid white;\">2</td><td style=\"border: 1px solid white;\">113781</td><td style=\"border: 1px solid white;\">151.55000</td><td style=\"border: 1px solid white;\">C22 C26</td><td style=\"border: 1px solid white;\">S</td><td style=\"border: 1px solid white;\">None</td><td style=\"border: 1px solid white;\">None</td><td style=\"border: 1px solid white;\">Montreal, PQ / Chesterville, ON</td></tr><tr style=\"{border: 1px solid white;}\"><td style=\"border-bottom: 1px solid #DDD;font-size:1.02em;background-color:#263133;color:white\"><b>1</b></td><td style=\"border: 1px solid white;\">1</td><td style=\"border: 1px solid white;\">0</td><td style=\"border: 1px solid white;\">Allison, Mr. Hudson Joshua Creighton</td><td style=\"border: 1px solid white;\">male</td><td style=\"border: 1px solid white;\">30.000</td><td style=\"border: 1px solid white;\">1</td><td style=\"border: 1px solid white;\">2</td><td style=\"border: 1px solid white;\">113781</td><td style=\"border: 1px solid white;\">151.55000</td><td style=\"border: 1px solid white;\">C22 C26</td><td style=\"border: 1px solid white;\">S</td><td style=\"border: 1px solid white;\">None</td><td style=\"border: 1px solid white;\">135</td><td style=\"border: 1px solid white;\">Montreal, PQ / Chesterville, ON</td></tr><tr style=\"{border: 1px solid white;}\"><td style=\"border-bottom: 1px solid #DDD;font-size:1.02em;background-color:#263133;color:white\"><b>2</b></td><td style=\"border: 1px solid white;\">1</td><td style=\"border: 1px solid white;\">0</td><td style=\"border: 1px solid white;\">Allison, Mrs. Hudson J C (Bessie Waldo Daniels)</td><td style=\"border: 1px solid white;\">female</td><td style=\"border: 1px solid white;\">25.000</td><td style=\"border: 1px solid white;\">1</td><td style=\"border: 1px solid white;\">2</td><td style=\"border: 1px solid white;\">113781</td><td style=\"border: 1px solid white;\">151.55000</td><td style=\"border: 1px solid white;\">C22 C26</td><td style=\"border: 1px solid white;\">S</td><td style=\"border: 1px solid white;\">None</td><td style=\"border: 1px solid white;\">None</td><td style=\"border: 1px solid white;\">Montreal, PQ / Chesterville, ON</td></tr><tr style=\"{border: 1px solid white;}\"><td style=\"border-bottom: 1px solid #DDD;font-size:1.02em;background-color:#263133;color:white\"><b>3</b></td><td style=\"border: 1px solid white;\">1</td><td style=\"border: 1px solid white;\">0</td><td style=\"border: 1px solid white;\">Andrews, Mr. Thomas Jr</td><td style=\"border: 1px solid white;\">male</td><td style=\"border: 1px solid white;\">39.000</td><td style=\"border: 1px solid white;\">0</td><td style=\"border: 1px solid white;\">0</td><td style=\"border: 1px solid white;\">112050</td><td style=\"border: 1px solid white;\">0.00000</td><td style=\"border: 1px solid white;\">A36</td><td style=\"border: 1px solid white;\">S</td><td style=\"border: 1px solid white;\">None</td><td style=\"border: 1px solid white;\">None</td><td style=\"border: 1px solid white;\">Belfast, NI</td></tr><tr style=\"{border: 1px solid white;}\"><td style=\"border-bottom: 1px solid #DDD;font-size:1.02em;background-color:#263133;color:white\"><b>4</b></td><td style=\"border: 1px solid white;\">1</td><td style=\"border: 1px solid white;\">0</td><td style=\"border: 1px solid white;\">Artagaveytia, Mr. Ramon</td><td style=\"border: 1px solid white;\">male</td><td style=\"border: 1px solid white;\">71.000</td><td style=\"border: 1px solid white;\">0</td><td style=\"border: 1px solid white;\">0</td><td style=\"border: 1px solid white;\">PC 17609</td><td style=\"border: 1px solid white;\">49.50420</td><td style=\"border: 1px solid white;\">None</td><td style=\"border: 1px solid white;\">C</td><td style=\"border: 1px solid white;\">None</td><td style=\"border: 1px solid white;\">22</td><td style=\"border: 1px solid white;\">Montevideo, Uruguay</td></tr><tr><td style=\"border-top: 1px solid white;background-color:#263133;color:white\"></td><td style=\"border: 1px solid white;\">...</td><td style=\"border: 1px solid white;\">...</td><td style=\"border: 1px solid white;\">...</td><td style=\"border: 1px solid white;\">...</td><td style=\"border: 1px solid white;\">...</td><td style=\"border: 1px solid white;\">...</td><td style=\"border: 1px solid white;\">...</td><td style=\"border: 1px solid white;\">...</td><td style=\"border: 1px solid white;\">...</td><td style=\"border: 1px solid white;\">...</td><td style=\"border: 1px solid white;\">...</td><td style=\"border: 1px solid white;\">...</td><td style=\"border: 1px solid white;\">...</td><td style=\"border: 1px solid white;\">...</td></tr></table>"
      ],
      "text/plain": [
       "<IPython.core.display.HTML object>"
      ]
     },
     "metadata": {},
     "output_type": "display_data"
    },
    {
     "data": {
      "text/plain": [
       "<object>  Name: readSQL, Number of rows: 1234, Number of columns: 14"
      ]
     },
     "execution_count": 6,
     "metadata": {},
     "output_type": "execute_result"
    }
   ],
   "source": [
    "# Changing the limit\n",
    "readSQL(\"SELECT * FROM public.titanic\", limit = 5)"
   ]
  }
 ],
 "metadata": {
  "kernelspec": {
   "display_name": "Python 3",
   "language": "python",
   "name": "python3"
  },
  "language_info": {
   "codemirror_mode": {
    "name": "ipython",
    "version": 3
   },
   "file_extension": ".py",
   "mimetype": "text/x-python",
   "name": "python",
   "nbconvert_exporter": "python",
   "pygments_lexer": "ipython3",
   "version": "3.6.3"
  }
 },
 "nbformat": 4,
 "nbformat_minor": 2
}
