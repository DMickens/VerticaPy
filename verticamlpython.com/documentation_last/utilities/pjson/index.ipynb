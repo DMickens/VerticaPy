{
 "cells": [
  {
   "cell_type": "markdown",
   "metadata": {},
   "source": [
    "# pjson"
   ]
  },
  {
   "cell_type": "code",
   "execution_count": null,
   "metadata": {},
   "outputs": [],
   "source": [
    "pjson(path: str, \n",
    "      cursor = None)"
   ]
  },
  {
   "cell_type": "markdown",
   "metadata": {},
   "source": [
    "Parses a JSON file using flex tables. It will identify the columns and their respective types.\n",
    "\n",
    "### Parameters\n",
    "\n",
    "<table id=\"parameters\">\n",
    "    <tr> <th>Name</th> <th>Type</th> <th>Optional</th> <th>Description</th> </tr>\n",
    "    <tr> <td><div class=\"param_name\">path</div></td> <td><div class=\"type\">str</div></td> <td><div class = \"no\">&#10060;</div></td> <td>Absolute path where the JSON file is located.</td> </tr>\n",
    "    <tr> <td><div class=\"param_name\">cursor</div></td> <td><div class=\"type\">DBcursor</div></td> <td><div class = \"yes\">&#10003;</div></td> <td>Vertica DB cursor.</td> </tr>\n",
    "</table>\n",
    "\n",
    "### Returns\n",
    "\n",
    "<b>dict</b> : dictionary containing for each column its type."
   ]
  },
  {
   "cell_type": "markdown",
   "metadata": {},
   "source": [
    "### Example"
   ]
  },
  {
   "cell_type": "code",
   "execution_count": 1,
   "metadata": {},
   "outputs": [
    {
     "data": {
      "text/plain": [
       "{'datasetid': 'Varchar(36)',\n",
       " 'fields.age': 'Float',\n",
       " 'fields.cabin': 'Varchar(30)',\n",
       " 'fields.embarked': 'Varchar(20)',\n",
       " 'fields.fare': 'Float',\n",
       " 'fields.name': 'Varchar(164)',\n",
       " 'fields.parch': 'Integer',\n",
       " 'fields.passengerid': 'Integer',\n",
       " 'fields.pclass': 'Integer',\n",
       " 'fields.sex': 'Varchar(20)',\n",
       " 'fields.sibsp': 'Integer',\n",
       " 'fields.survived': 'Boolean',\n",
       " 'fields.ticket': 'Varchar(36)',\n",
       " 'record_timestamp': 'Timestamp',\n",
       " 'recordid': 'Uuid'}"
      ]
     },
     "execution_count": 1,
     "metadata": {},
     "output_type": "execute_result"
    }
   ],
   "source": [
    "from vertica_ml_python.utilities import *\n",
    "# Parsing the JSON file\n",
    "pjson(\"titanic.json\")"
   ]
  },
  {
   "cell_type": "markdown",
   "metadata": {},
   "source": [
    "### See Also\n",
    "\n",
    "<table id=\"seealso\">\n",
    "    <tr><td><a href=\"../read_csv\">read_csv</a></td> <td>Ingests a CSV file in the Vertica DB.</td></tr>\n",
    "    <tr><td><a href=\"../read_json\">read_json</a></td> <td>Ingests a JSON file in the Vertica DB.</td></tr>\n",
    "</table>"
   ]
  }
 ],
 "metadata": {
  "kernelspec": {
   "display_name": "Python 3",
   "language": "python",
   "name": "python3"
  },
  "language_info": {
   "codemirror_mode": {
    "name": "ipython",
    "version": 3
   },
   "file_extension": ".py",
   "mimetype": "text/x-python",
   "name": "python",
   "nbconvert_exporter": "python",
   "pygments_lexer": "ipython3",
   "version": "3.6.3"
  }
 },
 "nbformat": 4,
 "nbformat_minor": 2
}
