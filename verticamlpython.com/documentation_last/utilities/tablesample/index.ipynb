{
 "cells": [
  {
   "cell_type": "markdown",
   "metadata": {},
   "source": [
    "# tablesample"
   ]
  },
  {
   "cell_type": "code",
   "execution_count": null,
   "metadata": {},
   "outputs": [],
   "source": [
    "tablesample(values: dict = {}, \n",
    "            dtype: dict = {}, \n",
    "            name: str = \"Sample\",\n",
    "            count: int = 0, \n",
    "            offset: int = 0, \n",
    "            table_info: bool = True)"
   ]
  },
  {
   "cell_type": "markdown",
   "metadata": {},
   "source": [
    "The tablesample is the transition from 'Big Data' to 'Small Data'. This object was created to have a nice way of displaying the results and to not have any dependency to any other module. It stores the aggregated result in memory and has some useful method to transform it to pandas.DataFrame or vDataFrame.\n",
    "\n",
    "### Parameters\n",
    "\n",
    "<table id=\"parameters\">\n",
    "    <tr> <th>Name</th> <th>Type</th> <th>Optional</th> <th>Description</th> </tr>\n",
    "    <tr> <td><div class=\"param_name\">values</div></td> <td><div class=\"type\">dict</div></td> <td><div class = \"yes\">&#10003;</div></td> <td>Dictionary of columns (keys) and their values. The dictionary must be similar to the following one: {\"column1\": [val1, ..., valm], ... \"columnk\": [val1, ..., valm]}</td> </tr>\n",
    "    <tr> <td><div class=\"param_name\">dtype</div></td> <td><div class=\"type\">dict</div></td> <td><div class = \"yes\">&#10003;</div></td> <td>Columns data types.</td> </tr>\n",
    "    <tr> <td><div class=\"param_name\">name</div></td> <td><div class=\"type\">str</div></td> <td><div class = \"yes\">&#10003;</div></td> <td>Name of the object. It is used only for rendering purposes.</td> </tr>\n",
    "    <tr> <td><div class=\"param_name\">count</div></td> <td><div class=\"type\">int</div></td> <td><div class = \"yes\">&#10003;</div></td> <td>Number of elements if we had to load the entire dataset. It is used only for rendering purposes.</td> </tr>\n",
    "    <tr> <td><div class=\"param_name\">offset</div></td> <td><div class=\"type\">int</div></td> <td><div class = \"yes\">&#10003;</div></td> <td>Number of elements which had been skipped if we had to load the entire dataset. It is used only for rendering purposes.</td> </tr>\n",
    "    <tr> <td><div class=\"param_name\">table_info</div></td> <td><div class=\"type\">bool</div></td> <td><div class = \"yes\">&#10003;</div></td> <td>If set to True, the tablesample informations will be displayed.</td> </tr>\n",
    "</table>\n",
    "\n",
    "### Attributes\n",
    "\n",
    "The tablesample attributes are the same than the parameters.\n",
    "\n",
    "### Methods\n",
    "\n",
    "<table id=\"parameters\">\n",
    "    <tr> <th>Name</th> <th>Description</th> </tr>\n",
    "    <tr> <td><a href=\"transpose\">transpose</a></td> <td>Transposes the tablesample.</td> </tr>\n",
    "    <tr> <td><a href=\"to_pandas\">to_pandas</a></td> <td>Converts the tablesample to a pandas DataFrame.</td> </tr>\n",
    "    <tr> <td><a href=\"to_sql\">to_sql</a></td> <td>Generates the SQL query associated to the tablesample.</td> </tr>\n",
    "    <tr> <td><a href=\"to_vdf\">to_vdf</a></td> <td>Converts the tablesample to a vDataFrame.</td> </tr>\n",
    "</table>"
   ]
  },
  {
   "cell_type": "markdown",
   "metadata": {},
   "source": [
    "### Example"
   ]
  },
  {
   "cell_type": "code",
   "execution_count": 1,
   "metadata": {},
   "outputs": [
    {
     "data": {
      "text/html": [
       "<table style=\"border-collapse: collapse; border: 2px solid white\"><tr style=\"{border: 1px solid white;}\"><td style=\"border-bottom: 1px solid #DDD;font-size:1.02em;background-color:#263133;color:white\"><b></b></td><td style=\"font-size:1.02em;background-color:#263133;color:white\"><b>name</b></td><td style=\"font-size:1.02em;background-color:#263133;color:white\"><b>first_name</b></td></tr><tr style=\"{border: 1px solid white;}\"><td style=\"border-bottom: 1px solid #DDD;font-size:1.02em;background-color:#263133;color:white\"><b>0</b></td><td style=\"border: 1px solid white;\">Badr</td><td style=\"border: 1px solid white;\">Ouali</td></tr><tr style=\"{border: 1px solid white;}\"><td style=\"border-bottom: 1px solid #DDD;font-size:1.02em;background-color:#263133;color:white\"><b>1</b></td><td style=\"border: 1px solid white;\">Fouad</td><td style=\"border: 1px solid white;\">Teban</td></tr><tr style=\"{border: 1px solid white;}\"><td style=\"border-bottom: 1px solid #DDD;font-size:1.02em;background-color:#263133;color:white\"><b>2</b></td><td style=\"border: 1px solid white;\">Colin</td><td style=\"border: 1px solid white;\">Mahony</td></tr></table>"
      ],
      "text/plain": [
       "<IPython.core.display.HTML object>"
      ]
     },
     "metadata": {},
     "output_type": "display_data"
    },
    {
     "name": "stdout",
     "output_type": "stream",
     "text": [
      "<object>  Name: Vertica Team, Number of rows: 3, Number of columns: 3\n"
     ]
    }
   ],
   "source": [
    "from vertica_ml_python.utilities import *\n",
    "dataset = tablesample(values = {\"index\": [0, 1, 2],\n",
    "                                \"name\": [\"Badr\", \"Fouad\", \"Colin\"],\n",
    "                                \"first_name\": [\"Ouali\", \"Teban\", \"Mahony\"]},\n",
    "                      name = \"Vertica Team\")\n",
    "print(dataset)"
   ]
  }
 ],
 "metadata": {
  "kernelspec": {
   "display_name": "Python 3",
   "language": "python",
   "name": "python3"
  },
  "language_info": {
   "codemirror_mode": {
    "name": "ipython",
    "version": 3
   },
   "file_extension": ".py",
   "mimetype": "text/x-python",
   "name": "python",
   "nbconvert_exporter": "python",
   "pygments_lexer": "ipython3",
   "version": "3.6.3"
  }
 },
 "nbformat": 4,
 "nbformat_minor": 2
}
