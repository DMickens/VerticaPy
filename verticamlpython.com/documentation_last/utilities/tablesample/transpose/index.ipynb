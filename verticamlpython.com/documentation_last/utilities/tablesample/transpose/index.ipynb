{
 "cells": [
  {
   "cell_type": "markdown",
   "metadata": {},
   "source": [
    "# tablesample.transpose"
   ]
  },
  {
   "cell_type": "code",
   "execution_count": null,
   "metadata": {},
   "outputs": [],
   "source": [
    "tablesample.transpose()"
   ]
  },
  {
   "cell_type": "markdown",
   "metadata": {},
   "source": [
    "Transposes the tablesample."
   ]
  },
  {
   "cell_type": "markdown",
   "metadata": {},
   "source": [
    "### Returns\n",
    "\n",
    "<b>tablesample</b> : transposed tablesample\n",
    "\n",
    "### Example"
   ]
  },
  {
   "cell_type": "code",
   "execution_count": 14,
   "metadata": {
    "scrolled": false
   },
   "outputs": [
    {
     "data": {
      "text/html": [
       "<table style=\"border-collapse: collapse; border: 2px solid white\"><tr style=\"{border: 1px solid white;}\"><td style=\"border-bottom: 1px solid #DDD;font-size:1.02em;background-color:#214579;color:white\"><b></b></td><td style=\"font-size:1.02em;background-color:#214579;color:white\"><b>Banana</b></td><td style=\"font-size:1.02em;background-color:#214579;color:white\"><b>Manguo</b></td><td style=\"font-size:1.02em;background-color:#214579;color:white\"><b>Apple</b></td></tr><tr style=\"{border: 1px solid white;}\"><td style=\"border-bottom: 1px solid #DDD;font-size:1.02em;background-color:#214579;color:white\"><b>region</b></td><td style=\"border: 1px solid white;\">Brazil</td><td style=\"border: 1px solid white;\">Columbia</td><td style=\"border: 1px solid white;\">France</td></tr><tr style=\"{border: 1px solid white;}\"><td style=\"border-bottom: 1px solid #DDD;font-size:1.02em;background-color:#214579;color:white\"><b>price</b></td><td style=\"border: 1px solid white;\">2.3</td><td style=\"border: 1px solid white;\">6.7</td><td style=\"border: 1px solid white;\">1.5</td></tr><tr style=\"{border: 1px solid white;}\"><td style=\"border-bottom: 1px solid #DDD;font-size:1.02em;background-color:#214579;color:white\"><b>quality</b></td><td style=\"border: 1px solid white;\">2</td><td style=\"border: 1px solid white;\">5</td><td style=\"border: 1px solid white;\">2</td></tr></table>"
      ],
      "text/plain": [
       "<IPython.core.display.HTML object>"
      ]
     },
     "metadata": {},
     "output_type": "display_data"
    },
    {
     "name": "stdout",
     "output_type": "stream",
     "text": [
      "<object>  Name: Fruits, Number of rows: 3, Number of columns: 4\n"
     ]
    }
   ],
   "source": [
    "from vertica_ml_python.utilities import *\n",
    "dataset = tablesample(values = {\"index\": [\"region\", \"price\", \"quality\"],\n",
    "                                \"Banana\": [\"Brazil\", 2.3, 2],\n",
    "                                \"Manguo\": [\"Columbia\", 6.7, 5],\n",
    "                                \"Apple\": [\"France\", 1.5, 2]},\n",
    "                      name = \"Fruits\")\n",
    "print(dataset)"
   ]
  },
  {
   "cell_type": "code",
   "execution_count": 15,
   "metadata": {},
   "outputs": [
    {
     "data": {
      "text/html": [
       "<table style=\"border-collapse: collapse; border: 2px solid white\"><tr style=\"{border: 1px solid white;}\"><td style=\"border-bottom: 1px solid #DDD;font-size:1.02em;background-color:#214579;color:white\"><b></b></td><td style=\"font-size:1.02em;background-color:#214579;color:white\"><b>region</b></td><td style=\"font-size:1.02em;background-color:#214579;color:white\"><b>price</b></td><td style=\"font-size:1.02em;background-color:#214579;color:white\"><b>quality</b></td></tr><tr style=\"{border: 1px solid white;}\"><td style=\"border-bottom: 1px solid #DDD;font-size:1.02em;background-color:#214579;color:white\"><b>Banana</b></td><td style=\"border: 1px solid white;\">Brazil</td><td style=\"border: 1px solid white;\">2.3</td><td style=\"border: 1px solid white;\">2</td></tr><tr style=\"{border: 1px solid white;}\"><td style=\"border-bottom: 1px solid #DDD;font-size:1.02em;background-color:#214579;color:white\"><b>Manguo</b></td><td style=\"border: 1px solid white;\">Columbia</td><td style=\"border: 1px solid white;\">6.7</td><td style=\"border: 1px solid white;\">5</td></tr><tr style=\"{border: 1px solid white;}\"><td style=\"border-bottom: 1px solid #DDD;font-size:1.02em;background-color:#214579;color:white\"><b>Apple</b></td><td style=\"border: 1px solid white;\">France</td><td style=\"border: 1px solid white;\">1.5</td><td style=\"border: 1px solid white;\">2</td></tr></table>"
      ],
      "text/plain": [
       "<IPython.core.display.HTML object>"
      ]
     },
     "metadata": {},
     "output_type": "display_data"
    },
    {
     "data": {
      "text/plain": [
       "<object>  Name: Fruits, Number of rows: 3, Number of columns: 4"
      ]
     },
     "execution_count": 15,
     "metadata": {},
     "output_type": "execute_result"
    }
   ],
   "source": [
    "dataset.transpose()"
   ]
  }
 ],
 "metadata": {
  "kernelspec": {
   "display_name": "Python 3",
   "language": "python",
   "name": "python3"
  },
  "language_info": {
   "codemirror_mode": {
    "name": "ipython",
    "version": 3
   },
   "file_extension": ".py",
   "mimetype": "text/x-python",
   "name": "python",
   "nbconvert_exporter": "python",
   "pygments_lexer": "ipython3",
   "version": "3.6.3"
  }
 },
 "nbformat": 4,
 "nbformat_minor": 2
}
