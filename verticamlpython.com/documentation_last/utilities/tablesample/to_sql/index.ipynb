{
 "cells": [
  {
   "cell_type": "markdown",
   "metadata": {},
   "source": [
    "# tablesample.to_sql"
   ]
  },
  {
   "cell_type": "code",
   "execution_count": null,
   "metadata": {},
   "outputs": [],
   "source": [
    "tablesample.to_sql()"
   ]
  },
  {
   "cell_type": "markdown",
   "metadata": {},
   "source": [
    "Generates the SQL query associated to the tablesample."
   ]
  },
  {
   "cell_type": "markdown",
   "metadata": {},
   "source": [
    "### Returns\n",
    "\n",
    "<b>str</b> : SQL query associated to the tablesample.\n",
    "\n",
    "### Example"
   ]
  },
  {
   "cell_type": "code",
   "execution_count": 16,
   "metadata": {
    "scrolled": false
   },
   "outputs": [
    {
     "data": {
      "text/html": [
       "<table style=\"border-collapse: collapse; border: 2px solid white\"><tr style=\"{border: 1px solid white;}\"><td style=\"border-bottom: 1px solid #DDD;font-size:1.02em;background-color:#263133;color:white\"><b></b></td><td style=\"font-size:1.02em;background-color:#263133;color:white\"><b>Banana</b></td><td style=\"font-size:1.02em;background-color:#263133;color:white\"><b>Manguo</b></td><td style=\"font-size:1.02em;background-color:#263133;color:white\"><b>Apple</b></td></tr><tr style=\"{border: 1px solid white;}\"><td style=\"border-bottom: 1px solid #DDD;font-size:1.02em;background-color:#263133;color:white\"><b>region</b></td><td style=\"border: 1px solid white;\">Brazil</td><td style=\"border: 1px solid white;\">Columbia</td><td style=\"border: 1px solid white;\">France</td></tr><tr style=\"{border: 1px solid white;}\"><td style=\"border-bottom: 1px solid #DDD;font-size:1.02em;background-color:#263133;color:white\"><b>price</b></td><td style=\"border: 1px solid white;\">2.3</td><td style=\"border: 1px solid white;\">6.7</td><td style=\"border: 1px solid white;\">1.5</td></tr><tr style=\"{border: 1px solid white;}\"><td style=\"border-bottom: 1px solid #DDD;font-size:1.02em;background-color:#263133;color:white\"><b>quality</b></td><td style=\"border: 1px solid white;\">2</td><td style=\"border: 1px solid white;\">5</td><td style=\"border: 1px solid white;\">2</td></tr></table>"
      ],
      "text/plain": [
       "<IPython.core.display.HTML object>"
      ]
     },
     "metadata": {},
     "output_type": "display_data"
    },
    {
     "name": "stdout",
     "output_type": "stream",
     "text": [
      "<object>  Name: Fruits, Number of rows: 3, Number of columns: 4\n"
     ]
    }
   ],
   "source": [
    "from vertica_ml_python.utilities import *\n",
    "dataset = tablesample(values = {\"index\": [\"region\", \"price\", \"quality\"],\n",
    "                                \"Banana\": [\"Brazil\", 2.3, 2],\n",
    "                                \"Manguo\": [\"Columbia\", 6.7, 5],\n",
    "                                \"Apple\": [\"France\", 1.5, 2]},\n",
    "                      name = \"Fruits\")\n",
    "print(dataset)"
   ]
  },
  {
   "cell_type": "code",
   "execution_count": 19,
   "metadata": {},
   "outputs": [
    {
     "name": "stdout",
     "output_type": "stream",
     "text": [
      "(SELECT 'region' AS \"index\", 'Brazil' AS \"Banana\", 'Columbia' AS \"Manguo\", 'France' AS \"Apple\") UNION ALL (SELECT 'price' AS \"index\", 2.3 AS \"Banana\", 6.7 AS \"Manguo\", 1.5 AS \"Apple\") UNION ALL (SELECT 'quality' AS \"index\", 2 AS \"Banana\", 5 AS \"Manguo\", 2 AS \"Apple\")\n"
     ]
    }
   ],
   "source": [
    "print(dataset.to_sql())"
   ]
  }
 ],
 "metadata": {
  "kernelspec": {
   "display_name": "Python 3",
   "language": "python",
   "name": "python3"
  },
  "language_info": {
   "codemirror_mode": {
    "name": "ipython",
    "version": 3
   },
   "file_extension": ".py",
   "mimetype": "text/x-python",
   "name": "python",
   "nbconvert_exporter": "python",
   "pygments_lexer": "ipython3",
   "version": "3.6.3"
  }
 },
 "nbformat": 4,
 "nbformat_minor": 2
}
