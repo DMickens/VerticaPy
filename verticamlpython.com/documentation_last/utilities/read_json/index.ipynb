{
 "cells": [
  {
   "cell_type": "markdown",
   "metadata": {},
   "source": [
    "# read_json"
   ]
  },
  {
   "cell_type": "code",
   "execution_count": null,
   "metadata": {},
   "outputs": [],
   "source": [
    "read_json(path: str, \n",
    "          cursor = None, \n",
    "          schema: str = 'public', \n",
    "          table_name: str = '',\n",
    "          usecols: list = [],\n",
    "          new_name: dict = {},\n",
    "          insert: bool = False)"
   ]
  },
  {
   "cell_type": "markdown",
   "metadata": {},
   "source": [
    "Ingests a JSON file using flex tables.\n",
    "\n",
    "### Parameters\n",
    "\n",
    "<table id=\"parameters\">\n",
    "    <tr> <th>Name</th> <th>Type</th> <th>Optional</th> <th>Description</th> </tr>\n",
    "    <tr> <td><div class=\"param_name\">path</div></td> <td><div class=\"type\">str</div></td> <td><div class = \"no\">&#10060;</div></td> <td>Absolute path where the JSON file is located.</td> </tr>\n",
    "    <tr> <td><div class=\"param_name\">cursor</div></td> <td><div class=\"type\">DBcursor</div></td> <td><div class = \"yes\">&#10003;</div></td> <td>Vertica DB cursor.</td> </tr>\n",
    "    <tr> <td><div class=\"param_name\">schema</div></td> <td><div class=\"type\">str</div></td> <td><div class = \"yes\">&#10003;</div></td> <td>Schema where the JSON file will be ingested.</td> </tr>\n",
    "    <tr> <td><div class=\"param_name\">table_name</div></td> <td><div class=\"type\">str</div></td> <td><div class = \"yes\">&#10003;</div></td> <td>Final relation name.</td> </tr>\n",
    "    <tr> <td><div class=\"param_name\">usecols</div></td> <td><div class=\"type\">list</div></td> <td><div class = \"yes\">&#10003;</div></td> <td>List of the JSON parameters to ingest. The other ones will be ignored. If empty all the JSON parameters will be ingested.</td> </tr>\n",
    "    <tr> <td><div class=\"param_name\">new_name</div></td> <td><div class=\"type\">dict</div></td> <td><div class = \"yes\">&#10003;</div></td> <td>Dictionary of the new columns name. If the JSON file is nested, it is advised to change the final names as special characters will be included. For example, {\"param\": {\"age\": 3, \"name\": Badr}, \"date\": 1993-03-11} will create 3 columns: \"param.age\", \"param.name\" and \"date\". You can rename these columns using the 'new_name' parameter with the following dictionary: {\"param.age\": \"age\", \"param.name\": \"name\"}</td> </tr>\n",
    "    <tr> <td><div class=\"param_name\">insert</div></td> <td><div class=\"type\">bool</div></td> <td><div class = \"yes\">&#10003;</div></td> <td>If set to True, the data will be ingested to the input relation. The JSON parameters must be the same than the input relation otherwise they will not be ingested.</td> </tr>\n",
    "</table>\n",
    "\n",
    "### Returns\n",
    "\n",
    "<b>vDataFrame</b> : The vDataFrame of the relation."
   ]
  },
  {
   "cell_type": "markdown",
   "metadata": {},
   "source": [
    "### Example"
   ]
  },
  {
   "cell_type": "code",
   "execution_count": 8,
   "metadata": {},
   "outputs": [
    {
     "name": "stdout",
     "output_type": "stream",
     "text": [
      "The table \"public\".\"titanic_dataset\" has been successfully created.\n"
     ]
    },
    {
     "data": {
      "text/html": [
       "<table style=\"border-collapse: collapse; border: 2px solid white\"><tr style=\"{border: 1px solid white;}\"><td style=\"border-bottom: 1px solid #DDD;font-size:1.02em;background-color:#214579;color:white\"><b></b></td><td style=\"font-size:1.02em;background-color:#214579;color:white\"><b>fields.parch</b></td><td style=\"font-size:1.02em;background-color:#214579;color:white\"><b>fields.name</b></td><td style=\"font-size:1.02em;background-color:#214579;color:white\"><b>fields.survived</b></td><td style=\"font-size:1.02em;background-color:#214579;color:white\"><b>fields.embarked</b></td><td style=\"font-size:1.02em;background-color:#214579;color:white\"><b>fields.sibsp</b></td><td style=\"font-size:1.02em;background-color:#214579;color:white\"><b>record_timestamp</b></td><td style=\"font-size:1.02em;background-color:#214579;color:white\"><b>fields.passengerid</b></td><td style=\"font-size:1.02em;background-color:#214579;color:white\"><b>fields.pclass</b></td><td style=\"font-size:1.02em;background-color:#214579;color:white\"><b>fields.fare</b></td><td style=\"font-size:1.02em;background-color:#214579;color:white\"><b>fields.sex</b></td><td style=\"font-size:1.02em;background-color:#214579;color:white\"><b>fields.ticket</b></td><td style=\"font-size:1.02em;background-color:#214579;color:white\"><b>recordid</b></td><td style=\"font-size:1.02em;background-color:#214579;color:white\"><b>fields.age</b></td><td style=\"font-size:1.02em;background-color:#214579;color:white\"><b>fields.cabin</b></td><td style=\"font-size:1.02em;background-color:#214579;color:white\"><b>datasetid</b></td></tr><tr style=\"{border: 1px solid white;}\"><td style=\"border-bottom: 1px solid #DDD;font-size:1.02em;background-color:#214579;color:white\"><b>0</b></td><td style=\"border: 1px solid white;\">0</td><td style=\"border: 1px solid white;\">Collander, Mr. Erik Gustaf</td><td style=\"border: 1px solid white;\">False</td><td style=\"border: 1px solid white;\">S</td><td style=\"border: 1px solid white;\">0</td><td style=\"border: 1px solid white;\">2016-09-20 15:34:51.313</td><td style=\"border: 1px solid white;\">343</td><td style=\"border: 1px solid white;\">2</td><td style=\"border: 1px solid white;\">13.0</td><td style=\"border: 1px solid white;\">male</td><td style=\"border: 1px solid white;\">248740</td><td style=\"border: 1px solid white;\">835634b93c8f759537a89daa01c3c3658e934617</td><td style=\"border: 1px solid white;\">28.0</td><td style=\"border: 1px solid white;\">None</td><td style=\"border: 1px solid white;\">titanic-passengers</td></tr><tr style=\"{border: 1px solid white;}\"><td style=\"border-bottom: 1px solid #DDD;font-size:1.02em;background-color:#214579;color:white\"><b>1</b></td><td style=\"border: 1px solid white;\">0</td><td style=\"border: 1px solid white;\">Moen, Mr. Sigurd Hansen</td><td style=\"border: 1px solid white;\">False</td><td style=\"border: 1px solid white;\">S</td><td style=\"border: 1px solid white;\">0</td><td style=\"border: 1px solid white;\">2016-09-20 15:34:51.313</td><td style=\"border: 1px solid white;\">76</td><td style=\"border: 1px solid white;\">3</td><td style=\"border: 1px solid white;\">7.65</td><td style=\"border: 1px solid white;\">male</td><td style=\"border: 1px solid white;\">348123</td><td style=\"border: 1px solid white;\">97941a419e5cf6a4bb65147a7a21d7025c8a6e1b</td><td style=\"border: 1px solid white;\">25.0</td><td style=\"border: 1px solid white;\">F G73</td><td style=\"border: 1px solid white;\">titanic-passengers</td></tr><tr style=\"{border: 1px solid white;}\"><td style=\"border-bottom: 1px solid #DDD;font-size:1.02em;background-color:#214579;color:white\"><b>2</b></td><td style=\"border: 1px solid white;\">0</td><td style=\"border: 1px solid white;\">Jensen, Mr. Hans Peder</td><td style=\"border: 1px solid white;\">False</td><td style=\"border: 1px solid white;\">S</td><td style=\"border: 1px solid white;\">0</td><td style=\"border: 1px solid white;\">2016-09-20 15:34:51.313</td><td style=\"border: 1px solid white;\">641</td><td style=\"border: 1px solid white;\">3</td><td style=\"border: 1px solid white;\">7.8542</td><td style=\"border: 1px solid white;\">male</td><td style=\"border: 1px solid white;\">350050</td><td style=\"border: 1px solid white;\">b762da1fa9f7f7765bc14006d9f5b8fc1d2d5177</td><td style=\"border: 1px solid white;\">20.0</td><td style=\"border: 1px solid white;\">None</td><td style=\"border: 1px solid white;\">titanic-passengers</td></tr><tr style=\"{border: 1px solid white;}\"><td style=\"border-bottom: 1px solid #DDD;font-size:1.02em;background-color:#214579;color:white\"><b>3</b></td><td style=\"border: 1px solid white;\">4</td><td style=\"border: 1px solid white;\">Palsson, Mrs. Nils (Alma Cornelia Berglund)</td><td style=\"border: 1px solid white;\">False</td><td style=\"border: 1px solid white;\">S</td><td style=\"border: 1px solid white;\">0</td><td style=\"border: 1px solid white;\">2016-09-20 15:34:51.313</td><td style=\"border: 1px solid white;\">568</td><td style=\"border: 1px solid white;\">3</td><td style=\"border: 1px solid white;\">21.075</td><td style=\"border: 1px solid white;\">female</td><td style=\"border: 1px solid white;\">349909</td><td style=\"border: 1px solid white;\">dc455b086d203605705820911c0aaa98467bcd41</td><td style=\"border: 1px solid white;\">29.0</td><td style=\"border: 1px solid white;\">None</td><td style=\"border: 1px solid white;\">titanic-passengers</td></tr><tr style=\"{border: 1px solid white;}\"><td style=\"border-bottom: 1px solid #DDD;font-size:1.02em;background-color:#214579;color:white\"><b>4</b></td><td style=\"border: 1px solid white;\">0</td><td style=\"border: 1px solid white;\">Davidson, Mr. Thornton</td><td style=\"border: 1px solid white;\">False</td><td style=\"border: 1px solid white;\">S</td><td style=\"border: 1px solid white;\">1</td><td style=\"border: 1px solid white;\">2016-09-20 15:34:51.313</td><td style=\"border: 1px solid white;\">672</td><td style=\"border: 1px solid white;\">1</td><td style=\"border: 1px solid white;\">52.0</td><td style=\"border: 1px solid white;\">male</td><td style=\"border: 1px solid white;\">F.C. 12750</td><td style=\"border: 1px solid white;\">5aa00b39a93376656528f1c7d929a297e31e1a20</td><td style=\"border: 1px solid white;\">31.0</td><td style=\"border: 1px solid white;\">B71</td><td style=\"border: 1px solid white;\">titanic-passengers</td></tr><tr><td style=\"border-top: 1px solid white;background-color:#214579;color:white\"></td><td style=\"border: 1px solid white;\">...</td><td style=\"border: 1px solid white;\">...</td><td style=\"border: 1px solid white;\">...</td><td style=\"border: 1px solid white;\">...</td><td style=\"border: 1px solid white;\">...</td><td style=\"border: 1px solid white;\">...</td><td style=\"border: 1px solid white;\">...</td><td style=\"border: 1px solid white;\">...</td><td style=\"border: 1px solid white;\">...</td><td style=\"border: 1px solid white;\">...</td><td style=\"border: 1px solid white;\">...</td><td style=\"border: 1px solid white;\">...</td><td style=\"border: 1px solid white;\">...</td><td style=\"border: 1px solid white;\">...</td><td style=\"border: 1px solid white;\">...</td></tr></table>"
      ],
      "text/plain": [
       "<IPython.core.display.HTML object>"
      ]
     },
     "metadata": {},
     "output_type": "display_data"
    },
    {
     "data": {
      "text/plain": [
       "<object>  Name: titanic_dataset, Number of rows: 891, Number of columns: 15"
      ]
     },
     "execution_count": 8,
     "metadata": {},
     "output_type": "execute_result"
    }
   ],
   "source": [
    "from vertica_ml_python.utilities import *\n",
    "# Ingesting the JSON file\n",
    "read_json(\"titanic.json\", \n",
    "          table_name = \"titanic_dataset\",\n",
    "          schema = \"public\")"
   ]
  },
  {
   "cell_type": "code",
   "execution_count": 9,
   "metadata": {},
   "outputs": [
    {
     "name": "stdout",
     "output_type": "stream",
     "text": [
      "The table \"public\".\"titanic_dataset\" has been successfully created.\n"
     ]
    },
    {
     "data": {
      "text/html": [
       "<table style=\"border-collapse: collapse; border: 2px solid white\"><tr style=\"{border: 1px solid white;}\"><td style=\"border-bottom: 1px solid #DDD;font-size:1.02em;background-color:#214579;color:white\"><b></b></td><td style=\"font-size:1.02em;background-color:#214579;color:white\"><b>fields.ticket</b></td><td style=\"font-size:1.02em;background-color:#214579;color:white\"><b>recordid</b></td><td style=\"font-size:1.02em;background-color:#214579;color:white\"><b>fields.age</b></td><td style=\"font-size:1.02em;background-color:#214579;color:white\"><b>fields.cabin</b></td><td style=\"font-size:1.02em;background-color:#214579;color:white\"><b>datasetid</b></td><td style=\"font-size:1.02em;background-color:#214579;color:white\"><b>fare</b></td><td style=\"font-size:1.02em;background-color:#214579;color:white\"><b>fields.parch</b></td><td style=\"font-size:1.02em;background-color:#214579;color:white\"><b>fields.name</b></td><td style=\"font-size:1.02em;background-color:#214579;color:white\"><b>sex</b></td><td style=\"font-size:1.02em;background-color:#214579;color:white\"><b>fields.survived</b></td><td style=\"font-size:1.02em;background-color:#214579;color:white\"><b>fields.embarked</b></td><td style=\"font-size:1.02em;background-color:#214579;color:white\"><b>fields.sibsp</b></td><td style=\"font-size:1.02em;background-color:#214579;color:white\"><b>record_timestamp</b></td><td style=\"font-size:1.02em;background-color:#214579;color:white\"><b>fields.passengerid</b></td><td style=\"font-size:1.02em;background-color:#214579;color:white\"><b>fields.pclass</b></td></tr><tr style=\"{border: 1px solid white;}\"><td style=\"border-bottom: 1px solid #DDD;font-size:1.02em;background-color:#214579;color:white\"><b>0</b></td><td style=\"border: 1px solid white;\">248740</td><td style=\"border: 1px solid white;\">835634b93c8f759537a89daa01c3c3658e934617</td><td style=\"border: 1px solid white;\">28.0</td><td style=\"border: 1px solid white;\">None</td><td style=\"border: 1px solid white;\">titanic-passengers</td><td style=\"border: 1px solid white;\">13.0</td><td style=\"border: 1px solid white;\">0</td><td style=\"border: 1px solid white;\">Collander, Mr. Erik Gustaf</td><td style=\"border: 1px solid white;\">male</td><td style=\"border: 1px solid white;\">False</td><td style=\"border: 1px solid white;\">S</td><td style=\"border: 1px solid white;\">0</td><td style=\"border: 1px solid white;\">2016-09-20 15:34:51.313</td><td style=\"border: 1px solid white;\">343</td><td style=\"border: 1px solid white;\">2</td></tr><tr style=\"{border: 1px solid white;}\"><td style=\"border-bottom: 1px solid #DDD;font-size:1.02em;background-color:#214579;color:white\"><b>1</b></td><td style=\"border: 1px solid white;\">348123</td><td style=\"border: 1px solid white;\">97941a419e5cf6a4bb65147a7a21d7025c8a6e1b</td><td style=\"border: 1px solid white;\">25.0</td><td style=\"border: 1px solid white;\">F G73</td><td style=\"border: 1px solid white;\">titanic-passengers</td><td style=\"border: 1px solid white;\">7.65</td><td style=\"border: 1px solid white;\">0</td><td style=\"border: 1px solid white;\">Moen, Mr. Sigurd Hansen</td><td style=\"border: 1px solid white;\">male</td><td style=\"border: 1px solid white;\">False</td><td style=\"border: 1px solid white;\">S</td><td style=\"border: 1px solid white;\">0</td><td style=\"border: 1px solid white;\">2016-09-20 15:34:51.313</td><td style=\"border: 1px solid white;\">76</td><td style=\"border: 1px solid white;\">3</td></tr><tr style=\"{border: 1px solid white;}\"><td style=\"border-bottom: 1px solid #DDD;font-size:1.02em;background-color:#214579;color:white\"><b>2</b></td><td style=\"border: 1px solid white;\">350050</td><td style=\"border: 1px solid white;\">b762da1fa9f7f7765bc14006d9f5b8fc1d2d5177</td><td style=\"border: 1px solid white;\">20.0</td><td style=\"border: 1px solid white;\">None</td><td style=\"border: 1px solid white;\">titanic-passengers</td><td style=\"border: 1px solid white;\">7.8542</td><td style=\"border: 1px solid white;\">0</td><td style=\"border: 1px solid white;\">Jensen, Mr. Hans Peder</td><td style=\"border: 1px solid white;\">male</td><td style=\"border: 1px solid white;\">False</td><td style=\"border: 1px solid white;\">S</td><td style=\"border: 1px solid white;\">0</td><td style=\"border: 1px solid white;\">2016-09-20 15:34:51.313</td><td style=\"border: 1px solid white;\">641</td><td style=\"border: 1px solid white;\">3</td></tr><tr style=\"{border: 1px solid white;}\"><td style=\"border-bottom: 1px solid #DDD;font-size:1.02em;background-color:#214579;color:white\"><b>3</b></td><td style=\"border: 1px solid white;\">349909</td><td style=\"border: 1px solid white;\">dc455b086d203605705820911c0aaa98467bcd41</td><td style=\"border: 1px solid white;\">29.0</td><td style=\"border: 1px solid white;\">None</td><td style=\"border: 1px solid white;\">titanic-passengers</td><td style=\"border: 1px solid white;\">21.075</td><td style=\"border: 1px solid white;\">4</td><td style=\"border: 1px solid white;\">Palsson, Mrs. Nils (Alma Cornelia Berglund)</td><td style=\"border: 1px solid white;\">female</td><td style=\"border: 1px solid white;\">False</td><td style=\"border: 1px solid white;\">S</td><td style=\"border: 1px solid white;\">0</td><td style=\"border: 1px solid white;\">2016-09-20 15:34:51.313</td><td style=\"border: 1px solid white;\">568</td><td style=\"border: 1px solid white;\">3</td></tr><tr style=\"{border: 1px solid white;}\"><td style=\"border-bottom: 1px solid #DDD;font-size:1.02em;background-color:#214579;color:white\"><b>4</b></td><td style=\"border: 1px solid white;\">F.C. 12750</td><td style=\"border: 1px solid white;\">5aa00b39a93376656528f1c7d929a297e31e1a20</td><td style=\"border: 1px solid white;\">31.0</td><td style=\"border: 1px solid white;\">B71</td><td style=\"border: 1px solid white;\">titanic-passengers</td><td style=\"border: 1px solid white;\">52.0</td><td style=\"border: 1px solid white;\">0</td><td style=\"border: 1px solid white;\">Davidson, Mr. Thornton</td><td style=\"border: 1px solid white;\">male</td><td style=\"border: 1px solid white;\">False</td><td style=\"border: 1px solid white;\">S</td><td style=\"border: 1px solid white;\">1</td><td style=\"border: 1px solid white;\">2016-09-20 15:34:51.313</td><td style=\"border: 1px solid white;\">672</td><td style=\"border: 1px solid white;\">1</td></tr><tr><td style=\"border-top: 1px solid white;background-color:#214579;color:white\"></td><td style=\"border: 1px solid white;\">...</td><td style=\"border: 1px solid white;\">...</td><td style=\"border: 1px solid white;\">...</td><td style=\"border: 1px solid white;\">...</td><td style=\"border: 1px solid white;\">...</td><td style=\"border: 1px solid white;\">...</td><td style=\"border: 1px solid white;\">...</td><td style=\"border: 1px solid white;\">...</td><td style=\"border: 1px solid white;\">...</td><td style=\"border: 1px solid white;\">...</td><td style=\"border: 1px solid white;\">...</td><td style=\"border: 1px solid white;\">...</td><td style=\"border: 1px solid white;\">...</td><td style=\"border: 1px solid white;\">...</td><td style=\"border: 1px solid white;\">...</td></tr></table>"
      ],
      "text/plain": [
       "<IPython.core.display.HTML object>"
      ]
     },
     "metadata": {},
     "output_type": "display_data"
    },
    {
     "data": {
      "text/plain": [
       "<object>  Name: titanic_dataset, Number of rows: 891, Number of columns: 15"
      ]
     },
     "execution_count": 9,
     "metadata": {},
     "output_type": "execute_result"
    }
   ],
   "source": [
    "# Ingesting the JSON file and renaming some columns\n",
    "read_json(\"titanic.json\", \n",
    "          table_name = \"titanic_dataset\",\n",
    "          schema = \"public\",\n",
    "          new_name = {\"fields.fare\": \"fare\",\n",
    "                      \"fields.sex\": \"sex\"})"
   ]
  },
  {
   "cell_type": "code",
   "execution_count": 10,
   "metadata": {},
   "outputs": [
    {
     "name": "stdout",
     "output_type": "stream",
     "text": [
      "The table \"public\".\"titanic_dataset\" has been successfully created.\n"
     ]
    },
    {
     "data": {
      "text/html": [
       "<table style=\"border-collapse: collapse; border: 2px solid white\"><tr style=\"{border: 1px solid white;}\"><td style=\"border-bottom: 1px solid #DDD;font-size:1.02em;background-color:#214579;color:white\"><b></b></td><td style=\"font-size:1.02em;background-color:#214579;color:white\"><b>fare</b></td><td style=\"font-size:1.02em;background-color:#214579;color:white\"><b>sex</b></td></tr><tr style=\"{border: 1px solid white;}\"><td style=\"border-bottom: 1px solid #DDD;font-size:1.02em;background-color:#214579;color:white\"><b>0</b></td><td style=\"border: 1px solid white;\">13.0</td><td style=\"border: 1px solid white;\">male</td></tr><tr style=\"{border: 1px solid white;}\"><td style=\"border-bottom: 1px solid #DDD;font-size:1.02em;background-color:#214579;color:white\"><b>1</b></td><td style=\"border: 1px solid white;\">7.65</td><td style=\"border: 1px solid white;\">male</td></tr><tr style=\"{border: 1px solid white;}\"><td style=\"border-bottom: 1px solid #DDD;font-size:1.02em;background-color:#214579;color:white\"><b>2</b></td><td style=\"border: 1px solid white;\">7.8542</td><td style=\"border: 1px solid white;\">male</td></tr><tr style=\"{border: 1px solid white;}\"><td style=\"border-bottom: 1px solid #DDD;font-size:1.02em;background-color:#214579;color:white\"><b>3</b></td><td style=\"border: 1px solid white;\">21.075</td><td style=\"border: 1px solid white;\">female</td></tr><tr style=\"{border: 1px solid white;}\"><td style=\"border-bottom: 1px solid #DDD;font-size:1.02em;background-color:#214579;color:white\"><b>4</b></td><td style=\"border: 1px solid white;\">52.0</td><td style=\"border: 1px solid white;\">male</td></tr><tr><td style=\"border-top: 1px solid white;background-color:#214579;color:white\"></td><td style=\"border: 1px solid white;\">...</td><td style=\"border: 1px solid white;\">...</td></tr></table>"
      ],
      "text/plain": [
       "<IPython.core.display.HTML object>"
      ]
     },
     "metadata": {},
     "output_type": "display_data"
    },
    {
     "data": {
      "text/plain": [
       "<object>  Name: titanic_dataset, Number of rows: 891, Number of columns: 2"
      ]
     },
     "execution_count": 10,
     "metadata": {},
     "output_type": "execute_result"
    }
   ],
   "source": [
    "# Ingesting the JSON file, using some columns and\n",
    "# renaming some columns\n",
    "read_json(\"titanic.json\", \n",
    "          table_name = \"titanic_dataset\",\n",
    "          schema = \"public\",\n",
    "          usecols = [\"fields.fare\", \"fields.sex\"],\n",
    "          new_name = {\"fields.fare\": \"fare\",\n",
    "                      \"fields.sex\": \"sex\"})"
   ]
  },
  {
   "cell_type": "markdown",
   "metadata": {},
   "source": [
    "### See Also\n",
    "\n",
    "<table id=\"seealso\">\n",
    "    <tr><td><a href=\"../read_csv\">read_csv</a></td> <td>Ingests a CSV file in the Vertica DB.</td></tr>\n",
    "</table>"
   ]
  }
 ],
 "metadata": {
  "kernelspec": {
   "display_name": "Python 3",
   "language": "python",
   "name": "python3"
  },
  "language_info": {
   "codemirror_mode": {
    "name": "ipython",
    "version": 3
   },
   "file_extension": ".py",
   "mimetype": "text/x-python",
   "name": "python",
   "nbconvert_exporter": "python",
   "pygments_lexer": "ipython3",
   "version": "3.6.3"
  }
 },
 "nbformat": 4,
 "nbformat_minor": 2
}
