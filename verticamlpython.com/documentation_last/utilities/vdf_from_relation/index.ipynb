{
 "cells": [
  {
   "cell_type": "markdown",
   "metadata": {},
   "source": [
    "# vdf_from_relation"
   ]
  },
  {
   "cell_type": "code",
   "execution_count": null,
   "metadata": {},
   "outputs": [],
   "source": [
    "vdf_from_relation(relation: str, \n",
    "                  name: str = \"VDF\", \n",
    "                  cursor = None, \n",
    "                  dsn: str = \"\", \n",
    "                  schema: str = \"public\",\n",
    "                  schema_writing: str = \"\",\n",
    "                  history: list = [],\n",
    "                  saving: list = [],\n",
    "                  query_on: bool = False,\n",
    "                  time_on: bool = False)"
   ]
  },
  {
   "cell_type": "markdown",
   "metadata": {},
   "source": [
    "Creates a vDataFrame based on a customized relation.\n",
    "\n",
    "### Parameters\n",
    "\n",
    "<table id=\"parameters\">\n",
    "    <tr> <th>Name</th> <th>Type</th> <th>Optional</th> <th>Description</th> </tr>\n",
    "    <tr> <td><div class=\"param_name\">relation</div></td> <td><div class=\"type\">str</div></td> <td><div class = \"no\">&#10060;</div></td> <td>Relation. It can be a customized relation but you need to englobe it using an alias. For example \"(SELECT 1) x\" is correct whereas \"(SELECT 1)\" or \"SELECT 1\" are incorrect.</td> </tr>\n",
    "    <tr> <td><div class=\"param_name\">name</div></td> <td><div class=\"type\">str</div></td> <td><div class = \"yes\">&#10003;</div></td> <td>Name of the vDataFrame. It is used only when displaying the vDataFrame.</td> </tr>\n",
    "    <tr> <td><div class=\"param_name\">cursor</div></td> <td><div class=\"type\">DBcursor</div></td> <td><div class = \"yes\">&#10003;</div></td> <td>Vertica DB cursor.</td> </tr>\n",
    "    <tr> <td><div class=\"param_name\">dsn</div></td> <td><div class=\"type\">str</div></td> <td><div class = \"yes\">&#10003;</div></td> <td>Data Base DSN. OS File including the DB credentials. Vertica ML Python will try to create a vertica_python cursor first. If it didn't find the library, it will try to create a pyodbc cursor. Check out utilities.vHelp, it may help you.</td> </tr>\n",
    "    <tr> <td><div class=\"param_name\">schema</div></td> <td><div class=\"type\">str</div></td> <td><div class = \"yes\">&#10003;</div></td> <td>Relation schema. It can be used to be less ambiguous and allow to create schema and relation name with dots '.' inside.</td> </tr>\n",
    "    <tr> <td><div class=\"param_name\">schema_writing</div></td> <td><div class=\"type\">str</div></td> <td><div class = \"yes\">&#10003;</div></td> <td>Schema used to create the temporary table. If empty, the function will create a local temporary table.</td> </tr>\n",
    "    <tr> <td><div class=\"param_name\">history</div></td> <td><div class=\"type\">list</div></td> <td><div class = \"yes\">&#10003;</div></td> <td>vDataFrame history (user modifications). Used to keep the previous vDataFrame history.</td> </tr>\n",
    "    <tr> <td><div class=\"param_name\">saving</div></td> <td><div class=\"type\">list</div></td> <td><div class = \"yes\">&#10003;</div></td> <td>List used to reconstruct the vDataFrame from previous transformations.</td> </tr>\n",
    "    <tr> <td><div class=\"param_name\">query_on</div></td> <td><div class=\"type\">bool</div></td> <td><div class = \"yes\">&#10003;</div></td> <td>If set to True, all the query will be printed.</td> </tr>\n",
    "    <tr> <td><div class=\"param_name\">time_on</div></td> <td><div class=\"type\">bool</div></td> <td><div class = \"yes\">&#10003;</div></td> <td>If set to True, all the query elapsed time will be printed.</td> </tr>\n",
    "</table>\n",
    "\n",
    "### Returns\n",
    "\n",
    "<b>vDataFrame</b> : The vDataFrame associated to the input relation."
   ]
  },
  {
   "cell_type": "markdown",
   "metadata": {},
   "source": [
    "### Example"
   ]
  },
  {
   "cell_type": "code",
   "execution_count": 5,
   "metadata": {},
   "outputs": [
    {
     "data": {
      "text/html": [
       "<table style=\"border-collapse: collapse; border: 2px solid white\"><tr style=\"{border: 1px solid white;}\"><td style=\"border-bottom: 1px solid #DDD;font-size:1.02em;background-color:#263133;color:white\"><b></b></td><td style=\"font-size:1.02em;background-color:#263133;color:white\"><b>pclass</b></td><td style=\"font-size:1.02em;background-color:#263133;color:white\"><b>embarked</b></td><td style=\"font-size:1.02em;background-color:#263133;color:white\"><b>AVG</b></td></tr><tr style=\"{border: 1px solid white;}\"><td style=\"border-bottom: 1px solid #DDD;font-size:1.02em;background-color:#263133;color:white\"><b>0</b></td><td style=\"border: 1px solid white;\">3</td><td style=\"border: 1px solid white;\">C</td><td style=\"border: 1px solid white;\">0.318681318681319</td></tr><tr style=\"{border: 1px solid white;}\"><td style=\"border-bottom: 1px solid #DDD;font-size:1.02em;background-color:#263133;color:white\"><b>1</b></td><td style=\"border: 1px solid white;\">3</td><td style=\"border: 1px solid white;\">Q</td><td style=\"border: 1px solid white;\">0.260416666666667</td></tr><tr style=\"{border: 1px solid white;}\"><td style=\"border-bottom: 1px solid #DDD;font-size:1.02em;background-color:#263133;color:white\"><b>2</b></td><td style=\"border: 1px solid white;\">3</td><td style=\"border: 1px solid white;\">S</td><td style=\"border: 1px solid white;\">0.203781512605042</td></tr><tr style=\"{border: 1px solid white;}\"><td style=\"border-bottom: 1px solid #DDD;font-size:1.02em;background-color:#263133;color:white\"><b>3</b></td><td style=\"border: 1px solid white;\">1</td><td style=\"border: 1px solid white;\">C</td><td style=\"border: 1px solid white;\">0.681481481481481</td></tr><tr style=\"{border: 1px solid white;}\"><td style=\"border-bottom: 1px solid #DDD;font-size:1.02em;background-color:#263133;color:white\"><b>4</b></td><td style=\"border: 1px solid white;\">1</td><td style=\"border: 1px solid white;\">Q</td><td style=\"border: 1px solid white;\">0.666666666666667</td></tr><tr><td style=\"border-top: 1px solid white;background-color:#263133;color:white\"></td><td style=\"border: 1px solid white;\">...</td><td style=\"border: 1px solid white;\">...</td><td style=\"border: 1px solid white;\">...</td></tr></table>"
      ],
      "text/plain": [
       "<IPython.core.display.HTML object>"
      ]
     },
     "metadata": {},
     "output_type": "display_data"
    },
    {
     "data": {
      "text/plain": [
       "<object>  Name: vdf, Number of rows: 10, Number of columns: 3"
      ]
     },
     "execution_count": 5,
     "metadata": {},
     "output_type": "execute_result"
    }
   ],
   "source": [
    "from vertica_ml_python.utilities import *\n",
    "vdf_from_relation(\"(SELECT pclass, embarked, AVG(survived) FROM public.titanic GROUP BY 1, 2) x\")"
   ]
  }
 ],
 "metadata": {
  "kernelspec": {
   "display_name": "Python 3",
   "language": "python",
   "name": "python3"
  },
  "language_info": {
   "codemirror_mode": {
    "name": "ipython",
    "version": 3
   },
   "file_extension": ".py",
   "mimetype": "text/x-python",
   "name": "python",
   "nbconvert_exporter": "python",
   "pygments_lexer": "ipython3",
   "version": "3.6.3"
  }
 },
 "nbformat": 4,
 "nbformat_minor": 2
}
