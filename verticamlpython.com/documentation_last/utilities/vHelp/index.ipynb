{
 "cells": [
  {
   "cell_type": "markdown",
   "metadata": {},
   "source": [
    "# vHelp"
   ]
  },
  {
   "cell_type": "code",
   "execution_count": null,
   "metadata": {},
   "outputs": [],
   "source": [
    "vHelp()"
   ]
  },
  {
   "cell_type": "markdown",
   "metadata": {},
   "source": [
    "Vertica ML Python Interactive Help (FAQ)."
   ]
  },
  {
   "cell_type": "markdown",
   "metadata": {},
   "source": [
    "### Example"
   ]
  },
  {
   "cell_type": "code",
   "execution_count": 1,
   "metadata": {},
   "outputs": [
    {
     "data": {
      "text/markdown": [
       "<center><img src='../../img/VerticaMLPython.png' width=\"180px\"></center>\n",
       "\n",
       "&#128226; Welcome to the <b>VerticaPy</b> help module. You're about to experience a new, powerful way to analyze your data!\n",
       "\n",
       "You can learn quickly how to set up a connection, how to create a Virtual DataFrame and much more.\n",
       "\n",
       "What do you want to know?\n",
       " - <b>[Enter  0]</b> Why should I use this library?\n",
       " - <b>[Enter  1]</b> How do I connect to my Vertica database and create a Virtual DataFrame?\n",
       " - <b>[Enter  2]</b> Is my version of Vertica compatible with the API?\n",
       " - <b>[Enter  3]</b> How do I load an existing dataset?\n",
       " - <b>[Enter  4]</b> Which modules should I use?\n",
       " - <b>[Enter  5]</b> Usage example?\n",
       " - <b>[Enter  6]</b> What functions are available?\n",
       " - <b>[Enter  7]</b> Where is the documentation?\n",
       " - <b>[Enter  8]</b> How do I view the generated SQL code and the time it took to run my query?\n",
       " - <b>[Enter  9]</b> How do I load my own dataset into Vertica?\n",
       " - <b>[Enter 10]</b> How do I write SQL queries in Jupyter?\n",
       " - <b>[Enter 11]</b> How do I read and write using specific schemas?\n",
       " - <b>[Enter -1]</b> Exit"
      ],
      "text/plain": [
       "<IPython.core.display.Markdown object>"
      ]
     },
     "metadata": {},
     "output_type": "display_data"
    },
    {
     "name": "stdout",
     "output_type": "stream",
     "text": [
      "2\n"
     ]
    },
    {
     "data": {
      "text/markdown": [
       "## Vertica Version\n",
       " - Vertica version >= 9.1 : all features available\n",
       " - 9.1 < Vertica version >= 8.0 : some algorithms may not work\n",
       " - 8.0 < Vertica version >= 7.0 : only some algorithms will be available.\n",
       " - For all other Vertica versions, the Virtual DataFrame may work but no ML algorithms will be available."
      ],
      "text/plain": [
       "<IPython.core.display.Markdown object>"
      ]
     },
     "metadata": {},
     "output_type": "display_data"
    }
   ],
   "source": [
    "from vertica_ml_python.utilities import *\n",
    "vHelp()"
   ]
  }
 ],
 "metadata": {
  "kernelspec": {
   "display_name": "Python 3",
   "language": "python",
   "name": "python3"
  },
  "language_info": {
   "codemirror_mode": {
    "name": "ipython",
    "version": 3
   },
   "file_extension": ".py",
   "mimetype": "text/x-python",
   "name": "python",
   "nbconvert_exporter": "python",
   "pygments_lexer": "ipython3",
   "version": "3.6.3"
  }
 },
 "nbformat": 4,
 "nbformat_minor": 2
}
