{
 "cells": [
  {
   "cell_type": "markdown",
   "metadata": {},
   "source": [
    "# vHelp"
   ]
  },
  {
   "cell_type": "code",
   "execution_count": null,
   "metadata": {},
   "outputs": [],
   "source": [
    "vHelp()"
   ]
  },
  {
   "cell_type": "markdown",
   "metadata": {},
   "source": [
    "Vertica ML Python Interactive Help (FAQ)."
   ]
  },
  {
   "cell_type": "markdown",
   "metadata": {},
   "source": [
    "### Example"
   ]
  },
  {
   "cell_type": "code",
   "execution_count": 1,
   "metadata": {},
   "outputs": [
    {
     "data": {
      "text/markdown": [
       "<center><img src='../../img/VerticaMLPython.png' width=\"180px\"></center>\n",
       "\n",
       "&#128226; Welcome to the <b>VERTICA ML PYTHON</b> help Module. You are about to use a new fantastic way to analyze your data !\n",
       "\n",
       "You can learn quickly how to set up a connection, how to create a Virtual DataFrame and much more.\n",
       "\n",
       "What do you want to know?\n",
       " - <b>[Enter  0]</b> Do you want to know why you should use this library ?\n",
       " - <b>[Enter  1]</b> Do you want to know how to connect to your Vertica Database using Python and to Create a Virtual DataFrame ?\n",
       " - <b>[Enter  2]</b> Do you want to know if your Vertica Version is compatible with the API ?\n",
       " - <b>[Enter  3]</b> You don't have data to play with and you want to load an available dataset ?\n",
       " - <b>[Enter  4]</b> Do you want to know other modules which can make your Data Science experience more complete ?\n",
       " - <b>[Enter  5]</b> Do you want to look at a quick example ?\n",
       " - <b>[Enter  6]</b> Do you want to look at the different functions available ?\n",
       " - <b>[Enter  7]</b> Do you want to get a link to the VERTICA ML PYTHON wiki ?\n",
       " - <b>[Enter  8]</b> Do you want to know how to display the Virtual DataFrame SQL code generation and the time elapsed to run the query ?\n",
       " - <b>[Enter  9]</b> Do you want to know how to load your own dataset inside Vertica ?\n",
       " - <b>[Enter 10]</b> Do you want to know how you writing direct SQL queries in Jupyter ?\n",
       " - <b>[Enter 11]</b> Do you want to know how you could read and write using specific schemas ?\n",
       " - <b>[Enter -1]</b> Exit"
      ],
      "text/plain": [
       "<IPython.core.display.Markdown object>"
      ]
     },
     "metadata": {},
     "output_type": "display_data"
    },
    {
     "name": "stdout",
     "output_type": "stream",
     "text": [
      "2\n"
     ]
    },
    {
     "data": {
      "text/markdown": [
       "## Vertica Version\n",
       " - If your Vertica version is greater or equal to 9.1, everything is well adapted.\n",
       " - If your Vertica version is greater or equal to 8.0, some algorithms may not work.\n",
       " - If your Vertica version is greater or equal to 7.0, only some algorithms will be available.\n",
       " - For other Vertica version, the Virtual DataFrame may work but no ML algorithms will be available."
      ],
      "text/plain": [
       "<IPython.core.display.Markdown object>"
      ]
     },
     "metadata": {},
     "output_type": "display_data"
    }
   ],
   "source": [
    "from vertica_ml_python.utilities import *\n",
    "vHelp()"
   ]
  }
 ],
 "metadata": {
  "kernelspec": {
   "display_name": "Python 3",
   "language": "python",
   "name": "python3"
  },
  "language_info": {
   "codemirror_mode": {
    "name": "ipython",
    "version": 3
   },
   "file_extension": ".py",
   "mimetype": "text/x-python",
   "name": "python",
   "nbconvert_exporter": "python",
   "pygments_lexer": "ipython3",
   "version": "3.6.3"
  }
 },
 "nbformat": 4,
 "nbformat_minor": 2
}
