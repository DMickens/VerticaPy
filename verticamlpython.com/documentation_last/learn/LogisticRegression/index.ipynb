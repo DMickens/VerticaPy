{
 "cells": [
  {
   "cell_type": "markdown",
   "metadata": {},
   "source": [
    "# LogisticRegression"
   ]
  },
  {
   "cell_type": "code",
   "execution_count": null,
   "metadata": {},
   "outputs": [],
   "source": [
    "LogisticRegression(name: str,\n",
    "                   cursor = None,\n",
    "                   penalty: str = 'ENet',\n",
    "                   tol: float = 1e-4,\n",
    "                   C: float = 1.0,\n",
    "                   max_iter: int = 100, \n",
    "                   solver: str = 'CGD',\n",
    "                   l1_ratio: float = 0.5)"
   ]
  },
  {
   "cell_type": "markdown",
   "metadata": {},
   "source": [
    "Creates a LogisticRegression object by using the Vertica Highly Distributed and Scalable Logistic Regression on the data.\n",
    "\n",
    "### Parameters\n",
    "\n",
    "<table id=\"parameters\">\n",
    "    <tr> <th>Name</th> <th>Type</th> <th>Optional</th> <th>Description</th> </tr>\n",
    "    <tr> <td><div class=\"param_name\">name</div></td> <td><div class=\"type\">str</div></td> <td><div class = \"no\">&#10060;</div></td> <td>Name of the the model. The model will be stored in the DB.</td> </tr>\n",
    "    <tr> <td><div class=\"param_name\">cursor</div></td> <td><div class=\"type\">DBcursor</div></td> <td><div class = \"yes\">&#10003;</div></td> <td>Vertica DB cursor.</td> </tr>\n",
    "    <tr> <td><div class=\"param_name\">penalty</div></td> <td><div class=\"type\">str</div></td> <td><div class = \"yes\">&#10003;</div></td> <td>Determines the method of regularization.<br>\n",
    "                                                    <ul>\n",
    "                                                        <li><b>None :</b> No Regularization</li>\n",
    "                                                        <li><b>L1 :</b> L1 Regularization</li>\n",
    "                                                        <li><b>L2 :</b> L2 Regularization</li>\n",
    "                                                        <li><b>ENet :</b> Combination between L1 and L2</li></ul></td> </tr>   \n",
    "    <tr> <td><div class=\"param_name\">tol</div></td> <td><div class=\"type\">float</div></td> <td><div class = \"yes\">&#10003;</div></td> <td>Determines whether the algorithm has reached the specified accuracy result.</td> </tr>\n",
    "    <tr> <td><div class=\"param_name\">C</div></td> <td><div class=\"type\">float</div></td> <td><div class = \"yes\">&#10003;</div></td> <td>The regularization parameter value. The value must be zero or non-negative.</td> </tr>\n",
    "    <tr> <td><div class=\"param_name\">max_iter</div></td> <td><div class=\"type\">int</div></td> <td><div class = \"yes\">&#10003;</div></td> <td>Determines the maximum number of iterations the algorithm performs before achieving the specified accuracy result.</td> </tr>\n",
    "    <tr> <td><div class=\"param_name\">solver</div></td> <td><div class=\"type\">str</div></td> <td><div class = \"yes\">&#10003;</div></td> <td>The optimizer method used to train the model.<br>\n",
    "                                                    <ul>\n",
    "                                                        <li><b>Newton :</b> Newton Method</li>\n",
    "                                                        <li><b>BFGS :</b> Broyden Fletcher Goldfarb Shanno</li>\n",
    "                                                        <li><b>CGD :</b> Coordinate Gradient Descent</li></ul></td> </tr>\n",
    "    <tr> <td><div class=\"param_name\">l1_ratio</div></td> <td><div class=\"type\">float</div></td> <td><div class = \"yes\">&#10003;</div></td> <td>ENet mixture parameter that defines how much L1 versus L2 regularization to provide. </td> </tr>\n",
    "</table>\n",
    "\n",
    "### Attributes\n",
    "\n",
    "After the object creation, all the parameters become attributes. The model will also create extra attributes when fitting the model:\n",
    "\n",
    "<table id=\"parameters\">\n",
    "    <tr> <th>Name</th> <th>Type</th>  <th>Description</th> </tr>\n",
    "     <tr> <td><div class=\"param_name\">coef</div></td> <td><div class=\"type\">tablesample</div></td> <td>Coefficients and their mathematical information (pvalue, std, value...)</td> </tr>\n",
    "    <tr> <td><div class=\"param_name\">input_relation</div></td> <td><div class=\"type\">str</div></td> <td>Train relation.</td> </tr>\n",
    "    <tr> <td><div class=\"param_name\">X</div></td> <td><div class=\"type\">list</div></td> <td>List of the predictors.</td> </tr>\n",
    "    <tr> <td><div class=\"param_name\">y</div></td> <td><div class=\"type\">str</div></td> <td>Response column.</td> </tr>\n",
    "    <tr> <td><div class=\"param_name\">test_relation</div></td> <td><div class=\"type\">float</div></td> <td>Relation used to test the model. All the model methods are abstractions which will simplify the process. The test relation will be used by many methods to evaluate the model. If empty, the train relation will be used as test. You can change it anytime by changing the test_relation attribute of the object.</td> </tr>\n",
    "</table>\n",
    "\n",
    "### Methods\n",
    "\n",
    "<table id=\"parameters\">\n",
    "    <tr> <th>Name</th> <th>Description</th> </tr>\n",
    "    <tr> <td><a href=\"../Classification/classification_report\">classification_report</a></td> <td>Computes a classification report using multiple metrics to evaluate the model (AUC, accuracy, PRC AUC, F1...). In case of multiclass classification, it will consider each category as positive and switch to the next one during the computation.</td> </tr>\n",
    "    <tr> <td><a href=\"../Classification/confusion_matrix\">confusion_matrix</a></td> <td>Computes the model confusion matrix.</td> </tr>\n",
    "    <tr> <td><a href=\"../Classification/deploySQL\">deploySQL</a></td> <td>Returns the SQL code needed to deploy the model.</td> </tr>\n",
    "    <tr> <td><a href=\"../Classification/drop\">drop</a></td> <td>Drops the model from the Vertica DB.</td> </tr>\n",
    "    <tr> <td><a href=\"../Classification/features_importance\">features_importance</a></td> <td>Computes the model features importance by normalizing the Logistic Regression coefficients.</td> </tr>\n",
    "    <tr> <td><a href=\"../Classification/fit\">fit</a></td> <td>Trains the model.</td> </tr>\n",
    "    <tr> <td><a href=\"../Classification/lift_chart\">lift_chart</a></td> <td>Draws the model Lift Chart.</td> </tr>\n",
    "    <tr> <td><a href=\"../Classification/plot\">plot</a></td> <td>Draws the Logistic Regression if the number of predictors is equal to 1 or 2.</td> </tr>\n",
    "    <tr> <td><a href=\"../Classification/prc_curve\">prc_curve</a></td> <td>Draws the model precision-recall curve.</td> </tr>\n",
    "    <tr> <td><a href=\"../Classification/predict\">predict</a></td> <td>Predicts using the input relation.</td> </tr>\n",
    "    <tr> <td><a href=\"../Classification/roc_curve\">roc_curve</a></td> <td>Draws the model ROC curve.</td> </tr>\n",
    "    <tr> <td><a href=\"../Classification/score\">score</a></td> <td>Computes the model score.</td> </tr>\n",
    "    \n",
    "</table>"
   ]
  },
  {
   "cell_type": "markdown",
   "metadata": {},
   "source": [
    "### Example"
   ]
  },
  {
   "cell_type": "code",
   "execution_count": 55,
   "metadata": {},
   "outputs": [
    {
     "name": "stdout",
     "output_type": "stream",
     "text": [
      "<LogisticRegression>\n"
     ]
    }
   ],
   "source": [
    "from vertica_ml_python.learn.linear_model import LogisticRegression\n",
    "model = LogisticRegression(name = \"public.LR_titanic\",\n",
    "                           tol = 1e-4, \n",
    "                           C = 1.0, \n",
    "                           max_iter = 100, \n",
    "                           solver = 'CGD',\n",
    "                           l1_ratio = 0.5)\n",
    "print(model)"
   ]
  }
 ],
 "metadata": {
  "kernelspec": {
   "display_name": "Python 3",
   "language": "python",
   "name": "python3"
  },
  "language_info": {
   "codemirror_mode": {
    "name": "ipython",
    "version": 3
   },
   "file_extension": ".py",
   "mimetype": "text/x-python",
   "name": "python",
   "nbconvert_exporter": "python",
   "pygments_lexer": "ipython3",
   "version": "3.6.3"
  }
 },
 "nbformat": 4,
 "nbformat_minor": 2
}
