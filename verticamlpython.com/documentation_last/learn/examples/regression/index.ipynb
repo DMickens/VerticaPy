{
 "cells": [
  {
   "cell_type": "markdown",
   "metadata": {},
   "source": [
    "# Regression"
   ]
  },
  {
   "cell_type": "markdown",
   "metadata": {},
   "source": [
    "This example demonstrates various Regressor methods. We will use the Winequality dataset."
   ]
  },
  {
   "cell_type": "code",
   "execution_count": 55,
   "metadata": {},
   "outputs": [
    {
     "data": {
      "text/html": [
       "<table style=\"border-collapse: collapse; border: 2px solid white\"><tr style=\"{border: 1px solid white;}\"><td style=\"border-bottom: 1px solid #DDD;font-size:1.02em;background-color:#214579;color:white\"><b></b></td><td style=\"font-size:1.02em;background-color:#214579;color:white\"><b>volatile_acidity</b></td><td style=\"font-size:1.02em;background-color:#214579;color:white\"><b>citric_acid</b></td><td style=\"font-size:1.02em;background-color:#214579;color:white\"><b>fixed_acidity</b></td><td style=\"font-size:1.02em;background-color:#214579;color:white\"><b>free_sulfur_dioxide</b></td><td style=\"font-size:1.02em;background-color:#214579;color:white\"><b>density</b></td><td style=\"font-size:1.02em;background-color:#214579;color:white\"><b>good</b></td><td style=\"font-size:1.02em;background-color:#214579;color:white\"><b>quality</b></td><td style=\"font-size:1.02em;background-color:#214579;color:white\"><b>chlorides</b></td><td style=\"font-size:1.02em;background-color:#214579;color:white\"><b>alcohol</b></td><td style=\"font-size:1.02em;background-color:#214579;color:white\"><b>color</b></td><td style=\"font-size:1.02em;background-color:#214579;color:white\"><b>pH</b></td><td style=\"font-size:1.02em;background-color:#214579;color:white\"><b>total_sulfur_dioxide</b></td><td style=\"font-size:1.02em;background-color:#214579;color:white\"><b>sulphates</b></td><td style=\"font-size:1.02em;background-color:#214579;color:white\"><b>residual_sugar</b></td></tr><tr style=\"{border: 1px solid white;}\"><td style=\"border-bottom: 1px solid #DDD;font-size:1.02em;background-color:#214579;color:white\"><b>0</b></td><td style=\"border: 1px solid white;\">0.3100</td><td style=\"border: 1px solid white;\">0.020</td><td style=\"border: 1px solid white;\">3.800</td><td style=\"border: 1px solid white;\">20.00</td><td style=\"border: 1px solid white;\">0.99248</td><td style=\"border: 1px solid white;\">0</td><td style=\"border: 1px solid white;\">6</td><td style=\"border: 1px solid white;\">0.036</td><td style=\"border: 1px solid white;\">12.4</td><td style=\"border: 1px solid white;\">white</td><td style=\"border: 1px solid white;\">3.750</td><td style=\"border: 1px solid white;\">114.00</td><td style=\"border: 1px solid white;\">0.440</td><td style=\"border: 1px solid white;\">11.100</td></tr><tr style=\"{border: 1px solid white;}\"><td style=\"border-bottom: 1px solid #DDD;font-size:1.02em;background-color:#214579;color:white\"><b>1</b></td><td style=\"border: 1px solid white;\">0.2250</td><td style=\"border: 1px solid white;\">0.400</td><td style=\"border: 1px solid white;\">3.900</td><td style=\"border: 1px solid white;\">29.00</td><td style=\"border: 1px solid white;\">0.989</td><td style=\"border: 1px solid white;\">1</td><td style=\"border: 1px solid white;\">8</td><td style=\"border: 1px solid white;\">0.03</td><td style=\"border: 1px solid white;\">12.8</td><td style=\"border: 1px solid white;\">white</td><td style=\"border: 1px solid white;\">3.570</td><td style=\"border: 1px solid white;\">118.00</td><td style=\"border: 1px solid white;\">0.360</td><td style=\"border: 1px solid white;\">4.200</td></tr><tr style=\"{border: 1px solid white;}\"><td style=\"border-bottom: 1px solid #DDD;font-size:1.02em;background-color:#214579;color:white\"><b>2</b></td><td style=\"border: 1px solid white;\">0.1700</td><td style=\"border: 1px solid white;\">0.360</td><td style=\"border: 1px solid white;\">4.200</td><td style=\"border: 1px solid white;\">93.00</td><td style=\"border: 1px solid white;\">0.98999</td><td style=\"border: 1px solid white;\">1</td><td style=\"border: 1px solid white;\">7</td><td style=\"border: 1px solid white;\">0.029</td><td style=\"border: 1px solid white;\">12.0</td><td style=\"border: 1px solid white;\">white</td><td style=\"border: 1px solid white;\">3.650</td><td style=\"border: 1px solid white;\">161.00</td><td style=\"border: 1px solid white;\">0.890</td><td style=\"border: 1px solid white;\">1.800</td></tr><tr style=\"{border: 1px solid white;}\"><td style=\"border-bottom: 1px solid #DDD;font-size:1.02em;background-color:#214579;color:white\"><b>3</b></td><td style=\"border: 1px solid white;\">0.2150</td><td style=\"border: 1px solid white;\">0.230</td><td style=\"border: 1px solid white;\">4.200</td><td style=\"border: 1px solid white;\">64.00</td><td style=\"border: 1px solid white;\">0.99688</td><td style=\"border: 1px solid white;\">0</td><td style=\"border: 1px solid white;\">3</td><td style=\"border: 1px solid white;\">0.041</td><td style=\"border: 1px solid white;\">8.0</td><td style=\"border: 1px solid white;\">white</td><td style=\"border: 1px solid white;\">3.420</td><td style=\"border: 1px solid white;\">157.00</td><td style=\"border: 1px solid white;\">0.440</td><td style=\"border: 1px solid white;\">5.100</td></tr><tr style=\"{border: 1px solid white;}\"><td style=\"border-bottom: 1px solid #DDD;font-size:1.02em;background-color:#214579;color:white\"><b>4</b></td><td style=\"border: 1px solid white;\">0.3200</td><td style=\"border: 1px solid white;\">0.390</td><td style=\"border: 1px solid white;\">4.400</td><td style=\"border: 1px solid white;\">31.00</td><td style=\"border: 1px solid white;\">0.98904</td><td style=\"border: 1px solid white;\">1</td><td style=\"border: 1px solid white;\">8</td><td style=\"border: 1px solid white;\">0.03</td><td style=\"border: 1px solid white;\">12.8</td><td style=\"border: 1px solid white;\">white</td><td style=\"border: 1px solid white;\">3.460</td><td style=\"border: 1px solid white;\">127.00</td><td style=\"border: 1px solid white;\">0.360</td><td style=\"border: 1px solid white;\">4.300</td></tr><tr><td style=\"border-top: 1px solid white;background-color:#214579;color:white\"></td><td style=\"border: 1px solid white;\">...</td><td style=\"border: 1px solid white;\">...</td><td style=\"border: 1px solid white;\">...</td><td style=\"border: 1px solid white;\">...</td><td style=\"border: 1px solid white;\">...</td><td style=\"border: 1px solid white;\">...</td><td style=\"border: 1px solid white;\">...</td><td style=\"border: 1px solid white;\">...</td><td style=\"border: 1px solid white;\">...</td><td style=\"border: 1px solid white;\">...</td><td style=\"border: 1px solid white;\">...</td><td style=\"border: 1px solid white;\">...</td><td style=\"border: 1px solid white;\">...</td><td style=\"border: 1px solid white;\">...</td></tr></table>"
      ],
      "text/plain": [
       "<IPython.core.display.HTML object>"
      ]
     },
     "metadata": {},
     "output_type": "display_data"
    },
    {
     "name": "stdout",
     "output_type": "stream",
     "text": [
      "<object>  Name: winequality, Number of rows: 6497, Number of columns: 14\n"
     ]
    }
   ],
   "source": [
    "from vertica_ml_python.learn.datasets import load_winequality\n",
    "winequality = load_winequality()\n",
    "print(winequality)"
   ]
  },
  {
   "cell_type": "markdown",
   "metadata": {},
   "source": [
    "Let's create a Linear Regression to predict the Wine Quality."
   ]
  },
  {
   "cell_type": "code",
   "execution_count": 65,
   "metadata": {},
   "outputs": [
    {
     "data": {
      "text/plain": [
       "\n",
       "\n",
       "=======\n",
       "details\n",
       "=======\n",
       "predictor|coefficient|std_err |t_value |p_value \n",
       "---------+-----------+--------+--------+--------\n",
       "Intercept|  2.40527  | 0.08594|27.98758| 0.00000\n",
       " alcohol |  0.32531  | 0.00814|39.97052| 0.00000\n",
       "\n",
       "\n",
       "==============\n",
       "regularization\n",
       "==============\n",
       "type| lambda \n",
       "----+--------\n",
       "none| 1.00000\n",
       "\n",
       "\n",
       "===========\n",
       "call_string\n",
       "===========\n",
       "linear_reg('public.LR_winequality', 'public.winequality', '\"quality\"', '\"alcohol\"'\n",
       "USING PARAMETERS optimizer='newton', epsilon=0.0001, max_iterations=100, regularization='none', lambda=1, alpha=0.5)\n",
       "\n",
       "===============\n",
       "Additional Info\n",
       "===============\n",
       "       Name       |Value\n",
       "------------------+-----\n",
       " iteration_count  |  1  \n",
       "rejected_row_count|  0  \n",
       "accepted_row_count|6497 "
      ]
     },
     "execution_count": 65,
     "metadata": {},
     "output_type": "execute_result"
    }
   ],
   "source": [
    "from vertica_ml_python.learn.linear_model import LinearRegression\n",
    "model = LinearRegression(\"public.LR_winequality\")\n",
    "model.fit(\"public.winequality\", [\"alcohol\"], \"quality\")"
   ]
  },
  {
   "cell_type": "markdown",
   "metadata": {},
   "source": [
    "Fitting the model creates new model attributes, which make methods easier to use."
   ]
  },
  {
   "cell_type": "code",
   "execution_count": 66,
   "metadata": {},
   "outputs": [
    {
     "data": {
      "text/plain": [
       "['\"alcohol\"']"
      ]
     },
     "execution_count": 66,
     "metadata": {},
     "output_type": "execute_result"
    }
   ],
   "source": [
    "model.X"
   ]
  },
  {
   "cell_type": "code",
   "execution_count": 59,
   "metadata": {},
   "outputs": [
    {
     "data": {
      "text/plain": [
       "'\"quality\"'"
      ]
     },
     "execution_count": 59,
     "metadata": {},
     "output_type": "execute_result"
    }
   ],
   "source": [
    "model.y"
   ]
  },
  {
   "cell_type": "code",
   "execution_count": 60,
   "metadata": {},
   "outputs": [
    {
     "data": {
      "text/plain": [
       "'public.winequality'"
      ]
     },
     "execution_count": 60,
     "metadata": {},
     "output_type": "execute_result"
    }
   ],
   "source": [
    "model.input_relation"
   ]
  },
  {
   "cell_type": "code",
   "execution_count": 61,
   "metadata": {},
   "outputs": [
    {
     "data": {
      "text/plain": [
       "'public.winequality'"
      ]
     },
     "execution_count": 61,
     "metadata": {},
     "output_type": "execute_result"
    }
   ],
   "source": [
    "model.test_relation"
   ]
  },
  {
   "cell_type": "markdown",
   "metadata": {},
   "source": [
    "In our case, we did not write the test relation when fitting the model. The model will then consider the training relation as test. These attributes will be used when invoking the different model abstractions. For example, let's compute the R2 of the model."
   ]
  },
  {
   "cell_type": "code",
   "execution_count": 67,
   "metadata": {},
   "outputs": [
    {
     "data": {
      "text/plain": [
       "0.197418947221801"
      ]
     },
     "execution_count": 67,
     "metadata": {},
     "output_type": "execute_result"
    }
   ],
   "source": [
    "model.score(method = \"r2\")"
   ]
  },
  {
   "cell_type": "markdown",
   "metadata": {},
   "source": [
    "The 'score' method is using the attribute 'y' and the model prediction in the 'test_relation' to compute the accuracy. You can change these at anytime to deploy the models on different columns. The model could also have other useful attributes. In this case, the 'coef' attribute provides us with useful information."
   ]
  },
  {
   "cell_type": "code",
   "execution_count": 68,
   "metadata": {},
   "outputs": [
    {
     "data": {
      "text/html": [
       "<table style=\"border-collapse: collapse; border: 2px solid white\"><tr style=\"{border: 1px solid white;}\"><td style=\"border-bottom: 1px solid #DDD;font-size:1.02em;background-color:#214579;color:white\"><b></b></td><td style=\"font-size:1.02em;background-color:#214579;color:white\"><b>predictor</b></td><td style=\"font-size:1.02em;background-color:#214579;color:white\"><b>coefficient</b></td><td style=\"font-size:1.02em;background-color:#214579;color:white\"><b>std_err</b></td><td style=\"font-size:1.02em;background-color:#214579;color:white\"><b>t_value</b></td><td style=\"font-size:1.02em;background-color:#214579;color:white\"><b>p_value</b></td></tr><tr style=\"{border: 1px solid white;}\"><td style=\"border-bottom: 1px solid #DDD;font-size:1.02em;background-color:#214579;color:white\"><b>0</b></td><td style=\"border: 1px solid white;\">Intercept</td><td style=\"border: 1px solid white;\">2.40526860155643</td><td style=\"border: 1px solid white;\">0.0859405708614019</td><td style=\"border: 1px solid white;\">27.9875799921722</td><td style=\"border: 1px solid white;\">7.70494206960017e-163</td></tr><tr style=\"{border: 1px solid white;}\"><td style=\"border-bottom: 1px solid #DDD;font-size:1.02em;background-color:#214579;color:white\"><b>1</b></td><td style=\"border: 1px solid white;\">alcohol</td><td style=\"border: 1px solid white;\">0.325312038053532</td><td style=\"border: 1px solid white;\">0.00813879966075786</td><td style=\"border: 1px solid white;\">39.97051796496</td><td style=\"border: 1px solid white;\">1.496509342493e-312</td></tr></table>"
      ],
      "text/plain": [
       "<IPython.core.display.HTML object>"
      ]
     },
     "metadata": {},
     "output_type": "display_data"
    },
    {
     "data": {
      "text/plain": [
       "<object>"
      ]
     },
     "execution_count": 68,
     "metadata": {},
     "output_type": "execute_result"
    }
   ],
   "source": [
    "model.coef"
   ]
  },
  {
   "cell_type": "markdown",
   "metadata": {},
   "source": [
    "Let's look at the generated SQL code."
   ]
  },
  {
   "cell_type": "code",
   "execution_count": 69,
   "metadata": {},
   "outputs": [
    {
     "name": "stdout",
     "output_type": "stream",
     "text": [
      "PREDICT_LINEAR_REG(\"alcohol\" USING PARAMETERS model_name = 'public.LR_winequality', match_by_pos = 'true')\n"
     ]
    }
   ],
   "source": [
    "print(model.deploySQL())"
   ]
  },
  {
   "cell_type": "markdown",
   "metadata": {},
   "source": [
    "The best way to evaluate your model is with the regression report."
   ]
  },
  {
   "cell_type": "code",
   "execution_count": 70,
   "metadata": {},
   "outputs": [
    {
     "data": {
      "text/html": [
       "<table style=\"border-collapse: collapse; border: 2px solid white\"><tr style=\"{border: 1px solid white;}\"><td style=\"border-bottom: 1px solid #DDD;font-size:1.02em;background-color:#214579;color:white\"><b></b></td><td style=\"font-size:1.02em;background-color:#214579;color:white\"><b>value</b></td></tr><tr style=\"{border: 1px solid white;}\"><td style=\"border-bottom: 1px solid #DDD;font-size:1.02em;background-color:#214579;color:white\"><b>explained_variance</b></td><td style=\"border: 1px solid white;\">0.197418947221787</td></tr><tr style=\"{border: 1px solid white;}\"><td style=\"border-bottom: 1px solid #DDD;font-size:1.02em;background-color:#214579;color:white\"><b>max_error</b></td><td style=\"border: 1px solid white;\">3.50420028103093</td></tr><tr style=\"{border: 1px solid white;}\"><td style=\"border-bottom: 1px solid #DDD;font-size:1.02em;background-color:#214579;color:white\"><b>median_absolute_error</b></td><td style=\"border: 1px solid white;\">0.495799718969066</td></tr><tr style=\"{border: 1px solid white;}\"><td style=\"border-bottom: 1px solid #DDD;font-size:1.02em;background-color:#214579;color:white\"><b>mean_absolute_error</b></td><td style=\"border: 1px solid white;\">0.618753622791325</td></tr><tr style=\"{border: 1px solid white;}\"><td style=\"border-bottom: 1px solid #DDD;font-size:1.02em;background-color:#214579;color:white\"><b>mean_squared_error</b></td><td style=\"border: 1px solid white;\">0.611933859491369</td></tr><tr style=\"{border: 1px solid white;}\"><td style=\"border-bottom: 1px solid #DDD;font-size:1.02em;background-color:#214579;color:white\"><b>r2</b></td><td style=\"border: 1px solid white;\">0.197418947221801</td></tr></table>"
      ],
      "text/plain": [
       "<IPython.core.display.HTML object>"
      ]
     },
     "metadata": {},
     "output_type": "display_data"
    },
    {
     "data": {
      "text/plain": [
       "<object>"
      ]
     },
     "execution_count": 70,
     "metadata": {},
     "output_type": "execute_result"
    }
   ],
   "source": [
    "model.regression_report()"
   ]
  },
  {
   "cell_type": "markdown",
   "metadata": {},
   "source": [
    "You can also add the prediction to your vDataFrame (The method 'predict' is only possible for built-in algorithms, the method 'to_vdf' is a way to replace it when the implementation is not possible). Do not forget to change the 'X' attribute if the columns names differ."
   ]
  },
  {
   "cell_type": "code",
   "execution_count": 71,
   "metadata": {},
   "outputs": [
    {
     "data": {
      "text/html": [
       "<table style=\"border-collapse: collapse; border: 2px solid white\"><tr style=\"{border: 1px solid white;}\"><td style=\"border-bottom: 1px solid #DDD;font-size:1.02em;background-color:#214579;color:white\"><b></b></td><td style=\"font-size:1.02em;background-color:#214579;color:white\"><b>volatile_acidity</b></td><td style=\"font-size:1.02em;background-color:#214579;color:white\"><b>citric_acid</b></td><td style=\"font-size:1.02em;background-color:#214579;color:white\"><b>fixed_acidity</b></td><td style=\"font-size:1.02em;background-color:#214579;color:white\"><b>free_sulfur_dioxide</b></td><td style=\"font-size:1.02em;background-color:#214579;color:white\"><b>density</b></td><td style=\"font-size:1.02em;background-color:#214579;color:white\"><b>good</b></td><td style=\"font-size:1.02em;background-color:#214579;color:white\"><b>quality</b></td><td style=\"font-size:1.02em;background-color:#214579;color:white\"><b>chlorides</b></td><td style=\"font-size:1.02em;background-color:#214579;color:white\"><b>alcohol</b></td><td style=\"font-size:1.02em;background-color:#214579;color:white\"><b>color</b></td><td style=\"font-size:1.02em;background-color:#214579;color:white\"><b>pH</b></td><td style=\"font-size:1.02em;background-color:#214579;color:white\"><b>total_sulfur_dioxide</b></td><td style=\"font-size:1.02em;background-color:#214579;color:white\"><b>sulphates</b></td><td style=\"font-size:1.02em;background-color:#214579;color:white\"><b>residual_sugar</b></td><td style=\"font-size:1.02em;background-color:#214579;color:white\"><b>pred_quality</b></td></tr><tr style=\"{border: 1px solid white;}\"><td style=\"border-bottom: 1px solid #DDD;font-size:1.02em;background-color:#214579;color:white\"><b>0</b></td><td style=\"border: 1px solid white;\">0.3100</td><td style=\"border: 1px solid white;\">0.020</td><td style=\"border: 1px solid white;\">3.800</td><td style=\"border: 1px solid white;\">20.00</td><td style=\"border: 1px solid white;\">0.99248</td><td style=\"border: 1px solid white;\">0</td><td style=\"border: 1px solid white;\">6</td><td style=\"border: 1px solid white;\">0.036</td><td style=\"border: 1px solid white;\">12.4</td><td style=\"border: 1px solid white;\">white</td><td style=\"border: 1px solid white;\">3.750</td><td style=\"border: 1px solid white;\">114.00</td><td style=\"border: 1px solid white;\">0.440</td><td style=\"border: 1px solid white;\">11.100</td><td style=\"border: 1px solid white;\">6.43913787342023</td></tr><tr style=\"{border: 1px solid white;}\"><td style=\"border-bottom: 1px solid #DDD;font-size:1.02em;background-color:#214579;color:white\"><b>1</b></td><td style=\"border: 1px solid white;\">0.2250</td><td style=\"border: 1px solid white;\">0.400</td><td style=\"border: 1px solid white;\">3.900</td><td style=\"border: 1px solid white;\">29.00</td><td style=\"border: 1px solid white;\">0.989</td><td style=\"border: 1px solid white;\">1</td><td style=\"border: 1px solid white;\">8</td><td style=\"border: 1px solid white;\">0.03</td><td style=\"border: 1px solid white;\">12.8</td><td style=\"border: 1px solid white;\">white</td><td style=\"border: 1px solid white;\">3.570</td><td style=\"border: 1px solid white;\">118.00</td><td style=\"border: 1px solid white;\">0.360</td><td style=\"border: 1px solid white;\">4.200</td><td style=\"border: 1px solid white;\">6.56926268864164</td></tr><tr style=\"{border: 1px solid white;}\"><td style=\"border-bottom: 1px solid #DDD;font-size:1.02em;background-color:#214579;color:white\"><b>2</b></td><td style=\"border: 1px solid white;\">0.1700</td><td style=\"border: 1px solid white;\">0.360</td><td style=\"border: 1px solid white;\">4.200</td><td style=\"border: 1px solid white;\">93.00</td><td style=\"border: 1px solid white;\">0.98999</td><td style=\"border: 1px solid white;\">1</td><td style=\"border: 1px solid white;\">7</td><td style=\"border: 1px solid white;\">0.029</td><td style=\"border: 1px solid white;\">12.0</td><td style=\"border: 1px solid white;\">white</td><td style=\"border: 1px solid white;\">3.650</td><td style=\"border: 1px solid white;\">161.00</td><td style=\"border: 1px solid white;\">0.890</td><td style=\"border: 1px solid white;\">1.800</td><td style=\"border: 1px solid white;\">6.30901305819881</td></tr><tr style=\"{border: 1px solid white;}\"><td style=\"border-bottom: 1px solid #DDD;font-size:1.02em;background-color:#214579;color:white\"><b>3</b></td><td style=\"border: 1px solid white;\">0.2150</td><td style=\"border: 1px solid white;\">0.230</td><td style=\"border: 1px solid white;\">4.200</td><td style=\"border: 1px solid white;\">64.00</td><td style=\"border: 1px solid white;\">0.99688</td><td style=\"border: 1px solid white;\">0</td><td style=\"border: 1px solid white;\">3</td><td style=\"border: 1px solid white;\">0.041</td><td style=\"border: 1px solid white;\">8.0</td><td style=\"border: 1px solid white;\">white</td><td style=\"border: 1px solid white;\">3.420</td><td style=\"border: 1px solid white;\">157.00</td><td style=\"border: 1px solid white;\">0.440</td><td style=\"border: 1px solid white;\">5.100</td><td style=\"border: 1px solid white;\">5.00776490598469</td></tr><tr style=\"{border: 1px solid white;}\"><td style=\"border-bottom: 1px solid #DDD;font-size:1.02em;background-color:#214579;color:white\"><b>4</b></td><td style=\"border: 1px solid white;\">0.3200</td><td style=\"border: 1px solid white;\">0.390</td><td style=\"border: 1px solid white;\">4.400</td><td style=\"border: 1px solid white;\">31.00</td><td style=\"border: 1px solid white;\">0.98904</td><td style=\"border: 1px solid white;\">1</td><td style=\"border: 1px solid white;\">8</td><td style=\"border: 1px solid white;\">0.03</td><td style=\"border: 1px solid white;\">12.8</td><td style=\"border: 1px solid white;\">white</td><td style=\"border: 1px solid white;\">3.460</td><td style=\"border: 1px solid white;\">127.00</td><td style=\"border: 1px solid white;\">0.360</td><td style=\"border: 1px solid white;\">4.300</td><td style=\"border: 1px solid white;\">6.56926268864164</td></tr><tr><td style=\"border-top: 1px solid white;background-color:#214579;color:white\"></td><td style=\"border: 1px solid white;\">...</td><td style=\"border: 1px solid white;\">...</td><td style=\"border: 1px solid white;\">...</td><td style=\"border: 1px solid white;\">...</td><td style=\"border: 1px solid white;\">...</td><td style=\"border: 1px solid white;\">...</td><td style=\"border: 1px solid white;\">...</td><td style=\"border: 1px solid white;\">...</td><td style=\"border: 1px solid white;\">...</td><td style=\"border: 1px solid white;\">...</td><td style=\"border: 1px solid white;\">...</td><td style=\"border: 1px solid white;\">...</td><td style=\"border: 1px solid white;\">...</td><td style=\"border: 1px solid white;\">...</td><td style=\"border: 1px solid white;\">...</td></tr></table>"
      ],
      "text/plain": [
       "<IPython.core.display.HTML object>"
      ]
     },
     "metadata": {},
     "output_type": "display_data"
    },
    {
     "data": {
      "text/plain": [
       "<object>  Name: winequality, Number of rows: 6497, Number of columns: 15"
      ]
     },
     "execution_count": 71,
     "metadata": {},
     "output_type": "execute_result"
    }
   ],
   "source": [
    "model.predict(winequality, name = \"pred_quality\")"
   ]
  },
  {
   "cell_type": "markdown",
   "metadata": {},
   "source": [
    "The vDataFrame has also a method 'score' to do model evaluation."
   ]
  },
  {
   "cell_type": "code",
   "execution_count": 73,
   "metadata": {},
   "outputs": [
    {
     "data": {
      "text/plain": [
       "0.611933859491364"
      ]
     },
     "execution_count": 73,
     "metadata": {},
     "output_type": "execute_result"
    }
   ],
   "source": [
    "winequality.score(\"quality\", \"pred_quality\", method = \"mse\")"
   ]
  },
  {
   "cell_type": "markdown",
   "metadata": {},
   "source": [
    "Examine your prediction."
   ]
  },
  {
   "cell_type": "code",
   "execution_count": 77,
   "metadata": {},
   "outputs": [
    {
     "data": {
      "image/png": "[encoded data removed]",
      "text/plain": [
       "<Figure size 1080x792 with 1 Axes>"
      ]
     },
     "metadata": {},
     "output_type": "display_data"
    }
   ],
   "source": [
    "winequality.hist([\"quality\", \"pred_quality\"], h = (2, 2))"
   ]
  },
  {
   "cell_type": "markdown",
   "metadata": {},
   "source": [
    "Some Regressors can be drawn."
   ]
  },
  {
   "cell_type": "code",
   "execution_count": 79,
   "metadata": {},
   "outputs": [
    {
     "data": {
      "image/png": "[encoded data removed]",
      "text/plain": [
       "<Figure size 720x576 with 1 Axes>"
      ]
     },
     "metadata": {},
     "output_type": "display_data"
    }
   ],
   "source": [
    "model.plot()"
   ]
  }
 ],
 "metadata": {
  "kernelspec": {
   "display_name": "Python 3",
   "language": "python",
   "name": "python3"
  },
  "language_info": {
   "codemirror_mode": {
    "name": "ipython",
    "version": 3
   },
   "file_extension": ".py",
   "mimetype": "text/x-python",
   "name": "python",
   "nbconvert_exporter": "python",
   "pygments_lexer": "ipython3",
   "version": "3.6.3"
  }
 },
 "nbformat": 4,
 "nbformat_minor": 2
}
