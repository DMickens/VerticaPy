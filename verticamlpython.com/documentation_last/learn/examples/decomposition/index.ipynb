{
 "cells": [
  {
   "cell_type": "markdown",
   "metadata": {},
   "source": [
    "# Decomposition"
   ]
  },
  {
   "cell_type": "markdown",
   "metadata": {},
   "source": [
    "This example demonstrates various Decomposition Model methods. We will use the Iris dataset."
   ]
  },
  {
   "cell_type": "code",
   "execution_count": 107,
   "metadata": {},
   "outputs": [
    {
     "data": {
      "text/html": [
       "<table style=\"border-collapse: collapse; border: 2px solid white\"><tr style=\"{border: 1px solid white;}\"><td style=\"border-bottom: 1px solid #DDD;font-size:1.02em;background-color:#214579;color:white\"><b></b></td><td style=\"font-size:1.02em;background-color:#214579;color:white\"><b>SepalLengthCm</b></td><td style=\"font-size:1.02em;background-color:#214579;color:white\"><b>Species</b></td><td style=\"font-size:1.02em;background-color:#214579;color:white\"><b>PetalWidthCm</b></td><td style=\"font-size:1.02em;background-color:#214579;color:white\"><b>PetalLengthCm</b></td><td style=\"font-size:1.02em;background-color:#214579;color:white\"><b>SepalWidthCm</b></td></tr><tr style=\"{border: 1px solid white;}\"><td style=\"border-bottom: 1px solid #DDD;font-size:1.02em;background-color:#214579;color:white\"><b>0</b></td><td style=\"border: 1px solid white;\">4.30</td><td style=\"border: 1px solid white;\">Iris-setosa</td><td style=\"border: 1px solid white;\">0.10</td><td style=\"border: 1px solid white;\">1.10</td><td style=\"border: 1px solid white;\">3.00</td></tr><tr style=\"{border: 1px solid white;}\"><td style=\"border-bottom: 1px solid #DDD;font-size:1.02em;background-color:#214579;color:white\"><b>1</b></td><td style=\"border: 1px solid white;\">4.40</td><td style=\"border: 1px solid white;\">Iris-setosa</td><td style=\"border: 1px solid white;\">0.20</td><td style=\"border: 1px solid white;\">1.40</td><td style=\"border: 1px solid white;\">2.90</td></tr><tr style=\"{border: 1px solid white;}\"><td style=\"border-bottom: 1px solid #DDD;font-size:1.02em;background-color:#214579;color:white\"><b>2</b></td><td style=\"border: 1px solid white;\">4.40</td><td style=\"border: 1px solid white;\">Iris-setosa</td><td style=\"border: 1px solid white;\">0.20</td><td style=\"border: 1px solid white;\">1.30</td><td style=\"border: 1px solid white;\">3.00</td></tr><tr style=\"{border: 1px solid white;}\"><td style=\"border-bottom: 1px solid #DDD;font-size:1.02em;background-color:#214579;color:white\"><b>3</b></td><td style=\"border: 1px solid white;\">4.40</td><td style=\"border: 1px solid white;\">Iris-setosa</td><td style=\"border: 1px solid white;\">0.20</td><td style=\"border: 1px solid white;\">1.30</td><td style=\"border: 1px solid white;\">3.20</td></tr><tr style=\"{border: 1px solid white;}\"><td style=\"border-bottom: 1px solid #DDD;font-size:1.02em;background-color:#214579;color:white\"><b>4</b></td><td style=\"border: 1px solid white;\">4.50</td><td style=\"border: 1px solid white;\">Iris-setosa</td><td style=\"border: 1px solid white;\">0.30</td><td style=\"border: 1px solid white;\">1.30</td><td style=\"border: 1px solid white;\">2.30</td></tr><tr><td style=\"border-top: 1px solid white;background-color:#214579;color:white\"></td><td style=\"border: 1px solid white;\">...</td><td style=\"border: 1px solid white;\">...</td><td style=\"border: 1px solid white;\">...</td><td style=\"border: 1px solid white;\">...</td><td style=\"border: 1px solid white;\">...</td></tr></table>"
      ],
      "text/plain": [
       "<IPython.core.display.HTML object>"
      ]
     },
     "metadata": {},
     "output_type": "display_data"
    },
    {
     "name": "stdout",
     "output_type": "stream",
     "text": [
      "<object>  Name: iris, Number of rows: 150, Number of columns: 5\n"
     ]
    }
   ],
   "source": [
    "from vertica_ml_python.learn.datasets import load_iris\n",
    "iris = load_iris()\n",
    "print(iris)"
   ]
  },
  {
   "cell_type": "markdown",
   "metadata": {},
   "source": [
    "Let's create a PCA model of the different flowers."
   ]
  },
  {
   "cell_type": "code",
   "execution_count": 109,
   "metadata": {},
   "outputs": [
    {
     "data": {
      "text/plain": [
       "\n",
       "\n",
       "=======\n",
       "columns\n",
       "=======\n",
       "index|    name     |  mean  |   sd   \n",
       "-----+-------------+--------+--------\n",
       "  1  |petalwidthcm | 1.19867| 0.76316\n",
       "  2  |petallengthcm| 3.75867| 1.76442\n",
       "  3  |sepallengthcm| 5.84333| 0.82807\n",
       "  4  |sepalwidthcm | 3.05400| 0.43359\n",
       "\n",
       "\n",
       "===============\n",
       "singular_values\n",
       "===============\n",
       "index| value  |explained_variance|accumulated_explained_variance\n",
       "-----+--------+------------------+------------------------------\n",
       "  1  | 2.05544|      0.92462     |            0.92462           \n",
       "  2  | 0.49218|      0.05302     |            0.97763           \n",
       "  3  | 0.28022|      0.01719     |            0.99482           \n",
       "  4  | 0.15389|      0.00518     |            1.00000           \n",
       "\n",
       "\n",
       "====================\n",
       "principal_components\n",
       "====================\n",
       "index|  PC1   |  PC2   |  PC3   |  PC4   \n",
       "-----+--------+--------+--------+--------\n",
       "  1  | 0.35884|-0.07471| 0.54906| 0.75112\n",
       "  2  | 0.85657|-0.17577| 0.07252|-0.47972\n",
       "  3  | 0.36159| 0.65654|-0.58100| 0.31725\n",
       "  4  |-0.08227| 0.72971| 0.59642|-0.32409\n",
       "\n",
       "\n",
       "========\n",
       "counters\n",
       "========\n",
       "   counter_name   |counter_value\n",
       "------------------+-------------\n",
       "accepted_row_count|     150     \n",
       "rejected_row_count|      0      \n",
       " iteration_count  |      1      \n",
       "\n",
       "\n",
       "===========\n",
       "call_string\n",
       "===========\n",
       "SELECT PCA('public.PCA_iris', 'public.iris', '\"PetalWidthCm\", \"PetalLengthCm\", \"SepalLengthCm\", \"SepalWidthCm\"'\n",
       "USING PARAMETERS scale=false);"
      ]
     },
     "execution_count": 109,
     "metadata": {},
     "output_type": "execute_result"
    }
   ],
   "source": [
    "from vertica_ml_python.learn.decomposition import PCA\n",
    "model = PCA(\"public.PCA_iris\")\n",
    "model.fit(\"public.iris\", [\"PetalWidthCm\", \"PetalLengthCm\", \"SepalLengthCm\", \"SepalWidthCm\"])"
   ]
  },
  {
   "cell_type": "markdown",
   "metadata": {},
   "source": [
    "Fitting the model creates new model attributes, which make methods easier to use."
   ]
  },
  {
   "cell_type": "code",
   "execution_count": 110,
   "metadata": {},
   "outputs": [
    {
     "data": {
      "text/plain": [
       "['\"PetalWidthCm\"', '\"PetalLengthCm\"', '\"SepalLengthCm\"', '\"SepalWidthCm\"']"
      ]
     },
     "execution_count": 110,
     "metadata": {},
     "output_type": "execute_result"
    }
   ],
   "source": [
    "model.X"
   ]
  },
  {
   "cell_type": "code",
   "execution_count": 111,
   "metadata": {},
   "outputs": [
    {
     "data": {
      "text/plain": [
       "'public.iris'"
      ]
     },
     "execution_count": 111,
     "metadata": {},
     "output_type": "execute_result"
    }
   ],
   "source": [
    "model.input_relation"
   ]
  },
  {
   "cell_type": "markdown",
   "metadata": {},
   "source": [
    "These attributes will be used when invoking the different model abstractions. The model could also have other useful attributes. In the case of PCA, the 'components', 'explained_variance' and 'mean' attributes can give you useful information about the model."
   ]
  },
  {
   "cell_type": "code",
   "execution_count": 112,
   "metadata": {},
   "outputs": [
    {
     "data": {
      "text/html": [
       "<table style=\"border-collapse: collapse; border: 2px solid white\"><tr style=\"{border: 1px solid white;}\"><td style=\"border-bottom: 1px solid #DDD;font-size:1.02em;background-color:#214579;color:white\"><b></b></td><td style=\"font-size:1.02em;background-color:#214579;color:white\"><b>PC1</b></td><td style=\"font-size:1.02em;background-color:#214579;color:white\"><b>PC2</b></td><td style=\"font-size:1.02em;background-color:#214579;color:white\"><b>PC3</b></td><td style=\"font-size:1.02em;background-color:#214579;color:white\"><b>PC4</b></td></tr><tr style=\"{border: 1px solid white;}\"><td style=\"border-bottom: 1px solid #DDD;font-size:1.02em;background-color:#214579;color:white\"><b>1</b></td><td style=\"border: 1px solid white;\">0.358843926248216</td><td style=\"border: 1px solid white;\">-0.0747064701350342</td><td style=\"border: 1px solid white;\">0.549060910726603</td><td style=\"border: 1px solid white;\">0.751120560380823</td></tr><tr style=\"{border: 1px solid white;}\"><td style=\"border-bottom: 1px solid #DDD;font-size:1.02em;background-color:#214579;color:white\"><b>2</b></td><td style=\"border: 1px solid white;\">0.856572105290528</td><td style=\"border: 1px solid white;\">-0.175767403428654</td><td style=\"border: 1px solid white;\">0.0725240754869635</td><td style=\"border: 1px solid white;\">-0.47971898732994</td></tr><tr style=\"{border: 1px solid white;}\"><td style=\"border-bottom: 1px solid #DDD;font-size:1.02em;background-color:#214579;color:white\"><b>3</b></td><td style=\"border: 1px solid white;\">0.36158967738145</td><td style=\"border: 1px solid white;\">0.656539883285831</td><td style=\"border: 1px solid white;\">-0.580997279827618</td><td style=\"border: 1px solid white;\">0.31725454716854</td></tr><tr style=\"{border: 1px solid white;}\"><td style=\"border-bottom: 1px solid #DDD;font-size:1.02em;background-color:#214579;color:white\"><b>4</b></td><td style=\"border: 1px solid white;\">-0.0822688898922142</td><td style=\"border: 1px solid white;\">0.729712371326497</td><td style=\"border: 1px solid white;\">0.596418087938103</td><td style=\"border: 1px solid white;\">-0.324094352417966</td></tr></table>"
      ],
      "text/plain": [
       "<IPython.core.display.HTML object>"
      ]
     },
     "metadata": {},
     "output_type": "display_data"
    },
    {
     "data": {
      "text/plain": [
       "<object>"
      ]
     },
     "execution_count": 112,
     "metadata": {},
     "output_type": "execute_result"
    }
   ],
   "source": [
    "model.components"
   ]
  },
  {
   "cell_type": "code",
   "execution_count": 113,
   "metadata": {},
   "outputs": [
    {
     "data": {
      "text/html": [
       "<table style=\"border-collapse: collapse; border: 2px solid white\"><tr style=\"{border: 1px solid white;}\"><td style=\"border-bottom: 1px solid #DDD;font-size:1.02em;background-color:#214579;color:white\"><b></b></td><td style=\"font-size:1.02em;background-color:#214579;color:white\"><b>value</b></td><td style=\"font-size:1.02em;background-color:#214579;color:white\"><b>explained_variance</b></td><td style=\"font-size:1.02em;background-color:#214579;color:white\"><b>accumulated_explained_variance</b></td></tr><tr style=\"{border: 1px solid white;}\"><td style=\"border-bottom: 1px solid #DDD;font-size:1.02em;background-color:#214579;color:white\"><b>1</b></td><td style=\"border: 1px solid white;\">2.05544174529956</td><td style=\"border: 1px solid white;\">0.924616207174268</td><td style=\"border: 1px solid white;\">0.924616207174268</td></tr><tr style=\"{border: 1px solid white;}\"><td style=\"border-bottom: 1px solid #DDD;font-size:1.02em;background-color:#214579;color:white\"><b>2</b></td><td style=\"border: 1px solid white;\">0.492182457659266</td><td style=\"border: 1px solid white;\">0.0530155678505351</td><td style=\"border: 1px solid white;\">0.977631775024803</td></tr><tr style=\"{border: 1px solid white;}\"><td style=\"border-bottom: 1px solid #DDD;font-size:1.02em;background-color:#214579;color:white\"><b>3</b></td><td style=\"border: 1px solid white;\">0.280221177097939</td><td style=\"border: 1px solid white;\">0.0171851395250068</td><td style=\"border: 1px solid white;\">0.99481691454981</td></tr><tr style=\"{border: 1px solid white;}\"><td style=\"border-bottom: 1px solid #DDD;font-size:1.02em;background-color:#214579;color:white\"><b>4</b></td><td style=\"border: 1px solid white;\">0.153892907978245</td><td style=\"border: 1px solid white;\">0.00518308545018961</td><td style=\"border: 1px solid white;\">0.999999999999999</td></tr></table>"
      ],
      "text/plain": [
       "<IPython.core.display.HTML object>"
      ]
     },
     "metadata": {},
     "output_type": "display_data"
    },
    {
     "data": {
      "text/plain": [
       "<object>"
      ]
     },
     "execution_count": 113,
     "metadata": {},
     "output_type": "execute_result"
    }
   ],
   "source": [
    "model.explained_variance"
   ]
  },
  {
   "cell_type": "code",
   "execution_count": 114,
   "metadata": {},
   "outputs": [
    {
     "data": {
      "text/html": [
       "<table style=\"border-collapse: collapse; border: 2px solid white\"><tr style=\"{border: 1px solid white;}\"><td style=\"border-bottom: 1px solid #DDD;font-size:1.02em;background-color:#214579;color:white\"><b></b></td><td style=\"font-size:1.02em;background-color:#214579;color:white\"><b>name</b></td><td style=\"font-size:1.02em;background-color:#214579;color:white\"><b>mean</b></td><td style=\"font-size:1.02em;background-color:#214579;color:white\"><b>sd</b></td></tr><tr style=\"{border: 1px solid white;}\"><td style=\"border-bottom: 1px solid #DDD;font-size:1.02em;background-color:#214579;color:white\"><b>1</b></td><td style=\"border: 1px solid white;\">petalwidthcm</td><td style=\"border: 1px solid white;\">1.19866666666667</td><td style=\"border: 1px solid white;\">0.763160741700841</td></tr><tr style=\"{border: 1px solid white;}\"><td style=\"border-bottom: 1px solid #DDD;font-size:1.02em;background-color:#214579;color:white\"><b>2</b></td><td style=\"border: 1px solid white;\">petallengthcm</td><td style=\"border: 1px solid white;\">3.75866666666667</td><td style=\"border: 1px solid white;\">1.76442041995226</td></tr><tr style=\"{border: 1px solid white;}\"><td style=\"border-bottom: 1px solid #DDD;font-size:1.02em;background-color:#214579;color:white\"><b>3</b></td><td style=\"border: 1px solid white;\">sepallengthcm</td><td style=\"border: 1px solid white;\">5.84333333333333</td><td style=\"border: 1px solid white;\">0.828066127977863</td></tr><tr style=\"{border: 1px solid white;}\"><td style=\"border-bottom: 1px solid #DDD;font-size:1.02em;background-color:#214579;color:white\"><b>4</b></td><td style=\"border: 1px solid white;\">sepalwidthcm</td><td style=\"border: 1px solid white;\">3.054</td><td style=\"border: 1px solid white;\">0.433594311362174</td></tr></table>"
      ],
      "text/plain": [
       "<IPython.core.display.HTML object>"
      ]
     },
     "metadata": {},
     "output_type": "display_data"
    },
    {
     "data": {
      "text/plain": [
       "<object>"
      ]
     },
     "execution_count": 114,
     "metadata": {},
     "output_type": "execute_result"
    }
   ],
   "source": [
    "model.mean"
   ]
  },
  {
   "cell_type": "markdown",
   "metadata": {},
   "source": [
    "Let's look at the generated SQL code."
   ]
  },
  {
   "cell_type": "code",
   "execution_count": 115,
   "metadata": {},
   "outputs": [
    {
     "name": "stdout",
     "output_type": "stream",
     "text": [
      "APPLY_PCA(\"PetalWidthCm\", \"PetalLengthCm\", \"SepalLengthCm\", \"SepalWidthCm\" USING PARAMETERS model_name = 'public.PCA_iris', match_by_pos = 'true', cutoff = 1)\n"
     ]
    }
   ],
   "source": [
    "print(model.deploySQL())"
   ]
  },
  {
   "cell_type": "markdown",
   "metadata": {},
   "source": [
    "It is also possible to deploy the inverse PCA."
   ]
  },
  {
   "cell_type": "code",
   "execution_count": 116,
   "metadata": {},
   "outputs": [
    {
     "name": "stdout",
     "output_type": "stream",
     "text": [
      "APPLY_INVERSE_PCA(\"PetalWidthCm\", \"PetalLengthCm\", \"SepalLengthCm\", \"SepalWidthCm\" USING PARAMETERS model_name = 'public.PCA_iris', match_by_pos = 'true')\n"
     ]
    }
   ],
   "source": [
    "print(model.deployInverseSQL())"
   ]
  },
  {
   "cell_type": "markdown",
   "metadata": {},
   "source": [
    "You can also use the 'to_vdf' method to get the model vDataFrame and specify the number of components to keep."
   ]
  },
  {
   "cell_type": "code",
   "execution_count": 117,
   "metadata": {},
   "outputs": [
    {
     "data": {
      "text/html": [
       "<table style=\"border-collapse: collapse; border: 2px solid white\"><tr style=\"{border: 1px solid white;}\"><td style=\"border-bottom: 1px solid #DDD;font-size:1.02em;background-color:#214579;color:white\"><b></b></td><td style=\"font-size:1.02em;background-color:#214579;color:white\"><b>col1</b></td><td style=\"font-size:1.02em;background-color:#214579;color:white\"><b>col2</b></td></tr><tr style=\"{border: 1px solid white;}\"><td style=\"border-bottom: 1px solid #DDD;font-size:1.02em;background-color:#214579;color:white\"><b>0</b></td><td style=\"border: 1px solid white;\">-3.22520044627498</td><td style=\"border: 1px solid white;\">-0.503279909485424</td></tr><tr style=\"{border: 1px solid white;}\"><td style=\"border-bottom: 1px solid #DDD;font-size:1.02em;background-color:#214579;color:white\"><b>1</b></td><td style=\"border: 1px solid white;\">-2.88795856533563</td><td style=\"border: 1px solid white;\">-0.57079802633159</td></tr><tr style=\"{border: 1px solid white;}\"><td style=\"border-bottom: 1px solid #DDD;font-size:1.02em;background-color:#214579;color:white\"><b>2</b></td><td style=\"border: 1px solid white;\">-2.98184266485391</td><td style=\"border: 1px solid white;\">-0.480250048856075</td></tr><tr style=\"{border: 1px solid white;}\"><td style=\"border-bottom: 1px solid #DDD;font-size:1.02em;background-color:#214579;color:white\"><b>3</b></td><td style=\"border: 1px solid white;\">-2.99829644283235</td><td style=\"border: 1px solid white;\">-0.334307574590776</td></tr><tr style=\"{border: 1px solid white;}\"><td style=\"border-bottom: 1px solid #DDD;font-size:1.02em;background-color:#214579;color:white\"><b>4</b></td><td style=\"border: 1px solid white;\">-2.85221108156639</td><td style=\"border: 1px solid white;\">-0.932865367469544</td></tr><tr><td style=\"border-top: 1px solid white;background-color:#214579;color:white\"></td><td style=\"border: 1px solid white;\">...</td><td style=\"border: 1px solid white;\">...</td></tr></table>"
      ],
      "text/plain": [
       "<IPython.core.display.HTML object>"
      ]
     },
     "metadata": {},
     "output_type": "display_data"
    },
    {
     "data": {
      "text/plain": [
       "<object>  Name: pca_publiciris, Number of rows: 150, Number of columns: 2"
      ]
     },
     "execution_count": 117,
     "metadata": {},
     "output_type": "execute_result"
    }
   ],
   "source": [
    "model.to_vdf(n_components = 2)"
   ]
  },
  {
   "cell_type": "markdown",
   "metadata": {},
   "source": [
    "Or the minimal cumulative explained variance."
   ]
  },
  {
   "cell_type": "code",
   "execution_count": 118,
   "metadata": {},
   "outputs": [
    {
     "data": {
      "text/html": [
       "<table style=\"border-collapse: collapse; border: 2px solid white\"><tr style=\"{border: 1px solid white;}\"><td style=\"border-bottom: 1px solid #DDD;font-size:1.02em;background-color:#214579;color:white\"><b></b></td><td style=\"font-size:1.02em;background-color:#214579;color:white\"><b>col1</b></td></tr><tr style=\"{border: 1px solid white;}\"><td style=\"border-bottom: 1px solid #DDD;font-size:1.02em;background-color:#214579;color:white\"><b>0</b></td><td style=\"border: 1px solid white;\">-3.22520044627498</td></tr><tr style=\"{border: 1px solid white;}\"><td style=\"border-bottom: 1px solid #DDD;font-size:1.02em;background-color:#214579;color:white\"><b>1</b></td><td style=\"border: 1px solid white;\">-2.88795856533563</td></tr><tr style=\"{border: 1px solid white;}\"><td style=\"border-bottom: 1px solid #DDD;font-size:1.02em;background-color:#214579;color:white\"><b>2</b></td><td style=\"border: 1px solid white;\">-2.98184266485391</td></tr><tr style=\"{border: 1px solid white;}\"><td style=\"border-bottom: 1px solid #DDD;font-size:1.02em;background-color:#214579;color:white\"><b>3</b></td><td style=\"border: 1px solid white;\">-2.99829644283235</td></tr><tr style=\"{border: 1px solid white;}\"><td style=\"border-bottom: 1px solid #DDD;font-size:1.02em;background-color:#214579;color:white\"><b>4</b></td><td style=\"border: 1px solid white;\">-2.85221108156639</td></tr><tr><td style=\"border-top: 1px solid white;background-color:#214579;color:white\"></td><td style=\"border: 1px solid white;\">...</td></tr></table>"
      ],
      "text/plain": [
       "<IPython.core.display.HTML object>"
      ]
     },
     "metadata": {},
     "output_type": "display_data"
    },
    {
     "data": {
      "text/plain": [
       "<object>  Name: col1, Number of rows: 150, dtype: float"
      ]
     },
     "execution_count": 118,
     "metadata": {},
     "output_type": "execute_result"
    }
   ],
   "source": [
    "model.to_vdf(cutoff = 0.8)"
   ]
  },
  {
   "cell_type": "markdown",
   "metadata": {},
   "source": [
    "You can choose to keep key columns to join the result to the main relation."
   ]
  },
  {
   "cell_type": "code",
   "execution_count": 119,
   "metadata": {},
   "outputs": [
    {
     "data": {
      "text/html": [
       "<table style=\"border-collapse: collapse; border: 2px solid white\"><tr style=\"{border: 1px solid white;}\"><td style=\"border-bottom: 1px solid #DDD;font-size:1.02em;background-color:#214579;color:white\"><b></b></td><td style=\"font-size:1.02em;background-color:#214579;color:white\"><b>PetalWidthCm</b></td><td style=\"font-size:1.02em;background-color:#214579;color:white\"><b>PetalLengthCm</b></td><td style=\"font-size:1.02em;background-color:#214579;color:white\"><b>SepalLengthCm</b></td><td style=\"font-size:1.02em;background-color:#214579;color:white\"><b>SepalWidthCm</b></td><td style=\"font-size:1.02em;background-color:#214579;color:white\"><b>col1</b></td></tr><tr style=\"{border: 1px solid white;}\"><td style=\"border-bottom: 1px solid #DDD;font-size:1.02em;background-color:#214579;color:white\"><b>0</b></td><td style=\"border: 1px solid white;\">0.10</td><td style=\"border: 1px solid white;\">1.10</td><td style=\"border: 1px solid white;\">4.30</td><td style=\"border: 1px solid white;\">3.00</td><td style=\"border: 1px solid white;\">-3.22520044627498</td></tr><tr style=\"{border: 1px solid white;}\"><td style=\"border-bottom: 1px solid #DDD;font-size:1.02em;background-color:#214579;color:white\"><b>1</b></td><td style=\"border: 1px solid white;\">0.20</td><td style=\"border: 1px solid white;\">1.40</td><td style=\"border: 1px solid white;\">4.40</td><td style=\"border: 1px solid white;\">2.90</td><td style=\"border: 1px solid white;\">-2.88795856533563</td></tr><tr style=\"{border: 1px solid white;}\"><td style=\"border-bottom: 1px solid #DDD;font-size:1.02em;background-color:#214579;color:white\"><b>2</b></td><td style=\"border: 1px solid white;\">0.20</td><td style=\"border: 1px solid white;\">1.30</td><td style=\"border: 1px solid white;\">4.40</td><td style=\"border: 1px solid white;\">3.00</td><td style=\"border: 1px solid white;\">-2.98184266485391</td></tr><tr style=\"{border: 1px solid white;}\"><td style=\"border-bottom: 1px solid #DDD;font-size:1.02em;background-color:#214579;color:white\"><b>3</b></td><td style=\"border: 1px solid white;\">0.20</td><td style=\"border: 1px solid white;\">1.30</td><td style=\"border: 1px solid white;\">4.40</td><td style=\"border: 1px solid white;\">3.20</td><td style=\"border: 1px solid white;\">-2.99829644283235</td></tr><tr style=\"{border: 1px solid white;}\"><td style=\"border-bottom: 1px solid #DDD;font-size:1.02em;background-color:#214579;color:white\"><b>4</b></td><td style=\"border: 1px solid white;\">0.30</td><td style=\"border: 1px solid white;\">1.30</td><td style=\"border: 1px solid white;\">4.50</td><td style=\"border: 1px solid white;\">2.30</td><td style=\"border: 1px solid white;\">-2.85221108156639</td></tr><tr><td style=\"border-top: 1px solid white;background-color:#214579;color:white\"></td><td style=\"border: 1px solid white;\">...</td><td style=\"border: 1px solid white;\">...</td><td style=\"border: 1px solid white;\">...</td><td style=\"border: 1px solid white;\">...</td><td style=\"border: 1px solid white;\">...</td></tr></table>"
      ],
      "text/plain": [
       "<IPython.core.display.HTML object>"
      ]
     },
     "metadata": {},
     "output_type": "display_data"
    },
    {
     "data": {
      "text/plain": [
       "<object>  Name: pca_publiciris, Number of rows: 150, Number of columns: 5"
      ]
     },
     "execution_count": 119,
     "metadata": {},
     "output_type": "execute_result"
    }
   ],
   "source": [
    "model.to_vdf(cutoff = 0.8, \n",
    "             key_columns = [\"PetalWidthCm\", \n",
    "                            \"PetalLengthCm\", \n",
    "                            \"SepalLengthCm\", \n",
    "                            \"SepalWidthCm\"])"
   ]
  }
 ],
 "metadata": {
  "kernelspec": {
   "display_name": "Python 3",
   "language": "python",
   "name": "python3"
  },
  "language_info": {
   "codemirror_mode": {
    "name": "ipython",
    "version": 3
   },
   "file_extension": ".py",
   "mimetype": "text/x-python",
   "name": "python",
   "nbconvert_exporter": "python",
   "pygments_lexer": "ipython3",
   "version": "3.6.3"
  }
 },
 "nbformat": 4,
 "nbformat_minor": 2
}
