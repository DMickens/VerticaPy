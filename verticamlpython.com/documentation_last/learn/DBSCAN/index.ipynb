{
 "cells": [
  {
   "cell_type": "markdown",
   "metadata": {},
   "source": [
    "# DBSCAN (Beta)"
   ]
  },
  {
   "cell_type": "code",
   "execution_count": null,
   "metadata": {},
   "outputs": [],
   "source": [
    "DBSCAN(name: str,\n",
    "       cursor = None,\n",
    "       eps: float = 0.5,\n",
    "       min_samples: int = 5,\n",
    "       p: int = 2)"
   ]
  },
  {
   "cell_type": "markdown",
   "metadata": {},
   "source": [
    "Creates a DBSCAN object by using the DBSCAN algorithm as defined by Martin \n",
    "Ester, Hans-Peter Kriegel, Jörg Sander, and Xiaowei Xu. This object uses \n",
    "pure SQL to compute all the distances and neighbors. It uses Python \n",
    "to compute the cluster propagation (non-scalable phase). Its use of \n",
    "CROSS JOIN and may be  expensive in some cases. It indexes all the \n",
    "elements of the table in order to be optimal (the CROSS JOIN will happen only \n",
    "with IDs which are integers). As DBSCAN is using the p-distance, it is highly \n",
    "sensitive to unnormalized data. However, DBSCAN is robust to outliers \n",
    "and can find non-linear clusters. It is a very powerful algorithm for outlier \n",
    "detection and clustering.\n",
    "\n",
    "### Parameters\n",
    "\n",
    "<table id=\"parameters\">\n",
    "    <tr> <th>Name</th> <th>Type</th> <th>Optional</th> <th>Description</th> </tr>\n",
    "    <tr> <td><div class=\"param_name\">name</div></td> <td><div class=\"type\">str</div></td> <td><div class = \"no\">&#10060;</div></td> <td>Name of the the model. As it is not a built in model, this name will be used to build the final table.</td> </tr>\n",
    "    <tr> <td><div class=\"param_name\">cursor</div></td> <td><div class=\"type\">DBcursor</div></td> <td><div class = \"yes\">&#10003;</div></td> <td>Vertica DB cursor.</td> </tr>\n",
    "    <tr> <td><div class=\"param_name\">eps</div></td> <td><div class=\"type\">float</div></td> <td><div class = \"yes\">&#10003;</div></td> <td>The radius of a neighborhood with respect to some point.</td> </tr>\n",
    "    <tr> <td><div class=\"param_name\">min_samples</div></td> <td><div class=\"type\">int</div></td> <td><div class = \"yes\">&#10003;</div></td> <td>Minimum number of points required to form a dense region.</td> </tr>\n",
    "    <tr> <td><div class=\"param_name\">p</div></td> <td><div class=\"type\">int</div></td> <td><div class = \"yes\">&#10003;</div></td> <td>The p of the p-distance (distance metric used during the model computation).</td> </tr>\n",
    "</table>\n",
    "\n",
    "### Attributes\n",
    "\n",
    "After the object creation, all the parameters become attributes. The model will also create extra attributes when fitting the model:\n",
    "\n",
    "<table id=\"parameters\">\n",
    "    <tr> <th>Name</th> <th>Type</th>  <th>Description</th> </tr>\n",
    "    <tr> <td><div class=\"param_name\">n_cluster</div></td> <td><div class=\"type\">int</div></td> <td>Number of clusters created during the process.</td> </tr>\n",
    "    <tr> <td><div class=\"param_name\">n_noise</div></td> <td><div class=\"type\">int</div></td> <td>Number of points with no clusters.</td> </tr>\n",
    "    <tr> <td><div class=\"param_name\">input_relation</div></td> <td><div class=\"type\">str</div></td> <td>Train relation.</td> </tr>\n",
    "    <tr> <td><div class=\"param_name\">X</div></td> <td><div class=\"type\">list</div></td> <td>List of the predictors.</td> </tr>\n",
    "    <tr> <td><div class=\"param_name\">key_columns</div></td> <td><div class=\"type\">list</div></td> <td>Columns not used during the algorithm computation but which will be used to create the final relation.</td> </tr>\n",
    "</table>\n",
    "\n",
    "### Methods\n",
    "\n",
    "<table id=\"parameters\">\n",
    "    <tr> <th>Name</th> <th>Description</th> </tr>\n",
    "    <tr> <td><a href=\"../Unsupervised/fit2\">fit</a></td> <td>Trains the model.</td> </tr>\n",
    "    <tr> <td><a href=\"../Unsupervised/info\">info</a></td> <td>Displays some information about the model.</td> </tr>\n",
    "    <tr> <td><a href=\"../Unsupervised/plot2\">plot</a></td> <td>Draws the model if the number of predictors is 2 or 3.</td> </tr>\n",
    "    <tr> <td><a href=\"../Unsupervised/to_vdf\">to_vdf</a></td> <td>Creates a vDataFrame of the model.</td> </tr>\n",
    "</table>"
   ]
  },
  {
   "cell_type": "markdown",
   "metadata": {},
   "source": [
    "### Example"
   ]
  },
  {
   "cell_type": "code",
   "execution_count": 1,
   "metadata": {},
   "outputs": [
    {
     "name": "stdout",
     "output_type": "stream",
     "text": [
      "<DBSCAN>\n"
     ]
    }
   ],
   "source": [
    "from vertica_ml_python.learn.cluster import DBSCAN\n",
    "model = DBSCAN(name = \"public.DBSCAN_heart\")\n",
    "print(model)"
   ]
  }
 ],
 "metadata": {
  "kernelspec": {
   "display_name": "Python 3",
   "language": "python",
   "name": "python3"
  },
  "language_info": {
   "codemirror_mode": {
    "name": "ipython",
    "version": 3
   },
   "file_extension": ".py",
   "mimetype": "text/x-python",
   "name": "python",
   "nbconvert_exporter": "python",
   "pygments_lexer": "ipython3",
   "version": "3.6.3"
  }
 },
 "nbformat": 4,
 "nbformat_minor": 2
}
