{
 "cells": [
  {
   "cell_type": "markdown",
   "metadata": {},
   "source": [
    "# train_test_split"
   ]
  },
  {
   "cell_type": "code",
   "execution_count": null,
   "metadata": {},
   "outputs": [],
   "source": [
    "train_test_split(input_relation: str, \n",
    "                 cursor = None, \n",
    "                 test_size: float = 0.33, \n",
    "                 schema_writing: str = \"\")"
   ]
  },
  {
   "cell_type": "markdown",
   "metadata": {},
   "source": [
    "Creates a temporary table and 2 views which can be used to evaluate a model. The table will include all the main relation information with a test column (boolean) which represents if the data belong to the test or train set.\n",
    "\n",
    "### Parameters\n",
    "\n",
    "<table id=\"parameters\">\n",
    "    <tr> <th>Name</th> <th>Type</th> <th>Optional</th> <th>Description</th> </tr>\n",
    "    <tr> <td><div class=\"param_name\">input_relation</div></td> <td><div class=\"type\">str</div></td> <td><div class = \"no\">&#10060;</div></td> <td>Input Relation.</td> </tr>\n",
    "    <tr> <td><div class=\"param_name\">cursor</div></td> <td><div class=\"type\">DBcursor</div></td> <td><div class = \"yes\">&#10003;</div></td> <td>Vertica DB cursor.</td> </tr>\n",
    "    <tr> <td><div class=\"param_name\">test_size</div></td> <td><div class=\"type\">float</div></td> <td><div class = \"yes\">&#10003;</div></td> <td>Proportion of the test set comparint to the training set.</td> </tr>\n",
    "    <tr> <td><div class=\"param_name\">schema_writing</div></td> <td><div class=\"type\">str</div></td> <td><div class = \"yes\">&#10003;</div></td> <td>Schema used to write the main relation.</td> </tr>\n",
    "</table>\n",
    "\n",
    "### Returns\n",
    "\n",
    "<b>tuple</b> : (name of the train view, name of the test view)"
   ]
  },
  {
   "cell_type": "markdown",
   "metadata": {},
   "source": [
    "### Example"
   ]
  },
  {
   "cell_type": "code",
   "execution_count": 10,
   "metadata": {},
   "outputs": [
    {
     "data": {
      "text/plain": [
       "('\"public\".VERTICA_ML_PYTHON_SPLIT_iris_67_TRAIN',\n",
       " '\"public\".VERTICA_ML_PYTHON_SPLIT_iris_33_TEST')"
      ]
     },
     "execution_count": 10,
     "metadata": {},
     "output_type": "execute_result"
    }
   ],
   "source": [
    "from vertica_ml_python.learn.model_selection import train_test_split\n",
    "train_test_split(\"public.iris\")"
   ]
  },
  {
   "cell_type": "code",
   "execution_count": 11,
   "metadata": {},
   "outputs": [
    {
     "data": {
      "text/html": [
       "<table style=\"border-collapse: collapse; border: 2px solid white\"><tr style=\"{border: 1px solid white;}\"><td style=\"border-bottom: 1px solid #DDD;font-size:1.02em;background-color:#214579;color:white\"><b></b></td><td style=\"font-size:1.02em;background-color:#214579;color:white\"><b>PetalLengthCm</b></td><td style=\"font-size:1.02em;background-color:#214579;color:white\"><b>SepalWidthCm</b></td><td style=\"font-size:1.02em;background-color:#214579;color:white\"><b>test</b></td><td style=\"font-size:1.02em;background-color:#214579;color:white\"><b>SepalLengthCm</b></td><td style=\"font-size:1.02em;background-color:#214579;color:white\"><b>Species</b></td><td style=\"font-size:1.02em;background-color:#214579;color:white\"><b>PetalWidthCm</b></td></tr><tr style=\"{border: 1px solid white;}\"><td style=\"border-bottom: 1px solid #DDD;font-size:1.02em;background-color:#214579;color:white\"><b>0</b></td><td style=\"border: 1px solid white;\">1.10</td><td style=\"border: 1px solid white;\">3.00</td><td style=\"border: 1px solid white;\">False</td><td style=\"border: 1px solid white;\">4.30</td><td style=\"border: 1px solid white;\">Iris-setosa</td><td style=\"border: 1px solid white;\">0.10</td></tr><tr style=\"{border: 1px solid white;}\"><td style=\"border-bottom: 1px solid #DDD;font-size:1.02em;background-color:#214579;color:white\"><b>1</b></td><td style=\"border: 1px solid white;\">1.40</td><td style=\"border: 1px solid white;\">2.90</td><td style=\"border: 1px solid white;\">False</td><td style=\"border: 1px solid white;\">4.40</td><td style=\"border: 1px solid white;\">Iris-setosa</td><td style=\"border: 1px solid white;\">0.20</td></tr><tr style=\"{border: 1px solid white;}\"><td style=\"border-bottom: 1px solid #DDD;font-size:1.02em;background-color:#214579;color:white\"><b>2</b></td><td style=\"border: 1px solid white;\">1.30</td><td style=\"border: 1px solid white;\">3.00</td><td style=\"border: 1px solid white;\">False</td><td style=\"border: 1px solid white;\">4.40</td><td style=\"border: 1px solid white;\">Iris-setosa</td><td style=\"border: 1px solid white;\">0.20</td></tr><tr style=\"{border: 1px solid white;}\"><td style=\"border-bottom: 1px solid #DDD;font-size:1.02em;background-color:#214579;color:white\"><b>3</b></td><td style=\"border: 1px solid white;\">1.30</td><td style=\"border: 1px solid white;\">3.20</td><td style=\"border: 1px solid white;\">False</td><td style=\"border: 1px solid white;\">4.40</td><td style=\"border: 1px solid white;\">Iris-setosa</td><td style=\"border: 1px solid white;\">0.20</td></tr><tr style=\"{border: 1px solid white;}\"><td style=\"border-bottom: 1px solid #DDD;font-size:1.02em;background-color:#214579;color:white\"><b>4</b></td><td style=\"border: 1px solid white;\">1.30</td><td style=\"border: 1px solid white;\">2.30</td><td style=\"border: 1px solid white;\">False</td><td style=\"border: 1px solid white;\">4.50</td><td style=\"border: 1px solid white;\">Iris-setosa</td><td style=\"border: 1px solid white;\">0.30</td></tr><tr><td style=\"border-top: 1px solid white;background-color:#214579;color:white\"></td><td style=\"border: 1px solid white;\">...</td><td style=\"border: 1px solid white;\">...</td><td style=\"border: 1px solid white;\">...</td><td style=\"border: 1px solid white;\">...</td><td style=\"border: 1px solid white;\">...</td><td style=\"border: 1px solid white;\">...</td></tr></table>"
      ],
      "text/plain": [
       "<IPython.core.display.HTML object>"
      ]
     },
     "metadata": {},
     "output_type": "display_data"
    },
    {
     "data": {
      "text/plain": [
       "<object>  Name: VERTICA_ML_PYTHON_SPLIT_iris_67_TRAIN, Number of rows: 110, Number of columns: 6"
      ]
     },
     "execution_count": 11,
     "metadata": {},
     "output_type": "execute_result"
    }
   ],
   "source": [
    "from vertica_ml_python import vDataFrame\n",
    "vDataFrame('\"public\".VERTICA_ML_PYTHON_SPLIT_iris_67_TRAIN')"
   ]
  },
  {
   "cell_type": "code",
   "execution_count": 12,
   "metadata": {},
   "outputs": [
    {
     "data": {
      "text/html": [
       "<table style=\"border-collapse: collapse; border: 2px solid white\"><tr style=\"{border: 1px solid white;}\"><td style=\"border-bottom: 1px solid #DDD;font-size:1.02em;background-color:#214579;color:white\"><b></b></td><td style=\"font-size:1.02em;background-color:#214579;color:white\"><b>test</b></td><td style=\"font-size:1.02em;background-color:#214579;color:white\"><b>SepalLengthCm</b></td><td style=\"font-size:1.02em;background-color:#214579;color:white\"><b>Species</b></td><td style=\"font-size:1.02em;background-color:#214579;color:white\"><b>PetalWidthCm</b></td><td style=\"font-size:1.02em;background-color:#214579;color:white\"><b>PetalLengthCm</b></td><td style=\"font-size:1.02em;background-color:#214579;color:white\"><b>SepalWidthCm</b></td></tr><tr style=\"{border: 1px solid white;}\"><td style=\"border-bottom: 1px solid #DDD;font-size:1.02em;background-color:#214579;color:white\"><b>0</b></td><td style=\"border: 1px solid white;\">True</td><td style=\"border: 1px solid white;\">4.60</td><td style=\"border: 1px solid white;\">Iris-setosa</td><td style=\"border: 1px solid white;\">0.30</td><td style=\"border: 1px solid white;\">1.40</td><td style=\"border: 1px solid white;\">3.40</td></tr><tr style=\"{border: 1px solid white;}\"><td style=\"border-bottom: 1px solid #DDD;font-size:1.02em;background-color:#214579;color:white\"><b>1</b></td><td style=\"border: 1px solid white;\">True</td><td style=\"border: 1px solid white;\">4.70</td><td style=\"border: 1px solid white;\">Iris-setosa</td><td style=\"border: 1px solid white;\">0.20</td><td style=\"border: 1px solid white;\">1.60</td><td style=\"border: 1px solid white;\">3.20</td></tr><tr style=\"{border: 1px solid white;}\"><td style=\"border-bottom: 1px solid #DDD;font-size:1.02em;background-color:#214579;color:white\"><b>2</b></td><td style=\"border: 1px solid white;\">True</td><td style=\"border: 1px solid white;\">4.80</td><td style=\"border: 1px solid white;\">Iris-setosa</td><td style=\"border: 1px solid white;\">0.20</td><td style=\"border: 1px solid white;\">1.60</td><td style=\"border: 1px solid white;\">3.10</td></tr><tr style=\"{border: 1px solid white;}\"><td style=\"border-bottom: 1px solid #DDD;font-size:1.02em;background-color:#214579;color:white\"><b>3</b></td><td style=\"border: 1px solid white;\">True</td><td style=\"border: 1px solid white;\">4.90</td><td style=\"border: 1px solid white;\">Iris-versicolor</td><td style=\"border: 1px solid white;\">1.00</td><td style=\"border: 1px solid white;\">3.30</td><td style=\"border: 1px solid white;\">2.40</td></tr><tr style=\"{border: 1px solid white;}\"><td style=\"border-bottom: 1px solid #DDD;font-size:1.02em;background-color:#214579;color:white\"><b>4</b></td><td style=\"border: 1px solid white;\">True</td><td style=\"border: 1px solid white;\">4.90</td><td style=\"border: 1px solid white;\">Iris-virginica</td><td style=\"border: 1px solid white;\">1.70</td><td style=\"border: 1px solid white;\">4.50</td><td style=\"border: 1px solid white;\">2.50</td></tr><tr><td style=\"border-top: 1px solid white;background-color:#214579;color:white\"></td><td style=\"border: 1px solid white;\">...</td><td style=\"border: 1px solid white;\">...</td><td style=\"border: 1px solid white;\">...</td><td style=\"border: 1px solid white;\">...</td><td style=\"border: 1px solid white;\">...</td><td style=\"border: 1px solid white;\">...</td></tr></table>"
      ],
      "text/plain": [
       "<IPython.core.display.HTML object>"
      ]
     },
     "metadata": {},
     "output_type": "display_data"
    },
    {
     "data": {
      "text/plain": [
       "<object>  Name: VERTICA_ML_PYTHON_SPLIT_iris_33_TEST, Number of rows: 40, Number of columns: 6"
      ]
     },
     "execution_count": 12,
     "metadata": {},
     "output_type": "execute_result"
    }
   ],
   "source": [
    "from vertica_ml_python import vDataFrame\n",
    "vDataFrame('\"public\".VERTICA_ML_PYTHON_SPLIT_iris_33_TEST')"
   ]
  }
 ],
 "metadata": {
  "kernelspec": {
   "display_name": "Python 3",
   "language": "python",
   "name": "python3"
  },
  "language_info": {
   "codemirror_mode": {
    "name": "ipython",
    "version": 3
   },
   "file_extension": ".py",
   "mimetype": "text/x-python",
   "name": "python",
   "nbconvert_exporter": "python",
   "pygments_lexer": "ipython3",
   "version": "3.6.3"
  }
 },
 "nbformat": 4,
 "nbformat_minor": 2
}
