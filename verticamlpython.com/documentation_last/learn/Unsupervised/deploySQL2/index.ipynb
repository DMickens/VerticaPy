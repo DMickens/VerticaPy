{
 "cells": [
  {
   "cell_type": "markdown",
   "metadata": {},
   "source": [
    "# unsupervised.deploySQL"
   ]
  },
  {
   "cell_type": "code",
   "execution_count": null,
   "metadata": {},
   "outputs": [],
   "source": [
    "unsupervised.deploySQL(n_components: int = 0, \n",
    "                       cutoff: float = 1, \n",
    "                       key_columns: list = [])"
   ]
  },
  {
   "cell_type": "markdown",
   "metadata": {},
   "source": [
    "Returns the SQL code needed to deploy the model. \n",
    "\n",
    "### Parameters\n",
    "\n",
    "<table id=\"parameters\">\n",
    "    <tr> <th>Name</th> <th>Type</th> <th>Optional</th> <th>Description</th> </tr>\n",
    "    <tr> <td><div class=\"param_name\">n_components</div></td> <td><div class=\"type\">int</div></td> <td><div class = \"yes\">&#10003;</div></td> <td>Number of singular value to return. If set to 0, all the components will be deployed.</td> </tr>\n",
    "    <tr> <td><div class=\"param_name\">cutoff</div></td> <td><div class=\"type\">float</div></td> <td><div class = \"yes\">&#10003;</div></td> <td>Specifies the minimum accumulated explained variance. Components are taken until the accumulated explained variance reaches this value.</td> </tr>\n",
    "    <tr> <td><div class=\"param_name\">key_columns</div></td> <td><div class=\"type\">list</div></td> <td><div class = \"yes\">&#10003;</div></td> <td>Predictors used during the algorithm computation which will be deployed with the singular values.</td> </tr>\n",
    "</table>\n",
    "\n",
    "### Returns\n",
    "\n",
    "<b>str / list</b> : the SQL code needed to deploy the model."
   ]
  },
  {
   "cell_type": "markdown",
   "metadata": {},
   "source": [
    "### Example"
   ]
  },
  {
   "cell_type": "code",
   "execution_count": 5,
   "metadata": {
    "scrolled": false
   },
   "outputs": [
    {
     "name": "stdout",
     "output_type": "stream",
     "text": [
      "APPLY_PCA(\"PetalLengthCm\", \"SepalLengthCm\", \"SepalWidthCm\" USING PARAMETERS model_name = 'public.pca_iris', match_by_pos = 'true', num_components = 2)\n"
     ]
    }
   ],
   "source": [
    "from vertica_ml_python.learn.decomposition import PCA\n",
    "model = PCA(name = \"public.pca_iris\")\n",
    "model.fit(\"public.iris\", [\"PetalLengthCm\", \"SepalLengthCm\", \"SepalWidthCm\"])\n",
    "# deploySQL Using Number of components\n",
    "print(model.deploySQL(n_components = 2))"
   ]
  },
  {
   "cell_type": "code",
   "execution_count": 7,
   "metadata": {},
   "outputs": [
    {
     "name": "stdout",
     "output_type": "stream",
     "text": [
      "APPLY_PCA(\"PetalLengthCm\", \"SepalLengthCm\", \"SepalWidthCm\" USING PARAMETERS model_name = 'public.pca_iris', match_by_pos = 'true', key_columns = '\"PetalLengthCm\", \"SepalLengthCm\"', num_components = 2)\n"
     ]
    }
   ],
   "source": [
    "# deploySQL Using Number of components & Key Columns\n",
    "print(model.deploySQL(n_components = 2, key_columns = [\"PetalLengthCm\", \"SepalLengthCm\"]))"
   ]
  }
 ],
 "metadata": {
  "kernelspec": {
   "display_name": "Python 3",
   "language": "python",
   "name": "python3"
  },
  "language_info": {
   "codemirror_mode": {
    "name": "ipython",
    "version": 3
   },
   "file_extension": ".py",
   "mimetype": "text/x-python",
   "name": "python",
   "nbconvert_exporter": "python",
   "pygments_lexer": "ipython3",
   "version": "3.6.3"
  }
 },
 "nbformat": 4,
 "nbformat_minor": 2
}
