{
 "cells": [
  {
   "cell_type": "markdown",
   "metadata": {},
   "source": [
    "# unsupervised.fit"
   ]
  },
  {
   "cell_type": "code",
   "execution_count": null,
   "metadata": {},
   "outputs": [],
   "source": [
    "unsupervised.fit(input_relation: str,\n",
    "                 X: list)"
   ]
  },
  {
   "cell_type": "markdown",
   "metadata": {},
   "source": [
    "Trains the model.\n",
    "\n",
    "### Parameters\n",
    "\n",
    "<table id=\"parameters\">\n",
    "    <tr> <th>Name</th> <th>Type</th> <th>Optional</th> <th>Description</th> </tr>\n",
    "    <tr> <td><div class=\"param_name\">input_relation</div></td> <td><div class=\"type\">str</div></td> <td><div class = \"no\">&#10060;</div></td> <td>Train relation.</td> </tr>\n",
    "    <tr> <td><div class=\"param_name\">X</div></td> <td><div class=\"type\">list</div></td> <td><div class = \"no\">&#10060;</div></td> <td>List of the predictors.</td> </tr>\n",
    "</table>\n",
    "\n",
    "### Returns\n",
    "\n",
    "<b>object</b> : self"
   ]
  },
  {
   "cell_type": "markdown",
   "metadata": {},
   "source": [
    "### Example"
   ]
  },
  {
   "cell_type": "code",
   "execution_count": 9,
   "metadata": {
    "scrolled": false
   },
   "outputs": [
    {
     "data": {
      "text/plain": [
       "\n",
       "\n",
       "=======\n",
       "centers\n",
       "=======\n",
       "petallengthcm|sepallengthcm\n",
       "-------------+-------------\n",
       "   4.39310   |   5.87414   \n",
       "   1.49412   |   5.00784   \n",
       "   5.67805   |   6.83902   \n",
       "\n",
       "\n",
       "=======\n",
       "metrics\n",
       "=======\n",
       "Evaluation metrics:\n",
       "     Total Sum of Squares: 566.03207\n",
       "     Within-Cluster Sum of Squares: \n",
       "         Cluster 0: 23.508448\n",
       "         Cluster 1: 9.885098\n",
       "         Cluster 2: 20.407805\n",
       "     Total Within-Cluster Sum of Squares: 53.801351\n",
       "     Between-Cluster Sum of Squares: 512.23072\n",
       "     Between-Cluster SS / Total SS: 90.49%\n",
       " Number of iterations performed: 5\n",
       " Converged: True\n",
       " Call:\n",
       "kmeans('public.KMeans_iris', 'public.iris', '\"PetalLengthCm\", \"SepalLengthCm\"', 3\n",
       "USING PARAMETERS max_iterations=300, epsilon=0.0001, init_method='kmeanspp', distance_method='euclidean')"
      ]
     },
     "execution_count": 9,
     "metadata": {},
     "output_type": "execute_result"
    }
   ],
   "source": [
    "from vertica_ml_python.learn.cluster import KMeans\n",
    "model = KMeans(name = \"public.KMeans_iris\",\n",
    "               n_cluster = 3)\n",
    "model.fit(\"public.iris\", [\"PetalLengthCm\", \"SepalLengthCm\"])"
   ]
  }
 ],
 "metadata": {
  "kernelspec": {
   "display_name": "Python 3",
   "language": "python",
   "name": "python3"
  },
  "language_info": {
   "codemirror_mode": {
    "name": "ipython",
    "version": 3
   },
   "file_extension": ".py",
   "mimetype": "text/x-python",
   "name": "python",
   "nbconvert_exporter": "python",
   "pygments_lexer": "ipython3",
   "version": "3.6.3"
  }
 },
 "nbformat": 4,
 "nbformat_minor": 2
}
