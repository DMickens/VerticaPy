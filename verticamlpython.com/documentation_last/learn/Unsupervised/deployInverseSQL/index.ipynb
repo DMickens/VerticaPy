{
 "cells": [
  {
   "cell_type": "markdown",
   "metadata": {},
   "source": [
    "# unsupervised.deployInverseSQL"
   ]
  },
  {
   "cell_type": "code",
   "execution_count": null,
   "metadata": {},
   "outputs": [],
   "source": [
    "unsupervised.deployInverseSQL(key_columns: list = [])"
   ]
  },
  {
   "cell_type": "markdown",
   "metadata": {},
   "source": [
    "Returns the SQL code needed to deploy the inverse model.\n",
    "\n",
    "### Parameters\n",
    "\n",
    "<table id=\"parameters\">\n",
    "    <tr> <th>Name</th> <th>Type</th> <th>Optional</th> <th>Description</th> </tr>\n",
    "    <tr> <td><div class=\"param_name\">key_columns</div></td> <td><div class=\"type\">list</div></td> <td><div class = \"yes\">&#10003;</div></td> <td>Predictors used during the algorithm computation which will be deployed with the singular values.</td> </tr>\n",
    "</table>\n",
    "\n",
    "### Returns\n",
    "\n",
    "<b>str / list</b> : the SQL code needed to deploy the inverse model."
   ]
  },
  {
   "cell_type": "markdown",
   "metadata": {},
   "source": [
    "### Example"
   ]
  },
  {
   "cell_type": "code",
   "execution_count": 8,
   "metadata": {
    "scrolled": false
   },
   "outputs": [
    {
     "name": "stdout",
     "output_type": "stream",
     "text": [
      "APPLY_INVERSE_PCA(\"PetalLengthCm\", \"SepalLengthCm\", \"SepalWidthCm\" USING PARAMETERS model_name = 'public.pca_iris', match_by_pos = 'true')\n"
     ]
    }
   ],
   "source": [
    "from vertica_ml_python.learn.decomposition import PCA\n",
    "model = PCA(name = \"public.pca_iris\")\n",
    "model.fit(\"public.iris\", [\"PetalLengthCm\", \"SepalLengthCm\", \"SepalWidthCm\"])\n",
    "print(model.deployInverseSQL())"
   ]
  }
 ],
 "metadata": {
  "kernelspec": {
   "display_name": "Python 3",
   "language": "python",
   "name": "python3"
  },
  "language_info": {
   "codemirror_mode": {
    "name": "ipython",
    "version": 3
   },
   "file_extension": ".py",
   "mimetype": "text/x-python",
   "name": "python",
   "nbconvert_exporter": "python",
   "pygments_lexer": "ipython3",
   "version": "3.6.3"
  }
 },
 "nbformat": 4,
 "nbformat_minor": 2
}
