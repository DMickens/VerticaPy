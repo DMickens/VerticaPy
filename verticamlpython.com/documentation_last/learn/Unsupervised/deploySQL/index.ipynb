{
 "cells": [
  {
   "cell_type": "markdown",
   "metadata": {},
   "source": [
    "# unsupervised.deploySQL"
   ]
  },
  {
   "cell_type": "code",
   "execution_count": null,
   "metadata": {},
   "outputs": [],
   "source": [
    "unsupervised.deploySQL()"
   ]
  },
  {
   "cell_type": "markdown",
   "metadata": {},
   "source": [
    "Returns the SQL code needed to deploy the model.\n",
    "\n",
    "### Returns\n",
    "\n",
    "<b>str</b> : the SQL code needed to deploy the model."
   ]
  },
  {
   "cell_type": "markdown",
   "metadata": {},
   "source": [
    "### Example"
   ]
  },
  {
   "cell_type": "code",
   "execution_count": 22,
   "metadata": {
    "scrolled": false
   },
   "outputs": [
    {
     "name": "stdout",
     "output_type": "stream",
     "text": [
      "APPLY_KMEANS(\"PetalLengthCm\", \"SepalLengthCm\" USING PARAMETERS model_name = 'public.KMeans_iris', match_by_pos = 'true')\n"
     ]
    }
   ],
   "source": [
    "from vertica_ml_python.learn.cluster import KMeans\n",
    "model = KMeans(name = \"public.KMeans_iris\",\n",
    "               n_cluster = 3)\n",
    "model.fit(\"public.iris\", [\"PetalLengthCm\", \"SepalLengthCm\"])\n",
    "print(model.deploySQL())"
   ]
  }
 ],
 "metadata": {
  "kernelspec": {
   "display_name": "Python 3",
   "language": "python",
   "name": "python3"
  },
  "language_info": {
   "codemirror_mode": {
    "name": "ipython",
    "version": 3
   },
   "file_extension": ".py",
   "mimetype": "text/x-python",
   "name": "python",
   "nbconvert_exporter": "python",
   "pygments_lexer": "ipython3",
   "version": "3.6.3"
  }
 },
 "nbformat": 4,
 "nbformat_minor": 2
}
