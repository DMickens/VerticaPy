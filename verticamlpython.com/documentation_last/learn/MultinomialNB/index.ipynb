{
 "cells": [
  {
   "cell_type": "markdown",
   "metadata": {},
   "source": [
    "# MultinomialNB"
   ]
  },
  {
   "cell_type": "code",
   "execution_count": null,
   "metadata": {},
   "outputs": [],
   "source": [
    "MultinomialNB(name: str,\n",
    "              cursor = None,\n",
    "              alpha: float = 1.0)"
   ]
  },
  {
   "cell_type": "markdown",
   "metadata": {},
   "source": [
    "Creates a MultinomialNB object by using the Vertica Highly Distributed and Scalable Naive Bayes on the data. It is a \"probabilistic classifiers\" based on applying Bayes theorem with strong (naïve) independence assumptions between the features.  \n",
    "\n",
    "### Parameters\n",
    "\n",
    "<table id=\"parameters\">\n",
    "    <tr> <th>Name</th> <th>Type</th> <th>Optional</th> <th>Description</th> </tr>\n",
    "    <tr> <td><div class=\"param_name\">name</div></td> <td><div class=\"type\">str</div></td> <td><div class = \"no\">&#10060;</div></td> <td>Name of the model to be stored in the DB.</td> </tr>\n",
    "    <tr> <td><div class=\"param_name\">cursor</div></td> <td><div class=\"type\">DBcursor</div></td> <td><div class = \"yes\">&#10003;</div></td> <td>Vertica DB cursor.</td> </tr>\n",
    "    <tr> <td><div class=\"param_name\">alpha</div></td> <td><div class=\"type\">float</div></td> <td><div class = \"yes\">&#10003;</div></td> <td>A float that specifies use of Laplace smoothing if the event model is categorical, multinomial, or Bernoulli.</td> </tr>\n",
    "</table>\n",
    "\n",
    "### Attributes\n",
    "\n",
    "After the object creation, all the parameters become attributes. The model will also create extra attributes when fitting the model:\n",
    "\n",
    "<table id=\"parameters\">\n",
    "    <tr> <th>Name</th> <th>Type</th>  <th>Description</th> </tr>\n",
    "    <tr> <td><div class=\"param_name\">classes</div></td> <td><div class=\"type\">list</div></td> <td>List of all the response classes.</td> </tr>\n",
    "    <tr> <td><div class=\"param_name\">input_relation</div></td> <td><div class=\"type\">str</div></td> <td>Train relation.</td> </tr>\n",
    "    <tr> <td><div class=\"param_name\">X</div></td> <td><div class=\"type\">list</div></td> <td>List of the predictors.</td> </tr>\n",
    "    <tr> <td><div class=\"param_name\">y</div></td> <td><div class=\"type\">str</div></td> <td>Response column.</td> </tr>\n",
    "    <tr> <td><div class=\"param_name\">test_relation</div></td> <td><div class=\"type\">float</div></td> <td>Relation used to test the model. All the model methods are abstractions which will simplify the process. The test relation will be used by many methods to evaluate the model. If empty, the train relation will be used as test. You can change it anytime by changing the test_relation attribute of the object.</td> </tr>\n",
    "</table>\n",
    "\n",
    "### Methods\n",
    "\n",
    "<table id=\"parameters\">\n",
    "    <tr> <th>Name</th> <th>Description</th> </tr>\n",
    "    <tr> <td><a href=\"../Classification/classification_report\">classification_report</a></td> <td>Computes a classification report using multiple metrics to evaluate the model (AUC, accuracy, PRC AUC, F1...). In case of multiclass classification, it will consider each category as positive and switch to the next one during the computation.</td> </tr>\n",
    "    <tr> <td><a href=\"../Classification/confusion_matrix\">confusion_matrix</a></td> <td>Computes the model confusion matrix.</td> </tr>\n",
    "    <tr> <td><a href=\"../Classification/deploySQL\">deploySQL</a></td> <td>Returns the SQL code needed to deploy the model.</td> </tr>\n",
    "    <tr> <td><a href=\"../Classification/drop\">drop</a></td> <td>Drops the model from the Vertica DB.</td> </tr>\n",
    "    <tr> <td><a href=\"../Classification/fit\">fit</a></td> <td>Trains the model.</td> </tr>\n",
    "    <tr> <td><a href=\"../Classification/lift_chart\">lift_chart</a></td> <td>Draws the model Lift Chart.</td> </tr>\n",
    "    <tr> <td><a href=\"../Classification/prc_curve\">prc_curve</a></td> <td>Draws the model precision-recall curve.</td> </tr>\n",
    "    <tr> <td><a href=\"../Classification/predict\">predict</a></td> <td>Predicts using the input relation.</td> </tr>\n",
    "    <tr> <td><a href=\"../Classification/roc_curve\">roc_curve</a></td> <td>Draws the model ROC curve.</td> </tr>\n",
    "    <tr> <td><a href=\"../Classification/score\">score</a></td> <td>Computes the model score.</td> </tr>\n",
    "    \n",
    "</table>"
   ]
  },
  {
   "cell_type": "markdown",
   "metadata": {},
   "source": [
    "### Example"
   ]
  },
  {
   "cell_type": "code",
   "execution_count": 1,
   "metadata": {},
   "outputs": [
    {
     "name": "stdout",
     "output_type": "stream",
     "text": [
      "<MultinomialNB>\n"
     ]
    }
   ],
   "source": [
    "from vertica_ml_python.learn.naive_bayes import MultinomialNB\n",
    "model = MultinomialNB(name = \"public.nb_titanic\", alpha = 1.0)\n",
    "print(model)"
   ]
  }
 ],
 "metadata": {
  "kernelspec": {
   "display_name": "Python 3",
   "language": "python",
   "name": "python3"
  },
  "language_info": {
   "codemirror_mode": {
    "name": "ipython",
    "version": 3
   },
   "file_extension": ".py",
   "mimetype": "text/x-python",
   "name": "python",
   "nbconvert_exporter": "python",
   "pygments_lexer": "ipython3",
   "version": "3.6.3"
  }
 },
 "nbformat": 4,
 "nbformat_minor": 2
}
