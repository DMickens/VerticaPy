{
 "cells": [
  {
   "cell_type": "markdown",
   "metadata": {},
   "source": [
    "# KMeans"
   ]
  },
  {
   "cell_type": "code",
   "execution_count": null,
   "metadata": {},
   "outputs": [],
   "source": [
    "KMeans(name: str,\n",
    "       cursor = None,\n",
    "       n_cluster: int = 8,\n",
    "       init: str = \"kmeanspp\",\n",
    "       max_iter: int = 300,\n",
    "       tol: float = 1e-4)"
   ]
  },
  {
   "cell_type": "markdown",
   "metadata": {},
   "source": [
    "Creates a KMeans object by using the Vertica Highly Distributed and Scalable KMeans on the data. K-means clustering is a method of vector quantization, originally from signal processing, that aims to partition n observations into k clusters in which each observation belongs to the cluster with the nearest mean (cluster centers or cluster centroid), serving as a prototype of the cluster. This results in a partitioning of the data space into Voronoi cells. \n",
    "\n",
    "### Parameters\n",
    "\n",
    "<table id=\"parameters\">\n",
    "    <tr> <th>Name</th> <th>Type</th> <th>Optional</th> <th>Description</th> </tr>\n",
    "    <tr> <td><div class=\"param_name\">name</div></td> <td><div class=\"type\">str</div></td> <td><div class = \"no\">&#10060;</div></td> <td>Name of the the model. The model will be stored in the DB.</td> </tr>\n",
    "    <tr> <td><div class=\"param_name\">cursor</div></td> <td><div class=\"type\">DBcursor</div></td> <td><div class = \"yes\">&#10003;</div></td> <td>Vertica DB cursor.</td> </tr>\n",
    "    <tr> <td><div class=\"param_name\">n_cluster</div></td> <td><div class=\"type\">int</div></td> <td><div class = \"yes\">&#10003;</div></td> <td>Number of clusters</td> </tr>\n",
    "    <tr> <td><div class=\"param_name\">init</div></td> <td><div class=\"type\">str / list</div></td> <td><div class = \"yes\">&#10003;</div></td> <td>The method used to find the initial cluster centers. <br> <ul><li><b>kmeanspp</b> : Uses the KMeans++ method to initialize the centers.</li><li><b>random</b> : The initial centers.</li></ul>It can be also a list with the initial cluster centers to use.</td> </tr>\n",
    "    <tr> <td><div class=\"param_name\">max_iter</div></td> <td><div class=\"type\">int</div></td> <td><div class = \"yes\">&#10003;</div></td> <td>The maximum number of iterations the algorithm performs.</td> </tr>\n",
    "    <tr> <td><div class=\"param_name\">tol</div></td> <td><div class=\"type\">float</div></td> <td><div class = \"yes\">&#10003;</div></td> <td>Determines whether the algorithm has converged. The algorithm is considered converged after no center has moved more than a distance of 'tol' from the previous iteration. </td> </tr>\n",
    "</table>\n",
    "\n",
    "### Attributes\n",
    "\n",
    "After the object creation, all the parameters become attributes. The model will also create extra attributes when fitting the model:\n",
    "\n",
    "<table id=\"parameters\">\n",
    "    <tr> <th>Name</th> <th>Type</th>  <th>Description</th> </tr>\n",
    "    <tr> <td><div class=\"param_name\">cluster_centers</div></td> <td><div class=\"type\">tablesample</div></td> <td>Clusters result of the algorithm.</td> </tr>\n",
    "    <tr> <td><div class=\"param_name\">metrics</div></td> <td><div class=\"type\">tablesample</div></td> <td>Different metrics to evaluate the model.</td> </tr>\n",
    "    <tr> <td><div class=\"param_name\">input_relation</div></td> <td><div class=\"type\">str</div></td> <td>Train relation.</td> </tr>\n",
    "    <tr> <td><div class=\"param_name\">X</div></td> <td><div class=\"type\">list</div></td> <td>List of the predictors.</td> </tr>\n",
    "</table>\n",
    "\n",
    "### Methods\n",
    "\n",
    "<table id=\"parameters\">\n",
    "    <tr> <th>Name</th> <th>Description</th> </tr>\n",
    "    <tr> <td><a href=\"../Unsupervised/deploySQL\">deploySQL</a></td> <td>Returns the SQL code needed to deploy the model.</td> </tr>\n",
    "    <tr> <td><a href=\"../Unsupervised/drop\">drop</a></td> <td>Drops the model from the Vertica DB.</td> </tr>\n",
    "    <tr> <td><a href=\"../Unsupervised/fit\">fit</a></td> <td>Trains the model.</td> </tr>\n",
    "    <tr> <td><a href=\"../Unsupervised/plot\">plot</a></td> <td>Draws the k-means clusters.</td> </tr>\n",
    "    <tr> <td><a href=\"../Unsupervised/predict\">predict</a></td> <td>Adds the prediction in a vDataFrame.</td> </tr>\n",
    "</table>"
   ]
  },
  {
   "cell_type": "markdown",
   "metadata": {},
   "source": [
    "### Example"
   ]
  },
  {
   "cell_type": "code",
   "execution_count": 4,
   "metadata": {},
   "outputs": [
    {
     "name": "stdout",
     "output_type": "stream",
     "text": [
      "<KMeans>\n"
     ]
    }
   ],
   "source": [
    "from vertica_ml_python.learn.cluster import KMeans\n",
    "model = KMeans(name = \"public.kmeans_iris\",\n",
    "               n_cluster = 8,\n",
    "               init = \"kmeanspp\",\n",
    "               max_iter = 300,\n",
    "               tol = 1e-4)\n",
    "print(model)"
   ]
  }
 ],
 "metadata": {
  "kernelspec": {
   "display_name": "Python 3",
   "language": "python",
   "name": "python3"
  },
  "language_info": {
   "codemirror_mode": {
    "name": "ipython",
    "version": 3
   },
   "file_extension": ".py",
   "mimetype": "text/x-python",
   "name": "python",
   "nbconvert_exporter": "python",
   "pygments_lexer": "ipython3",
   "version": "3.6.3"
  }
 },
 "nbformat": 4,
 "nbformat_minor": 2
}
