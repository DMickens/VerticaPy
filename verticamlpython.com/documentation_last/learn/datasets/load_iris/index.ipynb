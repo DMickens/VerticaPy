{
 "cells": [
  {
   "cell_type": "markdown",
   "metadata": {},
   "source": [
    "# load_iris"
   ]
  },
  {
   "cell_type": "code",
   "execution_count": null,
   "metadata": {},
   "outputs": [],
   "source": [
    "load_iris(cursor = None, \n",
    "          schema: str = 'public',\n",
    "          name: str = 'iris')"
   ]
  },
  {
   "cell_type": "markdown",
   "metadata": {},
   "source": [
    "Ingests the Iris dataset in the Vertica DB (Dataset ideal for Classification and Clustering). If a table with the same name and schema already exists, this function will create a vDataFrame from the input relation.\n",
    "\n",
    "### Parameters\n",
    "\n",
    "<table id=\"parameters\">\n",
    "    <tr> <th>Name</th> <th>Type</th> <th>Optional</th> <th>Description</th> </tr>\n",
    "    <tr> <td><div class=\"param_name\">cursor</div></td> <td><div class=\"type\">DBcursor</div></td> <td><div class = \"yes\">&#10003;</div></td> <td>Vertica DB cursor.</td> </tr>\n",
    "    <tr> <td><div class=\"param_name\">schema</div></td> <td><div class=\"type\">str</div></td> <td><div class = \"yes\">&#10003;</div></td> <td>Schema of the new relation. The default schema is public.</td> </tr>\n",
    "    <tr> <td><div class=\"param_name\">name</div></td> <td><div class=\"type\">str</div></td> <td><div class = \"yes\">&#10003;</div></td> <td>Name of the new relation.</td> </tr>\n",
    "</table>\n",
    "\n",
    "### Returns\n",
    "\n",
    "<b>vDataFrame</b> : the Iris vDataFrame."
   ]
  },
  {
   "cell_type": "markdown",
   "metadata": {},
   "source": [
    "### Example"
   ]
  },
  {
   "cell_type": "code",
   "execution_count": 3,
   "metadata": {},
   "outputs": [
    {
     "data": {
      "text/html": [
       "<table style=\"border-collapse: collapse; border: 2px solid white\"><tr style=\"{border: 1px solid white;}\"><td style=\"border-bottom: 1px solid #DDD;font-size:1.02em;background-color:#214579;color:white\"><b></b></td><td style=\"font-size:1.02em;background-color:#214579;color:white\"><b>SepalLengthCm</b></td><td style=\"font-size:1.02em;background-color:#214579;color:white\"><b>Species</b></td><td style=\"font-size:1.02em;background-color:#214579;color:white\"><b>PetalWidthCm</b></td><td style=\"font-size:1.02em;background-color:#214579;color:white\"><b>PetalLengthCm</b></td><td style=\"font-size:1.02em;background-color:#214579;color:white\"><b>SepalWidthCm</b></td></tr><tr style=\"{border: 1px solid white;}\"><td style=\"border-bottom: 1px solid #DDD;font-size:1.02em;background-color:#214579;color:white\"><b>0</b></td><td style=\"border: 1px solid white;\">4.30</td><td style=\"border: 1px solid white;\">Iris-setosa</td><td style=\"border: 1px solid white;\">0.10</td><td style=\"border: 1px solid white;\">1.10</td><td style=\"border: 1px solid white;\">3.00</td></tr><tr style=\"{border: 1px solid white;}\"><td style=\"border-bottom: 1px solid #DDD;font-size:1.02em;background-color:#214579;color:white\"><b>1</b></td><td style=\"border: 1px solid white;\">4.40</td><td style=\"border: 1px solid white;\">Iris-setosa</td><td style=\"border: 1px solid white;\">0.20</td><td style=\"border: 1px solid white;\">1.40</td><td style=\"border: 1px solid white;\">2.90</td></tr><tr style=\"{border: 1px solid white;}\"><td style=\"border-bottom: 1px solid #DDD;font-size:1.02em;background-color:#214579;color:white\"><b>2</b></td><td style=\"border: 1px solid white;\">4.40</td><td style=\"border: 1px solid white;\">Iris-setosa</td><td style=\"border: 1px solid white;\">0.20</td><td style=\"border: 1px solid white;\">1.30</td><td style=\"border: 1px solid white;\">3.00</td></tr><tr style=\"{border: 1px solid white;}\"><td style=\"border-bottom: 1px solid #DDD;font-size:1.02em;background-color:#214579;color:white\"><b>3</b></td><td style=\"border: 1px solid white;\">4.40</td><td style=\"border: 1px solid white;\">Iris-setosa</td><td style=\"border: 1px solid white;\">0.20</td><td style=\"border: 1px solid white;\">1.30</td><td style=\"border: 1px solid white;\">3.20</td></tr><tr style=\"{border: 1px solid white;}\"><td style=\"border-bottom: 1px solid #DDD;font-size:1.02em;background-color:#214579;color:white\"><b>4</b></td><td style=\"border: 1px solid white;\">4.50</td><td style=\"border: 1px solid white;\">Iris-setosa</td><td style=\"border: 1px solid white;\">0.30</td><td style=\"border: 1px solid white;\">1.30</td><td style=\"border: 1px solid white;\">2.30</td></tr><tr><td style=\"border-top: 1px solid white;background-color:#214579;color:white\"></td><td style=\"border: 1px solid white;\">...</td><td style=\"border: 1px solid white;\">...</td><td style=\"border: 1px solid white;\">...</td><td style=\"border: 1px solid white;\">...</td><td style=\"border: 1px solid white;\">...</td></tr></table>"
      ],
      "text/plain": [
       "<IPython.core.display.HTML object>"
      ]
     },
     "metadata": {},
     "output_type": "display_data"
    },
    {
     "data": {
      "text/plain": [
       "<object>  Name: iris, Number of rows: 150, Number of columns: 5"
      ]
     },
     "execution_count": 3,
     "metadata": {},
     "output_type": "execute_result"
    }
   ],
   "source": [
    "from vertica_ml_python.learn.datasets import load_iris\n",
    "load_iris()"
   ]
  }
 ],
 "metadata": {
  "kernelspec": {
   "display_name": "Python 3",
   "language": "python",
   "name": "python3"
  },
  "language_info": {
   "codemirror_mode": {
    "name": "ipython",
    "version": 3
   },
   "file_extension": ".py",
   "mimetype": "text/x-python",
   "name": "python",
   "nbconvert_exporter": "python",
   "pygments_lexer": "ipython3",
   "version": "3.6.3"
  }
 },
 "nbformat": 4,
 "nbformat_minor": 2
}
