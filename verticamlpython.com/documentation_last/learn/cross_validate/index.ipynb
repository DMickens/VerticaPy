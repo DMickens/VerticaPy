{
 "cells": [
  {
   "cell_type": "markdown",
   "metadata": {},
   "source": [
    "# cross_validate"
   ]
  },
  {
   "cell_type": "code",
   "execution_count": null,
   "metadata": {},
   "outputs": [],
   "source": [
    "cross_validate(estimator, \n",
    "               input_relation: str, \n",
    "               X: list, \n",
    "               y: str, \n",
    "               cv: int = 3, \n",
    "               pos_label = None, \n",
    "               cutoff: float = -1)"
   ]
  },
  {
   "cell_type": "markdown",
   "metadata": {},
   "source": [
    "Computes the K-Fold cross validation of an estimator.\n",
    "\n",
    "### Parameters\n",
    "\n",
    "<table id=\"parameters\">\n",
    "    <tr> <th>Name</th> <th>Type</th> <th>Optional</th> <th>Description</th> </tr>\n",
    "    <tr> <td><div class=\"param_name\">estimator</div></td> <td><div class=\"type\">object</div></td> <td><div class = \"no\">&#10060;</div></td> <td>Vertica estimator having a fit method and a DB cursor.</td> </tr>\n",
    "    <tr> <td><div class=\"param_name\">input_relation</div></td> <td><div class=\"type\">str</div></td> <td><div class = \"no\">&#10060;</div></td> <td>Input Relation.</td> </tr>\n",
    "    <tr> <td><div class=\"param_name\">X</div></td> <td><div class=\"type\">list</div></td> <td><div class = \"no\">&#10060;</div></td> <td>List of the predictor columns.</td> </tr>\n",
    "    <tr> <td><div class=\"param_name\">y</div></td> <td><div class=\"type\">str</div></td> <td><div class = \"no\">&#10060;</div></td> <td>Response Column.</td> </tr>\n",
    "    <tr> <td><div class=\"param_name\">cv</div></td> <td><div class=\"type\">int</div></td> <td><div class = \"yes\">&#10003;</div></td> <td>Number of folds.</td> </tr>\n",
    "    <tr> <td><div class=\"param_name\">pos_label</div></td> <td><div class=\"type\">int / float / str</div></td> <td><div class = \"yes\">&#10003;</div></td> <td>The main class to be considered as positive (classification only).</td> </tr>\n",
    "    <tr> <td><div class=\"param_name\">cutoff</div></td> <td><div class=\"type\">float</div></td> <td><div class = \"yes\">&#10003;</div></td> <td>The model cutoff (classification only).</td> </tr>\n",
    "</table>\n",
    "\n",
    "### Returns\n",
    "\n",
    "<a href=\"../../utilities/tablesample\">tablesample</a> : An object containing the result. For more information, check out <a href=\"../../utilities/tablesample\">utilities.tablesample</a>."
   ]
  },
  {
   "cell_type": "markdown",
   "metadata": {},
   "source": [
    "### Example"
   ]
  },
  {
   "cell_type": "code",
   "execution_count": 1,
   "metadata": {},
   "outputs": [
    {
     "data": {
      "text/html": [
       "<table style=\"border-collapse: collapse; border: 2px solid white\"><tr style=\"{border: 1px solid white;}\"><td style=\"border-bottom: 1px solid #DDD;font-size:1.02em;background-color:#263133;color:white\"><b></b></td><td style=\"font-size:1.02em;background-color:#263133;color:white\"><b>auc</b></td><td style=\"font-size:1.02em;background-color:#263133;color:white\"><b>prc_auc</b></td><td style=\"font-size:1.02em;background-color:#263133;color:white\"><b>accuracy</b></td><td style=\"font-size:1.02em;background-color:#263133;color:white\"><b>log_loss</b></td><td style=\"font-size:1.02em;background-color:#263133;color:white\"><b>precision</b></td><td style=\"font-size:1.02em;background-color:#263133;color:white\"><b>recall</b></td><td style=\"font-size:1.02em;background-color:#263133;color:white\"><b>f1_score</b></td><td style=\"font-size:1.02em;background-color:#263133;color:white\"><b>mcc</b></td><td style=\"font-size:1.02em;background-color:#263133;color:white\"><b>informedness</b></td><td style=\"font-size:1.02em;background-color:#263133;color:white\"><b>markedness</b></td><td style=\"font-size:1.02em;background-color:#263133;color:white\"><b>csi</b></td></tr><tr style=\"{border: 1px solid white;}\"><td style=\"border-bottom: 1px solid #DDD;font-size:1.02em;background-color:#263133;color:white\"><b>1-fold</b></td><td style=\"border: 1px solid white;\">0.8351716885149669</td><td style=\"border: 1px solid white;\">0.6998249233793346</td><td style=\"border: 1px solid white;\">0.7695961995249406</td><td style=\"border: 1px solid white;\">0.260097154064988</td><td style=\"border: 1px solid white;\">0.9013157894736842</td><td style=\"border: 1px solid white;\">0.6255707762557078</td><td style=\"border: 1px solid white;\">0.7466157634750171</td><td style=\"border: 1px solid white;\">0.5734536450307397</td><td style=\"border: 1px solid white;\">0.5513133505131336</td><td style=\"border: 1px solid white;\">0.5964830757190374</td><td style=\"border: 1px solid white;\">0.5854700854700855</td></tr><tr style=\"{border: 1px solid white;}\"><td style=\"border-bottom: 1px solid #DDD;font-size:1.02em;background-color:#263133;color:white\"><b>2-fold</b></td><td style=\"border: 1px solid white;\">0.8178953322379943</td><td style=\"border: 1px solid white;\">0.6477620824819167</td><td style=\"border: 1px solid white;\">0.7622549019607843</td><td style=\"border: 1px solid white;\">0.267716301128923</td><td style=\"border: 1px solid white;\">0.8540145985401459</td><td style=\"border: 1px solid white;\">0.6030927835051546</td><td style=\"border: 1px solid white;\">0.7243194945272362</td><td style=\"border: 1px solid white;\">0.5389170603312952</td><td style=\"border: 1px solid white;\">0.5096348395799208</td><td style=\"border: 1px solid white;\">0.5698817572117325</td><td style=\"border: 1px solid white;\">0.5467289719626168</td></tr><tr style=\"{border: 1px solid white;}\"><td style=\"border-bottom: 1px solid #DDD;font-size:1.02em;background-color:#263133;color:white\"><b>3-fold</b></td><td style=\"border: 1px solid white;\">0.8569255936405695</td><td style=\"border: 1px solid white;\">0.7364034561270908</td><td style=\"border: 1px solid white;\">0.7970297029702971</td><td style=\"border: 1px solid white;\">0.259948917187969</td><td style=\"border: 1px solid white;\">0.9565217391304348</td><td style=\"border: 1px solid white;\">0.6724890829694323</td><td style=\"border: 1px solid white;\">0.7909265996148085</td><td style=\"border: 1px solid white;\">0.6401381707835412</td><td style=\"border: 1px solid white;\">0.6324890829694323</td><td style=\"border: 1px solid white;\">0.6478797638217928</td><td style=\"border: 1px solid white;\">0.652542372881356</td></tr><tr style=\"{border: 1px solid white;}\"><td style=\"border-bottom: 1px solid #DDD;font-size:1.02em;background-color:#263133;color:white\"><b>avg</b></td><td style=\"border: 1px solid white;\">0.8366642047978435</td><td style=\"border: 1px solid white;\">0.6946634873294474</td><td style=\"border: 1px solid white;\">0.7762936014853407</td><td style=\"border: 1px solid white;\">0.26258745746062667</td><td style=\"border: 1px solid white;\">0.9039507090480883</td><td style=\"border: 1px solid white;\">0.6337175475767649</td><td style=\"border: 1px solid white;\">0.7539539525390206</td><td style=\"border: 1px solid white;\">0.5841696253818587</td><td style=\"border: 1px solid white;\">0.5644790910208289</td><td style=\"border: 1px solid white;\">0.6047481989175209</td><td style=\"border: 1px solid white;\">0.5949138101046861</td></tr><tr style=\"{border: 1px solid white;}\"><td style=\"border-bottom: 1px solid #DDD;font-size:1.02em;background-color:#263133;color:white\"><b>std</b></td><td style=\"border: 1px solid white;\">0.019557889199229246</td><td style=\"border: 1px solid white;\">0.0445455227491905</td><td style=\"border: 1px solid white;\">0.018329295978765273</td><td style=\"border: 1px solid white;\">0.004442327269944722</td><td style=\"border: 1px solid white;\">0.05130434259272791</td><td style=\"border: 1px solid white;\">0.03540817712128269</td><td style=\"border: 1px solid white;\">0.03390447427834591</td><td style=\"border: 1px solid white;\">0.05145437276326108</td><td style=\"border: 1px solid white;\">0.06247634610025867</td><td style=\"border: 1px solid white;\">0.0396504281805422</td><td style=\"border: 1px solid white;\">0.053535099745195935</td></tr></table>"
      ],
      "text/plain": [
       "<IPython.core.display.HTML object>"
      ]
     },
     "metadata": {},
     "output_type": "display_data"
    },
    {
     "data": {
      "text/plain": [
       "<object>"
      ]
     },
     "execution_count": 1,
     "metadata": {},
     "output_type": "execute_result"
    }
   ],
   "source": [
    "from vertica_ml_python.learn.linear_model import LogisticRegression\n",
    "model = LogisticRegression(name = \"public.LR_titanic\",\n",
    "                           tol = 1e-4, \n",
    "                           C = 1.0, \n",
    "                           max_iter = 100, \n",
    "                           solver = 'CGD',\n",
    "                           l1_ratio = 0.5)\n",
    "\n",
    "from vertica_ml_python.learn.model_selection import cross_validate\n",
    "cross_validate(model, \n",
    "               input_relation = \"public.titanic_clean\", \n",
    "               X = [\"age\", \"fare\", \"parch\", \"sex\", \"boat\"], \n",
    "               y = \"survived\", \n",
    "               cv = 3)"
   ]
  }
 ],
 "metadata": {
  "kernelspec": {
   "display_name": "Python 3",
   "language": "python",
   "name": "python3"
  },
  "language_info": {
   "codemirror_mode": {
    "name": "ipython",
    "version": 3
   },
   "file_extension": ".py",
   "mimetype": "text/x-python",
   "name": "python",
   "nbconvert_exporter": "python",
   "pygments_lexer": "ipython3",
   "version": "3.6.3"
  }
 },
 "nbformat": 4,
 "nbformat_minor": 2
}
