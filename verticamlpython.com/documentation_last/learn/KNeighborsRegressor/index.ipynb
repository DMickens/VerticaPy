{
 "cells": [
  {
   "cell_type": "markdown",
   "metadata": {},
   "source": [
    "# KNeighborsRegressor (Beta)"
   ]
  },
  {
   "cell_type": "code",
   "execution_count": null,
   "metadata": {},
   "outputs": [],
   "source": [
    "KNeighborsRegressor(cursor = None,\n",
    "                    n_neighbors: int = 5,\n",
    "                    p: int = 2)"
   ]
  },
  {
   "cell_type": "markdown",
   "metadata": {},
   "source": [
    "Creates a KNeighborsRegressor object by using the K Nearest Neighbors Algorithm. This object is using pure SQL to compute all the distances and final score. It is using CROSS JOIN and may be really expensive in some cases. As KNeighborsRegressor is using the p-distance, it is highly sensible to un-normalized data. \n",
    "\n",
    "### Parameters\n",
    "\n",
    "<table id=\"parameters\">\n",
    "    <tr> <th>Name</th> <th>Type</th> <th>Optional</th> <th>Description</th> </tr>\n",
    "    <tr> <td><div class=\"param_name\">cursor</div></td> <td><div class=\"type\">DBcursor</div></td> <td><div class = \"yes\">&#10003;</div></td> <td>Vertica DB cursor.</td> </tr>\n",
    "    <tr> <td><div class=\"param_name\">n_neighbors</div></td> <td><div class=\"type\">int</div></td> <td><div class = \"yes\">&#10003;</div></td> <td>Number of neighbors to consider when computing the score.</td> </tr>\n",
    "    <tr> <td><div class=\"param_name\">p</div></td> <td><div class=\"type\">int</div></td> <td><div class = \"yes\">&#10003;</div></td> <td>The p corresponding to the one of the p-distance (distance metric used during the model computation).</td> </tr>\n",
    "</table>\n",
    "\n",
    "### Attributes\n",
    "\n",
    "After the object creation, all the parameters become attributes. The model will also create extra attributes when fitting the model:\n",
    "\n",
    "<table id=\"parameters\">\n",
    "    <tr> <th>Name</th> <th>Type</th>  <th>Description</th> </tr>\n",
    "    <tr> <td><div class=\"param_name\">input_relation</div></td> <td><div class=\"type\">str</div></td> <td>Train relation.</td> </tr>\n",
    "    <tr> <td><div class=\"param_name\">X</div></td> <td><div class=\"type\">list</div></td> <td>List of the predictors.</td> </tr>\n",
    "    <tr> <td><div class=\"param_name\">y</div></td> <td><div class=\"type\">str</div></td> <td>Response column.</td> </tr>\n",
    "    <tr> <td><div class=\"param_name\">test_relation</div></td> <td><div class=\"type\">float</div></td> <td>Relation used to test the model. All the model methods are abstractions which will simplify the process. The test relation will be used by many methods to evaluate the model. If empty, the train relation will be used as test. You can change it anytime by changing the test_relation attribute of the object.</td> </tr>\n",
    "</table>\n",
    "\n",
    "### Methods\n",
    "\n",
    "<table id=\"parameters\">\n",
    "    <tr> <th>Name</th> <th>Description</th> </tr>\n",
    "    <tr> <td><a href=\"../Regression/deploySQL\">deploySQL</a></td> <td>Returns the SQL code needed to deploy the model.</td> </tr>\n",
    "    <tr> <td><a href=\"../Regression/fit\">fit</a></td> <td>Trains the model.</td> </tr>\n",
    "    <tr> <td><a href=\"../Regression/regression_report\">regression_report</a></td> <td>Computes a regression report using multiple metrics to evaluate the model (r2, mse, max error...). </td> </tr>\n",
    "    <tr> <td><a href=\"../Regression/score\">score</a></td> <td>Computes the model score.</td> </tr>\n",
    "    <tr> <td><a href=\"../Regression/to_vdf\">to_vdf</a></td> <td>Returns the vDataFrame of the Prediction.</td> </tr>\n",
    "    \n",
    "</table>"
   ]
  },
  {
   "cell_type": "markdown",
   "metadata": {},
   "source": [
    "### Example"
   ]
  },
  {
   "cell_type": "code",
   "execution_count": 13,
   "metadata": {},
   "outputs": [
    {
     "name": "stdout",
     "output_type": "stream",
     "text": [
      "<KNeighborsRegressor>\n"
     ]
    }
   ],
   "source": [
    "from vertica_ml_python.learn.neighbors import KNeighborsRegressor\n",
    "model = KNeighborsRegressor(n_neighbors = 5,\n",
    "                            p = 2)\n",
    "print(model)"
   ]
  }
 ],
 "metadata": {
  "kernelspec": {
   "display_name": "Python 3",
   "language": "python",
   "name": "python3"
  },
  "language_info": {
   "codemirror_mode": {
    "name": "ipython",
    "version": 3
   },
   "file_extension": ".py",
   "mimetype": "text/x-python",
   "name": "python",
   "nbconvert_exporter": "python",
   "pygments_lexer": "ipython3",
   "version": "3.6.3"
  }
 },
 "nbformat": 4,
 "nbformat_minor": 2
}
