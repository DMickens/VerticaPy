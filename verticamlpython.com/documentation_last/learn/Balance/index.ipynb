{
 "cells": [
  {
   "cell_type": "markdown",
   "metadata": {},
   "source": [
    "# Balance"
   ]
  },
  {
   "cell_type": "code",
   "execution_count": null,
   "metadata": {},
   "outputs": [],
   "source": [
    "Balance(name: str, \n",
    "        input_relation: str,\n",
    "        y: str,\n",
    "        cursor = None,\n",
    "        method: str = \"hybrid\", \n",
    "        ratio: float = 0.5)"
   ]
  },
  {
   "cell_type": "markdown",
   "metadata": {},
   "source": [
    "Creates a view with an equal distribution of the input data based on the response_column.\n",
    "\n",
    "### Parameters\n",
    "\n",
    "<table id=\"parameters\">\n",
    "    <tr> <th>Name</th> <th>Type</th> <th>Optional</th> <th>Description</th> </tr>\n",
    "    <tr> <td><div class=\"param_name\">name</div></td> <td><div class=\"type\">str</div></td> <td><div class = \"no\">&#10060;</div></td> <td>Name of the the view.</td> </tr>\n",
    "    <tr> <td><div class=\"param_name\">input_relation</div></td> <td><div class=\"type\">str</div></td> <td><div class = \"no\">&#10060;</div></td> <td>Relation used to create the new relation.</td> </tr>\n",
    "    <tr> <td><div class=\"param_name\">y</div></td> <td><div class=\"type\">str</div></td> <td><div class = \"no\">&#10060;</div></td> <td>Response column.</td> </tr>\n",
    "    <tr> <td><div class=\"param_name\">cursor</div></td> <td><div class=\"type\">DBcursor</div></td> <td><div class = \"yes\">&#10003;</div></td> <td>Vertica DB cursor.</td> </tr>\n",
    "    <tr> <td><div class=\"param_name\">method</div></td> <td><div class=\"type\">str</div></td> <td><div class = \"yes\">&#10003;</div></td> <td>Method used to do the balancing. <br><ul><li><b>hybrid</b> : Performs over-sampling and under-sampling on different classes so each class is equally represented.</li><li><b>over</b> : Over-samples on all classes, with the exception of the most majority class, towards the most majority class's cardinality. </li> <li><b>under</b> : Under-samples on all classes, with the exception of the most minority class, towards the most minority class's cardinality.</li></ul></td> </tr>\n",
    "    <tr> <td><div class=\"param_name\">ratio</div></td> <td><div class=\"type\">float</div></td> <td><div class = \"yes\">&#10003;</div></td> <td>The desired ratio between the majority class and the minority class. This value has no effect when used with balance method 'hybrid'.</td> </tr>\n",
    "</table>\n",
    "\n",
    "### Returns\n",
    "\n",
    "<b>vDataFrame</b> : vDataFrame of the created view"
   ]
  },
  {
   "cell_type": "markdown",
   "metadata": {},
   "source": [
    "### Example"
   ]
  },
  {
   "cell_type": "code",
   "execution_count": 32,
   "metadata": {},
   "outputs": [
    {
     "data": {
      "text/html": [
       "<table style=\"border-collapse: collapse; border: 2px solid white\"><tr style=\"{border: 1px solid white;}\"><td style=\"border-bottom: 1px solid #DDD;font-size:1.02em;background-color:#263133;color:white\"><b></b></td><td style=\"font-size:1.02em;background-color:#263133;color:white\"><b>survived</b></td><td style=\"font-size:1.02em;background-color:#263133;color:white\"><b>boat</b></td><td style=\"font-size:1.02em;background-color:#263133;color:white\"><b>ticket</b></td><td style=\"font-size:1.02em;background-color:#263133;color:white\"><b>embarked</b></td><td style=\"font-size:1.02em;background-color:#263133;color:white\"><b>home.dest</b></td><td style=\"font-size:1.02em;background-color:#263133;color:white\"><b>sibsp</b></td><td style=\"font-size:1.02em;background-color:#263133;color:white\"><b>fare</b></td><td style=\"font-size:1.02em;background-color:#263133;color:white\"><b>sex</b></td><td style=\"font-size:1.02em;background-color:#263133;color:white\"><b>body</b></td><td style=\"font-size:1.02em;background-color:#263133;color:white\"><b>pclass</b></td><td style=\"font-size:1.02em;background-color:#263133;color:white\"><b>age</b></td><td style=\"font-size:1.02em;background-color:#263133;color:white\"><b>name</b></td><td style=\"font-size:1.02em;background-color:#263133;color:white\"><b>cabin</b></td><td style=\"font-size:1.02em;background-color:#263133;color:white\"><b>parch</b></td></tr><tr style=\"{border: 1px solid white;}\"><td style=\"border-bottom: 1px solid #DDD;font-size:1.02em;background-color:#263133;color:white\"><b>0</b></td><td style=\"border: 1px solid white;\">0</td><td style=\"border: 1px solid white;\">None</td><td style=\"border: 1px solid white;\">113781</td><td style=\"border: 1px solid white;\">S</td><td style=\"border: 1px solid white;\">Montreal, PQ / Chesterville, ON</td><td style=\"border: 1px solid white;\">1</td><td style=\"border: 1px solid white;\">151.55000</td><td style=\"border: 1px solid white;\">female</td><td style=\"border: 1px solid white;\">None</td><td style=\"border: 1px solid white;\">1</td><td style=\"border: 1px solid white;\">2.000</td><td style=\"border: 1px solid white;\">Allison, Miss. Helen Loraine</td><td style=\"border: 1px solid white;\">C22 C26</td><td style=\"border: 1px solid white;\">2</td></tr><tr style=\"{border: 1px solid white;}\"><td style=\"border-bottom: 1px solid #DDD;font-size:1.02em;background-color:#263133;color:white\"><b>1</b></td><td style=\"border: 1px solid white;\">0</td><td style=\"border: 1px solid white;\">None</td><td style=\"border: 1px solid white;\">113781</td><td style=\"border: 1px solid white;\">S</td><td style=\"border: 1px solid white;\">Montreal, PQ / Chesterville, ON</td><td style=\"border: 1px solid white;\">1</td><td style=\"border: 1px solid white;\">151.55000</td><td style=\"border: 1px solid white;\">male</td><td style=\"border: 1px solid white;\">135</td><td style=\"border: 1px solid white;\">1</td><td style=\"border: 1px solid white;\">30.000</td><td style=\"border: 1px solid white;\">Allison, Mr. Hudson Joshua Creighton</td><td style=\"border: 1px solid white;\">C22 C26</td><td style=\"border: 1px solid white;\">2</td></tr><tr style=\"{border: 1px solid white;}\"><td style=\"border-bottom: 1px solid #DDD;font-size:1.02em;background-color:#263133;color:white\"><b>2</b></td><td style=\"border: 1px solid white;\">0</td><td style=\"border: 1px solid white;\">None</td><td style=\"border: 1px solid white;\">113781</td><td style=\"border: 1px solid white;\">S</td><td style=\"border: 1px solid white;\">Montreal, PQ / Chesterville, ON</td><td style=\"border: 1px solid white;\">1</td><td style=\"border: 1px solid white;\">151.55000</td><td style=\"border: 1px solid white;\">female</td><td style=\"border: 1px solid white;\">None</td><td style=\"border: 1px solid white;\">1</td><td style=\"border: 1px solid white;\">25.000</td><td style=\"border: 1px solid white;\">Allison, Mrs. Hudson J C (Bessie Waldo Daniels)</td><td style=\"border: 1px solid white;\">C22 C26</td><td style=\"border: 1px solid white;\">2</td></tr><tr style=\"{border: 1px solid white;}\"><td style=\"border-bottom: 1px solid #DDD;font-size:1.02em;background-color:#263133;color:white\"><b>3</b></td><td style=\"border: 1px solid white;\">0</td><td style=\"border: 1px solid white;\">None</td><td style=\"border: 1px solid white;\">112050</td><td style=\"border: 1px solid white;\">S</td><td style=\"border: 1px solid white;\">Belfast, NI</td><td style=\"border: 1px solid white;\">0</td><td style=\"border: 1px solid white;\">0.00000</td><td style=\"border: 1px solid white;\">male</td><td style=\"border: 1px solid white;\">None</td><td style=\"border: 1px solid white;\">1</td><td style=\"border: 1px solid white;\">39.000</td><td style=\"border: 1px solid white;\">Andrews, Mr. Thomas Jr</td><td style=\"border: 1px solid white;\">A36</td><td style=\"border: 1px solid white;\">0</td></tr><tr style=\"{border: 1px solid white;}\"><td style=\"border-bottom: 1px solid #DDD;font-size:1.02em;background-color:#263133;color:white\"><b>4</b></td><td style=\"border: 1px solid white;\">0</td><td style=\"border: 1px solid white;\">None</td><td style=\"border: 1px solid white;\">PC 17609</td><td style=\"border: 1px solid white;\">C</td><td style=\"border: 1px solid white;\">Montevideo, Uruguay</td><td style=\"border: 1px solid white;\">0</td><td style=\"border: 1px solid white;\">49.50420</td><td style=\"border: 1px solid white;\">male</td><td style=\"border: 1px solid white;\">22</td><td style=\"border: 1px solid white;\">1</td><td style=\"border: 1px solid white;\">71.000</td><td style=\"border: 1px solid white;\">Artagaveytia, Mr. Ramon</td><td style=\"border: 1px solid white;\">None</td><td style=\"border: 1px solid white;\">0</td></tr><tr><td style=\"border-top: 1px solid white;background-color:#263133;color:white\"></td><td style=\"border: 1px solid white;\">...</td><td style=\"border: 1px solid white;\">...</td><td style=\"border: 1px solid white;\">...</td><td style=\"border: 1px solid white;\">...</td><td style=\"border: 1px solid white;\">...</td><td style=\"border: 1px solid white;\">...</td><td style=\"border: 1px solid white;\">...</td><td style=\"border: 1px solid white;\">...</td><td style=\"border: 1px solid white;\">...</td><td style=\"border: 1px solid white;\">...</td><td style=\"border: 1px solid white;\">...</td><td style=\"border: 1px solid white;\">...</td><td style=\"border: 1px solid white;\">...</td><td style=\"border: 1px solid white;\">...</td></tr></table>"
      ],
      "text/plain": [
       "<IPython.core.display.HTML object>"
      ]
     },
     "metadata": {},
     "output_type": "display_data"
    },
    {
     "name": "stdout",
     "output_type": "stream",
     "text": [
      "<object>  Name: titanic, Number of rows: 1234, Number of columns: 14\n"
     ]
    }
   ],
   "source": [
    "from vertica_ml_python.learn.datasets import load_titanic\n",
    "titanic = load_titanic()\n",
    "print(titanic)"
   ]
  },
  {
   "cell_type": "code",
   "execution_count": 35,
   "metadata": {
    "scrolled": false
   },
   "outputs": [
    {
     "data": {
      "text/html": [
       "<table style=\"border-collapse: collapse; border: 2px solid white\"><tr style=\"{border: 1px solid white;}\"><td style=\"border-bottom: 1px solid #DDD;font-size:1.02em;background-color:#263133;color:white\"><b></b></td><td style=\"font-size:1.02em;background-color:#263133;color:white\"><b>survived</b></td><td style=\"font-size:1.02em;background-color:#263133;color:white\"><b>boat</b></td><td style=\"font-size:1.02em;background-color:#263133;color:white\"><b>ticket</b></td><td style=\"font-size:1.02em;background-color:#263133;color:white\"><b>embarked</b></td><td style=\"font-size:1.02em;background-color:#263133;color:white\"><b>home.dest</b></td><td style=\"font-size:1.02em;background-color:#263133;color:white\"><b>sibsp</b></td><td style=\"font-size:1.02em;background-color:#263133;color:white\"><b>fare</b></td><td style=\"font-size:1.02em;background-color:#263133;color:white\"><b>sex</b></td><td style=\"font-size:1.02em;background-color:#263133;color:white\"><b>body</b></td><td style=\"font-size:1.02em;background-color:#263133;color:white\"><b>pclass</b></td><td style=\"font-size:1.02em;background-color:#263133;color:white\"><b>age</b></td><td style=\"font-size:1.02em;background-color:#263133;color:white\"><b>name</b></td><td style=\"font-size:1.02em;background-color:#263133;color:white\"><b>cabin</b></td><td style=\"font-size:1.02em;background-color:#263133;color:white\"><b>parch</b></td></tr><tr style=\"{border: 1px solid white;}\"><td style=\"border-bottom: 1px solid #DDD;font-size:1.02em;background-color:#263133;color:white\"><b>0</b></td><td style=\"border: 1px solid white;\">0</td><td style=\"border: 1px solid white;\">None</td><td style=\"border: 1px solid white;\">113781</td><td style=\"border: 1px solid white;\">S</td><td style=\"border: 1px solid white;\">Montreal, PQ / Chesterville, ON</td><td style=\"border: 1px solid white;\">1</td><td style=\"border: 1px solid white;\">151.55000</td><td style=\"border: 1px solid white;\">male</td><td style=\"border: 1px solid white;\">135</td><td style=\"border: 1px solid white;\">1</td><td style=\"border: 1px solid white;\">30.000</td><td style=\"border: 1px solid white;\">Allison, Mr. Hudson Joshua Creighton</td><td style=\"border: 1px solid white;\">C22 C26</td><td style=\"border: 1px solid white;\">2</td></tr><tr style=\"{border: 1px solid white;}\"><td style=\"border-bottom: 1px solid #DDD;font-size:1.02em;background-color:#263133;color:white\"><b>1</b></td><td style=\"border: 1px solid white;\">0</td><td style=\"border: 1px solid white;\">None</td><td style=\"border: 1px solid white;\">113781</td><td style=\"border: 1px solid white;\">S</td><td style=\"border: 1px solid white;\">Montreal, PQ / Chesterville, ON</td><td style=\"border: 1px solid white;\">1</td><td style=\"border: 1px solid white;\">151.55000</td><td style=\"border: 1px solid white;\">female</td><td style=\"border: 1px solid white;\">None</td><td style=\"border: 1px solid white;\">1</td><td style=\"border: 1px solid white;\">25.000</td><td style=\"border: 1px solid white;\">Allison, Mrs. Hudson J C (Bessie Waldo Daniels)</td><td style=\"border: 1px solid white;\">C22 C26</td><td style=\"border: 1px solid white;\">2</td></tr><tr style=\"{border: 1px solid white;}\"><td style=\"border-bottom: 1px solid #DDD;font-size:1.02em;background-color:#263133;color:white\"><b>2</b></td><td style=\"border: 1px solid white;\">0</td><td style=\"border: 1px solid white;\">None</td><td style=\"border: 1px solid white;\">PC 17757</td><td style=\"border: 1px solid white;\">C</td><td style=\"border: 1px solid white;\">New York, NY</td><td style=\"border: 1px solid white;\">1</td><td style=\"border: 1px solid white;\">227.52500</td><td style=\"border: 1px solid white;\">male</td><td style=\"border: 1px solid white;\">124</td><td style=\"border: 1px solid white;\">1</td><td style=\"border: 1px solid white;\">47.000</td><td style=\"border: 1px solid white;\">Astor, Col. John Jacob</td><td style=\"border: 1px solid white;\">C62 C64</td><td style=\"border: 1px solid white;\">0</td></tr><tr style=\"{border: 1px solid white;}\"><td style=\"border-bottom: 1px solid #DDD;font-size:1.02em;background-color:#263133;color:white\"><b>3</b></td><td style=\"border: 1px solid white;\">0</td><td style=\"border: 1px solid white;\">None</td><td style=\"border: 1px solid white;\">PC 17318</td><td style=\"border: 1px solid white;\">S</td><td style=\"border: 1px solid white;\">New York, NY</td><td style=\"border: 1px solid white;\">0</td><td style=\"border: 1px solid white;\">25.92500</td><td style=\"border: 1px solid white;\">male</td><td style=\"border: 1px solid white;\">None</td><td style=\"border: 1px solid white;\">1</td><td style=\"border: 1px solid white;\">None</td><td style=\"border: 1px solid white;\">Baumann, Mr. John D</td><td style=\"border: 1px solid white;\">None</td><td style=\"border: 1px solid white;\">0</td></tr><tr style=\"{border: 1px solid white;}\"><td style=\"border-bottom: 1px solid #DDD;font-size:1.02em;background-color:#263133;color:white\"><b>4</b></td><td style=\"border: 1px solid white;\">0</td><td style=\"border: 1px solid white;\">None</td><td style=\"border: 1px solid white;\">PC 17558</td><td style=\"border: 1px solid white;\">C</td><td style=\"border: 1px solid white;\">Montreal, PQ</td><td style=\"border: 1px solid white;\">0</td><td style=\"border: 1px solid white;\">247.52080</td><td style=\"border: 1px solid white;\">male</td><td style=\"border: 1px solid white;\">None</td><td style=\"border: 1px solid white;\">1</td><td style=\"border: 1px solid white;\">24.000</td><td style=\"border: 1px solid white;\">Baxter, Mr. Quigg Edmond</td><td style=\"border: 1px solid white;\">B58 B60</td><td style=\"border: 1px solid white;\">1</td></tr><tr><td style=\"border-top: 1px solid white;background-color:#263133;color:white\"></td><td style=\"border: 1px solid white;\">...</td><td style=\"border: 1px solid white;\">...</td><td style=\"border: 1px solid white;\">...</td><td style=\"border: 1px solid white;\">...</td><td style=\"border: 1px solid white;\">...</td><td style=\"border: 1px solid white;\">...</td><td style=\"border: 1px solid white;\">...</td><td style=\"border: 1px solid white;\">...</td><td style=\"border: 1px solid white;\">...</td><td style=\"border: 1px solid white;\">...</td><td style=\"border: 1px solid white;\">...</td><td style=\"border: 1px solid white;\">...</td><td style=\"border: 1px solid white;\">...</td><td style=\"border: 1px solid white;\">...</td></tr></table>"
      ],
      "text/plain": [
       "<IPython.core.display.HTML object>"
      ]
     },
     "metadata": {},
     "output_type": "display_data"
    },
    {
     "data": {
      "text/plain": [
       "<object>  Name: titanic_balanced, Number of rows: 914, Number of columns: 14"
      ]
     },
     "execution_count": 35,
     "metadata": {},
     "output_type": "execute_result"
    }
   ],
   "source": [
    "from vertica_ml_python.learn.preprocessing import Balance\n",
    "Balance(name = \"public.titanic_balanced\", \n",
    "        input_relation = \"public.titanic\",\n",
    "        y = \"survived\",\n",
    "        method = \"under\", \n",
    "        ratio = 1)"
   ]
  }
 ],
 "metadata": {
  "kernelspec": {
   "display_name": "Python 3",
   "language": "python",
   "name": "python3"
  },
  "language_info": {
   "codemirror_mode": {
    "name": "ipython",
    "version": 3
   },
   "file_extension": ".py",
   "mimetype": "text/x-python",
   "name": "python",
   "nbconvert_exporter": "python",
   "pygments_lexer": "ipython3",
   "version": "3.6.3"
  }
 },
 "nbformat": 4,
 "nbformat_minor": 2
}
