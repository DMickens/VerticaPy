{
 "cells": [
  {
   "cell_type": "markdown",
   "metadata": {},
   "source": [
    "# LinearSVC"
   ]
  },
  {
   "cell_type": "code",
   "execution_count": null,
   "metadata": {},
   "outputs": [],
   "source": [
    "LinearSVC(name: str,\n",
    "          cursor = None,\n",
    "          tol: float = 1e-4, \n",
    "          C: float = 1.0, \n",
    "          fit_intercept: bool = True,\n",
    "          intercept_scaling: float = 1.0,\n",
    "          intercept_mode: str = \"regularized\",\n",
    "          class_weight: list = [1, 1],\n",
    "          max_iter: int = 100)"
   ]
  },
  {
   "cell_type": "markdown",
   "metadata": {},
   "source": [
    "Creates a LinearSVC object by using the Vertica Highly Distributed and Scalable SVM on the data. Given a set of training examples, each marked as belonging to one or the other of two categories, an SVM training algorithm builds a model that assigns new examples to one category or the other, making it a non-probabilistic binary linear classifier.\n",
    "\n",
    "### Parameters\n",
    "\n",
    "<table id=\"parameters\">\n",
    "    <tr> <th>Name</th> <th>Type</th> <th>Optional</th> <th>Description</th> </tr>\n",
    "    <tr> <td><div class=\"param_name\">name</div></td> <td><div class=\"type\">str</div></td> <td><div class = \"no\">&#10060;</div></td> <td>Name of the the model. The model will be stored in the DB.</td> </tr>\n",
    "    <tr> <td><div class=\"param_name\">cursor</div></td> <td><div class=\"type\">DBcursor</div></td> <td><div class = \"yes\">&#10003;</div></td> <td>Vertica DB cursor.</td> </tr>\n",
    "    <tr> <td><div class=\"param_name\">tol</div></td> <td><div class=\"type\">float</div></td> <td><div class = \"yes\">&#10003;</div></td> <td>Used to control accuracy.</td> </tr>\n",
    "    <tr> <td><div class=\"param_name\">C</div></td> <td><div class=\"type\">float</div></td> <td><div class = \"yes\">&#10003;</div></td> <td>The weight for misclassification cost. The algorithm minimizes the regularization cost and the misclassification cost.</td> </tr>\n",
    "    <tr> <td><div class=\"param_name\">fit_intercept</div></td> <td><div class=\"type\">bool</div></td> <td><div class = \"yes\">&#10003;</div></td> <td>A bool to fit also the intercept.</td> </tr>\n",
    "    <tr> <td><div class=\"param_name\">intercept_scaling</div></td> <td><div class=\"type\">float</div></td> <td><div class = \"yes\">&#10003;</div></td> <td>A float value, serves as the value of a dummy feature whose coefficient Vertica uses to calculate the model intercept. Because the dummy feature is not in the training data, its values are set to a constant, by default set to 1. </td> </tr>\n",
    "    <tr> <td><div class=\"param_name\">intercept_mode</div></td> <td><div class=\"type\">str</div></td> <td><div class = \"yes\">&#10003;</div></td> <td>Specify how to treat the intercept.<br><ul><li><b>regularized :</b> Fits the intercept and applies a regularization on it.</li><li><b>unregularized :</b> Fits the intercept but does not include it in regularization.</li></ul></td></tr>\n",
    "    <tr> <td><div class=\"param_name\">class_weight</div></td> <td><div class=\"type\">list</div></td> <td><div class = \"yes\">&#10003;</div></td> <td>Specifies how to determine weights of the two classes. It can be a list of 2 elements or one of the following method: <br> <ul><li><b>auto :</b> Weights each class according to the number of samples.</li><li><b>none :</b>  No weights are used.</li></ul></td> </tr>\n",
    "    <tr> <td><div class=\"param_name\">max_iter</div></td> <td><div class=\"type\">int</div></td> <td><div class = \"yes\">&#10003;</div></td> <td>The maximum number of iterations that the algorithm performs.</td> </tr>\n",
    "</table>\n",
    "\n",
    "### Attributes\n",
    "\n",
    "After the object creation, all the parameters become attributes. The model will also create extra attributes when fitting the model:\n",
    "\n",
    "<table id=\"parameters\">\n",
    "    <tr> <th>Name</th> <th>Type</th>  <th>Description</th> </tr>\n",
    "    <tr> <td><div class=\"param_name\">coef</div></td> <td><div class=\"type\">tablesample</div></td> <td>Coefficients and their mathematical information (pvalue, std, value...)</td> </tr>\n",
    "    <tr> <td><div class=\"param_name\">input_relation</div></td> <td><div class=\"type\">str</div></td> <td>Train relation.</td> </tr>\n",
    "    <tr> <td><div class=\"param_name\">X</div></td> <td><div class=\"type\">list</div></td> <td>List of the predictors.</td> </tr>\n",
    "    <tr> <td><div class=\"param_name\">y</div></td> <td><div class=\"type\">str</div></td> <td>Response column.</td> </tr>\n",
    "    <tr> <td><div class=\"param_name\">test_relation</div></td> <td><div class=\"type\">float</div></td> <td>Relation used to test the model. All the model methods are abstractions which will simplify the process. The test relation will be used by many methods to evaluate the model. If empty, the train relation will be used as test. You can change it anytime by changing the test_relation attribute of the object.</td> </tr>\n",
    "</table>\n",
    "\n",
    "### Methods\n",
    "\n",
    "<table id=\"parameters\">\n",
    "    <tr> <th>Name</th> <th>Description</th> </tr>\n",
    "    <tr> <td><a href=\"../Classification/classification_report\">classification_report</a></td> <td>Computes a classification report using multiple metrics to evaluate the model (AUC, accuracy, PRC AUC, F1...). In case of multiclass classification, it will consider each category as positive and switch to the next one during the computation.</td> </tr>\n",
    "    <tr> <td><a href=\"../Classification/confusion_matrix\">confusion_matrix</a></td> <td>Computes the model confusion matrix.</td> </tr>\n",
    "    <tr> <td><a href=\"../Classification/deploySQL\">deploySQL</a></td> <td>Returns the SQL code needed to deploy the model.</td> </tr>\n",
    "    <tr> <td><a href=\"../Classification/drop\">drop</a></td> <td>Drops the model from the Vertica DB.</td> </tr>\n",
    "    <tr> <td><a href=\"../Classification/features_importance\">features_importance</a></td> <td>Computes the model features importance by normalizing the LinearSVC hyperplan coefficients.</td> </tr>\n",
    "    <tr> <td><a href=\"../Classification/fit\">fit</a></td> <td>Trains the model.</td> </tr>\n",
    "    <tr> <td><a href=\"../Classification/lift_chart\">lift_chart</a></td> <td>Draws the model Lift Chart.</td> </tr>\n",
    "    <tr> <td><a href=\"../Classification/plot\">plot</a></td> <td>Draws the LinearSVC if the number of predictors is lesser than 3.</td> </tr>\n",
    "    <tr> <td><a href=\"../Classification/prc_curve\">prc_curve</a></td> <td>Draws the model PRC curve.</td> </tr>\n",
    "    <tr> <td><a href=\"../Classification/predict\">predict</a></td> <td>Predicts using the input relation.</td> </tr>\n",
    "    <tr> <td><a href=\"../Classification/roc_curve\">roc_curve</a></td> <td>Draws the model ROC curve.</td> </tr>\n",
    "    <tr> <td><a href=\"../Classification/score\">score</a></td> <td>Computes the model score.</td> </tr>\n",
    "    \n",
    "</table>"
   ]
  },
  {
   "cell_type": "markdown",
   "metadata": {},
   "source": [
    "### Example"
   ]
  },
  {
   "cell_type": "code",
   "execution_count": 8,
   "metadata": {},
   "outputs": [
    {
     "name": "stdout",
     "output_type": "stream",
     "text": [
      "<LinearSVC>\n"
     ]
    }
   ],
   "source": [
    "from vertica_ml_python.learn.svm import LinearSVC\n",
    "model = LinearSVC(name = \"iris_svm\",\n",
    "                  tol = 1e-4, \n",
    "                  C = 1.0, \n",
    "                  fit_intercept = True,\n",
    "                  intercept_scaling = 1.0,\n",
    "                  intercept_mode = \"regularized\",\n",
    "                  class_weight = [1, 1],\n",
    "                  max_iter = 100)\n",
    "print(model)"
   ]
  }
 ],
 "metadata": {
  "kernelspec": {
   "display_name": "Python 3",
   "language": "python",
   "name": "python3"
  },
  "language_info": {
   "codemirror_mode": {
    "name": "ipython",
    "version": 3
   },
   "file_extension": ".py",
   "mimetype": "text/x-python",
   "name": "python",
   "nbconvert_exporter": "python",
   "pygments_lexer": "ipython3",
   "version": "3.6.3"
  }
 },
 "nbformat": 4,
 "nbformat_minor": 2
}
