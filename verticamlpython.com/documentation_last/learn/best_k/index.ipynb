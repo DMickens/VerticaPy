{
 "cells": [
  {
   "cell_type": "markdown",
   "metadata": {},
   "source": [
    "# best_k"
   ]
  },
  {
   "cell_type": "code",
   "execution_count": null,
   "metadata": {},
   "outputs": [],
   "source": [
    "best_k(X: list,\n",
    "       input_relation: str,\n",
    "       cursor = None,\n",
    "       n_cluster = (1, 100),\n",
    "       init = \"kmeanspp\",\n",
    "       max_iter: int = 50,\n",
    "       tol: float = 1e-4,\n",
    "       elbow_score_stop: float = 0.8)"
   ]
  },
  {
   "cell_type": "markdown",
   "metadata": {},
   "source": [
    "Finds the KMeans K based on a score.\n",
    "\n",
    "### Parameters\n",
    "\n",
    "<table id=\"parameters\">\n",
    "    <tr> <th>Name</th> <th>Type</th> <th>Optional</th> <th>Description</th> </tr>\n",
    "    <tr> <td><div class=\"param_name\">X</div></td> <td><div class=\"type\">list</div></td> <td><div class = \"no\">&#10060;</div></td> <td>List of the predictor columns.</td> </tr>\n",
    "    <tr> <td><div class=\"param_name\">input_relation</div></td> <td><div class=\"type\">str</div></td> <td><div class = \"no\">&#10060;</div></td> <td>Relation used to train the model.</td> </tr>\n",
    "    <tr> <td><div class=\"param_name\">cursor</div></td> <td><div class=\"type\">DBcursor</div></td> <td><div class = \"yes\">&#10003;</div></td> <td>Vertica DB cursor.</td> </tr>\n",
    "    <tr> <td><div class=\"param_name\">n_cluster</div></td> <td><div class=\"type\">int</div></td> <td><div class = \"yes\">&#10003;</div></td> <td>Tuple representing the number of cluster to start with and to end with. It can also be customized list with the different K to test.</td> </tr>\n",
    "    <tr> <td><div class=\"param_name\">init</div></td> <td><div class=\"type\">str / list</div></td> <td><div class = \"yes\">&#10003;</div></td> <td>The method used to find the initial cluster centers. <br> <ul><li><b>kmeanspp</b> : Uses the KMeans++ method to initialize the centers.</li><li><b>random</b> : The initial centers.</li></ul>It can be also a list with the initial cluster centers to use.</td> </tr>\n",
    "    <tr> <td><div class=\"param_name\">max_iter</div></td> <td><div class=\"type\">int</div></td> <td><div class = \"yes\">&#10003;</div></td> <td>The maximum number of iterations the algorithm performs.</td> </tr>\n",
    "    <tr> <td><div class=\"param_name\">tol</div></td> <td><div class=\"type\">float</div></td> <td><div class = \"yes\">&#10003;</div></td> <td>Determines whether the algorithm has converged. The algorithm is considered converged after no center has moved more than a distance of 'tol' from the previous iteration. </td> </tr>\n",
    "    <tr> <td><div class=\"param_name\">elbow_score_stop</div></td> <td><div class=\"type\">float</div></td> <td><div class = \"yes\">&#10003;</div></td> <td>Stops the Parameters Search when this Elbow score is reached.</td> </tr>\n",
    "</table>\n",
    "\n",
    "### Returns\n",
    "\n",
    "<b>int</b> : the KMeans K."
   ]
  },
  {
   "cell_type": "markdown",
   "metadata": {},
   "source": [
    "### Example"
   ]
  },
  {
   "cell_type": "code",
   "execution_count": 6,
   "metadata": {},
   "outputs": [
    {
     "data": {
      "text/plain": [
       "3"
      ]
     },
     "execution_count": 6,
     "metadata": {},
     "output_type": "execute_result"
    }
   ],
   "source": [
    "from vertica_ml_python.learn.model_selection import best_k\n",
    "best_k(X = [\"PetalLengthCm\", \"PetalWidthCm\"],\n",
    "       input_relation = \"public.iris\",\n",
    "       elbow_score_stop = 0.9)"
   ]
  }
 ],
 "metadata": {
  "kernelspec": {
   "display_name": "Python 3",
   "language": "python",
   "name": "python3"
  },
  "language_info": {
   "codemirror_mode": {
    "name": "ipython",
    "version": 3
   },
   "file_extension": ".py",
   "mimetype": "text/x-python",
   "name": "python",
   "nbconvert_exporter": "python",
   "pygments_lexer": "ipython3",
   "version": "3.6.3"
  }
 },
 "nbformat": 4,
 "nbformat_minor": 2
}
