{
 "cells": [
  {
   "cell_type": "markdown",
   "metadata": {},
   "source": [
    "# RandomForestClassifier"
   ]
  },
  {
   "cell_type": "code",
   "execution_count": null,
   "metadata": {},
   "outputs": [],
   "source": [
    "RandomForestClassifier(name: str,\n",
    "                       cursor = None,\n",
    "                       n_estimators: int = 10,\n",
    "                       max_features = \"auto\",\n",
    "                       max_leaf_nodes: int = 1e9, \n",
    "                       sample: float = 0.632,\n",
    "                       max_depth: int = 5,\n",
    "                       min_samples_leaf: int = 1,\n",
    "                       min_info_gain: float = 0.0,\n",
    "                       nbins: int = 32)"
   ]
  },
  {
   "cell_type": "markdown",
   "metadata": {},
   "source": [
    "Creates a RandomForestClassifier object by using the Vertica Highly Distributed and Scalable Random Forest on the data. It is one of the ensemble learning methods for classification that operates by constructing a multitude of decision trees at training time and outputting the class that is the mode of the classes.\n",
    "\n",
    "### Parameters\n",
    "\n",
    "<table id=\"parameters\">\n",
    "    <tr> <th>Name</th> <th>Type</th> <th>Optional</th> <th>Description</th> </tr>\n",
    "    <tr> <td><div class=\"param_name\">name</div></td> <td><div class=\"type\">str</div></td> <td><div class = \"no\">&#10060;</div></td> <td>Name of the model to be stored in the database.</td> </tr>\n",
    "    <tr> <td><div class=\"param_name\">cursor</div></td> <td><div class=\"type\">DBcursor</div></td> <td><div class = \"yes\">&#10003;</div></td> <td>Vertica DB cursor.</td> </tr>\n",
    "    <tr> <td><div class=\"param_name\">n_estimators</div></td> <td><div class=\"type\">int</div></td> <td><div class = \"yes\">&#10003;</div></td> <td>The number of trees in the forest, an integer between 0 and 1000, inclusive.</td> </tr>\n",
    "    <tr> <td><div class=\"param_name\">max_features</div></td> <td><div class=\"type\">str</div></td> <td><div class = \"yes\">&#10003;</div></td> <td>The number of randomly chosen features from which to pick the best feature to split on a given tree node. It can be an integer or one of the two following methods.<br><ul>\n",
    "                                                        <li><b>auto :</b> square root of the total number of predictors.</li>\n",
    "                                                        <li><b>max :</b> number of predictors.</li></ul></td> </tr>\n",
    "    <tr> <td><div class=\"param_name\">max_leaf_nodes</div></td> <td><div class=\"type\">int</div></td> <td><div class = \"yes\">&#10003;</div></td> <td>The maximum number of leaf nodes a tree in the forest can have, an integer between 1 and 1e9, inclusive.</td> </tr>\n",
    "    <tr> <td><div class=\"param_name\">sample</div></td> <td><div class=\"type\">float</div></td> <td><div class = \"yes\">&#10003;</div></td> <td>The portion of the input data set that is randomly picked for training each tree, a float between 0.0 and 1.0, inclusive.</td> </tr>\n",
    "    <tr> <td><div class=\"param_name\">max_depth</div></td> <td><div class=\"type\">int</div></td> <td><div class = \"yes\">&#10003;</div></td> <td>The maximum depth for growing each tree, an integer between 1 and 100, inclusive.</td> </tr>\n",
    "    <tr> <td><div class=\"param_name\">min_samples_leaf</div></td> <td><div class=\"type\">int</div></td> <td><div class = \"yes\">&#10003;</div></td> <td>The minimum number of samples each branch must have after splitting a node, an integer between 1 and 1e6, inclusive. A split that causes fewer remaining samples is discarded.</td> </tr>\n",
    "    <tr> <td><div class=\"param_name\">min_info_gain</div></td> <td><div class=\"type\">float</div></td> <td><div class = \"yes\">&#10003;</div></td> <td>The minimum threshold for including a split, a float between 0.0 and 1.0, inclusive. A split with information gain less than this threshold is discarded.</td> </tr>\n",
    "    <tr> <td><div class=\"param_name\">nbins</div></td> <td><div class=\"type\">int</div></td> <td><div class = \"yes\">&#10003;</div></td> <td>The number of bins to use for continuous features, an integer between 2 and 1000, inclusive.</td> </tr>\n",
    "</table>\n",
    "\n",
    "### Attributes\n",
    "\n",
    "After the object creation, all the parameters become attributes. The model will also create extra attributes when fitting the model:\n",
    "\n",
    "<table id=\"parameters\">\n",
    "    <tr> <th>Name</th> <th>Type</th>  <th>Description</th> </tr>\n",
    "    <tr> <td><div class=\"param_name\">classes</div></td> <td><div class=\"type\">list</div></td> <td>List of all the response classes.</td> </tr>\n",
    "    <tr> <td><div class=\"param_name\">input_relation</div></td> <td><div class=\"type\">str</div></td> <td>Train relation.</td> </tr>\n",
    "    <tr> <td><div class=\"param_name\">X</div></td> <td><div class=\"type\">list</div></td> <td>List of the predictors.</td> </tr>\n",
    "    <tr> <td><div class=\"param_name\">y</div></td> <td><div class=\"type\">str</div></td> <td>Response column.</td> </tr>\n",
    "    <tr> <td><div class=\"param_name\">test_relation</div></td> <td><div class=\"type\">float</div></td> <td>Relation used to test the model. All the model methods are abstractions which will simplify the process. The test relation will be used by many methods to evaluate the model. If empty, the train relation will be used as test. You can change it anytime by changing the test_relation attribute of the object.</td> </tr>\n",
    "</table>\n",
    "\n",
    "### Methods\n",
    "\n",
    "<table id=\"parameters\">\n",
    "    <tr> <th>Name</th> <th>Description</th> </tr>\n",
    "    <tr> <td><a href=\"../Classification/classification_report\">classification_report</a></td> <td>Computes a classification report using multiple metrics to evaluate the model (AUC, accuracy, PRC AUC, F1...). In case of multiclass classification, it will consider each category as positive and switch to the next one during the computation.</td> </tr>\n",
    "    <tr> <td><a href=\"../Classification/confusion_matrix\">confusion_matrix</a></td> <td>Computes the model confusion matrix.</td> </tr>\n",
    "    <tr> <td><a href=\"../Classification/deploySQL\">deploySQL</a></td> <td>Returns the SQL code needed to deploy the model.</td> </tr>\n",
    "    <tr> <td><a href=\"../Classification/drop\">drop</a></td> <td>Drops the model from the Vertica DB.</td> </tr>\n",
    "    <tr> <td><a href=\"../Classification/export_graphviz\">export_graphviz</a></td> <td>Converts the input tree to graphviz.</td> </tr>\n",
    "    <tr> <td><a href=\"../Classification/features_importance\">features_importance</a></td> <td>Computes the model features importance using the Gini Index.</td> </tr>\n",
    "    <tr> <td><a href=\"../Classification/fit\">fit</a></td> <td>Trains the model.</td> </tr>\n",
    "    <tr> <td><a href=\"../Classification/get_tree\">get_tree</a></td> <td>Returns a tablesample with all the input tree information.</td> </tr>\n",
    "    <tr> <td><a href=\"../Classification/lift_chart\">lift_chart</a></td> <td>Draws the model Lift Chart.</td> </tr>\n",
    "    <tr> <td><a href=\"../Classification/plot_tree\">plot_tree</a></td> <td>Draws the input tree. The module anytree must be installed in the machine.</td> </tr>\n",
    "    <tr> <td><a href=\"../Classification/prc_curve\">prc_curve</a></td> <td>Draws the model PRC curve.</td> </tr>\n",
    "    <tr> <td><a href=\"../Classification/predict\">predict</a></td> <td>Predicts using the input relation.</td> </tr>\n",
    "    <tr> <td><a href=\"../Classification/roc_curve\">roc_curve</a></td> <td>Draws the model ROC curve.</td> </tr>\n",
    "    <tr> <td><a href=\"../Classification/score\">score</a></td> <td>Computes the model score.</td> </tr>\n",
    "    \n",
    "</table>"
   ]
  },
  {
   "cell_type": "markdown",
   "metadata": {},
   "source": [
    "### Example"
   ]
  },
  {
   "cell_type": "code",
   "execution_count": 5,
   "metadata": {},
   "outputs": [
    {
     "name": "stdout",
     "output_type": "stream",
     "text": [
      "<RandomForestClassifier>\n"
     ]
    }
   ],
   "source": [
    "from vertica_ml_python.learn.ensemble import RandomForestClassifier\n",
    "model = RandomForestClassifier(name = \"public.rf_titanic\",\n",
    "                               n_estimators = 20,\n",
    "                               max_features = \"auto\",\n",
    "                               max_leaf_nodes = 32, \n",
    "                               sample = 0.7,\n",
    "                               max_depth = 3,\n",
    "                               min_samples_leaf = 5,\n",
    "                               min_info_gain = 0.0,\n",
    "                               nbins = 32)\n",
    "print(model)"
   ]
  }
 ],
 "metadata": {
  "kernelspec": {
   "display_name": "Python 3",
   "language": "python",
   "name": "python3"
  },
  "language_info": {
   "codemirror_mode": {
    "name": "ipython",
    "version": 3
   },
   "file_extension": ".py",
   "mimetype": "text/x-python",
   "name": "python",
   "nbconvert_exporter": "python",
   "pygments_lexer": "ipython3",
   "version": "3.6.3"
  }
 },
 "nbformat": 4,
 "nbformat_minor": 2
}
