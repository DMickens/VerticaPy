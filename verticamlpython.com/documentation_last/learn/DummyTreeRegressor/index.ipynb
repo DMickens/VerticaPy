{
 "cells": [
  {
   "cell_type": "markdown",
   "metadata": {},
   "source": [
    "# DummyTreeRegressor"
   ]
  },
  {
   "cell_type": "code",
   "execution_count": null,
   "metadata": {},
   "outputs": [],
   "source": [
    "DummyTreeRegressor(name: str,\n",
    "                   cursor = None)"
   ]
  },
  {
   "cell_type": "markdown",
   "metadata": {},
   "source": [
    "Dummy Tree Regressor. This regressor learns by heart the training data => very depth RandomForestRegressor of one tree using all the data.\n",
    "\n",
    "### Parameters\n",
    "\n",
    "<table id=\"parameters\">\n",
    "    <tr> <th>Name</th> <th>Type</th> <th>Optional</th> <th>Description</th> </tr>\n",
    "    <tr> <td><div class=\"param_name\">name</div></td> <td><div class=\"type\">str</div></td> <td><div class = \"no\">&#10060;</div></td> <td>Name of the model to be stored in the database.</td> </tr>\n",
    "    <tr> <td><div class=\"param_name\">cursor</div></td> <td><div class=\"type\">DBcursor</div></td> <td><div class = \"yes\">&#10003;</div></td> <td>Vertica DB cursor.</td> </tr>\n",
    "</table>\n",
    "\n",
    "### Attributes\n",
    "\n",
    "After the object creation, all the parameters become attributes. The model will also create extra attributes when fitting the model:\n",
    "\n",
    "<table id=\"parameters\">\n",
    "    <tr> <th>Name</th> <th>Type</th>  <th>Description</th> </tr>\n",
    "    <tr> <td><div class=\"param_name\">input_relation</div></td> <td><div class=\"type\">str</div></td> <td>Train relation.</td> </tr>\n",
    "    <tr> <td><div class=\"param_name\">X</div></td> <td><div class=\"type\">list</div></td> <td>List of the predictors.</td> </tr>\n",
    "    <tr> <td><div class=\"param_name\">y</div></td> <td><div class=\"type\">str</div></td> <td>Response column.</td> </tr>\n",
    "    <tr> <td><div class=\"param_name\">test_relation</div></td> <td><div class=\"type\">float</div></td> <td>Relation used to test the model. All the model methods are abstractions which will simplify the process. The test relation will be used by many methods to evaluate the model. If empty, the training relation will be used as test. You can change it anytime by changing the test_relation attribute of the object.</td> </tr>\n",
    "</table>\n",
    "\n",
    "### Methods\n",
    "\n",
    "<table id=\"parameters\">\n",
    "    <tr> <th>Name</th> <th>Description</th> </tr>\n",
    "    <tr> <td><a href=\"../Regression/deploySQL\">deploySQL</a></td> <td>Returns the SQL code needed to deploy the model.</td> </tr>\n",
    "    <tr> <td><a href=\"../Regression/drop\">drop</a></td> <td>Drops the model from the Vertica DB.</td> </tr>\n",
    "    <tr> <td><a href=\"../Regression/export_graphviz\">export_graphviz</a></td> <td>Converts the input tree to graphviz.</td> </tr>\n",
    "    <tr> <td><a href=\"../Regression/features_importance\">features_importance</a></td> <td>Computes the model features importance using the Gini Index.</td> </tr>\n",
    "    <tr> <td><a href=\"../Regression/fit\">fit</a></td> <td>Trains the model.</td> </tr>\n",
    "    <tr> <td><a href=\"../Regression/get_tree\">get_tree</a></td> <td>Returns a tablesample with all the input tree information.</td> </tr>\n",
    "    <tr> <td><a href=\"../Regression/plot_tree\">plot_tree</a></td> <td>Draws the input tree. The module anytree must be installed in the machine.</td> </tr>\n",
    "    <tr> <td><a href=\"../Regression/predict\">predict</a></td> <td>Predicts using the input relation.</td> </tr>\n",
    "    <tr> <td><a href=\"../Regression/regression_report\">regression_report</a></td> <td>Computes a regression report using multiple metrics to evaluate the model (r2, mse, max error...). </td> </tr>\n",
    "    <tr> <td><a href=\"../Regression/score\">score</a></td> <td>Computes the model score.</td> </tr>\n",
    "    \n",
    "</table>"
   ]
  },
  {
   "cell_type": "markdown",
   "metadata": {},
   "source": [
    "### Example"
   ]
  },
  {
   "cell_type": "code",
   "execution_count": 7,
   "metadata": {},
   "outputs": [
    {
     "name": "stdout",
     "output_type": "stream",
     "text": [
      "<RandomForestRegressor>\n"
     ]
    }
   ],
   "source": [
    "from vertica_ml_python.learn.tree import DummyTreeRegressor\n",
    "model = DummyTreeRegressor(name = \"public.rf_winequality\")\n",
    "print(model)"
   ]
  }
 ],
 "metadata": {
  "kernelspec": {
   "display_name": "Python 3",
   "language": "python",
   "name": "python3"
  },
  "language_info": {
   "codemirror_mode": {
    "name": "ipython",
    "version": 3
   },
   "file_extension": ".py",
   "mimetype": "text/x-python",
   "name": "python",
   "nbconvert_exporter": "python",
   "pygments_lexer": "ipython3",
   "version": "3.6.3"
  }
 },
 "nbformat": 4,
 "nbformat_minor": 2
}
