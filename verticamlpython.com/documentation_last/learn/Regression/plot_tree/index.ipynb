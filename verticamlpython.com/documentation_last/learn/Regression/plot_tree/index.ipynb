{
 "cells": [
  {
   "cell_type": "markdown",
   "metadata": {},
   "source": [
    "# regressor.plot_tree"
   ]
  },
  {
   "cell_type": "code",
   "execution_count": null,
   "metadata": {},
   "outputs": [],
   "source": [
    "regressor.plot_tree(tree_id: int = 0, \n",
    "                    pic_path: str = \"\")"
   ]
  },
  {
   "cell_type": "markdown",
   "metadata": {},
   "source": [
    "Draws the input tree. The module anytree must be installed in the machine.\n",
    "\n",
    "### Parameters\n",
    "\n",
    "<table id=\"parameters\">\n",
    "    <tr> <th>Name</th> <th>Type</th> <th>Optional</th> <th>Description</th> </tr>\n",
    "    <tr> <td><div class=\"param_name\">tree_id</div></td> <td><div class=\"type\">int</div></td> <td><div class = \"yes\">&#10003;</div></td> <td>Unique tree identifier. It is an integer between 0 and n_estimators - 1</td> </tr>\n",
    "    <tr> <td><div class=\"param_name\">pic_path</div></td> <td><div class=\"type\">str</div></td> <td><div class = \"yes\">&#10003;</div></td> <td>Absolute path to save the image of the tree.</td> </tr>\n",
    "</table>"
   ]
  },
  {
   "cell_type": "markdown",
   "metadata": {},
   "source": [
    "### Example"
   ]
  },
  {
   "cell_type": "code",
   "execution_count": 27,
   "metadata": {
    "scrolled": false
   },
   "outputs": [
    {
     "name": "stdout",
     "output_type": "stream",
     "text": [
      "--------------------------------------------------------------------------------\n",
      "Tree Id: 0\n",
      "Number of Nodes: 9\n",
      "Tree Depth: 3\n",
      "Tree Breadth: 5\n",
      "--------------------------------------------------------------------------------\n",
      "[1] (alcohol < 10.803125 ?)\n",
      "├── [2] => 5.561931 (variance = 0.574366038683846)\n",
      "└── [3] (fixed_acidity < 7.203125 ?)\n",
      "    ├── [6] (fixed_acidity < 4.556250 ?)\n",
      "    │   ├── [12] => 7.000000 (variance = 0.666666666666667)\n",
      "    │   └── [13] => 6.324747 (variance = 0.773104236824083)\n",
      "    └── [7] (alcohol < 11.665625 ?)\n",
      "        ├── [14] => 5.860140 (variance = 0.70771186855103)\n",
      "        └── [15] => 6.423077 (variance = 0.585963182117021)\n"
     ]
    }
   ],
   "source": [
    "from vertica_ml_python.learn.ensemble import RandomForestRegressor\n",
    "model = RandomForestRegressor(name = \"public.RF_winequality\",\n",
    "                              n_estimators = 20,\n",
    "                              max_features = \"auto\",\n",
    "                              max_leaf_nodes = 32, \n",
    "                              sample = 0.7,\n",
    "                              max_depth = 3,\n",
    "                              min_samples_leaf = 5,\n",
    "                              min_info_gain = 0.0,\n",
    "                              nbins = 32)\n",
    "model.fit(\"public.winequality\", [\"alcohol\", \"fixed_acidity\"], \"quality\")\n",
    "model.plot_tree()"
   ]
  }
 ],
 "metadata": {
  "kernelspec": {
   "display_name": "Python 3",
   "language": "python",
   "name": "python3"
  },
  "language_info": {
   "codemirror_mode": {
    "name": "ipython",
    "version": 3
   },
   "file_extension": ".py",
   "mimetype": "text/x-python",
   "name": "python",
   "nbconvert_exporter": "python",
   "pygments_lexer": "ipython3",
   "version": "3.6.3"
  }
 },
 "nbformat": 4,
 "nbformat_minor": 2
}
