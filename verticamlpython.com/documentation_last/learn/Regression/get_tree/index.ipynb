{
 "cells": [
  {
   "cell_type": "markdown",
   "metadata": {},
   "source": [
    "# regressor.get_tree"
   ]
  },
  {
   "cell_type": "code",
   "execution_count": null,
   "metadata": {},
   "outputs": [],
   "source": [
    "regressor.get_tree(tree_id: int = 0)"
   ]
  },
  {
   "cell_type": "markdown",
   "metadata": {},
   "source": [
    "Returns a table with all the input tree information.\n",
    "\n",
    "### Parameters\n",
    "\n",
    "<table id=\"parameters\">\n",
    "    <tr> <th>Name</th> <th>Type</th> <th>Optional</th> <th>Description</th> </tr>\n",
    "    <tr> <td><div class=\"param_name\">tree_id</div></td> <td><div class=\"type\">int</div></td> <td><div class = \"yes\">&#10003;</div></td> <td>Unique tree identifier. It is an integer between 0 and n_estimators - 1</td> </tr>\n",
    "</table>\n",
    "\n",
    "### Returns\n",
    "\n",
    "<a href=\"../../../utilities/tablesample\">tablesample</a> : An object containing the result. For more information, check out <a href=\"../../../utilities/tablesample\">utilities.tablesample</a>."
   ]
  },
  {
   "cell_type": "markdown",
   "metadata": {},
   "source": [
    "### Example"
   ]
  },
  {
   "cell_type": "code",
   "execution_count": 25,
   "metadata": {
    "scrolled": false
   },
   "outputs": [
    {
     "data": {
      "text/html": [
       "<table style=\"border-collapse: collapse; border: 2px solid white\"><tr style=\"{border: 1px solid white;}\"><td style=\"border-bottom: 1px solid #DDD;font-size:1.02em;background-color:#214579;color:white\"><b></b></td><td style=\"font-size:1.02em;background-color:#214579;color:white\"><b>tree_id</b></td><td style=\"font-size:1.02em;background-color:#214579;color:white\"><b>node_id</b></td><td style=\"font-size:1.02em;background-color:#214579;color:white\"><b>node_depth</b></td><td style=\"font-size:1.02em;background-color:#214579;color:white\"><b>is_leaf</b></td><td style=\"font-size:1.02em;background-color:#214579;color:white\"><b>is_categorical_split</b></td><td style=\"font-size:1.02em;background-color:#214579;color:white\"><b>split_predictor</b></td><td style=\"font-size:1.02em;background-color:#214579;color:white\"><b>split_value</b></td><td style=\"font-size:1.02em;background-color:#214579;color:white\"><b>weighted_information_gain</b></td><td style=\"font-size:1.02em;background-color:#214579;color:white\"><b>left_child_id</b></td><td style=\"font-size:1.02em;background-color:#214579;color:white\"><b>right_child_id</b></td><td style=\"font-size:1.02em;background-color:#214579;color:white\"><b>prediction</b></td><td style=\"font-size:1.02em;background-color:#214579;color:white\"><b>probability/variance</b></td></tr><tr style=\"{border: 1px solid white;}\"><td style=\"border-bottom: 1px solid #DDD;font-size:1.02em;background-color:#214579;color:white\"><b>0</b></td><td style=\"border: 1px solid white;\">0</td><td style=\"border: 1px solid white;\">1</td><td style=\"border: 1px solid white;\">0</td><td style=\"border: 1px solid white;\">False</td><td style=\"border: 1px solid white;\">False</td><td style=\"border: 1px solid white;\">fixed_acidity</td><td style=\"border: 1px solid white;\">7.581250</td><td style=\"border: 1px solid white;\">0.00486633415602404</td><td style=\"border: 1px solid white;\">2</td><td style=\"border: 1px solid white;\">3</td><td style=\"border: 1px solid white;\">None</td><td style=\"border: 1px solid white;\">None</td></tr><tr style=\"{border: 1px solid white;}\"><td style=\"border-bottom: 1px solid #DDD;font-size:1.02em;background-color:#214579;color:white\"><b>1</b></td><td style=\"border: 1px solid white;\">0</td><td style=\"border: 1px solid white;\">2</td><td style=\"border: 1px solid white;\">1</td><td style=\"border: 1px solid white;\">False</td><td style=\"border: 1px solid white;\">False</td><td style=\"border: 1px solid white;\">alcohol</td><td style=\"border: 1px solid white;\">10.803125</td><td style=\"border: 1px solid white;\">0.0643770509367019</td><td style=\"border: 1px solid white;\">4</td><td style=\"border: 1px solid white;\">5</td><td style=\"border: 1px solid white;\">None</td><td style=\"border: 1px solid white;\">None</td></tr><tr style=\"{border: 1px solid white;}\"><td style=\"border-bottom: 1px solid #DDD;font-size:1.02em;background-color:#214579;color:white\"><b>2</b></td><td style=\"border: 1px solid white;\">0</td><td style=\"border: 1px solid white;\">4</td><td style=\"border: 1px solid white;\">2</td><td style=\"border: 1px solid white;\">True</td><td style=\"border: 1px solid white;\">None</td><td style=\"border: 1px solid white;\">None</td><td style=\"border: 1px solid white;\">None</td><td style=\"border: 1px solid white;\">None</td><td style=\"border: 1px solid white;\">None</td><td style=\"border: 1px solid white;\">None</td><td style=\"border: 1px solid white;\">5.584767</td><td style=\"border: 1px solid white;\">0.567138950431334</td></tr><tr style=\"{border: 1px solid white;}\"><td style=\"border-bottom: 1px solid #DDD;font-size:1.02em;background-color:#214579;color:white\"><b>3</b></td><td style=\"border: 1px solid white;\">0</td><td style=\"border: 1px solid white;\">5</td><td style=\"border: 1px solid white;\">2</td><td style=\"border: 1px solid white;\">False</td><td style=\"border: 1px solid white;\">False</td><td style=\"border: 1px solid white;\">alcohol</td><td style=\"border: 1px solid white;\">11.881250</td><td style=\"border: 1px solid white;\">0.00883904720291356</td><td style=\"border: 1px solid white;\">10</td><td style=\"border: 1px solid white;\">11</td><td style=\"border: 1px solid white;\">None</td><td style=\"border: 1px solid white;\">None</td></tr><tr style=\"{border: 1px solid white;}\"><td style=\"border-bottom: 1px solid #DDD;font-size:1.02em;background-color:#214579;color:white\"><b>4</b></td><td style=\"border: 1px solid white;\">0</td><td style=\"border: 1px solid white;\">10</td><td style=\"border: 1px solid white;\">3</td><td style=\"border: 1px solid white;\">True</td><td style=\"border: 1px solid white;\">None</td><td style=\"border: 1px solid white;\">None</td><td style=\"border: 1px solid white;\">None</td><td style=\"border: 1px solid white;\">None</td><td style=\"border: 1px solid white;\">None</td><td style=\"border: 1px solid white;\">None</td><td style=\"border: 1px solid white;\">6.112875</td><td style=\"border: 1px solid white;\">0.791492088376274</td></tr><tr style=\"{border: 1px solid white;}\"><td style=\"border-bottom: 1px solid #DDD;font-size:1.02em;background-color:#214579;color:white\"><b>5</b></td><td style=\"border: 1px solid white;\">0</td><td style=\"border: 1px solid white;\">11</td><td style=\"border: 1px solid white;\">3</td><td style=\"border: 1px solid white;\">True</td><td style=\"border: 1px solid white;\">None</td><td style=\"border: 1px solid white;\">None</td><td style=\"border: 1px solid white;\">None</td><td style=\"border: 1px solid white;\">None</td><td style=\"border: 1px solid white;\">None</td><td style=\"border: 1px solid white;\">None</td><td style=\"border: 1px solid white;\">6.515528</td><td style=\"border: 1px solid white;\">0.734230932448594</td></tr><tr style=\"{border: 1px solid white;}\"><td style=\"border-bottom: 1px solid #DDD;font-size:1.02em;background-color:#214579;color:white\"><b>6</b></td><td style=\"border: 1px solid white;\">0</td><td style=\"border: 1px solid white;\">3</td><td style=\"border: 1px solid white;\">1</td><td style=\"border: 1px solid white;\">False</td><td style=\"border: 1px solid white;\">False</td><td style=\"border: 1px solid white;\">alcohol</td><td style=\"border: 1px solid white;\">10.587500</td><td style=\"border: 1px solid white;\">0.0174251002451911</td><td style=\"border: 1px solid white;\">6</td><td style=\"border: 1px solid white;\">7</td><td style=\"border: 1px solid white;\">None</td><td style=\"border: 1px solid white;\">None</td></tr><tr style=\"{border: 1px solid white;}\"><td style=\"border-bottom: 1px solid #DDD;font-size:1.02em;background-color:#214579;color:white\"><b>7</b></td><td style=\"border: 1px solid white;\">0</td><td style=\"border: 1px solid white;\">6</td><td style=\"border: 1px solid white;\">2</td><td style=\"border: 1px solid white;\">True</td><td style=\"border: 1px solid white;\">None</td><td style=\"border: 1px solid white;\">None</td><td style=\"border: 1px solid white;\">None</td><td style=\"border: 1px solid white;\">None</td><td style=\"border: 1px solid white;\">None</td><td style=\"border: 1px solid white;\">None</td><td style=\"border: 1px solid white;\">5.442211</td><td style=\"border: 1px solid white;\">0.535605161485821</td></tr><tr style=\"{border: 1px solid white;}\"><td style=\"border-bottom: 1px solid #DDD;font-size:1.02em;background-color:#214579;color:white\"><b>8</b></td><td style=\"border: 1px solid white;\">0</td><td style=\"border: 1px solid white;\">7</td><td style=\"border: 1px solid white;\">2</td><td style=\"border: 1px solid white;\">False</td><td style=\"border: 1px solid white;\">False</td><td style=\"border: 1px solid white;\">fixed_acidity</td><td style=\"border: 1px solid white;\">12.118750</td><td style=\"border: 1px solid white;\">0.000434248929428434</td><td style=\"border: 1px solid white;\">14</td><td style=\"border: 1px solid white;\">15</td><td style=\"border: 1px solid white;\">None</td><td style=\"border: 1px solid white;\">None</td></tr><tr style=\"{border: 1px solid white;}\"><td style=\"border-bottom: 1px solid #DDD;font-size:1.02em;background-color:#214579;color:white\"><b>9</b></td><td style=\"border: 1px solid white;\">0</td><td style=\"border: 1px solid white;\">14</td><td style=\"border: 1px solid white;\">3</td><td style=\"border: 1px solid white;\">True</td><td style=\"border: 1px solid white;\">None</td><td style=\"border: 1px solid white;\">None</td><td style=\"border: 1px solid white;\">None</td><td style=\"border: 1px solid white;\">None</td><td style=\"border: 1px solid white;\">None</td><td style=\"border: 1px solid white;\">None</td><td style=\"border: 1px solid white;\">6.061475</td><td style=\"border: 1px solid white;\">0.692942085460897</td></tr><tr style=\"{border: 1px solid white;}\"><td style=\"border-bottom: 1px solid #DDD;font-size:1.02em;background-color:#214579;color:white\"><b>10</b></td><td style=\"border: 1px solid white;\">0</td><td style=\"border: 1px solid white;\">15</td><td style=\"border: 1px solid white;\">3</td><td style=\"border: 1px solid white;\">True</td><td style=\"border: 1px solid white;\">None</td><td style=\"border: 1px solid white;\">None</td><td style=\"border: 1px solid white;\">None</td><td style=\"border: 1px solid white;\">None</td><td style=\"border: 1px solid white;\">None</td><td style=\"border: 1px solid white;\">None</td><td style=\"border: 1px solid white;\">5.647059</td><td style=\"border: 1px solid white;\">0.463667820069391</td></tr></table>"
      ],
      "text/plain": [
       "<IPython.core.display.HTML object>"
      ]
     },
     "metadata": {},
     "output_type": "display_data"
    },
    {
     "data": {
      "text/plain": [
       "<object>"
      ]
     },
     "execution_count": 25,
     "metadata": {},
     "output_type": "execute_result"
    }
   ],
   "source": [
    "from vertica_ml_python.learn.ensemble import RandomForestRegressor\n",
    "model = RandomForestRegressor(name = \"public.RF_winequality\",\n",
    "                              n_estimators = 20,\n",
    "                              max_features = \"auto\",\n",
    "                              max_leaf_nodes = 32, \n",
    "                              sample = 0.7,\n",
    "                              max_depth = 3,\n",
    "                              min_samples_leaf = 5,\n",
    "                              min_info_gain = 0.0,\n",
    "                              nbins = 32)\n",
    "model.fit(\"public.winequality\", [\"alcohol\", \"fixed_acidity\"], \"quality\")\n",
    "model.get_tree()"
   ]
  }
 ],
 "metadata": {
  "kernelspec": {
   "display_name": "Python 3",
   "language": "python",
   "name": "python3"
  },
  "language_info": {
   "codemirror_mode": {
    "name": "ipython",
    "version": 3
   },
   "file_extension": ".py",
   "mimetype": "text/x-python",
   "name": "python",
   "nbconvert_exporter": "python",
   "pygments_lexer": "ipython3",
   "version": "3.6.3"
  }
 },
 "nbformat": 4,
 "nbformat_minor": 2
}
