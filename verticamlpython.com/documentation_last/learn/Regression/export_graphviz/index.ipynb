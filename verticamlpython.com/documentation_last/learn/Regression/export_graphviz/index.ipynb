{
 "cells": [
  {
   "cell_type": "markdown",
   "metadata": {},
   "source": [
    "# regressor.export_graphviz"
   ]
  },
  {
   "cell_type": "code",
   "execution_count": null,
   "metadata": {},
   "outputs": [],
   "source": [
    "regressor.export_graphviz(tree_id: int = 0)"
   ]
  },
  {
   "cell_type": "markdown",
   "metadata": {},
   "source": [
    "Converts the input tree to graphviz.\n",
    "\n",
    "### Parameters\n",
    "\n",
    "<table id=\"parameters\">\n",
    "    <tr> <th>Name</th> <th>Type</th> <th>Optional</th> <th>Description</th> </tr>\n",
    "    <tr> <td><div class=\"param_name\">tree_id</div></td> <td><div class=\"type\">int</div></td> <td><div class = \"yes\">&#10003;</div></td> <td>Unique tree identifier. It is an integer between 0 and n_estimators - 1</td> </tr>\n",
    "</table>\n",
    "\n",
    "### Returns\n",
    "\n",
    "<b>str</b> : graphviz formatted tree."
   ]
  },
  {
   "cell_type": "markdown",
   "metadata": {},
   "source": [
    "### Example"
   ]
  },
  {
   "cell_type": "code",
   "execution_count": 18,
   "metadata": {
    "scrolled": false
   },
   "outputs": [
    {
     "name": "stdout",
     "output_type": "stream",
     "text": [
      "digraph Tree{\n",
      "1 [label = \"fixed_acidity < 7.581250 ?\", color=\"blue\"];\n",
      "1 -> 2 [label = \"yes\", color = \"black\"];\n",
      "1 -> 3 [label = \"no\", color = \"black\"];\n",
      "2 [label = \"fixed_acidity < 5.690625 ?\", color=\"blue\"];\n",
      "2 -> 4 [label = \"yes\", color = \"black\"];\n",
      "2 -> 5 [label = \"no\", color = \"black\"];\n",
      "4 [label = \"prediction: 6.056604, variance: 0.996796\", color=\"red\"];\n",
      "5 [label = \"fixed_acidity < 6.068750 ?\", color=\"blue\"];\n",
      "5 -> 10 [label = \"yes\", color = \"black\"];\n",
      "5 -> 11 [label = \"no\", color = \"black\"];\n",
      "10 [label = \"prediction: 0.000000, variance: nan\", color=\"red\"];\n",
      "11 [label = \"prediction: 5.868771, variance: 0.740586\", color=\"red\"];\n",
      "3 [label = \"alcohol < 11.018750 ?\", color=\"blue\"];\n",
      "3 -> 6 [label = \"yes\", color = \"black\"];\n",
      "3 -> 7 [label = \"no\", color = \"black\"];\n",
      "6 [label = \"fixed_acidity < 10.984375 ?\", color=\"blue\"];\n",
      "6 -> 12 [label = \"yes\", color = \"black\"];\n",
      "6 -> 13 [label = \"no\", color = \"black\"];\n",
      "12 [label = \"prediction: 5.467577, variance: 0.58797\", color=\"red\"];\n",
      "13 [label = \"prediction: 5.756410, variance: 0.748356\", color=\"red\"];\n",
      "7 [label = \"alcohol < 11.665625 ?\", color=\"blue\"];\n",
      "7 -> 14 [label = \"yes\", color = \"black\"];\n",
      "7 -> 15 [label = \"no\", color = \"black\"];\n",
      "14 [label = \"prediction: 5.918033, variance: 0.665413\", color=\"red\"];\n",
      "15 [label = \"prediction: 6.387097, variance: 0.56905\", color=\"red\"];\n",
      "}\n"
     ]
    }
   ],
   "source": [
    "from vertica_ml_python.learn.ensemble import RandomForestRegressor\n",
    "model = RandomForestRegressor(name = \"public.RF_winequality\",\n",
    "                              n_estimators = 20,\n",
    "                              max_features = \"auto\",\n",
    "                              max_leaf_nodes = 32, \n",
    "                              sample = 0.7,\n",
    "                              max_depth = 3,\n",
    "                              min_samples_leaf = 5,\n",
    "                              min_info_gain = 0.0,\n",
    "                              nbins = 32)\n",
    "model.fit(\"public.winequality\", [\"alcohol\", \"fixed_acidity\"], \"quality\")\n",
    "print(model.export_graphviz())"
   ]
  }
 ],
 "metadata": {
  "kernelspec": {
   "display_name": "Python 3",
   "language": "python",
   "name": "python3"
  },
  "language_info": {
   "codemirror_mode": {
    "name": "ipython",
    "version": 3
   },
   "file_extension": ".py",
   "mimetype": "text/x-python",
   "name": "python",
   "nbconvert_exporter": "python",
   "pygments_lexer": "ipython3",
   "version": "3.6.3"
  }
 },
 "nbformat": 4,
 "nbformat_minor": 2
}
