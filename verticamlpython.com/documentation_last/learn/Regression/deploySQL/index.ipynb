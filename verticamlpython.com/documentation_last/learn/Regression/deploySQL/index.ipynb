{
 "cells": [
  {
   "cell_type": "markdown",
   "metadata": {},
   "source": [
    "# regressor.deploySQL"
   ]
  },
  {
   "cell_type": "code",
   "execution_count": null,
   "metadata": {},
   "outputs": [],
   "source": [
    "regressor.deploySQL()"
   ]
  },
  {
   "cell_type": "markdown",
   "metadata": {},
   "source": [
    "Returns the SQL code needed to deploy the model."
   ]
  },
  {
   "cell_type": "markdown",
   "metadata": {},
   "source": [
    "### Returns\n",
    "\n",
    "<b>str</b> : the SQL code needed to deploy the model.\n",
    "\n",
    "### Example"
   ]
  },
  {
   "cell_type": "code",
   "execution_count": 12,
   "metadata": {
    "scrolled": false
   },
   "outputs": [
    {
     "name": "stdout",
     "output_type": "stream",
     "text": [
      "PREDICT_RF_REGRESSOR(\"alcohol\", \"fixed_acidity\" USING PARAMETERS model_name = 'public.RF_winequality', match_by_pos = 'true')\n"
     ]
    }
   ],
   "source": [
    "from vertica_ml_python.learn.ensemble import RandomForestRegressor\n",
    "model = RandomForestRegressor(name = \"public.RF_winequality\",\n",
    "                              n_estimators = 20,\n",
    "                              max_features = \"auto\",\n",
    "                              max_leaf_nodes = 32, \n",
    "                              sample = 0.7,\n",
    "                              max_depth = 3,\n",
    "                              min_samples_leaf = 5,\n",
    "                              min_info_gain = 0.0,\n",
    "                              nbins = 32)\n",
    "model.fit(\"public.winequality\", [\"alcohol\", \"fixed_acidity\"], \"quality\")\n",
    "print(model.deploySQL())"
   ]
  }
 ],
 "metadata": {
  "kernelspec": {
   "display_name": "Python 3",
   "language": "python",
   "name": "python3"
  },
  "language_info": {
   "codemirror_mode": {
    "name": "ipython",
    "version": 3
   },
   "file_extension": ".py",
   "mimetype": "text/x-python",
   "name": "python",
   "nbconvert_exporter": "python",
   "pygments_lexer": "ipython3",
   "version": "3.6.3"
  }
 },
 "nbformat": 4,
 "nbformat_minor": 2
}
