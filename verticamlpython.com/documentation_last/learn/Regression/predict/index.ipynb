{
 "cells": [
  {
   "cell_type": "markdown",
   "metadata": {},
   "source": [
    "# regressor.predict"
   ]
  },
  {
   "cell_type": "code",
   "execution_count": null,
   "metadata": {},
   "outputs": [],
   "source": [
    "regressor.predict(vdf,\n",
    "                  name: str = \"\")"
   ]
  },
  {
   "cell_type": "markdown",
   "metadata": {},
   "source": [
    "Adds the prediction in a vDataFrame.\n",
    "\n",
    "<table id=\"parameters\">\n",
    "    <tr> <th>Name</th> <th>Type</th> <th>Optional</th> <th>Description</th> </tr>\n",
    "    <tr> <td><div class=\"param_name\">vdf</div></td> <td><div class=\"type\">vDataFrame</div></td> <td><div class = \"no\">&#10060;</div></td> <td>Object used to insert the prediction as a vcolumn.</td> </tr>\n",
    "    <tr> <td><div class=\"param_name\">name</div></td> <td><div class=\"type\">str</div></td> <td><div class = \"yes\">&#10003;</div></td> <td>Name of the added vcolumn. If empty, a name will be generated.</td> </tr>\n",
    "</table>\n",
    "\n",
    "### Returns\n",
    "\n",
    "<b>vDataFrame</b> : the input object."
   ]
  },
  {
   "cell_type": "markdown",
   "metadata": {},
   "source": [
    "### Example"
   ]
  },
  {
   "cell_type": "code",
   "execution_count": 37,
   "metadata": {},
   "outputs": [
    {
     "data": {
      "text/html": [
       "<table style=\"border-collapse: collapse; border: 2px solid white\"><tr style=\"{border: 1px solid white;}\"><td style=\"border-bottom: 1px solid #DDD;font-size:1.02em;background-color:#263133;color:white\"><b></b></td><td style=\"font-size:1.02em;background-color:#263133;color:white\"><b>free_sulfur_dioxide</b></td><td style=\"font-size:1.02em;background-color:#263133;color:white\"><b>density</b></td><td style=\"font-size:1.02em;background-color:#263133;color:white\"><b>good</b></td><td style=\"font-size:1.02em;background-color:#263133;color:white\"><b>quality</b></td><td style=\"font-size:1.02em;background-color:#263133;color:white\"><b>chlorides</b></td><td style=\"font-size:1.02em;background-color:#263133;color:white\"><b>alcohol</b></td><td style=\"font-size:1.02em;background-color:#263133;color:white\"><b>color</b></td><td style=\"font-size:1.02em;background-color:#263133;color:white\"><b>pH</b></td><td style=\"font-size:1.02em;background-color:#263133;color:white\"><b>volatile_acidity</b></td><td style=\"font-size:1.02em;background-color:#263133;color:white\"><b>citric_acid</b></td><td style=\"font-size:1.02em;background-color:#263133;color:white\"><b>fixed_acidity</b></td><td style=\"font-size:1.02em;background-color:#263133;color:white\"><b>total_sulfur_dioxide</b></td><td style=\"font-size:1.02em;background-color:#263133;color:white\"><b>sulphates</b></td><td style=\"font-size:1.02em;background-color:#263133;color:white\"><b>residual_sugar</b></td></tr><tr style=\"{border: 1px solid white;}\"><td style=\"border-bottom: 1px solid #DDD;font-size:1.02em;background-color:#263133;color:white\"><b>0</b></td><td style=\"border: 1px solid white;\">20.00</td><td style=\"border: 1px solid white;\">0.99248</td><td style=\"border: 1px solid white;\">0</td><td style=\"border: 1px solid white;\">6</td><td style=\"border: 1px solid white;\">0.036</td><td style=\"border: 1px solid white;\">12.4</td><td style=\"border: 1px solid white;\">white</td><td style=\"border: 1px solid white;\">3.750</td><td style=\"border: 1px solid white;\">0.3100</td><td style=\"border: 1px solid white;\">0.020</td><td style=\"border: 1px solid white;\">3.800</td><td style=\"border: 1px solid white;\">114.00</td><td style=\"border: 1px solid white;\">0.440</td><td style=\"border: 1px solid white;\">11.100</td></tr><tr style=\"{border: 1px solid white;}\"><td style=\"border-bottom: 1px solid #DDD;font-size:1.02em;background-color:#263133;color:white\"><b>1</b></td><td style=\"border: 1px solid white;\">29.00</td><td style=\"border: 1px solid white;\">0.989</td><td style=\"border: 1px solid white;\">1</td><td style=\"border: 1px solid white;\">8</td><td style=\"border: 1px solid white;\">0.03</td><td style=\"border: 1px solid white;\">12.8</td><td style=\"border: 1px solid white;\">white</td><td style=\"border: 1px solid white;\">3.570</td><td style=\"border: 1px solid white;\">0.2250</td><td style=\"border: 1px solid white;\">0.400</td><td style=\"border: 1px solid white;\">3.900</td><td style=\"border: 1px solid white;\">118.00</td><td style=\"border: 1px solid white;\">0.360</td><td style=\"border: 1px solid white;\">4.200</td></tr><tr style=\"{border: 1px solid white;}\"><td style=\"border-bottom: 1px solid #DDD;font-size:1.02em;background-color:#263133;color:white\"><b>2</b></td><td style=\"border: 1px solid white;\">93.00</td><td style=\"border: 1px solid white;\">0.98999</td><td style=\"border: 1px solid white;\">1</td><td style=\"border: 1px solid white;\">7</td><td style=\"border: 1px solid white;\">0.029</td><td style=\"border: 1px solid white;\">12.0</td><td style=\"border: 1px solid white;\">white</td><td style=\"border: 1px solid white;\">3.650</td><td style=\"border: 1px solid white;\">0.1700</td><td style=\"border: 1px solid white;\">0.360</td><td style=\"border: 1px solid white;\">4.200</td><td style=\"border: 1px solid white;\">161.00</td><td style=\"border: 1px solid white;\">0.890</td><td style=\"border: 1px solid white;\">1.800</td></tr><tr style=\"{border: 1px solid white;}\"><td style=\"border-bottom: 1px solid #DDD;font-size:1.02em;background-color:#263133;color:white\"><b>3</b></td><td style=\"border: 1px solid white;\">64.00</td><td style=\"border: 1px solid white;\">0.99688</td><td style=\"border: 1px solid white;\">0</td><td style=\"border: 1px solid white;\">3</td><td style=\"border: 1px solid white;\">0.041</td><td style=\"border: 1px solid white;\">8.0</td><td style=\"border: 1px solid white;\">white</td><td style=\"border: 1px solid white;\">3.420</td><td style=\"border: 1px solid white;\">0.2150</td><td style=\"border: 1px solid white;\">0.230</td><td style=\"border: 1px solid white;\">4.200</td><td style=\"border: 1px solid white;\">157.00</td><td style=\"border: 1px solid white;\">0.440</td><td style=\"border: 1px solid white;\">5.100</td></tr><tr style=\"{border: 1px solid white;}\"><td style=\"border-bottom: 1px solid #DDD;font-size:1.02em;background-color:#263133;color:white\"><b>4</b></td><td style=\"border: 1px solid white;\">31.00</td><td style=\"border: 1px solid white;\">0.98904</td><td style=\"border: 1px solid white;\">1</td><td style=\"border: 1px solid white;\">8</td><td style=\"border: 1px solid white;\">0.03</td><td style=\"border: 1px solid white;\">12.8</td><td style=\"border: 1px solid white;\">white</td><td style=\"border: 1px solid white;\">3.460</td><td style=\"border: 1px solid white;\">0.3200</td><td style=\"border: 1px solid white;\">0.390</td><td style=\"border: 1px solid white;\">4.400</td><td style=\"border: 1px solid white;\">127.00</td><td style=\"border: 1px solid white;\">0.360</td><td style=\"border: 1px solid white;\">4.300</td></tr><tr><td style=\"border-top: 1px solid white;background-color:#263133;color:white\"></td><td style=\"border: 1px solid white;\">...</td><td style=\"border: 1px solid white;\">...</td><td style=\"border: 1px solid white;\">...</td><td style=\"border: 1px solid white;\">...</td><td style=\"border: 1px solid white;\">...</td><td style=\"border: 1px solid white;\">...</td><td style=\"border: 1px solid white;\">...</td><td style=\"border: 1px solid white;\">...</td><td style=\"border: 1px solid white;\">...</td><td style=\"border: 1px solid white;\">...</td><td style=\"border: 1px solid white;\">...</td><td style=\"border: 1px solid white;\">...</td><td style=\"border: 1px solid white;\">...</td><td style=\"border: 1px solid white;\">...</td></tr></table>"
      ],
      "text/plain": [
       "<IPython.core.display.HTML object>"
      ]
     },
     "metadata": {},
     "output_type": "display_data"
    },
    {
     "name": "stdout",
     "output_type": "stream",
     "text": [
      "<object>  Name: winequality, Number of rows: 6497, Number of columns: 14\n"
     ]
    }
   ],
   "source": [
    "from vertica_ml_python import vDataFrame\n",
    "winequality = vDataFrame(\"public.winequality\")\n",
    "print(winequality)"
   ]
  },
  {
   "cell_type": "code",
   "execution_count": 41,
   "metadata": {
    "scrolled": false
   },
   "outputs": [
    {
     "data": {
      "text/html": [
       "<table style=\"border-collapse: collapse; border: 2px solid white\"><tr style=\"{border: 1px solid white;}\"><td style=\"border-bottom: 1px solid #DDD;font-size:1.02em;background-color:#263133;color:white\"><b></b></td><td style=\"font-size:1.02em;background-color:#263133;color:white\"><b>free_sulfur_dioxide</b></td><td style=\"font-size:1.02em;background-color:#263133;color:white\"><b>density</b></td><td style=\"font-size:1.02em;background-color:#263133;color:white\"><b>good</b></td><td style=\"font-size:1.02em;background-color:#263133;color:white\"><b>quality</b></td><td style=\"font-size:1.02em;background-color:#263133;color:white\"><b>chlorides</b></td><td style=\"font-size:1.02em;background-color:#263133;color:white\"><b>alcohol</b></td><td style=\"font-size:1.02em;background-color:#263133;color:white\"><b>color</b></td><td style=\"font-size:1.02em;background-color:#263133;color:white\"><b>pH</b></td><td style=\"font-size:1.02em;background-color:#263133;color:white\"><b>volatile_acidity</b></td><td style=\"font-size:1.02em;background-color:#263133;color:white\"><b>citric_acid</b></td><td style=\"font-size:1.02em;background-color:#263133;color:white\"><b>fixed_acidity</b></td><td style=\"font-size:1.02em;background-color:#263133;color:white\"><b>total_sulfur_dioxide</b></td><td style=\"font-size:1.02em;background-color:#263133;color:white\"><b>sulphates</b></td><td style=\"font-size:1.02em;background-color:#263133;color:white\"><b>residual_sugar</b></td><td style=\"font-size:1.02em;background-color:#263133;color:white\"><b>RandomForestRegressor_publicRFwinequality</b></td><td style=\"font-size:1.02em;background-color:#263133;color:white\"><b>predict_quality</b></td></tr><tr style=\"{border: 1px solid white;}\"><td style=\"border-bottom: 1px solid #DDD;font-size:1.02em;background-color:#263133;color:white\"><b>0</b></td><td style=\"border: 1px solid white;\">20.00</td><td style=\"border: 1px solid white;\">0.99248</td><td style=\"border: 1px solid white;\">0</td><td style=\"border: 1px solid white;\">6</td><td style=\"border: 1px solid white;\">0.036</td><td style=\"border: 1px solid white;\">12.4</td><td style=\"border: 1px solid white;\">white</td><td style=\"border: 1px solid white;\">3.750</td><td style=\"border: 1px solid white;\">0.3100</td><td style=\"border: 1px solid white;\">0.020</td><td style=\"border: 1px solid white;\">3.800</td><td style=\"border: 1px solid white;\">114.00</td><td style=\"border: 1px solid white;\">0.440</td><td style=\"border: 1px solid white;\">11.100</td><td style=\"border: 1px solid white;\">6.3787333212411</td><td style=\"border: 1px solid white;\">6.3787333212411</td></tr><tr style=\"{border: 1px solid white;}\"><td style=\"border-bottom: 1px solid #DDD;font-size:1.02em;background-color:#263133;color:white\"><b>1</b></td><td style=\"border: 1px solid white;\">29.00</td><td style=\"border: 1px solid white;\">0.989</td><td style=\"border: 1px solid white;\">1</td><td style=\"border: 1px solid white;\">8</td><td style=\"border: 1px solid white;\">0.03</td><td style=\"border: 1px solid white;\">12.8</td><td style=\"border: 1px solid white;\">white</td><td style=\"border: 1px solid white;\">3.570</td><td style=\"border: 1px solid white;\">0.2250</td><td style=\"border: 1px solid white;\">0.400</td><td style=\"border: 1px solid white;\">3.900</td><td style=\"border: 1px solid white;\">118.00</td><td style=\"border: 1px solid white;\">0.360</td><td style=\"border: 1px solid white;\">4.200</td><td style=\"border: 1px solid white;\">6.58626788584711</td><td style=\"border: 1px solid white;\">6.58626788584711</td></tr><tr style=\"{border: 1px solid white;}\"><td style=\"border-bottom: 1px solid #DDD;font-size:1.02em;background-color:#263133;color:white\"><b>2</b></td><td style=\"border: 1px solid white;\">93.00</td><td style=\"border: 1px solid white;\">0.98999</td><td style=\"border: 1px solid white;\">1</td><td style=\"border: 1px solid white;\">7</td><td style=\"border: 1px solid white;\">0.029</td><td style=\"border: 1px solid white;\">12.0</td><td style=\"border: 1px solid white;\">white</td><td style=\"border: 1px solid white;\">3.650</td><td style=\"border: 1px solid white;\">0.1700</td><td style=\"border: 1px solid white;\">0.360</td><td style=\"border: 1px solid white;\">4.200</td><td style=\"border: 1px solid white;\">161.00</td><td style=\"border: 1px solid white;\">0.890</td><td style=\"border: 1px solid white;\">1.800</td><td style=\"border: 1px solid white;\">6.44583178840808</td><td style=\"border: 1px solid white;\">6.44583178840808</td></tr><tr style=\"{border: 1px solid white;}\"><td style=\"border-bottom: 1px solid #DDD;font-size:1.02em;background-color:#263133;color:white\"><b>3</b></td><td style=\"border: 1px solid white;\">64.00</td><td style=\"border: 1px solid white;\">0.99688</td><td style=\"border: 1px solid white;\">0</td><td style=\"border: 1px solid white;\">3</td><td style=\"border: 1px solid white;\">0.041</td><td style=\"border: 1px solid white;\">8.0</td><td style=\"border: 1px solid white;\">white</td><td style=\"border: 1px solid white;\">3.420</td><td style=\"border: 1px solid white;\">0.2150</td><td style=\"border: 1px solid white;\">0.230</td><td style=\"border: 1px solid white;\">4.200</td><td style=\"border: 1px solid white;\">157.00</td><td style=\"border: 1px solid white;\">0.440</td><td style=\"border: 1px solid white;\">5.100</td><td style=\"border: 1px solid white;\">5.49278049271711</td><td style=\"border: 1px solid white;\">5.49278049271711</td></tr><tr style=\"{border: 1px solid white;}\"><td style=\"border-bottom: 1px solid #DDD;font-size:1.02em;background-color:#263133;color:white\"><b>4</b></td><td style=\"border: 1px solid white;\">31.00</td><td style=\"border: 1px solid white;\">0.98904</td><td style=\"border: 1px solid white;\">1</td><td style=\"border: 1px solid white;\">8</td><td style=\"border: 1px solid white;\">0.03</td><td style=\"border: 1px solid white;\">12.8</td><td style=\"border: 1px solid white;\">white</td><td style=\"border: 1px solid white;\">3.460</td><td style=\"border: 1px solid white;\">0.3200</td><td style=\"border: 1px solid white;\">0.390</td><td style=\"border: 1px solid white;\">4.400</td><td style=\"border: 1px solid white;\">127.00</td><td style=\"border: 1px solid white;\">0.360</td><td style=\"border: 1px solid white;\">4.300</td><td style=\"border: 1px solid white;\">6.58626788584711</td><td style=\"border: 1px solid white;\">6.58626788584711</td></tr><tr><td style=\"border-top: 1px solid white;background-color:#263133;color:white\"></td><td style=\"border: 1px solid white;\">...</td><td style=\"border: 1px solid white;\">...</td><td style=\"border: 1px solid white;\">...</td><td style=\"border: 1px solid white;\">...</td><td style=\"border: 1px solid white;\">...</td><td style=\"border: 1px solid white;\">...</td><td style=\"border: 1px solid white;\">...</td><td style=\"border: 1px solid white;\">...</td><td style=\"border: 1px solid white;\">...</td><td style=\"border: 1px solid white;\">...</td><td style=\"border: 1px solid white;\">...</td><td style=\"border: 1px solid white;\">...</td><td style=\"border: 1px solid white;\">...</td><td style=\"border: 1px solid white;\">...</td><td style=\"border: 1px solid white;\">...</td><td style=\"border: 1px solid white;\">...</td></tr></table>"
      ],
      "text/plain": [
       "<IPython.core.display.HTML object>"
      ]
     },
     "metadata": {},
     "output_type": "display_data"
    },
    {
     "data": {
      "text/plain": [
       "<object>  Name: winequality, Number of rows: 6497, Number of columns: 16"
      ]
     },
     "execution_count": 41,
     "metadata": {},
     "output_type": "execute_result"
    }
   ],
   "source": [
    "from vertica_ml_python.learn.ensemble import RandomForestRegressor\n",
    "model = RandomForestRegressor(name = \"public.RF_winequality\",\n",
    "                              n_estimators = 20,\n",
    "                              max_features = \"auto\",\n",
    "                              max_leaf_nodes = 32, \n",
    "                              sample = 0.7,\n",
    "                              max_depth = 3,\n",
    "                              min_samples_leaf = 5,\n",
    "                              min_info_gain = 0.0,\n",
    "                              nbins = 32)\n",
    "model.fit(\"public.winequality\", \n",
    "          [\"alcohol\", \"fixed_acidity\", \"pH\", \"density\"], \n",
    "          \"quality\")\n",
    "model.predict(winequality, name = \"predict_quality\")"
   ]
  }
 ],
 "metadata": {
  "kernelspec": {
   "display_name": "Python 3",
   "language": "python",
   "name": "python3"
  },
  "language_info": {
   "codemirror_mode": {
    "name": "ipython",
    "version": 3
   },
   "file_extension": ".py",
   "mimetype": "text/x-python",
   "name": "python",
   "nbconvert_exporter": "python",
   "pygments_lexer": "ipython3",
   "version": "3.6.3"
  }
 },
 "nbformat": 4,
 "nbformat_minor": 2
}
