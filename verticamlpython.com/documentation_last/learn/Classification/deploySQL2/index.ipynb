{
 "cells": [
  {
   "cell_type": "markdown",
   "metadata": {},
   "source": [
    "# classifier.deploySQL"
   ]
  },
  {
   "cell_type": "code",
   "execution_count": null,
   "metadata": {},
   "outputs": [],
   "source": [
    "classifier.deploySQL(predict: bool = False)"
   ]
  },
  {
   "cell_type": "markdown",
   "metadata": {},
   "source": [
    "Returns the SQL code needed to deploy the model. \n",
    "\n",
    "### Parameters\n",
    "\n",
    "<table id=\"parameters\">\n",
    "    <tr> <th>Name</th> <th>Type</th> <th>Optional</th> <th>Description</th> </tr>\n",
    "    <tr> <td><div class=\"param_name\">predict</div></td> <td><div class=\"type\">bool</div></td> <td><div class = \"yes\">&#10003;</div></td> <td>If set to True, returns the prediction instead of the probability.</td> </tr>\n",
    "</table>\n",
    "\n",
    "### Returns\n",
    "\n",
    "<b>str / list</b> : the SQL code needed to deploy the model."
   ]
  },
  {
   "cell_type": "markdown",
   "metadata": {},
   "source": [
    "### Example"
   ]
  },
  {
   "cell_type": "code",
   "execution_count": 51,
   "metadata": {
    "scrolled": false
   },
   "outputs": [
    {
     "name": "stdout",
     "output_type": "stream",
     "text": [
      "(SELECT row_id, \"PetalLengthCm\", \"PetalWidthCm\", \"SepalWidthCm\", \"Species\", predict_knc, COUNT(*) / 5 AS proba_predict FROM (SELECT x.\"PetalLengthCm\", x.\"PetalWidthCm\", x.\"SepalWidthCm\", ROW_NUMBER() OVER(PARTITION BY x.\"PetalLengthCm\", x.\"PetalWidthCm\", x.\"SepalWidthCm\", row_id ORDER BY POWER(POWER(ABS(x.\"PetalLengthCm\" - y.\"PetalLengthCm\"), 2) + POWER(ABS(x.\"PetalWidthCm\" - y.\"PetalWidthCm\"), 2) + POWER(ABS(x.\"SepalWidthCm\" - y.\"SepalWidthCm\"), 2), 1 / 2)) AS ordered_distance, x.\"Species\", y.\"Species\" AS predict_knc, row_id FROM (SELECT *, ROW_NUMBER() OVER() AS row_id FROM public.iris WHERE \"PetalLengthCm\" IS NOT NULL AND \"PetalWidthCm\" IS NOT NULL AND \"SepalWidthCm\" IS NOT NULL) x CROSS JOIN (SELECT * FROM public.iris WHERE \"PetalLengthCm\" IS NOT NULL AND \"PetalWidthCm\" IS NOT NULL AND \"SepalWidthCm\" IS NOT NULL) y) z WHERE ordered_distance <= 5 GROUP BY \"PetalLengthCm\", \"PetalWidthCm\", \"SepalWidthCm\", \"Species\", row_id, predict_knc) knc_table\n"
     ]
    }
   ],
   "source": [
    "from vertica_ml_python.learn.neighbors import KNeighborsClassifier\n",
    "model = KNeighborsClassifier()\n",
    "model.fit(\"public.iris\", \n",
    "          [\"PetalLengthCm\", \"PetalWidthCm\", \"SepalWidthCm\"], \n",
    "          \"Species\")\n",
    "print(model.deploySQL())"
   ]
  },
  {
   "cell_type": "code",
   "execution_count": 52,
   "metadata": {},
   "outputs": [
    {
     "name": "stdout",
     "output_type": "stream",
     "text": [
      "(SELECT \"PetalLengthCm\", \"PetalWidthCm\", \"SepalWidthCm\", \"Species\", predict_knc FROM (SELECT \"PetalLengthCm\", \"PetalWidthCm\", \"SepalWidthCm\", \"Species\", predict_knc, ROW_NUMBER() OVER (PARTITION BY \"PetalLengthCm\", \"PetalWidthCm\", \"SepalWidthCm\" ORDER BY proba_predict DESC) AS order_prediction FROM (SELECT row_id, \"PetalLengthCm\", \"PetalWidthCm\", \"SepalWidthCm\", \"Species\", predict_knc, COUNT(*) / 5 AS proba_predict FROM (SELECT x.\"PetalLengthCm\", x.\"PetalWidthCm\", x.\"SepalWidthCm\", ROW_NUMBER() OVER(PARTITION BY x.\"PetalLengthCm\", x.\"PetalWidthCm\", x.\"SepalWidthCm\", row_id ORDER BY POWER(POWER(ABS(x.\"PetalLengthCm\" - y.\"PetalLengthCm\"), 2) + POWER(ABS(x.\"PetalWidthCm\" - y.\"PetalWidthCm\"), 2) + POWER(ABS(x.\"SepalWidthCm\" - y.\"SepalWidthCm\"), 2), 1 / 2)) AS ordered_distance, x.\"Species\", y.\"Species\" AS predict_knc, row_id FROM (SELECT *, ROW_NUMBER() OVER() AS row_id FROM public.iris WHERE \"PetalLengthCm\" IS NOT NULL AND \"PetalWidthCm\" IS NOT NULL AND \"SepalWidthCm\" IS NOT NULL) x CROSS JOIN (SELECT * FROM public.iris WHERE \"PetalLengthCm\" IS NOT NULL AND \"PetalWidthCm\" IS NOT NULL AND \"SepalWidthCm\" IS NOT NULL) y) z WHERE ordered_distance <= 5 GROUP BY \"PetalLengthCm\", \"PetalWidthCm\", \"SepalWidthCm\", \"Species\", row_id, predict_knc) knc_table) x WHERE order_prediction = 1) predict_knc_table\n"
     ]
    }
   ],
   "source": [
    "print(model.deploySQL(predict = True))"
   ]
  }
 ],
 "metadata": {
  "kernelspec": {
   "display_name": "Python 3",
   "language": "python",
   "name": "python3"
  },
  "language_info": {
   "codemirror_mode": {
    "name": "ipython",
    "version": 3
   },
   "file_extension": ".py",
   "mimetype": "text/x-python",
   "name": "python",
   "nbconvert_exporter": "python",
   "pygments_lexer": "ipython3",
   "version": "3.6.3"
  }
 },
 "nbformat": 4,
 "nbformat_minor": 2
}
