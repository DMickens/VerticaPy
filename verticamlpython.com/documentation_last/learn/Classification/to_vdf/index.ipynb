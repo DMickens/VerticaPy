{
 "cells": [
  {
   "cell_type": "markdown",
   "metadata": {},
   "source": [
    "# classifier.to_vdf"
   ]
  },
  {
   "cell_type": "code",
   "execution_count": null,
   "metadata": {},
   "outputs": [],
   "source": [
    "classifier.to_vdf(cutoff: float = -1, \n",
    "                  all_classes: bool = False)"
   ]
  },
  {
   "cell_type": "markdown",
   "metadata": {},
   "source": [
    "Returns the vDataFrame of the Prediction. This method can be used when a model has not the 'predict' method.\n",
    "\n",
    "### Parameters\n",
    "\n",
    "<table id=\"parameters\">\n",
    "    <tr> <th>Name</th> <th>Type</th> <th>Optional</th> <th>Description</th> </tr>\n",
    "    <tr> <td><div class=\"param_name\">cutoff</div></td> <td><div class=\"type\">float</div></td> <td><div class = \"yes\">&#10003;</div></td> <td>Cutoff used in case of binary classification. It is the probability to accept the category 1.</td> </tr>\n",
    "    <tr> <td><div class=\"param_name\">all_classes</div></td> <td><div class=\"type\">bool</div></td> <td><div class = \"yes\">&#10003;</div></td> <td>If set to True, all the classes probabilities will be generated (one column per category).</td> </tr>\n",
    "</table>\n",
    "\n",
    "### Returns\n",
    "\n",
    "<b>vDataFrame</b> : the vDataFrame of the prediction"
   ]
  },
  {
   "cell_type": "markdown",
   "metadata": {},
   "source": [
    "### Example"
   ]
  },
  {
   "cell_type": "code",
   "execution_count": 56,
   "metadata": {
    "scrolled": false
   },
   "outputs": [
    {
     "data": {
      "text/html": [
       "<table style=\"border-collapse: collapse; border: 2px solid white\"><tr style=\"{border: 1px solid white;}\"><td style=\"border-bottom: 1px solid #DDD;font-size:1.02em;background-color:#263133;color:white\"><b></b></td><td style=\"font-size:1.02em;background-color:#263133;color:white\"><b>PetalLengthCm</b></td><td style=\"font-size:1.02em;background-color:#263133;color:white\"><b>PetalWidthCm</b></td><td style=\"font-size:1.02em;background-color:#263133;color:white\"><b>SepalWidthCm</b></td><td style=\"font-size:1.02em;background-color:#263133;color:white\"><b>Species</b></td></tr><tr style=\"{border: 1px solid white;}\"><td style=\"border-bottom: 1px solid #DDD;font-size:1.02em;background-color:#263133;color:white\"><b>0</b></td><td style=\"border: 1px solid white;\">1.00</td><td style=\"border: 1px solid white;\">0.20</td><td style=\"border: 1px solid white;\">3.60</td><td style=\"border: 1px solid white;\">Iris-setosa</td></tr><tr style=\"{border: 1px solid white;}\"><td style=\"border-bottom: 1px solid #DDD;font-size:1.02em;background-color:#263133;color:white\"><b>1</b></td><td style=\"border: 1px solid white;\">1.10</td><td style=\"border: 1px solid white;\">0.10</td><td style=\"border: 1px solid white;\">3.00</td><td style=\"border: 1px solid white;\">Iris-setosa</td></tr><tr style=\"{border: 1px solid white;}\"><td style=\"border-bottom: 1px solid #DDD;font-size:1.02em;background-color:#263133;color:white\"><b>2</b></td><td style=\"border: 1px solid white;\">1.20</td><td style=\"border: 1px solid white;\">0.20</td><td style=\"border: 1px solid white;\">3.20</td><td style=\"border: 1px solid white;\">Iris-setosa</td></tr><tr style=\"{border: 1px solid white;}\"><td style=\"border-bottom: 1px solid #DDD;font-size:1.02em;background-color:#263133;color:white\"><b>3</b></td><td style=\"border: 1px solid white;\">1.20</td><td style=\"border: 1px solid white;\">0.20</td><td style=\"border: 1px solid white;\">4.00</td><td style=\"border: 1px solid white;\">Iris-setosa</td></tr><tr style=\"{border: 1px solid white;}\"><td style=\"border-bottom: 1px solid #DDD;font-size:1.02em;background-color:#263133;color:white\"><b>4</b></td><td style=\"border: 1px solid white;\">1.30</td><td style=\"border: 1px solid white;\">0.20</td><td style=\"border: 1px solid white;\">3.00</td><td style=\"border: 1px solid white;\">Iris-setosa</td></tr><tr><td style=\"border-top: 1px solid white;background-color:#263133;color:white\"></td><td style=\"border: 1px solid white;\">...</td><td style=\"border: 1px solid white;\">...</td><td style=\"border: 1px solid white;\">...</td><td style=\"border: 1px solid white;\">...</td></tr></table>"
      ],
      "text/plain": [
       "<IPython.core.display.HTML object>"
      ]
     },
     "metadata": {},
     "output_type": "display_data"
    },
    {
     "data": {
      "text/plain": [
       "<object>  Name: knn, Number of rows: 142, Number of columns: 4"
      ]
     },
     "execution_count": 56,
     "metadata": {},
     "output_type": "execute_result"
    }
   ],
   "source": [
    "from vertica_ml_python.learn.neighbors import KNeighborsClassifier\n",
    "model = KNeighborsClassifier()\n",
    "model.fit(\"public.iris\", \n",
    "          [\"PetalLengthCm\", \"PetalWidthCm\", \"SepalWidthCm\"], \n",
    "          \"Species\")\n",
    "model.to_vdf()"
   ]
  },
  {
   "cell_type": "code",
   "execution_count": 55,
   "metadata": {},
   "outputs": [
    {
     "data": {
      "text/html": [
       "<table style=\"border-collapse: collapse; border: 2px solid white\"><tr style=\"{border: 1px solid white;}\"><td style=\"border-bottom: 1px solid #DDD;font-size:1.02em;background-color:#263133;color:white\"><b></b></td><td style=\"font-size:1.02em;background-color:#263133;color:white\"><b>PetalLengthCm</b></td><td style=\"font-size:1.02em;background-color:#263133;color:white\"><b>PetalWidthCm</b></td><td style=\"font-size:1.02em;background-color:#263133;color:white\"><b>SepalWidthCm</b></td><td style=\"font-size:1.02em;background-color:#263133;color:white\"><b>Species_Iris-setosa</b></td><td style=\"font-size:1.02em;background-color:#263133;color:white\"><b>Species_Iris-versicolor</b></td><td style=\"font-size:1.02em;background-color:#263133;color:white\"><b>Species_Iris-virginica</b></td></tr><tr style=\"{border: 1px solid white;}\"><td style=\"border-bottom: 1px solid #DDD;font-size:1.02em;background-color:#263133;color:white\"><b>0</b></td><td style=\"border: 1px solid white;\">1.00</td><td style=\"border: 1px solid white;\">0.20</td><td style=\"border: 1px solid white;\">3.60</td><td style=\"border: 1px solid white;\">1.0</td><td style=\"border: 1px solid white;\">0.0</td><td style=\"border: 1px solid white;\">0.0</td></tr><tr style=\"{border: 1px solid white;}\"><td style=\"border-bottom: 1px solid #DDD;font-size:1.02em;background-color:#263133;color:white\"><b>1</b></td><td style=\"border: 1px solid white;\">1.10</td><td style=\"border: 1px solid white;\">0.10</td><td style=\"border: 1px solid white;\">3.00</td><td style=\"border: 1px solid white;\">1.0</td><td style=\"border: 1px solid white;\">0.0</td><td style=\"border: 1px solid white;\">0.0</td></tr><tr style=\"{border: 1px solid white;}\"><td style=\"border-bottom: 1px solid #DDD;font-size:1.02em;background-color:#263133;color:white\"><b>2</b></td><td style=\"border: 1px solid white;\">1.20</td><td style=\"border: 1px solid white;\">0.20</td><td style=\"border: 1px solid white;\">3.20</td><td style=\"border: 1px solid white;\">1.0</td><td style=\"border: 1px solid white;\">0.0</td><td style=\"border: 1px solid white;\">0.0</td></tr><tr style=\"{border: 1px solid white;}\"><td style=\"border-bottom: 1px solid #DDD;font-size:1.02em;background-color:#263133;color:white\"><b>3</b></td><td style=\"border: 1px solid white;\">1.20</td><td style=\"border: 1px solid white;\">0.20</td><td style=\"border: 1px solid white;\">4.00</td><td style=\"border: 1px solid white;\">1.0</td><td style=\"border: 1px solid white;\">0.0</td><td style=\"border: 1px solid white;\">0.0</td></tr><tr style=\"{border: 1px solid white;}\"><td style=\"border-bottom: 1px solid #DDD;font-size:1.02em;background-color:#263133;color:white\"><b>4</b></td><td style=\"border: 1px solid white;\">1.30</td><td style=\"border: 1px solid white;\">0.20</td><td style=\"border: 1px solid white;\">3.00</td><td style=\"border: 1px solid white;\">1.0</td><td style=\"border: 1px solid white;\">0.0</td><td style=\"border: 1px solid white;\">0.0</td></tr><tr><td style=\"border-top: 1px solid white;background-color:#263133;color:white\"></td><td style=\"border: 1px solid white;\">...</td><td style=\"border: 1px solid white;\">...</td><td style=\"border: 1px solid white;\">...</td><td style=\"border: 1px solid white;\">...</td><td style=\"border: 1px solid white;\">...</td><td style=\"border: 1px solid white;\">...</td></tr></table>"
      ],
      "text/plain": [
       "<IPython.core.display.HTML object>"
      ]
     },
     "metadata": {},
     "output_type": "display_data"
    },
    {
     "data": {
      "text/plain": [
       "<object>  Name: knn, Number of rows: 142, Number of columns: 6"
      ]
     },
     "execution_count": 55,
     "metadata": {},
     "output_type": "execute_result"
    }
   ],
   "source": [
    "model.to_vdf(all_classes = True)"
   ]
  }
 ],
 "metadata": {
  "kernelspec": {
   "display_name": "Python 3",
   "language": "python",
   "name": "python3"
  },
  "language_info": {
   "codemirror_mode": {
    "name": "ipython",
    "version": 3
   },
   "file_extension": ".py",
   "mimetype": "text/x-python",
   "name": "python",
   "nbconvert_exporter": "python",
   "pygments_lexer": "ipython3",
   "version": "3.6.3"
  }
 },
 "nbformat": 4,
 "nbformat_minor": 2
}
