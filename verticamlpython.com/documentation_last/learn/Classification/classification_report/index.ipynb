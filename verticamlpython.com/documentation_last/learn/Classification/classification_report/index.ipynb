{
 "cells": [
  {
   "cell_type": "markdown",
   "metadata": {},
   "source": [
    "# classifier.classification_report"
   ]
  },
  {
   "cell_type": "markdown",
   "metadata": {},
   "source": [
    "<b>Definition for Multiclass Classifier:</b>"
   ]
  },
  {
   "cell_type": "code",
   "execution_count": null,
   "metadata": {},
   "outputs": [],
   "source": [
    "classifier.classification_report(cutoff = [],\n",
    "                                 labels: list = [])"
   ]
  },
  {
   "cell_type": "markdown",
   "metadata": {},
   "source": [
    "<b>Definition for Binary Classifier:</b>"
   ]
  },
  {
   "cell_type": "code",
   "execution_count": null,
   "metadata": {},
   "outputs": [],
   "source": [
    "classifier.classification_report(cutoff: float = 0.5)"
   ]
  },
  {
   "cell_type": "markdown",
   "metadata": {},
   "source": [
    "Computes a classification report using multiple metrics to evaluate the model (AUC, accuracy, PRC AUC, F1...). In case of multiclass classification, it will consider each category as positive and switch to the next one during the computation.\n",
    "\n",
    "### Parameters\n",
    "\n",
    "<table id=\"parameters\">\n",
    "    <tr> <th>Name</th> <th>Type</th> <th>Optional</th> <th>Description</th> </tr>\n",
    "    <tr> <td><div class=\"param_name\">cutoff</div></td> <td><div class=\"type\">float / list </div></td> <td><div class = \"yes\">&#10003;</div></td> <td>Cutoff for which the tested category will be accepted as prediction. In case of multiclass classification, each tested category becomes the positives and the others are merged into the negatives. The list will represent the classes threshold. If it is empty or invalid, the best cutoff will be used.</td> </tr>\n",
    "    <tr> <td><div class=\"param_name\">labels</div></td> <td><div class=\"type\">list</div></td> <td><div class = \"yes\">&#10003;</div></td> <td>List of the different labels to be used during the computation.</td> </tr>\n",
    "</table>"
   ]
  },
  {
   "cell_type": "markdown",
   "metadata": {},
   "source": [
    "### Returns\n",
    "\n",
    "<a href=\"../../../utilities/tablesample\">tablesample</a> : An object containing the result. For more information, check out <a href=\"../../../utilities/tablesample\">utilities.tablesample</a>.\n",
    "\n",
    "### Example"
   ]
  },
  {
   "cell_type": "code",
   "execution_count": 11,
   "metadata": {
    "scrolled": false
   },
   "outputs": [
    {
     "data": {
      "text/html": [
       "<table style=\"border-collapse: collapse; border: 2px solid white\"><tr style=\"{border: 1px solid white;}\"><td style=\"border-bottom: 1px solid #DDD;font-size:1.02em;background-color:#263133;color:white\"><b></b></td><td style=\"font-size:1.02em;background-color:#263133;color:white\"><b>Iris-setosa</b></td><td style=\"font-size:1.02em;background-color:#263133;color:white\"><b>Iris-versicolor</b></td><td style=\"font-size:1.02em;background-color:#263133;color:white\"><b>Iris-virginica</b></td></tr><tr style=\"{border: 1px solid white;}\"><td style=\"border-bottom: 1px solid #DDD;font-size:1.02em;background-color:#263133;color:white\"><b>auc</b></td><td style=\"border: 1px solid white;\">1.0</td><td style=\"border: 1px solid white;\">0.9962000000000002</td><td style=\"border: 1px solid white;\">0.997</td></tr><tr style=\"{border: 1px solid white;}\"><td style=\"border-bottom: 1px solid #DDD;font-size:1.02em;background-color:#263133;color:white\"><b>prc_auc</b></td><td style=\"border: 1px solid white;\">1.0</td><td style=\"border: 1px solid white;\">0.9928891891647207</td><td style=\"border: 1px solid white;\">0.9941765474895515</td></tr><tr style=\"{border: 1px solid white;}\"><td style=\"border-bottom: 1px solid #DDD;font-size:1.02em;background-color:#263133;color:white\"><b>accuracy</b></td><td style=\"border: 1px solid white;\">1.0</td><td style=\"border: 1px solid white;\">0.9533333333333334</td><td style=\"border: 1px solid white;\">0.9666666666666667</td></tr><tr style=\"{border: 1px solid white;}\"><td style=\"border-bottom: 1px solid #DDD;font-size:1.02em;background-color:#263133;color:white\"><b>log_loss</b></td><td style=\"border: 1px solid white;\">0.0095578366458892</td><td style=\"border: 1px solid white;\">0.0382878575678393</td><td style=\"border: 1px solid white;\">0.036209467180686</td></tr><tr style=\"{border: 1px solid white;}\"><td style=\"border-bottom: 1px solid #DDD;font-size:1.02em;background-color:#263133;color:white\"><b>precision</b></td><td style=\"border: 1px solid white;\">1.0</td><td style=\"border: 1px solid white;\">1.0</td><td style=\"border: 1px solid white;\">0.96</td></tr><tr style=\"{border: 1px solid white;}\"><td style=\"border-bottom: 1px solid #DDD;font-size:1.02em;background-color:#263133;color:white\"><b>recall</b></td><td style=\"border: 1px solid white;\">1.0</td><td style=\"border: 1px solid white;\">0.8771929824561403</td><td style=\"border: 1px solid white;\">0.9411764705882353</td></tr><tr style=\"{border: 1px solid white;}\"><td style=\"border-bottom: 1px solid #DDD;font-size:1.02em;background-color:#263133;color:white\"><b>f1_score</b></td><td style=\"border: 1px solid white;\">1.0</td><td style=\"border: 1px solid white;\">0.9345794392523363</td><td style=\"border: 1px solid white;\">0.9600989792762139</td></tr><tr style=\"{border: 1px solid white;}\"><td style=\"border-bottom: 1px solid #DDD;font-size:1.02em;background-color:#263133;color:white\"><b>mcc</b></td><td style=\"border: 1px solid white;\">1.0</td><td style=\"border: 1px solid white;\">0.9032106474595007</td><td style=\"border: 1px solid white;\">0.9254762227411247</td></tr><tr style=\"{border: 1px solid white;}\"><td style=\"border-bottom: 1px solid #DDD;font-size:1.02em;background-color:#263133;color:white\"><b>informedness</b></td><td style=\"border: 1px solid white;\">1.0</td><td style=\"border: 1px solid white;\">0.8771929824561404</td><td style=\"border: 1px solid white;\">0.9209744503862152</td></tr><tr style=\"{border: 1px solid white;}\"><td style=\"border-bottom: 1px solid #DDD;font-size:1.02em;background-color:#263133;color:white\"><b>markedness</b></td><td style=\"border: 1px solid white;\">1.0</td><td style=\"border: 1px solid white;\">0.9300000000000002</td><td style=\"border: 1px solid white;\">0.9299999999999999</td></tr><tr style=\"{border: 1px solid white;}\"><td style=\"border-bottom: 1px solid #DDD;font-size:1.02em;background-color:#263133;color:white\"><b>csi</b></td><td style=\"border: 1px solid white;\">1.0</td><td style=\"border: 1px solid white;\">0.8771929824561403</td><td style=\"border: 1px solid white;\">0.9056603773584906</td></tr><tr style=\"{border: 1px solid white;}\"><td style=\"border-bottom: 1px solid #DDD;font-size:1.02em;background-color:#263133;color:white\"><b>cutoff</b></td><td style=\"border: 1px solid white;\">0.33</td><td style=\"border: 1px solid white;\">0.33</td><td style=\"border: 1px solid white;\">0.33</td></tr></table>"
      ],
      "text/plain": [
       "<IPython.core.display.HTML object>"
      ]
     },
     "metadata": {},
     "output_type": "display_data"
    },
    {
     "data": {
      "text/plain": [
       "<object>"
      ]
     },
     "execution_count": 11,
     "metadata": {},
     "output_type": "execute_result"
    }
   ],
   "source": [
    "# Multiclass Classification\n",
    "from vertica_ml_python.learn.ensemble import RandomForestClassifier\n",
    "model = RandomForestClassifier(name = \"public.RF_iris\",\n",
    "                               n_estimators = 20,\n",
    "                               max_features = \"auto\",\n",
    "                               max_leaf_nodes = 32, \n",
    "                               sample = 0.7,\n",
    "                               max_depth = 3,\n",
    "                               min_samples_leaf = 5,\n",
    "                               min_info_gain = 0.0,\n",
    "                               nbins = 32)\n",
    "model.fit(\"public.iris\", [\"PetalLengthCm\", \"PetalWidthCm\"], \"Species\")\n",
    "# Multiclass Classification: Using a fixed cutoff\n",
    "model.classification_report(cutoff = 0.33)"
   ]
  },
  {
   "cell_type": "code",
   "execution_count": 3,
   "metadata": {},
   "outputs": [
    {
     "data": {
      "text/html": [
       "<table style=\"border-collapse: collapse; border: 2px solid white\"><tr style=\"{border: 1px solid white;}\"><td style=\"border-bottom: 1px solid #DDD;font-size:1.02em;background-color:#263133;color:white\"><b></b></td><td style=\"font-size:1.02em;background-color:#263133;color:white\"><b>Iris-setosa</b></td><td style=\"font-size:1.02em;background-color:#263133;color:white\"><b>Iris-versicolor</b></td><td style=\"font-size:1.02em;background-color:#263133;color:white\"><b>Iris-virginica</b></td></tr><tr style=\"{border: 1px solid white;}\"><td style=\"border-bottom: 1px solid #DDD;font-size:1.02em;background-color:#263133;color:white\"><b>auc</b></td><td style=\"border: 1px solid white;\">1.0</td><td style=\"border: 1px solid white;\">0.9958999999999999</td><td style=\"border: 1px solid white;\">0.9959000000000002</td></tr><tr style=\"{border: 1px solid white;}\"><td style=\"border-bottom: 1px solid #DDD;font-size:1.02em;background-color:#263133;color:white\"><b>prc_auc</b></td><td style=\"border: 1px solid white;\">1.0</td><td style=\"border: 1px solid white;\">0.9922341855927179</td><td style=\"border: 1px solid white;\">0.9920201374357384</td></tr><tr style=\"{border: 1px solid white;}\"><td style=\"border-bottom: 1px solid #DDD;font-size:1.02em;background-color:#263133;color:white\"><b>accuracy</b></td><td style=\"border: 1px solid white;\">1.0</td><td style=\"border: 1px solid white;\">0.96</td><td style=\"border: 1px solid white;\">0.9666666666666667</td></tr><tr style=\"{border: 1px solid white;}\"><td style=\"border-bottom: 1px solid #DDD;font-size:1.02em;background-color:#263133;color:white\"><b>log_loss</b></td><td style=\"border: 1px solid white;\">0.00904411315578545</td><td style=\"border: 1px solid white;\">0.0374738599818869</td><td style=\"border: 1px solid white;\">0.0352009404192172</td></tr><tr style=\"{border: 1px solid white;}\"><td style=\"border-bottom: 1px solid #DDD;font-size:1.02em;background-color:#263133;color:white\"><b>precision</b></td><td style=\"border: 1px solid white;\">1.0</td><td style=\"border: 1px solid white;\">0.98</td><td style=\"border: 1px solid white;\">1.0</td></tr><tr style=\"{border: 1px solid white;}\"><td style=\"border-bottom: 1px solid #DDD;font-size:1.02em;background-color:#263133;color:white\"><b>recall</b></td><td style=\"border: 1px solid white;\">1.0</td><td style=\"border: 1px solid white;\">0.9074074074074074</td><td style=\"border: 1px solid white;\">0.9090909090909091</td></tr><tr style=\"{border: 1px solid white;}\"><td style=\"border-bottom: 1px solid #DDD;font-size:1.02em;background-color:#263133;color:white\"><b>f1_score</b></td><td style=\"border: 1px solid white;\">1.0</td><td style=\"border: 1px solid white;\">0.9467154769168191</td><td style=\"border: 1px solid white;\">0.9523809523809523</td></tr><tr style=\"{border: 1px solid white;}\"><td style=\"border-bottom: 1px solid #DDD;font-size:1.02em;background-color:#263133;color:white\"><b>mcc</b></td><td style=\"border: 1px solid white;\">1.0</td><td style=\"border: 1px solid white;\">0.9133462590326239</td><td style=\"border: 1px solid white;\">0.929320377284585</td></tr><tr style=\"{border: 1px solid white;}\"><td style=\"border-bottom: 1px solid #DDD;font-size:1.02em;background-color:#263133;color:white\"><b>informedness</b></td><td style=\"border: 1px solid white;\">1.0</td><td style=\"border: 1px solid white;\">0.8969907407407409</td><td style=\"border: 1px solid white;\">0.9090909090909092</td></tr><tr style=\"{border: 1px solid white;}\"><td style=\"border-bottom: 1px solid #DDD;font-size:1.02em;background-color:#263133;color:white\"><b>markedness</b></td><td style=\"border: 1px solid white;\">1.0</td><td style=\"border: 1px solid white;\">0.9299999999999999</td><td style=\"border: 1px solid white;\">0.95</td></tr><tr style=\"{border: 1px solid white;}\"><td style=\"border-bottom: 1px solid #DDD;font-size:1.02em;background-color:#263133;color:white\"><b>csi</b></td><td style=\"border: 1px solid white;\">1.0</td><td style=\"border: 1px solid white;\">0.8909090909090909</td><td style=\"border: 1px solid white;\">0.9090909090909091</td></tr><tr style=\"{border: 1px solid white;}\"><td style=\"border-bottom: 1px solid #DDD;font-size:1.02em;background-color:#263133;color:white\"><b>cutoff</b></td><td style=\"border: 1px solid white;\">0.9</td><td style=\"border: 1px solid white;\">0.407</td><td style=\"border: 1px solid white;\">0.172</td></tr></table>"
      ],
      "text/plain": [
       "<IPython.core.display.HTML object>"
      ]
     },
     "metadata": {},
     "output_type": "display_data"
    },
    {
     "data": {
      "text/plain": [
       "<object>"
      ]
     },
     "execution_count": 3,
     "metadata": {},
     "output_type": "execute_result"
    }
   ],
   "source": [
    "# Multiclass Classification: Using automatic cutoffs\n",
    "model.classification_report()"
   ]
  },
  {
   "cell_type": "code",
   "execution_count": 4,
   "metadata": {},
   "outputs": [
    {
     "data": {
      "text/html": [
       "<table style=\"border-collapse: collapse; border: 2px solid white\"><tr style=\"{border: 1px solid white;}\"><td style=\"border-bottom: 1px solid #DDD;font-size:1.02em;background-color:#263133;color:white\"><b></b></td><td style=\"font-size:1.02em;background-color:#263133;color:white\"><b>Iris-setosa</b></td><td style=\"font-size:1.02em;background-color:#263133;color:white\"><b>Iris-versicolor</b></td><td style=\"font-size:1.02em;background-color:#263133;color:white\"><b>Iris-virginica</b></td></tr><tr style=\"{border: 1px solid white;}\"><td style=\"border-bottom: 1px solid #DDD;font-size:1.02em;background-color:#263133;color:white\"><b>auc</b></td><td style=\"border: 1px solid white;\">1.0</td><td style=\"border: 1px solid white;\">0.9958999999999999</td><td style=\"border: 1px solid white;\">0.9959000000000002</td></tr><tr style=\"{border: 1px solid white;}\"><td style=\"border-bottom: 1px solid #DDD;font-size:1.02em;background-color:#263133;color:white\"><b>prc_auc</b></td><td style=\"border: 1px solid white;\">1.0</td><td style=\"border: 1px solid white;\">0.9922341855927179</td><td style=\"border: 1px solid white;\">0.9920201374357384</td></tr><tr style=\"{border: 1px solid white;}\"><td style=\"border-bottom: 1px solid #DDD;font-size:1.02em;background-color:#263133;color:white\"><b>accuracy</b></td><td style=\"border: 1px solid white;\">1.0</td><td style=\"border: 1px solid white;\">0.96</td><td style=\"border: 1px solid white;\">0.96</td></tr><tr style=\"{border: 1px solid white;}\"><td style=\"border-bottom: 1px solid #DDD;font-size:1.02em;background-color:#263133;color:white\"><b>log_loss</b></td><td style=\"border: 1px solid white;\">0.00904411315578545</td><td style=\"border: 1px solid white;\">0.0374738599818869</td><td style=\"border: 1px solid white;\">0.0352009404192172</td></tr><tr style=\"{border: 1px solid white;}\"><td style=\"border-bottom: 1px solid #DDD;font-size:1.02em;background-color:#263133;color:white\"><b>precision</b></td><td style=\"border: 1px solid white;\">1.0</td><td style=\"border: 1px solid white;\">0.98</td><td style=\"border: 1px solid white;\">0.98</td></tr><tr style=\"{border: 1px solid white;}\"><td style=\"border-bottom: 1px solid #DDD;font-size:1.02em;background-color:#263133;color:white\"><b>recall</b></td><td style=\"border: 1px solid white;\">1.0</td><td style=\"border: 1px solid white;\">0.9074074074074074</td><td style=\"border: 1px solid white;\">0.9074074074074074</td></tr><tr style=\"{border: 1px solid white;}\"><td style=\"border-bottom: 1px solid #DDD;font-size:1.02em;background-color:#263133;color:white\"><b>f1_score</b></td><td style=\"border: 1px solid white;\">1.0</td><td style=\"border: 1px solid white;\">0.9467154769168191</td><td style=\"border: 1px solid white;\">0.9467154769168191</td></tr><tr style=\"{border: 1px solid white;}\"><td style=\"border-bottom: 1px solid #DDD;font-size:1.02em;background-color:#263133;color:white\"><b>mcc</b></td><td style=\"border: 1px solid white;\">1.0</td><td style=\"border: 1px solid white;\">0.9133462590326239</td><td style=\"border: 1px solid white;\">0.9133462590326239</td></tr><tr style=\"{border: 1px solid white;}\"><td style=\"border-bottom: 1px solid #DDD;font-size:1.02em;background-color:#263133;color:white\"><b>informedness</b></td><td style=\"border: 1px solid white;\">1.0</td><td style=\"border: 1px solid white;\">0.8969907407407409</td><td style=\"border: 1px solid white;\">0.8969907407407409</td></tr><tr style=\"{border: 1px solid white;}\"><td style=\"border-bottom: 1px solid #DDD;font-size:1.02em;background-color:#263133;color:white\"><b>markedness</b></td><td style=\"border: 1px solid white;\">1.0</td><td style=\"border: 1px solid white;\">0.9299999999999999</td><td style=\"border: 1px solid white;\">0.9299999999999999</td></tr><tr style=\"{border: 1px solid white;}\"><td style=\"border-bottom: 1px solid #DDD;font-size:1.02em;background-color:#263133;color:white\"><b>csi</b></td><td style=\"border: 1px solid white;\">1.0</td><td style=\"border: 1px solid white;\">0.8909090909090909</td><td style=\"border: 1px solid white;\">0.8909090909090909</td></tr><tr style=\"{border: 1px solid white;}\"><td style=\"border-bottom: 1px solid #DDD;font-size:1.02em;background-color:#263133;color:white\"><b>cutoff</b></td><td style=\"border: 1px solid white;\">0.8</td><td style=\"border: 1px solid white;\">0.4</td><td style=\"border: 1px solid white;\">0.2</td></tr></table>"
      ],
      "text/plain": [
       "<IPython.core.display.HTML object>"
      ]
     },
     "metadata": {},
     "output_type": "display_data"
    },
    {
     "data": {
      "text/plain": [
       "<object>"
      ]
     },
     "execution_count": 4,
     "metadata": {},
     "output_type": "execute_result"
    }
   ],
   "source": [
    "# Multiclass Classification: Customized Cutoffs\n",
    "model.classification_report(cutoff = [0.8, 0.4, 0.2])"
   ]
  },
  {
   "cell_type": "code",
   "execution_count": 5,
   "metadata": {},
   "outputs": [
    {
     "data": {
      "text/html": [
       "<table style=\"border-collapse: collapse; border: 2px solid white\"><tr style=\"{border: 1px solid white;}\"><td style=\"border-bottom: 1px solid #DDD;font-size:1.02em;background-color:#263133;color:white\"><b></b></td><td style=\"font-size:1.02em;background-color:#263133;color:white\"><b>Iris-versicolor</b></td><td style=\"font-size:1.02em;background-color:#263133;color:white\"><b>Iris-virginica</b></td></tr><tr style=\"{border: 1px solid white;}\"><td style=\"border-bottom: 1px solid #DDD;font-size:1.02em;background-color:#263133;color:white\"><b>auc</b></td><td style=\"border: 1px solid white;\">0.9958999999999999</td><td style=\"border: 1px solid white;\">0.9959000000000002</td></tr><tr style=\"{border: 1px solid white;}\"><td style=\"border-bottom: 1px solid #DDD;font-size:1.02em;background-color:#263133;color:white\"><b>prc_auc</b></td><td style=\"border: 1px solid white;\">0.9922341855927179</td><td style=\"border: 1px solid white;\">0.9920201374357384</td></tr><tr style=\"{border: 1px solid white;}\"><td style=\"border-bottom: 1px solid #DDD;font-size:1.02em;background-color:#263133;color:white\"><b>accuracy</b></td><td style=\"border: 1px solid white;\">0.96</td><td style=\"border: 1px solid white;\">0.9666666666666667</td></tr><tr style=\"{border: 1px solid white;}\"><td style=\"border-bottom: 1px solid #DDD;font-size:1.02em;background-color:#263133;color:white\"><b>log_loss</b></td><td style=\"border: 1px solid white;\">0.0374738599818869</td><td style=\"border: 1px solid white;\">0.0352009404192172</td></tr><tr style=\"{border: 1px solid white;}\"><td style=\"border-bottom: 1px solid #DDD;font-size:1.02em;background-color:#263133;color:white\"><b>precision</b></td><td style=\"border: 1px solid white;\">0.98</td><td style=\"border: 1px solid white;\">1.0</td></tr><tr style=\"{border: 1px solid white;}\"><td style=\"border-bottom: 1px solid #DDD;font-size:1.02em;background-color:#263133;color:white\"><b>recall</b></td><td style=\"border: 1px solid white;\">0.9074074074074074</td><td style=\"border: 1px solid white;\">0.9090909090909091</td></tr><tr style=\"{border: 1px solid white;}\"><td style=\"border-bottom: 1px solid #DDD;font-size:1.02em;background-color:#263133;color:white\"><b>f1_score</b></td><td style=\"border: 1px solid white;\">0.9467154769168191</td><td style=\"border: 1px solid white;\">0.9523809523809523</td></tr><tr style=\"{border: 1px solid white;}\"><td style=\"border-bottom: 1px solid #DDD;font-size:1.02em;background-color:#263133;color:white\"><b>mcc</b></td><td style=\"border: 1px solid white;\">0.9133462590326239</td><td style=\"border: 1px solid white;\">0.929320377284585</td></tr><tr style=\"{border: 1px solid white;}\"><td style=\"border-bottom: 1px solid #DDD;font-size:1.02em;background-color:#263133;color:white\"><b>informedness</b></td><td style=\"border: 1px solid white;\">0.8969907407407409</td><td style=\"border: 1px solid white;\">0.9090909090909092</td></tr><tr style=\"{border: 1px solid white;}\"><td style=\"border-bottom: 1px solid #DDD;font-size:1.02em;background-color:#263133;color:white\"><b>markedness</b></td><td style=\"border: 1px solid white;\">0.9299999999999999</td><td style=\"border: 1px solid white;\">0.95</td></tr><tr style=\"{border: 1px solid white;}\"><td style=\"border-bottom: 1px solid #DDD;font-size:1.02em;background-color:#263133;color:white\"><b>csi</b></td><td style=\"border: 1px solid white;\">0.8909090909090909</td><td style=\"border: 1px solid white;\">0.9090909090909091</td></tr><tr style=\"{border: 1px solid white;}\"><td style=\"border-bottom: 1px solid #DDD;font-size:1.02em;background-color:#263133;color:white\"><b>cutoff</b></td><td style=\"border: 1px solid white;\">0.407</td><td style=\"border: 1px solid white;\">0.172</td></tr></table>"
      ],
      "text/plain": [
       "<IPython.core.display.HTML object>"
      ]
     },
     "metadata": {},
     "output_type": "display_data"
    },
    {
     "data": {
      "text/plain": [
       "<object>"
      ]
     },
     "execution_count": 5,
     "metadata": {},
     "output_type": "execute_result"
    }
   ],
   "source": [
    "# Multiclass Classification: Choosing the categories\n",
    "model.classification_report(labels = [\"Iris-versicolor\", \"Iris-virginica\"])"
   ]
  },
  {
   "cell_type": "code",
   "execution_count": 9,
   "metadata": {},
   "outputs": [
    {
     "data": {
      "text/html": [
       "<table style=\"border-collapse: collapse; border: 2px solid white\"><tr style=\"{border: 1px solid white;}\"><td style=\"border-bottom: 1px solid #DDD;font-size:1.02em;background-color:#263133;color:white\"><b></b></td><td style=\"font-size:1.02em;background-color:#263133;color:white\"><b>value</b></td></tr><tr style=\"{border: 1px solid white;}\"><td style=\"border-bottom: 1px solid #DDD;font-size:1.02em;background-color:#263133;color:white\"><b>auc</b></td><td style=\"border: 1px solid white;\">0.8334002663228425</td></tr><tr style=\"{border: 1px solid white;}\"><td style=\"border-bottom: 1px solid #DDD;font-size:1.02em;background-color:#263133;color:white\"><b>prc_auc</b></td><td style=\"border: 1px solid white;\">0.8077841814280875</td></tr><tr style=\"{border: 1px solid white;}\"><td style=\"border-bottom: 1px solid #DDD;font-size:1.02em;background-color:#263133;color:white\"><b>accuracy</b></td><td style=\"border: 1px solid white;\">0.7841365461847389</td></tr><tr style=\"{border: 1px solid white;}\"><td style=\"border-bottom: 1px solid #DDD;font-size:1.02em;background-color:#263133;color:white\"><b>log_loss</b></td><td style=\"border: 1px solid white;\">0.202111440275729</td></tr><tr style=\"{border: 1px solid white;}\"><td style=\"border-bottom: 1px solid #DDD;font-size:1.02em;background-color:#263133;color:white\"><b>precision</b></td><td style=\"border: 1px solid white;\">0.6828644501278772</td></tr><tr style=\"{border: 1px solid white;}\"><td style=\"border-bottom: 1px solid #DDD;font-size:1.02em;background-color:#263133;color:white\"><b>recall</b></td><td style=\"border: 1px solid white;\">0.7458100558659218</td></tr><tr style=\"{border: 1px solid white;}\"><td style=\"border-bottom: 1px solid #DDD;font-size:1.02em;background-color:#263133;color:white\"><b>f1_score</b></td><td style=\"border: 1px solid white;\">0.774572607363175</td></tr><tr style=\"{border: 1px solid white;}\"><td style=\"border-bottom: 1px solid #DDD;font-size:1.02em;background-color:#263133;color:white\"><b>mcc</b></td><td style=\"border: 1px solid white;\">0.5418686749886885</td></tr><tr style=\"{border: 1px solid white;}\"><td style=\"border-bottom: 1px solid #DDD;font-size:1.02em;background-color:#263133;color:white\"><b>informedness</b></td><td style=\"border: 1px solid white;\">0.551452689094762</td></tr><tr style=\"{border: 1px solid white;}\"><td style=\"border-bottom: 1px solid #DDD;font-size:1.02em;background-color:#263133;color:white\"><b>markedness</b></td><td style=\"border: 1px solid white;\">0.5324512269873813</td></tr><tr style=\"{border: 1px solid white;}\"><td style=\"border-bottom: 1px solid #DDD;font-size:1.02em;background-color:#263133;color:white\"><b>csi</b></td><td style=\"border: 1px solid white;\">0.553941908713693</td></tr><tr style=\"{border: 1px solid white;}\"><td style=\"border-bottom: 1px solid #DDD;font-size:1.02em;background-color:#263133;color:white\"><b>cutoff</b></td><td style=\"border: 1px solid white;\">0.5</td></tr></table>"
      ],
      "text/plain": [
       "<IPython.core.display.HTML object>"
      ]
     },
     "metadata": {},
     "output_type": "display_data"
    },
    {
     "data": {
      "text/plain": [
       "<object>"
      ]
     },
     "execution_count": 9,
     "metadata": {},
     "output_type": "execute_result"
    }
   ],
   "source": [
    "# Binary Classification\n",
    "model = RandomForestClassifier(name = \"public.RF_titanic\",\n",
    "                               n_estimators = 20,\n",
    "                               max_features = \"auto\",\n",
    "                               max_leaf_nodes = 32, \n",
    "                               sample = 0.7,\n",
    "                               max_depth = 3,\n",
    "                               min_samples_leaf = 5,\n",
    "                               min_info_gain = 0.0,\n",
    "                               nbins = 32)\n",
    "model.fit(\"public.titanic\", [\"age\", \"fare\", \"sex\"], \"survived\")\n",
    "# Binary Classification: the cutoff is the probability\n",
    "# to accept the class 1\n",
    "model.classification_report(cutoff = 0.5)"
   ]
  },
  {
   "cell_type": "code",
   "execution_count": 10,
   "metadata": {},
   "outputs": [
    {
     "data": {
      "text/html": [
       "<table style=\"border-collapse: collapse; border: 2px solid white\"><tr style=\"{border: 1px solid white;}\"><td style=\"border-bottom: 1px solid #DDD;font-size:1.02em;background-color:#263133;color:white\"><b></b></td><td style=\"font-size:1.02em;background-color:#263133;color:white\"><b>value</b></td></tr><tr style=\"{border: 1px solid white;}\"><td style=\"border-bottom: 1px solid #DDD;font-size:1.02em;background-color:#263133;color:white\"><b>auc</b></td><td style=\"border: 1px solid white;\">0.8334002663228425</td></tr><tr style=\"{border: 1px solid white;}\"><td style=\"border-bottom: 1px solid #DDD;font-size:1.02em;background-color:#263133;color:white\"><b>prc_auc</b></td><td style=\"border: 1px solid white;\">0.8077841814280875</td></tr><tr style=\"{border: 1px solid white;}\"><td style=\"border-bottom: 1px solid #DDD;font-size:1.02em;background-color:#263133;color:white\"><b>accuracy</b></td><td style=\"border: 1px solid white;\">0.7911646586345381</td></tr><tr style=\"{border: 1px solid white;}\"><td style=\"border-bottom: 1px solid #DDD;font-size:1.02em;background-color:#263133;color:white\"><b>log_loss</b></td><td style=\"border: 1px solid white;\">0.202111440275729</td></tr><tr style=\"{border: 1px solid white;}\"><td style=\"border-bottom: 1px solid #DDD;font-size:1.02em;background-color:#263133;color:white\"><b>precision</b></td><td style=\"border: 1px solid white;\">0.7416879795396419</td></tr><tr style=\"{border: 1px solid white;}\"><td style=\"border-bottom: 1px solid #DDD;font-size:1.02em;background-color:#263133;color:white\"><b>recall</b></td><td style=\"border: 1px solid white;\">0.7304785894206549</td></tr><tr style=\"{border: 1px solid white;}\"><td style=\"border-bottom: 1px solid #DDD;font-size:1.02em;background-color:#263133;color:white\"><b>f1_score</b></td><td style=\"border: 1px solid white;\">0.777672475068387</td></tr><tr style=\"{border: 1px solid white;}\"><td style=\"border-bottom: 1px solid #DDD;font-size:1.02em;background-color:#263133;color:white\"><b>mcc</b></td><td style=\"border: 1px solid white;\">0.5633444041046916</td></tr><tr style=\"{border: 1px solid white;}\"><td style=\"border-bottom: 1px solid #DDD;font-size:1.02em;background-color:#263133;color:white\"><b>informedness</b></td><td style=\"border: 1px solid white;\">0.5618642321585514</td></tr><tr style=\"{border: 1px solid white;}\"><td style=\"border-bottom: 1px solid #DDD;font-size:1.02em;background-color:#263133;color:white\"><b>markedness</b></td><td style=\"border: 1px solid white;\">0.5648284754074107</td></tr><tr style=\"{border: 1px solid white;}\"><td style=\"border-bottom: 1px solid #DDD;font-size:1.02em;background-color:#263133;color:white\"><b>csi</b></td><td style=\"border: 1px solid white;\">0.5823293172690763</td></tr><tr style=\"{border: 1px solid white;}\"><td style=\"border-bottom: 1px solid #DDD;font-size:1.02em;background-color:#263133;color:white\"><b>cutoff</b></td><td style=\"border: 1px solid white;\">0.325</td></tr></table>"
      ],
      "text/plain": [
       "<IPython.core.display.HTML object>"
      ]
     },
     "metadata": {},
     "output_type": "display_data"
    },
    {
     "data": {
      "text/plain": [
       "<object>"
      ]
     },
     "execution_count": 10,
     "metadata": {},
     "output_type": "execute_result"
    }
   ],
   "source": [
    "# Binary Classification: automatic cutoff\n",
    "model.classification_report()"
   ]
  }
 ],
 "metadata": {
  "kernelspec": {
   "display_name": "Python 3",
   "language": "python",
   "name": "python3"
  },
  "language_info": {
   "codemirror_mode": {
    "name": "ipython",
    "version": 3
   },
   "file_extension": ".py",
   "mimetype": "text/x-python",
   "name": "python",
   "nbconvert_exporter": "python",
   "pygments_lexer": "ipython3",
   "version": "3.6.3"
  }
 },
 "nbformat": 4,
 "nbformat_minor": 2
}
