{
 "cells": [
  {
   "cell_type": "markdown",
   "metadata": {},
   "source": [
    "# classifier.score"
   ]
  },
  {
   "cell_type": "markdown",
   "metadata": {},
   "source": [
    "<b>Definition for Multiclass Classifier:</b>"
   ]
  },
  {
   "cell_type": "code",
   "execution_count": null,
   "metadata": {},
   "outputs": [],
   "source": [
    "classifier.score(pos_label = None, \n",
    "                 cutoff: float = -1, \n",
    "                 method: str = \"accuracy\")"
   ]
  },
  {
   "cell_type": "markdown",
   "metadata": {},
   "source": [
    "<b>Definition for Binary Classifier:</b>"
   ]
  },
  {
   "cell_type": "code",
   "execution_count": null,
   "metadata": {},
   "outputs": [],
   "source": [
    "classifier.score(cutoff: float = 0.5, \n",
    "                 method: str = \"accuracy\")"
   ]
  },
  {
   "cell_type": "markdown",
   "metadata": {},
   "source": [
    "Computes the model score.\n",
    "\n",
    "### Parameters\n",
    "\n",
    "<table id=\"parameters\">\n",
    "    <tr> <th>Name</th> <th>Type</th> <th>Optional</th> <th>Description</th> </tr>\n",
    "    <tr> <td><div class=\"param_name\">pos_label</div></td> <td><div class=\"type\">int / float / str </div></td> <td><div class = \"yes\">&#10003;</div></td> <td>Label to consider as positive. All the other classes will be merged and considered as negative in case of multi classification.</td> </tr>\n",
    "    <tr> <td><div class=\"param_name\">cutoff</div></td> <td><div class=\"type\">float</div></td> <td><div class = \"yes\">&#10003;</div></td> <td>Cutoff for which the tested category will be accepted as prediction. If the parameter is not between 0 and 1, an automatic cutoff is computed.</td> </tr>\n",
    "    <tr> <td><div class=\"param_name\">method</div></td> <td><div class=\"type\">str</div></td> <td><div class = \"yes\">&#10003;</div></td> <td>The method used to compute the score.<br>\n",
    "                                                    <ul>\n",
    "                                                        <li><b>accuracy :</b> Accuracy</li>\n",
    "                                                        <li><b>auc :</b> Area Under the Curve (ROC)</li>\n",
    "                                                        <li><b>best_cutoff :</b> Cutoff which optimised the ROC Curve prediction.</li>\n",
    "                                                        <li><b>bm :</b> Informedness = tpr + tnr - 1</li>\n",
    "                                                        <li><b>csi :</b> Critical Success Index = tp / (tp + fn + fp)</li>\n",
    "                                                        <li><b>f1 :</b> F1 Score</li>\n",
    "                                                        <li><b>logloss :</b> Log Loss </li>\n",
    "                                                        <li><b>mcc :</b> Matthews Correlation Coefficient</li>\n",
    "                                                        <li><b>mk :</b> Markedness = ppv + npv - 1</li>\n",
    "                                                        <li><b>npv :</b> Negative Predictive Value = tn / (tn + fn)</li>\n",
    "                                                        <li><b>prc_auc :</b> Area Under the Curve (PRC)</li>\n",
    "                                                        <li><b>precision :</b> Precision = tp / (tp + fp)</li>\n",
    "                                                        <li><b>specificity :</b> Specificity = tn / (tn + fp)</li></ul></td> </tr>\n",
    "</table>"
   ]
  },
  {
   "cell_type": "markdown",
   "metadata": {},
   "source": [
    "### Returns\n",
    "\n",
    "<b>float</b> : score\n",
    "\n",
    "\n",
    "### Example"
   ]
  },
  {
   "cell_type": "code",
   "execution_count": 26,
   "metadata": {
    "scrolled": false
   },
   "outputs": [
    {
     "data": {
      "text/plain": [
       "0.037429015840143"
      ]
     },
     "execution_count": 26,
     "metadata": {},
     "output_type": "execute_result"
    }
   ],
   "source": [
    "# Multiclass Classification\n",
    "from vertica_ml_python.learn.ensemble import RandomForestClassifier\n",
    "model = RandomForestClassifier(name = \"public.RF_iris\",\n",
    "                               n_estimators = 20,\n",
    "                               max_features = \"auto\",\n",
    "                               max_leaf_nodes = 32, \n",
    "                               sample = 0.7,\n",
    "                               max_depth = 3,\n",
    "                               min_samples_leaf = 5,\n",
    "                               min_info_gain = 0.0,\n",
    "                               nbins = 32)\n",
    "model.fit(\"public.iris\", [\"PetalLengthCm\", \"PetalWidthCm\"], \"Species\")\n",
    "# Logloss\n",
    "model.score(method = \"log_loss\", pos_label = \"Iris-virginica\")"
   ]
  },
  {
   "cell_type": "code",
   "execution_count": 27,
   "metadata": {},
   "outputs": [
    {
     "data": {
      "text/plain": [
       "0.946666666666667"
      ]
     },
     "execution_count": 27,
     "metadata": {},
     "output_type": "execute_result"
    }
   ],
   "source": [
    "# Global accuracy\n",
    "model.score(method = \"accuracy\")"
   ]
  },
  {
   "cell_type": "code",
   "execution_count": 28,
   "metadata": {},
   "outputs": [
    {
     "data": {
      "text/plain": [
       "0.8348079727758869"
      ]
     },
     "execution_count": 28,
     "metadata": {},
     "output_type": "execute_result"
    }
   ],
   "source": [
    "# Binary Classification\n",
    "model = RandomForestClassifier(name = \"public.RF_titanic\",\n",
    "                               n_estimators = 20,\n",
    "                               max_features = \"auto\",\n",
    "                               max_leaf_nodes = 32, \n",
    "                               sample = 0.7,\n",
    "                               max_depth = 3,\n",
    "                               min_samples_leaf = 5,\n",
    "                               min_info_gain = 0.0,\n",
    "                               nbins = 32)\n",
    "model.fit(\"public.titanic\", [\"age\", \"fare\", \"sex\"], \"survived\")\n",
    "# AUC\n",
    "model.score(method = \"auc\")"
   ]
  }
 ],
 "metadata": {
  "kernelspec": {
   "display_name": "Python 3",
   "language": "python",
   "name": "python3"
  },
  "language_info": {
   "codemirror_mode": {
    "name": "ipython",
    "version": 3
   },
   "file_extension": ".py",
   "mimetype": "text/x-python",
   "name": "python",
   "nbconvert_exporter": "python",
   "pygments_lexer": "ipython3",
   "version": "3.6.3"
  }
 },
 "nbformat": 4,
 "nbformat_minor": 2
}
