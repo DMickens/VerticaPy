{
 "cells": [
  {
   "cell_type": "markdown",
   "metadata": {},
   "source": [
    "# classifier.plot_tree"
   ]
  },
  {
   "cell_type": "code",
   "execution_count": null,
   "metadata": {},
   "outputs": [],
   "source": [
    "classifier.plot_tree(tree_id: int = 0, \n",
    "                     pic_path: str = \"\")"
   ]
  },
  {
   "cell_type": "markdown",
   "metadata": {},
   "source": [
    "Draws the input tree. The module anytree must be installed in the machine.\n",
    "\n",
    "### Parameters\n",
    "\n",
    "<table id=\"parameters\">\n",
    "    <tr> <th>Name</th> <th>Type</th> <th>Optional</th> <th>Description</th> </tr>\n",
    "    <tr> <td><div class=\"param_name\">tree_id</div></td> <td><div class=\"type\">int</div></td> <td><div class = \"yes\">&#10003;</div></td> <td>Unique tree identifier. It is an integer between 0 and n_estimators - 1</td> </tr>\n",
    "    <tr> <td><div class=\"param_name\">pic_path</div></td> <td><div class=\"type\">str</div></td> <td><div class = \"yes\">&#10003;</div></td> <td>Absolute path to save the image of the tree.</td> </tr>\n",
    "</table>"
   ]
  },
  {
   "cell_type": "markdown",
   "metadata": {},
   "source": [
    "### Example"
   ]
  },
  {
   "cell_type": "code",
   "execution_count": 36,
   "metadata": {
    "scrolled": false
   },
   "outputs": [
    {
     "name": "stdout",
     "output_type": "stream",
     "text": [
      "--------------------------------------------------------------------------------\n",
      "Tree Id: 3\n",
      "Number of Nodes: 9\n",
      "Tree Depth: 3\n",
      "Tree Breadth: 5\n",
      "--------------------------------------------------------------------------------\n",
      "[1] (petalwidthcm < 0.625000 ?)\n",
      "├── [2] => Iris-setosa (probability = 1.0)\n",
      "└── [3] (petallengthcm < 4.871875 ?)\n",
      "    ├── [6] (petallengthcm < 4.687500 ?)\n",
      "    │   ├── [12] => Iris-versicolor (probability = 0.970588235294118)\n",
      "    │   └── [13] => Iris-versicolor (probability = 0.75)\n",
      "    └── [7] (petallengthcm < 5.240625 ?)\n",
      "        ├── [14] => Iris-virginica (probability = 0.8)\n",
      "        └── [15] => Iris-virginica (probability = 1.0)\n"
     ]
    }
   ],
   "source": [
    "from vertica_ml_python.learn.ensemble import RandomForestClassifier\n",
    "model = RandomForestClassifier(name = \"public.RF_iris\",\n",
    "                               n_estimators = 20,\n",
    "                               max_features = \"auto\",\n",
    "                               max_leaf_nodes = 32, \n",
    "                               sample = 0.7,\n",
    "                               max_depth = 3,\n",
    "                               min_samples_leaf = 5,\n",
    "                               min_info_gain = 0.0,\n",
    "                               nbins = 32)\n",
    "model.fit(\"public.iris\", \n",
    "          [\"PetalLengthCm\", \"PetalWidthCm\"], \n",
    "          \"Species\")\n",
    "model.plot_tree(tree_id = 3)"
   ]
  }
 ],
 "metadata": {
  "kernelspec": {
   "display_name": "Python 3",
   "language": "python",
   "name": "python3"
  },
  "language_info": {
   "codemirror_mode": {
    "name": "ipython",
    "version": 3
   },
   "file_extension": ".py",
   "mimetype": "text/x-python",
   "name": "python",
   "nbconvert_exporter": "python",
   "pygments_lexer": "ipython3",
   "version": "3.6.3"
  }
 },
 "nbformat": 4,
 "nbformat_minor": 2
}
