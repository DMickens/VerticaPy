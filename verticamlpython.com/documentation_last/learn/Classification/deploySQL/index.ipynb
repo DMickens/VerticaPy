{
 "cells": [
  {
   "cell_type": "markdown",
   "metadata": {},
   "source": [
    "# classifier.deploySQL"
   ]
  },
  {
   "cell_type": "markdown",
   "metadata": {},
   "source": [
    "<b>Definition for Multiclass Classifier:</b>"
   ]
  },
  {
   "cell_type": "code",
   "execution_count": null,
   "metadata": {},
   "outputs": [],
   "source": [
    "classifier.deploySQL(pos_label = None, \n",
    "                     cutoff: float = -1, \n",
    "                     allSQL: bool = False)"
   ]
  },
  {
   "cell_type": "markdown",
   "metadata": {},
   "source": [
    "<b>Definition for Binary Classifier:</b>"
   ]
  },
  {
   "cell_type": "code",
   "execution_count": null,
   "metadata": {},
   "outputs": [],
   "source": [
    "classifier.deploySQL(cutoff: float = -1)"
   ]
  },
  {
   "cell_type": "markdown",
   "metadata": {},
   "source": [
    "Returns the SQL code needed to deploy the model.\n",
    "\n",
    "### Parameters\n",
    "\n",
    "<table id=\"parameters\">\n",
    "    <tr> <th>Name</th> <th>Type</th> <th>Optional</th> <th>Description</th> </tr>\n",
    "    <tr> <td><div class=\"param_name\">pos_label</div></td> <td><div class=\"type\">int / float / str </div></td> <td><div class = \"yes\">&#10003;</div></td> <td>Label to consider as positive. All the other classes will be merged and considered as negative in case of multi classification.</td> </tr>\n",
    "    <tr> <td><div class=\"param_name\">cutoff</div></td> <td><div class=\"type\">float</div></td> <td><div class = \"yes\">&#10003;</div></td> <td>Cutoff for which the tested category will be accepted as prediction. If the cutoff is not between 0 and 1, a probability will be returned.</td> </tr>\n",
    "    <tr> <td><div class=\"param_name\">allSQL</div></td> <td><div class=\"type\">bool</div></td> <td><div class = \"yes\">&#10003;</div></td> <td>If set to True, the output will be a list of the different SQL codes needed to deploy the different categories score.</td> </tr>\n",
    "</table>"
   ]
  },
  {
   "cell_type": "markdown",
   "metadata": {},
   "source": [
    "### Returns\n",
    "\n",
    "<b>str / list</b> : the SQL code needed to deploy the model.\n",
    "\n",
    "### Example"
   ]
  },
  {
   "cell_type": "code",
   "execution_count": 7,
   "metadata": {
    "scrolled": false
   },
   "outputs": [
    {
     "name": "stdout",
     "output_type": "stream",
     "text": [
      "PREDICT_RF_CLASSIFIER(\"PetalLengthCm\", \"PetalWidthCm\" USING PARAMETERS model_name = 'public.RF_iris', match_by_pos = 'true')\n"
     ]
    }
   ],
   "source": [
    "# Multiclass Classification\n",
    "from vertica_ml_python.learn.ensemble import RandomForestClassifier\n",
    "model = RandomForestClassifier(name = \"public.RF_iris\",\n",
    "                               n_estimators = 20,\n",
    "                               max_features = \"auto\",\n",
    "                               max_leaf_nodes = 32, \n",
    "                               sample = 0.7,\n",
    "                               max_depth = 3,\n",
    "                               min_samples_leaf = 5,\n",
    "                               min_info_gain = 0.0,\n",
    "                               nbins = 32)\n",
    "model.fit(\"public.iris\", [\"PetalLengthCm\", \"PetalWidthCm\"], \"Species\")\n",
    "# Deploying the prediction\n",
    "print(model.deploySQL())"
   ]
  },
  {
   "cell_type": "code",
   "execution_count": 12,
   "metadata": {},
   "outputs": [
    {
     "name": "stdout",
     "output_type": "stream",
     "text": [
      "PREDICT_RF_CLASSIFIER(\"PetalLengthCm\", \"PetalWidthCm\" USING PARAMETERS model_name = 'public.RF_iris', class = 'Iris-versicolor', type = 'probability', match_by_pos = 'true')\n"
     ]
    }
   ],
   "source": [
    "# Deploying one class probability\n",
    "print(model.deploySQL(pos_label = \"Iris-versicolor\"))"
   ]
  }
 ],
 "metadata": {
  "kernelspec": {
   "display_name": "Python 3",
   "language": "python",
   "name": "python3"
  },
  "language_info": {
   "codemirror_mode": {
    "name": "ipython",
    "version": 3
   },
   "file_extension": ".py",
   "mimetype": "text/x-python",
   "name": "python",
   "nbconvert_exporter": "python",
   "pygments_lexer": "ipython3",
   "version": "3.6.3"
  }
 },
 "nbformat": 4,
 "nbformat_minor": 2
}
