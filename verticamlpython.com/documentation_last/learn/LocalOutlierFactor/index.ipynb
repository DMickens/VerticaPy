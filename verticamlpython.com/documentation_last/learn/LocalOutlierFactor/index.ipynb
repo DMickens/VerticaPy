{
 "cells": [
  {
   "cell_type": "markdown",
   "metadata": {},
   "source": [
    "# LocalOutlierFactor (Beta)"
   ]
  },
  {
   "cell_type": "code",
   "execution_count": null,
   "metadata": {},
   "outputs": [],
   "source": [
    "LocalOutlierFactor(name: str, \n",
    "                   cursor = None, \n",
    "                   n_neighbors: int = 20, \n",
    "                   p: int = 2)"
   ]
  },
  {
   "cell_type": "markdown",
   "metadata": {},
   "source": [
    "Creates a LocalOutlierFactor object by using the Local Outlier Factor algorithm as defined by Markus M. Breunig, Hans-Peter Kriegel, Raymond T. Ng and Jörg Sander. This object is using pure SQL to compute all the distances and final score. It is using CROSS JOIN and may be really expensive in some cases. It will index all the elements of the table in order to be optimal (the CROSS JOIN will happen only with IDs which are integers). As LocalOutlierFactor is using the p-distance, it is highly sensible to un-normalized data. \n",
    "\n",
    "### Parameters\n",
    "\n",
    "<table id=\"parameters\">\n",
    "    <tr> <th>Name</th> <th>Type</th> <th>Optional</th> <th>Description</th> </tr>\n",
    "    <tr> <td><div class=\"param_name\">name</div></td> <td><div class=\"type\">str</div></td> <td><div class = \"no\">&#10060;</div></td> <td>Name of the the model. As it is not a built in model, this name will be used to build the final table.</td> </tr>\n",
    "    <tr> <td><div class=\"param_name\">cursor</div></td> <td><div class=\"type\">DBcursor</div></td> <td><div class = \"yes\">&#10003;</div></td> <td>Vertica DB cursor.</td> </tr>\n",
    "    <tr> <td><div class=\"param_name\">n_neighbors</div></td> <td><div class=\"type\">int</div></td> <td><div class = \"yes\">&#10003;</div></td> <td>Number of neighbors to consider when computing the score.</td> </tr>\n",
    "    <tr> <td><div class=\"param_name\">p</div></td> <td><div class=\"type\">int</div></td> <td><div class = \"yes\">&#10003;</div></td> <td>The p of the p-distance (distance metric used during the model computation).</td> </tr>\n",
    "</table>\n",
    "\n",
    "### Attributes\n",
    "\n",
    "After the object creation, all the parameters become attributes. The model will also create extra attributes when fitting the model:\n",
    "\n",
    "<table id=\"parameters\">\n",
    "    <tr> <th>Name</th> <th>Type</th>  <th>Description</th> </tr>\n",
    "    <tr> <td><div class=\"param_name\">n_errors</div></td> <td><div class=\"type\">int</div></td> <td>Number of errors during the LOF computation.</td> </tr>\n",
    "    <tr> <td><div class=\"param_name\">input_relation</div></td> <td><div class=\"type\">str</div></td> <td>Train relation.</td> </tr>\n",
    "    <tr> <td><div class=\"param_name\">X</div></td> <td><div class=\"type\">list</div></td> <td>List of the predictors.</td> </tr>\n",
    "    <tr> <td><div class=\"param_name\">key_columns</div></td> <td><div class=\"type\">list</div></td> <td>Columns not used during the algorithm computation but which will be used to create the final relation.</td> </tr>\n",
    "</table>\n",
    "\n",
    "### Methods\n",
    "\n",
    "<table id=\"parameters\">\n",
    "    <tr> <th>Name</th> <th>Description</th> </tr>\n",
    "    <tr> <td><a href=\"../Unsupervised/fit2\">fit</a></td> <td>Trains the model.</td> </tr>\n",
    "    <tr> <td><a href=\"../Unsupervised/info\">info</a></td> <td>Displays some information about the model.</td> </tr>\n",
    "    <tr> <td><a href=\"../Unsupervised/plot2\">plot</a></td> <td>Draws the model if the number of predictors is 2 or 3.</td> </tr>\n",
    "    <tr> <td><a href=\"../Unsupervised/to_vdf\">to_vdf</a></td> <td>Creates a vDataFrame of the model.</td> </tr>\n",
    "</table>"
   ]
  },
  {
   "cell_type": "markdown",
   "metadata": {},
   "source": [
    "### Example"
   ]
  },
  {
   "cell_type": "code",
   "execution_count": 29,
   "metadata": {},
   "outputs": [
    {
     "name": "stdout",
     "output_type": "stream",
     "text": [
      "<LocalOutlierFactor>\n"
     ]
    }
   ],
   "source": [
    "from vertica_ml_python.learn.neighbors import LocalOutlierFactor\n",
    "model = LocalOutlierFactor(name = \"public.LOF_heart\")\n",
    "print(model)"
   ]
  }
 ],
 "metadata": {
  "kernelspec": {
   "display_name": "Python 3",
   "language": "python",
   "name": "python3"
  },
  "language_info": {
   "codemirror_mode": {
    "name": "ipython",
    "version": 3
   },
   "file_extension": ".py",
   "mimetype": "text/x-python",
   "name": "python",
   "nbconvert_exporter": "python",
   "pygments_lexer": "ipython3",
   "version": "3.6.3"
  }
 },
 "nbformat": 4,
 "nbformat_minor": 2
}
