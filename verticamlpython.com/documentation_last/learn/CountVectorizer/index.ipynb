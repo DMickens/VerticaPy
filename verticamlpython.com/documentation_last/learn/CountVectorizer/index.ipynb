{
 "cells": [
  {
   "cell_type": "markdown",
   "metadata": {},
   "source": [
    "# CountVectorizer"
   ]
  },
  {
   "cell_type": "code",
   "execution_count": null,
   "metadata": {},
   "outputs": [],
   "source": [
    "CountVectorizer(name: str,\n",
    "                cursor = None,\n",
    "                lowercase: bool = True,\n",
    "                max_df: float = 1.0,\n",
    "                min_df: float = 0.0,\n",
    "                max_features: int = -1,\n",
    "                ignore_special: bool = True,\n",
    "                max_text_size: int = 2000)"
   ]
  },
  {
   "cell_type": "markdown",
   "metadata": {},
   "source": [
    "Creates a Text Index which will count the occurences of each word in the data.\n",
    "\n",
    "### Parameters\n",
    "\n",
    "<table id=\"parameters\">\n",
    "    <tr> <th>Name</th> <th>Type</th> <th>Optional</th> <th>Description</th> </tr>\n",
    "    <tr> <td><div class=\"param_name\">name</div></td> <td><div class=\"type\">str</div></td> <td><div class = \"no\">&#10060;</div></td> <td>Name of the the model. The model will be stored in the DB.</td> </tr>\n",
    "    <tr> <td><div class=\"param_name\">cursor</div></td> <td><div class=\"type\">DBcursor</div></td> <td><div class = \"yes\">&#10003;</div></td> <td>Vertica DB cursor.</td> </tr>\n",
    "    <tr> <td><div class=\"param_name\">lowercase</div></td> <td><div class=\"type\">bool</div></td> <td><div class = \"yes\">&#10003;</div></td> <td>Converts all the elements to lowercase before processing.</td> </tr>\n",
    "    <tr> <td><div class=\"param_name\">max_df</div></td> <td><div class=\"type\">float</div></td> <td><div class = \"yes\">&#10003;</div></td> <td>Keeps the words which represent less than this float in the total dictionary distribution.</td> </tr>\n",
    "    <tr> <td><div class=\"param_name\">min_df</div></td> <td><div class=\"type\">float</div></td> <td><div class = \"yes\">&#10003;</div></td> <td>Keeps the words which represent more than this float in the total dictionary distribution.</td> </tr>\n",
    "    <tr> <td><div class=\"param_name\">max_features</div></td> <td><div class=\"type\">int</div></td> <td><div class = \"yes\">&#10003;</div></td> <td>Keeps only the top words of the dictionary.</td> </tr>\n",
    "    <tr> <td><div class=\"param_name\">ignore_special</div></td> <td><div class=\"type\">bool</div></td> <td><div class = \"yes\">&#10003;</div></td> <td>Ignores all the special characters to build the dictionary.</td> </tr>\n",
    "    <tr> <td><div class=\"param_name\">max_text_size</div></td> <td><div class=\"type\">int</div></td> <td><div class = \"yes\">&#10003;</div></td> <td>The maximum size of the column which is the concatenation of all the text columns during the fitting.</td> </tr>\n",
    "</table>\n",
    "\n",
    "### Attributes\n",
    "\n",
    "After the object creation, all the parameters become attributes. \n",
    "The model will also create extra attributes when fitting the model:\n",
    "\n",
    "<table id=\"parameters\">\n",
    "    <tr> <th>Name</th> <th>Type</th>  <th>Description</th> </tr>\n",
    "    <tr> <td><div class=\"param_name\">stop_words</div></td> <td><div class=\"type\">list</div></td> <td>The words not added to the vocabulary.</td> </tr>\n",
    "    <tr> <td><div class=\"param_name\">vocabulary</div></td> <td><div class=\"type\">list</div></td> <td>The final vocabulary.</td> </tr>\n",
    "    <tr> <td><div class=\"param_name\">input_relation</div></td> <td><div class=\"type\">str</div></td> <td>Train relation.</td> </tr>\n",
    "    <tr> <td><div class=\"param_name\">X</div></td> <td><div class=\"type\">list</div></td> <td>List of the predictors.</td> </tr>\n",
    "</table>\n",
    "\n",
    "### Methods\n",
    "\n",
    "<table id=\"parameters\">\n",
    "    <tr> <th>Name</th> <th>Description</th> </tr>\n",
    "    <tr> <td><a href=\"../Unsupervised/deploySQL\">deploySQL</a></td> <td>Returns the SQL code needed to deploy the model.</td> </tr>\n",
    "    <tr> <td><a href=\"../Unsupervised/drop\">drop</a></td> <td>Drops the model from the Vertica DB.</td> </tr>\n",
    "    <tr> <td><a href=\"../Unsupervised/fit\">fit</a></td> <td>Trains the model.</td> </tr>\n",
    "    <tr> <td><a href=\"../Unsupervised/to_vdf\">to_vdf</a></td> <td>Creates a vDataFrame of the model.</td> </tr>\n",
    "</table>"
   ]
  },
  {
   "cell_type": "markdown",
   "metadata": {},
   "source": [
    "### Example"
   ]
  },
  {
   "cell_type": "code",
   "execution_count": 38,
   "metadata": {},
   "outputs": [
    {
     "name": "stdout",
     "output_type": "stream",
     "text": [
      "<CountVectorizer>\n"
     ]
    }
   ],
   "source": [
    "from vertica_ml_python.learn.preprocessing import CountVectorizer\n",
    "model = CountVectorizer(name = \"public.vocabulary\")\n",
    "print(model)"
   ]
  }
 ],
 "metadata": {
  "kernelspec": {
   "display_name": "Python 3",
   "language": "python",
   "name": "python3"
  },
  "language_info": {
   "codemirror_mode": {
    "name": "ipython",
    "version": 3
   },
   "file_extension": ".py",
   "mimetype": "text/x-python",
   "name": "python",
   "nbconvert_exporter": "python",
   "pygments_lexer": "ipython3",
   "version": "3.6.3"
  }
 },
 "nbformat": 4,
 "nbformat_minor": 2
}
