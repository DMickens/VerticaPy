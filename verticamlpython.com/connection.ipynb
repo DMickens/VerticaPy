{
 "cells": [
  {
   "cell_type": "markdown",
   "metadata": {},
   "source": [
    "To install VerticaPy, run the following <b>pip</b> command:\n",
    "```shell\n",
    "root@ubuntu:~$ pip3 install verticapy\n",
    "```\n",
    "\n",
    "To connect to Vertica, you'll need to install one of the following modules:\n",
    " - <b>vertica_python</b> (Native Python Client)\n",
    " - <b>pyodbc</b> (ODBC) \n",
    " - <b>jaydebeapi</b> (JDBC)\n",
    "\n",
    "For example, to install the <b>vertica_python</b> module, run the following command:\n",
    "```shell\n",
    "root@ubuntu:~$ pip3 install vertica_python\n",
    "```\n",
    "If you have have a data source name (DSN), you can connect to your Vertica database with the following command."
   ]
  },
  {
   "cell_type": "code",
   "execution_count": null,
   "metadata": {},
   "outputs": [],
   "source": [
    "#\n",
    "#\n",
    "# vertica_cursor\n",
    "#\n",
    "from verticapy import vertica_cursor\n",
    "cur = vertica_cursor(\"VerticaDSN\")"
   ]
  },
  {
   "cell_type": "markdown",
   "metadata": {},
   "source": [
    "To connect with the Vertica Native Python Client <b>vertica_python</b>, you can either provide the full set of credentials or the DSN."
   ]
  },
  {
   "cell_type": "code",
   "execution_count": null,
   "metadata": {},
   "outputs": [],
   "source": [
    "#\n",
    "#\n",
    "# vertica_python\n",
    "#\n",
    "import vertica_python\n",
    "\n",
    "# Connecting with DSN credentials\n",
    "conn_info = {'host': \"10.211.55.14\", \n",
    "             'port': 5433, \n",
    "             'user': \"dbadmin\", \n",
    "             'password': \"XxX\", \n",
    "             'database': \"testdb\"}\n",
    "cur = vertica_python.connect(** conn_info).cursor()\n",
    "\n",
    "# Connecting with the DSN\n",
    "from verticapy.utilities import to_vertica_python_format \n",
    "dsn = \"VerticaDSN\"\n",
    "cur = vertica_python.connect(** to_vertica_python_format(dsn), autocommit = True).cursor()"
   ]
  },
  {
   "cell_type": "markdown",
   "metadata": {},
   "source": [
    "To create an ODBC connection with <b>pyodbc</b>, you can either provide the full set of credentials or the DSN."
   ]
  },
  {
   "cell_type": "code",
   "execution_count": null,
   "metadata": {},
   "outputs": [],
   "source": [
    "#\n",
    "#\n",
    "# pyodbc\n",
    "#\n",
    "import pyodbc\n",
    "\n",
    "# Connecting with DSN credentials\n",
    "driver = \"/Library/Vertica/ODBC/lib/libverticaodbc.dylib\"\n",
    "server = \"10.211.55.14\"\n",
    "database = \"testdb\"\n",
    "port = \"5433\"\n",
    "uid = \"dbadmin\"\n",
    "pwd = \"XxX\"\n",
    "dsn = (\"DRIVER={}; SERVER={}; DATABASE={}; PORT={}; UID={}; PWD={};\").format(driver, \n",
    "                                                                             server, \n",
    "                                                                             database, \n",
    "                                                                             port, \n",
    "                                                                             uid, \n",
    "                                                                             pwd)\n",
    "cur = pyodbc.connect(dsn).cursor()\n",
    "\n",
    "# Connecting with the DSN\n",
    "dsn = (\"DSN=VerticaDSN\")\n",
    "cur = pyodbc.connect(dsn, autocommit = True).cursor()"
   ]
  },
  {
   "cell_type": "markdown",
   "metadata": {},
   "source": [
    "Setting up a JDBC connection with <b>jaydebeapi</b>."
   ]
  },
  {
   "cell_type": "code",
   "execution_count": null,
   "metadata": {},
   "outputs": [],
   "source": [
    "#\n",
    "#\n",
    "# jaydebeapi\n",
    "#\n",
    "import jaydebeapi\n",
    "\n",
    "# Vertica Server Details\n",
    "database = \"testdb\"\n",
    "hostname = \"10.211.55.14\"\n",
    "port = \"5433\"\n",
    "uid = \"dbadmin\"\n",
    "pwd = \"XxX\"\n",
    "\n",
    "# Vertica JDBC class name\n",
    "jdbc_driver_name = \"com.vertica.jdbc.Driver\"\n",
    "\n",
    "# Vertica JDBC driver path\n",
    "jdbc_driver_loc = \"/Library/Vertica/JDBC/vertica-jdbc-9.3.1-0.jar\"\n",
    "\n",
    "# JDBC connection string\n",
    "connection_string = 'jdbc:vertica://' + hostname + ':' + port + '/' + database\n",
    "url = '{}:user={};password={}'.format(connection_string, uid, pwd)\n",
    "conn = jaydebeapi.connect(jdbc_driver_name, \n",
    "                          connection_string, \n",
    "                          {'user': uid, 'password': pwd}, \n",
    "                          jars = jdbc_driver_loc)\n",
    "cur = conn.cursor()"
   ]
  },
  {
   "cell_type": "markdown",
   "metadata": {},
   "source": [
    "You can save your credentials in VerticaPy to prevent the creation of redundant cursors."
   ]
  },
  {
   "cell_type": "code",
   "execution_count": null,
   "metadata": {},
   "outputs": [],
   "source": [
    "from verticapy.connections.connect import *\n",
    "# Save a new connection\n",
    "new_auto_connection({\"host\": \"10.211.55.14\", \n",
    "                     \"port\": \"5433\", \n",
    "                     \"database\": \"testdb\", \n",
    "                     \"password\": \"XxX\", \n",
    "                     \"user\": \"dbadmin\",\n",
    "                     \"driver\": \"/Library/Vertica/ODBC/lib/libverticaodbc.dylib\"}, \n",
    "                    method = \"vertica_python\", \n",
    "                    name = \"VerticaDSN\")\n",
    "# Set the primary auto-connection\n",
    "change_auto_connection(\"VerticaDSN\")"
   ]
  }
 ],
 "metadata": {
  "kernelspec": {
   "display_name": "Python 3",
   "language": "python",
   "name": "python3"
  },
  "language_info": {
   "codemirror_mode": {
    "name": "ipython",
    "version": 3
   },
   "file_extension": ".py",
   "mimetype": "text/x-python",
   "name": "python",
   "nbconvert_exporter": "python",
   "pygments_lexer": "ipython3",
   "version": "3.6.3"
  }
 },
 "nbformat": 4,
 "nbformat_minor": 2
}
