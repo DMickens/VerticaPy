{
 "cells": [
  {
   "cell_type": "markdown",
   "metadata": {},
   "source": [
    "<img src='vpython.png' width=\"230px\">\n",
    "\n",
    "# <font color='#333333'>Homework1 - Wine Quality: Which wine is the best?<font>\n",
    "\n",
    "Wines are all different because of their composition. A \"good\" wine is a very subjective definition as everyone has not the same knowledge about Viticulture. Some experts decided to rate different red/white wines in order to understand what makes a wine so good. We have access to the information about 6500 different wines. The purpose of this homework is to create a good model to predict wine quality.\n",
    "<br>\n",
    "<br>\n",
    "<img src='wine.png' width=\"600px\">\n",
    "<br>\n",
    "<br>\n",
    "\n",
    "### <font color='#333333'>0- Prerequires<font>\n",
    "\n",
    "#### <font color='#555555'>Library installation.<font>\n",
    "\n",
    "You can download the library using this <a href=\"https://github.com/vertica/vertica_ml_python\">link</a>.\n",
    "\n",
    "To install it, use the documentation instructions. It is the version 0.1 and some drastic changes can occur for the version 1.0. Do not hesitate to send me your feedbacks at <a href=\"mailto:badr.ouali@microfocus.com\"> badr.ouali@microfocus.com </a>\n",
    "\n",
    "#### <font color='#555555'>Connection to the Vertica Database using ODBC.<font>\n",
    "    \n",
    "In order to use the Vertica ML Python Library and begin the searches, we need first to connect to the Vertica Database. You can use ODBC/JDBC connection. We propose to use an ODBC connection due to the simplicity of the code. Besides, the cursor is indispensable for all the ML part."
   ]
  },
  {
   "cell_type": "code",
   "execution_count": 1,
   "metadata": {},
   "outputs": [],
   "source": [
    "import pyodbc\n",
    "cur=pyodbc.connect(\"DSN=VerticaDSN\").cursor()"
   ]
  },
  {
   "cell_type": "markdown",
   "metadata": {},
   "source": [
    "You can then import the different functions to create the RVD from the CSV file."
   ]
  },
  {
   "cell_type": "code",
   "execution_count": 2,
   "metadata": {},
   "outputs": [],
   "source": [
    "from vertica_ml_python import RVD\n",
    "from vertica_ml_python import read_csv # This function will help us to load the csv file in the Database.\n",
    "from vertica_ml_python import drop_table # This function will help us to drop the unnecessary tables. "
   ]
  },
  {
   "cell_type": "code",
   "execution_count": 3,
   "metadata": {},
   "outputs": [
    {
     "name": "stdout",
     "output_type": "stream",
     "text": [
      "The table winequality was successfully dropped.\n"
     ]
    }
   ],
   "source": [
    "drop_table(\"winequality\",cur)"
   ]
  },
  {
   "cell_type": "markdown",
   "metadata": {},
   "source": [
    "We can parse the csv file."
   ]
  },
  {
   "cell_type": "code",
   "execution_count": 4,
   "metadata": {},
   "outputs": [
    {
     "name": "stdout",
     "output_type": "stream",
     "text": [
      "The parser guess the following columns and types:\n",
      "alcohol: Float\n",
      "chlorides: Float\n",
      "citric_acid: Numeric(6,3)\n",
      "color: Varchar(20)\n",
      "density: Float\n",
      "fixed_acidity: Numeric(6,3)\n",
      "free_sulfur_dioxide: Numeric(7,2)\n",
      "good: Integer\n",
      "pH: Numeric(6,3)\n",
      "quality: Integer\n",
      "residual_sugar: Numeric(7,3)\n",
      "sulphates: Numeric(6,3)\n",
      "total_sulfur_dioxide: Numeric(7,2)\n",
      "volatile_acidity: Numeric(7,4)\n",
      "Illegal characters in the columns names will be erased.\n",
      "Is any type wrong?\n",
      "If one of the types is not correct, it will be considered as Varchar(100).\n",
      "0 - There is one type that I want to modify.\n",
      "1 - I wish to continue.\n",
      "2 - I wish to see the columns and their types again.\n",
      "1\n",
      "The table winequality has been successfully created.\n"
     ]
    }
   ],
   "source": [
    "winequality=read_csv('./winequality.csv',cur,split=True,split_name='split')"
   ]
  },
  {
   "cell_type": "markdown",
   "metadata": {},
   "source": [
    "When the file is big, read_csv is not a suitable solution. It is better to write direct SQL query. However, we suppose that the data are already inside the DB. If the table already exists in the DB, you can use the following syntax to create the RVD."
   ]
  },
  {
   "cell_type": "code",
   "execution_count": 5,
   "metadata": {},
   "outputs": [],
   "source": [
    "winequality=RVD('winequality',dsn=\"VerticaDSN\")"
   ]
  },
  {
   "cell_type": "markdown",
   "metadata": {},
   "source": [
    "### <font color='#333333'>1- First Data Exploration<font>\n",
    "    \n",
    "#### <font color='#000000'>1.0- Print the 6 first elements of the winequality RVD and check that there is no missing values.<font>"
   ]
  },
  {
   "cell_type": "code",
   "execution_count": null,
   "metadata": {},
   "outputs": [],
   "source": []
  },
  {
   "cell_type": "markdown",
   "metadata": {},
   "source": [
    "#### <font color='#000000'>1.1- Describe the winequality RVD.<font>"
   ]
  },
  {
   "cell_type": "code",
   "execution_count": null,
   "metadata": {},
   "outputs": [],
   "source": []
  },
  {
   "cell_type": "markdown",
   "metadata": {},
   "source": [
    "#### <font color='#000000'>1.2- The wine color doesn't appear on the array because it is categorical. Describe the color RVC.<font>"
   ]
  },
  {
   "cell_type": "code",
   "execution_count": null,
   "metadata": {},
   "outputs": [],
   "source": []
  },
  {
   "cell_type": "markdown",
   "metadata": {},
   "source": [
    "#### <font color='#000000'>1.3- In this dataset, we have more white wines. In order to use this variable in our model, use a label encoding.<font>"
   ]
  },
  {
   "cell_type": "code",
   "execution_count": null,
   "metadata": {},
   "outputs": [],
   "source": []
  },
  {
   "cell_type": "markdown",
   "metadata": {},
   "source": [
    "#### <font color='#000000'>1.4- Compute the distribution of the quality variable. What do you notice?<font>"
   ]
  },
  {
   "cell_type": "code",
   "execution_count": null,
   "metadata": {},
   "outputs": [],
   "source": []
  },
  {
   "cell_type": "markdown",
   "metadata": {},
   "source": [
    "..."
   ]
  },
  {
   "cell_type": "markdown",
   "metadata": {},
   "source": [
    "#### <font color='#000000'>1.5- Compute the correlation matrix of the model. Look at the color row, what do you notice?<font>"
   ]
  },
  {
   "cell_type": "code",
   "execution_count": null,
   "metadata": {},
   "outputs": [],
   "source": []
  },
  {
   "cell_type": "markdown",
   "metadata": {},
   "source": [
    "..."
   ]
  },
  {
   "cell_type": "markdown",
   "metadata": {},
   "source": [
    "### <font color='#333333'>2- Red Wine Data Exploration<font>\n",
    "    \n",
    "#### <font color='#000000'>2.0- Filter only red wines from the RVD. Do not forget that color is now encoded (0: red; 1: white)<font>"
   ]
  },
  {
   "cell_type": "code",
   "execution_count": null,
   "metadata": {},
   "outputs": [],
   "source": []
  },
  {
   "cell_type": "markdown",
   "metadata": {},
   "source": [
    "#### <font color='#000000'>2.1- Turn on the SQL to see how it is generated. You can describe the RVD again. Try to understand the query and turn the SQL off.<font>"
   ]
  },
  {
   "cell_type": "code",
   "execution_count": null,
   "metadata": {},
   "outputs": [],
   "source": []
  },
  {
   "cell_type": "markdown",
   "metadata": {},
   "source": [
    "..."
   ]
  },
  {
   "cell_type": "markdown",
   "metadata": {},
   "source": [
    "#### <font color='#000000'>2.2- As you noticed, there is a column called \"good\" in the dataset which is equal to 1 if the wine is good, 0 otherwise (it is less precise than the total rate). Use this column to draw a scatter plot between alcohol and volatile acidity. What do you notice?<font>"
   ]
  },
  {
   "cell_type": "code",
   "execution_count": null,
   "metadata": {},
   "outputs": [],
   "source": []
  },
  {
   "cell_type": "markdown",
   "metadata": {},
   "source": [
    "..."
   ]
  },
  {
   "cell_type": "markdown",
   "metadata": {},
   "source": [
    "#### <font color='#000000'>2.3- Draw an hexbin Plot of the chlorides vs the density using the average of the quality as aggregation (use the seismic cmap to really see the difference). What do you notice?<font>"
   ]
  },
  {
   "cell_type": "code",
   "execution_count": null,
   "metadata": {},
   "outputs": [],
   "source": []
  },
  {
   "cell_type": "markdown",
   "metadata": {},
   "source": [
    "..."
   ]
  },
  {
   "cell_type": "markdown",
   "metadata": {},
   "source": [
    "### <font color='#333333'>3- White Wine Data Exploration<font>\n",
    "    \n",
    "#### <font color='#000000'>3.0- Do a similar study for white wines (do not forget to use the undo filter method). What do you notice?<font>"
   ]
  },
  {
   "cell_type": "code",
   "execution_count": null,
   "metadata": {},
   "outputs": [],
   "source": []
  },
  {
   "cell_type": "markdown",
   "metadata": {},
   "source": [
    "..."
   ]
  },
  {
   "cell_type": "markdown",
   "metadata": {},
   "source": [
    "#### <font color='#000000'>3.1- What is the difference between red and white wines? (use double hist on many variables and use also the color parameter to put some sparks on the eyes). Why Logistic Regression is not suitable for this study (even if we consider \"good\" as response column)? If someone decides to use Logistic Regression, what should he do?<font>"
   ]
  },
  {
   "cell_type": "code",
   "execution_count": null,
   "metadata": {},
   "outputs": [],
   "source": []
  },
  {
   "cell_type": "markdown",
   "metadata": {},
   "source": [
    "..."
   ]
  },
  {
   "cell_type": "markdown",
   "metadata": {},
   "source": [
    "### <font color='#333333'>4- A first model to predict if white wines are good.<font>\n",
    "    \n",
    "#### <font color='#000000'>4.0- Rebuild a RVD with only the white wines. Why can we not build a logictic regression for the 'quality' variable?<font>"
   ]
  },
  {
   "cell_type": "code",
   "execution_count": null,
   "metadata": {},
   "outputs": [],
   "source": []
  },
  {
   "cell_type": "markdown",
   "metadata": {},
   "source": [
    "..."
   ]
  },
  {
   "cell_type": "markdown",
   "metadata": {},
   "source": [
    "#### <font color='#000000'>4.1- Separate the RVD into two views (train/test).<font>"
   ]
  },
  {
   "cell_type": "code",
   "execution_count": null,
   "metadata": {},
   "outputs": [],
   "source": []
  },
  {
   "cell_type": "markdown",
   "metadata": {},
   "source": [
    "#### <font color='#000000'>4.2- Build a logistic regression model to predict if a white wine is good or not (Do not use quality!).<font>"
   ]
  },
  {
   "cell_type": "code",
   "execution_count": null,
   "metadata": {},
   "outputs": [],
   "source": []
  },
  {
   "cell_type": "markdown",
   "metadata": {},
   "source": [
    "#### <font color='#000000'>4.3- Evaluate the model's variables importance. What is a good white wine according to the Logit?<font>"
   ]
  },
  {
   "cell_type": "code",
   "execution_count": null,
   "metadata": {},
   "outputs": [],
   "source": []
  },
  {
   "cell_type": "markdown",
   "metadata": {},
   "source": [
    "..."
   ]
  },
  {
   "cell_type": "markdown",
   "metadata": {},
   "source": [
    "#### <font color='#000000'>4.4- Evaluate your model.<font>"
   ]
  },
  {
   "cell_type": "code",
   "execution_count": null,
   "metadata": {},
   "outputs": [],
   "source": []
  },
  {
   "cell_type": "markdown",
   "metadata": {},
   "source": [
    "..."
   ]
  },
  {
   "cell_type": "markdown",
   "metadata": {},
   "source": [
    "#### <font color='#000000'>4.5- For how much of the data are you mainly sure to predict if a white wine is good?<font>"
   ]
  },
  {
   "cell_type": "code",
   "execution_count": null,
   "metadata": {},
   "outputs": [],
   "source": []
  },
  {
   "cell_type": "markdown",
   "metadata": {},
   "source": [
    "..."
   ]
  },
  {
   "cell_type": "markdown",
   "metadata": {},
   "source": [
    "### <font color='#333333'>5- A global model.<font>\n",
    "    \n",
    "#### <font color='#000000'>5.0- Knowing that Vertica allows to use 3 different algorithms for regression (SVM, linear regression and Random Forest), which one is the most suitable to use? Why?<font>"
   ]
  },
  {
   "cell_type": "markdown",
   "metadata": {},
   "source": []
  },
  {
   "cell_type": "markdown",
   "metadata": {},
   "source": [
    "#### <font color='#000000'>5.1- Create a Random Forest Regressor model using all the data (you must convert the numeric features to float before). <font>"
   ]
  },
  {
   "cell_type": "code",
   "execution_count": null,
   "metadata": {},
   "outputs": [],
   "source": []
  },
  {
   "cell_type": "markdown",
   "metadata": {},
   "source": [
    "#### <font color='#000000'>5.2- Evaluate your model using the rsquared. Is it good? (A model is good when the rsquared is near to 1 and bad when it is close to 0)<font>"
   ]
  },
  {
   "cell_type": "code",
   "execution_count": null,
   "metadata": {},
   "outputs": [],
   "source": []
  },
  {
   "cell_type": "markdown",
   "metadata": {},
   "source": [
    "..."
   ]
  },
  {
   "cell_type": "markdown",
   "metadata": {},
   "source": [
    "#### <font color='#000000'>5.3- Create a new model using ntree=1000 and evaluate your model again. What do you notice?<font>"
   ]
  },
  {
   "cell_type": "code",
   "execution_count": null,
   "metadata": {},
   "outputs": [],
   "source": []
  },
  {
   "cell_type": "markdown",
   "metadata": {},
   "source": [
    "..."
   ]
  },
  {
   "cell_type": "markdown",
   "metadata": {},
   "source": [
    "#### <font color='#000000'>5.4- Create a new model using ntree=1000, max_depth=6 and max_breadth=100. What do you notice?<font>"
   ]
  },
  {
   "cell_type": "code",
   "execution_count": null,
   "metadata": {},
   "outputs": [],
   "source": []
  },
  {
   "cell_type": "markdown",
   "metadata": {},
   "source": [
    "#### <font color='#000000'>5.5- Create a new model using max_depth=3 and draw the tree ID 0.<font>"
   ]
  },
  {
   "cell_type": "code",
   "execution_count": null,
   "metadata": {},
   "outputs": [],
   "source": []
  },
  {
   "cell_type": "markdown",
   "metadata": {},
   "source": [
    "..."
   ]
  },
  {
   "cell_type": "markdown",
   "metadata": {},
   "source": [
    "#### <font color='#000000'>5.6- Create a linear regression model and evaluate your model. Was our assumption correct?<font>"
   ]
  },
  {
   "cell_type": "code",
   "execution_count": null,
   "metadata": {},
   "outputs": [],
   "source": []
  },
  {
   "cell_type": "markdown",
   "metadata": {},
   "source": [
    "..."
   ]
  },
  {
   "cell_type": "markdown",
   "metadata": {},
   "source": [
    "### <font color='#333333'>6- Your impressions.<font>\n",
    "\n",
    "Your last task is to send me your impressions of the library with the subject \"[Vertica-ML-Python] My impressions\". I want to personally thank you for finishing this first homework. Most valuable companies always have highly skilled persons. Vertica is one of those and it needs to always create and innovate.\n",
    "\n",
    "### <font color='#1e90ff'>To contact me<font>\n",
    "<b>@: </b><a href=\"mailto:badr.ouali@microfocus.com\">badr.ouali@microfocus.com</a><br>\n",
    "<b>In: </b><a href=\"https://www.linkedin.com/in/badr-ouali/\">badr-ouali</a>"
   ]
  }
 ],
 "metadata": {
  "kernelspec": {
   "display_name": "Python 3",
   "language": "python",
   "name": "python3"
  },
  "language_info": {
   "codemirror_mode": {
    "name": "ipython",
    "version": 3
   },
   "file_extension": ".py",
   "mimetype": "text/x-python",
   "name": "python",
   "nbconvert_exporter": "python",
   "pygments_lexer": "ipython3",
   "version": "3.6.3"
  }
 },
 "nbformat": 4,
 "nbformat_minor": 2
}
