{
 "cells": [
  {
   "cell_type": "markdown",
   "metadata": {},
   "source": [
    "<img src='vpython.png' width=\"230px\">\n",
    "\n",
    "# <font color='#333333'>Homework2 - Weedle's Cave<font>\n",
    "\n",
    "You are entering the Weedle's Cave. Many Pokemons having really different characteristics are fighting. The purpose is to build a Machine Learning algorithm to predict which Pokemon will win the different fights. Will you be able to predict the outcome of future matches?\n",
    "\n",
    "The dataset is taken from <a href=\"https://www.kaggle.com/terminus7/pokemon-challenge\">https://www.kaggle.com/terminus7/pokemon-challenge</a>\n",
    "<br>\n",
    "<br>\n",
    "<img src='pokemon.png' width=\"800px\">\n",
    "<br>\n",
    "<br>\n",
    "\n",
    "### <font color='#333333'>0- Prerequires<font>\n",
    "\n",
    "#### <font color='#555555'>Vertica-ML-Python Library installation.<font>\n",
    "\n",
    "You can download the library using this <a href=\"https://github.com/vertica/vertica_ml_python\">link</a>.\n",
    "\n",
    "To install it, use the documentation instructions. It is the version 0.1 and some drastic changes can occur for the version 1.0. Do not hesitate to send me your feedbacks at <a href=\"mailto:badr.ouali@microfocus.com\"> badr.ouali@microfocus.com </a>\n",
    "\n",
    "#### <font color='#555555'>SQL Magic.<font>\n",
    "    \n",
    "During this study, you also need to install SQL magic. The following step will help you to install it but the installation changes from a system to another.\n",
    "\n",
    "You will need sql alchemy 1.1.11 or higher before installing sqlalchemy-vertica\n",
    "\n",
    "Run\n",
    "\n",
    "    conda update sqlalchemy\n",
    "\n",
    "This updates sqlalchemy if you used Anaconda to install your python environment\n",
    "\n",
    "To install sqlalchemy-vertica run\n",
    "\n",
    "    pip install sqlalchemy-vertica[pyodbc,vertica-python]\n",
    "\n",
    "There are a lot of dependencies like psycopg2 and six and pyodbc\n",
    "\n",
    "Anancoda will take care of most of these\n",
    "\n",
    "Look at the error log if you did not use Anaconda and need to install the dependencies manually\n",
    "\n",
    "You may need to install pyodbc manually by running\n",
    "\n",
    "    pip install pyodbc\n",
    "\n",
    "After sqlalchemy-vertica is installed ensure ipython-sql is installed by running\n",
    "\n",
    "    pip install ipython-sql \n",
    "    \n",
    "You can then use the following command."
   ]
  },
  {
   "cell_type": "code",
   "execution_count": 1,
   "metadata": {},
   "outputs": [
    {
     "data": {
      "text/plain": [
       "'Connected: None@None'"
      ]
     },
     "execution_count": 1,
     "metadata": {},
     "output_type": "execute_result"
    }
   ],
   "source": [
    "%load_ext sql\n",
    "%sql vertica+pyodbc://VerticaDSN"
   ]
  },
  {
   "cell_type": "markdown",
   "metadata": {},
   "source": [
    "#### <font color='#555555'>Connection to the Vertica Database using ODBC.<font>\n",
    "    \n",
    "In order to use the Vertica ML Python Library and begin the searches, we need first to connect to the Vertica Database. You can use ODBC/JDBC connection. We propose to use an ODBC connection due to the simplicity of the code. Besides, the cursor is indispensable for all the ML part."
   ]
  },
  {
   "cell_type": "code",
   "execution_count": 2,
   "metadata": {},
   "outputs": [],
   "source": [
    "import pyodbc\n",
    "cur=pyodbc.connect(\"DSN=VerticaDSN\").cursor()"
   ]
  },
  {
   "cell_type": "markdown",
   "metadata": {},
   "source": [
    "You can then import the different functions to create the RVD from the CSV file."
   ]
  },
  {
   "cell_type": "code",
   "execution_count": 3,
   "metadata": {},
   "outputs": [],
   "source": [
    "from vertica_ml_python import RVD\n",
    "from vertica_ml_python import read_csv # This function will help us to load the csv file in the Database.\n",
    "from vertica_ml_python import drop_table # This function will help us to drop the unnecessary tables. "
   ]
  },
  {
   "cell_type": "code",
   "execution_count": 4,
   "metadata": {},
   "outputs": [
    {
     "name": "stdout",
     "output_type": "stream",
     "text": [
      "The table pokemon was successfully dropped.\n",
      "The table combats was successfully dropped.\n"
     ]
    }
   ],
   "source": [
    "drop_table(\"pokemon\",cur)\n",
    "drop_table(\"combats\",cur)"
   ]
  },
  {
   "cell_type": "markdown",
   "metadata": {},
   "source": [
    "We can then parse the two csv files."
   ]
  },
  {
   "cell_type": "code",
   "execution_count": 5,
   "metadata": {},
   "outputs": [
    {
     "name": "stdout",
     "output_type": "stream",
     "text": [
      "The parser guess the following columns and types:\n",
      "Attack: Integer\n",
      "Defense: Integer\n",
      "Generation: Integer\n",
      "HP: Integer\n",
      "ID: Integer\n",
      "Legendary: Boolean\n",
      "Name: Varchar(50)\n",
      "Sp_Atk: Integer\n",
      "Sp_Def: Integer\n",
      "Speed: Integer\n",
      "Type_1: Varchar(20)\n",
      "Type_2: Varchar(20)\n",
      "Illegal characters in the columns names will be erased.\n",
      "Is any type wrong?\n",
      "If one of the types is not correct, it will be considered as Varchar(100).\n",
      "0 - There is one type that I want to modify.\n",
      "1 - I wish to continue.\n",
      "2 - I wish to see the columns and their types again.\n",
      "1\n",
      "The table pokemon has been successfully created.\n"
     ]
    }
   ],
   "source": [
    "pokemons=read_csv('./pokemon.csv',cur)"
   ]
  },
  {
   "cell_type": "code",
   "execution_count": 6,
   "metadata": {},
   "outputs": [
    {
     "name": "stdout",
     "output_type": "stream",
     "text": [
      "The parser guess the following columns and types:\n",
      "First_pokemon: Integer\n",
      "Second_pokemon: Integer\n",
      "Winner: Integer\n",
      "Illegal characters in the columns names will be erased.\n",
      "Is any type wrong?\n",
      "If one of the types is not correct, it will be considered as Varchar(100).\n",
      "0 - There is one type that I want to modify.\n",
      "1 - I wish to continue.\n",
      "2 - I wish to see the columns and their types again.\n",
      "1\n",
      "The table combats has been successfully created.\n"
     ]
    }
   ],
   "source": [
    "combats=read_csv('./combats.csv',cur)"
   ]
  },
  {
   "cell_type": "markdown",
   "metadata": {},
   "source": [
    "When the file is big, read_csv is not a suitable solution. It is better to write direct SQL query. However, we suppose that the data are already inside the DB. If the table already exists in the DB, you can use the following syntax to create the RVD."
   ]
  },
  {
   "cell_type": "code",
   "execution_count": 7,
   "metadata": {},
   "outputs": [],
   "source": [
    "pokemons=RVD('pokemon',dsn=\"VerticaDSN\")\n",
    "combats=RVD('combats',dsn=\"VerticaDSN\")"
   ]
  },
  {
   "cell_type": "markdown",
   "metadata": {},
   "source": [
    "The first dataset represents all the pokemons and the seconds all the fights."
   ]
  },
  {
   "cell_type": "code",
   "execution_count": 8,
   "metadata": {},
   "outputs": [
    {
     "name": "stdout",
     "output_type": "stream",
     "text": [
      "799 elements were filtered\n"
     ]
    },
    {
     "data": {
      "text/html": [
       "<table style=\"border-collapse: collapse; border: 2px solid rgb(200,200,200)\"><tr style=\"{border: 1px solid rgb(200,200,200);}\"><td style=\"border-bottom: 1px solid #DDD;font-size:1.02em;background-color:#DDD\"><b></b></td><td style=\"font-size:1.02em;background-color:#DDD\"><b>Attack</b></td><td style=\"font-size:1.02em;background-color:#DDD\"><b>Defense</b></td><td style=\"font-size:1.02em;background-color:#DDD\"><b>Generation</b></td><td style=\"font-size:1.02em;background-color:#DDD\"><b>HP</b></td><td style=\"font-size:1.02em;background-color:#DDD\"><b>ID</b></td><td style=\"font-size:1.02em;background-color:#DDD\"><b>Legendary</b></td><td style=\"font-size:1.02em;background-color:#DDD\"><b>Name</b></td><td style=\"font-size:1.02em;background-color:#DDD\"><b>Sp_Atk</b></td><td style=\"font-size:1.02em;background-color:#DDD\"><b>Sp_Def</b></td><td style=\"font-size:1.02em;background-color:#DDD\"><b>Speed</b></td><td style=\"font-size:1.02em;background-color:#DDD\"><b>Type_1</b></td><td style=\"font-size:1.02em;background-color:#DDD\"><b>Type_2</b></td></tr><tr style=\"{border: 1px solid rgb(200,200,200);}\"><td style=\"border-bottom: 1px solid #DDD;font-size:1.02em;background-color:#DDD\"><b>0</b></td><td style=\"border: 1px solid rgb(200,200,200);\">55</td><td style=\"border: 1px solid rgb(200,200,200);\">40</td><td style=\"border: 1px solid rgb(200,200,200);\">1</td><td style=\"border: 1px solid rgb(200,200,200);\">35</td><td style=\"border: 1px solid rgb(200,200,200);\">31</td><td style=\"border: 1px solid rgb(200,200,200);\">False</td><td style=\"border: 1px solid rgb(200,200,200);\">Pikachu</td><td style=\"border: 1px solid rgb(200,200,200);\">50</td><td style=\"border: 1px solid rgb(200,200,200);\">50</td><td style=\"border: 1px solid rgb(200,200,200);\">90</td><td style=\"border: 1px solid rgb(200,200,200);\">Electric</td><td style=\"border: 1px solid rgb(200,200,200);\">None</td></tr><tr><td style=\"border-top: 1px solid #DDD;background-color:#DDD\"></td><td style=\"border: 1px solid rgb(200,200,200);\">...</td><td style=\"border: 1px solid rgb(200,200,200);\">...</td><td style=\"border: 1px solid rgb(200,200,200);\">...</td><td style=\"border: 1px solid rgb(200,200,200);\">...</td><td style=\"border: 1px solid rgb(200,200,200);\">...</td><td style=\"border: 1px solid rgb(200,200,200);\">...</td><td style=\"border: 1px solid rgb(200,200,200);\">...</td><td style=\"border: 1px solid rgb(200,200,200);\">...</td><td style=\"border: 1px solid rgb(200,200,200);\">...</td><td style=\"border: 1px solid rgb(200,200,200);\">...</td><td style=\"border: 1px solid rgb(200,200,200);\">...</td><td style=\"border: 1px solid rgb(200,200,200);\">...</td></tr></table>"
      ],
      "text/plain": [
       "<IPython.core.display.HTML object>"
      ]
     },
     "metadata": {},
     "output_type": "display_data"
    },
    {
     "name": "stdout",
     "output_type": "stream",
     "text": [
      "Name: pokemon, Number of rows: 1, Number of columns: 12\n"
     ]
    }
   ],
   "source": [
    "pokemons.filter(\"Name='Pikachu'\")\n",
    "print(pokemons)\n",
    "pokemons.undo_filter()"
   ]
  },
  {
   "cell_type": "markdown",
   "metadata": {},
   "source": [
    "For example, Pikachu has 35 life points and he is not Legendary. His type is Electric and his special capacities are as strong as the regular ones.\n",
    "<br>\n",
    "<img src='pikachu.png' width=\"250px\">\n",
    "<br>\n",
    "The second dataset represents all the matches. The following fight is between Pokemon ID6 and ID15."
   ]
  },
  {
   "cell_type": "code",
   "execution_count": 9,
   "metadata": {},
   "outputs": [
    {
     "name": "stdout",
     "output_type": "stream",
     "text": [
      "49999 elements were filtered\n"
     ]
    },
    {
     "data": {
      "text/html": [
       "<table style=\"border-collapse: collapse; border: 2px solid rgb(200,200,200)\"><tr style=\"{border: 1px solid rgb(200,200,200);}\"><td style=\"border-bottom: 1px solid #DDD;font-size:1.02em;background-color:#DDD\"><b></b></td><td style=\"font-size:1.02em;background-color:#DDD\"><b>First_pokemon</b></td><td style=\"font-size:1.02em;background-color:#DDD\"><b>Second_pokemon</b></td><td style=\"font-size:1.02em;background-color:#DDD\"><b>Winner</b></td></tr><tr style=\"{border: 1px solid rgb(200,200,200);}\"><td style=\"border-bottom: 1px solid #DDD;font-size:1.02em;background-color:#DDD\"><b>0</b></td><td style=\"border: 1px solid rgb(200,200,200);\">6</td><td style=\"border: 1px solid rgb(200,200,200);\">15</td><td style=\"border: 1px solid rgb(200,200,200);\">6</td></tr><tr><td style=\"border-top: 1px solid #DDD;background-color:#DDD\"></td><td style=\"border: 1px solid rgb(200,200,200);\">...</td><td style=\"border: 1px solid rgb(200,200,200);\">...</td><td style=\"border: 1px solid rgb(200,200,200);\">...</td></tr></table>"
      ],
      "text/plain": [
       "<IPython.core.display.HTML object>"
      ]
     },
     "metadata": {},
     "output_type": "display_data"
    },
    {
     "name": "stdout",
     "output_type": "stream",
     "text": [
      "Name: combats, Number of rows: 1, Number of columns: 3\n"
     ]
    }
   ],
   "source": [
    "combats.filter(\"First_pokemon=6 and Second_pokemon=15\")\n",
    "print(combats)\n",
    "combats.undo_filter()"
   ]
  },
  {
   "cell_type": "markdown",
   "metadata": {},
   "source": [
    "We can see that the winner is the Pokemon ID6, let's try to understand why."
   ]
  },
  {
   "cell_type": "code",
   "execution_count": 10,
   "metadata": {},
   "outputs": [
    {
     "name": "stdout",
     "output_type": "stream",
     "text": [
      "798 elements were filtered\n"
     ]
    },
    {
     "data": {
      "text/html": [
       "<table style=\"border-collapse: collapse; border: 2px solid rgb(200,200,200)\"><tr style=\"{border: 1px solid rgb(200,200,200);}\"><td style=\"border-bottom: 1px solid #DDD;font-size:1.02em;background-color:#DDD\"><b></b></td><td style=\"font-size:1.02em;background-color:#DDD\"><b>Attack</b></td><td style=\"font-size:1.02em;background-color:#DDD\"><b>Defense</b></td><td style=\"font-size:1.02em;background-color:#DDD\"><b>Generation</b></td><td style=\"font-size:1.02em;background-color:#DDD\"><b>HP</b></td><td style=\"font-size:1.02em;background-color:#DDD\"><b>ID</b></td><td style=\"font-size:1.02em;background-color:#DDD\"><b>Legendary</b></td><td style=\"font-size:1.02em;background-color:#DDD\"><b>Name</b></td><td style=\"font-size:1.02em;background-color:#DDD\"><b>Sp_Atk</b></td><td style=\"font-size:1.02em;background-color:#DDD\"><b>Sp_Def</b></td><td style=\"font-size:1.02em;background-color:#DDD\"><b>Speed</b></td><td style=\"font-size:1.02em;background-color:#DDD\"><b>Type_1</b></td><td style=\"font-size:1.02em;background-color:#DDD\"><b>Type_2</b></td></tr><tr style=\"{border: 1px solid rgb(200,200,200);}\"><td style=\"border-bottom: 1px solid #DDD;font-size:1.02em;background-color:#DDD\"><b>0</b></td><td style=\"border: 1px solid rgb(200,200,200);\">64</td><td style=\"border: 1px solid rgb(200,200,200);\">58</td><td style=\"border: 1px solid rgb(200,200,200);\">1</td><td style=\"border: 1px solid rgb(200,200,200);\">58</td><td style=\"border: 1px solid rgb(200,200,200);\">6</td><td style=\"border: 1px solid rgb(200,200,200);\">False</td><td style=\"border: 1px solid rgb(200,200,200);\">Charmeleon</td><td style=\"border: 1px solid rgb(200,200,200);\">80</td><td style=\"border: 1px solid rgb(200,200,200);\">65</td><td style=\"border: 1px solid rgb(200,200,200);\">80</td><td style=\"border: 1px solid rgb(200,200,200);\">Fire</td><td style=\"border: 1px solid rgb(200,200,200);\">None</td></tr><tr style=\"{border: 1px solid rgb(200,200,200);}\"><td style=\"border-bottom: 1px solid #DDD;font-size:1.02em;background-color:#DDD\"><b>1</b></td><td style=\"border: 1px solid rgb(200,200,200);\">20</td><td style=\"border: 1px solid rgb(200,200,200);\">55</td><td style=\"border: 1px solid rgb(200,200,200);\">1</td><td style=\"border: 1px solid rgb(200,200,200);\">50</td><td style=\"border: 1px solid rgb(200,200,200);\">15</td><td style=\"border: 1px solid rgb(200,200,200);\">False</td><td style=\"border: 1px solid rgb(200,200,200);\">Metapod</td><td style=\"border: 1px solid rgb(200,200,200);\">25</td><td style=\"border: 1px solid rgb(200,200,200);\">25</td><td style=\"border: 1px solid rgb(200,200,200);\">30</td><td style=\"border: 1px solid rgb(200,200,200);\">Bug</td><td style=\"border: 1px solid rgb(200,200,200);\">None</td></tr><tr><td style=\"border-top: 1px solid #DDD;background-color:#DDD\"></td><td style=\"border: 1px solid rgb(200,200,200);\">...</td><td style=\"border: 1px solid rgb(200,200,200);\">...</td><td style=\"border: 1px solid rgb(200,200,200);\">...</td><td style=\"border: 1px solid rgb(200,200,200);\">...</td><td style=\"border: 1px solid rgb(200,200,200);\">...</td><td style=\"border: 1px solid rgb(200,200,200);\">...</td><td style=\"border: 1px solid rgb(200,200,200);\">...</td><td style=\"border: 1px solid rgb(200,200,200);\">...</td><td style=\"border: 1px solid rgb(200,200,200);\">...</td><td style=\"border: 1px solid rgb(200,200,200);\">...</td><td style=\"border: 1px solid rgb(200,200,200);\">...</td><td style=\"border: 1px solid rgb(200,200,200);\">...</td></tr></table>"
      ],
      "text/plain": [
       "<IPython.core.display.HTML object>"
      ]
     },
     "metadata": {},
     "output_type": "display_data"
    },
    {
     "name": "stdout",
     "output_type": "stream",
     "text": [
      "Name: pokemon, Number of rows: 2, Number of columns: 12\n"
     ]
    }
   ],
   "source": [
    "pokemons.filter(\"(ID=6 or ID=15)\")\n",
    "print(pokemons)\n",
    "pokemons.undo_filter()"
   ]
  },
  {
   "cell_type": "markdown",
   "metadata": {},
   "source": [
    "The fight is between Charmeleon and Metapod. The first one is much more better than the second one. It is then totally obvious that he will win."
   ]
  },
  {
   "cell_type": "markdown",
   "metadata": {},
   "source": [
    "<img src='charmeleon.png' width=\"200px\" style=\"float:left;\">\n",
    "<img src='metapod.png' width=\"200px\">"
   ]
  },
  {
   "cell_type": "markdown",
   "metadata": {},
   "source": [
    "A Pokemon has a regular attack/defense (comparable to physical attack/defense) and a special attack/defense (comparable to psychic attack/defense). He has also one or two types, some life points and a speed. To understand more about pokemons, please read the concerned <a href=\"https://en.wikipedia.org/wiki/Pok%C3%A9mon\">wikipedia</a> page.\n",
    "\n",
    "Let's now enjoy and try to use Vertica-ML-Python + direct SQL to understand a little bit more what we can do using Vertica."
   ]
  },
  {
   "cell_type": "markdown",
   "metadata": {},
   "source": [
    "### <font color='#333333'>1- First Data Exploration<font>\n",
    "\n",
    "During this section, we will focus on one Pokemon and try to understand why he looses/wins his fights. \n",
    "\n",
    "#### <font color='#000000'>1.0- Filter the combats dataset and select only fights were Pokemon ID141 is involved.<font>"
   ]
  },
  {
   "cell_type": "code",
   "execution_count": null,
   "metadata": {},
   "outputs": [],
   "source": []
  },
  {
   "cell_type": "markdown",
   "metadata": {},
   "source": [
    "#### <font color='#000000'>1.1- Print the Pokemon ID141 characteristics.<font>"
   ]
  },
  {
   "cell_type": "code",
   "execution_count": null,
   "metadata": {},
   "outputs": [],
   "source": []
  },
  {
   "cell_type": "markdown",
   "metadata": {},
   "source": [
    "..."
   ]
  },
  {
   "cell_type": "markdown",
   "metadata": {},
   "source": [
    "#### <font color='#000000'>1.2- Create a new feature inside the combats dataset which indicates if Gyarados won the fight or not.<font>"
   ]
  },
  {
   "cell_type": "code",
   "execution_count": null,
   "metadata": {},
   "outputs": [],
   "source": []
  },
  {
   "cell_type": "markdown",
   "metadata": {},
   "source": [
    "#### <font color='#000000'>1.3- Draw the Gyarados results histogram. Are our expectations good?<font>"
   ]
  },
  {
   "cell_type": "code",
   "execution_count": null,
   "metadata": {},
   "outputs": [],
   "source": []
  },
  {
   "cell_type": "markdown",
   "metadata": {},
   "source": [
    "..."
   ]
  },
  {
   "cell_type": "markdown",
   "metadata": {},
   "source": [
    "#### <font color='#000000'>1.4- Look at Gyarados losses. Try to understand why he lost.<font>"
   ]
  },
  {
   "cell_type": "code",
   "execution_count": null,
   "metadata": {},
   "outputs": [],
   "source": []
  },
  {
   "cell_type": "markdown",
   "metadata": {},
   "source": [
    "..."
   ]
  },
  {
   "cell_type": "markdown",
   "metadata": {},
   "source": [
    "### <font color='#333333'>2- First Data Preparation<font>\n",
    "\n",
    "During this section, we will build a table that we will use for prediction. We will only consider the main characteristics except the Pokemon types, generation and the legendary statut. \n",
    "\n",
    "#### <font color='#000000'>2.0- Join the pokemon table to the combats table on First Pokemon and Second Pokemon. Create the new features which will be the difference between Pokemon1 characteristics and Pokemon2 characteristics (for example diff_HP will be Pokemon1.HP-Pokemon2.HP). Redefine the 'Winner' feature as 1 if Pokemon1 won, 0 otherwise.<font>"
   ]
  },
  {
   "cell_type": "code",
   "execution_count": null,
   "metadata": {},
   "outputs": [],
   "source": [
    "%%sql\n"
   ]
  },
  {
   "cell_type": "markdown",
   "metadata": {},
   "source": [
    "#### <font color='#000000'>2.1- Create the RVD of this new table and print the 10 first elements. What do you notice?<font>"
   ]
  },
  {
   "cell_type": "code",
   "execution_count": null,
   "metadata": {},
   "outputs": [],
   "source": []
  },
  {
   "cell_type": "markdown",
   "metadata": {},
   "source": [
    "..."
   ]
  },
  {
   "cell_type": "markdown",
   "metadata": {},
   "source": [
    "#### <font color='#000000'>2.2- Draw the hexbin of diff_HP vs diff_Speed using as aggregation the mean of Winner. Draw the histogram of diff_HP vs Winner. What do you notice?<font>"
   ]
  },
  {
   "cell_type": "code",
   "execution_count": null,
   "metadata": {},
   "outputs": [],
   "source": []
  },
  {
   "cell_type": "markdown",
   "metadata": {},
   "source": [
    "..."
   ]
  },
  {
   "cell_type": "markdown",
   "metadata": {},
   "source": [
    "#### <font color='#000000'>2.3- Which algorithm available on Vertica can you use for this study?<font>"
   ]
  },
  {
   "cell_type": "markdown",
   "metadata": {},
   "source": [
    "..."
   ]
  },
  {
   "cell_type": "markdown",
   "metadata": {},
   "source": [
    "### <font color='#333333'>3- First Model<font>\n",
    "    \n",
    "During this part we will use a logistic regression to predict the Pokemon fight issue.\n",
    "\n",
    "#### <font color='#000000'>3.0- Separate the RVD into two views (train/test).<font>"
   ]
  },
  {
   "cell_type": "code",
   "execution_count": null,
   "metadata": {},
   "outputs": [],
   "source": []
  },
  {
   "cell_type": "markdown",
   "metadata": {},
   "source": [
    "#### <font color='#000000'>3.1- Build a logistic regression model to predict the matches issues.<font>"
   ]
  },
  {
   "cell_type": "code",
   "execution_count": null,
   "metadata": {},
   "outputs": [],
   "source": []
  },
  {
   "cell_type": "markdown",
   "metadata": {},
   "source": [
    "#### <font color='#000000'>3.2- Evaluate the features importance. What do you notice?<font>"
   ]
  },
  {
   "cell_type": "code",
   "execution_count": null,
   "metadata": {},
   "outputs": [],
   "source": []
  },
  {
   "cell_type": "markdown",
   "metadata": {},
   "source": [
    "..."
   ]
  },
  {
   "cell_type": "markdown",
   "metadata": {},
   "source": [
    "#### <font color='#000000'>3.3- Evaluate your model.<font>"
   ]
  },
  {
   "cell_type": "code",
   "execution_count": null,
   "metadata": {},
   "outputs": [],
   "source": []
  },
  {
   "cell_type": "markdown",
   "metadata": {},
   "source": [
    "..."
   ]
  },
  {
   "cell_type": "markdown",
   "metadata": {},
   "source": [
    "### <font color='#333333'>4- Finding other important variables<font>\n",
    "    \n",
    "During this part we will use all the variables except the Pokemon type which is also really important (it needs real modification before the use).\n",
    "\n",
    "#### <font color='#000000'>4.0- Create the exact same table as question 2.0 adding the Pokemon1/2 generation and if he is legendary (4 more features).<font>"
   ]
  },
  {
   "cell_type": "code",
   "execution_count": null,
   "metadata": {},
   "outputs": [],
   "source": [
    "%%sql\n"
   ]
  },
  {
   "cell_type": "markdown",
   "metadata": {},
   "source": [
    "#### <font color='#000000'>4.1- Show that the Generation has no influence on the prediction.<font>"
   ]
  },
  {
   "cell_type": "code",
   "execution_count": null,
   "metadata": {},
   "outputs": [],
   "source": []
  },
  {
   "cell_type": "markdown",
   "metadata": {},
   "source": [
    "..."
   ]
  },
  {
   "cell_type": "markdown",
   "metadata": {},
   "source": [
    "#### <font color='#000000'>4.2- Show the influence of being a legendary Pokemon on the prediction.<font>"
   ]
  },
  {
   "cell_type": "code",
   "execution_count": null,
   "metadata": {},
   "outputs": [],
   "source": []
  },
  {
   "cell_type": "markdown",
   "metadata": {},
   "source": [
    "..."
   ]
  },
  {
   "cell_type": "markdown",
   "metadata": {},
   "source": [
    "### <font color='#333333'>5- The Pokemon's type importance<font>"
   ]
  },
  {
   "cell_type": "markdown",
   "metadata": {},
   "source": [
    "#### <font color='#000000'>5.0- Delete from the table the two unrelevant features and add the Pokemon1/2 main type.<font>"
   ]
  },
  {
   "cell_type": "code",
   "execution_count": null,
   "metadata": {},
   "outputs": [],
   "source": [
    "%%sql\n"
   ]
  },
  {
   "cell_type": "markdown",
   "metadata": {},
   "source": [
    "#### <font color='#000000'>5.1- Using two donut charts, show that the Pokemon1's type and the Pokemon2's type have the same distribution.<font>"
   ]
  },
  {
   "cell_type": "code",
   "execution_count": null,
   "metadata": {},
   "outputs": [],
   "source": []
  },
  {
   "cell_type": "markdown",
   "metadata": {},
   "source": [
    "#### <font color='#000000'>5.2- Create a new table with the new Type1_2 variable which is the concatenation between the Pokemon1 first type and the Pokemon2 first type. If the two type are similar, it is preferable to create a new value 'similar'.<font>"
   ]
  },
  {
   "cell_type": "code",
   "execution_count": null,
   "metadata": {},
   "outputs": [],
   "source": [
    "%%sql\n"
   ]
  },
  {
   "cell_type": "markdown",
   "metadata": {},
   "source": [
    "#### <font color='#000000'>5.3- Create a new RVD of the table and draw a fully stacked bar of the new variable (use the limit_distinct_elements variables to have something visible).<font>"
   ]
  },
  {
   "cell_type": "code",
   "execution_count": null,
   "metadata": {},
   "outputs": [],
   "source": []
  },
  {
   "cell_type": "markdown",
   "metadata": {},
   "source": [
    "#### <font color='#000000'>5.4- Use a label encoding (for space optimization inside the DB) and then a one hot encoder to encode the variable.<font>"
   ]
  },
  {
   "cell_type": "code",
   "execution_count": null,
   "metadata": {},
   "outputs": [],
   "source": []
  },
  {
   "cell_type": "markdown",
   "metadata": {},
   "source": [
    "#### <font color='#000000'>5.5- Save the RVD as a view and build a Logistic Regression Model using the new features (no need to use a test/train as there is no risk of overfitting using these data and logit; you must use BFGS as optimizer). Do not worry, it can take a lot of time.<font>"
   ]
  },
  {
   "cell_type": "code",
   "execution_count": null,
   "metadata": {},
   "outputs": [],
   "source": []
  },
  {
   "cell_type": "markdown",
   "metadata": {},
   "source": [
    "#### <font color='#000000'>5.6- Evaluate your model. What can you say about the method?<font>"
   ]
  },
  {
   "cell_type": "code",
   "execution_count": null,
   "metadata": {},
   "outputs": [],
   "source": []
  },
  {
   "cell_type": "markdown",
   "metadata": {},
   "source": [
    "..."
   ]
  },
  {
   "cell_type": "markdown",
   "metadata": {},
   "source": [
    "#### <font color='#000000'>5.7- We will now use a smarter method. If you don't know the data you are dealing with, it is really hard to create smart features. Each Pokemon has strength and weakness. The following array shows types strength and weakness.<font>\n",
    "    \n",
    "<table border=\"0\" cellspacing=\"0\" cellpadding=\"0\"><colgroup><col span=\"4\" /> </colgroup>\n",
    "<tbody>\n",
    "<tr>\n",
    "<td style=\"text-align: center;\"><strong>Pokemon Type</strong></td>\n",
    "<td style=\"text-align: center;\"><strong>Strong Against</strong></td>\n",
    "<td style=\"text-align: center;\"><strong>Weak Against</strong></td>\n",
    "<td style=\"text-align: center;\"><strong>Other</strong></td>\n",
    "</tr>\n",
    "<tr>\n",
    "<td style=\"text-align: center;\">Bug</td>\n",
    "<td>Dark, Grass, Psychic</td>\n",
    "<td>Fire, Flying, Rock</td>\n",
    "<td style=\"text-align: center;\">N/A</td>\n",
    "</tr>\n",
    "<tr>\n",
    "<td style=\"text-align: center;\">Dark</td>\n",
    "<td>Ghost, Psychic</td>\n",
    "<td>Bug, Fairy, Fight</td>\n",
    "<td>Immune to Psychic</td>\n",
    "</tr>\n",
    "<tr>\n",
    "<td style=\"text-align: center;\">Dragon</td>\n",
    "<td>Dragon</td>\n",
    "<td>Dragon, Fairy, Ice</td>\n",
    "<td>Not Effective Against Fairy</td>\n",
    "</tr>\n",
    "<tr>\n",
    "<td style=\"text-align: center;\">Electric</td>\n",
    "<td>Flying, Water</td>\n",
    "<td>Ground</td>\n",
    "<td>Not Effective Against Ground</td>\n",
    "</tr>\n",
    "<tr>\n",
    "<td style=\"text-align: center;\">Fairy</td>\n",
    "<td>Dark, Dragon, Fight</td>\n",
    "<td>Poison, Steel</td>\n",
    "<td>Immune to Dragon</td>\n",
    "</tr>\n",
    "<tr>\n",
    "<td style=\"text-align: center;\">Fighting</td>\n",
    "<td>Dark, Ice, Normal, Rock, Steel</td>\n",
    "<td>Fairy, Flying, Psychic</td>\n",
    "<td>Not Effective Against Ghost</td>\n",
    "</tr>\n",
    "<tr>\n",
    "<td style=\"text-align: center;\">Fire</td>\n",
    "<td>Bug, Grass, Ice, Steel</td>\n",
    "<td>Ground, Rock, Water</td>\n",
    "<td style=\"text-align: center;\">N/A</td>\n",
    "</tr>\n",
    "<tr>\n",
    "<td style=\"text-align: center;\">Flying</td>\n",
    "<td>Bug, Fight, Grass</td>\n",
    "<td>Electric, Ice, Rock</td>\n",
    "<td>Immune to Ground</td>\n",
    "</tr>\n",
    "<tr>\n",
    "<td style=\"text-align: center;\">Ghost</td>\n",
    "<td>Ghost, Psychic</td>\n",
    "<td>Dark, Ghost</td>\n",
    "<td>Immune to Fight, Normal; Not Effective Against Normal</td>\n",
    "</tr>\n",
    "<tr>\n",
    "<td style=\"text-align: center;\">Grass</td>\n",
    "<td>Ground, Rock, Water</td>\n",
    "<td>Bug, Fire, Flying, Ice, Poison</td>\n",
    "<td style=\"text-align: center;\">N/A</td>\n",
    "</tr>\n",
    "<tr>\n",
    "<td style=\"text-align: center;\">Ground</td>\n",
    "<td>Electric, Fire, Poison, Rock, Steel</td>\n",
    "<td>Grass, Ice, Water</td>\n",
    "<td>Immune to Electric; Not Effective Against Flying</td>\n",
    "</tr>\n",
    "<tr>\n",
    "<td style=\"text-align: center;\">Ice</td>\n",
    "<td>Dragon, Flying, Grass, Ground</td>\n",
    "<td>Fight, Fire, Rock, Steel</td>\n",
    "<td style=\"text-align: center;\">N/A</td>\n",
    "</tr>\n",
    "<tr>\n",
    "<td style=\"text-align: center;\">Normal</td>\n",
    "<td>None</td>\n",
    "<td>Fight</td>\n",
    "<td>Immune to Ghost; Not Effective Against Ghost</td>\n",
    "</tr>\n",
    "<tr>\n",
    "<td style=\"text-align: center;\">Poison</td>\n",
    "<td>Fairy, Grass</td>\n",
    "<td>Ground, Psychic</td>\n",
    "<td>Not Effective Against Steel</td>\n",
    "</tr>\n",
    "<tr>\n",
    "<td style=\"text-align: center;\">Psychic</td>\n",
    "<td>Fight, Poison</td>\n",
    "<td>Bug, Dark, Ghost</td>\n",
    "<td>Not Effective Against Dark</td>\n",
    "</tr>\n",
    "<tr>\n",
    "<td style=\"text-align: center;\">Rock</td>\n",
    "<td>Bug, Fire, Flying, Ice</td>\n",
    "<td>Fight, Grass, Ground, Steel, Water</td>\n",
    "<td style=\"text-align: center;\">N/A</td>\n",
    "</tr>\n",
    "<tr>\n",
    "<td style=\"text-align: center;\">Steel</td>\n",
    "<td>Fairy, Ice, Rock</td>\n",
    "<td>Fight, Fire, Ground</td>\n",
    "<td>Immune to Poison</td>\n",
    "</tr>\n",
    "<tr>\n",
    "<td style=\"text-align: center;\">Water</td>\n",
    "<td>Fire, Ground, Rock</td>\n",
    "<td>Electric, Grass</td>\n",
    "<td style=\"text-align: center;\">N/A</td>\n",
    "</tr>\n",
    "</tbody>\n",
    "</table>\n",
    "#### <font color='#000000'>Having these information, we can build new interesting features as follow.<font>"
   ]
  },
  {
   "cell_type": "code",
   "execution_count": 44,
   "metadata": {
    "scrolled": true
   },
   "outputs": [
    {
     "name": "stdout",
     "output_type": "stream",
     "text": [
      "18 rows affected.\n"
     ]
    },
    {
     "data": {
      "text/html": [
       "<table>\n",
       "    <tr>\n",
       "        <th>Type_1</th>\n",
       "    </tr>\n",
       "    <tr>\n",
       "        <td>Ghost</td>\n",
       "    </tr>\n",
       "    <tr>\n",
       "        <td>Poison</td>\n",
       "    </tr>\n",
       "    <tr>\n",
       "        <td>Rock</td>\n",
       "    </tr>\n",
       "    <tr>\n",
       "        <td>Fighting</td>\n",
       "    </tr>\n",
       "    <tr>\n",
       "        <td>Psychic</td>\n",
       "    </tr>\n",
       "    <tr>\n",
       "        <td>Flying</td>\n",
       "    </tr>\n",
       "    <tr>\n",
       "        <td>Ice</td>\n",
       "    </tr>\n",
       "    <tr>\n",
       "        <td>Water</td>\n",
       "    </tr>\n",
       "    <tr>\n",
       "        <td>Fairy</td>\n",
       "    </tr>\n",
       "    <tr>\n",
       "        <td>Normal</td>\n",
       "    </tr>\n",
       "    <tr>\n",
       "        <td>Electric</td>\n",
       "    </tr>\n",
       "    <tr>\n",
       "        <td>Bug</td>\n",
       "    </tr>\n",
       "    <tr>\n",
       "        <td>Ground</td>\n",
       "    </tr>\n",
       "    <tr>\n",
       "        <td>Fire</td>\n",
       "    </tr>\n",
       "    <tr>\n",
       "        <td>Dragon</td>\n",
       "    </tr>\n",
       "    <tr>\n",
       "        <td>Steel</td>\n",
       "    </tr>\n",
       "    <tr>\n",
       "        <td>Grass</td>\n",
       "    </tr>\n",
       "    <tr>\n",
       "        <td>Dark</td>\n",
       "    </tr>\n",
       "</table>"
      ],
      "text/plain": [
       "[('Ghost',),\n",
       " ('Poison',),\n",
       " ('Rock',),\n",
       " ('Fighting',),\n",
       " ('Psychic',),\n",
       " ('Flying',),\n",
       " ('Ice',),\n",
       " ('Water',),\n",
       " ('Fairy',),\n",
       " ('Normal',),\n",
       " ('Electric',),\n",
       " ('Bug',),\n",
       " ('Ground',),\n",
       " ('Fire',),\n",
       " ('Dragon',),\n",
       " ('Steel',),\n",
       " ('Grass',),\n",
       " ('Dark',)]"
      ]
     },
     "execution_count": 44,
     "metadata": {},
     "output_type": "execute_result"
    }
   ],
   "source": [
    "%%sql\n",
    "--Printing the types\n",
    "select Type_1 from pokemon group by 1;"
   ]
  },
  {
   "cell_type": "code",
   "execution_count": 55,
   "metadata": {},
   "outputs": [
    {
     "name": "stdout",
     "output_type": "stream",
     "text": [
      "Done.\n",
      "Done.\n"
     ]
    },
    {
     "data": {
      "text/plain": [
       "[]"
      ]
     },
     "execution_count": 55,
     "metadata": {},
     "output_type": "execute_result"
    }
   ],
   "source": [
    "%%sql\n",
    "drop table if exists pokemon_combats;\n",
    "create table pokemon_combats as\n",
    "    select \n",
    "        Name1,\n",
    "        Name as Name2,\n",
    "        Legendary1::int,\n",
    "        Legendary::int as Legendary2,\n",
    "        (case \n",
    "             --Bug\n",
    "             when Pokemon1_Type_1='Bug' and (Type_1='Dark' or Type_1='Grass' or Type_1='Psychic') then 2\n",
    "             when Pokemon1_Type_1='Bug' and (Type_2='Dark' or Type_2='Grass' or Type_2='Psychic') then 1\n",
    "             when Pokemon1_Type_1='Bug' and (Type_1='Fire' or Type_1='Flying' or Type_1='Rock') then -2\n",
    "             when Pokemon1_Type_1='Bug' and (Type_2='Fire' or Type_2='Flying' or Type_2='Rock') then -1  \n",
    "             --Dark\n",
    "             when Pokemon1_Type_1='Dark' and Type_1='Psychic' then 3\n",
    "             when Pokemon1_Type_1='Dark' and (Type_1='Ghost' or Type_2='Psychic') then 2\n",
    "             when Pokemon1_Type_1='Dark' and (Type_2='Ghost') then 1\n",
    "             when Pokemon1_Type_1='Dark' and (Type_1='Bug' or Type_1='Fairy' or Type_1='Fighting') then -2\n",
    "             when Pokemon1_Type_1='Dark' and (Type_2='Bug' or Type_2='Fairy' or Type_2='Fighting') then -1\n",
    "             --Dragon\n",
    "             when Pokemon1_Type_1='Dragon' and Type_1='Fairy' then -3\n",
    "             when Pokemon1_Type_1='Dragon' and (Type_1='Ice' or Type_2='Fairy') then -2\n",
    "             when Pokemon1_Type_1='Dragon' and Type_2='Fairy' then -1\n",
    "             --Electric\n",
    "             when Pokemon1_Type_1='Electric' and (Type_1='Flying' or Type_1='Water') then 2\n",
    "             when Pokemon1_Type_1='Electric' and (Type_2='Flying' or Type_2='Water') then 1\n",
    "             when Pokemon1_Type_1='Electric' and Type_1='Ground' then -3\n",
    "             when Pokemon1_Type_1='Electric' and Type_2='Ground' then -2\n",
    "             --Fairy\n",
    "             when Pokemon1_Type_1='Fairy' and Type_1='Dragon' then 3\n",
    "             when Pokemon1_Type_1='Fairy' and (Type_1='Dark' or Type_2='Dragon' or Type_1='Fighting') then 2\n",
    "             when Pokemon1_Type_1='Fairy' and (Type_2='Dark' or Type_2='Fighting') then 1\n",
    "             when Pokemon1_Type_1='Fairy' and (Type_1='Poison' or Type_1='Steel') then -2\n",
    "             when Pokemon1_Type_1='Fairy' and (Type_2='Poison' or Type_2='Steel') then -1\n",
    "             --Fighting\n",
    "             when Pokemon1_Type_1='Fighting' and (Type_1='Dark' or Type_1='Ice' or Type_1='Normal' or Type_1='Rock' or Type_1='Steel') then 2\n",
    "             when Pokemon1_Type_1='Fighting' and (Type_2='Dark' or Type_2='Ice' or Type_2='Normal' or Type_2='Rock' or Type_2='Steel') then 1\n",
    "             when Pokemon1_Type_1='Fighting' and (Type_1='Fairy' or Type_1='Flying' or Type_1='Psychic' or Type_2='Ghost') then -2\n",
    "             when Pokemon1_Type_1='Fighting' and (Type_2='Fairy' or Type_2='Flying' or Type_2='Psychic') then -1\n",
    "             when Pokemon1_Type_1='Fighting' and Type_1='Ghost' then -3\n",
    "             --Fire\n",
    "             when Pokemon1_Type_1='Fire' and (Type_1='Bug' or Type_1='Grass' or Type_1='Ice' or Type_1='Steel') then 2\n",
    "             when Pokemon1_Type_1='Fire' and (Type_2='Bug' or Type_2='Grass' or Type_2='Ice' or Type_2='Steel') then 1\n",
    "             when Pokemon1_Type_1='Fire' and (Type_1='Ground' or Type_1='Rock' or Type_1='Water') then -2\n",
    "             when Pokemon1_Type_1='Fire' and (Type_2='Ground' or Type_2='Rock' or Type_2='Water') then -1\n",
    "             --Flying\n",
    "             when Pokemon1_Type_1='Flying' and Type_1='Ground' then 3\n",
    "             when Pokemon1_Type_1='Flying' and (Type_1='Bug' or Type_1='Fighting' or Type_1='Grass' or Type_2='Ground') then 2\n",
    "             when Pokemon1_Type_1='Flying' and (Type_2='Bug' or Type_2='Fighting' or Type_2='Grass') then 1\n",
    "             when Pokemon1_Type_1='Flying' and (Type_1='Electric' or Type_1='Ice' or Type_1='Rock') then -2\n",
    "             when Pokemon1_Type_1='Flying' and (Type_2='Electric' or Type_2='Ice' or Type_2='Rock') then -1\n",
    "             --Ghost\n",
    "             when Pokemon1_Type_1='Ghost' and Type_1='Fighting' then 3\n",
    "             when Pokemon1_Type_1='Ghost' and (Type_1='Psychic' or Type_2='Fighting') then 2\n",
    "             when Pokemon1_Type_1='Ghost' and Type_2='Psychic' then 1\n",
    "             when Pokemon1_Type_1='Ghost' and Type_1='Dark' then -2\n",
    "             when Pokemon1_Type_1='Ghost' and Type_2='Dark' then -1\n",
    "             --Grass\n",
    "             when Pokemon1_Type_1='Grass' and (Type_1='Ground' or Type_1='Rock' or Type_1='Water') then 2\n",
    "             when Pokemon1_Type_1='Grass' and (Type_2='Ground' or Type_2='Rock' or Type_2='Water') then 1\n",
    "             when Pokemon1_Type_1='Grass' and (Type_1='Bug' or Type_1='Fire' or Type_1='Flying' or Type_1='Ice' or Type_1='Poison') then -2\n",
    "             when Pokemon1_Type_1='Grass' and (Type_2='Bug' or Type_2='Fire' or Type_2='Flying' or Type_2='Ice' or Type_2='Poison') then -1\n",
    "             --Ground\n",
    "             when Pokemon1_Type_1='Ground' and Type_1='Electric' then 3\n",
    "             when Pokemon1_Type_1='Ground' and (Type_1='Fire' or Type_1='Poison' or Type_1='Rock' or Type_1='Steel' or Type_2='Electric') then 2\n",
    "             when Pokemon1_Type_1='Ground' and (Type_2='Fire' or Type_2='Poison' or Type_2='Rock' or Type_2='Steel') then 1\n",
    "             when Pokemon1_Type_1='Ground' and Type_1='Flying' then -3\n",
    "             when Pokemon1_Type_1='Ground' and (Type_1='Grass' or Type_1='Ice' or Type_1='Water' or Type_2='Flying') then -2\n",
    "             when Pokemon1_Type_1='Ground' and (Type_2='Grass' or Type_2='Ice' or Type_2='Water') then -1\n",
    "             --Ice\n",
    "             when Pokemon1_Type_1='Ice' and (Type_1='Dragon' or Type_1='Flying' or Type_1='Grass' or Type_1='Ground') then 2\n",
    "             when Pokemon1_Type_1='Ice' and (Type_2='Dragon' or Type_2='Flying' or Type_2='Grass' or Type_2='Ground') then 1\n",
    "             when Pokemon1_Type_1='Ice' and (Type_1='Fighting' or Type_1='Fire' or Type_1='Rock' or Type_1='Steel') then -2\n",
    "             when Pokemon1_Type_1='Ice' and (Type_2='Fighting' or Type_2='Fire' or Type_2='Rock' or Type_1='Steel') then -1            \n",
    "             --Normal\n",
    "             when Pokemon1_Type_1='Normal' and Type_1='Ghost' then 3\n",
    "             when Pokemon1_Type_1='Normal' and Type_2='Ghost' then 2\n",
    "             when Pokemon1_Type_1='Normal' and Type_1='Fighting' then -2\n",
    "             when Pokemon1_Type_1='Normal' and Type_2='Fighting' then -1             \n",
    "             --Poison\n",
    "             when Pokemon1_Type_1='Poison' and (Type_1='Fairy' or Type_1='Grass') then 2\n",
    "             when Pokemon1_Type_1='Poison' and (Type_2='Fairy' or Type_2='Grass') then 1\n",
    "             when Pokemon1_Type_1='Poison' and (Type_1='Ground' or Type_1='Psychic' or Type_2='Steel') then -2\n",
    "             when Pokemon1_Type_1='Poison' and (Type_2='Ground' or Type_2='Psychic') then -1\n",
    "             when Pokemon1_Type_1='Poison' and Type_1='Steel' then -3            \n",
    "             --Psychic\n",
    "             when Pokemon1_Type_1='Psychic' and (Type_1='Fighting' or Type_1='Poison') then 2\n",
    "             when Pokemon1_Type_1='Psychic' and (Type_2='Fighting' or Type_2='Poison') then 1\n",
    "             when Pokemon1_Type_1='Psychic' and (Type_1='Bug' or Type_1='Ghost' or Type_2='Dark') then -2\n",
    "             when Pokemon1_Type_1='Psychic' and (Type_2='Bug' or Type_2='Ghost') then -1\n",
    "             when Pokemon1_Type_1='Psychic' and Type_1='Dark' then -3\n",
    "             --Rock\n",
    "             when Pokemon1_Type_1='Rock' and (Type_1='Bug' or Type_1='Fire' or Type_1='Flying' or Type_1='Ice') then 2\n",
    "             when Pokemon1_Type_1='Rock' and (Type_2='Bug' or Type_2='Fire' or Type_2='Flying' or Type_2='Ice') then 1\n",
    "             when Pokemon1_Type_1='Rock' and (Type_1='Fighting' or Type_1='Grass' or Type_1='Ground' or Type_1='Steel' or Type_1='Water') then -2\n",
    "             when Pokemon1_Type_1='Rock' and (Type_2='Fighting' or Type_2='Grass' or Type_2='Ground' or Type_2='Steel' or Type_2='Water') then -1\n",
    "             --Steel\n",
    "             when Pokemon1_Type_1='Steel' and Type_1='Poison' then 3\n",
    "             when Pokemon1_Type_1='Steel' and (Type_1='Fairy' or Type_1='Ice' or Type_1='Rock' or Type_2='Poison') then 2\n",
    "             when Pokemon1_Type_1='Steel' and (Type_2='Fairy' or Type_2='Ice' or Type_2='Rock') then 1\n",
    "             when Pokemon1_Type_1='Steel' and (Type_1='Fighting' or Type_1='Fire' or Type_1='Ground') then -2\n",
    "             when Pokemon1_Type_1='Steel' and (Type_2='Fighting' or Type_2='Fire' or Type_2='Ground') then -1            \n",
    "             --Water\n",
    "             when Pokemon1_Type_1='Water' and (Type_1='Fire' or Type_1='Ground' or Type_1='Rock') then 2\n",
    "             when Pokemon1_Type_1='Water' and (Type_2='Fire' or Type_2='Ground' or Type_2='Rock') then 1\n",
    "             when Pokemon1_Type_1='Water' and (Type_1='Electric' or Type_1='Grass') then -2\n",
    "             when Pokemon1_Type_1='Water' and (Type_2='Electric' or Type_2='Grass') then -1\n",
    "             --Else\n",
    "             else 0\n",
    "         end) as Type1,\n",
    "        (case \n",
    "             --Bug\n",
    "             when Pokemon1_Type_2='Bug' and (Type_1='Dark' or Type_1='Grass' or Type_1='Psychic') then 2\n",
    "             when Pokemon1_Type_2='Bug' and (Type_2='Dark' or Type_2='Grass' or Type_2='Psychic') then 1\n",
    "             when Pokemon1_Type_2='Bug' and (Type_1='Fire' or Type_1='Flying' or Type_1='Rock') then -2\n",
    "             when Pokemon1_Type_2='Bug' and (Type_2='Fire' or Type_2='Flying' or Type_2='Rock') then -1  \n",
    "             --Dark\n",
    "             when Pokemon1_Type_2='Dark' and Type_1='Psychic' then 3\n",
    "             when Pokemon1_Type_2='Dark' and (Type_1='Ghost' or Type_2='Psychic') then 2\n",
    "             when Pokemon1_Type_2='Dark' and (Type_2='Ghost') then 1\n",
    "             when Pokemon1_Type_2='Dark' and (Type_1='Bug' or Type_1='Fairy' or Type_1='Fighting') then -2\n",
    "             when Pokemon1_Type_2='Dark' and (Type_2='Bug' or Type_2='Fairy' or Type_2='Fighting') then -1\n",
    "             --Dragon\n",
    "             when Pokemon1_Type_2='Dragon' and Type_1='Fairy' then -3\n",
    "             when Pokemon1_Type_2='Dragon' and (Type_1='Ice' or Type_2='Fairy') then -2\n",
    "             when Pokemon1_Type_2='Dragon' and Type_2='Fairy' then -1\n",
    "             --Electric\n",
    "             when Pokemon1_Type_2='Electric' and (Type_1='Flying' or Type_1='Water') then 2\n",
    "             when Pokemon1_Type_2='Electric' and (Type_2='Flying' or Type_2='Water') then 1\n",
    "             when Pokemon1_Type_2='Electric' and Type_1='Ground' then -3\n",
    "             when Pokemon1_Type_2='Electric' and Type_2='Ground' then -2\n",
    "             --Fairy\n",
    "             when Pokemon1_Type_2='Fairy' and Type_1='Dragon' then 3\n",
    "             when Pokemon1_Type_2='Fairy' and (Type_1='Dark' or Type_2='Dragon' or Type_1='Fighting') then 2\n",
    "             when Pokemon1_Type_2='Fairy' and (Type_2='Dark' or Type_2='Fighting') then 1\n",
    "             when Pokemon1_Type_2='Fairy' and (Type_1='Poison' or Type_1='Steel') then -2\n",
    "             when Pokemon1_Type_2='Fairy' and (Type_2='Poison' or Type_2='Steel') then -1\n",
    "             --Fighting\n",
    "             when Pokemon1_Type_2='Fighting' and (Type_1='Dark' or Type_1='Ice' or Type_1='Normal' or Type_1='Rock' or Type_1='Steel') then 2\n",
    "             when Pokemon1_Type_2='Fighting' and (Type_2='Dark' or Type_2='Ice' or Type_2='Normal' or Type_2='Rock' or Type_2='Steel') then 1\n",
    "             when Pokemon1_Type_2='Fighting' and (Type_1='Fairy' or Type_1='Flying' or Type_1='Psychic' or Type_2='Ghost') then -2\n",
    "             when Pokemon1_Type_2='Fighting' and (Type_2='Fairy' or Type_2='Flying' or Type_2='Psychic') then -1\n",
    "             when Pokemon1_Type_2='Fighting' and Type_1='Ghost' then -3\n",
    "             --Fire\n",
    "             when Pokemon1_Type_2='Fire' and (Type_1='Bug' or Type_1='Grass' or Type_1='Ice' or Type_1='Steel') then 2\n",
    "             when Pokemon1_Type_2='Fire' and (Type_2='Bug' or Type_2='Grass' or Type_2='Ice' or Type_2='Steel') then 1\n",
    "             when Pokemon1_Type_2='Fire' and (Type_1='Ground' or Type_1='Rock' or Type_1='Water') then -2\n",
    "             when Pokemon1_Type_2='Fire' and (Type_2='Ground' or Type_2='Rock' or Type_2='Water') then -1\n",
    "             --Flying\n",
    "             when Pokemon1_Type_2='Flying' and Type_1='Ground' then 3\n",
    "             when Pokemon1_Type_2='Flying' and (Type_1='Bug' or Type_1='Fighting' or Type_1='Grass' or Type_2='Ground') then 2\n",
    "             when Pokemon1_Type_2='Flying' and (Type_2='Bug' or Type_2='Fighting' or Type_2='Grass') then 1\n",
    "             when Pokemon1_Type_2='Flying' and (Type_1='Electric' or Type_1='Ice' or Type_1='Rock') then -2\n",
    "             when Pokemon1_Type_2='Flying' and (Type_2='Electric' or Type_2='Ice' or Type_2='Rock') then -1\n",
    "             --Ghost\n",
    "             when Pokemon1_Type_2='Ghost' and Type_1='Fighting' then 3\n",
    "             when Pokemon1_Type_2='Ghost' and (Type_1='Psychic' or Type_2='Fighting') then 2\n",
    "             when Pokemon1_Type_2='Ghost' and Type_2='Psychic' then 1\n",
    "             when Pokemon1_Type_2='Ghost' and Type_1='Dark' then -2\n",
    "             when Pokemon1_Type_2='Ghost' and Type_2='Dark' then -1\n",
    "             --Grass\n",
    "             when Pokemon1_Type_2='Grass' and (Type_1='Ground' or Type_1='Rock' or Type_1='Water') then 2\n",
    "             when Pokemon1_Type_2='Grass' and (Type_2='Ground' or Type_2='Rock' or Type_2='Water') then 1\n",
    "             when Pokemon1_Type_2='Grass' and (Type_1='Bug' or Type_1='Fire' or Type_1='Flying' or Type_1='Ice' or Type_1='Poison') then -2\n",
    "             when Pokemon1_Type_2='Grass' and (Type_2='Bug' or Type_2='Fire' or Type_2='Flying' or Type_2='Ice' or Type_2='Poison') then -1\n",
    "             --Ground\n",
    "             when Pokemon1_Type_2='Ground' and Type_1='Electric' then 3\n",
    "             when Pokemon1_Type_2='Ground' and (Type_1='Fire' or Type_1='Poison' or Type_1='Rock' or Type_1='Steel' or Type_2='Electric') then 2\n",
    "             when Pokemon1_Type_2='Ground' and (Type_2='Fire' or Type_2='Poison' or Type_2='Rock' or Type_2='Steel') then 1\n",
    "             when Pokemon1_Type_2='Ground' and Type_1='Flying' then -3\n",
    "             when Pokemon1_Type_2='Ground' and (Type_1='Grass' or Type_1='Ice' or Type_1='Water' or Type_2='Flying') then -2\n",
    "             when Pokemon1_Type_2='Ground' and (Type_2='Grass' or Type_2='Ice' or Type_2='Water') then -1\n",
    "             --Ice\n",
    "             when Pokemon1_Type_2='Ice' and (Type_1='Dragon' or Type_1='Flying' or Type_1='Grass' or Type_1='Ground') then 2\n",
    "             when Pokemon1_Type_2='Ice' and (Type_2='Dragon' or Type_2='Flying' or Type_2='Grass' or Type_2='Ground') then 1\n",
    "             when Pokemon1_Type_2='Ice' and (Type_1='Fighting' or Type_1='Fire' or Type_1='Rock' or Type_1='Steel') then -2\n",
    "             when Pokemon1_Type_2='Ice' and (Type_2='Fighting' or Type_2='Fire' or Type_2='Rock' or Type_1='Steel') then -1            \n",
    "             --Normal\n",
    "             when Pokemon1_Type_2='Normal' and Type_1='Ghost' then 3\n",
    "             when Pokemon1_Type_2='Normal' and Type_2='Ghost' then 2\n",
    "             when Pokemon1_Type_2='Normal' and Type_1='Fighting' then -2\n",
    "             when Pokemon1_Type_2='Normal' and Type_2='Fighting' then -1             \n",
    "             --Poison\n",
    "             when Pokemon1_Type_2='Poison' and (Type_1='Fairy' or Type_1='Grass') then 2\n",
    "             when Pokemon1_Type_2='Poison' and (Type_2='Fairy' or Type_2='Grass') then 1\n",
    "             when Pokemon1_Type_2='Poison' and (Type_1='Ground' or Type_1='Psychic' or Type_2='Steel') then -2\n",
    "             when Pokemon1_Type_2='Poison' and (Type_2='Ground' or Type_2='Psychic') then -1\n",
    "             when Pokemon1_Type_2='Poison' and Type_1='Steel' then -3            \n",
    "             --Psychic\n",
    "             when Pokemon1_Type_2='Psychic' and (Type_1='Fighting' or Type_1='Poison') then 2\n",
    "             when Pokemon1_Type_2='Psychic' and (Type_2='Fighting' or Type_2='Poison') then 1\n",
    "             when Pokemon1_Type_2='Psychic' and (Type_1='Bug' or Type_1='Ghost' or Type_2='Dark') then -2\n",
    "             when Pokemon1_Type_2='Psychic' and (Type_2='Bug' or Type_2='Ghost') then -1\n",
    "             when Pokemon1_Type_2='Psychic' and Type_1='Dark' then -3\n",
    "             --Rock\n",
    "             when Pokemon1_Type_2='Rock' and (Type_1='Bug' or Type_1='Fire' or Type_1='Flying' or Type_1='Ice') then 2\n",
    "             when Pokemon1_Type_2='Rock' and (Type_2='Bug' or Type_2='Fire' or Type_2='Flying' or Type_2='Ice') then 1\n",
    "             when Pokemon1_Type_2='Rock' and (Type_1='Fighting' or Type_1='Grass' or Type_1='Ground' or Type_1='Steel' or Type_1='Water') then -2\n",
    "             when Pokemon1_Type_2='Rock' and (Type_2='Fighting' or Type_2='Grass' or Type_2='Ground' or Type_2='Steel' or Type_2='Water') then -1\n",
    "             --Steel\n",
    "             when Pokemon1_Type_2='Steel' and Type_1='Poison' then 3\n",
    "             when Pokemon1_Type_2='Steel' and (Type_1='Fairy' or Type_1='Ice' or Type_1='Rock' or Type_2='Poison') then 2\n",
    "             when Pokemon1_Type_2='Steel' and (Type_2='Fairy' or Type_2='Ice' or Type_2='Rock') then 1\n",
    "             when Pokemon1_Type_2='Steel' and (Type_1='Fighting' or Type_1='Fire' or Type_1='Ground') then -2\n",
    "             when Pokemon1_Type_2='Steel' and (Type_2='Fighting' or Type_2='Fire' or Type_2='Ground') then -1            \n",
    "             --Water\n",
    "             when Pokemon1_Type_2='Water' and (Type_1='Fire' or Type_1='Ground' or Type_1='Rock') then 2\n",
    "             when Pokemon1_Type_2='Water' and (Type_2='Fire' or Type_2='Ground' or Type_2='Rock') then 1\n",
    "             when Pokemon1_Type_2='Water' and (Type_1='Electric' or Type_1='Grass') then -2\n",
    "             when Pokemon1_Type_2='Water' and (Type_2='Electric' or Type_2='Grass') then -1\n",
    "             --Else\n",
    "             else 0\n",
    "         end) as Type2,\n",
    "        x.HP-pokemon.HP as diff_HP,\n",
    "        x.Speed-pokemon.Speed as diff_Speed,\n",
    "        x.Attack-pokemon.Attack as diff_Attack,\n",
    "        x.Defense-pokemon.Defense as diff_Defense,\n",
    "        x.Sp_Atk-pokemon.Sp_Atk as diff_Sp_Atk,\n",
    "        x.Sp_Def-pokemon.Sp_Def as diff_Sp_Def,\n",
    "        x.Winner::int\n",
    "    from\n",
    "        (select\n",
    "            Name as Name1,\n",
    "            Second_Pokemon,\n",
    "            Winner=First_Pokemon::int as Winner,\n",
    "            Attack,\n",
    "            Defense,\n",
    "            HP,\n",
    "            Sp_Atk,\n",
    "            Sp_Def,\n",
    "            Speed,\n",
    "            Legendary as Legendary1,\n",
    "            Type_1 as Pokemon1_Type_1,\n",
    "            Type_2 as Pokemon1_Type_2\n",
    "        from combats left join pokemon on combats.First_pokemon=pokemon.ID) x\n",
    "        left join pokemon on x.Second_Pokemon=pokemon.ID;"
   ]
  },
  {
   "cell_type": "markdown",
   "metadata": {},
   "source": [
    "#### <font color='#000000'>Try to understand the new variables. Why data preparation is so important?<font>"
   ]
  },
  {
   "cell_type": "markdown",
   "metadata": {},
   "source": [
    "..."
   ]
  },
  {
   "cell_type": "markdown",
   "metadata": {},
   "source": [
    "#### <font color='#000000'>5.8- Draw an hexbin Plot of Type1 vs Type2 (the two new variables). Why will they not help to improve the model?<font>"
   ]
  },
  {
   "cell_type": "code",
   "execution_count": null,
   "metadata": {},
   "outputs": [],
   "source": []
  },
  {
   "cell_type": "markdown",
   "metadata": {},
   "source": [
    "..."
   ]
  },
  {
   "cell_type": "markdown",
   "metadata": {},
   "source": [
    "### <font color='#333333'>6- A final algorithm<font>\n",
    "    \n",
    "During this part, we will use the most adapted algorithm and try to optimize it.\n",
    "\n",
    "#### <font color='#000000'>6.0- Which Vertica ML algorithm is the most adapted to the use-case?<font>"
   ]
  },
  {
   "cell_type": "markdown",
   "metadata": {},
   "source": [
    "..."
   ]
  },
  {
   "cell_type": "markdown",
   "metadata": {},
   "source": [
    "#### <font color='#000000'>6.1- Build a new table for the ML algorithm you will use.<font>"
   ]
  },
  {
   "cell_type": "code",
   "execution_count": null,
   "metadata": {},
   "outputs": [],
   "source": [
    "%%sql\n"
   ]
  },
  {
   "cell_type": "markdown",
   "metadata": {},
   "source": [
    "#### <font color='#000000'>6.2- Split your data into train/test sets.<font>"
   ]
  },
  {
   "cell_type": "code",
   "execution_count": null,
   "metadata": {},
   "outputs": [],
   "source": []
  },
  {
   "cell_type": "markdown",
   "metadata": {},
   "source": [
    "#### <font color='#000000'>6.3- Create your model using default parameters.<font>"
   ]
  },
  {
   "cell_type": "code",
   "execution_count": null,
   "metadata": {},
   "outputs": [],
   "source": []
  },
  {
   "cell_type": "markdown",
   "metadata": {},
   "source": [
    "#### <font color='#000000'>6.4- Evaluate your model.<font>"
   ]
  },
  {
   "cell_type": "code",
   "execution_count": null,
   "metadata": {},
   "outputs": [],
   "source": []
  },
  {
   "cell_type": "markdown",
   "metadata": {},
   "source": [
    "..."
   ]
  },
  {
   "cell_type": "markdown",
   "metadata": {},
   "source": [
    "#### <font color='#000000'>6.5- Improve your model (parameters tuning). Becareful of overfitting!<font>"
   ]
  },
  {
   "cell_type": "code",
   "execution_count": null,
   "metadata": {},
   "outputs": [],
   "source": []
  },
  {
   "cell_type": "markdown",
   "metadata": {},
   "source": [
    "..."
   ]
  },
  {
   "cell_type": "markdown",
   "metadata": {},
   "source": [
    "#### <font color='#000000'>6.6- Add the prediction to the RVD and analyse wrong predictions.<font>"
   ]
  },
  {
   "cell_type": "code",
   "execution_count": null,
   "metadata": {},
   "outputs": [],
   "source": []
  },
  {
   "cell_type": "markdown",
   "metadata": {},
   "source": [
    "..."
   ]
  },
  {
   "cell_type": "markdown",
   "metadata": {},
   "source": [
    "### <font color='#333333'>7- Your impressions.<font>\n",
    "\n",
    "Your last task is to send me your impressions of the library with the subject \"[Vertica-ML-Python] My impressions\". I want to personally thank you for finishing this first homework. Most valuable companies always have highly skilled persons. Vertica is one of those and it needs to always create and innovate.\n",
    "\n",
    "### <font color='#1e90ff'>To contact me<font>\n",
    "\n",
    "<b>@: </b><a href=\"mailto:badr.ouali@microfocus.com\">badr.ouali@microfocus.com</a><br>\n",
    "<b>In: </b><a href=\"https://www.linkedin.com/in/badr-ouali/\">badr-ouali</a>"
   ]
  }
 ],
 "metadata": {
  "kernelspec": {
   "display_name": "Python 3",
   "language": "python",
   "name": "python3"
  },
  "language_info": {
   "codemirror_mode": {
    "name": "ipython",
    "version": 3
   },
   "file_extension": ".py",
   "mimetype": "text/x-python",
   "name": "python",
   "nbconvert_exporter": "python",
   "pygments_lexer": "ipython3",
   "version": "3.6.3"
  }
 },
 "nbformat": 4,
 "nbformat_minor": 2
}
